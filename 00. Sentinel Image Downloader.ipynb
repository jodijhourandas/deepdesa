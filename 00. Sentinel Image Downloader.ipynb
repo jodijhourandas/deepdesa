{
 "cells": [
  {
   "cell_type": "code",
   "execution_count": 1,
   "id": "76f7fdd0-ef31-4b9b-902d-f147aa237ecd",
   "metadata": {},
   "outputs": [],
   "source": [
    "import numpy as np\n",
    "import geopandas as gpd\n",
    "import matplotlib.pyplot as plt\n",
    "import os\n",
    "import rasterio\n",
    "from rasterio import plot\n",
    "from rasterio.plot import show\n",
    "from rasterio.mask import mask\n",
    "import os\n",
    "from shapely.geometry import Polygon"
   ]
  },
  {
   "cell_type": "code",
   "execution_count": 96,
   "id": "2d39b501-066b-4c7b-b2b1-938364fdadf5",
   "metadata": {},
   "outputs": [],
   "source": [
    "from IPython.display import clear_output"
   ]
  },
  {
   "cell_type": "code",
   "execution_count": 17,
   "id": "5ceb8df7-3c63-4f0f-ad2c-917bbafc9669",
   "metadata": {},
   "outputs": [
    {
     "name": "stderr",
     "output_type": "stream",
     "text": [
      "C:\\Users\\jwst2\\anaconda3\\envs\\datasc\\lib\\site-packages\\paramiko\\transport.py:219: CryptographyDeprecationWarning: Blowfish has been deprecated\n",
      "  \"class\": algorithms.Blowfish,\n"
     ]
    }
   ],
   "source": [
    "import os\n",
    "from glob import glob\n",
    "import numpy as np\n",
    "import matplotlib.pyplot as plt\n",
    "from matplotlib.colors import ListedColormap\n",
    "import earthpy as et\n",
    "import earthpy.spatial as es\n",
    "import earthpy.plot as ep\n"
   ]
  },
  {
   "cell_type": "code",
   "execution_count": 39,
   "id": "19f64220-8bb5-4bcc-a800-c9efb5e986ed",
   "metadata": {},
   "outputs": [],
   "source": [
    "from PIL import Image"
   ]
  },
  {
   "cell_type": "code",
   "execution_count": 2,
   "id": "9e80aa03-e2fe-469b-93bc-177f37f6c88e",
   "metadata": {},
   "outputs": [],
   "source": [
    "%reload_ext autoreload\n",
    "%autoreload 2\n",
    "%matplotlib inline"
   ]
  },
  {
   "cell_type": "code",
   "execution_count": 3,
   "id": "141e6058-759e-4e85-8959-925ba9ded043",
   "metadata": {},
   "outputs": [],
   "source": [
    "def plot_image(image, factor=1.0, clip_range=None, **kwargs):\n",
    "    \"\"\"\n",
    "    Utility function for plotting RGB images.\n",
    "    \"\"\"\n",
    "    fig, ax = plt.subplots(nrows=1, ncols=1, figsize=(15, 15))\n",
    "    if clip_range is not None:\n",
    "        ax.imshow(np.clip(image * factor, *clip_range), **kwargs)\n",
    "    else:\n",
    "        ax.imshow(image * factor, **kwargs)\n",
    "    ax.set_xticks([])\n",
    "    ax.set_yticks([])"
   ]
  },
  {
   "cell_type": "code",
   "execution_count": 4,
   "id": "47fcca3e-10aa-47d2-8508-f294247fba7e",
   "metadata": {},
   "outputs": [],
   "source": [
    "import os\n",
    "import datetime\n",
    "import numpy as np\n",
    "import matplotlib.pyplot as plt\n",
    "\n",
    "from sentinelhub import (\n",
    "    MimeType,\n",
    "    CRS,\n",
    "    BBox,\n",
    "    SentinelHubRequest,\n",
    "    SentinelHubDownloadClient,\n",
    "    DataCollection,\n",
    "    bbox_to_dimensions,\n",
    "    DownloadRequest,\n",
    "    MosaickingOrder,\n",
    ")\n"
   ]
  },
  {
   "cell_type": "code",
   "execution_count": 5,
   "id": "951ed010-64d4-470e-9c74-0cb94644ecfe",
   "metadata": {},
   "outputs": [],
   "source": [
    "from sentinelhub import SHConfig\n",
    "\n",
    "config = SHConfig()\n",
    "config.sh_client_id = \"5674d1c3-c606-4ecf-a245-a0571a16ccff\"\n",
    "config.sh_client_secret = \"Ry[H}7hdt3uk|)@NN]@BOjl3pI7tQA!6&I~Q}xHD\"\n",
    "if not config.sh_client_id or not config.sh_client_secret:\n",
    "    print(\"Warning! To use Process API, please provide the credentials (OAuth client ID and client secret).\")"
   ]
  },
  {
   "cell_type": "code",
   "execution_count": 119,
   "id": "7804b391-492b-4f6d-ac66-feba8498ca95",
   "metadata": {},
   "outputs": [],
   "source": [
    "gdf = gpd.read_file(\"F:/kuliah/Tesis/GGE tesis/Polygon/DESA_32/desa_32.shp\")"
   ]
  },
  {
   "cell_type": "code",
   "execution_count": 125,
   "id": "2ec134e5-c857-49f5-8432-9bc2d967ffde",
   "metadata": {},
   "outputs": [
    {
     "data": {
      "text/plain": [
       "(5963, 11)"
      ]
     },
     "execution_count": 125,
     "metadata": {},
     "output_type": "execute_result"
    }
   ],
   "source": [
    "gdf.shape"
   ]
  },
  {
   "cell_type": "code",
   "execution_count": 120,
   "id": "42a13229-7c63-4402-be2a-d4cc143ef879",
   "metadata": {},
   "outputs": [],
   "source": [
    "gdf.set_index(\"iddesa\",inplace = True)"
   ]
  },
  {
   "cell_type": "code",
   "execution_count": 126,
   "id": "dcd29c76-6192-4651-814a-a46e74479463",
   "metadata": {},
   "outputs": [],
   "source": [
    "listdesa  = gdf.index.to_list()"
   ]
  },
  {
   "cell_type": "code",
   "execution_count": 138,
   "id": "335b30a9-0ea0-453c-8f67-c61a53a54b3e",
   "metadata": {},
   "outputs": [],
   "source": [
    "listdesa = [\"3212162004\"]"
   ]
  },
  {
   "cell_type": "code",
   "execution_count": 139,
   "id": "e96a5fa0-5207-4d57-bf37-55627b5bd33e",
   "metadata": {},
   "outputs": [
    {
     "data": {
      "text/plain": [
       "1"
      ]
     },
     "execution_count": 139,
     "metadata": {},
     "output_type": "execute_result"
    }
   ],
   "source": [
    "len(listdesa)"
   ]
  },
  {
   "cell_type": "code",
   "execution_count": 133,
   "id": "e51d6896-1a57-4420-b8b7-131780a5072f",
   "metadata": {},
   "outputs": [
    {
     "data": {
      "text/plain": [
       "BBox(((108.15286570950008, -6.2953327609999405), (108.52640372650006, -5.921794743999953)), crs=CRS('4326'))"
      ]
     },
     "execution_count": 133,
     "metadata": {},
     "output_type": "execute_result"
    }
   ],
   "source": [
    "betsiboka_bbox"
   ]
  },
  {
   "cell_type": "code",
   "execution_count": 140,
   "id": "4275f23d-a732-49ae-ab4b-2628e89150c3",
   "metadata": {},
   "outputs": [
    {
     "data": {
      "image/png": "[encoded data removed]",
      "text/plain": [
       "<Figure size 360x360 with 1 Axes>"
      ]
     },
     "metadata": {
      "needs_background": "light"
     },
     "output_type": "display_data"
    }
   ],
   "source": [
    "for name in listdesa:\n",
    "    gdf_sls = gdf.filter(like = str(name),axis = 0)\n",
    "    sls = gdf_sls.loc[[gdf_sls.index[0]],'geometry']\n",
    "    bsls = sls.envelope\n",
    "    dx = bsls.bounds.maxx -bsls.bounds.minx \n",
    "    dy = bsls.bounds.maxy -bsls.bounds.miny\n",
    "    if(dy[0] > dx[0]):\n",
    "        delta = dy - dx\n",
    "        deltaad = delta/2\n",
    "        maxy  = bsls.bounds.maxy\n",
    "        miny  = bsls.bounds.miny\n",
    "        maxx = bsls.bounds.maxx+deltaad\n",
    "        minx = bsls.bounds.minx -deltaad\n",
    "    elif(dy[0] <= dx[0]):\n",
    "        delta =  dx - dy\n",
    "        deltaad = delta/2\n",
    "        maxy  = bsls.bounds.maxy+deltaad\n",
    "        miny  = bsls.bounds.miny -deltaad\n",
    "        maxx = bsls.bounds.maxx\n",
    "        minx = bsls.bounds.minx\n",
    "    betsiboka_coords_wgs84 = [minx, miny, maxx, maxy]\n",
    "    resolution = 60\n",
    "    betsiboka_bbox = BBox(bbox=betsiboka_coords_wgs84, crs=CRS.WGS84)\n",
    "    betsiboka_size = bbox_to_dimensions(betsiboka_bbox, resolution=resolution)\n",
    "    inter = (\"2020-01-01\", \"2020-12-01\")\n",
    "    evalscript_true_color = \"\"\"\n",
    "        //VERSION=3\n",
    "\n",
    "        function setup() {\n",
    "            return {\n",
    "                input: [{\n",
    "                    bands: [ \"B04\", \"B08\"]\n",
    "                }],\n",
    "                output: {\n",
    "                    id: \"default\",\n",
    "                      bands: 1,\n",
    "                      sampleType: SampleType.FLOAT32\n",
    "                }\n",
    "            };\n",
    "        }\n",
    "\n",
    "       function evaluatePixel(sample) {\n",
    "          let ndvi = (sample.B08 - sample.B04) / (sample.B08 + sample.B04)\n",
    "          return [ ndvi ]\n",
    "        }\n",
    "    \"\"\"\n",
    "\n",
    "    request_true_color = SentinelHubRequest(\n",
    "        evalscript=evalscript_true_color,\n",
    "        input_data=[\n",
    "            SentinelHubRequest.input_data(\n",
    "                data_collection=DataCollection.SENTINEL2_L1C,\n",
    "                time_interval=(\"2020-01-01\", \"2020-12-31\"),\n",
    "                mosaicking_order=MosaickingOrder.LEAST_CC,\n",
    "                maxcc = 0.3\n",
    "            )\n",
    "        ],\n",
    "        responses=[SentinelHubRequest.output_response(\"default\", MimeType.TIFF)],\n",
    "        bbox=betsiboka_bbox,\n",
    "        size=betsiboka_size,\n",
    "        config=config,\n",
    "    )\n",
    "    true_color_imgs = request_true_color.get_data()\n",
    "    ndvi = true_color_imgs[0]\n",
    "    # Define color map\n",
    "    nbr_colors = [\"red\", \"darkgreen\"]\n",
    "    nbr_cmap = ListedColormap(nbr_colors)\n",
    "\n",
    "    # Create classes and apply to NDVI results\n",
    "    ndvi_class_bins = [-np.inf,0.25,  np.inf]\n",
    "    ndvi_landsat_class = np.digitize(ndvi, ndvi_class_bins)\n",
    "\n",
    "    # Apply the nodata mask to the newly classified NDVI data\n",
    "    ndvi_landsat_class = np.ma.masked_where(\n",
    "        np.ma.getmask(ndvi), ndvi_landsat_class\n",
    "    )\n",
    "    np.unique(ndvi_landsat_class)\n",
    "    plt.figure(figsize=(5, 5))\n",
    "    im = plt.imshow(ndvi_landsat_class, cmap=nbr_cmap)\n",
    "    plt.axis('off')\n",
    "    plt.savefig(\"C:/Users/jwst2/Python/tesis/jpg/general ndvi desa ES/\"+name+\".jpg\", bbox_inches='tight')\n",
    "    clear_output(wait = True)"
   ]
  },
  {
   "cell_type": "code",
   "execution_count": 86,
   "id": "43793baa-2b5a-4958-b37f-96e7e3f9e8fc",
   "metadata": {},
   "outputs": [],
   "source": [
    "def greenCalculator(path):\n",
    "    # Load image and convert to HSV\n",
    "    im = Image.open(path).convert('HSV')\n",
    "    # Extract Hue channel and make Numpy array for fast processing\n",
    "    Hue = np.array(im.getchannel('H'))\n",
    "    # Make mask of zeroes in which we will set greens to 1\n",
    "    mask = np.zeros_like(Hue, dtype=np.uint8) \n",
    "    # Set all green pixels to 1\n",
    "    mask[(Hue>70) & (Hue<100)] = 1 \n",
    "    # Now print percentage of green pixels\n",
    "    return (mask.mean()*100)"
   ]
  },
  {
   "cell_type": "code",
   "execution_count": 87,
   "id": "40640e4e-760a-4a12-b8d6-036f0bb4c65c",
   "metadata": {},
   "outputs": [
    {
     "data": {
      "text/plain": [
       "77.720329316074"
      ]
     },
     "execution_count": 87,
     "metadata": {},
     "output_type": "execute_result"
    }
   ],
   "source": [
    "greenCalculator(\"test.JPEG\")"
   ]
  },
  {
   "cell_type": "code",
   "execution_count": null,
   "id": "48b43af8-cc55-4d36-b9d4-3a4797c70613",
   "metadata": {},
   "outputs": [],
   "source": []
  }
 ],
 "metadata": {
  "kernelspec": {
   "display_name": "Python 3 (ipykernel)",
   "language": "python",
   "name": "python3"
  },
  "language_info": {
   "codemirror_mode": {
    "name": "ipython",
    "version": 3
   },
   "file_extension": ".py",
   "mimetype": "text/x-python",
   "name": "python",
   "nbconvert_exporter": "python",
   "pygments_lexer": "ipython3",
   "version": "3.9.7"
  }
 },
 "nbformat": 4,
 "nbformat_minor": 5
}
