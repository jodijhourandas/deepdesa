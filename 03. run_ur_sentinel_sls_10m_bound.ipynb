{
 "cells": [
  {
   "cell_type": "code",
   "execution_count": 1,
   "id": "6b5301ad-0967-4fa2-b602-24fae3844253",
   "metadata": {},
   "outputs": [],
   "source": [
    "import fastai\n",
    "from fastai.vision.all import *\n",
    "import pandas as pd"
   ]
  },
  {
   "cell_type": "code",
   "execution_count": 59,
   "id": "4c6126f5-6665-4423-99f7-6845baa5e650",
   "metadata": {},
   "outputs": [],
   "source": [
    "from sklearn.metrics import accuracy_score, precision_score, recall_score, f1_score,roc_auc_score,balanced_accuracy_score\n",
    "import numpy as np"
   ]
  },
  {
   "cell_type": "code",
   "execution_count": 3,
   "id": "6a8c1fce-8553-43f4-b944-bc7741fdd266",
   "metadata": {},
   "outputs": [
    {
     "name": "stderr",
     "output_type": "stream",
     "text": [
      "C:\\Users\\jwst2\\anaconda3\\envs\\datasc\\lib\\site-packages\\IPython\\core\\interactiveshell.py:3444: DtypeWarning: Columns (19,20,21) have mixed types.Specify dtype option on import or set low_memory=False.\n",
      "  exec(code_obj, self.user_global_ns, self.user_ns)\n"
     ]
    }
   ],
   "source": [
    "sls = pd.read_csv(\"C:/Users/jwst2/Python/tesis/dataset/3200_sls.csv\")"
   ]
  },
  {
   "cell_type": "code",
   "execution_count": 4,
   "id": "c0978002-6bf2-40fe-9d24-89fb3e7482f4",
   "metadata": {},
   "outputs": [
    {
     "data": {
      "text/html": [
       "<div>\n",
       "<style scoped>\n",
       "    .dataframe tbody tr th:only-of-type {\n",
       "        vertical-align: middle;\n",
       "    }\n",
       "\n",
       "    .dataframe tbody tr th {\n",
       "        vertical-align: top;\n",
       "    }\n",
       "\n",
       "    .dataframe thead th {\n",
       "        text-align: right;\n",
       "    }\n",
       "</style>\n",
       "<table border=\"1\" class=\"dataframe\">\n",
       "  <thead>\n",
       "    <tr style=\"text-align: right;\">\n",
       "      <th></th>\n",
       "      <th>id</th>\n",
       "      <th>kdprov</th>\n",
       "      <th>kdkab</th>\n",
       "      <th>kdkec</th>\n",
       "      <th>kddesa</th>\n",
       "      <th>iddesa</th>\n",
       "      <th>idslsnon</th>\n",
       "      <th>nmslsnon</th>\n",
       "      <th>ketua_sls</th>\n",
       "      <th>jenis</th>\n",
       "      <th>...</th>\n",
       "      <th>j_bstt</th>\n",
       "      <th>j_bsbtt</th>\n",
       "      <th>j_bstt_k</th>\n",
       "      <th>j_bskeko</th>\n",
       "      <th>j_segmen</th>\n",
       "      <th>dom</th>\n",
       "      <th>ldom</th>\n",
       "      <th>j_m_all</th>\n",
       "      <th>j_m_30</th>\n",
       "      <th>klas_ur</th>\n",
       "    </tr>\n",
       "  </thead>\n",
       "  <tbody>\n",
       "    <tr>\n",
       "      <th>0</th>\n",
       "      <td>263884</td>\n",
       "      <td>32</td>\n",
       "      <td>1</td>\n",
       "      <td>10</td>\n",
       "      <td>1</td>\n",
       "      <td>3201010001</td>\n",
       "      <td>100</td>\n",
       "      <td>RT 001 RW 001 DUSUN 1</td>\n",
       "      <td>MUHAMAD RAFLI HIDAYAT</td>\n",
       "      <td>1</td>\n",
       "      <td>...</td>\n",
       "      <td>39</td>\n",
       "      <td>1</td>\n",
       "      <td>2</td>\n",
       "      <td>4</td>\n",
       "      <td>1</td>\n",
       "      <td>1</td>\n",
       "      <td>1</td>\n",
       "      <td>51</td>\n",
       "      <td>51</td>\n",
       "      <td>2</td>\n",
       "    </tr>\n",
       "    <tr>\n",
       "      <th>1</th>\n",
       "      <td>263885</td>\n",
       "      <td>32</td>\n",
       "      <td>1</td>\n",
       "      <td>10</td>\n",
       "      <td>1</td>\n",
       "      <td>3201010001</td>\n",
       "      <td>200</td>\n",
       "      <td>RT 002 RW 001 DUSUN 1</td>\n",
       "      <td>NURMAN</td>\n",
       "      <td>1</td>\n",
       "      <td>...</td>\n",
       "      <td>60</td>\n",
       "      <td>2</td>\n",
       "      <td>0</td>\n",
       "      <td>7</td>\n",
       "      <td>1</td>\n",
       "      <td>1</td>\n",
       "      <td>1</td>\n",
       "      <td>62</td>\n",
       "      <td>61</td>\n",
       "      <td>2</td>\n",
       "    </tr>\n",
       "    <tr>\n",
       "      <th>2</th>\n",
       "      <td>263886</td>\n",
       "      <td>32</td>\n",
       "      <td>1</td>\n",
       "      <td>10</td>\n",
       "      <td>1</td>\n",
       "      <td>3201010001</td>\n",
       "      <td>300</td>\n",
       "      <td>RT 003 RW 001 DUSUN 1</td>\n",
       "      <td>SAENUDIN</td>\n",
       "      <td>1</td>\n",
       "      <td>...</td>\n",
       "      <td>50</td>\n",
       "      <td>2</td>\n",
       "      <td>0</td>\n",
       "      <td>6</td>\n",
       "      <td>1</td>\n",
       "      <td>1</td>\n",
       "      <td>1</td>\n",
       "      <td>58</td>\n",
       "      <td>57</td>\n",
       "      <td>2</td>\n",
       "    </tr>\n",
       "    <tr>\n",
       "      <th>3</th>\n",
       "      <td>263887</td>\n",
       "      <td>32</td>\n",
       "      <td>1</td>\n",
       "      <td>10</td>\n",
       "      <td>1</td>\n",
       "      <td>3201010001</td>\n",
       "      <td>400</td>\n",
       "      <td>RT 004 RW 001 DUSUN 1</td>\n",
       "      <td>AEP</td>\n",
       "      <td>1</td>\n",
       "      <td>...</td>\n",
       "      <td>27</td>\n",
       "      <td>1</td>\n",
       "      <td>0</td>\n",
       "      <td>1</td>\n",
       "      <td>1</td>\n",
       "      <td>1</td>\n",
       "      <td>1</td>\n",
       "      <td>31</td>\n",
       "      <td>31</td>\n",
       "      <td>2</td>\n",
       "    </tr>\n",
       "    <tr>\n",
       "      <th>4</th>\n",
       "      <td>263888</td>\n",
       "      <td>32</td>\n",
       "      <td>1</td>\n",
       "      <td>10</td>\n",
       "      <td>1</td>\n",
       "      <td>3201010001</td>\n",
       "      <td>500</td>\n",
       "      <td>RT 005 RW 001 DUSUN 1</td>\n",
       "      <td>JEJEN JAELANI</td>\n",
       "      <td>1</td>\n",
       "      <td>...</td>\n",
       "      <td>49</td>\n",
       "      <td>7</td>\n",
       "      <td>3</td>\n",
       "      <td>8</td>\n",
       "      <td>3</td>\n",
       "      <td>1</td>\n",
       "      <td>1</td>\n",
       "      <td>63</td>\n",
       "      <td>57</td>\n",
       "      <td>2</td>\n",
       "    </tr>\n",
       "  </tbody>\n",
       "</table>\n",
       "<p>5 rows × 36 columns</p>\n",
       "</div>"
      ],
      "text/plain": [
       "       id  kdprov  kdkab  kdkec  kddesa      iddesa  idslsnon  \\\n",
       "0  263884      32      1     10       1  3201010001       100   \n",
       "1  263885      32      1     10       1  3201010001       200   \n",
       "2  263886      32      1     10       1  3201010001       300   \n",
       "3  263887      32      1     10       1  3201010001       400   \n",
       "4  263888      32      1     10       1  3201010001       500   \n",
       "\n",
       "                nmslsnon              ketua_sls  jenis  ...  j_bstt  j_bsbtt  \\\n",
       "0  RT 001 RW 001 DUSUN 1  MUHAMAD RAFLI HIDAYAT      1  ...      39        1   \n",
       "1  RT 002 RW 001 DUSUN 1                 NURMAN      1  ...      60        2   \n",
       "2  RT 003 RW 001 DUSUN 1               SAENUDIN      1  ...      50        2   \n",
       "3  RT 004 RW 001 DUSUN 1                    AEP      1  ...      27        1   \n",
       "4  RT 005 RW 001 DUSUN 1          JEJEN JAELANI      1  ...      49        7   \n",
       "\n",
       "   j_bstt_k  j_bskeko  j_segmen  dom  ldom  j_m_all j_m_30 klas_ur  \n",
       "0         2         4         1    1     1       51     51       2  \n",
       "1         0         7         1    1     1       62     61       2  \n",
       "2         0         6         1    1     1       58     57       2  \n",
       "3         0         1         1    1     1       31     31       2  \n",
       "4         3         8         3    1     1       63     57       2  \n",
       "\n",
       "[5 rows x 36 columns]"
      ]
     },
     "execution_count": 4,
     "metadata": {},
     "output_type": "execute_result"
    }
   ],
   "source": [
    "sls.head()"
   ]
  },
  {
   "cell_type": "code",
   "execution_count": 4,
   "id": "240cf8ef-95ee-4410-9819-9b4e21492fca",
   "metadata": {},
   "outputs": [
    {
     "data": {
      "text/plain": [
       "(5957,)"
      ]
     },
     "execution_count": 4,
     "metadata": {},
     "output_type": "execute_result"
    }
   ],
   "source": [
    "sls.iddesa.unique().shape"
   ]
  },
  {
   "cell_type": "code",
   "execution_count": 92,
   "id": "a0541718-1257-40ba-aa83-5839cd13a996",
   "metadata": {},
   "outputs": [],
   "source": [
    "os.chdir('C:/Users/jwst2/Python/tesis/jpg/urbanrural/10. Sentinel 10M Desa ES')\n",
    "if os.path.isdir('urban') is False:\n",
    "    os.makedirs('urban')\n",
    "    os.makedirs('rural')"
   ]
  },
  {
   "cell_type": "code",
   "execution_count": 93,
   "id": "f3e6e565-6104-4b37-b6ad-9cb89eb373b9",
   "metadata": {},
   "outputs": [
    {
     "name": "stderr",
     "output_type": "stream",
     "text": [
      "0it [00:00, ?it/s]"
     ]
    },
    {
     "name": "stdout",
     "output_type": "stream",
     "text": [
      "3207000000.jpg\n",
      "3208000000.jpg\n",
      "3208010000.jpg\n",
      "3211080000.jpg\n",
      "3211111000.jpg\n",
      "3217000000.jpg\n"
     ]
    },
    {
     "name": "stderr",
     "output_type": "stream",
     "text": [
      "1it [00:26, 26.28s/it]\n"
     ]
    }
   ],
   "source": [
    "yourpath = \"C:/Users/jwst2/Python/tesis/jpg/general desa sentinel sq/\"\n",
    "from tqdm import tqdm\n",
    "for root, dirs, files in tqdm(os.walk(yourpath, topdown=False)):\n",
    "    for name in files:\n",
    "        try :\n",
    "            if(sls.klas_ur[sls.iddesa == int(name.replace(\".jpg\",\"\")[:10])].iloc[0] == 1):\n",
    "                shutil.copy(os.path.join(root, name), \"C:/Users/jwst2/Python/tesis/jpg/urbanrural/10. Sentinel 10M Desa ES/urban/\"+name)\n",
    "            elif(sls.klas_ur[sls.iddesa == int(name.replace(\".jpg\",\"\")[:10])].iloc[0] == 2):\n",
    "                shutil.copy(os.path.join(root, name), \"C:/Users/jwst2/Python/tesis/jpg/urbanrural/10. Sentinel 10M Desa ES/rural/\"+name)\n",
    "        except Exception:\n",
    "            print(name)\n",
    "            pass "
   ]
  },
  {
   "cell_type": "markdown",
   "id": "c4db6ad9-230f-4fb1-8802-d4d94084ab93",
   "metadata": {},
   "source": [
    "### Run Dataset"
   ]
  },
  {
   "cell_type": "code",
   "execution_count": 100,
   "id": "90fde506-4689-4fdd-a6ac-cd33a14d1fa7",
   "metadata": {},
   "outputs": [],
   "source": [
    "path = Path.cwd() / (\"C:/Users/jwst2/Python/tesis/jpg/urbanrural/10. Sentinel 10M Desa ES/\")"
   ]
  },
  {
   "cell_type": "code",
   "execution_count": 101,
   "id": "884088a1-f278-49ed-ba7a-84a8788ac906",
   "metadata": {},
   "outputs": [
    {
     "data": {
      "text/plain": [
       "(#2) [Path('rural'),Path('urban')]"
      ]
     },
     "execution_count": 101,
     "metadata": {},
     "output_type": "execute_result"
    }
   ],
   "source": [
    "Path.BASE_PATH = path\n",
    "path.ls()"
   ]
  },
  {
   "cell_type": "code",
   "execution_count": 102,
   "id": "bd185d8d-e0c7-4234-a389-964c9b58dd8b",
   "metadata": {},
   "outputs": [
    {
     "data": {
      "text/plain": [
       "Path('rural/3201010001.jpg')"
      ]
     },
     "execution_count": 102,
     "metadata": {},
     "output_type": "execute_result"
    }
   ],
   "source": [
    "fname = (path/\"rural\").ls()[0]\n",
    "fname"
   ]
  },
  {
   "cell_type": "code",
   "execution_count": 103,
   "id": "52aafdf5-784f-43e5-82dc-98f1542f98ed",
   "metadata": {},
   "outputs": [
    {
     "data": {
      "image/png": "[encoded data removed]",
      "text/plain": [
       "<PIL.JpegImagePlugin.JpegImageFile image mode=RGB size=224x224 at 0x1A256149040>"
      ]
     },
     "execution_count": 103,
     "metadata": {},
     "output_type": "execute_result"
    }
   ],
   "source": [
    "img = Image.open(fname)\n",
    "img"
   ]
  },
  {
   "cell_type": "code",
   "execution_count": 104,
   "id": "a528169c-6462-4eee-98cb-af609455d447",
   "metadata": {},
   "outputs": [],
   "source": [
    "blocks = DataBlock(blocks = (ImageBlock, CategoryBlock),\n",
    "                 get_items=get_image_files, # finds the images in the path\n",
    "                 splitter=RandomSplitter(valid_pct=0.1, seed=42),  # default random split 80% training, 20% validation\n",
    "                 get_y=parent_label, # extracts the label category from the image's folder name \n",
    "                 batch_tfms=aug_transforms(mult=2)) # data augmentation (mult multiplies the default transformation values)"
   ]
  },
  {
   "cell_type": "code",
   "execution_count": 109,
   "id": "7d33721a-eeba-4cda-af33-84a8baace424",
   "metadata": {},
   "outputs": [
    {
     "name": "stdout",
     "output_type": "stream",
     "text": [
      "Due to IPython and Windows limitation, python multiprocessing isn't available now.\n",
      "So `number_workers` is changed to 0 to avoid getting stuck\n"
     ]
    }
   ],
   "source": [
    "dls = blocks.dataloaders(path, bs= 4)"
   ]
  },
  {
   "cell_type": "code",
   "execution_count": 110,
   "id": "eff7faf3-2588-4b9c-a678-08d148a16221",
   "metadata": {},
   "outputs": [
    {
     "data": {
      "image/png": "[encoded data removed]",
      "text/plain": [
       "<Figure size 1080x216 with 5 Axes>"
      ]
     },
     "metadata": {
      "needs_background": "light"
     },
     "output_type": "display_data"
    }
   ],
   "source": [
    "dls.show_batch(nrows=1, ncols=5)"
   ]
  },
  {
   "cell_type": "code",
   "execution_count": 111,
   "id": "8525b8dd-43c1-41dd-a1e7-eadb3de93d6d",
   "metadata": {},
   "outputs": [],
   "source": [
    "avg = 'macro'\n",
    "roca = RocAucBinary(average=avg)\n",
    "f1s = F1Score(average=avg)\n",
    "bc = BalancedAccuracy()\n",
    "metrics=[accuracy,bc, Precision(average=avg), Recall(average=avg), f1s, roca]\n",
    "learn = cnn_learner(dls, densenet121, metrics=metrics) "
   ]
  },
  {
   "cell_type": "code",
   "execution_count": 112,
   "id": "e0a0853a-62f8-44da-aaca-e02df72ece58",
   "metadata": {},
   "outputs": [
    {
     "data": {
      "text/html": [
       "\n",
       "    <div>\n",
       "        <style>\n",
       "            /* Turns off some styling */\n",
       "            progress {\n",
       "                /* gets rid of default border in Firefox and Opera. */\n",
       "                border: none;\n",
       "                /* Needs to be in here for Safari polyfill so background images work as expected. */\n",
       "                background-size: auto;\n",
       "            }\n",
       "            .progress-bar-interrupted, .progress-bar-interrupted::-webkit-progress-bar {\n",
       "                background: #F44336;\n",
       "            }\n",
       "        </style>\n",
       "      <progress value='0' class='' max='1' style='width:300px; height:20px; vertical-align: middle;'></progress>\n",
       "      0.00% [0/1 00:00<00:00]\n",
       "    </div>\n",
       "    \n",
       "\n",
       "\n",
       "    <div>\n",
       "        <style>\n",
       "            /* Turns off some styling */\n",
       "            progress {\n",
       "                /* gets rid of default border in Firefox and Opera. */\n",
       "                border: none;\n",
       "                /* Needs to be in here for Safari polyfill so background images work as expected. */\n",
       "                background-size: auto;\n",
       "            }\n",
       "            .progress-bar-interrupted, .progress-bar-interrupted::-webkit-progress-bar {\n",
       "                background: #F44336;\n",
       "            }\n",
       "        </style>\n",
       "      <progress value='0' class='' max='1340' style='width:300px; height:20px; vertical-align: middle;'></progress>\n",
       "      0.00% [0/1340 00:00<00:00]\n",
       "    </div>\n",
       "    "
      ],
      "text/plain": [
       "<IPython.core.display.HTML object>"
      ]
     },
     "metadata": {},
     "output_type": "display_data"
    },
    {
     "ename": "RuntimeError",
     "evalue": "CUDA out of memory. Tried to allocate 14.00 MiB (GPU 0; 4.00 GiB total capacity; 2.03 GiB already allocated; 0 bytes free; 2.06 GiB reserved in total by PyTorch)",
     "output_type": "error",
     "traceback": [
      "\u001b[1;31m---------------------------------------------------------------------------\u001b[0m",
      "\u001b[1;31mRuntimeError\u001b[0m                              Traceback (most recent call last)",
      "\u001b[1;32m~\\AppData\\Local\\Temp/ipykernel_25336/2434377672.py\u001b[0m in \u001b[0;36m<module>\u001b[1;34m\u001b[0m\n\u001b[1;32m----> 1\u001b[1;33m \u001b[0mlearn\u001b[0m\u001b[1;33m.\u001b[0m\u001b[0mlr_find\u001b[0m\u001b[1;33m(\u001b[0m\u001b[1;33m)\u001b[0m\u001b[1;33m\u001b[0m\u001b[1;33m\u001b[0m\u001b[0m\n\u001b[0m",
      "\u001b[1;32m~\\anaconda3\\envs\\datasc\\lib\\site-packages\\fastai\\callback\\schedule.py\u001b[0m in \u001b[0;36mlr_find\u001b[1;34m(self, start_lr, end_lr, num_it, stop_div, show_plot, suggest_funcs)\u001b[0m\n\u001b[0;32m    281\u001b[0m     \u001b[0mn_epoch\u001b[0m \u001b[1;33m=\u001b[0m \u001b[0mnum_it\u001b[0m\u001b[1;33m//\u001b[0m\u001b[0mlen\u001b[0m\u001b[1;33m(\u001b[0m\u001b[0mself\u001b[0m\u001b[1;33m.\u001b[0m\u001b[0mdls\u001b[0m\u001b[1;33m.\u001b[0m\u001b[0mtrain\u001b[0m\u001b[1;33m)\u001b[0m \u001b[1;33m+\u001b[0m \u001b[1;36m1\u001b[0m\u001b[1;33m\u001b[0m\u001b[1;33m\u001b[0m\u001b[0m\n\u001b[0;32m    282\u001b[0m     \u001b[0mcb\u001b[0m\u001b[1;33m=\u001b[0m\u001b[0mLRFinder\u001b[0m\u001b[1;33m(\u001b[0m\u001b[0mstart_lr\u001b[0m\u001b[1;33m=\u001b[0m\u001b[0mstart_lr\u001b[0m\u001b[1;33m,\u001b[0m \u001b[0mend_lr\u001b[0m\u001b[1;33m=\u001b[0m\u001b[0mend_lr\u001b[0m\u001b[1;33m,\u001b[0m \u001b[0mnum_it\u001b[0m\u001b[1;33m=\u001b[0m\u001b[0mnum_it\u001b[0m\u001b[1;33m,\u001b[0m \u001b[0mstop_div\u001b[0m\u001b[1;33m=\u001b[0m\u001b[0mstop_div\u001b[0m\u001b[1;33m)\u001b[0m\u001b[1;33m\u001b[0m\u001b[1;33m\u001b[0m\u001b[0m\n\u001b[1;32m--> 283\u001b[1;33m     \u001b[1;32mwith\u001b[0m \u001b[0mself\u001b[0m\u001b[1;33m.\u001b[0m\u001b[0mno_logging\u001b[0m\u001b[1;33m(\u001b[0m\u001b[1;33m)\u001b[0m\u001b[1;33m:\u001b[0m \u001b[0mself\u001b[0m\u001b[1;33m.\u001b[0m\u001b[0mfit\u001b[0m\u001b[1;33m(\u001b[0m\u001b[0mn_epoch\u001b[0m\u001b[1;33m,\u001b[0m \u001b[0mcbs\u001b[0m\u001b[1;33m=\u001b[0m\u001b[0mcb\u001b[0m\u001b[1;33m)\u001b[0m\u001b[1;33m\u001b[0m\u001b[1;33m\u001b[0m\u001b[0m\n\u001b[0m\u001b[0;32m    284\u001b[0m     \u001b[1;32mif\u001b[0m \u001b[0msuggest_funcs\u001b[0m \u001b[1;32mis\u001b[0m \u001b[1;32mnot\u001b[0m \u001b[1;32mNone\u001b[0m\u001b[1;33m:\u001b[0m\u001b[1;33m\u001b[0m\u001b[1;33m\u001b[0m\u001b[0m\n\u001b[0;32m    285\u001b[0m         \u001b[0mlrs\u001b[0m\u001b[1;33m,\u001b[0m \u001b[0mlosses\u001b[0m \u001b[1;33m=\u001b[0m \u001b[0mtensor\u001b[0m\u001b[1;33m(\u001b[0m\u001b[0mself\u001b[0m\u001b[1;33m.\u001b[0m\u001b[0mrecorder\u001b[0m\u001b[1;33m.\u001b[0m\u001b[0mlrs\u001b[0m\u001b[1;33m[\u001b[0m\u001b[0mnum_it\u001b[0m\u001b[1;33m//\u001b[0m\u001b[1;36m10\u001b[0m\u001b[1;33m:\u001b[0m\u001b[1;33m-\u001b[0m\u001b[1;36m5\u001b[0m\u001b[1;33m]\u001b[0m\u001b[1;33m)\u001b[0m\u001b[1;33m,\u001b[0m \u001b[0mtensor\u001b[0m\u001b[1;33m(\u001b[0m\u001b[0mself\u001b[0m\u001b[1;33m.\u001b[0m\u001b[0mrecorder\u001b[0m\u001b[1;33m.\u001b[0m\u001b[0mlosses\u001b[0m\u001b[1;33m[\u001b[0m\u001b[0mnum_it\u001b[0m\u001b[1;33m//\u001b[0m\u001b[1;36m10\u001b[0m\u001b[1;33m:\u001b[0m\u001b[1;33m-\u001b[0m\u001b[1;36m5\u001b[0m\u001b[1;33m]\u001b[0m\u001b[1;33m)\u001b[0m\u001b[1;33m\u001b[0m\u001b[1;33m\u001b[0m\u001b[0m\n",
      "\u001b[1;32m~\\anaconda3\\envs\\datasc\\lib\\site-packages\\fastai\\learner.py\u001b[0m in \u001b[0;36mfit\u001b[1;34m(self, n_epoch, lr, wd, cbs, reset_opt)\u001b[0m\n\u001b[0;32m    219\u001b[0m             \u001b[0mself\u001b[0m\u001b[1;33m.\u001b[0m\u001b[0mopt\u001b[0m\u001b[1;33m.\u001b[0m\u001b[0mset_hypers\u001b[0m\u001b[1;33m(\u001b[0m\u001b[0mlr\u001b[0m\u001b[1;33m=\u001b[0m\u001b[0mself\u001b[0m\u001b[1;33m.\u001b[0m\u001b[0mlr\u001b[0m \u001b[1;32mif\u001b[0m \u001b[0mlr\u001b[0m \u001b[1;32mis\u001b[0m \u001b[1;32mNone\u001b[0m \u001b[1;32melse\u001b[0m \u001b[0mlr\u001b[0m\u001b[1;33m)\u001b[0m\u001b[1;33m\u001b[0m\u001b[1;33m\u001b[0m\u001b[0m\n\u001b[0;32m    220\u001b[0m             \u001b[0mself\u001b[0m\u001b[1;33m.\u001b[0m\u001b[0mn_epoch\u001b[0m \u001b[1;33m=\u001b[0m \u001b[0mn_epoch\u001b[0m\u001b[1;33m\u001b[0m\u001b[1;33m\u001b[0m\u001b[0m\n\u001b[1;32m--> 221\u001b[1;33m             \u001b[0mself\u001b[0m\u001b[1;33m.\u001b[0m\u001b[0m_with_events\u001b[0m\u001b[1;33m(\u001b[0m\u001b[0mself\u001b[0m\u001b[1;33m.\u001b[0m\u001b[0m_do_fit\u001b[0m\u001b[1;33m,\u001b[0m \u001b[1;34m'fit'\u001b[0m\u001b[1;33m,\u001b[0m \u001b[0mCancelFitException\u001b[0m\u001b[1;33m,\u001b[0m \u001b[0mself\u001b[0m\u001b[1;33m.\u001b[0m\u001b[0m_end_cleanup\u001b[0m\u001b[1;33m)\u001b[0m\u001b[1;33m\u001b[0m\u001b[1;33m\u001b[0m\u001b[0m\n\u001b[0m\u001b[0;32m    222\u001b[0m \u001b[1;33m\u001b[0m\u001b[0m\n\u001b[0;32m    223\u001b[0m     \u001b[1;32mdef\u001b[0m \u001b[0m_end_cleanup\u001b[0m\u001b[1;33m(\u001b[0m\u001b[0mself\u001b[0m\u001b[1;33m)\u001b[0m\u001b[1;33m:\u001b[0m \u001b[0mself\u001b[0m\u001b[1;33m.\u001b[0m\u001b[0mdl\u001b[0m\u001b[1;33m,\u001b[0m\u001b[0mself\u001b[0m\u001b[1;33m.\u001b[0m\u001b[0mxb\u001b[0m\u001b[1;33m,\u001b[0m\u001b[0mself\u001b[0m\u001b[1;33m.\u001b[0m\u001b[0myb\u001b[0m\u001b[1;33m,\u001b[0m\u001b[0mself\u001b[0m\u001b[1;33m.\u001b[0m\u001b[0mpred\u001b[0m\u001b[1;33m,\u001b[0m\u001b[0mself\u001b[0m\u001b[1;33m.\u001b[0m\u001b[0mloss\u001b[0m \u001b[1;33m=\u001b[0m \u001b[1;32mNone\u001b[0m\u001b[1;33m,\u001b[0m\u001b[1;33m(\u001b[0m\u001b[1;32mNone\u001b[0m\u001b[1;33m,\u001b[0m\u001b[1;33m)\u001b[0m\u001b[1;33m,\u001b[0m\u001b[1;33m(\u001b[0m\u001b[1;32mNone\u001b[0m\u001b[1;33m,\u001b[0m\u001b[1;33m)\u001b[0m\u001b[1;33m,\u001b[0m\u001b[1;32mNone\u001b[0m\u001b[1;33m,\u001b[0m\u001b[1;32mNone\u001b[0m\u001b[1;33m\u001b[0m\u001b[1;33m\u001b[0m\u001b[0m\n",
      "\u001b[1;32m~\\anaconda3\\envs\\datasc\\lib\\site-packages\\fastai\\learner.py\u001b[0m in \u001b[0;36m_with_events\u001b[1;34m(self, f, event_type, ex, final)\u001b[0m\n\u001b[0;32m    161\u001b[0m \u001b[1;33m\u001b[0m\u001b[0m\n\u001b[0;32m    162\u001b[0m     \u001b[1;32mdef\u001b[0m \u001b[0m_with_events\u001b[0m\u001b[1;33m(\u001b[0m\u001b[0mself\u001b[0m\u001b[1;33m,\u001b[0m \u001b[0mf\u001b[0m\u001b[1;33m,\u001b[0m \u001b[0mevent_type\u001b[0m\u001b[1;33m,\u001b[0m \u001b[0mex\u001b[0m\u001b[1;33m,\u001b[0m \u001b[0mfinal\u001b[0m\u001b[1;33m=\u001b[0m\u001b[0mnoop\u001b[0m\u001b[1;33m)\u001b[0m\u001b[1;33m:\u001b[0m\u001b[1;33m\u001b[0m\u001b[1;33m\u001b[0m\u001b[0m\n\u001b[1;32m--> 163\u001b[1;33m         \u001b[1;32mtry\u001b[0m\u001b[1;33m:\u001b[0m \u001b[0mself\u001b[0m\u001b[1;33m(\u001b[0m\u001b[1;34mf'before_{event_type}'\u001b[0m\u001b[1;33m)\u001b[0m\u001b[1;33m;\u001b[0m  \u001b[0mf\u001b[0m\u001b[1;33m(\u001b[0m\u001b[1;33m)\u001b[0m\u001b[1;33m\u001b[0m\u001b[1;33m\u001b[0m\u001b[0m\n\u001b[0m\u001b[0;32m    164\u001b[0m         \u001b[1;32mexcept\u001b[0m \u001b[0mex\u001b[0m\u001b[1;33m:\u001b[0m \u001b[0mself\u001b[0m\u001b[1;33m(\u001b[0m\u001b[1;34mf'after_cancel_{event_type}'\u001b[0m\u001b[1;33m)\u001b[0m\u001b[1;33m\u001b[0m\u001b[1;33m\u001b[0m\u001b[0m\n\u001b[0;32m    165\u001b[0m         \u001b[0mself\u001b[0m\u001b[1;33m(\u001b[0m\u001b[1;34mf'after_{event_type}'\u001b[0m\u001b[1;33m)\u001b[0m\u001b[1;33m;\u001b[0m  \u001b[0mfinal\u001b[0m\u001b[1;33m(\u001b[0m\u001b[1;33m)\u001b[0m\u001b[1;33m\u001b[0m\u001b[1;33m\u001b[0m\u001b[0m\n",
      "\u001b[1;32m~\\anaconda3\\envs\\datasc\\lib\\site-packages\\fastai\\learner.py\u001b[0m in \u001b[0;36m_do_fit\u001b[1;34m(self)\u001b[0m\n\u001b[0;32m    210\u001b[0m         \u001b[1;32mfor\u001b[0m \u001b[0mepoch\u001b[0m \u001b[1;32min\u001b[0m \u001b[0mrange\u001b[0m\u001b[1;33m(\u001b[0m\u001b[0mself\u001b[0m\u001b[1;33m.\u001b[0m\u001b[0mn_epoch\u001b[0m\u001b[1;33m)\u001b[0m\u001b[1;33m:\u001b[0m\u001b[1;33m\u001b[0m\u001b[1;33m\u001b[0m\u001b[0m\n\u001b[0;32m    211\u001b[0m             \u001b[0mself\u001b[0m\u001b[1;33m.\u001b[0m\u001b[0mepoch\u001b[0m\u001b[1;33m=\u001b[0m\u001b[0mepoch\u001b[0m\u001b[1;33m\u001b[0m\u001b[1;33m\u001b[0m\u001b[0m\n\u001b[1;32m--> 212\u001b[1;33m             \u001b[0mself\u001b[0m\u001b[1;33m.\u001b[0m\u001b[0m_with_events\u001b[0m\u001b[1;33m(\u001b[0m\u001b[0mself\u001b[0m\u001b[1;33m.\u001b[0m\u001b[0m_do_epoch\u001b[0m\u001b[1;33m,\u001b[0m \u001b[1;34m'epoch'\u001b[0m\u001b[1;33m,\u001b[0m \u001b[0mCancelEpochException\u001b[0m\u001b[1;33m)\u001b[0m\u001b[1;33m\u001b[0m\u001b[1;33m\u001b[0m\u001b[0m\n\u001b[0m\u001b[0;32m    213\u001b[0m \u001b[1;33m\u001b[0m\u001b[0m\n\u001b[0;32m    214\u001b[0m     \u001b[1;32mdef\u001b[0m \u001b[0mfit\u001b[0m\u001b[1;33m(\u001b[0m\u001b[0mself\u001b[0m\u001b[1;33m,\u001b[0m \u001b[0mn_epoch\u001b[0m\u001b[1;33m,\u001b[0m \u001b[0mlr\u001b[0m\u001b[1;33m=\u001b[0m\u001b[1;32mNone\u001b[0m\u001b[1;33m,\u001b[0m \u001b[0mwd\u001b[0m\u001b[1;33m=\u001b[0m\u001b[1;32mNone\u001b[0m\u001b[1;33m,\u001b[0m \u001b[0mcbs\u001b[0m\u001b[1;33m=\u001b[0m\u001b[1;32mNone\u001b[0m\u001b[1;33m,\u001b[0m \u001b[0mreset_opt\u001b[0m\u001b[1;33m=\u001b[0m\u001b[1;32mFalse\u001b[0m\u001b[1;33m)\u001b[0m\u001b[1;33m:\u001b[0m\u001b[1;33m\u001b[0m\u001b[1;33m\u001b[0m\u001b[0m\n",
      "\u001b[1;32m~\\anaconda3\\envs\\datasc\\lib\\site-packages\\fastai\\learner.py\u001b[0m in \u001b[0;36m_with_events\u001b[1;34m(self, f, event_type, ex, final)\u001b[0m\n\u001b[0;32m    161\u001b[0m \u001b[1;33m\u001b[0m\u001b[0m\n\u001b[0;32m    162\u001b[0m     \u001b[1;32mdef\u001b[0m \u001b[0m_with_events\u001b[0m\u001b[1;33m(\u001b[0m\u001b[0mself\u001b[0m\u001b[1;33m,\u001b[0m \u001b[0mf\u001b[0m\u001b[1;33m,\u001b[0m \u001b[0mevent_type\u001b[0m\u001b[1;33m,\u001b[0m \u001b[0mex\u001b[0m\u001b[1;33m,\u001b[0m \u001b[0mfinal\u001b[0m\u001b[1;33m=\u001b[0m\u001b[0mnoop\u001b[0m\u001b[1;33m)\u001b[0m\u001b[1;33m:\u001b[0m\u001b[1;33m\u001b[0m\u001b[1;33m\u001b[0m\u001b[0m\n\u001b[1;32m--> 163\u001b[1;33m         \u001b[1;32mtry\u001b[0m\u001b[1;33m:\u001b[0m \u001b[0mself\u001b[0m\u001b[1;33m(\u001b[0m\u001b[1;34mf'before_{event_type}'\u001b[0m\u001b[1;33m)\u001b[0m\u001b[1;33m;\u001b[0m  \u001b[0mf\u001b[0m\u001b[1;33m(\u001b[0m\u001b[1;33m)\u001b[0m\u001b[1;33m\u001b[0m\u001b[1;33m\u001b[0m\u001b[0m\n\u001b[0m\u001b[0;32m    164\u001b[0m         \u001b[1;32mexcept\u001b[0m \u001b[0mex\u001b[0m\u001b[1;33m:\u001b[0m \u001b[0mself\u001b[0m\u001b[1;33m(\u001b[0m\u001b[1;34mf'after_cancel_{event_type}'\u001b[0m\u001b[1;33m)\u001b[0m\u001b[1;33m\u001b[0m\u001b[1;33m\u001b[0m\u001b[0m\n\u001b[0;32m    165\u001b[0m         \u001b[0mself\u001b[0m\u001b[1;33m(\u001b[0m\u001b[1;34mf'after_{event_type}'\u001b[0m\u001b[1;33m)\u001b[0m\u001b[1;33m;\u001b[0m  \u001b[0mfinal\u001b[0m\u001b[1;33m(\u001b[0m\u001b[1;33m)\u001b[0m\u001b[1;33m\u001b[0m\u001b[1;33m\u001b[0m\u001b[0m\n",
      "\u001b[1;32m~\\anaconda3\\envs\\datasc\\lib\\site-packages\\fastai\\learner.py\u001b[0m in \u001b[0;36m_do_epoch\u001b[1;34m(self)\u001b[0m\n\u001b[0;32m    204\u001b[0m \u001b[1;33m\u001b[0m\u001b[0m\n\u001b[0;32m    205\u001b[0m     \u001b[1;32mdef\u001b[0m \u001b[0m_do_epoch\u001b[0m\u001b[1;33m(\u001b[0m\u001b[0mself\u001b[0m\u001b[1;33m)\u001b[0m\u001b[1;33m:\u001b[0m\u001b[1;33m\u001b[0m\u001b[1;33m\u001b[0m\u001b[0m\n\u001b[1;32m--> 206\u001b[1;33m         \u001b[0mself\u001b[0m\u001b[1;33m.\u001b[0m\u001b[0m_do_epoch_train\u001b[0m\u001b[1;33m(\u001b[0m\u001b[1;33m)\u001b[0m\u001b[1;33m\u001b[0m\u001b[1;33m\u001b[0m\u001b[0m\n\u001b[0m\u001b[0;32m    207\u001b[0m         \u001b[0mself\u001b[0m\u001b[1;33m.\u001b[0m\u001b[0m_do_epoch_validate\u001b[0m\u001b[1;33m(\u001b[0m\u001b[1;33m)\u001b[0m\u001b[1;33m\u001b[0m\u001b[1;33m\u001b[0m\u001b[0m\n\u001b[0;32m    208\u001b[0m \u001b[1;33m\u001b[0m\u001b[0m\n",
      "\u001b[1;32m~\\anaconda3\\envs\\datasc\\lib\\site-packages\\fastai\\learner.py\u001b[0m in \u001b[0;36m_do_epoch_train\u001b[1;34m(self)\u001b[0m\n\u001b[0;32m    196\u001b[0m     \u001b[1;32mdef\u001b[0m \u001b[0m_do_epoch_train\u001b[0m\u001b[1;33m(\u001b[0m\u001b[0mself\u001b[0m\u001b[1;33m)\u001b[0m\u001b[1;33m:\u001b[0m\u001b[1;33m\u001b[0m\u001b[1;33m\u001b[0m\u001b[0m\n\u001b[0;32m    197\u001b[0m         \u001b[0mself\u001b[0m\u001b[1;33m.\u001b[0m\u001b[0mdl\u001b[0m \u001b[1;33m=\u001b[0m \u001b[0mself\u001b[0m\u001b[1;33m.\u001b[0m\u001b[0mdls\u001b[0m\u001b[1;33m.\u001b[0m\u001b[0mtrain\u001b[0m\u001b[1;33m\u001b[0m\u001b[1;33m\u001b[0m\u001b[0m\n\u001b[1;32m--> 198\u001b[1;33m         \u001b[0mself\u001b[0m\u001b[1;33m.\u001b[0m\u001b[0m_with_events\u001b[0m\u001b[1;33m(\u001b[0m\u001b[0mself\u001b[0m\u001b[1;33m.\u001b[0m\u001b[0mall_batches\u001b[0m\u001b[1;33m,\u001b[0m \u001b[1;34m'train'\u001b[0m\u001b[1;33m,\u001b[0m \u001b[0mCancelTrainException\u001b[0m\u001b[1;33m)\u001b[0m\u001b[1;33m\u001b[0m\u001b[1;33m\u001b[0m\u001b[0m\n\u001b[0m\u001b[0;32m    199\u001b[0m \u001b[1;33m\u001b[0m\u001b[0m\n\u001b[0;32m    200\u001b[0m     \u001b[1;32mdef\u001b[0m \u001b[0m_do_epoch_validate\u001b[0m\u001b[1;33m(\u001b[0m\u001b[0mself\u001b[0m\u001b[1;33m,\u001b[0m \u001b[0mds_idx\u001b[0m\u001b[1;33m=\u001b[0m\u001b[1;36m1\u001b[0m\u001b[1;33m,\u001b[0m \u001b[0mdl\u001b[0m\u001b[1;33m=\u001b[0m\u001b[1;32mNone\u001b[0m\u001b[1;33m)\u001b[0m\u001b[1;33m:\u001b[0m\u001b[1;33m\u001b[0m\u001b[1;33m\u001b[0m\u001b[0m\n",
      "\u001b[1;32m~\\anaconda3\\envs\\datasc\\lib\\site-packages\\fastai\\learner.py\u001b[0m in \u001b[0;36m_with_events\u001b[1;34m(self, f, event_type, ex, final)\u001b[0m\n\u001b[0;32m    161\u001b[0m \u001b[1;33m\u001b[0m\u001b[0m\n\u001b[0;32m    162\u001b[0m     \u001b[1;32mdef\u001b[0m \u001b[0m_with_events\u001b[0m\u001b[1;33m(\u001b[0m\u001b[0mself\u001b[0m\u001b[1;33m,\u001b[0m \u001b[0mf\u001b[0m\u001b[1;33m,\u001b[0m \u001b[0mevent_type\u001b[0m\u001b[1;33m,\u001b[0m \u001b[0mex\u001b[0m\u001b[1;33m,\u001b[0m \u001b[0mfinal\u001b[0m\u001b[1;33m=\u001b[0m\u001b[0mnoop\u001b[0m\u001b[1;33m)\u001b[0m\u001b[1;33m:\u001b[0m\u001b[1;33m\u001b[0m\u001b[1;33m\u001b[0m\u001b[0m\n\u001b[1;32m--> 163\u001b[1;33m         \u001b[1;32mtry\u001b[0m\u001b[1;33m:\u001b[0m \u001b[0mself\u001b[0m\u001b[1;33m(\u001b[0m\u001b[1;34mf'before_{event_type}'\u001b[0m\u001b[1;33m)\u001b[0m\u001b[1;33m;\u001b[0m  \u001b[0mf\u001b[0m\u001b[1;33m(\u001b[0m\u001b[1;33m)\u001b[0m\u001b[1;33m\u001b[0m\u001b[1;33m\u001b[0m\u001b[0m\n\u001b[0m\u001b[0;32m    164\u001b[0m         \u001b[1;32mexcept\u001b[0m \u001b[0mex\u001b[0m\u001b[1;33m:\u001b[0m \u001b[0mself\u001b[0m\u001b[1;33m(\u001b[0m\u001b[1;34mf'after_cancel_{event_type}'\u001b[0m\u001b[1;33m)\u001b[0m\u001b[1;33m\u001b[0m\u001b[1;33m\u001b[0m\u001b[0m\n\u001b[0;32m    165\u001b[0m         \u001b[0mself\u001b[0m\u001b[1;33m(\u001b[0m\u001b[1;34mf'after_{event_type}'\u001b[0m\u001b[1;33m)\u001b[0m\u001b[1;33m;\u001b[0m  \u001b[0mfinal\u001b[0m\u001b[1;33m(\u001b[0m\u001b[1;33m)\u001b[0m\u001b[1;33m\u001b[0m\u001b[1;33m\u001b[0m\u001b[0m\n",
      "\u001b[1;32m~\\anaconda3\\envs\\datasc\\lib\\site-packages\\fastai\\learner.py\u001b[0m in \u001b[0;36mall_batches\u001b[1;34m(self)\u001b[0m\n\u001b[0;32m    167\u001b[0m     \u001b[1;32mdef\u001b[0m \u001b[0mall_batches\u001b[0m\u001b[1;33m(\u001b[0m\u001b[0mself\u001b[0m\u001b[1;33m)\u001b[0m\u001b[1;33m:\u001b[0m\u001b[1;33m\u001b[0m\u001b[1;33m\u001b[0m\u001b[0m\n\u001b[0;32m    168\u001b[0m         \u001b[0mself\u001b[0m\u001b[1;33m.\u001b[0m\u001b[0mn_iter\u001b[0m \u001b[1;33m=\u001b[0m \u001b[0mlen\u001b[0m\u001b[1;33m(\u001b[0m\u001b[0mself\u001b[0m\u001b[1;33m.\u001b[0m\u001b[0mdl\u001b[0m\u001b[1;33m)\u001b[0m\u001b[1;33m\u001b[0m\u001b[1;33m\u001b[0m\u001b[0m\n\u001b[1;32m--> 169\u001b[1;33m         \u001b[1;32mfor\u001b[0m \u001b[0mo\u001b[0m \u001b[1;32min\u001b[0m \u001b[0menumerate\u001b[0m\u001b[1;33m(\u001b[0m\u001b[0mself\u001b[0m\u001b[1;33m.\u001b[0m\u001b[0mdl\u001b[0m\u001b[1;33m)\u001b[0m\u001b[1;33m:\u001b[0m \u001b[0mself\u001b[0m\u001b[1;33m.\u001b[0m\u001b[0mone_batch\u001b[0m\u001b[1;33m(\u001b[0m\u001b[1;33m*\u001b[0m\u001b[0mo\u001b[0m\u001b[1;33m)\u001b[0m\u001b[1;33m\u001b[0m\u001b[1;33m\u001b[0m\u001b[0m\n\u001b[0m\u001b[0;32m    170\u001b[0m \u001b[1;33m\u001b[0m\u001b[0m\n\u001b[0;32m    171\u001b[0m     \u001b[1;32mdef\u001b[0m \u001b[0m_do_one_batch\u001b[0m\u001b[1;33m(\u001b[0m\u001b[0mself\u001b[0m\u001b[1;33m)\u001b[0m\u001b[1;33m:\u001b[0m\u001b[1;33m\u001b[0m\u001b[1;33m\u001b[0m\u001b[0m\n",
      "\u001b[1;32m~\\anaconda3\\envs\\datasc\\lib\\site-packages\\fastai\\learner.py\u001b[0m in \u001b[0;36mone_batch\u001b[1;34m(self, i, b)\u001b[0m\n\u001b[0;32m    192\u001b[0m         \u001b[0mb\u001b[0m \u001b[1;33m=\u001b[0m \u001b[0mself\u001b[0m\u001b[1;33m.\u001b[0m\u001b[0m_set_device\u001b[0m\u001b[1;33m(\u001b[0m\u001b[0mb\u001b[0m\u001b[1;33m)\u001b[0m\u001b[1;33m\u001b[0m\u001b[1;33m\u001b[0m\u001b[0m\n\u001b[0;32m    193\u001b[0m         \u001b[0mself\u001b[0m\u001b[1;33m.\u001b[0m\u001b[0m_split\u001b[0m\u001b[1;33m(\u001b[0m\u001b[0mb\u001b[0m\u001b[1;33m)\u001b[0m\u001b[1;33m\u001b[0m\u001b[1;33m\u001b[0m\u001b[0m\n\u001b[1;32m--> 194\u001b[1;33m         \u001b[0mself\u001b[0m\u001b[1;33m.\u001b[0m\u001b[0m_with_events\u001b[0m\u001b[1;33m(\u001b[0m\u001b[0mself\u001b[0m\u001b[1;33m.\u001b[0m\u001b[0m_do_one_batch\u001b[0m\u001b[1;33m,\u001b[0m \u001b[1;34m'batch'\u001b[0m\u001b[1;33m,\u001b[0m \u001b[0mCancelBatchException\u001b[0m\u001b[1;33m)\u001b[0m\u001b[1;33m\u001b[0m\u001b[1;33m\u001b[0m\u001b[0m\n\u001b[0m\u001b[0;32m    195\u001b[0m \u001b[1;33m\u001b[0m\u001b[0m\n\u001b[0;32m    196\u001b[0m     \u001b[1;32mdef\u001b[0m \u001b[0m_do_epoch_train\u001b[0m\u001b[1;33m(\u001b[0m\u001b[0mself\u001b[0m\u001b[1;33m)\u001b[0m\u001b[1;33m:\u001b[0m\u001b[1;33m\u001b[0m\u001b[1;33m\u001b[0m\u001b[0m\n",
      "\u001b[1;32m~\\anaconda3\\envs\\datasc\\lib\\site-packages\\fastai\\learner.py\u001b[0m in \u001b[0;36m_with_events\u001b[1;34m(self, f, event_type, ex, final)\u001b[0m\n\u001b[0;32m    161\u001b[0m \u001b[1;33m\u001b[0m\u001b[0m\n\u001b[0;32m    162\u001b[0m     \u001b[1;32mdef\u001b[0m \u001b[0m_with_events\u001b[0m\u001b[1;33m(\u001b[0m\u001b[0mself\u001b[0m\u001b[1;33m,\u001b[0m \u001b[0mf\u001b[0m\u001b[1;33m,\u001b[0m \u001b[0mevent_type\u001b[0m\u001b[1;33m,\u001b[0m \u001b[0mex\u001b[0m\u001b[1;33m,\u001b[0m \u001b[0mfinal\u001b[0m\u001b[1;33m=\u001b[0m\u001b[0mnoop\u001b[0m\u001b[1;33m)\u001b[0m\u001b[1;33m:\u001b[0m\u001b[1;33m\u001b[0m\u001b[1;33m\u001b[0m\u001b[0m\n\u001b[1;32m--> 163\u001b[1;33m         \u001b[1;32mtry\u001b[0m\u001b[1;33m:\u001b[0m \u001b[0mself\u001b[0m\u001b[1;33m(\u001b[0m\u001b[1;34mf'before_{event_type}'\u001b[0m\u001b[1;33m)\u001b[0m\u001b[1;33m;\u001b[0m  \u001b[0mf\u001b[0m\u001b[1;33m(\u001b[0m\u001b[1;33m)\u001b[0m\u001b[1;33m\u001b[0m\u001b[1;33m\u001b[0m\u001b[0m\n\u001b[0m\u001b[0;32m    164\u001b[0m         \u001b[1;32mexcept\u001b[0m \u001b[0mex\u001b[0m\u001b[1;33m:\u001b[0m \u001b[0mself\u001b[0m\u001b[1;33m(\u001b[0m\u001b[1;34mf'after_cancel_{event_type}'\u001b[0m\u001b[1;33m)\u001b[0m\u001b[1;33m\u001b[0m\u001b[1;33m\u001b[0m\u001b[0m\n\u001b[0;32m    165\u001b[0m         \u001b[0mself\u001b[0m\u001b[1;33m(\u001b[0m\u001b[1;34mf'after_{event_type}'\u001b[0m\u001b[1;33m)\u001b[0m\u001b[1;33m;\u001b[0m  \u001b[0mfinal\u001b[0m\u001b[1;33m(\u001b[0m\u001b[1;33m)\u001b[0m\u001b[1;33m\u001b[0m\u001b[1;33m\u001b[0m\u001b[0m\n",
      "\u001b[1;32m~\\anaconda3\\envs\\datasc\\lib\\site-packages\\fastai\\learner.py\u001b[0m in \u001b[0;36m_do_one_batch\u001b[1;34m(self)\u001b[0m\n\u001b[0;32m    170\u001b[0m \u001b[1;33m\u001b[0m\u001b[0m\n\u001b[0;32m    171\u001b[0m     \u001b[1;32mdef\u001b[0m \u001b[0m_do_one_batch\u001b[0m\u001b[1;33m(\u001b[0m\u001b[0mself\u001b[0m\u001b[1;33m)\u001b[0m\u001b[1;33m:\u001b[0m\u001b[1;33m\u001b[0m\u001b[1;33m\u001b[0m\u001b[0m\n\u001b[1;32m--> 172\u001b[1;33m         \u001b[0mself\u001b[0m\u001b[1;33m.\u001b[0m\u001b[0mpred\u001b[0m \u001b[1;33m=\u001b[0m \u001b[0mself\u001b[0m\u001b[1;33m.\u001b[0m\u001b[0mmodel\u001b[0m\u001b[1;33m(\u001b[0m\u001b[1;33m*\u001b[0m\u001b[0mself\u001b[0m\u001b[1;33m.\u001b[0m\u001b[0mxb\u001b[0m\u001b[1;33m)\u001b[0m\u001b[1;33m\u001b[0m\u001b[1;33m\u001b[0m\u001b[0m\n\u001b[0m\u001b[0;32m    173\u001b[0m         \u001b[0mself\u001b[0m\u001b[1;33m(\u001b[0m\u001b[1;34m'after_pred'\u001b[0m\u001b[1;33m)\u001b[0m\u001b[1;33m\u001b[0m\u001b[1;33m\u001b[0m\u001b[0m\n\u001b[0;32m    174\u001b[0m         \u001b[1;32mif\u001b[0m \u001b[0mlen\u001b[0m\u001b[1;33m(\u001b[0m\u001b[0mself\u001b[0m\u001b[1;33m.\u001b[0m\u001b[0myb\u001b[0m\u001b[1;33m)\u001b[0m\u001b[1;33m:\u001b[0m\u001b[1;33m\u001b[0m\u001b[1;33m\u001b[0m\u001b[0m\n",
      "\u001b[1;32m~\\anaconda3\\envs\\datasc\\lib\\site-packages\\torch\\nn\\modules\\module.py\u001b[0m in \u001b[0;36m_call_impl\u001b[1;34m(self, *input, **kwargs)\u001b[0m\n\u001b[0;32m   1049\u001b[0m         if not (self._backward_hooks or self._forward_hooks or self._forward_pre_hooks or _global_backward_hooks\n\u001b[0;32m   1050\u001b[0m                 or _global_forward_hooks or _global_forward_pre_hooks):\n\u001b[1;32m-> 1051\u001b[1;33m             \u001b[1;32mreturn\u001b[0m \u001b[0mforward_call\u001b[0m\u001b[1;33m(\u001b[0m\u001b[1;33m*\u001b[0m\u001b[0minput\u001b[0m\u001b[1;33m,\u001b[0m \u001b[1;33m**\u001b[0m\u001b[0mkwargs\u001b[0m\u001b[1;33m)\u001b[0m\u001b[1;33m\u001b[0m\u001b[1;33m\u001b[0m\u001b[0m\n\u001b[0m\u001b[0;32m   1052\u001b[0m         \u001b[1;31m# Do not call functions when jit is used\u001b[0m\u001b[1;33m\u001b[0m\u001b[1;33m\u001b[0m\u001b[0m\n\u001b[0;32m   1053\u001b[0m         \u001b[0mfull_backward_hooks\u001b[0m\u001b[1;33m,\u001b[0m \u001b[0mnon_full_backward_hooks\u001b[0m \u001b[1;33m=\u001b[0m \u001b[1;33m[\u001b[0m\u001b[1;33m]\u001b[0m\u001b[1;33m,\u001b[0m \u001b[1;33m[\u001b[0m\u001b[1;33m]\u001b[0m\u001b[1;33m\u001b[0m\u001b[1;33m\u001b[0m\u001b[0m\n",
      "\u001b[1;32m~\\anaconda3\\envs\\datasc\\lib\\site-packages\\torch\\nn\\modules\\container.py\u001b[0m in \u001b[0;36mforward\u001b[1;34m(self, input)\u001b[0m\n\u001b[0;32m    137\u001b[0m     \u001b[1;32mdef\u001b[0m \u001b[0mforward\u001b[0m\u001b[1;33m(\u001b[0m\u001b[0mself\u001b[0m\u001b[1;33m,\u001b[0m \u001b[0minput\u001b[0m\u001b[1;33m)\u001b[0m\u001b[1;33m:\u001b[0m\u001b[1;33m\u001b[0m\u001b[1;33m\u001b[0m\u001b[0m\n\u001b[0;32m    138\u001b[0m         \u001b[1;32mfor\u001b[0m \u001b[0mmodule\u001b[0m \u001b[1;32min\u001b[0m \u001b[0mself\u001b[0m\u001b[1;33m:\u001b[0m\u001b[1;33m\u001b[0m\u001b[1;33m\u001b[0m\u001b[0m\n\u001b[1;32m--> 139\u001b[1;33m             \u001b[0minput\u001b[0m \u001b[1;33m=\u001b[0m \u001b[0mmodule\u001b[0m\u001b[1;33m(\u001b[0m\u001b[0minput\u001b[0m\u001b[1;33m)\u001b[0m\u001b[1;33m\u001b[0m\u001b[1;33m\u001b[0m\u001b[0m\n\u001b[0m\u001b[0;32m    140\u001b[0m         \u001b[1;32mreturn\u001b[0m \u001b[0minput\u001b[0m\u001b[1;33m\u001b[0m\u001b[1;33m\u001b[0m\u001b[0m\n\u001b[0;32m    141\u001b[0m \u001b[1;33m\u001b[0m\u001b[0m\n",
      "\u001b[1;32m~\\anaconda3\\envs\\datasc\\lib\\site-packages\\torch\\nn\\modules\\module.py\u001b[0m in \u001b[0;36m_call_impl\u001b[1;34m(self, *input, **kwargs)\u001b[0m\n\u001b[0;32m   1049\u001b[0m         if not (self._backward_hooks or self._forward_hooks or self._forward_pre_hooks or _global_backward_hooks\n\u001b[0;32m   1050\u001b[0m                 or _global_forward_hooks or _global_forward_pre_hooks):\n\u001b[1;32m-> 1051\u001b[1;33m             \u001b[1;32mreturn\u001b[0m \u001b[0mforward_call\u001b[0m\u001b[1;33m(\u001b[0m\u001b[1;33m*\u001b[0m\u001b[0minput\u001b[0m\u001b[1;33m,\u001b[0m \u001b[1;33m**\u001b[0m\u001b[0mkwargs\u001b[0m\u001b[1;33m)\u001b[0m\u001b[1;33m\u001b[0m\u001b[1;33m\u001b[0m\u001b[0m\n\u001b[0m\u001b[0;32m   1052\u001b[0m         \u001b[1;31m# Do not call functions when jit is used\u001b[0m\u001b[1;33m\u001b[0m\u001b[1;33m\u001b[0m\u001b[0m\n\u001b[0;32m   1053\u001b[0m         \u001b[0mfull_backward_hooks\u001b[0m\u001b[1;33m,\u001b[0m \u001b[0mnon_full_backward_hooks\u001b[0m \u001b[1;33m=\u001b[0m \u001b[1;33m[\u001b[0m\u001b[1;33m]\u001b[0m\u001b[1;33m,\u001b[0m \u001b[1;33m[\u001b[0m\u001b[1;33m]\u001b[0m\u001b[1;33m\u001b[0m\u001b[1;33m\u001b[0m\u001b[0m\n",
      "\u001b[1;32m~\\anaconda3\\envs\\datasc\\lib\\site-packages\\torch\\nn\\modules\\container.py\u001b[0m in \u001b[0;36mforward\u001b[1;34m(self, input)\u001b[0m\n\u001b[0;32m    137\u001b[0m     \u001b[1;32mdef\u001b[0m \u001b[0mforward\u001b[0m\u001b[1;33m(\u001b[0m\u001b[0mself\u001b[0m\u001b[1;33m,\u001b[0m \u001b[0minput\u001b[0m\u001b[1;33m)\u001b[0m\u001b[1;33m:\u001b[0m\u001b[1;33m\u001b[0m\u001b[1;33m\u001b[0m\u001b[0m\n\u001b[0;32m    138\u001b[0m         \u001b[1;32mfor\u001b[0m \u001b[0mmodule\u001b[0m \u001b[1;32min\u001b[0m \u001b[0mself\u001b[0m\u001b[1;33m:\u001b[0m\u001b[1;33m\u001b[0m\u001b[1;33m\u001b[0m\u001b[0m\n\u001b[1;32m--> 139\u001b[1;33m             \u001b[0minput\u001b[0m \u001b[1;33m=\u001b[0m \u001b[0mmodule\u001b[0m\u001b[1;33m(\u001b[0m\u001b[0minput\u001b[0m\u001b[1;33m)\u001b[0m\u001b[1;33m\u001b[0m\u001b[1;33m\u001b[0m\u001b[0m\n\u001b[0m\u001b[0;32m    140\u001b[0m         \u001b[1;32mreturn\u001b[0m \u001b[0minput\u001b[0m\u001b[1;33m\u001b[0m\u001b[1;33m\u001b[0m\u001b[0m\n\u001b[0;32m    141\u001b[0m \u001b[1;33m\u001b[0m\u001b[0m\n",
      "\u001b[1;32m~\\anaconda3\\envs\\datasc\\lib\\site-packages\\torch\\nn\\modules\\module.py\u001b[0m in \u001b[0;36m_call_impl\u001b[1;34m(self, *input, **kwargs)\u001b[0m\n\u001b[0;32m   1049\u001b[0m         if not (self._backward_hooks or self._forward_hooks or self._forward_pre_hooks or _global_backward_hooks\n\u001b[0;32m   1050\u001b[0m                 or _global_forward_hooks or _global_forward_pre_hooks):\n\u001b[1;32m-> 1051\u001b[1;33m             \u001b[1;32mreturn\u001b[0m \u001b[0mforward_call\u001b[0m\u001b[1;33m(\u001b[0m\u001b[1;33m*\u001b[0m\u001b[0minput\u001b[0m\u001b[1;33m,\u001b[0m \u001b[1;33m**\u001b[0m\u001b[0mkwargs\u001b[0m\u001b[1;33m)\u001b[0m\u001b[1;33m\u001b[0m\u001b[1;33m\u001b[0m\u001b[0m\n\u001b[0m\u001b[0;32m   1052\u001b[0m         \u001b[1;31m# Do not call functions when jit is used\u001b[0m\u001b[1;33m\u001b[0m\u001b[1;33m\u001b[0m\u001b[0m\n\u001b[0;32m   1053\u001b[0m         \u001b[0mfull_backward_hooks\u001b[0m\u001b[1;33m,\u001b[0m \u001b[0mnon_full_backward_hooks\u001b[0m \u001b[1;33m=\u001b[0m \u001b[1;33m[\u001b[0m\u001b[1;33m]\u001b[0m\u001b[1;33m,\u001b[0m \u001b[1;33m[\u001b[0m\u001b[1;33m]\u001b[0m\u001b[1;33m\u001b[0m\u001b[1;33m\u001b[0m\u001b[0m\n",
      "\u001b[1;32m~\\anaconda3\\envs\\datasc\\lib\\site-packages\\torch\\nn\\modules\\container.py\u001b[0m in \u001b[0;36mforward\u001b[1;34m(self, input)\u001b[0m\n\u001b[0;32m    137\u001b[0m     \u001b[1;32mdef\u001b[0m \u001b[0mforward\u001b[0m\u001b[1;33m(\u001b[0m\u001b[0mself\u001b[0m\u001b[1;33m,\u001b[0m \u001b[0minput\u001b[0m\u001b[1;33m)\u001b[0m\u001b[1;33m:\u001b[0m\u001b[1;33m\u001b[0m\u001b[1;33m\u001b[0m\u001b[0m\n\u001b[0;32m    138\u001b[0m         \u001b[1;32mfor\u001b[0m \u001b[0mmodule\u001b[0m \u001b[1;32min\u001b[0m \u001b[0mself\u001b[0m\u001b[1;33m:\u001b[0m\u001b[1;33m\u001b[0m\u001b[1;33m\u001b[0m\u001b[0m\n\u001b[1;32m--> 139\u001b[1;33m             \u001b[0minput\u001b[0m \u001b[1;33m=\u001b[0m \u001b[0mmodule\u001b[0m\u001b[1;33m(\u001b[0m\u001b[0minput\u001b[0m\u001b[1;33m)\u001b[0m\u001b[1;33m\u001b[0m\u001b[1;33m\u001b[0m\u001b[0m\n\u001b[0m\u001b[0;32m    140\u001b[0m         \u001b[1;32mreturn\u001b[0m \u001b[0minput\u001b[0m\u001b[1;33m\u001b[0m\u001b[1;33m\u001b[0m\u001b[0m\n\u001b[0;32m    141\u001b[0m \u001b[1;33m\u001b[0m\u001b[0m\n",
      "\u001b[1;32m~\\anaconda3\\envs\\datasc\\lib\\site-packages\\torch\\nn\\modules\\module.py\u001b[0m in \u001b[0;36m_call_impl\u001b[1;34m(self, *input, **kwargs)\u001b[0m\n\u001b[0;32m   1049\u001b[0m         if not (self._backward_hooks or self._forward_hooks or self._forward_pre_hooks or _global_backward_hooks\n\u001b[0;32m   1050\u001b[0m                 or _global_forward_hooks or _global_forward_pre_hooks):\n\u001b[1;32m-> 1051\u001b[1;33m             \u001b[1;32mreturn\u001b[0m \u001b[0mforward_call\u001b[0m\u001b[1;33m(\u001b[0m\u001b[1;33m*\u001b[0m\u001b[0minput\u001b[0m\u001b[1;33m,\u001b[0m \u001b[1;33m**\u001b[0m\u001b[0mkwargs\u001b[0m\u001b[1;33m)\u001b[0m\u001b[1;33m\u001b[0m\u001b[1;33m\u001b[0m\u001b[0m\n\u001b[0m\u001b[0;32m   1052\u001b[0m         \u001b[1;31m# Do not call functions when jit is used\u001b[0m\u001b[1;33m\u001b[0m\u001b[1;33m\u001b[0m\u001b[0m\n\u001b[0;32m   1053\u001b[0m         \u001b[0mfull_backward_hooks\u001b[0m\u001b[1;33m,\u001b[0m \u001b[0mnon_full_backward_hooks\u001b[0m \u001b[1;33m=\u001b[0m \u001b[1;33m[\u001b[0m\u001b[1;33m]\u001b[0m\u001b[1;33m,\u001b[0m \u001b[1;33m[\u001b[0m\u001b[1;33m]\u001b[0m\u001b[1;33m\u001b[0m\u001b[1;33m\u001b[0m\u001b[0m\n",
      "\u001b[1;32m~\\anaconda3\\envs\\datasc\\lib\\site-packages\\torch\\nn\\modules\\batchnorm.py\u001b[0m in \u001b[0;36mforward\u001b[1;34m(self, input)\u001b[0m\n\u001b[0;32m    165\u001b[0m         \u001b[0mused\u001b[0m \u001b[1;32mfor\u001b[0m \u001b[0mnormalization\u001b[0m \u001b[1;33m(\u001b[0m\u001b[0mi\u001b[0m\u001b[1;33m.\u001b[0m\u001b[0me\u001b[0m\u001b[1;33m.\u001b[0m \u001b[1;32min\u001b[0m \u001b[0meval\u001b[0m \u001b[0mmode\u001b[0m \u001b[0mwhen\u001b[0m \u001b[0mbuffers\u001b[0m \u001b[0mare\u001b[0m \u001b[1;32mnot\u001b[0m \u001b[1;32mNone\u001b[0m\u001b[1;33m)\u001b[0m\u001b[1;33m.\u001b[0m\u001b[1;33m\u001b[0m\u001b[1;33m\u001b[0m\u001b[0m\n\u001b[0;32m    166\u001b[0m         \"\"\"\n\u001b[1;32m--> 167\u001b[1;33m         return F.batch_norm(\n\u001b[0m\u001b[0;32m    168\u001b[0m             \u001b[0minput\u001b[0m\u001b[1;33m,\u001b[0m\u001b[1;33m\u001b[0m\u001b[1;33m\u001b[0m\u001b[0m\n\u001b[0;32m    169\u001b[0m             \u001b[1;31m# If buffers are not to be tracked, ensure that they won't be updated\u001b[0m\u001b[1;33m\u001b[0m\u001b[1;33m\u001b[0m\u001b[0m\n",
      "\u001b[1;32m~\\anaconda3\\envs\\datasc\\lib\\site-packages\\torch\\nn\\functional.py\u001b[0m in \u001b[0;36mbatch_norm\u001b[1;34m(input, running_mean, running_var, weight, bias, training, momentum, eps)\u001b[0m\n\u001b[0;32m   2264\u001b[0m     \"\"\"\n\u001b[0;32m   2265\u001b[0m     \u001b[1;32mif\u001b[0m \u001b[0mhas_torch_function_unary\u001b[0m\u001b[1;33m(\u001b[0m\u001b[0minput\u001b[0m\u001b[1;33m)\u001b[0m\u001b[1;33m:\u001b[0m\u001b[1;33m\u001b[0m\u001b[1;33m\u001b[0m\u001b[0m\n\u001b[1;32m-> 2266\u001b[1;33m         return handle_torch_function(\n\u001b[0m\u001b[0;32m   2267\u001b[0m             \u001b[0mbatch_norm\u001b[0m\u001b[1;33m,\u001b[0m\u001b[1;33m\u001b[0m\u001b[1;33m\u001b[0m\u001b[0m\n\u001b[0;32m   2268\u001b[0m             \u001b[1;33m(\u001b[0m\u001b[0minput\u001b[0m\u001b[1;33m,\u001b[0m\u001b[1;33m)\u001b[0m\u001b[1;33m,\u001b[0m\u001b[1;33m\u001b[0m\u001b[1;33m\u001b[0m\u001b[0m\n",
      "\u001b[1;32m~\\anaconda3\\envs\\datasc\\lib\\site-packages\\torch\\overrides.py\u001b[0m in \u001b[0;36mhandle_torch_function\u001b[1;34m(public_api, relevant_args, *args, **kwargs)\u001b[0m\n\u001b[0;32m   1250\u001b[0m         \u001b[1;31m# Use `public_api` instead of `implementation` so __torch_function__\u001b[0m\u001b[1;33m\u001b[0m\u001b[1;33m\u001b[0m\u001b[0m\n\u001b[0;32m   1251\u001b[0m         \u001b[1;31m# implementations can do equality/identity comparisons.\u001b[0m\u001b[1;33m\u001b[0m\u001b[1;33m\u001b[0m\u001b[0m\n\u001b[1;32m-> 1252\u001b[1;33m         \u001b[0mresult\u001b[0m \u001b[1;33m=\u001b[0m \u001b[0moverloaded_arg\u001b[0m\u001b[1;33m.\u001b[0m\u001b[0m__torch_function__\u001b[0m\u001b[1;33m(\u001b[0m\u001b[0mpublic_api\u001b[0m\u001b[1;33m,\u001b[0m \u001b[0mtypes\u001b[0m\u001b[1;33m,\u001b[0m \u001b[0margs\u001b[0m\u001b[1;33m,\u001b[0m \u001b[0mkwargs\u001b[0m\u001b[1;33m)\u001b[0m\u001b[1;33m\u001b[0m\u001b[1;33m\u001b[0m\u001b[0m\n\u001b[0m\u001b[0;32m   1253\u001b[0m \u001b[1;33m\u001b[0m\u001b[0m\n\u001b[0;32m   1254\u001b[0m         \u001b[1;32mif\u001b[0m \u001b[0mresult\u001b[0m \u001b[1;32mis\u001b[0m \u001b[1;32mnot\u001b[0m \u001b[0mNotImplemented\u001b[0m\u001b[1;33m:\u001b[0m\u001b[1;33m\u001b[0m\u001b[1;33m\u001b[0m\u001b[0m\n",
      "\u001b[1;32m~\\anaconda3\\envs\\datasc\\lib\\site-packages\\fastai\\torch_core.py\u001b[0m in \u001b[0;36m__torch_function__\u001b[1;34m(self, func, types, args, kwargs)\u001b[0m\n\u001b[0;32m    338\u001b[0m         \u001b[0mconvert\u001b[0m\u001b[1;33m=\u001b[0m\u001b[1;32mFalse\u001b[0m\u001b[1;33m\u001b[0m\u001b[1;33m\u001b[0m\u001b[0m\n\u001b[0;32m    339\u001b[0m         \u001b[1;32mif\u001b[0m \u001b[0m_torch_handled\u001b[0m\u001b[1;33m(\u001b[0m\u001b[0margs\u001b[0m\u001b[1;33m,\u001b[0m \u001b[0mself\u001b[0m\u001b[1;33m.\u001b[0m\u001b[0m_opt\u001b[0m\u001b[1;33m,\u001b[0m \u001b[0mfunc\u001b[0m\u001b[1;33m)\u001b[0m\u001b[1;33m:\u001b[0m \u001b[0mconvert\u001b[0m\u001b[1;33m,\u001b[0m\u001b[0mtypes\u001b[0m \u001b[1;33m=\u001b[0m \u001b[0mtype\u001b[0m\u001b[1;33m(\u001b[0m\u001b[0mself\u001b[0m\u001b[1;33m)\u001b[0m\u001b[1;33m,\u001b[0m\u001b[1;33m(\u001b[0m\u001b[0mtorch\u001b[0m\u001b[1;33m.\u001b[0m\u001b[0mTensor\u001b[0m\u001b[1;33m,\u001b[0m\u001b[1;33m)\u001b[0m\u001b[1;33m\u001b[0m\u001b[1;33m\u001b[0m\u001b[0m\n\u001b[1;32m--> 340\u001b[1;33m         \u001b[0mres\u001b[0m \u001b[1;33m=\u001b[0m \u001b[0msuper\u001b[0m\u001b[1;33m(\u001b[0m\u001b[1;33m)\u001b[0m\u001b[1;33m.\u001b[0m\u001b[0m__torch_function__\u001b[0m\u001b[1;33m(\u001b[0m\u001b[0mfunc\u001b[0m\u001b[1;33m,\u001b[0m \u001b[0mtypes\u001b[0m\u001b[1;33m,\u001b[0m \u001b[0margs\u001b[0m\u001b[1;33m=\u001b[0m\u001b[0margs\u001b[0m\u001b[1;33m,\u001b[0m \u001b[0mkwargs\u001b[0m\u001b[1;33m=\u001b[0m\u001b[0mkwargs\u001b[0m\u001b[1;33m)\u001b[0m\u001b[1;33m\u001b[0m\u001b[1;33m\u001b[0m\u001b[0m\n\u001b[0m\u001b[0;32m    341\u001b[0m         \u001b[1;32mif\u001b[0m \u001b[0mconvert\u001b[0m\u001b[1;33m:\u001b[0m \u001b[0mres\u001b[0m \u001b[1;33m=\u001b[0m \u001b[0mconvert\u001b[0m\u001b[1;33m(\u001b[0m\u001b[0mres\u001b[0m\u001b[1;33m)\u001b[0m\u001b[1;33m\u001b[0m\u001b[1;33m\u001b[0m\u001b[0m\n\u001b[0;32m    342\u001b[0m         \u001b[1;32mif\u001b[0m \u001b[0misinstance\u001b[0m\u001b[1;33m(\u001b[0m\u001b[0mres\u001b[0m\u001b[1;33m,\u001b[0m \u001b[0mTensorBase\u001b[0m\u001b[1;33m)\u001b[0m\u001b[1;33m:\u001b[0m \u001b[0mres\u001b[0m\u001b[1;33m.\u001b[0m\u001b[0mset_meta\u001b[0m\u001b[1;33m(\u001b[0m\u001b[0mself\u001b[0m\u001b[1;33m,\u001b[0m \u001b[0mas_copy\u001b[0m\u001b[1;33m=\u001b[0m\u001b[1;32mTrue\u001b[0m\u001b[1;33m)\u001b[0m\u001b[1;33m\u001b[0m\u001b[1;33m\u001b[0m\u001b[0m\n",
      "\u001b[1;32m~\\anaconda3\\envs\\datasc\\lib\\site-packages\\torch\\_tensor.py\u001b[0m in \u001b[0;36m__torch_function__\u001b[1;34m(cls, func, types, args, kwargs)\u001b[0m\n\u001b[0;32m   1021\u001b[0m \u001b[1;33m\u001b[0m\u001b[0m\n\u001b[0;32m   1022\u001b[0m         \u001b[1;32mwith\u001b[0m \u001b[0m_C\u001b[0m\u001b[1;33m.\u001b[0m\u001b[0mDisableTorchFunction\u001b[0m\u001b[1;33m(\u001b[0m\u001b[1;33m)\u001b[0m\u001b[1;33m:\u001b[0m\u001b[1;33m\u001b[0m\u001b[1;33m\u001b[0m\u001b[0m\n\u001b[1;32m-> 1023\u001b[1;33m             \u001b[0mret\u001b[0m \u001b[1;33m=\u001b[0m \u001b[0mfunc\u001b[0m\u001b[1;33m(\u001b[0m\u001b[1;33m*\u001b[0m\u001b[0margs\u001b[0m\u001b[1;33m,\u001b[0m \u001b[1;33m**\u001b[0m\u001b[0mkwargs\u001b[0m\u001b[1;33m)\u001b[0m\u001b[1;33m\u001b[0m\u001b[1;33m\u001b[0m\u001b[0m\n\u001b[0m\u001b[0;32m   1024\u001b[0m             \u001b[1;32mreturn\u001b[0m \u001b[0m_convert\u001b[0m\u001b[1;33m(\u001b[0m\u001b[0mret\u001b[0m\u001b[1;33m,\u001b[0m \u001b[0mcls\u001b[0m\u001b[1;33m)\u001b[0m\u001b[1;33m\u001b[0m\u001b[1;33m\u001b[0m\u001b[0m\n\u001b[0;32m   1025\u001b[0m \u001b[1;33m\u001b[0m\u001b[0m\n",
      "\u001b[1;32m~\\anaconda3\\envs\\datasc\\lib\\site-packages\\torch\\nn\\functional.py\u001b[0m in \u001b[0;36mbatch_norm\u001b[1;34m(input, running_mean, running_var, weight, bias, training, momentum, eps)\u001b[0m\n\u001b[0;32m   2279\u001b[0m         \u001b[0m_verify_batch_size\u001b[0m\u001b[1;33m(\u001b[0m\u001b[0minput\u001b[0m\u001b[1;33m.\u001b[0m\u001b[0msize\u001b[0m\u001b[1;33m(\u001b[0m\u001b[1;33m)\u001b[0m\u001b[1;33m)\u001b[0m\u001b[1;33m\u001b[0m\u001b[1;33m\u001b[0m\u001b[0m\n\u001b[0;32m   2280\u001b[0m \u001b[1;33m\u001b[0m\u001b[0m\n\u001b[1;32m-> 2281\u001b[1;33m     return torch.batch_norm(\n\u001b[0m\u001b[0;32m   2282\u001b[0m         \u001b[0minput\u001b[0m\u001b[1;33m,\u001b[0m \u001b[0mweight\u001b[0m\u001b[1;33m,\u001b[0m \u001b[0mbias\u001b[0m\u001b[1;33m,\u001b[0m \u001b[0mrunning_mean\u001b[0m\u001b[1;33m,\u001b[0m \u001b[0mrunning_var\u001b[0m\u001b[1;33m,\u001b[0m \u001b[0mtraining\u001b[0m\u001b[1;33m,\u001b[0m \u001b[0mmomentum\u001b[0m\u001b[1;33m,\u001b[0m \u001b[0meps\u001b[0m\u001b[1;33m,\u001b[0m \u001b[0mtorch\u001b[0m\u001b[1;33m.\u001b[0m\u001b[0mbackends\u001b[0m\u001b[1;33m.\u001b[0m\u001b[0mcudnn\u001b[0m\u001b[1;33m.\u001b[0m\u001b[0menabled\u001b[0m\u001b[1;33m\u001b[0m\u001b[1;33m\u001b[0m\u001b[0m\n\u001b[0;32m   2283\u001b[0m     )\n",
      "\u001b[1;31mRuntimeError\u001b[0m: CUDA out of memory. Tried to allocate 14.00 MiB (GPU 0; 4.00 GiB total capacity; 2.03 GiB already allocated; 0 bytes free; 2.06 GiB reserved in total by PyTorch)"
     ]
    }
   ],
   "source": [
    "learn.lr_find()"
   ]
  },
  {
   "cell_type": "code",
   "execution_count": 13,
   "id": "aab9f026-8749-42b2-abfb-60aa7c10aacb",
   "metadata": {},
   "outputs": [],
   "source": [
    "learn.unfreeze()"
   ]
  },
  {
   "cell_type": "code",
   "execution_count": 22,
   "id": "cd1f3ab9-a177-498f-9922-bf7ec2dd9724",
   "metadata": {},
   "outputs": [
    {
     "data": {
      "text/html": [
       "<table border=\"1\" class=\"dataframe\">\n",
       "  <thead>\n",
       "    <tr style=\"text-align: left;\">\n",
       "      <th>epoch</th>\n",
       "      <th>train_loss</th>\n",
       "      <th>valid_loss</th>\n",
       "      <th>accuracy</th>\n",
       "      <th>balanced_accuracy_score</th>\n",
       "      <th>precision_score</th>\n",
       "      <th>recall_score</th>\n",
       "      <th>f1_score</th>\n",
       "      <th>roc_auc_score</th>\n",
       "      <th>time</th>\n",
       "    </tr>\n",
       "  </thead>\n",
       "  <tbody>\n",
       "    <tr>\n",
       "      <td>0</td>\n",
       "      <td>0.436201</td>\n",
       "      <td>0.394196</td>\n",
       "      <td>0.818719</td>\n",
       "      <td>0.667193</td>\n",
       "      <td>0.732174</td>\n",
       "      <td>0.667193</td>\n",
       "      <td>0.688131</td>\n",
       "      <td>0.833504</td>\n",
       "      <td>15:28</td>\n",
       "    </tr>\n",
       "    <tr>\n",
       "      <td>1</td>\n",
       "      <td>0.389233</td>\n",
       "      <td>0.370661</td>\n",
       "      <td>0.823470</td>\n",
       "      <td>0.686601</td>\n",
       "      <td>0.739059</td>\n",
       "      <td>0.686601</td>\n",
       "      <td>0.705607</td>\n",
       "      <td>0.852366</td>\n",
       "      <td>13:16</td>\n",
       "    </tr>\n",
       "    <tr>\n",
       "      <td>2</td>\n",
       "      <td>0.387598</td>\n",
       "      <td>0.369257</td>\n",
       "      <td>0.824986</td>\n",
       "      <td>0.651225</td>\n",
       "      <td>0.757148</td>\n",
       "      <td>0.651225</td>\n",
       "      <td>0.677218</td>\n",
       "      <td>0.855345</td>\n",
       "      <td>13:02</td>\n",
       "    </tr>\n",
       "    <tr>\n",
       "      <td>3</td>\n",
       "      <td>0.385268</td>\n",
       "      <td>0.371153</td>\n",
       "      <td>0.824481</td>\n",
       "      <td>0.702767</td>\n",
       "      <td>0.738747</td>\n",
       "      <td>0.702767</td>\n",
       "      <td>0.717345</td>\n",
       "      <td>0.856957</td>\n",
       "      <td>13:08</td>\n",
       "    </tr>\n",
       "    <tr>\n",
       "      <td>4</td>\n",
       "      <td>0.361183</td>\n",
       "      <td>0.360882</td>\n",
       "      <td>0.826856</td>\n",
       "      <td>0.681466</td>\n",
       "      <td>0.748338</td>\n",
       "      <td>0.681466</td>\n",
       "      <td>0.703760</td>\n",
       "      <td>0.860220</td>\n",
       "      <td>13:11</td>\n",
       "    </tr>\n",
       "    <tr>\n",
       "      <td>5</td>\n",
       "      <td>0.377206</td>\n",
       "      <td>0.360311</td>\n",
       "      <td>0.826755</td>\n",
       "      <td>0.669087</td>\n",
       "      <td>0.752864</td>\n",
       "      <td>0.669087</td>\n",
       "      <td>0.693856</td>\n",
       "      <td>0.861242</td>\n",
       "      <td>13:20</td>\n",
       "    </tr>\n",
       "    <tr>\n",
       "      <td>6</td>\n",
       "      <td>0.376911</td>\n",
       "      <td>0.358095</td>\n",
       "      <td>0.826907</td>\n",
       "      <td>0.670311</td>\n",
       "      <td>0.752747</td>\n",
       "      <td>0.670311</td>\n",
       "      <td>0.694949</td>\n",
       "      <td>0.862589</td>\n",
       "      <td>13:19</td>\n",
       "    </tr>\n",
       "    <tr>\n",
       "      <td>7</td>\n",
       "      <td>0.365888</td>\n",
       "      <td>0.359787</td>\n",
       "      <td>0.827665</td>\n",
       "      <td>0.669144</td>\n",
       "      <td>0.755526</td>\n",
       "      <td>0.669144</td>\n",
       "      <td>0.694383</td>\n",
       "      <td>0.863660</td>\n",
       "      <td>13:25</td>\n",
       "    </tr>\n",
       "    <tr>\n",
       "      <td>8</td>\n",
       "      <td>0.363157</td>\n",
       "      <td>0.356492</td>\n",
       "      <td>0.827665</td>\n",
       "      <td>0.670619</td>\n",
       "      <td>0.754813</td>\n",
       "      <td>0.670619</td>\n",
       "      <td>0.695607</td>\n",
       "      <td>0.864170</td>\n",
       "      <td>13:32</td>\n",
       "    </tr>\n",
       "    <tr>\n",
       "      <td>9</td>\n",
       "      <td>0.374349</td>\n",
       "      <td>0.356720</td>\n",
       "      <td>0.828221</td>\n",
       "      <td>0.668283</td>\n",
       "      <td>0.757652</td>\n",
       "      <td>0.668283</td>\n",
       "      <td>0.693954</td>\n",
       "      <td>0.864589</td>\n",
       "      <td>13:34</td>\n",
       "    </tr>\n",
       "  </tbody>\n",
       "</table>"
      ],
      "text/plain": [
       "<IPython.core.display.HTML object>"
      ]
     },
     "metadata": {},
     "output_type": "display_data"
    }
   ],
   "source": [
    "learn.fit_one_cycle(10)"
   ]
  },
  {
   "cell_type": "code",
   "execution_count": 23,
   "id": "e7e1186a-d09b-4ead-a8db-46454c5c4dc0",
   "metadata": {},
   "outputs": [
    {
     "data": {
      "text/plain": [
       "['rural', 'urban']"
      ]
     },
     "execution_count": 23,
     "metadata": {},
     "output_type": "execute_result"
    }
   ],
   "source": [
    "dls.vocab"
   ]
  },
  {
   "cell_type": "code",
   "execution_count": 24,
   "id": "c5830bb5-c0bb-4680-b773-150c9ee2002c",
   "metadata": {},
   "outputs": [
    {
     "data": {
      "text/plain": [
       "Path('urban/32100900170013.jpg')"
      ]
     },
     "execution_count": 24,
     "metadata": {},
     "output_type": "execute_result"
    }
   ],
   "source": [
    "dls.train.items[175000]"
   ]
  },
  {
   "cell_type": "code",
   "execution_count": 25,
   "id": "547ba6e2-d5a2-4f29-9dcb-fb9b2e109a5d",
   "metadata": {},
   "outputs": [],
   "source": [
    "learn.export('C:/Users/jwst2/Python/tesis/models/19042020 D003.pkl')"
   ]
  },
  {
   "cell_type": "markdown",
   "id": "a06daf77-bb94-4097-bc8f-263a1c65aed5",
   "metadata": {},
   "source": [
    "### Up level"
   ]
  },
  {
   "cell_type": "code",
   "execution_count": 26,
   "id": "f975b391-1a56-4d3c-ab42-829ace1febc3",
   "metadata": {},
   "outputs": [],
   "source": [
    "idx_train = []\n",
    "for i in dls.train.items:\n",
    "    idx_train.append(str(i)[-18:-4])\n",
    "true_label = []\n",
    "for i in dls.train.items:\n",
    "    if(\"urban\" in str(i)) :\n",
    "        true_label.append(1)\n",
    "    else :\n",
    "        true_label.append(0)"
   ]
  },
  {
   "cell_type": "code",
   "execution_count": 27,
   "id": "1b9a6293-8ded-4ccd-8be5-282e8abf5ef4",
   "metadata": {},
   "outputs": [
    {
     "data": {
      "text/html": [],
      "text/plain": [
       "<IPython.core.display.HTML object>"
      ]
     },
     "metadata": {},
     "output_type": "display_data"
    }
   ],
   "source": [
    "preds,_ = learn.get_preds(ds_idx  = 0)\n",
    "result_train = preds.numpy()\n",
    "new_train = pd.DataFrame(result_train)"
   ]
  },
  {
   "cell_type": "code",
   "execution_count": 28,
   "id": "f6f18366-923e-49d5-8470-4f5c63b89975",
   "metadata": {},
   "outputs": [
    {
     "data": {
      "text/plain": [
       "1    140272\n",
       "0     37820\n",
       "dtype: int64"
      ]
     },
     "execution_count": 28,
     "metadata": {},
     "output_type": "execute_result"
    }
   ],
   "source": [
    "pd.value_counts(true_label)"
   ]
  },
  {
   "cell_type": "code",
   "execution_count": 29,
   "id": "7baa9c67-e0bf-4fa0-b699-81028a698288",
   "metadata": {},
   "outputs": [
    {
     "data": {
      "text/html": [
       "<div>\n",
       "<style scoped>\n",
       "    .dataframe tbody tr th:only-of-type {\n",
       "        vertical-align: middle;\n",
       "    }\n",
       "\n",
       "    .dataframe tbody tr th {\n",
       "        vertical-align: top;\n",
       "    }\n",
       "\n",
       "    .dataframe thead th {\n",
       "        text-align: right;\n",
       "    }\n",
       "</style>\n",
       "<table border=\"1\" class=\"dataframe\">\n",
       "  <thead>\n",
       "    <tr style=\"text-align: right;\">\n",
       "      <th></th>\n",
       "      <th>0</th>\n",
       "      <th>1</th>\n",
       "      <th>idsls</th>\n",
       "      <th>stat</th>\n",
       "      <th>iddesa</th>\n",
       "    </tr>\n",
       "  </thead>\n",
       "  <tbody>\n",
       "    <tr>\n",
       "      <th>0</th>\n",
       "      <td>0.002962</td>\n",
       "      <td>0.997038</td>\n",
       "      <td>32731000020061</td>\n",
       "      <td>1.0</td>\n",
       "      <td>3273100002</td>\n",
       "    </tr>\n",
       "    <tr>\n",
       "      <th>1</th>\n",
       "      <td>0.063439</td>\n",
       "      <td>0.936561</td>\n",
       "      <td>32150500070004</td>\n",
       "      <td>1.0</td>\n",
       "      <td>3215050007</td>\n",
       "    </tr>\n",
       "    <tr>\n",
       "      <th>2</th>\n",
       "      <td>0.258244</td>\n",
       "      <td>0.741756</td>\n",
       "      <td>32022100131006</td>\n",
       "      <td>1.0</td>\n",
       "      <td>3202210013</td>\n",
       "    </tr>\n",
       "    <tr>\n",
       "      <th>3</th>\n",
       "      <td>0.077709</td>\n",
       "      <td>0.922291</td>\n",
       "      <td>32081500110025</td>\n",
       "      <td>1.0</td>\n",
       "      <td>3208150011</td>\n",
       "    </tr>\n",
       "    <tr>\n",
       "      <th>4</th>\n",
       "      <td>0.184460</td>\n",
       "      <td>0.815540</td>\n",
       "      <td>32110500010021</td>\n",
       "      <td>1.0</td>\n",
       "      <td>3211050001</td>\n",
       "    </tr>\n",
       "  </tbody>\n",
       "</table>\n",
       "</div>"
      ],
      "text/plain": [
       "          0         1           idsls  stat      iddesa\n",
       "0  0.002962  0.997038  32731000020061   1.0  3273100002\n",
       "1  0.063439  0.936561  32150500070004   1.0  3215050007\n",
       "2  0.258244  0.741756  32022100131006   1.0  3202210013\n",
       "3  0.077709  0.922291  32081500110025   1.0  3208150011\n",
       "4  0.184460  0.815540  32110500010021   1.0  3211050001"
      ]
     },
     "execution_count": 29,
     "metadata": {},
     "output_type": "execute_result"
    }
   ],
   "source": [
    "df = new_train\n",
    "df[\"idsls\"] = idx_train \n",
    "df[\"stat\"] = round(df[1])\n",
    "df[\"iddesa\"] = df.idsls.str[:10]\n",
    "df.head()"
   ]
  },
  {
   "cell_type": "code",
   "execution_count": 30,
   "id": "27375754-0aa1-4dde-af27-3d7f20cb244c",
   "metadata": {},
   "outputs": [
    {
     "data": {
      "text/plain": [
       "1.0    155654\n",
       "0.0     22438\n",
       "Name: stat, dtype: int64"
      ]
     },
     "execution_count": 30,
     "metadata": {},
     "output_type": "execute_result"
    }
   ],
   "source": [
    "pd.value_counts(df.stat)"
   ]
  },
  {
   "cell_type": "code",
   "execution_count": 31,
   "id": "51e93c51-a1f1-4c0d-92e0-984e5b78d065",
   "metadata": {},
   "outputs": [],
   "source": [
    "df[\"true_lab\"] = true_label"
   ]
  },
  {
   "cell_type": "code",
   "execution_count": 32,
   "id": "0823d3a6-312e-4355-b198-23eae6063316",
   "metadata": {},
   "outputs": [
    {
     "data": {
      "text/plain": [
       "1    140272\n",
       "0     37820\n",
       "Name: true_lab, dtype: int64"
      ]
     },
     "execution_count": 32,
     "metadata": {},
     "output_type": "execute_result"
    }
   ],
   "source": [
    "pd.value_counts(df.true_lab)"
   ]
  },
  {
   "cell_type": "code",
   "execution_count": 33,
   "id": "84ffac8a-28bd-4e7c-97b0-e4b46e397e64",
   "metadata": {},
   "outputs": [
    {
     "data": {
      "text/plain": [
       "0.8276845675268962"
      ]
     },
     "execution_count": 33,
     "metadata": {},
     "output_type": "execute_result"
    }
   ],
   "source": [
    "accuracy_score(df.stat.apply(int),df.true_lab.apply(int))"
   ]
  },
  {
   "cell_type": "code",
   "execution_count": 34,
   "id": "caadfca2-e80e-4d01-8e5c-16c22d8e3900",
   "metadata": {},
   "outputs": [
    {
     "data": {
      "text/html": [
       "<div>\n",
       "<style scoped>\n",
       "    .dataframe tbody tr th:only-of-type {\n",
       "        vertical-align: middle;\n",
       "    }\n",
       "\n",
       "    .dataframe tbody tr th {\n",
       "        vertical-align: top;\n",
       "    }\n",
       "\n",
       "    .dataframe thead th {\n",
       "        text-align: right;\n",
       "    }\n",
       "</style>\n",
       "<table border=\"1\" class=\"dataframe\">\n",
       "  <thead>\n",
       "    <tr style=\"text-align: right;\">\n",
       "      <th></th>\n",
       "      <th>0</th>\n",
       "      <th>1</th>\n",
       "      <th>idsls</th>\n",
       "      <th>stat</th>\n",
       "      <th>iddesa</th>\n",
       "      <th>true_lab</th>\n",
       "    </tr>\n",
       "  </thead>\n",
       "  <tbody>\n",
       "    <tr>\n",
       "      <th>0</th>\n",
       "      <td>0.002962</td>\n",
       "      <td>0.997038</td>\n",
       "      <td>32731000020061</td>\n",
       "      <td>1.0</td>\n",
       "      <td>3273100002</td>\n",
       "      <td>1</td>\n",
       "    </tr>\n",
       "    <tr>\n",
       "      <th>1</th>\n",
       "      <td>0.063439</td>\n",
       "      <td>0.936561</td>\n",
       "      <td>32150500070004</td>\n",
       "      <td>1.0</td>\n",
       "      <td>3215050007</td>\n",
       "      <td>1</td>\n",
       "    </tr>\n",
       "    <tr>\n",
       "      <th>2</th>\n",
       "      <td>0.258244</td>\n",
       "      <td>0.741756</td>\n",
       "      <td>32022100131006</td>\n",
       "      <td>1.0</td>\n",
       "      <td>3202210013</td>\n",
       "      <td>1</td>\n",
       "    </tr>\n",
       "    <tr>\n",
       "      <th>3</th>\n",
       "      <td>0.077709</td>\n",
       "      <td>0.922291</td>\n",
       "      <td>32081500110025</td>\n",
       "      <td>1.0</td>\n",
       "      <td>3208150011</td>\n",
       "      <td>1</td>\n",
       "    </tr>\n",
       "    <tr>\n",
       "      <th>4</th>\n",
       "      <td>0.184460</td>\n",
       "      <td>0.815540</td>\n",
       "      <td>32110500010021</td>\n",
       "      <td>1.0</td>\n",
       "      <td>3211050001</td>\n",
       "      <td>1</td>\n",
       "    </tr>\n",
       "  </tbody>\n",
       "</table>\n",
       "</div>"
      ],
      "text/plain": [
       "          0         1           idsls  stat      iddesa  true_lab\n",
       "0  0.002962  0.997038  32731000020061   1.0  3273100002         1\n",
       "1  0.063439  0.936561  32150500070004   1.0  3215050007         1\n",
       "2  0.258244  0.741756  32022100131006   1.0  3202210013         1\n",
       "3  0.077709  0.922291  32081500110025   1.0  3208150011         1\n",
       "4  0.184460  0.815540  32110500010021   1.0  3211050001         1"
      ]
     },
     "execution_count": 34,
     "metadata": {},
     "output_type": "execute_result"
    }
   ],
   "source": [
    "df.head()"
   ]
  },
  {
   "cell_type": "code",
   "execution_count": 35,
   "id": "d72c35ba-448b-4f71-8a5f-6b03de74920f",
   "metadata": {},
   "outputs": [],
   "source": [
    "desa_pred = df.groupby('iddesa').agg({'stat': ['mean'], 'true_lab': 'mean'})"
   ]
  },
  {
   "cell_type": "code",
   "execution_count": 36,
   "id": "99a39f46-949f-42c8-a81e-28731b0fc783",
   "metadata": {},
   "outputs": [],
   "source": [
    "desa_pred.columns = [\"pred\",\"true\"]"
   ]
  },
  {
   "cell_type": "code",
   "execution_count": 37,
   "id": "580d8552-7a64-41df-ac54-823feee451f6",
   "metadata": {},
   "outputs": [
    {
     "data": {
      "text/plain": [
       "1.0    155654\n",
       "0.0     22438\n",
       "Name: stat, dtype: int64"
      ]
     },
     "execution_count": 37,
     "metadata": {},
     "output_type": "execute_result"
    }
   ],
   "source": [
    "pd.value_counts(df.stat)"
   ]
  },
  {
   "cell_type": "code",
   "execution_count": 38,
   "id": "8253e8fa-9c54-4d63-87a5-e59669b9ece2",
   "metadata": {},
   "outputs": [
    {
     "name": "stderr",
     "output_type": "stream",
     "text": [
      "C:\\Users\\jwst2\\AppData\\Local\\Temp/ipykernel_25336/4109382162.py:4: SettingWithCopyWarning: \n",
      "A value is trying to be set on a copy of a slice from a DataFrame\n",
      "\n",
      "See the caveats in the documentation: https://pandas.pydata.org/pandas-docs/stable/user_guide/indexing.html#returning-a-view-versus-a-copy\n",
      "  desa_pred[\"label\"+str(value)][desa_pred.pred > value] = 1\n"
     ]
    }
   ],
   "source": [
    "for i in np.arange(0.1, 0.95, 0.05):\n",
    "    value = round(i,2)\n",
    "    desa_pred[\"label\"+str(value)] = 0\n",
    "    desa_pred[\"label\"+str(value)][desa_pred.pred > value] = 1"
   ]
  },
  {
   "cell_type": "code",
   "execution_count": 39,
   "id": "4366ffb4-4834-4bbf-a447-5469fa8cf4f9",
   "metadata": {},
   "outputs": [
    {
     "data": {
      "text/html": [
       "<div>\n",
       "<style scoped>\n",
       "    .dataframe tbody tr th:only-of-type {\n",
       "        vertical-align: middle;\n",
       "    }\n",
       "\n",
       "    .dataframe tbody tr th {\n",
       "        vertical-align: top;\n",
       "    }\n",
       "\n",
       "    .dataframe thead th {\n",
       "        text-align: right;\n",
       "    }\n",
       "</style>\n",
       "<table border=\"1\" class=\"dataframe\">\n",
       "  <thead>\n",
       "    <tr style=\"text-align: right;\">\n",
       "      <th></th>\n",
       "      <th>pred</th>\n",
       "      <th>true</th>\n",
       "      <th>label0.1</th>\n",
       "      <th>label0.15</th>\n",
       "      <th>label0.2</th>\n",
       "      <th>label0.25</th>\n",
       "      <th>label0.3</th>\n",
       "      <th>label0.35</th>\n",
       "      <th>label0.4</th>\n",
       "      <th>label0.45</th>\n",
       "      <th>label0.5</th>\n",
       "      <th>label0.55</th>\n",
       "      <th>label0.6</th>\n",
       "      <th>label0.65</th>\n",
       "      <th>label0.7</th>\n",
       "      <th>label0.75</th>\n",
       "      <th>label0.8</th>\n",
       "      <th>label0.85</th>\n",
       "      <th>label0.9</th>\n",
       "    </tr>\n",
       "    <tr>\n",
       "      <th>iddesa</th>\n",
       "      <th></th>\n",
       "      <th></th>\n",
       "      <th></th>\n",
       "      <th></th>\n",
       "      <th></th>\n",
       "      <th></th>\n",
       "      <th></th>\n",
       "      <th></th>\n",
       "      <th></th>\n",
       "      <th></th>\n",
       "      <th></th>\n",
       "      <th></th>\n",
       "      <th></th>\n",
       "      <th></th>\n",
       "      <th></th>\n",
       "      <th></th>\n",
       "      <th></th>\n",
       "      <th></th>\n",
       "      <th></th>\n",
       "    </tr>\n",
       "  </thead>\n",
       "  <tbody>\n",
       "    <tr>\n",
       "      <th>3201010001</th>\n",
       "      <td>0.293103</td>\n",
       "      <td>0.0</td>\n",
       "      <td>1</td>\n",
       "      <td>1</td>\n",
       "      <td>1</td>\n",
       "      <td>1</td>\n",
       "      <td>0</td>\n",
       "      <td>0</td>\n",
       "      <td>0</td>\n",
       "      <td>0</td>\n",
       "      <td>0</td>\n",
       "      <td>0</td>\n",
       "      <td>0</td>\n",
       "      <td>0</td>\n",
       "      <td>0</td>\n",
       "      <td>0</td>\n",
       "      <td>0</td>\n",
       "      <td>0</td>\n",
       "      <td>0</td>\n",
       "    </tr>\n",
       "    <tr>\n",
       "      <th>3201010002</th>\n",
       "      <td>0.782609</td>\n",
       "      <td>0.0</td>\n",
       "      <td>1</td>\n",
       "      <td>1</td>\n",
       "      <td>1</td>\n",
       "      <td>1</td>\n",
       "      <td>1</td>\n",
       "      <td>1</td>\n",
       "      <td>1</td>\n",
       "      <td>1</td>\n",
       "      <td>1</td>\n",
       "      <td>1</td>\n",
       "      <td>1</td>\n",
       "      <td>1</td>\n",
       "      <td>1</td>\n",
       "      <td>1</td>\n",
       "      <td>0</td>\n",
       "      <td>0</td>\n",
       "      <td>0</td>\n",
       "    </tr>\n",
       "    <tr>\n",
       "      <th>3201010003</th>\n",
       "      <td>0.605263</td>\n",
       "      <td>1.0</td>\n",
       "      <td>1</td>\n",
       "      <td>1</td>\n",
       "      <td>1</td>\n",
       "      <td>1</td>\n",
       "      <td>1</td>\n",
       "      <td>1</td>\n",
       "      <td>1</td>\n",
       "      <td>1</td>\n",
       "      <td>1</td>\n",
       "      <td>1</td>\n",
       "      <td>1</td>\n",
       "      <td>0</td>\n",
       "      <td>0</td>\n",
       "      <td>0</td>\n",
       "      <td>0</td>\n",
       "      <td>0</td>\n",
       "      <td>0</td>\n",
       "    </tr>\n",
       "    <tr>\n",
       "      <th>3201010004</th>\n",
       "      <td>0.875000</td>\n",
       "      <td>0.0</td>\n",
       "      <td>1</td>\n",
       "      <td>1</td>\n",
       "      <td>1</td>\n",
       "      <td>1</td>\n",
       "      <td>1</td>\n",
       "      <td>1</td>\n",
       "      <td>1</td>\n",
       "      <td>1</td>\n",
       "      <td>1</td>\n",
       "      <td>1</td>\n",
       "      <td>1</td>\n",
       "      <td>1</td>\n",
       "      <td>1</td>\n",
       "      <td>1</td>\n",
       "      <td>1</td>\n",
       "      <td>1</td>\n",
       "      <td>0</td>\n",
       "    </tr>\n",
       "    <tr>\n",
       "      <th>3201010005</th>\n",
       "      <td>0.833333</td>\n",
       "      <td>1.0</td>\n",
       "      <td>1</td>\n",
       "      <td>1</td>\n",
       "      <td>1</td>\n",
       "      <td>1</td>\n",
       "      <td>1</td>\n",
       "      <td>1</td>\n",
       "      <td>1</td>\n",
       "      <td>1</td>\n",
       "      <td>1</td>\n",
       "      <td>1</td>\n",
       "      <td>1</td>\n",
       "      <td>1</td>\n",
       "      <td>1</td>\n",
       "      <td>1</td>\n",
       "      <td>1</td>\n",
       "      <td>0</td>\n",
       "      <td>0</td>\n",
       "    </tr>\n",
       "  </tbody>\n",
       "</table>\n",
       "</div>"
      ],
      "text/plain": [
       "                pred  true  label0.1  label0.15  label0.2  label0.25  \\\n",
       "iddesa                                                                 \n",
       "3201010001  0.293103   0.0         1          1         1          1   \n",
       "3201010002  0.782609   0.0         1          1         1          1   \n",
       "3201010003  0.605263   1.0         1          1         1          1   \n",
       "3201010004  0.875000   0.0         1          1         1          1   \n",
       "3201010005  0.833333   1.0         1          1         1          1   \n",
       "\n",
       "            label0.3  label0.35  label0.4  label0.45  label0.5  label0.55  \\\n",
       "iddesa                                                                      \n",
       "3201010001         0          0         0          0         0          0   \n",
       "3201010002         1          1         1          1         1          1   \n",
       "3201010003         1          1         1          1         1          1   \n",
       "3201010004         1          1         1          1         1          1   \n",
       "3201010005         1          1         1          1         1          1   \n",
       "\n",
       "            label0.6  label0.65  label0.7  label0.75  label0.8  label0.85  \\\n",
       "iddesa                                                                      \n",
       "3201010001         0          0         0          0         0          0   \n",
       "3201010002         1          1         1          1         0          0   \n",
       "3201010003         1          0         0          0         0          0   \n",
       "3201010004         1          1         1          1         1          1   \n",
       "3201010005         1          1         1          1         1          0   \n",
       "\n",
       "            label0.9  \n",
       "iddesa                \n",
       "3201010001         0  \n",
       "3201010002         0  \n",
       "3201010003         0  \n",
       "3201010004         0  \n",
       "3201010005         0  "
      ]
     },
     "execution_count": 39,
     "metadata": {},
     "output_type": "execute_result"
    }
   ],
   "source": [
    "desa_pred.head()"
   ]
  },
  {
   "cell_type": "code",
   "execution_count": 40,
   "id": "855a7f51-9fd3-418e-bd21-605fe7d0a113",
   "metadata": {},
   "outputs": [
    {
     "name": "stdout",
     "output_type": "stream",
     "text": [
      "result label0.1\n",
      "accuracy : 0.7420738530399105\n",
      "precision : 0.7373447946513849\n",
      "result label0.15\n",
      "accuracy : 0.747668780305856\n",
      "precision : 0.7428074917937826\n",
      "result label0.2\n",
      "accuracy : 0.7556881760537113\n",
      "precision : 0.7495122902848225\n",
      "result label0.25\n",
      "accuracy : 0.7642670645281612\n",
      "precision : 0.7574139976275207\n",
      "result label0.3\n",
      "accuracy : 0.7694889966430436\n",
      "precision : 0.762779552715655\n",
      "result label0.35\n",
      "accuracy : 0.7765759045132413\n",
      "precision : 0.7700242718446602\n",
      "result label0.4\n",
      "accuracy : 0.7849682954121596\n",
      "precision : 0.7785758259798892\n",
      "result label0.45\n",
      "accuracy : 0.7900037299515106\n",
      "precision : 0.7847943498130453\n",
      "result label0.5\n",
      "accuracy : 0.7965311450951138\n",
      "precision : 0.7939868727503705\n",
      "result label0.55\n",
      "accuracy : 0.8008205893323387\n",
      "precision : 0.8004291845493562\n",
      "result label0.6\n",
      "accuracy : 0.804177545691906\n",
      "precision : 0.8080454744206383\n",
      "result label0.65\n",
      "accuracy : 0.8082804923535994\n",
      "precision : 0.8172475424486149\n",
      "result label0.7\n",
      "accuracy : 0.8108914584110407\n",
      "precision : 0.8272935779816514\n",
      "result label0.75\n",
      "accuracy : 0.8116374487131667\n",
      "precision : 0.8375059045819556\n",
      "result label0.8\n",
      "accuracy : 0.8056695262961582\n",
      "precision : 0.845476772616137\n",
      "result label0.85\n",
      "accuracy : 0.80343155538978\n",
      "precision : 0.8616966580976864\n",
      "result label0.9\n",
      "accuracy : 0.7913092129802313\n",
      "precision : 0.8864211414113017\n"
     ]
    }
   ],
   "source": [
    "for j in range(2,19):\n",
    "    print(\"result\", desa_pred.columns[j])\n",
    "    print(\"accuracy :\",  accuracy_score( desa_pred.true,desa_pred.iloc[:,[j]]))\n",
    "    print(\"precision :\",  precision_score( desa_pred.true,desa_pred.iloc[:,[j]]))"
   ]
  },
  {
   "cell_type": "code",
   "execution_count": 41,
   "id": "3662a4be-9f92-4f37-9978-c0bfac190fe5",
   "metadata": {},
   "outputs": [],
   "source": [
    "from sklearn.metrics import confusion_matrix"
   ]
  },
  {
   "cell_type": "code",
   "execution_count": 42,
   "id": "13528e0d-92ad-4bd6-89b8-816048965e16",
   "metadata": {},
   "outputs": [
    {
     "data": {
      "text/plain": [
       "1.0    3868\n",
       "0.0    1494\n",
       "Name: true, dtype: int64"
      ]
     },
     "execution_count": 42,
     "metadata": {},
     "output_type": "execute_result"
    }
   ],
   "source": [
    "pd.value_counts(desa_pred.true)"
   ]
  },
  {
   "cell_type": "markdown",
   "id": "4e6bafd1-9eae-4547-ba47-30ebe21ea669",
   "metadata": {},
   "source": [
    "### Test result"
   ]
  },
  {
   "cell_type": "code",
   "execution_count": 43,
   "id": "b1c0e74b-6b00-48a1-8a42-c6d3596ab009",
   "metadata": {},
   "outputs": [],
   "source": [
    "path_pred = Path.cwd() / (\"C:/Users/jwst2/Python/tesis/jpg/sls 10m test\")\n",
    "test_files = [fn for fn in sorted((path_pred).glob('**/*')) if fn.is_file()]"
   ]
  },
  {
   "cell_type": "code",
   "execution_count": 44,
   "id": "c5177d4a-43de-426b-81c3-89a5ad10476a",
   "metadata": {},
   "outputs": [
    {
     "data": {
      "text/plain": [
       "22054"
      ]
     },
     "execution_count": 44,
     "metadata": {},
     "output_type": "execute_result"
    }
   ],
   "source": [
    "len(test_files)"
   ]
  },
  {
   "cell_type": "code",
   "execution_count": 45,
   "id": "2dbbb132-1ed0-459d-84c1-ed8e102bfce4",
   "metadata": {},
   "outputs": [],
   "source": [
    "test_dl = learn.dls.test_dl(test_files)"
   ]
  },
  {
   "cell_type": "code",
   "execution_count": 46,
   "id": "b8399e45-82ed-43ce-93ee-341a95d9c671",
   "metadata": {},
   "outputs": [
    {
     "data": {
      "text/html": [],
      "text/plain": [
       "<IPython.core.display.HTML object>"
      ]
     },
     "metadata": {},
     "output_type": "display_data"
    }
   ],
   "source": [
    "preds,_ = learn.get_preds(dl  =test_dl)"
   ]
  },
  {
   "cell_type": "code",
   "execution_count": 47,
   "id": "36e7a605-1944-49da-8315-e7ee2fa846a5",
   "metadata": {},
   "outputs": [
    {
     "data": {
      "text/plain": [
       "'32011500010002'"
      ]
     },
     "execution_count": 47,
     "metadata": {},
     "output_type": "execute_result"
    }
   ],
   "source": [
    "str(test_files[1])[-18:-4]"
   ]
  },
  {
   "cell_type": "code",
   "execution_count": 48,
   "id": "ae98e9b7-69ae-4ad5-ac8b-a1ca764e77e1",
   "metadata": {},
   "outputs": [],
   "source": [
    "idx_test = []\n",
    "for i in test_files:\n",
    "    idx_test.append(str(i)[-18:-4])\n",
    "true_label = []\n",
    "for i in test_files:\n",
    "    if(\"urban\" in str(i)) :\n",
    "        true_label.append(1)\n",
    "    else :\n",
    "        true_label.append(0)"
   ]
  },
  {
   "cell_type": "code",
   "execution_count": 49,
   "id": "9db6caf2-7da7-4829-9dcb-ef4ae2cb02a4",
   "metadata": {},
   "outputs": [],
   "source": [
    "test = pd.DataFrame(preds)"
   ]
  },
  {
   "cell_type": "code",
   "execution_count": 50,
   "id": "e4b05cfe-563a-4f65-ab73-d359328afbac",
   "metadata": {},
   "outputs": [],
   "source": [
    "test[\"idsls\"] = idx_test\n",
    "test[\"true_lab\"] = true_label"
   ]
  },
  {
   "cell_type": "code",
   "execution_count": 51,
   "id": "e7bfa65d-944e-471a-a341-fe3f03d74bb1",
   "metadata": {},
   "outputs": [],
   "source": [
    "test[\"iddesa\"] = test.idsls.str[:10]\n",
    "test[\"stat\"] = round(test[1])"
   ]
  },
  {
   "cell_type": "code",
   "execution_count": 52,
   "id": "2d7b48c0-1b97-4a7b-9844-552152f94ea2",
   "metadata": {},
   "outputs": [
    {
     "data": {
      "text/html": [
       "<div>\n",
       "<style scoped>\n",
       "    .dataframe tbody tr th:only-of-type {\n",
       "        vertical-align: middle;\n",
       "    }\n",
       "\n",
       "    .dataframe tbody tr th {\n",
       "        vertical-align: top;\n",
       "    }\n",
       "\n",
       "    .dataframe thead th {\n",
       "        text-align: right;\n",
       "    }\n",
       "</style>\n",
       "<table border=\"1\" class=\"dataframe\">\n",
       "  <thead>\n",
       "    <tr style=\"text-align: right;\">\n",
       "      <th></th>\n",
       "      <th>0</th>\n",
       "      <th>1</th>\n",
       "      <th>idsls</th>\n",
       "      <th>true_lab</th>\n",
       "      <th>iddesa</th>\n",
       "      <th>stat</th>\n",
       "    </tr>\n",
       "  </thead>\n",
       "  <tbody>\n",
       "    <tr>\n",
       "      <th>0</th>\n",
       "      <td>0.716636</td>\n",
       "      <td>0.283364</td>\n",
       "      <td>32011500010001</td>\n",
       "      <td>0</td>\n",
       "      <td>3201150001</td>\n",
       "      <td>0.0</td>\n",
       "    </tr>\n",
       "    <tr>\n",
       "      <th>1</th>\n",
       "      <td>0.644514</td>\n",
       "      <td>0.355486</td>\n",
       "      <td>32011500010002</td>\n",
       "      <td>0</td>\n",
       "      <td>3201150001</td>\n",
       "      <td>0.0</td>\n",
       "    </tr>\n",
       "    <tr>\n",
       "      <th>2</th>\n",
       "      <td>0.594599</td>\n",
       "      <td>0.405401</td>\n",
       "      <td>32011500010003</td>\n",
       "      <td>0</td>\n",
       "      <td>3201150001</td>\n",
       "      <td>0.0</td>\n",
       "    </tr>\n",
       "    <tr>\n",
       "      <th>3</th>\n",
       "      <td>0.525474</td>\n",
       "      <td>0.474526</td>\n",
       "      <td>32011500010004</td>\n",
       "      <td>0</td>\n",
       "      <td>3201150001</td>\n",
       "      <td>0.0</td>\n",
       "    </tr>\n",
       "    <tr>\n",
       "      <th>4</th>\n",
       "      <td>0.558865</td>\n",
       "      <td>0.441135</td>\n",
       "      <td>32011500010005</td>\n",
       "      <td>0</td>\n",
       "      <td>3201150001</td>\n",
       "      <td>0.0</td>\n",
       "    </tr>\n",
       "  </tbody>\n",
       "</table>\n",
       "</div>"
      ],
      "text/plain": [
       "          0         1           idsls  true_lab      iddesa  stat\n",
       "0  0.716636  0.283364  32011500010001         0  3201150001   0.0\n",
       "1  0.644514  0.355486  32011500010002         0  3201150001   0.0\n",
       "2  0.594599  0.405401  32011500010003         0  3201150001   0.0\n",
       "3  0.525474  0.474526  32011500010004         0  3201150001   0.0\n",
       "4  0.558865  0.441135  32011500010005         0  3201150001   0.0"
      ]
     },
     "execution_count": 52,
     "metadata": {},
     "output_type": "execute_result"
    }
   ],
   "source": [
    "test.head()"
   ]
  },
  {
   "cell_type": "code",
   "execution_count": 53,
   "id": "c7a6d0dd-cdfe-4cd3-89a5-0cd6255ea55f",
   "metadata": {},
   "outputs": [],
   "source": [
    "desa_pred_test = test.groupby('iddesa').agg({'stat': ['mean'], 'true_lab': 'mean'})"
   ]
  },
  {
   "cell_type": "code",
   "execution_count": 54,
   "id": "46219c78-2263-49e6-8f5c-0ef512ffa7f5",
   "metadata": {},
   "outputs": [
    {
     "data": {
      "text/html": [
       "<div>\n",
       "<style scoped>\n",
       "    .dataframe tbody tr th:only-of-type {\n",
       "        vertical-align: middle;\n",
       "    }\n",
       "\n",
       "    .dataframe tbody tr th {\n",
       "        vertical-align: top;\n",
       "    }\n",
       "\n",
       "    .dataframe thead tr th {\n",
       "        text-align: left;\n",
       "    }\n",
       "\n",
       "    .dataframe thead tr:last-of-type th {\n",
       "        text-align: right;\n",
       "    }\n",
       "</style>\n",
       "<table border=\"1\" class=\"dataframe\">\n",
       "  <thead>\n",
       "    <tr>\n",
       "      <th></th>\n",
       "      <th>stat</th>\n",
       "      <th>true_lab</th>\n",
       "    </tr>\n",
       "    <tr>\n",
       "      <th></th>\n",
       "      <th>mean</th>\n",
       "      <th>mean</th>\n",
       "    </tr>\n",
       "    <tr>\n",
       "      <th>iddesa</th>\n",
       "      <th></th>\n",
       "      <th></th>\n",
       "    </tr>\n",
       "  </thead>\n",
       "  <tbody>\n",
       "    <tr>\n",
       "      <th>3201010010</th>\n",
       "      <td>0.857143</td>\n",
       "      <td>1.0</td>\n",
       "    </tr>\n",
       "    <tr>\n",
       "      <th>3201040001</th>\n",
       "      <td>1.000000</td>\n",
       "      <td>1.0</td>\n",
       "    </tr>\n",
       "    <tr>\n",
       "      <th>3201040005</th>\n",
       "      <td>1.000000</td>\n",
       "      <td>1.0</td>\n",
       "    </tr>\n",
       "    <tr>\n",
       "      <th>3201050012</th>\n",
       "      <td>1.000000</td>\n",
       "      <td>1.0</td>\n",
       "    </tr>\n",
       "    <tr>\n",
       "      <th>3201050013</th>\n",
       "      <td>1.000000</td>\n",
       "      <td>1.0</td>\n",
       "    </tr>\n",
       "    <tr>\n",
       "      <th>...</th>\n",
       "      <td>...</td>\n",
       "      <td>...</td>\n",
       "    </tr>\n",
       "    <tr>\n",
       "      <th>3278050003</th>\n",
       "      <td>1.000000</td>\n",
       "      <td>1.0</td>\n",
       "    </tr>\n",
       "    <tr>\n",
       "      <th>3278071005</th>\n",
       "      <td>1.000000</td>\n",
       "      <td>1.0</td>\n",
       "    </tr>\n",
       "    <tr>\n",
       "      <th>3278080002</th>\n",
       "      <td>1.000000</td>\n",
       "      <td>1.0</td>\n",
       "    </tr>\n",
       "    <tr>\n",
       "      <th>3279010006</th>\n",
       "      <td>1.000000</td>\n",
       "      <td>1.0</td>\n",
       "    </tr>\n",
       "    <tr>\n",
       "      <th>3279030005</th>\n",
       "      <td>0.986667</td>\n",
       "      <td>1.0</td>\n",
       "    </tr>\n",
       "  </tbody>\n",
       "</table>\n",
       "<p>595 rows × 2 columns</p>\n",
       "</div>"
      ],
      "text/plain": [
       "                stat true_lab\n",
       "                mean     mean\n",
       "iddesa                       \n",
       "3201010010  0.857143      1.0\n",
       "3201040001  1.000000      1.0\n",
       "3201040005  1.000000      1.0\n",
       "3201050012  1.000000      1.0\n",
       "3201050013  1.000000      1.0\n",
       "...              ...      ...\n",
       "3278050003  1.000000      1.0\n",
       "3278071005  1.000000      1.0\n",
       "3278080002  1.000000      1.0\n",
       "3279010006  1.000000      1.0\n",
       "3279030005  0.986667      1.0\n",
       "\n",
       "[595 rows x 2 columns]"
      ]
     },
     "execution_count": 54,
     "metadata": {},
     "output_type": "execute_result"
    }
   ],
   "source": [
    "desa_pred_test"
   ]
  },
  {
   "cell_type": "code",
   "execution_count": 55,
   "id": "3c181fbb-e76b-485b-b209-63e58f29ff4d",
   "metadata": {},
   "outputs": [],
   "source": [
    "desa_pred_test.columns = [\"pred\",\"true\"]"
   ]
  },
  {
   "cell_type": "code",
   "execution_count": 56,
   "id": "6489d636-897a-426d-9842-547b4a8c2ff7",
   "metadata": {},
   "outputs": [
    {
     "name": "stderr",
     "output_type": "stream",
     "text": [
      "C:\\Users\\jwst2\\AppData\\Local\\Temp/ipykernel_25336/2742235302.py:2: SettingWithCopyWarning: \n",
      "A value is trying to be set on a copy of a slice from a DataFrame\n",
      "\n",
      "See the caveats in the documentation: https://pandas.pydata.org/pandas-docs/stable/user_guide/indexing.html#returning-a-view-versus-a-copy\n",
      "  desa_pred_test[\"pred_lab\"][desa_pred_test.pred > 0.775] = 1\n"
     ]
    }
   ],
   "source": [
    "desa_pred_test[\"pred_lab\"] = 0\n",
    "desa_pred_test[\"pred_lab\"][desa_pred_test.pred > 0.775] = 1"
   ]
  },
  {
   "cell_type": "code",
   "execution_count": 57,
   "id": "a1e663c1-2e37-4bd5-ad9b-9c1b9acd77e7",
   "metadata": {},
   "outputs": [
    {
     "data": {
      "text/html": [
       "<div>\n",
       "<style scoped>\n",
       "    .dataframe tbody tr th:only-of-type {\n",
       "        vertical-align: middle;\n",
       "    }\n",
       "\n",
       "    .dataframe tbody tr th {\n",
       "        vertical-align: top;\n",
       "    }\n",
       "\n",
       "    .dataframe thead th {\n",
       "        text-align: right;\n",
       "    }\n",
       "</style>\n",
       "<table border=\"1\" class=\"dataframe\">\n",
       "  <thead>\n",
       "    <tr style=\"text-align: right;\">\n",
       "      <th></th>\n",
       "      <th>pred</th>\n",
       "      <th>true</th>\n",
       "      <th>pred_lab</th>\n",
       "    </tr>\n",
       "    <tr>\n",
       "      <th>iddesa</th>\n",
       "      <th></th>\n",
       "      <th></th>\n",
       "      <th></th>\n",
       "    </tr>\n",
       "  </thead>\n",
       "  <tbody>\n",
       "    <tr>\n",
       "      <th>3201010010</th>\n",
       "      <td>0.857143</td>\n",
       "      <td>1.0</td>\n",
       "      <td>1</td>\n",
       "    </tr>\n",
       "    <tr>\n",
       "      <th>3201040001</th>\n",
       "      <td>1.000000</td>\n",
       "      <td>1.0</td>\n",
       "      <td>1</td>\n",
       "    </tr>\n",
       "    <tr>\n",
       "      <th>3201040005</th>\n",
       "      <td>1.000000</td>\n",
       "      <td>1.0</td>\n",
       "      <td>1</td>\n",
       "    </tr>\n",
       "    <tr>\n",
       "      <th>3201050012</th>\n",
       "      <td>1.000000</td>\n",
       "      <td>1.0</td>\n",
       "      <td>1</td>\n",
       "    </tr>\n",
       "    <tr>\n",
       "      <th>3201050013</th>\n",
       "      <td>1.000000</td>\n",
       "      <td>1.0</td>\n",
       "      <td>1</td>\n",
       "    </tr>\n",
       "    <tr>\n",
       "      <th>...</th>\n",
       "      <td>...</td>\n",
       "      <td>...</td>\n",
       "      <td>...</td>\n",
       "    </tr>\n",
       "    <tr>\n",
       "      <th>3278050003</th>\n",
       "      <td>1.000000</td>\n",
       "      <td>1.0</td>\n",
       "      <td>1</td>\n",
       "    </tr>\n",
       "    <tr>\n",
       "      <th>3278071005</th>\n",
       "      <td>1.000000</td>\n",
       "      <td>1.0</td>\n",
       "      <td>1</td>\n",
       "    </tr>\n",
       "    <tr>\n",
       "      <th>3278080002</th>\n",
       "      <td>1.000000</td>\n",
       "      <td>1.0</td>\n",
       "      <td>1</td>\n",
       "    </tr>\n",
       "    <tr>\n",
       "      <th>3279010006</th>\n",
       "      <td>1.000000</td>\n",
       "      <td>1.0</td>\n",
       "      <td>1</td>\n",
       "    </tr>\n",
       "    <tr>\n",
       "      <th>3279030005</th>\n",
       "      <td>0.986667</td>\n",
       "      <td>1.0</td>\n",
       "      <td>1</td>\n",
       "    </tr>\n",
       "  </tbody>\n",
       "</table>\n",
       "<p>595 rows × 3 columns</p>\n",
       "</div>"
      ],
      "text/plain": [
       "                pred  true  pred_lab\n",
       "iddesa                              \n",
       "3201010010  0.857143   1.0         1\n",
       "3201040001  1.000000   1.0         1\n",
       "3201040005  1.000000   1.0         1\n",
       "3201050012  1.000000   1.0         1\n",
       "3201050013  1.000000   1.0         1\n",
       "...              ...   ...       ...\n",
       "3278050003  1.000000   1.0         1\n",
       "3278071005  1.000000   1.0         1\n",
       "3278080002  1.000000   1.0         1\n",
       "3279010006  1.000000   1.0         1\n",
       "3279030005  0.986667   1.0         1\n",
       "\n",
       "[595 rows x 3 columns]"
      ]
     },
     "execution_count": 57,
     "metadata": {},
     "output_type": "execute_result"
    }
   ],
   "source": [
    "desa_pred_test"
   ]
  },
  {
   "cell_type": "code",
   "execution_count": 60,
   "id": "da7378d4-58be-48fa-af75-8fe5cef6551a",
   "metadata": {},
   "outputs": [
    {
     "name": "stdout",
     "output_type": "stream",
     "text": [
      "accuracy : 0.8184873949579832\n",
      "balanced_accuracy_score : 0.7381440281030445\n",
      "precision : 0.8400852878464818\n",
      "recall : 0.9227166276346604\n",
      "f1 : 0.8794642857142857\n",
      "rocauc : 0.7381440281030446\n"
     ]
    }
   ],
   "source": [
    "print(\"accuracy :\",  accuracy_score( desa_pred_test.true,desa_pred_test.pred_lab))\n",
    "print(\"balanced_accuracy_score :\",  balanced_accuracy_score( desa_pred_test.true,desa_pred_test.pred_lab))\n",
    "print(\"precision :\",  precision_score( desa_pred_test.true,desa_pred_test.pred_lab))\n",
    "print(\"recall :\",  recall_score( desa_pred_test.true,desa_pred_test.pred_lab))\n",
    "print(\"f1 :\",  f1_score( desa_pred_test.true,desa_pred_test.pred_lab))\n",
    "print(\"rocauc :\",  roc_auc_score( desa_pred_test.true,desa_pred_test.pred_lab))"
   ]
  },
  {
   "cell_type": "markdown",
   "id": "1460b95b-2b50-40e2-91c3-421e84c3672d",
   "metadata": {},
   "source": [
    "### Resnet"
   ]
  },
  {
   "cell_type": "code",
   "execution_count": 61,
   "id": "c431ce4b-372b-4616-9af3-6b8be80b5ea5",
   "metadata": {},
   "outputs": [],
   "source": [
    "learn_rs = cnn_learner(dls, resnet50, metrics=metrics) "
   ]
  },
  {
   "cell_type": "code",
   "execution_count": 62,
   "id": "07e6c62e-4191-4644-b67d-93f4f906f577",
   "metadata": {},
   "outputs": [],
   "source": [
    "learn_rs.unfreeze()"
   ]
  },
  {
   "cell_type": "code",
   "execution_count": 63,
   "id": "84155c12-95b7-4883-8e0a-f1d54a4797c9",
   "metadata": {},
   "outputs": [
    {
     "data": {
      "text/html": [
       "<table border=\"1\" class=\"dataframe\">\n",
       "  <thead>\n",
       "    <tr style=\"text-align: left;\">\n",
       "      <th>epoch</th>\n",
       "      <th>train_loss</th>\n",
       "      <th>valid_loss</th>\n",
       "      <th>accuracy</th>\n",
       "      <th>balanced_accuracy_score</th>\n",
       "      <th>precision_score</th>\n",
       "      <th>recall_score</th>\n",
       "      <th>f1_score</th>\n",
       "      <th>roc_auc_score</th>\n",
       "      <th>time</th>\n",
       "    </tr>\n",
       "  </thead>\n",
       "  <tbody>\n",
       "    <tr>\n",
       "      <td>0</td>\n",
       "      <td>0.438289</td>\n",
       "      <td>0.397815</td>\n",
       "      <td>0.812655</td>\n",
       "      <td>0.584073</td>\n",
       "      <td>0.775932</td>\n",
       "      <td>0.584073</td>\n",
       "      <td>0.594586</td>\n",
       "      <td>0.831157</td>\n",
       "      <td>11:53</td>\n",
       "    </tr>\n",
       "    <tr>\n",
       "      <td>1</td>\n",
       "      <td>0.430301</td>\n",
       "      <td>0.665962</td>\n",
       "      <td>0.818366</td>\n",
       "      <td>0.642685</td>\n",
       "      <td>0.739663</td>\n",
       "      <td>0.642685</td>\n",
       "      <td>0.666311</td>\n",
       "      <td>0.820053</td>\n",
       "      <td>11:35</td>\n",
       "    </tr>\n",
       "    <tr>\n",
       "      <td>2</td>\n",
       "      <td>0.399390</td>\n",
       "      <td>0.400845</td>\n",
       "      <td>0.815990</td>\n",
       "      <td>0.665807</td>\n",
       "      <td>0.726041</td>\n",
       "      <td>0.665807</td>\n",
       "      <td>0.685624</td>\n",
       "      <td>0.833848</td>\n",
       "      <td>11:21</td>\n",
       "    </tr>\n",
       "    <tr>\n",
       "      <td>3</td>\n",
       "      <td>0.371089</td>\n",
       "      <td>0.370890</td>\n",
       "      <td>0.822510</td>\n",
       "      <td>0.659106</td>\n",
       "      <td>0.744876</td>\n",
       "      <td>0.659106</td>\n",
       "      <td>0.683213</td>\n",
       "      <td>0.849727</td>\n",
       "      <td>11:27</td>\n",
       "    </tr>\n",
       "    <tr>\n",
       "      <td>4</td>\n",
       "      <td>0.386146</td>\n",
       "      <td>0.371738</td>\n",
       "      <td>0.823318</td>\n",
       "      <td>0.659793</td>\n",
       "      <td>0.746969</td>\n",
       "      <td>0.659793</td>\n",
       "      <td>0.684202</td>\n",
       "      <td>0.849361</td>\n",
       "      <td>11:33</td>\n",
       "    </tr>\n",
       "  </tbody>\n",
       "</table>"
      ],
      "text/plain": [
       "<IPython.core.display.HTML object>"
      ]
     },
     "metadata": {},
     "output_type": "display_data"
    }
   ],
   "source": [
    "learn_rs.fit_one_cycle(5)"
   ]
  },
  {
   "cell_type": "code",
   "execution_count": 64,
   "id": "d8e90b49-d365-4716-b7db-bf37c1c3cad4",
   "metadata": {},
   "outputs": [],
   "source": [
    "learn_rs.export('C:/Users/jwst2/Python/tesis/models/19042020 R003.pkl')"
   ]
  },
  {
   "cell_type": "code",
   "execution_count": 65,
   "id": "d078c146-cdf1-4e15-9779-0c5a348dae3a",
   "metadata": {},
   "outputs": [],
   "source": [
    "idx_train = []\n",
    "for i in dls.train.items:\n",
    "    idx_train.append(str(i)[-18:-4])\n",
    "true_label = []\n",
    "for i in dls.train.items:\n",
    "    if(\"urban\" in str(i)) :\n",
    "        true_label.append(1)\n",
    "    else :\n",
    "        true_label.append(0)"
   ]
  },
  {
   "cell_type": "code",
   "execution_count": 66,
   "id": "3e28cb4e-d7e3-4a81-bcc5-619fb44db83a",
   "metadata": {},
   "outputs": [
    {
     "data": {
      "text/html": [],
      "text/plain": [
       "<IPython.core.display.HTML object>"
      ]
     },
     "metadata": {},
     "output_type": "display_data"
    }
   ],
   "source": [
    "preds,_ = learn_rs.get_preds(ds_idx  = 0)\n",
    "result_train = preds.numpy()\n",
    "new_train = pd.DataFrame(result_train)"
   ]
  },
  {
   "cell_type": "code",
   "execution_count": 67,
   "id": "20f99e2d-a6eb-413d-8382-d652365497b3",
   "metadata": {},
   "outputs": [
    {
     "data": {
      "text/html": [
       "<div>\n",
       "<style scoped>\n",
       "    .dataframe tbody tr th:only-of-type {\n",
       "        vertical-align: middle;\n",
       "    }\n",
       "\n",
       "    .dataframe tbody tr th {\n",
       "        vertical-align: top;\n",
       "    }\n",
       "\n",
       "    .dataframe thead th {\n",
       "        text-align: right;\n",
       "    }\n",
       "</style>\n",
       "<table border=\"1\" class=\"dataframe\">\n",
       "  <thead>\n",
       "    <tr style=\"text-align: right;\">\n",
       "      <th></th>\n",
       "      <th>0</th>\n",
       "      <th>1</th>\n",
       "      <th>idsls</th>\n",
       "      <th>stat</th>\n",
       "      <th>iddesa</th>\n",
       "    </tr>\n",
       "  </thead>\n",
       "  <tbody>\n",
       "    <tr>\n",
       "      <th>0</th>\n",
       "      <td>0.010298</td>\n",
       "      <td>0.989702</td>\n",
       "      <td>32731000020061</td>\n",
       "      <td>1.0</td>\n",
       "      <td>3273100002</td>\n",
       "    </tr>\n",
       "    <tr>\n",
       "      <th>1</th>\n",
       "      <td>0.038067</td>\n",
       "      <td>0.961933</td>\n",
       "      <td>32150500070004</td>\n",
       "      <td>1.0</td>\n",
       "      <td>3215050007</td>\n",
       "    </tr>\n",
       "    <tr>\n",
       "      <th>2</th>\n",
       "      <td>0.299616</td>\n",
       "      <td>0.700384</td>\n",
       "      <td>32022100131006</td>\n",
       "      <td>1.0</td>\n",
       "      <td>3202210013</td>\n",
       "    </tr>\n",
       "    <tr>\n",
       "      <th>3</th>\n",
       "      <td>0.037139</td>\n",
       "      <td>0.962861</td>\n",
       "      <td>32081500110025</td>\n",
       "      <td>1.0</td>\n",
       "      <td>3208150011</td>\n",
       "    </tr>\n",
       "    <tr>\n",
       "      <th>4</th>\n",
       "      <td>0.147126</td>\n",
       "      <td>0.852874</td>\n",
       "      <td>32110500010021</td>\n",
       "      <td>1.0</td>\n",
       "      <td>3211050001</td>\n",
       "    </tr>\n",
       "  </tbody>\n",
       "</table>\n",
       "</div>"
      ],
      "text/plain": [
       "          0         1           idsls  stat      iddesa\n",
       "0  0.010298  0.989702  32731000020061   1.0  3273100002\n",
       "1  0.038067  0.961933  32150500070004   1.0  3215050007\n",
       "2  0.299616  0.700384  32022100131006   1.0  3202210013\n",
       "3  0.037139  0.962861  32081500110025   1.0  3208150011\n",
       "4  0.147126  0.852874  32110500010021   1.0  3211050001"
      ]
     },
     "execution_count": 67,
     "metadata": {},
     "output_type": "execute_result"
    }
   ],
   "source": [
    "df = new_train\n",
    "df[\"idsls\"] = idx_train \n",
    "df[\"stat\"] = round(df[1])\n",
    "df[\"iddesa\"] = df.idsls.str[:10]\n",
    "df.head()"
   ]
  },
  {
   "cell_type": "code",
   "execution_count": 68,
   "id": "38f2cd45-f1f2-45e2-813f-7922c5cbd351",
   "metadata": {},
   "outputs": [
    {
     "data": {
      "text/plain": [
       "1.0    158105\n",
       "0.0     19987\n",
       "Name: stat, dtype: int64"
      ]
     },
     "execution_count": 68,
     "metadata": {},
     "output_type": "execute_result"
    }
   ],
   "source": [
    "pd.value_counts(df.stat)"
   ]
  },
  {
   "cell_type": "code",
   "execution_count": 69,
   "id": "7c92d325-7b01-4f17-a177-ee6d728fe42a",
   "metadata": {},
   "outputs": [],
   "source": [
    "df[\"true_lab\"] = true_label"
   ]
  },
  {
   "cell_type": "code",
   "execution_count": 70,
   "id": "b0b32911-f8d2-48ef-99a3-5a97520bfd33",
   "metadata": {},
   "outputs": [
    {
     "data": {
      "text/plain": [
       "1    140272\n",
       "0     37820\n",
       "Name: true_lab, dtype: int64"
      ]
     },
     "execution_count": 70,
     "metadata": {},
     "output_type": "execute_result"
    }
   ],
   "source": [
    "pd.value_counts(df.true_lab)"
   ]
  },
  {
   "cell_type": "code",
   "execution_count": 71,
   "id": "5c7ff018-7f0a-4466-8bb6-1d75325f2f9d",
   "metadata": {},
   "outputs": [
    {
     "data": {
      "text/plain": [
       "0.8210531635334546"
      ]
     },
     "execution_count": 71,
     "metadata": {},
     "output_type": "execute_result"
    }
   ],
   "source": [
    "accuracy_score(df.stat.apply(int),df.true_lab.apply(int))"
   ]
  },
  {
   "cell_type": "code",
   "execution_count": 72,
   "id": "3dca71a1-630b-460c-8931-7dfbd34a11a7",
   "metadata": {},
   "outputs": [
    {
     "data": {
      "text/html": [
       "<div>\n",
       "<style scoped>\n",
       "    .dataframe tbody tr th:only-of-type {\n",
       "        vertical-align: middle;\n",
       "    }\n",
       "\n",
       "    .dataframe tbody tr th {\n",
       "        vertical-align: top;\n",
       "    }\n",
       "\n",
       "    .dataframe thead th {\n",
       "        text-align: right;\n",
       "    }\n",
       "</style>\n",
       "<table border=\"1\" class=\"dataframe\">\n",
       "  <thead>\n",
       "    <tr style=\"text-align: right;\">\n",
       "      <th></th>\n",
       "      <th>0</th>\n",
       "      <th>1</th>\n",
       "      <th>idsls</th>\n",
       "      <th>stat</th>\n",
       "      <th>iddesa</th>\n",
       "      <th>true_lab</th>\n",
       "    </tr>\n",
       "  </thead>\n",
       "  <tbody>\n",
       "    <tr>\n",
       "      <th>0</th>\n",
       "      <td>0.010298</td>\n",
       "      <td>0.989702</td>\n",
       "      <td>32731000020061</td>\n",
       "      <td>1.0</td>\n",
       "      <td>3273100002</td>\n",
       "      <td>1</td>\n",
       "    </tr>\n",
       "    <tr>\n",
       "      <th>1</th>\n",
       "      <td>0.038067</td>\n",
       "      <td>0.961933</td>\n",
       "      <td>32150500070004</td>\n",
       "      <td>1.0</td>\n",
       "      <td>3215050007</td>\n",
       "      <td>1</td>\n",
       "    </tr>\n",
       "    <tr>\n",
       "      <th>2</th>\n",
       "      <td>0.299616</td>\n",
       "      <td>0.700384</td>\n",
       "      <td>32022100131006</td>\n",
       "      <td>1.0</td>\n",
       "      <td>3202210013</td>\n",
       "      <td>1</td>\n",
       "    </tr>\n",
       "    <tr>\n",
       "      <th>3</th>\n",
       "      <td>0.037139</td>\n",
       "      <td>0.962861</td>\n",
       "      <td>32081500110025</td>\n",
       "      <td>1.0</td>\n",
       "      <td>3208150011</td>\n",
       "      <td>1</td>\n",
       "    </tr>\n",
       "    <tr>\n",
       "      <th>4</th>\n",
       "      <td>0.147126</td>\n",
       "      <td>0.852874</td>\n",
       "      <td>32110500010021</td>\n",
       "      <td>1.0</td>\n",
       "      <td>3211050001</td>\n",
       "      <td>1</td>\n",
       "    </tr>\n",
       "  </tbody>\n",
       "</table>\n",
       "</div>"
      ],
      "text/plain": [
       "          0         1           idsls  stat      iddesa  true_lab\n",
       "0  0.010298  0.989702  32731000020061   1.0  3273100002         1\n",
       "1  0.038067  0.961933  32150500070004   1.0  3215050007         1\n",
       "2  0.299616  0.700384  32022100131006   1.0  3202210013         1\n",
       "3  0.037139  0.962861  32081500110025   1.0  3208150011         1\n",
       "4  0.147126  0.852874  32110500010021   1.0  3211050001         1"
      ]
     },
     "execution_count": 72,
     "metadata": {},
     "output_type": "execute_result"
    }
   ],
   "source": [
    "df.head()"
   ]
  },
  {
   "cell_type": "code",
   "execution_count": 73,
   "id": "affbca92-8050-4123-a970-3a73af7c58d8",
   "metadata": {},
   "outputs": [],
   "source": [
    "desa_pred = df.groupby('iddesa').agg({'stat': ['mean'], 'true_lab': 'mean'})"
   ]
  },
  {
   "cell_type": "code",
   "execution_count": 74,
   "id": "350113ec-71bb-4833-9265-97f623769ad3",
   "metadata": {},
   "outputs": [],
   "source": [
    "desa_pred.columns = [\"pred\",\"true\"]"
   ]
  },
  {
   "cell_type": "code",
   "execution_count": 75,
   "id": "8f961ce6-462c-4329-aab7-b4e85855c565",
   "metadata": {},
   "outputs": [
    {
     "data": {
      "text/plain": [
       "1.0    158105\n",
       "0.0     19987\n",
       "Name: stat, dtype: int64"
      ]
     },
     "execution_count": 75,
     "metadata": {},
     "output_type": "execute_result"
    }
   ],
   "source": [
    "pd.value_counts(df.stat)"
   ]
  },
  {
   "cell_type": "code",
   "execution_count": 76,
   "id": "a7b68879-13b3-415e-b696-01c93222128f",
   "metadata": {},
   "outputs": [
    {
     "name": "stderr",
     "output_type": "stream",
     "text": [
      "C:\\Users\\jwst2\\AppData\\Local\\Temp/ipykernel_25336/935834860.py:4: SettingWithCopyWarning: \n",
      "A value is trying to be set on a copy of a slice from a DataFrame\n",
      "\n",
      "See the caveats in the documentation: https://pandas.pydata.org/pandas-docs/stable/user_guide/indexing.html#returning-a-view-versus-a-copy\n",
      "  desa_pred[\"label\"+str(value)][desa_pred.pred > value] = 1\n"
     ]
    }
   ],
   "source": [
    "for i in np.arange(0.1, 0.95, 0.025):\n",
    "    value = round(i,2)\n",
    "    desa_pred[\"label\"+str(value)] = 0\n",
    "    desa_pred[\"label\"+str(value)][desa_pred.pred > value] = 1"
   ]
  },
  {
   "cell_type": "code",
   "execution_count": 77,
   "id": "9f38fc2d-b2e4-4d21-ab21-96aa6da2ff5a",
   "metadata": {},
   "outputs": [
    {
     "data": {
      "text/html": [
       "<div>\n",
       "<style scoped>\n",
       "    .dataframe tbody tr th:only-of-type {\n",
       "        vertical-align: middle;\n",
       "    }\n",
       "\n",
       "    .dataframe tbody tr th {\n",
       "        vertical-align: top;\n",
       "    }\n",
       "\n",
       "    .dataframe thead th {\n",
       "        text-align: right;\n",
       "    }\n",
       "</style>\n",
       "<table border=\"1\" class=\"dataframe\">\n",
       "  <thead>\n",
       "    <tr style=\"text-align: right;\">\n",
       "      <th></th>\n",
       "      <th>pred</th>\n",
       "      <th>true</th>\n",
       "      <th>label0.1</th>\n",
       "      <th>label0.12</th>\n",
       "      <th>label0.15</th>\n",
       "      <th>label0.18</th>\n",
       "      <th>label0.2</th>\n",
       "      <th>label0.22</th>\n",
       "      <th>label0.25</th>\n",
       "      <th>label0.27</th>\n",
       "      <th>...</th>\n",
       "      <th>label0.7</th>\n",
       "      <th>label0.72</th>\n",
       "      <th>label0.75</th>\n",
       "      <th>label0.77</th>\n",
       "      <th>label0.8</th>\n",
       "      <th>label0.82</th>\n",
       "      <th>label0.85</th>\n",
       "      <th>label0.87</th>\n",
       "      <th>label0.9</th>\n",
       "      <th>label0.92</th>\n",
       "    </tr>\n",
       "    <tr>\n",
       "      <th>iddesa</th>\n",
       "      <th></th>\n",
       "      <th></th>\n",
       "      <th></th>\n",
       "      <th></th>\n",
       "      <th></th>\n",
       "      <th></th>\n",
       "      <th></th>\n",
       "      <th></th>\n",
       "      <th></th>\n",
       "      <th></th>\n",
       "      <th></th>\n",
       "      <th></th>\n",
       "      <th></th>\n",
       "      <th></th>\n",
       "      <th></th>\n",
       "      <th></th>\n",
       "      <th></th>\n",
       "      <th></th>\n",
       "      <th></th>\n",
       "      <th></th>\n",
       "      <th></th>\n",
       "    </tr>\n",
       "  </thead>\n",
       "  <tbody>\n",
       "    <tr>\n",
       "      <th>3201010001</th>\n",
       "      <td>0.189655</td>\n",
       "      <td>0.0</td>\n",
       "      <td>1</td>\n",
       "      <td>1</td>\n",
       "      <td>1</td>\n",
       "      <td>1</td>\n",
       "      <td>0</td>\n",
       "      <td>0</td>\n",
       "      <td>0</td>\n",
       "      <td>0</td>\n",
       "      <td>...</td>\n",
       "      <td>0</td>\n",
       "      <td>0</td>\n",
       "      <td>0</td>\n",
       "      <td>0</td>\n",
       "      <td>0</td>\n",
       "      <td>0</td>\n",
       "      <td>0</td>\n",
       "      <td>0</td>\n",
       "      <td>0</td>\n",
       "      <td>0</td>\n",
       "    </tr>\n",
       "    <tr>\n",
       "      <th>3201010002</th>\n",
       "      <td>0.717391</td>\n",
       "      <td>0.0</td>\n",
       "      <td>1</td>\n",
       "      <td>1</td>\n",
       "      <td>1</td>\n",
       "      <td>1</td>\n",
       "      <td>1</td>\n",
       "      <td>1</td>\n",
       "      <td>1</td>\n",
       "      <td>1</td>\n",
       "      <td>...</td>\n",
       "      <td>1</td>\n",
       "      <td>0</td>\n",
       "      <td>0</td>\n",
       "      <td>0</td>\n",
       "      <td>0</td>\n",
       "      <td>0</td>\n",
       "      <td>0</td>\n",
       "      <td>0</td>\n",
       "      <td>0</td>\n",
       "      <td>0</td>\n",
       "    </tr>\n",
       "    <tr>\n",
       "      <th>3201010003</th>\n",
       "      <td>0.710526</td>\n",
       "      <td>1.0</td>\n",
       "      <td>1</td>\n",
       "      <td>1</td>\n",
       "      <td>1</td>\n",
       "      <td>1</td>\n",
       "      <td>1</td>\n",
       "      <td>1</td>\n",
       "      <td>1</td>\n",
       "      <td>1</td>\n",
       "      <td>...</td>\n",
       "      <td>1</td>\n",
       "      <td>0</td>\n",
       "      <td>0</td>\n",
       "      <td>0</td>\n",
       "      <td>0</td>\n",
       "      <td>0</td>\n",
       "      <td>0</td>\n",
       "      <td>0</td>\n",
       "      <td>0</td>\n",
       "      <td>0</td>\n",
       "    </tr>\n",
       "    <tr>\n",
       "      <th>3201010004</th>\n",
       "      <td>0.875000</td>\n",
       "      <td>0.0</td>\n",
       "      <td>1</td>\n",
       "      <td>1</td>\n",
       "      <td>1</td>\n",
       "      <td>1</td>\n",
       "      <td>1</td>\n",
       "      <td>1</td>\n",
       "      <td>1</td>\n",
       "      <td>1</td>\n",
       "      <td>...</td>\n",
       "      <td>1</td>\n",
       "      <td>1</td>\n",
       "      <td>1</td>\n",
       "      <td>1</td>\n",
       "      <td>1</td>\n",
       "      <td>1</td>\n",
       "      <td>1</td>\n",
       "      <td>1</td>\n",
       "      <td>0</td>\n",
       "      <td>0</td>\n",
       "    </tr>\n",
       "    <tr>\n",
       "      <th>3201010005</th>\n",
       "      <td>0.900000</td>\n",
       "      <td>1.0</td>\n",
       "      <td>1</td>\n",
       "      <td>1</td>\n",
       "      <td>1</td>\n",
       "      <td>1</td>\n",
       "      <td>1</td>\n",
       "      <td>1</td>\n",
       "      <td>1</td>\n",
       "      <td>1</td>\n",
       "      <td>...</td>\n",
       "      <td>1</td>\n",
       "      <td>1</td>\n",
       "      <td>1</td>\n",
       "      <td>1</td>\n",
       "      <td>1</td>\n",
       "      <td>1</td>\n",
       "      <td>1</td>\n",
       "      <td>1</td>\n",
       "      <td>0</td>\n",
       "      <td>0</td>\n",
       "    </tr>\n",
       "  </tbody>\n",
       "</table>\n",
       "<p>5 rows × 36 columns</p>\n",
       "</div>"
      ],
      "text/plain": [
       "                pred  true  label0.1  label0.12  label0.15  label0.18  \\\n",
       "iddesa                                                                  \n",
       "3201010001  0.189655   0.0         1          1          1          1   \n",
       "3201010002  0.717391   0.0         1          1          1          1   \n",
       "3201010003  0.710526   1.0         1          1          1          1   \n",
       "3201010004  0.875000   0.0         1          1          1          1   \n",
       "3201010005  0.900000   1.0         1          1          1          1   \n",
       "\n",
       "            label0.2  label0.22  label0.25  label0.27  ...  label0.7  \\\n",
       "iddesa                                                 ...             \n",
       "3201010001         0          0          0          0  ...         0   \n",
       "3201010002         1          1          1          1  ...         1   \n",
       "3201010003         1          1          1          1  ...         1   \n",
       "3201010004         1          1          1          1  ...         1   \n",
       "3201010005         1          1          1          1  ...         1   \n",
       "\n",
       "            label0.72  label0.75  label0.77  label0.8  label0.82  label0.85  \\\n",
       "iddesa                                                                        \n",
       "3201010001          0          0          0         0          0          0   \n",
       "3201010002          0          0          0         0          0          0   \n",
       "3201010003          0          0          0         0          0          0   \n",
       "3201010004          1          1          1         1          1          1   \n",
       "3201010005          1          1          1         1          1          1   \n",
       "\n",
       "            label0.87  label0.9  label0.92  \n",
       "iddesa                                      \n",
       "3201010001          0         0          0  \n",
       "3201010002          0         0          0  \n",
       "3201010003          0         0          0  \n",
       "3201010004          1         0          0  \n",
       "3201010005          1         0          0  \n",
       "\n",
       "[5 rows x 36 columns]"
      ]
     },
     "execution_count": 77,
     "metadata": {},
     "output_type": "execute_result"
    }
   ],
   "source": [
    "desa_pred.head()"
   ]
  },
  {
   "cell_type": "code",
   "execution_count": 78,
   "id": "0af817bc-2bed-425f-98ee-224f2ae8990a",
   "metadata": {},
   "outputs": [
    {
     "name": "stdout",
     "output_type": "stream",
     "text": [
      "result label0.1\n",
      "accuracy : 0.7351734427452443\n",
      "precision : 0.7318181818181818\n",
      "result label0.12\n",
      "accuracy : 0.7370384185005595\n",
      "precision : 0.7333839726547664\n",
      "result label0.15\n",
      "accuracy : 0.7405818724356583\n",
      "precision : 0.73630986452967\n",
      "result label0.18\n",
      "accuracy : 0.7441253263707572\n",
      "precision : 0.739355581127733\n",
      "result label0.2\n",
      "accuracy : 0.7467362924281984\n",
      "precision : 0.7416249518675395\n",
      "result label0.22\n",
      "accuracy : 0.7471092875792614\n",
      "precision : 0.7423774604399845\n",
      "result label0.25\n",
      "accuracy : 0.7525177172696755\n",
      "precision : 0.7470348045887614\n",
      "result label0.27\n",
      "accuracy : 0.7534502051473331\n",
      "precision : 0.7481481481481481\n",
      "result label0.3\n",
      "accuracy : 0.7569936590824319\n",
      "precision : 0.7517173699705594\n",
      "result label0.32\n",
      "accuracy : 0.7607236105930623\n",
      "precision : 0.755081902506414\n",
      "result label0.35\n",
      "accuracy : 0.7644535621036926\n",
      "precision : 0.7586891757696127\n",
      "result label0.37\n",
      "accuracy : 0.7659455427079448\n",
      "precision : 0.7603108188882247\n",
      "result label0.4\n",
      "accuracy : 0.7717269675494218\n",
      "precision : 0.7657820667470848\n",
      "result label0.42\n",
      "accuracy : 0.7734054457292056\n",
      "precision : 0.7676013717974581\n",
      "result label0.45\n",
      "accuracy : 0.7788138754196196\n",
      "precision : 0.7732273838630807\n",
      "result label0.47\n",
      "accuracy : 0.783662812383439\n",
      "precision : 0.7781429745275267\n",
      "result label0.5\n",
      "accuracy : 0.7873927638940694\n",
      "precision : 0.78369384359401\n",
      "result label0.52\n",
      "accuracy : 0.7881387541961955\n",
      "precision : 0.7850584307178631\n",
      "result label0.55\n",
      "accuracy : 0.7914957105557627\n",
      "precision : 0.7892301220025242\n",
      "result label0.57\n",
      "accuracy : 0.7933606863110779\n",
      "precision : 0.7918781725888325\n",
      "result label0.6\n",
      "accuracy : 0.7974636329727713\n",
      "precision : 0.7981140162880411\n",
      "result label0.62\n",
      "accuracy : 0.7985826184259605\n",
      "precision : 0.8003015941404567\n",
      "result label0.65\n",
      "accuracy : 0.7982096232748974\n",
      "precision : 0.8044143356643356\n",
      "result label0.67\n",
      "accuracy : 0.8002610966057441\n",
      "precision : 0.8079718123761286\n",
      "result label0.7\n",
      "accuracy : 0.8024990675121223\n",
      "precision : 0.8127365842796704\n",
      "result label0.72\n",
      "accuracy : 0.8023125699365908\n",
      "precision : 0.8152222721149529\n",
      "result label0.75\n",
      "accuracy : 0.8051100335695636\n",
      "precision : 0.8233676975945017\n",
      "result label0.77\n",
      "accuracy : 0.8045505408429691\n",
      "precision : 0.8268428372739917\n",
      "result label0.8\n",
      "accuracy : 0.8028720626631853\n",
      "precision : 0.8336102539757893\n",
      "result label0.82\n",
      "accuracy : 0.8010070869078701\n",
      "precision : 0.8377140101278032\n",
      "result label0.85\n",
      "accuracy : 0.7959716523685192\n",
      "precision : 0.8462306540189716\n",
      "result label0.87\n",
      "accuracy : 0.7933606863110779\n",
      "precision : 0.854573484069887\n",
      "result label0.9\n",
      "accuracy : 0.7844088026855651\n",
      "precision : 0.869885433715221\n",
      "result label0.92\n",
      "accuracy : 0.7713539723983588\n",
      "precision : 0.8785100286532951\n"
     ]
    }
   ],
   "source": [
    "for j in range(2,36):\n",
    "    print(\"result\", desa_pred.columns[j])\n",
    "    print(\"accuracy :\",  accuracy_score( desa_pred.true,desa_pred.iloc[:,[j]]))\n",
    "    print(\"precision :\",  precision_score( desa_pred.true,desa_pred.iloc[:,[j]]))"
   ]
  },
  {
   "cell_type": "markdown",
   "id": "decbfbdb-edf1-4d79-8a94-f2218736d743",
   "metadata": {},
   "source": [
    "### Test result resnet"
   ]
  },
  {
   "cell_type": "code",
   "execution_count": 79,
   "id": "8e08d29c-1d52-4827-a1d6-9ba55896590a",
   "metadata": {},
   "outputs": [],
   "source": [
    "path_pred = Path.cwd() / (\"C:/Users/jwst2/Python/tesis/jpg/sls 10m test\")\n",
    "test_files = [fn for fn in sorted((path_pred).glob('**/*')) if fn.is_file()]"
   ]
  },
  {
   "cell_type": "code",
   "execution_count": 80,
   "id": "5d281420-8e44-4148-af77-1c018ccafce2",
   "metadata": {},
   "outputs": [],
   "source": [
    "test_dl = learn_rs.dls.test_dl(test_files)"
   ]
  },
  {
   "cell_type": "code",
   "execution_count": 81,
   "id": "ea4b07bd-530b-411f-a222-35f52c469ab8",
   "metadata": {},
   "outputs": [
    {
     "data": {
      "text/html": [],
      "text/plain": [
       "<IPython.core.display.HTML object>"
      ]
     },
     "metadata": {},
     "output_type": "display_data"
    }
   ],
   "source": [
    "preds,_ = learn_rs.get_preds(dl  =test_dl)"
   ]
  },
  {
   "cell_type": "code",
   "execution_count": 82,
   "id": "48789ee4-87ce-4b23-8687-8fa9bfa84ece",
   "metadata": {},
   "outputs": [],
   "source": [
    "idx_test = []\n",
    "for i in test_files:\n",
    "    idx_test.append(str(i)[-18:-4])\n",
    "true_label = []\n",
    "for i in test_files:\n",
    "    if(\"urban\" in str(i)) :\n",
    "        true_label.append(1)\n",
    "    else :\n",
    "        true_label.append(0)"
   ]
  },
  {
   "cell_type": "code",
   "execution_count": 83,
   "id": "add6308d-363b-4c70-a4cd-bdb803434f86",
   "metadata": {},
   "outputs": [],
   "source": [
    "test = pd.DataFrame(preds)"
   ]
  },
  {
   "cell_type": "code",
   "execution_count": 84,
   "id": "489d3638-b296-40d1-bb6f-21f38de589b4",
   "metadata": {},
   "outputs": [],
   "source": [
    "test[\"idsls\"] = idx_test\n",
    "test[\"true_lab\"] = true_label"
   ]
  },
  {
   "cell_type": "code",
   "execution_count": 85,
   "id": "9083ff1b-efa9-4d55-840e-77c133f2df6c",
   "metadata": {},
   "outputs": [],
   "source": [
    "test[\"iddesa\"] = test.idsls.str[:10]\n",
    "test[\"stat\"] = round(test[1])"
   ]
  },
  {
   "cell_type": "code",
   "execution_count": 86,
   "id": "93121c3f-71f8-485f-a447-0d0867b08e3b",
   "metadata": {},
   "outputs": [
    {
     "data": {
      "text/html": [
       "<div>\n",
       "<style scoped>\n",
       "    .dataframe tbody tr th:only-of-type {\n",
       "        vertical-align: middle;\n",
       "    }\n",
       "\n",
       "    .dataframe tbody tr th {\n",
       "        vertical-align: top;\n",
       "    }\n",
       "\n",
       "    .dataframe thead th {\n",
       "        text-align: right;\n",
       "    }\n",
       "</style>\n",
       "<table border=\"1\" class=\"dataframe\">\n",
       "  <thead>\n",
       "    <tr style=\"text-align: right;\">\n",
       "      <th></th>\n",
       "      <th>0</th>\n",
       "      <th>1</th>\n",
       "      <th>idsls</th>\n",
       "      <th>true_lab</th>\n",
       "      <th>iddesa</th>\n",
       "      <th>stat</th>\n",
       "    </tr>\n",
       "  </thead>\n",
       "  <tbody>\n",
       "    <tr>\n",
       "      <th>0</th>\n",
       "      <td>0.635516</td>\n",
       "      <td>0.364484</td>\n",
       "      <td>32011500010001</td>\n",
       "      <td>0</td>\n",
       "      <td>3201150001</td>\n",
       "      <td>0.0</td>\n",
       "    </tr>\n",
       "    <tr>\n",
       "      <th>1</th>\n",
       "      <td>0.565740</td>\n",
       "      <td>0.434260</td>\n",
       "      <td>32011500010002</td>\n",
       "      <td>0</td>\n",
       "      <td>3201150001</td>\n",
       "      <td>0.0</td>\n",
       "    </tr>\n",
       "    <tr>\n",
       "      <th>2</th>\n",
       "      <td>0.561585</td>\n",
       "      <td>0.438415</td>\n",
       "      <td>32011500010003</td>\n",
       "      <td>0</td>\n",
       "      <td>3201150001</td>\n",
       "      <td>0.0</td>\n",
       "    </tr>\n",
       "    <tr>\n",
       "      <th>3</th>\n",
       "      <td>0.562635</td>\n",
       "      <td>0.437365</td>\n",
       "      <td>32011500010004</td>\n",
       "      <td>0</td>\n",
       "      <td>3201150001</td>\n",
       "      <td>0.0</td>\n",
       "    </tr>\n",
       "    <tr>\n",
       "      <th>4</th>\n",
       "      <td>0.317222</td>\n",
       "      <td>0.682778</td>\n",
       "      <td>32011500010005</td>\n",
       "      <td>0</td>\n",
       "      <td>3201150001</td>\n",
       "      <td>1.0</td>\n",
       "    </tr>\n",
       "  </tbody>\n",
       "</table>\n",
       "</div>"
      ],
      "text/plain": [
       "          0         1           idsls  true_lab      iddesa  stat\n",
       "0  0.635516  0.364484  32011500010001         0  3201150001   0.0\n",
       "1  0.565740  0.434260  32011500010002         0  3201150001   0.0\n",
       "2  0.561585  0.438415  32011500010003         0  3201150001   0.0\n",
       "3  0.562635  0.437365  32011500010004         0  3201150001   0.0\n",
       "4  0.317222  0.682778  32011500010005         0  3201150001   1.0"
      ]
     },
     "execution_count": 86,
     "metadata": {},
     "output_type": "execute_result"
    }
   ],
   "source": [
    "test.head()"
   ]
  },
  {
   "cell_type": "code",
   "execution_count": 87,
   "id": "9d920fa3-0512-46b5-a646-e770b47fbadf",
   "metadata": {},
   "outputs": [],
   "source": [
    "desa_pred_test = test.groupby('iddesa').agg({'stat': ['mean'], 'true_lab': 'mean'})"
   ]
  },
  {
   "cell_type": "code",
   "execution_count": 88,
   "id": "09a74a67-13e4-4214-847d-bb8140d04f92",
   "metadata": {},
   "outputs": [],
   "source": [
    "desa_pred_test.columns = [\"pred\",\"true\"]"
   ]
  },
  {
   "cell_type": "code",
   "execution_count": 89,
   "id": "1c262931-209a-423a-9a95-f03963d89841",
   "metadata": {},
   "outputs": [
    {
     "name": "stderr",
     "output_type": "stream",
     "text": [
      "C:\\Users\\jwst2\\AppData\\Local\\Temp/ipykernel_25336/2742235302.py:2: SettingWithCopyWarning: \n",
      "A value is trying to be set on a copy of a slice from a DataFrame\n",
      "\n",
      "See the caveats in the documentation: https://pandas.pydata.org/pandas-docs/stable/user_guide/indexing.html#returning-a-view-versus-a-copy\n",
      "  desa_pred_test[\"pred_lab\"][desa_pred_test.pred > 0.775] = 1\n"
     ]
    }
   ],
   "source": [
    "desa_pred_test[\"pred_lab\"] = 0\n",
    "desa_pred_test[\"pred_lab\"][desa_pred_test.pred > 0.775] = 1"
   ]
  },
  {
   "cell_type": "code",
   "execution_count": 90,
   "id": "3fd55f55-62c5-493a-af20-32c852e32203",
   "metadata": {},
   "outputs": [
    {
     "name": "stdout",
     "output_type": "stream",
     "text": [
      "accuracy : 0.8218487394957983\n",
      "balanced_accuracy_score : 0.7459016393442623\n",
      "precision : 0.8451612903225807\n",
      "recall : 0.9203747072599532\n",
      "f1 : 0.8811659192825113\n",
      "rocauc : 0.7459016393442622\n"
     ]
    }
   ],
   "source": [
    "print(\"accuracy :\",  accuracy_score( desa_pred_test.true,desa_pred_test.pred_lab))\n",
    "print(\"balanced_accuracy_score :\",  balanced_accuracy_score( desa_pred_test.true,desa_pred_test.pred_lab))\n",
    "print(\"precision :\",  precision_score( desa_pred_test.true,desa_pred_test.pred_lab))\n",
    "print(\"recall :\",  recall_score( desa_pred_test.true,desa_pred_test.pred_lab))\n",
    "print(\"f1 :\",  f1_score( desa_pred_test.true,desa_pred_test.pred_lab))\n",
    "print(\"rocauc :\",  roc_auc_score( desa_pred_test.true,desa_pred_test.pred_lab))"
   ]
  },
  {
   "cell_type": "code",
   "execution_count": 91,
   "id": "2ec906e7-3916-481b-84c2-2a1b1cfb48aa",
   "metadata": {},
   "outputs": [],
   "source": [
    "accuracy : 0.8218487394957983\n",
    "balanced_accuracy_score : 0.7459016393442623\n",
    "precision : 0.8451612903225807\n",
    "recall : 0.9203747072599532\n",
    "f1 : 0.8811659192825113\n",
    "rocauc : 0.7459016393442622"
   ]
  },
  {
   "cell_type": "code",
   "execution_count": null,
   "id": "26789d1b-cec1-49ba-a159-b015fc5df2c6",
   "metadata": {},
   "outputs": [],
   "source": []
  }
 ],
 "metadata": {
  "kernelspec": {
   "display_name": "Python 3 (ipykernel)",
   "language": "python",
   "name": "python3"
  },
  "language_info": {
   "codemirror_mode": {
    "name": "ipython",
    "version": 3
   },
   "file_extension": ".py",
   "mimetype": "text/x-python",
   "name": "python",
   "nbconvert_exporter": "python",
   "pygments_lexer": "ipython3",
   "version": "3.9.7"
  }
 },
 "nbformat": 4,
 "nbformat_minor": 5
}
