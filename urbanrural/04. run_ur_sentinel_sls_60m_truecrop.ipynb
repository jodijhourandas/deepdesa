{
 "cells": [
  {
   "cell_type": "code",
   "execution_count": 1,
   "id": "6b5301ad-0967-4fa2-b602-24fae3844253",
   "metadata": {},
   "outputs": [],
   "source": [
    "import fastai\n",
    "from fastai.vision.all import *\n",
    "import pandas as pd"
   ]
  },
  {
   "cell_type": "code",
   "execution_count": 2,
   "id": "4c6126f5-6665-4423-99f7-6845baa5e650",
   "metadata": {},
   "outputs": [],
   "source": [
    "from sklearn.metrics import accuracy_score, precision_score, recall_score, f1_score,roc_auc_score,balanced_accuracy_score\n",
    "import numpy as np"
   ]
  },
  {
   "cell_type": "code",
   "execution_count": 3,
   "id": "6a8c1fce-8553-43f4-b944-bc7741fdd266",
   "metadata": {},
   "outputs": [
    {
     "name": "stderr",
     "output_type": "stream",
     "text": [
      "C:\\Users\\jwst2\\anaconda3\\envs\\datasc\\lib\\site-packages\\IPython\\core\\interactiveshell.py:3444: DtypeWarning: Columns (19,20,21) have mixed types.Specify dtype option on import or set low_memory=False.\n",
      "  exec(code_obj, self.user_global_ns, self.user_ns)\n"
     ]
    }
   ],
   "source": [
    "sls = pd.read_csv(\"C:/Users/jwst2/Python/tesis/dataset/3200_sls.csv\")"
   ]
  },
  {
   "cell_type": "code",
   "execution_count": 4,
   "id": "c0978002-6bf2-40fe-9d24-89fb3e7482f4",
   "metadata": {},
   "outputs": [
    {
     "data": {
      "text/html": [
       "<div>\n",
       "<style scoped>\n",
       "    .dataframe tbody tr th:only-of-type {\n",
       "        vertical-align: middle;\n",
       "    }\n",
       "\n",
       "    .dataframe tbody tr th {\n",
       "        vertical-align: top;\n",
       "    }\n",
       "\n",
       "    .dataframe thead th {\n",
       "        text-align: right;\n",
       "    }\n",
       "</style>\n",
       "<table border=\"1\" class=\"dataframe\">\n",
       "  <thead>\n",
       "    <tr style=\"text-align: right;\">\n",
       "      <th></th>\n",
       "      <th>id</th>\n",
       "      <th>kdprov</th>\n",
       "      <th>kdkab</th>\n",
       "      <th>kdkec</th>\n",
       "      <th>kddesa</th>\n",
       "      <th>iddesa</th>\n",
       "      <th>idslsnon</th>\n",
       "      <th>nmslsnon</th>\n",
       "      <th>ketua_sls</th>\n",
       "      <th>jenis</th>\n",
       "      <th>...</th>\n",
       "      <th>j_bstt</th>\n",
       "      <th>j_bsbtt</th>\n",
       "      <th>j_bstt_k</th>\n",
       "      <th>j_bskeko</th>\n",
       "      <th>j_segmen</th>\n",
       "      <th>dom</th>\n",
       "      <th>ldom</th>\n",
       "      <th>j_m_all</th>\n",
       "      <th>j_m_30</th>\n",
       "      <th>klas_ur</th>\n",
       "    </tr>\n",
       "  </thead>\n",
       "  <tbody>\n",
       "    <tr>\n",
       "      <th>0</th>\n",
       "      <td>263884</td>\n",
       "      <td>32</td>\n",
       "      <td>1</td>\n",
       "      <td>10</td>\n",
       "      <td>1</td>\n",
       "      <td>3201010001</td>\n",
       "      <td>100</td>\n",
       "      <td>RT 001 RW 001 DUSUN 1</td>\n",
       "      <td>MUHAMAD RAFLI HIDAYAT</td>\n",
       "      <td>1</td>\n",
       "      <td>...</td>\n",
       "      <td>39</td>\n",
       "      <td>1</td>\n",
       "      <td>2</td>\n",
       "      <td>4</td>\n",
       "      <td>1</td>\n",
       "      <td>1</td>\n",
       "      <td>1</td>\n",
       "      <td>51</td>\n",
       "      <td>51</td>\n",
       "      <td>2</td>\n",
       "    </tr>\n",
       "    <tr>\n",
       "      <th>1</th>\n",
       "      <td>263885</td>\n",
       "      <td>32</td>\n",
       "      <td>1</td>\n",
       "      <td>10</td>\n",
       "      <td>1</td>\n",
       "      <td>3201010001</td>\n",
       "      <td>200</td>\n",
       "      <td>RT 002 RW 001 DUSUN 1</td>\n",
       "      <td>NURMAN</td>\n",
       "      <td>1</td>\n",
       "      <td>...</td>\n",
       "      <td>60</td>\n",
       "      <td>2</td>\n",
       "      <td>0</td>\n",
       "      <td>7</td>\n",
       "      <td>1</td>\n",
       "      <td>1</td>\n",
       "      <td>1</td>\n",
       "      <td>62</td>\n",
       "      <td>61</td>\n",
       "      <td>2</td>\n",
       "    </tr>\n",
       "    <tr>\n",
       "      <th>2</th>\n",
       "      <td>263886</td>\n",
       "      <td>32</td>\n",
       "      <td>1</td>\n",
       "      <td>10</td>\n",
       "      <td>1</td>\n",
       "      <td>3201010001</td>\n",
       "      <td>300</td>\n",
       "      <td>RT 003 RW 001 DUSUN 1</td>\n",
       "      <td>SAENUDIN</td>\n",
       "      <td>1</td>\n",
       "      <td>...</td>\n",
       "      <td>50</td>\n",
       "      <td>2</td>\n",
       "      <td>0</td>\n",
       "      <td>6</td>\n",
       "      <td>1</td>\n",
       "      <td>1</td>\n",
       "      <td>1</td>\n",
       "      <td>58</td>\n",
       "      <td>57</td>\n",
       "      <td>2</td>\n",
       "    </tr>\n",
       "    <tr>\n",
       "      <th>3</th>\n",
       "      <td>263887</td>\n",
       "      <td>32</td>\n",
       "      <td>1</td>\n",
       "      <td>10</td>\n",
       "      <td>1</td>\n",
       "      <td>3201010001</td>\n",
       "      <td>400</td>\n",
       "      <td>RT 004 RW 001 DUSUN 1</td>\n",
       "      <td>AEP</td>\n",
       "      <td>1</td>\n",
       "      <td>...</td>\n",
       "      <td>27</td>\n",
       "      <td>1</td>\n",
       "      <td>0</td>\n",
       "      <td>1</td>\n",
       "      <td>1</td>\n",
       "      <td>1</td>\n",
       "      <td>1</td>\n",
       "      <td>31</td>\n",
       "      <td>31</td>\n",
       "      <td>2</td>\n",
       "    </tr>\n",
       "    <tr>\n",
       "      <th>4</th>\n",
       "      <td>263888</td>\n",
       "      <td>32</td>\n",
       "      <td>1</td>\n",
       "      <td>10</td>\n",
       "      <td>1</td>\n",
       "      <td>3201010001</td>\n",
       "      <td>500</td>\n",
       "      <td>RT 005 RW 001 DUSUN 1</td>\n",
       "      <td>JEJEN JAELANI</td>\n",
       "      <td>1</td>\n",
       "      <td>...</td>\n",
       "      <td>49</td>\n",
       "      <td>7</td>\n",
       "      <td>3</td>\n",
       "      <td>8</td>\n",
       "      <td>3</td>\n",
       "      <td>1</td>\n",
       "      <td>1</td>\n",
       "      <td>63</td>\n",
       "      <td>57</td>\n",
       "      <td>2</td>\n",
       "    </tr>\n",
       "  </tbody>\n",
       "</table>\n",
       "<p>5 rows × 36 columns</p>\n",
       "</div>"
      ],
      "text/plain": [
       "       id  kdprov  kdkab  kdkec  kddesa      iddesa  idslsnon  \\\n",
       "0  263884      32      1     10       1  3201010001       100   \n",
       "1  263885      32      1     10       1  3201010001       200   \n",
       "2  263886      32      1     10       1  3201010001       300   \n",
       "3  263887      32      1     10       1  3201010001       400   \n",
       "4  263888      32      1     10       1  3201010001       500   \n",
       "\n",
       "                nmslsnon              ketua_sls  jenis  ...  j_bstt  j_bsbtt  \\\n",
       "0  RT 001 RW 001 DUSUN 1  MUHAMAD RAFLI HIDAYAT      1  ...      39        1   \n",
       "1  RT 002 RW 001 DUSUN 1                 NURMAN      1  ...      60        2   \n",
       "2  RT 003 RW 001 DUSUN 1               SAENUDIN      1  ...      50        2   \n",
       "3  RT 004 RW 001 DUSUN 1                    AEP      1  ...      27        1   \n",
       "4  RT 005 RW 001 DUSUN 1          JEJEN JAELANI      1  ...      49        7   \n",
       "\n",
       "   j_bstt_k  j_bskeko  j_segmen  dom  ldom  j_m_all j_m_30 klas_ur  \n",
       "0         2         4         1    1     1       51     51       2  \n",
       "1         0         7         1    1     1       62     61       2  \n",
       "2         0         6         1    1     1       58     57       2  \n",
       "3         0         1         1    1     1       31     31       2  \n",
       "4         3         8         3    1     1       63     57       2  \n",
       "\n",
       "[5 rows x 36 columns]"
      ]
     },
     "execution_count": 4,
     "metadata": {},
     "output_type": "execute_result"
    }
   ],
   "source": [
    "sls.head()"
   ]
  },
  {
   "cell_type": "code",
   "execution_count": 5,
   "id": "240cf8ef-95ee-4410-9819-9b4e21492fca",
   "metadata": {},
   "outputs": [
    {
     "data": {
      "text/plain": [
       "(5957,)"
      ]
     },
     "execution_count": 5,
     "metadata": {},
     "output_type": "execute_result"
    }
   ],
   "source": [
    "sls.iddesa.unique().shape"
   ]
  },
  {
   "cell_type": "code",
   "execution_count": 4,
   "id": "a0541718-1257-40ba-aa83-5839cd13a996",
   "metadata": {},
   "outputs": [],
   "source": [
    "os.chdir('C:/Users/jwst2/Python/tesis/jpg/UR/04. Sentinel 60M SLS Truecrop')\n",
    "if os.path.isdir('urban') is False:\n",
    "    os.makedirs('urban')\n",
    "    os.makedirs('rural')"
   ]
  },
  {
   "cell_type": "code",
   "execution_count": 5,
   "id": "f3e6e565-6104-4b37-b6ad-9cb89eb373b9",
   "metadata": {},
   "outputs": [
    {
     "name": "stderr",
     "output_type": "stream",
     "text": [
      "0it [00:00, ?it/s]"
     ]
    },
    {
     "name": "stdout",
     "output_type": "stream",
     "text": [
      "32070000002000.jpg\n",
      "32080000002001.jpg\n",
      "32080100006001.jpg\n",
      "32170000006001.jpg\n"
     ]
    },
    {
     "name": "stderr",
     "output_type": "stream",
     "text": [
      "1it [13:53, 833.74s/it]\n"
     ]
    }
   ],
   "source": [
    "yourpath = \"C:/Users/jwst2/Python/tesis/jpg/general sls sentinel 60m tc/\"\n",
    "from tqdm import tqdm\n",
    "for root, dirs, files in tqdm(os.walk(yourpath, topdown=False)):\n",
    "    for name in files:\n",
    "        try :\n",
    "            if(sls.klas_ur[sls.iddesa == int(name.replace(\".jpg\",\"\")[:10])].iloc[0] == 1):\n",
    "                shutil.copy(os.path.join(root, name), \"C:/Users/jwst2/Python/tesis/jpg/UR/04. Sentinel 60M SLS Truecrop/urban/\"+name)\n",
    "            elif(sls.klas_ur[sls.iddesa == int(name.replace(\".jpg\",\"\")[:10])].iloc[0] == 2):\n",
    "                shutil.copy(os.path.join(root, name), \"C:/Users/jwst2/Python/tesis/jpg/UR/04. Sentinel 60M SLS Truecrop/rural/\"+name)\n",
    "        except Exception:\n",
    "            print(name)\n",
    "            pass "
   ]
  },
  {
   "cell_type": "code",
   "execution_count": 6,
   "id": "6648166b-b5f9-4fbb-aa9a-a1f15bdbcbb9",
   "metadata": {},
   "outputs": [],
   "source": [
    "split = pd.read_csv(\"C:/Users/jwst2/Python/tesis/dataset/datasplit_ur_desa.csv\")"
   ]
  },
  {
   "cell_type": "code",
   "execution_count": 7,
   "id": "5ca94f42-5c7c-463f-8e55-0f55e402c91e",
   "metadata": {},
   "outputs": [],
   "source": [
    "split_test =split"
   ]
  },
  {
   "cell_type": "code",
   "execution_count": 8,
   "id": "b6c07aea-b6ac-4c82-96dd-9e40b324ef4d",
   "metadata": {},
   "outputs": [
    {
     "data": {
      "text/html": [
       "<div>\n",
       "<style scoped>\n",
       "    .dataframe tbody tr th:only-of-type {\n",
       "        vertical-align: middle;\n",
       "    }\n",
       "\n",
       "    .dataframe tbody tr th {\n",
       "        vertical-align: top;\n",
       "    }\n",
       "\n",
       "    .dataframe thead th {\n",
       "        text-align: right;\n",
       "    }\n",
       "</style>\n",
       "<table border=\"1\" class=\"dataframe\">\n",
       "  <thead>\n",
       "    <tr style=\"text-align: right;\">\n",
       "      <th></th>\n",
       "      <th>Unnamed: 0</th>\n",
       "      <th>iddesa</th>\n",
       "    </tr>\n",
       "  </thead>\n",
       "  <tbody>\n",
       "    <tr>\n",
       "      <th>0</th>\n",
       "      <td>0</td>\n",
       "      <td>3207250012</td>\n",
       "    </tr>\n",
       "    <tr>\n",
       "      <th>1</th>\n",
       "      <td>1</td>\n",
       "      <td>3273111002</td>\n",
       "    </tr>\n",
       "    <tr>\n",
       "      <th>2</th>\n",
       "      <td>2</td>\n",
       "      <td>3205260016</td>\n",
       "    </tr>\n",
       "    <tr>\n",
       "      <th>3</th>\n",
       "      <td>3</td>\n",
       "      <td>3212030010</td>\n",
       "    </tr>\n",
       "    <tr>\n",
       "      <th>4</th>\n",
       "      <td>4</td>\n",
       "      <td>3208181004</td>\n",
       "    </tr>\n",
       "    <tr>\n",
       "      <th>...</th>\n",
       "      <td>...</td>\n",
       "      <td>...</td>\n",
       "    </tr>\n",
       "    <tr>\n",
       "      <th>590</th>\n",
       "      <td>590</td>\n",
       "      <td>3210070009</td>\n",
       "    </tr>\n",
       "    <tr>\n",
       "      <th>591</th>\n",
       "      <td>591</td>\n",
       "      <td>3209040007</td>\n",
       "    </tr>\n",
       "    <tr>\n",
       "      <th>592</th>\n",
       "      <td>592</td>\n",
       "      <td>3203051007</td>\n",
       "    </tr>\n",
       "    <tr>\n",
       "      <th>593</th>\n",
       "      <td>593</td>\n",
       "      <td>3208030017</td>\n",
       "    </tr>\n",
       "    <tr>\n",
       "      <th>594</th>\n",
       "      <td>594</td>\n",
       "      <td>3209181004</td>\n",
       "    </tr>\n",
       "  </tbody>\n",
       "</table>\n",
       "<p>595 rows × 2 columns</p>\n",
       "</div>"
      ],
      "text/plain": [
       "     Unnamed: 0      iddesa\n",
       "0             0  3207250012\n",
       "1             1  3273111002\n",
       "2             2  3205260016\n",
       "3             3  3212030010\n",
       "4             4  3208181004\n",
       "..          ...         ...\n",
       "590         590  3210070009\n",
       "591         591  3209040007\n",
       "592         592  3203051007\n",
       "593         593  3208030017\n",
       "594         594  3209181004\n",
       "\n",
       "[595 rows x 2 columns]"
      ]
     },
     "execution_count": 8,
     "metadata": {},
     "output_type": "execute_result"
    }
   ],
   "source": [
    "split_test"
   ]
  },
  {
   "cell_type": "markdown",
   "id": "0e6d5e33-4b9c-47c6-8044-397ec50d998a",
   "metadata": {},
   "source": [
    "### Create test"
   ]
  },
  {
   "cell_type": "code",
   "execution_count": 13,
   "id": "573f8577-2f97-4e53-9603-80425b934923",
   "metadata": {},
   "outputs": [],
   "source": [
    "os.chdir('C:/Users/jwst2/Python/tesis/jpg/UR/test sls 60m tc/')\n",
    "if os.path.isdir('urban') is False:\n",
    "    os.makedirs('urban')\n",
    "    os.makedirs('rural')"
   ]
  },
  {
   "cell_type": "code",
   "execution_count": 14,
   "id": "3b7a980f-6276-4c83-8475-dc8b814f5d0d",
   "metadata": {},
   "outputs": [
    {
     "name": "stderr",
     "output_type": "stream",
     "text": [
      "1it [00:31, 31.94s/it]\n"
     ]
    }
   ],
   "source": [
    "yourpath = \"C:/Users/jwst2/Python/tesis/jpg/UR/04. Sentinel 60M SLS Truecrop/rural\"\n",
    "from tqdm import tqdm\n",
    "for root, dirs, files in tqdm(os.walk(yourpath, topdown=False)):\n",
    "    for name in files:\n",
    "        try :\n",
    "            if(split_test.iddesa.astype(str).str.contains(name[:10]).sum() > 0):\n",
    "                shutil.move(os.path.join(root, name), \"C:/Users/jwst2/Python/tesis/jpg/UR/test sls 60m tc/rural/\"+name)\n",
    "        except Exception:\n",
    "            print(name)\n",
    "            pass "
   ]
  },
  {
   "cell_type": "code",
   "execution_count": 15,
   "id": "13950442-0335-4377-b819-747b94eff3e3",
   "metadata": {},
   "outputs": [
    {
     "name": "stderr",
     "output_type": "stream",
     "text": [
      "1it [01:56, 116.99s/it]\n"
     ]
    }
   ],
   "source": [
    "yourpath = \"C:/Users/jwst2/Python/tesis/jpg/UR/04. Sentinel 60M SLS Truecrop/urban\"\n",
    "from tqdm import tqdm\n",
    "for root, dirs, files in tqdm(os.walk(yourpath, topdown=False)):\n",
    "    for name in files:\n",
    "        try :\n",
    "            if(split_test.iddesa.astype(str).str.contains(name[:10]).sum() > 0):\n",
    "                shutil.move(os.path.join(root, name), \"C:/Users/jwst2/Python/tesis/jpg/UR/test sls 60m tc/urban/\"+name)\n",
    "        except Exception:\n",
    "            print(name)\n",
    "            pass "
   ]
  },
  {
   "cell_type": "markdown",
   "id": "c4db6ad9-230f-4fb1-8802-d4d94084ab93",
   "metadata": {},
   "source": [
    "### Run Dataset"
   ]
  },
  {
   "cell_type": "code",
   "execution_count": 16,
   "id": "90fde506-4689-4fdd-a6ac-cd33a14d1fa7",
   "metadata": {},
   "outputs": [],
   "source": [
    "path = Path.cwd() / (\"C:/Users/jwst2/Python/tesis/jpg/UR/04. Sentinel 60M SLS Truecrop\")"
   ]
  },
  {
   "cell_type": "code",
   "execution_count": 17,
   "id": "884088a1-f278-49ed-ba7a-84a8788ac906",
   "metadata": {},
   "outputs": [
    {
     "data": {
      "text/plain": [
       "(#2) [Path('rural'),Path('urban')]"
      ]
     },
     "execution_count": 17,
     "metadata": {},
     "output_type": "execute_result"
    }
   ],
   "source": [
    "Path.BASE_PATH = path\n",
    "path.ls()"
   ]
  },
  {
   "cell_type": "code",
   "execution_count": 18,
   "id": "bd185d8d-e0c7-4234-a389-964c9b58dd8b",
   "metadata": {},
   "outputs": [
    {
     "data": {
      "text/plain": [
       "Path('rural/32010100010001.jpg')"
      ]
     },
     "execution_count": 18,
     "metadata": {},
     "output_type": "execute_result"
    }
   ],
   "source": [
    "fname = (path/\"rural\").ls()[0]\n",
    "fname"
   ]
  },
  {
   "cell_type": "code",
   "execution_count": 19,
   "id": "52aafdf5-784f-43e5-82dc-98f1542f98ed",
   "metadata": {},
   "outputs": [
    {
     "data": {
      "image/png": "[encoded data removed]",
      "text/plain": [
       "<PIL.JpegImagePlugin.JpegImageFile image mode=RGB size=64x64 at 0x19DDAD8BE20>"
      ]
     },
     "execution_count": 19,
     "metadata": {},
     "output_type": "execute_result"
    }
   ],
   "source": [
    "img = Image.open(fname)\n",
    "img"
   ]
  },
  {
   "cell_type": "code",
   "execution_count": 20,
   "id": "a528169c-6462-4eee-98cb-af609455d447",
   "metadata": {},
   "outputs": [],
   "source": [
    "blocks = DataBlock(blocks = (ImageBlock, CategoryBlock),\n",
    "                 get_items=get_image_files, # finds the images in the path\n",
    "                 splitter=RandomSplitter(valid_pct=0.1, seed=42),  # default random split 80% training, 20% validation\n",
    "                 get_y=parent_label # extracts the label category from the image's folder name \n",
    "                 ) # data augmentation (mult multiplies the default transformation values)"
   ]
  },
  {
   "cell_type": "code",
   "execution_count": 21,
   "id": "7d33721a-eeba-4cda-af33-84a8baace424",
   "metadata": {},
   "outputs": [
    {
     "name": "stdout",
     "output_type": "stream",
     "text": [
      "Due to IPython and Windows limitation, python multiprocessing isn't available now.\n",
      "So `number_workers` is changed to 0 to avoid getting stuck\n"
     ]
    }
   ],
   "source": [
    "dls = blocks.dataloaders(path)"
   ]
  },
  {
   "cell_type": "code",
   "execution_count": 22,
   "id": "eff7faf3-2588-4b9c-a678-08d148a16221",
   "metadata": {},
   "outputs": [
    {
     "data": {
      "image/png": "[encoded data removed]",
      "text/plain": [
       "<Figure size 1080x216 with 5 Axes>"
      ]
     },
     "metadata": {
      "needs_background": "light"
     },
     "output_type": "display_data"
    }
   ],
   "source": [
    "dls.show_batch(nrows=1, ncols=5)"
   ]
  },
  {
   "cell_type": "code",
   "execution_count": 23,
   "id": "8525b8dd-43c1-41dd-a1e7-eadb3de93d6d",
   "metadata": {},
   "outputs": [],
   "source": [
    "avg = 'macro'\n",
    "roca = RocAucBinary(average=avg)\n",
    "f1s = F1Score(average=avg)\n",
    "bc = BalancedAccuracy()\n",
    "metrics=[accuracy,bc, Precision(average=avg), Recall(average=avg), f1s, roca]\n",
    "learn = cnn_learner(dls, densenet121, metrics=metrics) "
   ]
  },
  {
   "cell_type": "code",
   "execution_count": 24,
   "id": "cd1f3ab9-a177-498f-9922-bf7ec2dd9724",
   "metadata": {},
   "outputs": [
    {
     "data": {
      "text/html": [
       "<table border=\"1\" class=\"dataframe\">\n",
       "  <thead>\n",
       "    <tr style=\"text-align: left;\">\n",
       "      <th>epoch</th>\n",
       "      <th>train_loss</th>\n",
       "      <th>valid_loss</th>\n",
       "      <th>accuracy</th>\n",
       "      <th>balanced_accuracy_score</th>\n",
       "      <th>precision_score</th>\n",
       "      <th>recall_score</th>\n",
       "      <th>f1_score</th>\n",
       "      <th>roc_auc_score</th>\n",
       "      <th>time</th>\n",
       "    </tr>\n",
       "  </thead>\n",
       "  <tbody>\n",
       "    <tr>\n",
       "      <td>0</td>\n",
       "      <td>0.407861</td>\n",
       "      <td>0.391303</td>\n",
       "      <td>0.815333</td>\n",
       "      <td>0.685043</td>\n",
       "      <td>0.722238</td>\n",
       "      <td>0.685043</td>\n",
       "      <td>0.699622</td>\n",
       "      <td>0.832645</td>\n",
       "      <td>17:40</td>\n",
       "    </tr>\n",
       "    <tr>\n",
       "      <td>1</td>\n",
       "      <td>0.386494</td>\n",
       "      <td>0.382880</td>\n",
       "      <td>0.819831</td>\n",
       "      <td>0.617254</td>\n",
       "      <td>0.764650</td>\n",
       "      <td>0.617254</td>\n",
       "      <td>0.639535</td>\n",
       "      <td>0.843570</td>\n",
       "      <td>09:12</td>\n",
       "    </tr>\n",
       "    <tr>\n",
       "      <td>2</td>\n",
       "      <td>0.376167</td>\n",
       "      <td>0.376152</td>\n",
       "      <td>0.823318</td>\n",
       "      <td>0.651744</td>\n",
       "      <td>0.750071</td>\n",
       "      <td>0.651744</td>\n",
       "      <td>0.676866</td>\n",
       "      <td>0.844670</td>\n",
       "      <td>09:15</td>\n",
       "    </tr>\n",
       "  </tbody>\n",
       "</table>"
      ],
      "text/plain": [
       "<IPython.core.display.HTML object>"
      ]
     },
     "metadata": {},
     "output_type": "display_data"
    }
   ],
   "source": [
    "learn.fit_one_cycle(3)"
   ]
  },
  {
   "cell_type": "code",
   "execution_count": 25,
   "id": "aab9f026-8749-42b2-abfb-60aa7c10aacb",
   "metadata": {},
   "outputs": [],
   "source": [
    "learn.unfreeze()"
   ]
  },
  {
   "cell_type": "code",
   "execution_count": 26,
   "id": "bdad8c98-6172-4396-8419-65ed3f0a51b8",
   "metadata": {},
   "outputs": [
    {
     "data": {
      "text/html": [
       "<table border=\"1\" class=\"dataframe\">\n",
       "  <thead>\n",
       "    <tr style=\"text-align: left;\">\n",
       "      <th>epoch</th>\n",
       "      <th>train_loss</th>\n",
       "      <th>valid_loss</th>\n",
       "      <th>accuracy</th>\n",
       "      <th>balanced_accuracy_score</th>\n",
       "      <th>precision_score</th>\n",
       "      <th>recall_score</th>\n",
       "      <th>f1_score</th>\n",
       "      <th>roc_auc_score</th>\n",
       "      <th>time</th>\n",
       "    </tr>\n",
       "  </thead>\n",
       "  <tbody>\n",
       "    <tr>\n",
       "      <td>0</td>\n",
       "      <td>0.400055</td>\n",
       "      <td>0.438473</td>\n",
       "      <td>0.809117</td>\n",
       "      <td>0.569042</td>\n",
       "      <td>0.779494</td>\n",
       "      <td>0.569042</td>\n",
       "      <td>0.571556</td>\n",
       "      <td>0.811201</td>\n",
       "      <td>11:16</td>\n",
       "    </tr>\n",
       "    <tr>\n",
       "      <td>1</td>\n",
       "      <td>0.393314</td>\n",
       "      <td>0.400578</td>\n",
       "      <td>0.811897</td>\n",
       "      <td>0.711920</td>\n",
       "      <td>0.717916</td>\n",
       "      <td>0.711920</td>\n",
       "      <td>0.714809</td>\n",
       "      <td>0.836029</td>\n",
       "      <td>11:21</td>\n",
       "    </tr>\n",
       "    <tr>\n",
       "      <td>2</td>\n",
       "      <td>0.398129</td>\n",
       "      <td>0.385751</td>\n",
       "      <td>0.821196</td>\n",
       "      <td>0.634650</td>\n",
       "      <td>0.753736</td>\n",
       "      <td>0.634650</td>\n",
       "      <td>0.659251</td>\n",
       "      <td>0.837067</td>\n",
       "      <td>11:13</td>\n",
       "    </tr>\n",
       "    <tr>\n",
       "      <td>3</td>\n",
       "      <td>0.389030</td>\n",
       "      <td>0.377891</td>\n",
       "      <td>0.820387</td>\n",
       "      <td>0.619956</td>\n",
       "      <td>0.764261</td>\n",
       "      <td>0.619956</td>\n",
       "      <td>0.642840</td>\n",
       "      <td>0.845480</td>\n",
       "      <td>11:13</td>\n",
       "    </tr>\n",
       "    <tr>\n",
       "      <td>4</td>\n",
       "      <td>0.380507</td>\n",
       "      <td>0.374458</td>\n",
       "      <td>0.824279</td>\n",
       "      <td>0.646786</td>\n",
       "      <td>0.756520</td>\n",
       "      <td>0.646786</td>\n",
       "      <td>0.672600</td>\n",
       "      <td>0.846419</td>\n",
       "      <td>11:06</td>\n",
       "    </tr>\n",
       "  </tbody>\n",
       "</table>"
      ],
      "text/plain": [
       "<IPython.core.display.HTML object>"
      ]
     },
     "metadata": {},
     "output_type": "display_data"
    }
   ],
   "source": [
    "learn.fit_one_cycle(5)"
   ]
  },
  {
   "cell_type": "code",
   "execution_count": 27,
   "id": "e7e1186a-d09b-4ead-a8db-46454c5c4dc0",
   "metadata": {},
   "outputs": [
    {
     "data": {
      "text/plain": [
       "['rural', 'urban']"
      ]
     },
     "execution_count": 27,
     "metadata": {},
     "output_type": "execute_result"
    }
   ],
   "source": [
    "dls.vocab"
   ]
  },
  {
   "cell_type": "code",
   "execution_count": 28,
   "id": "c5830bb5-c0bb-4680-b773-150c9ee2002c",
   "metadata": {},
   "outputs": [
    {
     "data": {
      "text/plain": [
       "Path('urban/32731900050057.jpg')"
      ]
     },
     "execution_count": 28,
     "metadata": {},
     "output_type": "execute_result"
    }
   ],
   "source": [
    "dls.train.items[175000]"
   ]
  },
  {
   "cell_type": "code",
   "execution_count": 29,
   "id": "547ba6e2-d5a2-4f29-9dcb-fb9b2e109a5d",
   "metadata": {},
   "outputs": [],
   "source": [
    "learn.export('C:/Users/jwst2/Python/tesis/models/18042022 D004.pkl')"
   ]
  },
  {
   "cell_type": "markdown",
   "id": "a06daf77-bb94-4097-bc8f-263a1c65aed5",
   "metadata": {},
   "source": [
    "### Up level"
   ]
  },
  {
   "cell_type": "code",
   "execution_count": 30,
   "id": "f975b391-1a56-4d3c-ab42-829ace1febc3",
   "metadata": {},
   "outputs": [],
   "source": [
    "idx_train = []\n",
    "for i in dls.train.items:\n",
    "    idx_train.append(str(i)[-18:-4])\n",
    "true_label = []\n",
    "for i in dls.train.items:\n",
    "    if(\"urban\" in str(i)) :\n",
    "        true_label.append(1)\n",
    "    else :\n",
    "        true_label.append(0)"
   ]
  },
  {
   "cell_type": "code",
   "execution_count": 31,
   "id": "1b9a6293-8ded-4ccd-8be5-282e8abf5ef4",
   "metadata": {},
   "outputs": [
    {
     "data": {
      "text/html": [],
      "text/plain": [
       "<IPython.core.display.HTML object>"
      ]
     },
     "metadata": {},
     "output_type": "display_data"
    }
   ],
   "source": [
    "preds,_ = learn.get_preds(ds_idx  = 0)\n",
    "result_train = preds.numpy()\n",
    "new_train = pd.DataFrame(result_train)"
   ]
  },
  {
   "cell_type": "code",
   "execution_count": 32,
   "id": "f6f18366-923e-49d5-8470-4f5c63b89975",
   "metadata": {},
   "outputs": [
    {
     "data": {
      "text/plain": [
       "1    140261\n",
       "0     37828\n",
       "dtype: int64"
      ]
     },
     "execution_count": 32,
     "metadata": {},
     "output_type": "execute_result"
    }
   ],
   "source": [
    "pd.value_counts(true_label)"
   ]
  },
  {
   "cell_type": "code",
   "execution_count": 33,
   "id": "7baa9c67-e0bf-4fa0-b699-81028a698288",
   "metadata": {},
   "outputs": [
    {
     "data": {
      "text/html": [
       "<div>\n",
       "<style scoped>\n",
       "    .dataframe tbody tr th:only-of-type {\n",
       "        vertical-align: middle;\n",
       "    }\n",
       "\n",
       "    .dataframe tbody tr th {\n",
       "        vertical-align: top;\n",
       "    }\n",
       "\n",
       "    .dataframe thead th {\n",
       "        text-align: right;\n",
       "    }\n",
       "</style>\n",
       "<table border=\"1\" class=\"dataframe\">\n",
       "  <thead>\n",
       "    <tr style=\"text-align: right;\">\n",
       "      <th></th>\n",
       "      <th>0</th>\n",
       "      <th>1</th>\n",
       "      <th>idsls</th>\n",
       "      <th>stat</th>\n",
       "      <th>iddesa</th>\n",
       "    </tr>\n",
       "  </thead>\n",
       "  <tbody>\n",
       "    <tr>\n",
       "      <th>0</th>\n",
       "      <td>0.458924</td>\n",
       "      <td>0.541076</td>\n",
       "      <td>32053100190023</td>\n",
       "      <td>1.0</td>\n",
       "      <td>3205310019</td>\n",
       "    </tr>\n",
       "    <tr>\n",
       "      <th>1</th>\n",
       "      <td>0.386881</td>\n",
       "      <td>0.613119</td>\n",
       "      <td>32061110010013</td>\n",
       "      <td>1.0</td>\n",
       "      <td>3206111001</td>\n",
       "    </tr>\n",
       "    <tr>\n",
       "      <th>2</th>\n",
       "      <td>0.009003</td>\n",
       "      <td>0.990997</td>\n",
       "      <td>32091300140021</td>\n",
       "      <td>1.0</td>\n",
       "      <td>3209130014</td>\n",
       "    </tr>\n",
       "    <tr>\n",
       "      <th>3</th>\n",
       "      <td>0.191447</td>\n",
       "      <td>0.808553</td>\n",
       "      <td>32091610060002</td>\n",
       "      <td>1.0</td>\n",
       "      <td>3209161006</td>\n",
       "    </tr>\n",
       "    <tr>\n",
       "      <th>4</th>\n",
       "      <td>0.182639</td>\n",
       "      <td>0.817361</td>\n",
       "      <td>32062610040007</td>\n",
       "      <td>1.0</td>\n",
       "      <td>3206261004</td>\n",
       "    </tr>\n",
       "  </tbody>\n",
       "</table>\n",
       "</div>"
      ],
      "text/plain": [
       "          0         1           idsls  stat      iddesa\n",
       "0  0.458924  0.541076  32053100190023   1.0  3205310019\n",
       "1  0.386881  0.613119  32061110010013   1.0  3206111001\n",
       "2  0.009003  0.990997  32091300140021   1.0  3209130014\n",
       "3  0.191447  0.808553  32091610060002   1.0  3209161006\n",
       "4  0.182639  0.817361  32062610040007   1.0  3206261004"
      ]
     },
     "execution_count": 33,
     "metadata": {},
     "output_type": "execute_result"
    }
   ],
   "source": [
    "df = new_train\n",
    "df[\"idsls\"] = idx_train \n",
    "df[\"stat\"] = round(df[1])\n",
    "df[\"iddesa\"] = df.idsls.str[:10]\n",
    "df.head()"
   ]
  },
  {
   "cell_type": "code",
   "execution_count": 34,
   "id": "27375754-0aa1-4dde-af27-3d7f20cb244c",
   "metadata": {},
   "outputs": [
    {
     "data": {
      "text/plain": [
       "1.0    159350\n",
       "0.0     18739\n",
       "Name: stat, dtype: int64"
      ]
     },
     "execution_count": 34,
     "metadata": {},
     "output_type": "execute_result"
    }
   ],
   "source": [
    "pd.value_counts(df.stat)"
   ]
  },
  {
   "cell_type": "code",
   "execution_count": 35,
   "id": "51e93c51-a1f1-4c0d-92e0-984e5b78d065",
   "metadata": {},
   "outputs": [],
   "source": [
    "df[\"true_lab\"] = true_label"
   ]
  },
  {
   "cell_type": "code",
   "execution_count": 36,
   "id": "0823d3a6-312e-4355-b198-23eae6063316",
   "metadata": {},
   "outputs": [
    {
     "data": {
      "text/plain": [
       "1    140261\n",
       "0     37828\n",
       "Name: true_lab, dtype: int64"
      ]
     },
     "execution_count": 36,
     "metadata": {},
     "output_type": "execute_result"
    }
   ],
   "source": [
    "pd.value_counts(df.true_lab)"
   ]
  },
  {
   "cell_type": "code",
   "execution_count": 37,
   "id": "84ffac8a-28bd-4e7c-97b0-e4b46e397e64",
   "metadata": {},
   "outputs": [
    {
     "data": {
      "text/plain": [
       "0.8215555143776426"
      ]
     },
     "execution_count": 37,
     "metadata": {},
     "output_type": "execute_result"
    }
   ],
   "source": [
    "accuracy_score(df.stat.apply(int),df.true_lab.apply(int))"
   ]
  },
  {
   "cell_type": "code",
   "execution_count": 38,
   "id": "caadfca2-e80e-4d01-8e5c-16c22d8e3900",
   "metadata": {},
   "outputs": [
    {
     "data": {
      "text/html": [
       "<div>\n",
       "<style scoped>\n",
       "    .dataframe tbody tr th:only-of-type {\n",
       "        vertical-align: middle;\n",
       "    }\n",
       "\n",
       "    .dataframe tbody tr th {\n",
       "        vertical-align: top;\n",
       "    }\n",
       "\n",
       "    .dataframe thead th {\n",
       "        text-align: right;\n",
       "    }\n",
       "</style>\n",
       "<table border=\"1\" class=\"dataframe\">\n",
       "  <thead>\n",
       "    <tr style=\"text-align: right;\">\n",
       "      <th></th>\n",
       "      <th>0</th>\n",
       "      <th>1</th>\n",
       "      <th>idsls</th>\n",
       "      <th>stat</th>\n",
       "      <th>iddesa</th>\n",
       "      <th>true_lab</th>\n",
       "    </tr>\n",
       "  </thead>\n",
       "  <tbody>\n",
       "    <tr>\n",
       "      <th>0</th>\n",
       "      <td>0.458924</td>\n",
       "      <td>0.541076</td>\n",
       "      <td>32053100190023</td>\n",
       "      <td>1.0</td>\n",
       "      <td>3205310019</td>\n",
       "      <td>0</td>\n",
       "    </tr>\n",
       "    <tr>\n",
       "      <th>1</th>\n",
       "      <td>0.386881</td>\n",
       "      <td>0.613119</td>\n",
       "      <td>32061110010013</td>\n",
       "      <td>1.0</td>\n",
       "      <td>3206111001</td>\n",
       "      <td>0</td>\n",
       "    </tr>\n",
       "    <tr>\n",
       "      <th>2</th>\n",
       "      <td>0.009003</td>\n",
       "      <td>0.990997</td>\n",
       "      <td>32091300140021</td>\n",
       "      <td>1.0</td>\n",
       "      <td>3209130014</td>\n",
       "      <td>1</td>\n",
       "    </tr>\n",
       "    <tr>\n",
       "      <th>3</th>\n",
       "      <td>0.191447</td>\n",
       "      <td>0.808553</td>\n",
       "      <td>32091610060002</td>\n",
       "      <td>1.0</td>\n",
       "      <td>3209161006</td>\n",
       "      <td>1</td>\n",
       "    </tr>\n",
       "    <tr>\n",
       "      <th>4</th>\n",
       "      <td>0.182639</td>\n",
       "      <td>0.817361</td>\n",
       "      <td>32062610040007</td>\n",
       "      <td>1.0</td>\n",
       "      <td>3206261004</td>\n",
       "      <td>0</td>\n",
       "    </tr>\n",
       "  </tbody>\n",
       "</table>\n",
       "</div>"
      ],
      "text/plain": [
       "          0         1           idsls  stat      iddesa  true_lab\n",
       "0  0.458924  0.541076  32053100190023   1.0  3205310019         0\n",
       "1  0.386881  0.613119  32061110010013   1.0  3206111001         0\n",
       "2  0.009003  0.990997  32091300140021   1.0  3209130014         1\n",
       "3  0.191447  0.808553  32091610060002   1.0  3209161006         1\n",
       "4  0.182639  0.817361  32062610040007   1.0  3206261004         0"
      ]
     },
     "execution_count": 38,
     "metadata": {},
     "output_type": "execute_result"
    }
   ],
   "source": [
    "df.head()"
   ]
  },
  {
   "cell_type": "code",
   "execution_count": 39,
   "id": "d72c35ba-448b-4f71-8a5f-6b03de74920f",
   "metadata": {},
   "outputs": [],
   "source": [
    "desa_pred = df.groupby('iddesa').agg({'stat': ['mean'], 'true_lab': 'mean'})"
   ]
  },
  {
   "cell_type": "code",
   "execution_count": 40,
   "id": "99a39f46-949f-42c8-a81e-28731b0fc783",
   "metadata": {},
   "outputs": [],
   "source": [
    "desa_pred.columns = [\"pred\",\"true\"]"
   ]
  },
  {
   "cell_type": "code",
   "execution_count": 41,
   "id": "580d8552-7a64-41df-ac54-823feee451f6",
   "metadata": {},
   "outputs": [
    {
     "data": {
      "text/plain": [
       "1.0    159350\n",
       "0.0     18739\n",
       "Name: stat, dtype: int64"
      ]
     },
     "execution_count": 41,
     "metadata": {},
     "output_type": "execute_result"
    }
   ],
   "source": [
    "pd.value_counts(df.stat)"
   ]
  },
  {
   "cell_type": "code",
   "execution_count": 42,
   "id": "8253e8fa-9c54-4d63-87a5-e59669b9ece2",
   "metadata": {},
   "outputs": [
    {
     "name": "stderr",
     "output_type": "stream",
     "text": [
      "C:\\Users\\jwst2\\AppData\\Local\\Temp/ipykernel_23224/4109382162.py:4: SettingWithCopyWarning: \n",
      "A value is trying to be set on a copy of a slice from a DataFrame\n",
      "\n",
      "See the caveats in the documentation: https://pandas.pydata.org/pandas-docs/stable/user_guide/indexing.html#returning-a-view-versus-a-copy\n",
      "  desa_pred[\"label\"+str(value)][desa_pred.pred > value] = 1\n"
     ]
    }
   ],
   "source": [
    "for i in np.arange(0.1, 0.95, 0.05):\n",
    "    value = round(i,2)\n",
    "    desa_pred[\"label\"+str(value)] = 0\n",
    "    desa_pred[\"label\"+str(value)][desa_pred.pred > value] = 1"
   ]
  },
  {
   "cell_type": "code",
   "execution_count": 43,
   "id": "4366ffb4-4834-4bbf-a447-5469fa8cf4f9",
   "metadata": {},
   "outputs": [
    {
     "data": {
      "text/html": [
       "<div>\n",
       "<style scoped>\n",
       "    .dataframe tbody tr th:only-of-type {\n",
       "        vertical-align: middle;\n",
       "    }\n",
       "\n",
       "    .dataframe tbody tr th {\n",
       "        vertical-align: top;\n",
       "    }\n",
       "\n",
       "    .dataframe thead th {\n",
       "        text-align: right;\n",
       "    }\n",
       "</style>\n",
       "<table border=\"1\" class=\"dataframe\">\n",
       "  <thead>\n",
       "    <tr style=\"text-align: right;\">\n",
       "      <th></th>\n",
       "      <th>pred</th>\n",
       "      <th>true</th>\n",
       "      <th>label0.1</th>\n",
       "      <th>label0.15</th>\n",
       "      <th>label0.2</th>\n",
       "      <th>label0.25</th>\n",
       "      <th>label0.3</th>\n",
       "      <th>label0.35</th>\n",
       "      <th>label0.4</th>\n",
       "      <th>label0.45</th>\n",
       "      <th>label0.5</th>\n",
       "      <th>label0.55</th>\n",
       "      <th>label0.6</th>\n",
       "      <th>label0.65</th>\n",
       "      <th>label0.7</th>\n",
       "      <th>label0.75</th>\n",
       "      <th>label0.8</th>\n",
       "      <th>label0.85</th>\n",
       "      <th>label0.9</th>\n",
       "    </tr>\n",
       "    <tr>\n",
       "      <th>iddesa</th>\n",
       "      <th></th>\n",
       "      <th></th>\n",
       "      <th></th>\n",
       "      <th></th>\n",
       "      <th></th>\n",
       "      <th></th>\n",
       "      <th></th>\n",
       "      <th></th>\n",
       "      <th></th>\n",
       "      <th></th>\n",
       "      <th></th>\n",
       "      <th></th>\n",
       "      <th></th>\n",
       "      <th></th>\n",
       "      <th></th>\n",
       "      <th></th>\n",
       "      <th></th>\n",
       "      <th></th>\n",
       "      <th></th>\n",
       "    </tr>\n",
       "  </thead>\n",
       "  <tbody>\n",
       "    <tr>\n",
       "      <th>3201010001</th>\n",
       "      <td>0.175439</td>\n",
       "      <td>0.0</td>\n",
       "      <td>1</td>\n",
       "      <td>1</td>\n",
       "      <td>0</td>\n",
       "      <td>0</td>\n",
       "      <td>0</td>\n",
       "      <td>0</td>\n",
       "      <td>0</td>\n",
       "      <td>0</td>\n",
       "      <td>0</td>\n",
       "      <td>0</td>\n",
       "      <td>0</td>\n",
       "      <td>0</td>\n",
       "      <td>0</td>\n",
       "      <td>0</td>\n",
       "      <td>0</td>\n",
       "      <td>0</td>\n",
       "      <td>0</td>\n",
       "    </tr>\n",
       "    <tr>\n",
       "      <th>3201010002</th>\n",
       "      <td>0.636364</td>\n",
       "      <td>0.0</td>\n",
       "      <td>1</td>\n",
       "      <td>1</td>\n",
       "      <td>1</td>\n",
       "      <td>1</td>\n",
       "      <td>1</td>\n",
       "      <td>1</td>\n",
       "      <td>1</td>\n",
       "      <td>1</td>\n",
       "      <td>1</td>\n",
       "      <td>1</td>\n",
       "      <td>1</td>\n",
       "      <td>0</td>\n",
       "      <td>0</td>\n",
       "      <td>0</td>\n",
       "      <td>0</td>\n",
       "      <td>0</td>\n",
       "      <td>0</td>\n",
       "    </tr>\n",
       "    <tr>\n",
       "      <th>3201010003</th>\n",
       "      <td>0.575000</td>\n",
       "      <td>1.0</td>\n",
       "      <td>1</td>\n",
       "      <td>1</td>\n",
       "      <td>1</td>\n",
       "      <td>1</td>\n",
       "      <td>1</td>\n",
       "      <td>1</td>\n",
       "      <td>1</td>\n",
       "      <td>1</td>\n",
       "      <td>1</td>\n",
       "      <td>1</td>\n",
       "      <td>0</td>\n",
       "      <td>0</td>\n",
       "      <td>0</td>\n",
       "      <td>0</td>\n",
       "      <td>0</td>\n",
       "      <td>0</td>\n",
       "      <td>0</td>\n",
       "    </tr>\n",
       "    <tr>\n",
       "      <th>3201010004</th>\n",
       "      <td>0.808511</td>\n",
       "      <td>0.0</td>\n",
       "      <td>1</td>\n",
       "      <td>1</td>\n",
       "      <td>1</td>\n",
       "      <td>1</td>\n",
       "      <td>1</td>\n",
       "      <td>1</td>\n",
       "      <td>1</td>\n",
       "      <td>1</td>\n",
       "      <td>1</td>\n",
       "      <td>1</td>\n",
       "      <td>1</td>\n",
       "      <td>1</td>\n",
       "      <td>1</td>\n",
       "      <td>1</td>\n",
       "      <td>1</td>\n",
       "      <td>0</td>\n",
       "      <td>0</td>\n",
       "    </tr>\n",
       "    <tr>\n",
       "      <th>3201010005</th>\n",
       "      <td>0.758621</td>\n",
       "      <td>1.0</td>\n",
       "      <td>1</td>\n",
       "      <td>1</td>\n",
       "      <td>1</td>\n",
       "      <td>1</td>\n",
       "      <td>1</td>\n",
       "      <td>1</td>\n",
       "      <td>1</td>\n",
       "      <td>1</td>\n",
       "      <td>1</td>\n",
       "      <td>1</td>\n",
       "      <td>1</td>\n",
       "      <td>1</td>\n",
       "      <td>1</td>\n",
       "      <td>1</td>\n",
       "      <td>0</td>\n",
       "      <td>0</td>\n",
       "      <td>0</td>\n",
       "    </tr>\n",
       "  </tbody>\n",
       "</table>\n",
       "</div>"
      ],
      "text/plain": [
       "                pred  true  label0.1  label0.15  label0.2  label0.25  \\\n",
       "iddesa                                                                 \n",
       "3201010001  0.175439   0.0         1          1         0          0   \n",
       "3201010002  0.636364   0.0         1          1         1          1   \n",
       "3201010003  0.575000   1.0         1          1         1          1   \n",
       "3201010004  0.808511   0.0         1          1         1          1   \n",
       "3201010005  0.758621   1.0         1          1         1          1   \n",
       "\n",
       "            label0.3  label0.35  label0.4  label0.45  label0.5  label0.55  \\\n",
       "iddesa                                                                      \n",
       "3201010001         0          0         0          0         0          0   \n",
       "3201010002         1          1         1          1         1          1   \n",
       "3201010003         1          1         1          1         1          1   \n",
       "3201010004         1          1         1          1         1          1   \n",
       "3201010005         1          1         1          1         1          1   \n",
       "\n",
       "            label0.6  label0.65  label0.7  label0.75  label0.8  label0.85  \\\n",
       "iddesa                                                                      \n",
       "3201010001         0          0         0          0         0          0   \n",
       "3201010002         1          0         0          0         0          0   \n",
       "3201010003         0          0         0          0         0          0   \n",
       "3201010004         1          1         1          1         1          0   \n",
       "3201010005         1          1         1          1         0          0   \n",
       "\n",
       "            label0.9  \n",
       "iddesa                \n",
       "3201010001         0  \n",
       "3201010002         0  \n",
       "3201010003         0  \n",
       "3201010004         0  \n",
       "3201010005         0  "
      ]
     },
     "execution_count": 43,
     "metadata": {},
     "output_type": "execute_result"
    }
   ],
   "source": [
    "desa_pred.head()"
   ]
  },
  {
   "cell_type": "code",
   "execution_count": 47,
   "id": "855a7f51-9fd3-418e-bd21-605fe7d0a113",
   "metadata": {},
   "outputs": [
    {
     "name": "stdout",
     "output_type": "stream",
     "text": [
      "result label0.1\n",
      "accuracy : 0.7362924281984334\n",
      "precision : 0.7324744221295946\n",
      "result label0.15\n",
      "accuracy : 0.7405818724356583\n",
      "precision : 0.7364000763504486\n",
      "result label0.2\n",
      "accuracy : 0.7461767997016039\n",
      "precision : 0.741475630899634\n",
      "result label0.25\n",
      "accuracy : 0.7536367027228646\n",
      "precision : 0.7476181217188411\n",
      "result label0.3\n",
      "accuracy : 0.7586721372622156\n",
      "precision : 0.7520564042303173\n",
      "result label0.35\n",
      "accuracy : 0.7633345766505035\n",
      "precision : 0.7568689464321012\n",
      "result label0.4\n",
      "accuracy : 0.7704214845207012\n",
      "precision : 0.76375275055011\n",
      "result label0.45\n",
      "accuracy : 0.7771353972398359\n",
      "precision : 0.7710403569255729\n",
      "result label0.5\n",
      "accuracy : 0.782916822081313\n",
      "precision : 0.7788778877887789\n",
      "result label0.55\n",
      "accuracy : 0.7868332711674748\n",
      "precision : 0.7842687252242854\n",
      "result label0.6\n",
      "accuracy : 0.7924281984334204\n",
      "precision : 0.7919050646323373\n",
      "result label0.65\n",
      "accuracy : 0.7965311450951138\n",
      "precision : 0.7993101961629662\n",
      "result label0.7\n",
      "accuracy : 0.7993286087280865\n",
      "precision : 0.8066783831282952\n",
      "result label0.75\n",
      "accuracy : 0.804177545691906\n",
      "precision : 0.8189225894069715\n",
      "result label0.8\n",
      "accuracy : 0.8028720626631853\n",
      "precision : 0.8292340126493324\n",
      "result label0.85\n",
      "accuracy : 0.8000745990302126\n",
      "precision : 0.8426470588235294\n",
      "result label0.9\n",
      "accuracy : 0.7834763148079075\n",
      "precision : 0.8589233625033148\n"
     ]
    }
   ],
   "source": [
    "for j in range(2,19):\n",
    "    print(\"result\", desa_pred.columns[j])\n",
    "    print(\"accuracy :\",  accuracy_score( desa_pred.true,desa_pred.iloc[:,[j]]))\n",
    "    print(\"precision :\",  precision_score( desa_pred.true,desa_pred.iloc[:,[j]]))"
   ]
  },
  {
   "cell_type": "code",
   "execution_count": 48,
   "id": "3662a4be-9f92-4f37-9978-c0bfac190fe5",
   "metadata": {},
   "outputs": [],
   "source": [
    "from sklearn.metrics import confusion_matrix"
   ]
  },
  {
   "cell_type": "code",
   "execution_count": 49,
   "id": "13528e0d-92ad-4bd6-89b8-816048965e16",
   "metadata": {},
   "outputs": [
    {
     "data": {
      "text/plain": [
       "1.0    3868\n",
       "0.0    1494\n",
       "Name: true, dtype: int64"
      ]
     },
     "execution_count": 49,
     "metadata": {},
     "output_type": "execute_result"
    }
   ],
   "source": [
    "pd.value_counts(desa_pred.true)"
   ]
  },
  {
   "cell_type": "markdown",
   "id": "4e6bafd1-9eae-4547-ba47-30ebe21ea669",
   "metadata": {},
   "source": [
    "### Test result"
   ]
  },
  {
   "cell_type": "code",
   "execution_count": 51,
   "id": "b1c0e74b-6b00-48a1-8a42-c6d3596ab009",
   "metadata": {},
   "outputs": [],
   "source": [
    "path_pred = Path.cwd() / (\"C:/Users/jwst2/Python/tesis/jpg/UR/test sls 60m tc\")\n",
    "test_files = [fn for fn in sorted((path_pred).glob('**/*')) if fn.is_file()]"
   ]
  },
  {
   "cell_type": "code",
   "execution_count": 52,
   "id": "c5177d4a-43de-426b-81c3-89a5ad10476a",
   "metadata": {},
   "outputs": [
    {
     "data": {
      "text/plain": [
       "22052"
      ]
     },
     "execution_count": 52,
     "metadata": {},
     "output_type": "execute_result"
    }
   ],
   "source": [
    "len(test_files)"
   ]
  },
  {
   "cell_type": "code",
   "execution_count": 53,
   "id": "2dbbb132-1ed0-459d-84c1-ed8e102bfce4",
   "metadata": {},
   "outputs": [],
   "source": [
    "test_dl = learn.dls.test_dl(test_files)"
   ]
  },
  {
   "cell_type": "code",
   "execution_count": 54,
   "id": "b8399e45-82ed-43ce-93ee-341a95d9c671",
   "metadata": {},
   "outputs": [
    {
     "data": {
      "text/html": [],
      "text/plain": [
       "<IPython.core.display.HTML object>"
      ]
     },
     "metadata": {},
     "output_type": "display_data"
    }
   ],
   "source": [
    "preds,_ = learn.get_preds(dl  =test_dl)"
   ]
  },
  {
   "cell_type": "code",
   "execution_count": 55,
   "id": "36e7a605-1944-49da-8315-e7ee2fa846a5",
   "metadata": {},
   "outputs": [
    {
     "data": {
      "text/plain": [
       "'32011500010002'"
      ]
     },
     "execution_count": 55,
     "metadata": {},
     "output_type": "execute_result"
    }
   ],
   "source": [
    "str(test_files[1])[-18:-4]"
   ]
  },
  {
   "cell_type": "code",
   "execution_count": 56,
   "id": "ae98e9b7-69ae-4ad5-ac8b-a1ca764e77e1",
   "metadata": {},
   "outputs": [],
   "source": [
    "idx_test = []\n",
    "for i in test_files:\n",
    "    idx_test.append(str(i)[-18:-4])\n",
    "true_label = []\n",
    "for i in test_files:\n",
    "    if(\"urban\" in str(i)) :\n",
    "        true_label.append(1)\n",
    "    else :\n",
    "        true_label.append(0)"
   ]
  },
  {
   "cell_type": "code",
   "execution_count": 57,
   "id": "9db6caf2-7da7-4829-9dcb-ef4ae2cb02a4",
   "metadata": {},
   "outputs": [],
   "source": [
    "test = pd.DataFrame(preds)"
   ]
  },
  {
   "cell_type": "code",
   "execution_count": 58,
   "id": "e4b05cfe-563a-4f65-ab73-d359328afbac",
   "metadata": {},
   "outputs": [],
   "source": [
    "test[\"idsls\"] = idx_test\n",
    "test[\"true_lab\"] = true_label"
   ]
  },
  {
   "cell_type": "code",
   "execution_count": 59,
   "id": "e7bfa65d-944e-471a-a341-fe3f03d74bb1",
   "metadata": {},
   "outputs": [],
   "source": [
    "test[\"iddesa\"] = test.idsls.str[:10]\n",
    "test[\"stat\"] = round(test[1])"
   ]
  },
  {
   "cell_type": "code",
   "execution_count": 60,
   "id": "2d7b48c0-1b97-4a7b-9844-552152f94ea2",
   "metadata": {},
   "outputs": [
    {
     "data": {
      "text/html": [
       "<div>\n",
       "<style scoped>\n",
       "    .dataframe tbody tr th:only-of-type {\n",
       "        vertical-align: middle;\n",
       "    }\n",
       "\n",
       "    .dataframe tbody tr th {\n",
       "        vertical-align: top;\n",
       "    }\n",
       "\n",
       "    .dataframe thead th {\n",
       "        text-align: right;\n",
       "    }\n",
       "</style>\n",
       "<table border=\"1\" class=\"dataframe\">\n",
       "  <thead>\n",
       "    <tr style=\"text-align: right;\">\n",
       "      <th></th>\n",
       "      <th>0</th>\n",
       "      <th>1</th>\n",
       "      <th>idsls</th>\n",
       "      <th>true_lab</th>\n",
       "      <th>iddesa</th>\n",
       "      <th>stat</th>\n",
       "    </tr>\n",
       "  </thead>\n",
       "  <tbody>\n",
       "    <tr>\n",
       "      <th>0</th>\n",
       "      <td>0.552892</td>\n",
       "      <td>0.447108</td>\n",
       "      <td>32011500010001</td>\n",
       "      <td>0</td>\n",
       "      <td>3201150001</td>\n",
       "      <td>0.0</td>\n",
       "    </tr>\n",
       "    <tr>\n",
       "      <th>1</th>\n",
       "      <td>0.793743</td>\n",
       "      <td>0.206257</td>\n",
       "      <td>32011500010002</td>\n",
       "      <td>0</td>\n",
       "      <td>3201150001</td>\n",
       "      <td>0.0</td>\n",
       "    </tr>\n",
       "    <tr>\n",
       "      <th>2</th>\n",
       "      <td>0.639128</td>\n",
       "      <td>0.360872</td>\n",
       "      <td>32011500010003</td>\n",
       "      <td>0</td>\n",
       "      <td>3201150001</td>\n",
       "      <td>0.0</td>\n",
       "    </tr>\n",
       "    <tr>\n",
       "      <th>3</th>\n",
       "      <td>0.700481</td>\n",
       "      <td>0.299519</td>\n",
       "      <td>32011500010004</td>\n",
       "      <td>0</td>\n",
       "      <td>3201150001</td>\n",
       "      <td>0.0</td>\n",
       "    </tr>\n",
       "    <tr>\n",
       "      <th>4</th>\n",
       "      <td>0.608935</td>\n",
       "      <td>0.391065</td>\n",
       "      <td>32011500010005</td>\n",
       "      <td>0</td>\n",
       "      <td>3201150001</td>\n",
       "      <td>0.0</td>\n",
       "    </tr>\n",
       "  </tbody>\n",
       "</table>\n",
       "</div>"
      ],
      "text/plain": [
       "          0         1           idsls  true_lab      iddesa  stat\n",
       "0  0.552892  0.447108  32011500010001         0  3201150001   0.0\n",
       "1  0.793743  0.206257  32011500010002         0  3201150001   0.0\n",
       "2  0.639128  0.360872  32011500010003         0  3201150001   0.0\n",
       "3  0.700481  0.299519  32011500010004         0  3201150001   0.0\n",
       "4  0.608935  0.391065  32011500010005         0  3201150001   0.0"
      ]
     },
     "execution_count": 60,
     "metadata": {},
     "output_type": "execute_result"
    }
   ],
   "source": [
    "test.head()"
   ]
  },
  {
   "cell_type": "code",
   "execution_count": 61,
   "id": "c7a6d0dd-cdfe-4cd3-89a5-0cd6255ea55f",
   "metadata": {},
   "outputs": [],
   "source": [
    "desa_pred_test = test.groupby('iddesa').agg({'stat': ['mean'], 'true_lab': 'mean'})"
   ]
  },
  {
   "cell_type": "code",
   "execution_count": 62,
   "id": "46219c78-2263-49e6-8f5c-0ef512ffa7f5",
   "metadata": {},
   "outputs": [
    {
     "data": {
      "text/html": [
       "<div>\n",
       "<style scoped>\n",
       "    .dataframe tbody tr th:only-of-type {\n",
       "        vertical-align: middle;\n",
       "    }\n",
       "\n",
       "    .dataframe tbody tr th {\n",
       "        vertical-align: top;\n",
       "    }\n",
       "\n",
       "    .dataframe thead tr th {\n",
       "        text-align: left;\n",
       "    }\n",
       "\n",
       "    .dataframe thead tr:last-of-type th {\n",
       "        text-align: right;\n",
       "    }\n",
       "</style>\n",
       "<table border=\"1\" class=\"dataframe\">\n",
       "  <thead>\n",
       "    <tr>\n",
       "      <th></th>\n",
       "      <th>stat</th>\n",
       "      <th>true_lab</th>\n",
       "    </tr>\n",
       "    <tr>\n",
       "      <th></th>\n",
       "      <th>mean</th>\n",
       "      <th>mean</th>\n",
       "    </tr>\n",
       "    <tr>\n",
       "      <th>iddesa</th>\n",
       "      <th></th>\n",
       "      <th></th>\n",
       "    </tr>\n",
       "  </thead>\n",
       "  <tbody>\n",
       "    <tr>\n",
       "      <th>3201010010</th>\n",
       "      <td>0.914286</td>\n",
       "      <td>1.0</td>\n",
       "    </tr>\n",
       "    <tr>\n",
       "      <th>3201040001</th>\n",
       "      <td>1.000000</td>\n",
       "      <td>1.0</td>\n",
       "    </tr>\n",
       "    <tr>\n",
       "      <th>3201040005</th>\n",
       "      <td>1.000000</td>\n",
       "      <td>1.0</td>\n",
       "    </tr>\n",
       "    <tr>\n",
       "      <th>3201050012</th>\n",
       "      <td>1.000000</td>\n",
       "      <td>1.0</td>\n",
       "    </tr>\n",
       "    <tr>\n",
       "      <th>3201050013</th>\n",
       "      <td>1.000000</td>\n",
       "      <td>1.0</td>\n",
       "    </tr>\n",
       "    <tr>\n",
       "      <th>...</th>\n",
       "      <td>...</td>\n",
       "      <td>...</td>\n",
       "    </tr>\n",
       "    <tr>\n",
       "      <th>3278050003</th>\n",
       "      <td>1.000000</td>\n",
       "      <td>1.0</td>\n",
       "    </tr>\n",
       "    <tr>\n",
       "      <th>3278071005</th>\n",
       "      <td>1.000000</td>\n",
       "      <td>1.0</td>\n",
       "    </tr>\n",
       "    <tr>\n",
       "      <th>3278080002</th>\n",
       "      <td>1.000000</td>\n",
       "      <td>1.0</td>\n",
       "    </tr>\n",
       "    <tr>\n",
       "      <th>3279010006</th>\n",
       "      <td>1.000000</td>\n",
       "      <td>1.0</td>\n",
       "    </tr>\n",
       "    <tr>\n",
       "      <th>3279030005</th>\n",
       "      <td>0.973333</td>\n",
       "      <td>1.0</td>\n",
       "    </tr>\n",
       "  </tbody>\n",
       "</table>\n",
       "<p>595 rows × 2 columns</p>\n",
       "</div>"
      ],
      "text/plain": [
       "                stat true_lab\n",
       "                mean     mean\n",
       "iddesa                       \n",
       "3201010010  0.914286      1.0\n",
       "3201040001  1.000000      1.0\n",
       "3201040005  1.000000      1.0\n",
       "3201050012  1.000000      1.0\n",
       "3201050013  1.000000      1.0\n",
       "...              ...      ...\n",
       "3278050003  1.000000      1.0\n",
       "3278071005  1.000000      1.0\n",
       "3278080002  1.000000      1.0\n",
       "3279010006  1.000000      1.0\n",
       "3279030005  0.973333      1.0\n",
       "\n",
       "[595 rows x 2 columns]"
      ]
     },
     "execution_count": 62,
     "metadata": {},
     "output_type": "execute_result"
    }
   ],
   "source": [
    "desa_pred_test"
   ]
  },
  {
   "cell_type": "code",
   "execution_count": 63,
   "id": "3c181fbb-e76b-485b-b209-63e58f29ff4d",
   "metadata": {},
   "outputs": [],
   "source": [
    "desa_pred_test.columns = [\"pred\",\"true\"]"
   ]
  },
  {
   "cell_type": "code",
   "execution_count": 73,
   "id": "6489d636-897a-426d-9842-547b4a8c2ff7",
   "metadata": {},
   "outputs": [
    {
     "name": "stderr",
     "output_type": "stream",
     "text": [
      "C:\\Users\\jwst2\\AppData\\Local\\Temp/ipykernel_23224/2136042812.py:2: SettingWithCopyWarning: \n",
      "A value is trying to be set on a copy of a slice from a DataFrame\n",
      "\n",
      "See the caveats in the documentation: https://pandas.pydata.org/pandas-docs/stable/user_guide/indexing.html#returning-a-view-versus-a-copy\n",
      "  desa_pred_test[\"pred_lab\"][desa_pred_test.pred > 0.85] = 1\n"
     ]
    }
   ],
   "source": [
    "desa_pred_test[\"pred_lab\"] = 0\n",
    "desa_pred_test[\"pred_lab\"][desa_pred_test.pred > 0.85] = 1"
   ]
  },
  {
   "cell_type": "code",
   "execution_count": 74,
   "id": "a1e663c1-2e37-4bd5-ad9b-9c1b9acd77e7",
   "metadata": {},
   "outputs": [
    {
     "data": {
      "text/html": [
       "<div>\n",
       "<style scoped>\n",
       "    .dataframe tbody tr th:only-of-type {\n",
       "        vertical-align: middle;\n",
       "    }\n",
       "\n",
       "    .dataframe tbody tr th {\n",
       "        vertical-align: top;\n",
       "    }\n",
       "\n",
       "    .dataframe thead th {\n",
       "        text-align: right;\n",
       "    }\n",
       "</style>\n",
       "<table border=\"1\" class=\"dataframe\">\n",
       "  <thead>\n",
       "    <tr style=\"text-align: right;\">\n",
       "      <th></th>\n",
       "      <th>pred</th>\n",
       "      <th>true</th>\n",
       "      <th>pred_lab</th>\n",
       "    </tr>\n",
       "    <tr>\n",
       "      <th>iddesa</th>\n",
       "      <th></th>\n",
       "      <th></th>\n",
       "      <th></th>\n",
       "    </tr>\n",
       "  </thead>\n",
       "  <tbody>\n",
       "    <tr>\n",
       "      <th>3201010010</th>\n",
       "      <td>0.914286</td>\n",
       "      <td>1.0</td>\n",
       "      <td>1</td>\n",
       "    </tr>\n",
       "    <tr>\n",
       "      <th>3201040001</th>\n",
       "      <td>1.000000</td>\n",
       "      <td>1.0</td>\n",
       "      <td>1</td>\n",
       "    </tr>\n",
       "    <tr>\n",
       "      <th>3201040005</th>\n",
       "      <td>1.000000</td>\n",
       "      <td>1.0</td>\n",
       "      <td>1</td>\n",
       "    </tr>\n",
       "    <tr>\n",
       "      <th>3201050012</th>\n",
       "      <td>1.000000</td>\n",
       "      <td>1.0</td>\n",
       "      <td>1</td>\n",
       "    </tr>\n",
       "    <tr>\n",
       "      <th>3201050013</th>\n",
       "      <td>1.000000</td>\n",
       "      <td>1.0</td>\n",
       "      <td>1</td>\n",
       "    </tr>\n",
       "    <tr>\n",
       "      <th>...</th>\n",
       "      <td>...</td>\n",
       "      <td>...</td>\n",
       "      <td>...</td>\n",
       "    </tr>\n",
       "    <tr>\n",
       "      <th>3278050003</th>\n",
       "      <td>1.000000</td>\n",
       "      <td>1.0</td>\n",
       "      <td>1</td>\n",
       "    </tr>\n",
       "    <tr>\n",
       "      <th>3278071005</th>\n",
       "      <td>1.000000</td>\n",
       "      <td>1.0</td>\n",
       "      <td>1</td>\n",
       "    </tr>\n",
       "    <tr>\n",
       "      <th>3278080002</th>\n",
       "      <td>1.000000</td>\n",
       "      <td>1.0</td>\n",
       "      <td>1</td>\n",
       "    </tr>\n",
       "    <tr>\n",
       "      <th>3279010006</th>\n",
       "      <td>1.000000</td>\n",
       "      <td>1.0</td>\n",
       "      <td>1</td>\n",
       "    </tr>\n",
       "    <tr>\n",
       "      <th>3279030005</th>\n",
       "      <td>0.973333</td>\n",
       "      <td>1.0</td>\n",
       "      <td>1</td>\n",
       "    </tr>\n",
       "  </tbody>\n",
       "</table>\n",
       "<p>595 rows × 3 columns</p>\n",
       "</div>"
      ],
      "text/plain": [
       "                pred  true  pred_lab\n",
       "iddesa                              \n",
       "3201010010  0.914286   1.0         1\n",
       "3201040001  1.000000   1.0         1\n",
       "3201040005  1.000000   1.0         1\n",
       "3201050012  1.000000   1.0         1\n",
       "3201050013  1.000000   1.0         1\n",
       "...              ...   ...       ...\n",
       "3278050003  1.000000   1.0         1\n",
       "3278071005  1.000000   1.0         1\n",
       "3278080002  1.000000   1.0         1\n",
       "3279010006  1.000000   1.0         1\n",
       "3279030005  0.973333   1.0         1\n",
       "\n",
       "[595 rows x 3 columns]"
      ]
     },
     "execution_count": 74,
     "metadata": {},
     "output_type": "execute_result"
    }
   ],
   "source": [
    "desa_pred_test"
   ]
  },
  {
   "cell_type": "code",
   "execution_count": 75,
   "id": "da7378d4-58be-48fa-af75-8fe5cef6551a",
   "metadata": {},
   "outputs": [
    {
     "name": "stdout",
     "output_type": "stream",
     "text": [
      "accuracy : 0.8134453781512605\n",
      "balanced_accuracy_score : 0.7400468384074941\n",
      "precision : 0.8434782608695652\n",
      "recall : 0.9086651053864169\n",
      "f1 : 0.874859075535513\n",
      "rocauc : 0.7400468384074942\n"
     ]
    }
   ],
   "source": [
    "print(\"accuracy :\",  accuracy_score( desa_pred_test.true,desa_pred_test.pred_lab))\n",
    "print(\"balanced_accuracy_score :\",  balanced_accuracy_score( desa_pred_test.true,desa_pred_test.pred_lab))\n",
    "print(\"precision :\",  precision_score( desa_pred_test.true,desa_pred_test.pred_lab))\n",
    "print(\"recall :\",  recall_score( desa_pred_test.true,desa_pred_test.pred_lab))\n",
    "print(\"f1 :\",  f1_score( desa_pred_test.true,desa_pred_test.pred_lab))\n",
    "print(\"rocauc :\",  roc_auc_score( desa_pred_test.true,desa_pred_test.pred_lab))"
   ]
  },
  {
   "cell_type": "markdown",
   "id": "1460b95b-2b50-40e2-91c3-421e84c3672d",
   "metadata": {},
   "source": [
    "### Resnet"
   ]
  },
  {
   "cell_type": "code",
   "execution_count": 76,
   "id": "c431ce4b-372b-4616-9af3-6b8be80b5ea5",
   "metadata": {},
   "outputs": [],
   "source": [
    "learn_rs = cnn_learner(dls, resnet50, metrics=metrics) "
   ]
  },
  {
   "cell_type": "code",
   "execution_count": 77,
   "id": "aa731b65-f85d-4333-b745-53ea73c96462",
   "metadata": {},
   "outputs": [
    {
     "data": {
      "text/html": [
       "<table border=\"1\" class=\"dataframe\">\n",
       "  <thead>\n",
       "    <tr style=\"text-align: left;\">\n",
       "      <th>epoch</th>\n",
       "      <th>train_loss</th>\n",
       "      <th>valid_loss</th>\n",
       "      <th>accuracy</th>\n",
       "      <th>balanced_accuracy_score</th>\n",
       "      <th>precision_score</th>\n",
       "      <th>recall_score</th>\n",
       "      <th>f1_score</th>\n",
       "      <th>roc_auc_score</th>\n",
       "      <th>time</th>\n",
       "    </tr>\n",
       "  </thead>\n",
       "  <tbody>\n",
       "    <tr>\n",
       "      <td>0</td>\n",
       "      <td>0.399786</td>\n",
       "      <td>0.384987</td>\n",
       "      <td>0.821297</td>\n",
       "      <td>0.663250</td>\n",
       "      <td>0.739043</td>\n",
       "      <td>0.663250</td>\n",
       "      <td>0.686055</td>\n",
       "      <td>0.835403</td>\n",
       "      <td>07:28</td>\n",
       "    </tr>\n",
       "    <tr>\n",
       "      <td>1</td>\n",
       "      <td>0.386032</td>\n",
       "      <td>0.381475</td>\n",
       "      <td>0.821297</td>\n",
       "      <td>0.683869</td>\n",
       "      <td>0.734192</td>\n",
       "      <td>0.683869</td>\n",
       "      <td>0.702206</td>\n",
       "      <td>0.843700</td>\n",
       "      <td>07:27</td>\n",
       "    </tr>\n",
       "    <tr>\n",
       "      <td>2</td>\n",
       "      <td>0.380726</td>\n",
       "      <td>0.375571</td>\n",
       "      <td>0.823167</td>\n",
       "      <td>0.649821</td>\n",
       "      <td>0.750665</td>\n",
       "      <td>0.649821</td>\n",
       "      <td>0.675009</td>\n",
       "      <td>0.845309</td>\n",
       "      <td>07:25</td>\n",
       "    </tr>\n",
       "  </tbody>\n",
       "</table>"
      ],
      "text/plain": [
       "<IPython.core.display.HTML object>"
      ]
     },
     "metadata": {},
     "output_type": "display_data"
    }
   ],
   "source": [
    "learn_rs.fit_one_cycle(3)"
   ]
  },
  {
   "cell_type": "code",
   "execution_count": 72,
   "id": "07e6c62e-4191-4644-b67d-93f4f906f577",
   "metadata": {},
   "outputs": [],
   "source": [
    "learn_rs.unfreeze()"
   ]
  },
  {
   "cell_type": "code",
   "execution_count": 78,
   "id": "84155c12-95b7-4883-8e0a-f1d54a4797c9",
   "metadata": {},
   "outputs": [
    {
     "data": {
      "text/html": [
       "<table border=\"1\" class=\"dataframe\">\n",
       "  <thead>\n",
       "    <tr style=\"text-align: left;\">\n",
       "      <th>epoch</th>\n",
       "      <th>train_loss</th>\n",
       "      <th>valid_loss</th>\n",
       "      <th>accuracy</th>\n",
       "      <th>balanced_accuracy_score</th>\n",
       "      <th>precision_score</th>\n",
       "      <th>recall_score</th>\n",
       "      <th>f1_score</th>\n",
       "      <th>roc_auc_score</th>\n",
       "      <th>time</th>\n",
       "    </tr>\n",
       "  </thead>\n",
       "  <tbody>\n",
       "    <tr>\n",
       "      <td>0</td>\n",
       "      <td>0.384131</td>\n",
       "      <td>0.377704</td>\n",
       "      <td>0.821095</td>\n",
       "      <td>0.666689</td>\n",
       "      <td>0.737454</td>\n",
       "      <td>0.666689</td>\n",
       "      <td>0.688808</td>\n",
       "      <td>0.843452</td>\n",
       "      <td>07:22</td>\n",
       "    </tr>\n",
       "    <tr>\n",
       "      <td>1</td>\n",
       "      <td>0.380759</td>\n",
       "      <td>0.373602</td>\n",
       "      <td>0.822712</td>\n",
       "      <td>0.654144</td>\n",
       "      <td>0.746856</td>\n",
       "      <td>0.654144</td>\n",
       "      <td>0.678786</td>\n",
       "      <td>0.847411</td>\n",
       "      <td>07:16</td>\n",
       "    </tr>\n",
       "  </tbody>\n",
       "</table>"
      ],
      "text/plain": [
       "<IPython.core.display.HTML object>"
      ]
     },
     "metadata": {},
     "output_type": "display_data"
    }
   ],
   "source": [
    "learn_rs.fit_one_cycle(2)"
   ]
  },
  {
   "cell_type": "code",
   "execution_count": 79,
   "id": "d8e90b49-d365-4716-b7db-bf37c1c3cad4",
   "metadata": {},
   "outputs": [],
   "source": [
    "learn_rs.export('C:/Users/jwst2/Python/tesis/models/19042022 R004.pkl')"
   ]
  },
  {
   "cell_type": "code",
   "execution_count": 80,
   "id": "d078c146-cdf1-4e15-9779-0c5a348dae3a",
   "metadata": {},
   "outputs": [],
   "source": [
    "idx_train = []\n",
    "for i in dls.train.items:\n",
    "    idx_train.append(str(i)[-18:-4])\n",
    "true_label = []\n",
    "for i in dls.train.items:\n",
    "    if(\"urban\" in str(i)) :\n",
    "        true_label.append(1)\n",
    "    else :\n",
    "        true_label.append(0)"
   ]
  },
  {
   "cell_type": "code",
   "execution_count": 81,
   "id": "3e28cb4e-d7e3-4a81-bcc5-619fb44db83a",
   "metadata": {},
   "outputs": [
    {
     "data": {
      "text/html": [],
      "text/plain": [
       "<IPython.core.display.HTML object>"
      ]
     },
     "metadata": {},
     "output_type": "display_data"
    }
   ],
   "source": [
    "preds,_ = learn_rs.get_preds(ds_idx  = 0)\n",
    "result_train = preds.numpy()\n",
    "new_train = pd.DataFrame(result_train)"
   ]
  },
  {
   "cell_type": "code",
   "execution_count": 82,
   "id": "20f99e2d-a6eb-413d-8382-d652365497b3",
   "metadata": {},
   "outputs": [
    {
     "data": {
      "text/html": [
       "<div>\n",
       "<style scoped>\n",
       "    .dataframe tbody tr th:only-of-type {\n",
       "        vertical-align: middle;\n",
       "    }\n",
       "\n",
       "    .dataframe tbody tr th {\n",
       "        vertical-align: top;\n",
       "    }\n",
       "\n",
       "    .dataframe thead th {\n",
       "        text-align: right;\n",
       "    }\n",
       "</style>\n",
       "<table border=\"1\" class=\"dataframe\">\n",
       "  <thead>\n",
       "    <tr style=\"text-align: right;\">\n",
       "      <th></th>\n",
       "      <th>0</th>\n",
       "      <th>1</th>\n",
       "      <th>idsls</th>\n",
       "      <th>stat</th>\n",
       "      <th>iddesa</th>\n",
       "    </tr>\n",
       "  </thead>\n",
       "  <tbody>\n",
       "    <tr>\n",
       "      <th>0</th>\n",
       "      <td>0.488102</td>\n",
       "      <td>0.511898</td>\n",
       "      <td>32053100190023</td>\n",
       "      <td>1.0</td>\n",
       "      <td>3205310019</td>\n",
       "    </tr>\n",
       "    <tr>\n",
       "      <th>1</th>\n",
       "      <td>0.459063</td>\n",
       "      <td>0.540937</td>\n",
       "      <td>32061110010013</td>\n",
       "      <td>1.0</td>\n",
       "      <td>3206111001</td>\n",
       "    </tr>\n",
       "    <tr>\n",
       "      <th>2</th>\n",
       "      <td>0.008010</td>\n",
       "      <td>0.991990</td>\n",
       "      <td>32091300140021</td>\n",
       "      <td>1.0</td>\n",
       "      <td>3209130014</td>\n",
       "    </tr>\n",
       "    <tr>\n",
       "      <th>3</th>\n",
       "      <td>0.248663</td>\n",
       "      <td>0.751337</td>\n",
       "      <td>32091610060002</td>\n",
       "      <td>1.0</td>\n",
       "      <td>3209161006</td>\n",
       "    </tr>\n",
       "    <tr>\n",
       "      <th>4</th>\n",
       "      <td>0.149500</td>\n",
       "      <td>0.850500</td>\n",
       "      <td>32062610040007</td>\n",
       "      <td>1.0</td>\n",
       "      <td>3206261004</td>\n",
       "    </tr>\n",
       "  </tbody>\n",
       "</table>\n",
       "</div>"
      ],
      "text/plain": [
       "          0         1           idsls  stat      iddesa\n",
       "0  0.488102  0.511898  32053100190023   1.0  3205310019\n",
       "1  0.459063  0.540937  32061110010013   1.0  3206111001\n",
       "2  0.008010  0.991990  32091300140021   1.0  3209130014\n",
       "3  0.248663  0.751337  32091610060002   1.0  3209161006\n",
       "4  0.149500  0.850500  32062610040007   1.0  3206261004"
      ]
     },
     "execution_count": 82,
     "metadata": {},
     "output_type": "execute_result"
    }
   ],
   "source": [
    "df = new_train\n",
    "df[\"idsls\"] = idx_train \n",
    "df[\"stat\"] = round(df[1])\n",
    "df[\"iddesa\"] = df.idsls.str[:10]\n",
    "df.head()"
   ]
  },
  {
   "cell_type": "code",
   "execution_count": 83,
   "id": "38f2cd45-f1f2-45e2-813f-7922c5cbd351",
   "metadata": {},
   "outputs": [
    {
     "data": {
      "text/plain": [
       "1.0    157395\n",
       "0.0     20694\n",
       "Name: stat, dtype: int64"
      ]
     },
     "execution_count": 83,
     "metadata": {},
     "output_type": "execute_result"
    }
   ],
   "source": [
    "pd.value_counts(df.stat)"
   ]
  },
  {
   "cell_type": "code",
   "execution_count": 84,
   "id": "7c92d325-7b01-4f17-a177-ee6d728fe42a",
   "metadata": {},
   "outputs": [],
   "source": [
    "df[\"true_lab\"] = true_label"
   ]
  },
  {
   "cell_type": "code",
   "execution_count": 85,
   "id": "b0b32911-f8d2-48ef-99a3-5a97520bfd33",
   "metadata": {},
   "outputs": [
    {
     "data": {
      "text/plain": [
       "1    140261\n",
       "0     37828\n",
       "Name: true_lab, dtype: int64"
      ]
     },
     "execution_count": 85,
     "metadata": {},
     "output_type": "execute_result"
    }
   ],
   "source": [
    "pd.value_counts(df.true_lab)"
   ]
  },
  {
   "cell_type": "code",
   "execution_count": 86,
   "id": "5c7ff018-7f0a-4466-8bb6-1d75325f2f9d",
   "metadata": {},
   "outputs": [
    {
     "data": {
      "text/plain": [
       "0.826648473516051"
      ]
     },
     "execution_count": 86,
     "metadata": {},
     "output_type": "execute_result"
    }
   ],
   "source": [
    "accuracy_score(df.stat.apply(int),df.true_lab.apply(int))"
   ]
  },
  {
   "cell_type": "code",
   "execution_count": 87,
   "id": "3dca71a1-630b-460c-8931-7dfbd34a11a7",
   "metadata": {},
   "outputs": [
    {
     "data": {
      "text/html": [
       "<div>\n",
       "<style scoped>\n",
       "    .dataframe tbody tr th:only-of-type {\n",
       "        vertical-align: middle;\n",
       "    }\n",
       "\n",
       "    .dataframe tbody tr th {\n",
       "        vertical-align: top;\n",
       "    }\n",
       "\n",
       "    .dataframe thead th {\n",
       "        text-align: right;\n",
       "    }\n",
       "</style>\n",
       "<table border=\"1\" class=\"dataframe\">\n",
       "  <thead>\n",
       "    <tr style=\"text-align: right;\">\n",
       "      <th></th>\n",
       "      <th>0</th>\n",
       "      <th>1</th>\n",
       "      <th>idsls</th>\n",
       "      <th>stat</th>\n",
       "      <th>iddesa</th>\n",
       "      <th>true_lab</th>\n",
       "    </tr>\n",
       "  </thead>\n",
       "  <tbody>\n",
       "    <tr>\n",
       "      <th>0</th>\n",
       "      <td>0.488102</td>\n",
       "      <td>0.511898</td>\n",
       "      <td>32053100190023</td>\n",
       "      <td>1.0</td>\n",
       "      <td>3205310019</td>\n",
       "      <td>0</td>\n",
       "    </tr>\n",
       "    <tr>\n",
       "      <th>1</th>\n",
       "      <td>0.459063</td>\n",
       "      <td>0.540937</td>\n",
       "      <td>32061110010013</td>\n",
       "      <td>1.0</td>\n",
       "      <td>3206111001</td>\n",
       "      <td>0</td>\n",
       "    </tr>\n",
       "    <tr>\n",
       "      <th>2</th>\n",
       "      <td>0.008010</td>\n",
       "      <td>0.991990</td>\n",
       "      <td>32091300140021</td>\n",
       "      <td>1.0</td>\n",
       "      <td>3209130014</td>\n",
       "      <td>1</td>\n",
       "    </tr>\n",
       "    <tr>\n",
       "      <th>3</th>\n",
       "      <td>0.248663</td>\n",
       "      <td>0.751337</td>\n",
       "      <td>32091610060002</td>\n",
       "      <td>1.0</td>\n",
       "      <td>3209161006</td>\n",
       "      <td>1</td>\n",
       "    </tr>\n",
       "    <tr>\n",
       "      <th>4</th>\n",
       "      <td>0.149500</td>\n",
       "      <td>0.850500</td>\n",
       "      <td>32062610040007</td>\n",
       "      <td>1.0</td>\n",
       "      <td>3206261004</td>\n",
       "      <td>0</td>\n",
       "    </tr>\n",
       "  </tbody>\n",
       "</table>\n",
       "</div>"
      ],
      "text/plain": [
       "          0         1           idsls  stat      iddesa  true_lab\n",
       "0  0.488102  0.511898  32053100190023   1.0  3205310019         0\n",
       "1  0.459063  0.540937  32061110010013   1.0  3206111001         0\n",
       "2  0.008010  0.991990  32091300140021   1.0  3209130014         1\n",
       "3  0.248663  0.751337  32091610060002   1.0  3209161006         1\n",
       "4  0.149500  0.850500  32062610040007   1.0  3206261004         0"
      ]
     },
     "execution_count": 87,
     "metadata": {},
     "output_type": "execute_result"
    }
   ],
   "source": [
    "df.head()"
   ]
  },
  {
   "cell_type": "code",
   "execution_count": 88,
   "id": "affbca92-8050-4123-a970-3a73af7c58d8",
   "metadata": {},
   "outputs": [],
   "source": [
    "desa_pred = df.groupby('iddesa').agg({'stat': ['mean'], 'true_lab': 'mean'})"
   ]
  },
  {
   "cell_type": "code",
   "execution_count": 89,
   "id": "350113ec-71bb-4833-9265-97f623769ad3",
   "metadata": {},
   "outputs": [],
   "source": [
    "desa_pred.columns = [\"pred\",\"true\"]"
   ]
  },
  {
   "cell_type": "code",
   "execution_count": 90,
   "id": "8f961ce6-462c-4329-aab7-b4e85855c565",
   "metadata": {},
   "outputs": [
    {
     "data": {
      "text/plain": [
       "1.0    157395\n",
       "0.0     20694\n",
       "Name: stat, dtype: int64"
      ]
     },
     "execution_count": 90,
     "metadata": {},
     "output_type": "execute_result"
    }
   ],
   "source": [
    "pd.value_counts(df.stat)"
   ]
  },
  {
   "cell_type": "code",
   "execution_count": 91,
   "id": "a7b68879-13b3-415e-b696-01c93222128f",
   "metadata": {},
   "outputs": [
    {
     "name": "stderr",
     "output_type": "stream",
     "text": [
      "C:\\Users\\jwst2\\AppData\\Local\\Temp/ipykernel_23224/935834860.py:4: SettingWithCopyWarning: \n",
      "A value is trying to be set on a copy of a slice from a DataFrame\n",
      "\n",
      "See the caveats in the documentation: https://pandas.pydata.org/pandas-docs/stable/user_guide/indexing.html#returning-a-view-versus-a-copy\n",
      "  desa_pred[\"label\"+str(value)][desa_pred.pred > value] = 1\n"
     ]
    }
   ],
   "source": [
    "for i in np.arange(0.1, 0.95, 0.025):\n",
    "    value = round(i,2)\n",
    "    desa_pred[\"label\"+str(value)] = 0\n",
    "    desa_pred[\"label\"+str(value)][desa_pred.pred > value] = 1"
   ]
  },
  {
   "cell_type": "code",
   "execution_count": 92,
   "id": "9f38fc2d-b2e4-4d21-ab21-96aa6da2ff5a",
   "metadata": {},
   "outputs": [
    {
     "data": {
      "text/html": [
       "<div>\n",
       "<style scoped>\n",
       "    .dataframe tbody tr th:only-of-type {\n",
       "        vertical-align: middle;\n",
       "    }\n",
       "\n",
       "    .dataframe tbody tr th {\n",
       "        vertical-align: top;\n",
       "    }\n",
       "\n",
       "    .dataframe thead th {\n",
       "        text-align: right;\n",
       "    }\n",
       "</style>\n",
       "<table border=\"1\" class=\"dataframe\">\n",
       "  <thead>\n",
       "    <tr style=\"text-align: right;\">\n",
       "      <th></th>\n",
       "      <th>pred</th>\n",
       "      <th>true</th>\n",
       "      <th>label0.1</th>\n",
       "      <th>label0.12</th>\n",
       "      <th>label0.15</th>\n",
       "      <th>label0.18</th>\n",
       "      <th>label0.2</th>\n",
       "      <th>label0.22</th>\n",
       "      <th>label0.25</th>\n",
       "      <th>label0.27</th>\n",
       "      <th>...</th>\n",
       "      <th>label0.7</th>\n",
       "      <th>label0.72</th>\n",
       "      <th>label0.75</th>\n",
       "      <th>label0.77</th>\n",
       "      <th>label0.8</th>\n",
       "      <th>label0.82</th>\n",
       "      <th>label0.85</th>\n",
       "      <th>label0.87</th>\n",
       "      <th>label0.9</th>\n",
       "      <th>label0.92</th>\n",
       "    </tr>\n",
       "    <tr>\n",
       "      <th>iddesa</th>\n",
       "      <th></th>\n",
       "      <th></th>\n",
       "      <th></th>\n",
       "      <th></th>\n",
       "      <th></th>\n",
       "      <th></th>\n",
       "      <th></th>\n",
       "      <th></th>\n",
       "      <th></th>\n",
       "      <th></th>\n",
       "      <th></th>\n",
       "      <th></th>\n",
       "      <th></th>\n",
       "      <th></th>\n",
       "      <th></th>\n",
       "      <th></th>\n",
       "      <th></th>\n",
       "      <th></th>\n",
       "      <th></th>\n",
       "      <th></th>\n",
       "      <th></th>\n",
       "    </tr>\n",
       "  </thead>\n",
       "  <tbody>\n",
       "    <tr>\n",
       "      <th>3201010001</th>\n",
       "      <td>0.105263</td>\n",
       "      <td>0.0</td>\n",
       "      <td>1</td>\n",
       "      <td>0</td>\n",
       "      <td>0</td>\n",
       "      <td>0</td>\n",
       "      <td>0</td>\n",
       "      <td>0</td>\n",
       "      <td>0</td>\n",
       "      <td>0</td>\n",
       "      <td>...</td>\n",
       "      <td>0</td>\n",
       "      <td>0</td>\n",
       "      <td>0</td>\n",
       "      <td>0</td>\n",
       "      <td>0</td>\n",
       "      <td>0</td>\n",
       "      <td>0</td>\n",
       "      <td>0</td>\n",
       "      <td>0</td>\n",
       "      <td>0</td>\n",
       "    </tr>\n",
       "    <tr>\n",
       "      <th>3201010002</th>\n",
       "      <td>0.568182</td>\n",
       "      <td>0.0</td>\n",
       "      <td>1</td>\n",
       "      <td>1</td>\n",
       "      <td>1</td>\n",
       "      <td>1</td>\n",
       "      <td>1</td>\n",
       "      <td>1</td>\n",
       "      <td>1</td>\n",
       "      <td>1</td>\n",
       "      <td>...</td>\n",
       "      <td>0</td>\n",
       "      <td>0</td>\n",
       "      <td>0</td>\n",
       "      <td>0</td>\n",
       "      <td>0</td>\n",
       "      <td>0</td>\n",
       "      <td>0</td>\n",
       "      <td>0</td>\n",
       "      <td>0</td>\n",
       "      <td>0</td>\n",
       "    </tr>\n",
       "    <tr>\n",
       "      <th>3201010003</th>\n",
       "      <td>0.625000</td>\n",
       "      <td>1.0</td>\n",
       "      <td>1</td>\n",
       "      <td>1</td>\n",
       "      <td>1</td>\n",
       "      <td>1</td>\n",
       "      <td>1</td>\n",
       "      <td>1</td>\n",
       "      <td>1</td>\n",
       "      <td>1</td>\n",
       "      <td>...</td>\n",
       "      <td>0</td>\n",
       "      <td>0</td>\n",
       "      <td>0</td>\n",
       "      <td>0</td>\n",
       "      <td>0</td>\n",
       "      <td>0</td>\n",
       "      <td>0</td>\n",
       "      <td>0</td>\n",
       "      <td>0</td>\n",
       "      <td>0</td>\n",
       "    </tr>\n",
       "    <tr>\n",
       "      <th>3201010004</th>\n",
       "      <td>0.787234</td>\n",
       "      <td>0.0</td>\n",
       "      <td>1</td>\n",
       "      <td>1</td>\n",
       "      <td>1</td>\n",
       "      <td>1</td>\n",
       "      <td>1</td>\n",
       "      <td>1</td>\n",
       "      <td>1</td>\n",
       "      <td>1</td>\n",
       "      <td>...</td>\n",
       "      <td>1</td>\n",
       "      <td>1</td>\n",
       "      <td>1</td>\n",
       "      <td>1</td>\n",
       "      <td>0</td>\n",
       "      <td>0</td>\n",
       "      <td>0</td>\n",
       "      <td>0</td>\n",
       "      <td>0</td>\n",
       "      <td>0</td>\n",
       "    </tr>\n",
       "    <tr>\n",
       "      <th>3201010005</th>\n",
       "      <td>0.724138</td>\n",
       "      <td>1.0</td>\n",
       "      <td>1</td>\n",
       "      <td>1</td>\n",
       "      <td>1</td>\n",
       "      <td>1</td>\n",
       "      <td>1</td>\n",
       "      <td>1</td>\n",
       "      <td>1</td>\n",
       "      <td>1</td>\n",
       "      <td>...</td>\n",
       "      <td>1</td>\n",
       "      <td>1</td>\n",
       "      <td>0</td>\n",
       "      <td>0</td>\n",
       "      <td>0</td>\n",
       "      <td>0</td>\n",
       "      <td>0</td>\n",
       "      <td>0</td>\n",
       "      <td>0</td>\n",
       "      <td>0</td>\n",
       "    </tr>\n",
       "  </tbody>\n",
       "</table>\n",
       "<p>5 rows × 36 columns</p>\n",
       "</div>"
      ],
      "text/plain": [
       "                pred  true  label0.1  label0.12  label0.15  label0.18  \\\n",
       "iddesa                                                                  \n",
       "3201010001  0.105263   0.0         1          0          0          0   \n",
       "3201010002  0.568182   0.0         1          1          1          1   \n",
       "3201010003  0.625000   1.0         1          1          1          1   \n",
       "3201010004  0.787234   0.0         1          1          1          1   \n",
       "3201010005  0.724138   1.0         1          1          1          1   \n",
       "\n",
       "            label0.2  label0.22  label0.25  label0.27  ...  label0.7  \\\n",
       "iddesa                                                 ...             \n",
       "3201010001         0          0          0          0  ...         0   \n",
       "3201010002         1          1          1          1  ...         0   \n",
       "3201010003         1          1          1          1  ...         0   \n",
       "3201010004         1          1          1          1  ...         1   \n",
       "3201010005         1          1          1          1  ...         1   \n",
       "\n",
       "            label0.72  label0.75  label0.77  label0.8  label0.82  label0.85  \\\n",
       "iddesa                                                                        \n",
       "3201010001          0          0          0         0          0          0   \n",
       "3201010002          0          0          0         0          0          0   \n",
       "3201010003          0          0          0         0          0          0   \n",
       "3201010004          1          1          1         0          0          0   \n",
       "3201010005          1          0          0         0          0          0   \n",
       "\n",
       "            label0.87  label0.9  label0.92  \n",
       "iddesa                                      \n",
       "3201010001          0         0          0  \n",
       "3201010002          0         0          0  \n",
       "3201010003          0         0          0  \n",
       "3201010004          0         0          0  \n",
       "3201010005          0         0          0  \n",
       "\n",
       "[5 rows x 36 columns]"
      ]
     },
     "execution_count": 92,
     "metadata": {},
     "output_type": "execute_result"
    }
   ],
   "source": [
    "desa_pred.head()"
   ]
  },
  {
   "cell_type": "code",
   "execution_count": 93,
   "id": "0af817bc-2bed-425f-98ee-224f2ae8990a",
   "metadata": {},
   "outputs": [
    {
     "name": "stdout",
     "output_type": "stream",
     "text": [
      "result label0.1\n",
      "accuracy : 0.7381574039537486\n",
      "precision : 0.734131508931965\n",
      "result label0.12\n",
      "accuracy : 0.7407683700111899\n",
      "precision : 0.7360899390243902\n",
      "result label0.15\n",
      "accuracy : 0.7459903021260723\n",
      "precision : 0.7403145377828922\n",
      "result label0.18\n",
      "accuracy : 0.7495337560611712\n",
      "precision : 0.7433969539232698\n",
      "result label0.2\n",
      "accuracy : 0.7499067512122343\n",
      "precision : 0.7444379957438576\n",
      "result label0.22\n",
      "accuracy : 0.7515852293920179\n",
      "precision : 0.7458317177200465\n",
      "result label0.25\n",
      "accuracy : 0.7566206639313688\n",
      "precision : 0.7501463985945734\n",
      "result label0.27\n",
      "accuracy : 0.7588586348377471\n",
      "precision : 0.7525004902922141\n",
      "result label0.3\n",
      "accuracy : 0.7631480790749721\n",
      "precision : 0.7565165876777251\n",
      "result label0.32\n",
      "accuracy : 0.7651995524058187\n",
      "precision : 0.7584703784426392\n",
      "result label0.35\n",
      "accuracy : 0.7691160014919806\n",
      "precision : 0.7623703112529928\n",
      "result label0.37\n",
      "accuracy : 0.7719134651249534\n",
      "precision : 0.7654023680513746\n",
      "result label0.4\n",
      "accuracy : 0.7784408802685565\n",
      "precision : 0.771255060728745\n",
      "result label0.42\n",
      "accuracy : 0.7812383439015292\n",
      "precision : 0.7741607324516785\n",
      "result label0.45\n",
      "accuracy : 0.7851547929876912\n",
      "precision : 0.7787356321839081\n",
      "result label0.47\n",
      "accuracy : 0.7877657590451325\n",
      "precision : 0.781559405940594\n",
      "result label0.5\n",
      "accuracy : 0.7924281984334204\n",
      "precision : 0.7877585126383957\n",
      "result label0.52\n",
      "accuracy : 0.7935471838866095\n",
      "precision : 0.789109947643979\n",
      "result label0.55\n",
      "accuracy : 0.7967176426706453\n",
      "precision : 0.7944044086477321\n",
      "result label0.57\n",
      "accuracy : 0.798396120850429\n",
      "precision : 0.7969316002557\n",
      "result label0.6\n",
      "accuracy : 0.8017530772099962\n",
      "precision : 0.8019375672766416\n",
      "result label0.62\n",
      "accuracy : 0.8051100335695636\n",
      "precision : 0.8054533650724951\n",
      "result label0.65\n",
      "accuracy : 0.8086534875046625\n",
      "precision : 0.8124450307827616\n",
      "result label0.67\n",
      "accuracy : 0.8110779559865722\n",
      "precision : 0.8174338447854125\n",
      "result label0.7\n",
      "accuracy : 0.8118239462886983\n",
      "precision : 0.8220319891867538\n",
      "result label0.72\n",
      "accuracy : 0.8131294293174188\n",
      "precision : 0.8258299226921327\n",
      "result label0.75\n",
      "accuracy : 0.8148079074972026\n",
      "precision : 0.833604084474356\n",
      "result label0.77\n",
      "accuracy : 0.8161133905259231\n",
      "precision : 0.8377871542428504\n",
      "result label0.8\n",
      "accuracy : 0.8153674002237971\n",
      "precision : 0.8482575024201355\n",
      "result label0.82\n",
      "accuracy : 0.8127564341663558\n",
      "precision : 0.8511525257479157\n",
      "result label0.85\n",
      "accuracy : 0.80958597538232\n",
      "precision : 0.8597422289613343\n",
      "result label0.87\n",
      "accuracy : 0.8052965311450951\n",
      "precision : 0.8671346853874154\n",
      "result label0.9\n",
      "accuracy : 0.7942931741887356\n",
      "precision : 0.8780421110199618\n",
      "result label0.92\n",
      "accuracy : 0.7797463632972771\n",
      "precision : 0.8866187050359712\n"
     ]
    }
   ],
   "source": [
    "for j in range(2,36):\n",
    "    print(\"result\", desa_pred.columns[j])\n",
    "    print(\"accuracy :\",  accuracy_score( desa_pred.true,desa_pred.iloc[:,[j]]))\n",
    "    print(\"precision :\",  precision_score( desa_pred.true,desa_pred.iloc[:,[j]]))"
   ]
  },
  {
   "cell_type": "markdown",
   "id": "decbfbdb-edf1-4d79-8a94-f2218736d743",
   "metadata": {},
   "source": [
    "### Test result resnet"
   ]
  },
  {
   "cell_type": "code",
   "execution_count": 94,
   "id": "8e08d29c-1d52-4827-a1d6-9ba55896590a",
   "metadata": {},
   "outputs": [],
   "source": [
    "path_pred = Path.cwd() / (\"C:/Users/jwst2/Python/tesis/jpg/UR/test sls 60m tc\")\n",
    "test_files = [fn for fn in sorted((path_pred).glob('**/*')) if fn.is_file()]"
   ]
  },
  {
   "cell_type": "code",
   "execution_count": 95,
   "id": "5d281420-8e44-4148-af77-1c018ccafce2",
   "metadata": {},
   "outputs": [],
   "source": [
    "test_dl = learn_rs.dls.test_dl(test_files)"
   ]
  },
  {
   "cell_type": "code",
   "execution_count": 96,
   "id": "ea4b07bd-530b-411f-a222-35f52c469ab8",
   "metadata": {},
   "outputs": [
    {
     "data": {
      "text/html": [],
      "text/plain": [
       "<IPython.core.display.HTML object>"
      ]
     },
     "metadata": {},
     "output_type": "display_data"
    }
   ],
   "source": [
    "preds,_ = learn_rs.get_preds(dl  =test_dl)"
   ]
  },
  {
   "cell_type": "code",
   "execution_count": 97,
   "id": "48789ee4-87ce-4b23-8687-8fa9bfa84ece",
   "metadata": {},
   "outputs": [],
   "source": [
    "idx_test = []\n",
    "for i in test_files:\n",
    "    idx_test.append(str(i)[-18:-4])\n",
    "true_label = []\n",
    "for i in test_files:\n",
    "    if(\"urban\" in str(i)) :\n",
    "        true_label.append(1)\n",
    "    else :\n",
    "        true_label.append(0)"
   ]
  },
  {
   "cell_type": "code",
   "execution_count": 98,
   "id": "add6308d-363b-4c70-a4cd-bdb803434f86",
   "metadata": {},
   "outputs": [],
   "source": [
    "test = pd.DataFrame(preds)"
   ]
  },
  {
   "cell_type": "code",
   "execution_count": 99,
   "id": "489d3638-b296-40d1-bb6f-21f38de589b4",
   "metadata": {},
   "outputs": [],
   "source": [
    "test[\"idsls\"] = idx_test\n",
    "test[\"true_lab\"] = true_label"
   ]
  },
  {
   "cell_type": "code",
   "execution_count": 100,
   "id": "9083ff1b-efa9-4d55-840e-77c133f2df6c",
   "metadata": {},
   "outputs": [],
   "source": [
    "test[\"iddesa\"] = test.idsls.str[:10]\n",
    "test[\"stat\"] = round(test[1])"
   ]
  },
  {
   "cell_type": "code",
   "execution_count": 101,
   "id": "93121c3f-71f8-485f-a447-0d0867b08e3b",
   "metadata": {},
   "outputs": [
    {
     "data": {
      "text/html": [
       "<div>\n",
       "<style scoped>\n",
       "    .dataframe tbody tr th:only-of-type {\n",
       "        vertical-align: middle;\n",
       "    }\n",
       "\n",
       "    .dataframe tbody tr th {\n",
       "        vertical-align: top;\n",
       "    }\n",
       "\n",
       "    .dataframe thead th {\n",
       "        text-align: right;\n",
       "    }\n",
       "</style>\n",
       "<table border=\"1\" class=\"dataframe\">\n",
       "  <thead>\n",
       "    <tr style=\"text-align: right;\">\n",
       "      <th></th>\n",
       "      <th>0</th>\n",
       "      <th>1</th>\n",
       "      <th>idsls</th>\n",
       "      <th>true_lab</th>\n",
       "      <th>iddesa</th>\n",
       "      <th>stat</th>\n",
       "    </tr>\n",
       "  </thead>\n",
       "  <tbody>\n",
       "    <tr>\n",
       "      <th>0</th>\n",
       "      <td>0.663286</td>\n",
       "      <td>0.336714</td>\n",
       "      <td>32011500010001</td>\n",
       "      <td>0</td>\n",
       "      <td>3201150001</td>\n",
       "      <td>0.0</td>\n",
       "    </tr>\n",
       "    <tr>\n",
       "      <th>1</th>\n",
       "      <td>0.755952</td>\n",
       "      <td>0.244048</td>\n",
       "      <td>32011500010002</td>\n",
       "      <td>0</td>\n",
       "      <td>3201150001</td>\n",
       "      <td>0.0</td>\n",
       "    </tr>\n",
       "    <tr>\n",
       "      <th>2</th>\n",
       "      <td>0.450781</td>\n",
       "      <td>0.549219</td>\n",
       "      <td>32011500010003</td>\n",
       "      <td>0</td>\n",
       "      <td>3201150001</td>\n",
       "      <td>1.0</td>\n",
       "    </tr>\n",
       "    <tr>\n",
       "      <th>3</th>\n",
       "      <td>0.632627</td>\n",
       "      <td>0.367373</td>\n",
       "      <td>32011500010004</td>\n",
       "      <td>0</td>\n",
       "      <td>3201150001</td>\n",
       "      <td>0.0</td>\n",
       "    </tr>\n",
       "    <tr>\n",
       "      <th>4</th>\n",
       "      <td>0.487844</td>\n",
       "      <td>0.512156</td>\n",
       "      <td>32011500010005</td>\n",
       "      <td>0</td>\n",
       "      <td>3201150001</td>\n",
       "      <td>1.0</td>\n",
       "    </tr>\n",
       "  </tbody>\n",
       "</table>\n",
       "</div>"
      ],
      "text/plain": [
       "          0         1           idsls  true_lab      iddesa  stat\n",
       "0  0.663286  0.336714  32011500010001         0  3201150001   0.0\n",
       "1  0.755952  0.244048  32011500010002         0  3201150001   0.0\n",
       "2  0.450781  0.549219  32011500010003         0  3201150001   1.0\n",
       "3  0.632627  0.367373  32011500010004         0  3201150001   0.0\n",
       "4  0.487844  0.512156  32011500010005         0  3201150001   1.0"
      ]
     },
     "execution_count": 101,
     "metadata": {},
     "output_type": "execute_result"
    }
   ],
   "source": [
    "test.head()"
   ]
  },
  {
   "cell_type": "code",
   "execution_count": 102,
   "id": "9d920fa3-0512-46b5-a646-e770b47fbadf",
   "metadata": {},
   "outputs": [],
   "source": [
    "desa_pred_test = test.groupby('iddesa').agg({'stat': ['mean'], 'true_lab': 'mean'})"
   ]
  },
  {
   "cell_type": "code",
   "execution_count": 103,
   "id": "09a74a67-13e4-4214-847d-bb8140d04f92",
   "metadata": {},
   "outputs": [],
   "source": [
    "desa_pred_test.columns = [\"pred\",\"true\"]"
   ]
  },
  {
   "cell_type": "code",
   "execution_count": 120,
   "id": "1c262931-209a-423a-9a95-f03963d89841",
   "metadata": {},
   "outputs": [
    {
     "name": "stderr",
     "output_type": "stream",
     "text": [
      "C:\\Users\\jwst2\\AppData\\Local\\Temp/ipykernel_23224/3417576388.py:2: SettingWithCopyWarning: \n",
      "A value is trying to be set on a copy of a slice from a DataFrame\n",
      "\n",
      "See the caveats in the documentation: https://pandas.pydata.org/pandas-docs/stable/user_guide/indexing.html#returning-a-view-versus-a-copy\n",
      "  desa_pred_test[\"pred_lab\"][desa_pred_test.pred > 0.8] = 1\n"
     ]
    }
   ],
   "source": [
    "desa_pred_test[\"pred_lab\"] = 0\n",
    "desa_pred_test[\"pred_lab\"][desa_pred_test.pred > 0.8] = 1"
   ]
  },
  {
   "cell_type": "code",
   "execution_count": 121,
   "id": "3fd55f55-62c5-493a-af20-32c852e32203",
   "metadata": {},
   "outputs": [
    {
     "name": "stdout",
     "output_type": "stream",
     "text": [
      "accuracy : 0.8218487394957983\n",
      "balanced_accuracy_score : 0.7477068696330991\n",
      "precision : 0.8466522678185745\n",
      "recall : 0.9180327868852459\n",
      "f1 : 0.8808988764044944\n",
      "rocauc : 0.7477068696330991\n"
     ]
    }
   ],
   "source": [
    "print(\"accuracy :\",  accuracy_score( desa_pred_test.true,desa_pred_test.pred_lab))\n",
    "print(\"balanced_accuracy_score :\",  balanced_accuracy_score( desa_pred_test.true,desa_pred_test.pred_lab))\n",
    "print(\"precision :\",  precision_score( desa_pred_test.true,desa_pred_test.pred_lab))\n",
    "print(\"recall :\",  recall_score( desa_pred_test.true,desa_pred_test.pred_lab))\n",
    "print(\"f1 :\",  f1_score( desa_pred_test.true,desa_pred_test.pred_lab))\n",
    "print(\"rocauc :\",  roc_auc_score( desa_pred_test.true,desa_pred_test.pred_lab))"
   ]
  },
  {
   "cell_type": "code",
   "execution_count": 156,
   "id": "2ec906e7-3916-481b-84c2-2a1b1cfb48aa",
   "metadata": {},
   "outputs": [],
   "source": [
    "accuracy : 0.8117647058823529\n",
    "balanced_accuracy_score : 0.7623438719750195\n",
    "precision : 0.8637413394919169\n",
    "recall : 0.8758782201405152\n",
    "f1 : 0.8697674418604651\n",
    "rocauc : 0.7623438719750195"
   ]
  },
  {
   "cell_type": "code",
   "execution_count": null,
   "id": "b5786b09-4165-4afd-895f-d16c48f3d4ec",
   "metadata": {},
   "outputs": [],
   "source": []
  }
 ],
 "metadata": {
  "kernelspec": {
   "display_name": "Python 3 (ipykernel)",
   "language": "python",
   "name": "python3"
  },
  "language_info": {
   "codemirror_mode": {
    "name": "ipython",
    "version": 3
   },
   "file_extension": ".py",
   "mimetype": "text/x-python",
   "name": "python",
   "nbconvert_exporter": "python",
   "pygments_lexer": "ipython3",
   "version": "3.9.7"
  }
 },
 "nbformat": 4,
 "nbformat_minor": 5
}
