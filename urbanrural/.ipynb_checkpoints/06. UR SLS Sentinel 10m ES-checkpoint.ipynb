{
 "cells": [
  {
   "cell_type": "code",
   "execution_count": 1,
   "id": "6b5301ad-0967-4fa2-b602-24fae3844253",
   "metadata": {},
   "outputs": [],
   "source": [
    "import fastai\n",
    "from fastai.vision.all import *\n",
    "import pandas as pd"
   ]
  },
  {
   "cell_type": "code",
   "execution_count": 2,
   "id": "4c6126f5-6665-4423-99f7-6845baa5e650",
   "metadata": {},
   "outputs": [],
   "source": [
    "from sklearn.metrics import accuracy_score, precision_score, recall_score, f1_score,roc_auc_score,balanced_accuracy_score\n",
    "import numpy as np"
   ]
  },
  {
   "cell_type": "code",
   "execution_count": 3,
   "id": "6a8c1fce-8553-43f4-b944-bc7741fdd266",
   "metadata": {},
   "outputs": [
    {
     "name": "stderr",
     "output_type": "stream",
     "text": [
      "C:\\Users\\jwst2\\anaconda3\\envs\\datasc\\lib\\site-packages\\IPython\\core\\interactiveshell.py:3444: DtypeWarning: Columns (19,20,21) have mixed types.Specify dtype option on import or set low_memory=False.\n",
      "  exec(code_obj, self.user_global_ns, self.user_ns)\n"
     ]
    }
   ],
   "source": [
    "sls = pd.read_csv(\"C:/Users/jwst2/Python/tesis/dataset/3200_sls.csv\")"
   ]
  },
  {
   "cell_type": "code",
   "execution_count": 4,
   "id": "c0978002-6bf2-40fe-9d24-89fb3e7482f4",
   "metadata": {},
   "outputs": [
    {
     "data": {
      "text/html": [
       "<div>\n",
       "<style scoped>\n",
       "    .dataframe tbody tr th:only-of-type {\n",
       "        vertical-align: middle;\n",
       "    }\n",
       "\n",
       "    .dataframe tbody tr th {\n",
       "        vertical-align: top;\n",
       "    }\n",
       "\n",
       "    .dataframe thead th {\n",
       "        text-align: right;\n",
       "    }\n",
       "</style>\n",
       "<table border=\"1\" class=\"dataframe\">\n",
       "  <thead>\n",
       "    <tr style=\"text-align: right;\">\n",
       "      <th></th>\n",
       "      <th>id</th>\n",
       "      <th>kdprov</th>\n",
       "      <th>kdkab</th>\n",
       "      <th>kdkec</th>\n",
       "      <th>kddesa</th>\n",
       "      <th>iddesa</th>\n",
       "      <th>idslsnon</th>\n",
       "      <th>nmslsnon</th>\n",
       "      <th>ketua_sls</th>\n",
       "      <th>jenis</th>\n",
       "      <th>...</th>\n",
       "      <th>j_bstt</th>\n",
       "      <th>j_bsbtt</th>\n",
       "      <th>j_bstt_k</th>\n",
       "      <th>j_bskeko</th>\n",
       "      <th>j_segmen</th>\n",
       "      <th>dom</th>\n",
       "      <th>ldom</th>\n",
       "      <th>j_m_all</th>\n",
       "      <th>j_m_30</th>\n",
       "      <th>klas_ur</th>\n",
       "    </tr>\n",
       "  </thead>\n",
       "  <tbody>\n",
       "    <tr>\n",
       "      <th>0</th>\n",
       "      <td>263884</td>\n",
       "      <td>32</td>\n",
       "      <td>1</td>\n",
       "      <td>10</td>\n",
       "      <td>1</td>\n",
       "      <td>3201010001</td>\n",
       "      <td>100</td>\n",
       "      <td>RT 001 RW 001 DUSUN 1</td>\n",
       "      <td>MUHAMAD RAFLI HIDAYAT</td>\n",
       "      <td>1</td>\n",
       "      <td>...</td>\n",
       "      <td>39</td>\n",
       "      <td>1</td>\n",
       "      <td>2</td>\n",
       "      <td>4</td>\n",
       "      <td>1</td>\n",
       "      <td>1</td>\n",
       "      <td>1</td>\n",
       "      <td>51</td>\n",
       "      <td>51</td>\n",
       "      <td>2</td>\n",
       "    </tr>\n",
       "    <tr>\n",
       "      <th>1</th>\n",
       "      <td>263885</td>\n",
       "      <td>32</td>\n",
       "      <td>1</td>\n",
       "      <td>10</td>\n",
       "      <td>1</td>\n",
       "      <td>3201010001</td>\n",
       "      <td>200</td>\n",
       "      <td>RT 002 RW 001 DUSUN 1</td>\n",
       "      <td>NURMAN</td>\n",
       "      <td>1</td>\n",
       "      <td>...</td>\n",
       "      <td>60</td>\n",
       "      <td>2</td>\n",
       "      <td>0</td>\n",
       "      <td>7</td>\n",
       "      <td>1</td>\n",
       "      <td>1</td>\n",
       "      <td>1</td>\n",
       "      <td>62</td>\n",
       "      <td>61</td>\n",
       "      <td>2</td>\n",
       "    </tr>\n",
       "    <tr>\n",
       "      <th>2</th>\n",
       "      <td>263886</td>\n",
       "      <td>32</td>\n",
       "      <td>1</td>\n",
       "      <td>10</td>\n",
       "      <td>1</td>\n",
       "      <td>3201010001</td>\n",
       "      <td>300</td>\n",
       "      <td>RT 003 RW 001 DUSUN 1</td>\n",
       "      <td>SAENUDIN</td>\n",
       "      <td>1</td>\n",
       "      <td>...</td>\n",
       "      <td>50</td>\n",
       "      <td>2</td>\n",
       "      <td>0</td>\n",
       "      <td>6</td>\n",
       "      <td>1</td>\n",
       "      <td>1</td>\n",
       "      <td>1</td>\n",
       "      <td>58</td>\n",
       "      <td>57</td>\n",
       "      <td>2</td>\n",
       "    </tr>\n",
       "    <tr>\n",
       "      <th>3</th>\n",
       "      <td>263887</td>\n",
       "      <td>32</td>\n",
       "      <td>1</td>\n",
       "      <td>10</td>\n",
       "      <td>1</td>\n",
       "      <td>3201010001</td>\n",
       "      <td>400</td>\n",
       "      <td>RT 004 RW 001 DUSUN 1</td>\n",
       "      <td>AEP</td>\n",
       "      <td>1</td>\n",
       "      <td>...</td>\n",
       "      <td>27</td>\n",
       "      <td>1</td>\n",
       "      <td>0</td>\n",
       "      <td>1</td>\n",
       "      <td>1</td>\n",
       "      <td>1</td>\n",
       "      <td>1</td>\n",
       "      <td>31</td>\n",
       "      <td>31</td>\n",
       "      <td>2</td>\n",
       "    </tr>\n",
       "    <tr>\n",
       "      <th>4</th>\n",
       "      <td>263888</td>\n",
       "      <td>32</td>\n",
       "      <td>1</td>\n",
       "      <td>10</td>\n",
       "      <td>1</td>\n",
       "      <td>3201010001</td>\n",
       "      <td>500</td>\n",
       "      <td>RT 005 RW 001 DUSUN 1</td>\n",
       "      <td>JEJEN JAELANI</td>\n",
       "      <td>1</td>\n",
       "      <td>...</td>\n",
       "      <td>49</td>\n",
       "      <td>7</td>\n",
       "      <td>3</td>\n",
       "      <td>8</td>\n",
       "      <td>3</td>\n",
       "      <td>1</td>\n",
       "      <td>1</td>\n",
       "      <td>63</td>\n",
       "      <td>57</td>\n",
       "      <td>2</td>\n",
       "    </tr>\n",
       "  </tbody>\n",
       "</table>\n",
       "<p>5 rows × 36 columns</p>\n",
       "</div>"
      ],
      "text/plain": [
       "       id  kdprov  kdkab  kdkec  kddesa      iddesa  idslsnon  \\\n",
       "0  263884      32      1     10       1  3201010001       100   \n",
       "1  263885      32      1     10       1  3201010001       200   \n",
       "2  263886      32      1     10       1  3201010001       300   \n",
       "3  263887      32      1     10       1  3201010001       400   \n",
       "4  263888      32      1     10       1  3201010001       500   \n",
       "\n",
       "                nmslsnon              ketua_sls  jenis  ...  j_bstt  j_bsbtt  \\\n",
       "0  RT 001 RW 001 DUSUN 1  MUHAMAD RAFLI HIDAYAT      1  ...      39        1   \n",
       "1  RT 002 RW 001 DUSUN 1                 NURMAN      1  ...      60        2   \n",
       "2  RT 003 RW 001 DUSUN 1               SAENUDIN      1  ...      50        2   \n",
       "3  RT 004 RW 001 DUSUN 1                    AEP      1  ...      27        1   \n",
       "4  RT 005 RW 001 DUSUN 1          JEJEN JAELANI      1  ...      49        7   \n",
       "\n",
       "   j_bstt_k  j_bskeko  j_segmen  dom  ldom  j_m_all j_m_30 klas_ur  \n",
       "0         2         4         1    1     1       51     51       2  \n",
       "1         0         7         1    1     1       62     61       2  \n",
       "2         0         6         1    1     1       58     57       2  \n",
       "3         0         1         1    1     1       31     31       2  \n",
       "4         3         8         3    1     1       63     57       2  \n",
       "\n",
       "[5 rows x 36 columns]"
      ]
     },
     "execution_count": 4,
     "metadata": {},
     "output_type": "execute_result"
    }
   ],
   "source": [
    "sls.head()"
   ]
  },
  {
   "cell_type": "code",
   "execution_count": 5,
   "id": "240cf8ef-95ee-4410-9819-9b4e21492fca",
   "metadata": {},
   "outputs": [
    {
     "data": {
      "text/plain": [
       "(5957,)"
      ]
     },
     "execution_count": 5,
     "metadata": {},
     "output_type": "execute_result"
    }
   ],
   "source": [
    "sls.iddesa.unique().shape"
   ]
  },
  {
   "cell_type": "code",
   "execution_count": 8,
   "id": "a0541718-1257-40ba-aa83-5839cd13a996",
   "metadata": {},
   "outputs": [],
   "source": [
    "os.chdir('C:/Users/jwst2/Python/tesis/jpg/urbanrural/11. Sentinel 10M SLS ES')\n",
    "if os.path.isdir('urban') is False:\n",
    "    os.makedirs('urban')\n",
    "    os.makedirs('rural')"
   ]
  },
  {
   "cell_type": "code",
   "execution_count": 9,
   "id": "f3e6e565-6104-4b37-b6ad-9cb89eb373b9",
   "metadata": {},
   "outputs": [
    {
     "name": "stderr",
     "output_type": "stream",
     "text": [
      "0it [00:00, ?it/s]"
     ]
    },
    {
     "name": "stdout",
     "output_type": "stream",
     "text": [
      "32070000002000.jpg\n",
      "32080000002001.jpg\n",
      "32080100006001.jpg\n",
      "32170000006001.jpg\n"
     ]
    },
    {
     "name": "stderr",
     "output_type": "stream",
     "text": [
      "1it [07:24, 444.66s/it]\n"
     ]
    }
   ],
   "source": [
    "yourpath = \"C:/Users/jwst2/Python/tesis/jpg/general sls sentinel 10m ES/\"\n",
    "from tqdm import tqdm\n",
    "for root, dirs, files in tqdm(os.walk(yourpath, topdown=False)):\n",
    "    for name in files:\n",
    "        try :\n",
    "            if(sls.klas_ur[sls.iddesa == int(name.replace(\".jpg\",\"\")[:10])].iloc[0] == 1):\n",
    "                shutil.copy(os.path.join(root, name), \"C:/Users/jwst2/Python/tesis/jpg/urbanrural/11. Sentinel 10M SLS ES/urban/\"+name)\n",
    "            elif(sls.klas_ur[sls.iddesa == int(name.replace(\".jpg\",\"\")[:10])].iloc[0] == 2):\n",
    "                shutil.copy(os.path.join(root, name), \"C:/Users/jwst2/Python/tesis/jpg/urbanrural/11. Sentinel 10M SLS ES/rural/\"+name)\n",
    "        except Exception:\n",
    "            print(name)\n",
    "            pass "
   ]
  },
  {
   "cell_type": "code",
   "execution_count": 10,
   "id": "6648166b-b5f9-4fbb-aa9a-a1f15bdbcbb9",
   "metadata": {},
   "outputs": [],
   "source": [
    "split = pd.read_csv(\"C:/Users/jwst2/Python/tesis/dataset/datasplit_ur_desa.csv\")"
   ]
  },
  {
   "cell_type": "code",
   "execution_count": 11,
   "id": "5ca94f42-5c7c-463f-8e55-0f55e402c91e",
   "metadata": {},
   "outputs": [],
   "source": [
    "split_test =split"
   ]
  },
  {
   "cell_type": "code",
   "execution_count": 12,
   "id": "b6c07aea-b6ac-4c82-96dd-9e40b324ef4d",
   "metadata": {},
   "outputs": [
    {
     "data": {
      "text/html": [
       "<div>\n",
       "<style scoped>\n",
       "    .dataframe tbody tr th:only-of-type {\n",
       "        vertical-align: middle;\n",
       "    }\n",
       "\n",
       "    .dataframe tbody tr th {\n",
       "        vertical-align: top;\n",
       "    }\n",
       "\n",
       "    .dataframe thead th {\n",
       "        text-align: right;\n",
       "    }\n",
       "</style>\n",
       "<table border=\"1\" class=\"dataframe\">\n",
       "  <thead>\n",
       "    <tr style=\"text-align: right;\">\n",
       "      <th></th>\n",
       "      <th>Unnamed: 0</th>\n",
       "      <th>iddesa</th>\n",
       "    </tr>\n",
       "  </thead>\n",
       "  <tbody>\n",
       "    <tr>\n",
       "      <th>0</th>\n",
       "      <td>0</td>\n",
       "      <td>3207250012</td>\n",
       "    </tr>\n",
       "    <tr>\n",
       "      <th>1</th>\n",
       "      <td>1</td>\n",
       "      <td>3273111002</td>\n",
       "    </tr>\n",
       "    <tr>\n",
       "      <th>2</th>\n",
       "      <td>2</td>\n",
       "      <td>3205260016</td>\n",
       "    </tr>\n",
       "    <tr>\n",
       "      <th>3</th>\n",
       "      <td>3</td>\n",
       "      <td>3212030010</td>\n",
       "    </tr>\n",
       "    <tr>\n",
       "      <th>4</th>\n",
       "      <td>4</td>\n",
       "      <td>3208181004</td>\n",
       "    </tr>\n",
       "    <tr>\n",
       "      <th>...</th>\n",
       "      <td>...</td>\n",
       "      <td>...</td>\n",
       "    </tr>\n",
       "    <tr>\n",
       "      <th>590</th>\n",
       "      <td>590</td>\n",
       "      <td>3210070009</td>\n",
       "    </tr>\n",
       "    <tr>\n",
       "      <th>591</th>\n",
       "      <td>591</td>\n",
       "      <td>3209040007</td>\n",
       "    </tr>\n",
       "    <tr>\n",
       "      <th>592</th>\n",
       "      <td>592</td>\n",
       "      <td>3203051007</td>\n",
       "    </tr>\n",
       "    <tr>\n",
       "      <th>593</th>\n",
       "      <td>593</td>\n",
       "      <td>3208030017</td>\n",
       "    </tr>\n",
       "    <tr>\n",
       "      <th>594</th>\n",
       "      <td>594</td>\n",
       "      <td>3209181004</td>\n",
       "    </tr>\n",
       "  </tbody>\n",
       "</table>\n",
       "<p>595 rows × 2 columns</p>\n",
       "</div>"
      ],
      "text/plain": [
       "     Unnamed: 0      iddesa\n",
       "0             0  3207250012\n",
       "1             1  3273111002\n",
       "2             2  3205260016\n",
       "3             3  3212030010\n",
       "4             4  3208181004\n",
       "..          ...         ...\n",
       "590         590  3210070009\n",
       "591         591  3209040007\n",
       "592         592  3203051007\n",
       "593         593  3208030017\n",
       "594         594  3209181004\n",
       "\n",
       "[595 rows x 2 columns]"
      ]
     },
     "execution_count": 12,
     "metadata": {},
     "output_type": "execute_result"
    }
   ],
   "source": [
    "split_test"
   ]
  },
  {
   "cell_type": "markdown",
   "id": "0e6d5e33-4b9c-47c6-8044-397ec50d998a",
   "metadata": {},
   "source": [
    "os.chdir('C:/Users/jwst2/Python/tesis/jpg/urbanrural/11. Sentinel 10M SLS ES')\n",
    "if os.path.isdir('urban') is False:\n",
    "    os.makedirs('urban')\n",
    "    os.makedirs('rural')### Create test"
   ]
  },
  {
   "cell_type": "code",
   "execution_count": 13,
   "id": "18e3a137-dd9a-411b-9309-4893c0bb24e3",
   "metadata": {},
   "outputs": [],
   "source": [
    "os.chdir('C:/Users/jwst2/Python/tesis/jpg/urbanrural/test sls 10m ES')\n",
    "if os.path.isdir('urban') is False:\n",
    "    os.makedirs('urban')\n",
    "    os.makedirs('rural')"
   ]
  },
  {
   "cell_type": "code",
   "execution_count": 14,
   "id": "3b7a980f-6276-4c83-8475-dc8b814f5d0d",
   "metadata": {},
   "outputs": [
    {
     "name": "stderr",
     "output_type": "stream",
     "text": [
      "1it [00:36, 36.95s/it]\n"
     ]
    }
   ],
   "source": [
    "yourpath = \"C:/Users/jwst2/Python/tesis/jpg/urbanrural/11. Sentinel 10M SLS ES/rural\"\n",
    "from tqdm import tqdm\n",
    "for root, dirs, files in tqdm(os.walk(yourpath, topdown=False)):\n",
    "    for name in files:\n",
    "        try :\n",
    "            if(split_test.iddesa.astype(str).str.contains(name[:10]).sum() > 0):\n",
    "                shutil.move(os.path.join(root, name), \"C:/Users/jwst2/Python/tesis/jpg/urbanrural/test sls 10m ES/rural/\"+name)\n",
    "        except Exception:\n",
    "            print(name)\n",
    "            pass "
   ]
  },
  {
   "cell_type": "code",
   "execution_count": 15,
   "id": "13950442-0335-4377-b819-747b94eff3e3",
   "metadata": {},
   "outputs": [
    {
     "name": "stderr",
     "output_type": "stream",
     "text": [
      "1it [02:04, 124.75s/it]\n"
     ]
    }
   ],
   "source": [
    "yourpath = \"C:/Users/jwst2/Python/tesis/jpg/urbanrural/11. Sentinel 10M SLS ES/urban\"\n",
    "from tqdm import tqdm\n",
    "for root, dirs, files in tqdm(os.walk(yourpath, topdown=False)):\n",
    "    for name in files:\n",
    "        try :\n",
    "            if(split_test.iddesa.astype(str).str.contains(name[:10]).sum() > 0):\n",
    "                shutil.move(os.path.join(root, name), \"C:/Users/jwst2/Python/tesis/jpg/urbanrural/test sls 10m ES/urban/\"+name)\n",
    "        except Exception:\n",
    "            print(name)\n",
    "            pass "
   ]
  },
  {
   "cell_type": "markdown",
   "id": "c4db6ad9-230f-4fb1-8802-d4d94084ab93",
   "metadata": {},
   "source": [
    "### Run Dataset"
   ]
  },
  {
   "cell_type": "code",
   "execution_count": 4,
   "id": "90fde506-4689-4fdd-a6ac-cd33a14d1fa7",
   "metadata": {},
   "outputs": [],
   "source": [
    "path = Path.cwd() / (\"C:/Users/jwst2/Python/tesis/jpg/urbanrural/11. Sentinel 10M SLS ES/\")"
   ]
  },
  {
   "cell_type": "code",
   "execution_count": 5,
   "id": "884088a1-f278-49ed-ba7a-84a8788ac906",
   "metadata": {},
   "outputs": [
    {
     "data": {
      "text/plain": [
       "(#2) [Path('rural'),Path('urban')]"
      ]
     },
     "execution_count": 5,
     "metadata": {},
     "output_type": "execute_result"
    }
   ],
   "source": [
    "Path.BASE_PATH = path\n",
    "path.ls()"
   ]
  },
  {
   "cell_type": "code",
   "execution_count": 6,
   "id": "bd185d8d-e0c7-4234-a389-964c9b58dd8b",
   "metadata": {},
   "outputs": [
    {
     "data": {
      "text/plain": [
       "Path('rural/32010100010001.jpg')"
      ]
     },
     "execution_count": 6,
     "metadata": {},
     "output_type": "execute_result"
    }
   ],
   "source": [
    "fname = (path/\"rural\").ls()[0]\n",
    "fname"
   ]
  },
  {
   "cell_type": "code",
   "execution_count": 7,
   "id": "52aafdf5-784f-43e5-82dc-98f1542f98ed",
   "metadata": {},
   "outputs": [
    {
     "data": {
      "image/png": "[encoded data removed]",
      "text/plain": [
       "<PIL.JpegImagePlugin.JpegImageFile image mode=RGB size=64x64 at 0x2154FF333A0>"
      ]
     },
     "execution_count": 7,
     "metadata": {},
     "output_type": "execute_result"
    }
   ],
   "source": [
    "img = Image.open(fname)\n",
    "img"
   ]
  },
  {
   "cell_type": "code",
   "execution_count": 8,
   "id": "a528169c-6462-4eee-98cb-af609455d447",
   "metadata": {},
   "outputs": [],
   "source": [
    "blocks = DataBlock(blocks = (ImageBlock, CategoryBlock),\n",
    "                 get_items=get_image_files, # finds the images in the path\n",
    "                 splitter=RandomSplitter(valid_pct=0.1, seed=42),  # default random split 80% training, 20% validation\n",
    "                 get_y=parent_label) # data augmentation (mult multiplies the default transformation values)"
   ]
  },
  {
   "cell_type": "code",
   "execution_count": 9,
   "id": "7d33721a-eeba-4cda-af33-84a8baace424",
   "metadata": {},
   "outputs": [
    {
     "name": "stdout",
     "output_type": "stream",
     "text": [
      "Due to IPython and Windows limitation, python multiprocessing isn't available now.\n",
      "So `number_workers` is changed to 0 to avoid getting stuck\n"
     ]
    }
   ],
   "source": [
    "dls = blocks.dataloaders(path)"
   ]
  },
  {
   "cell_type": "code",
   "execution_count": 10,
   "id": "eff7faf3-2588-4b9c-a678-08d148a16221",
   "metadata": {},
   "outputs": [
    {
     "data": {
      "image/png": "[encoded data removed]",
      "text/plain": [
       "<Figure size 1080x216 with 5 Axes>"
      ]
     },
     "metadata": {
      "needs_background": "light"
     },
     "output_type": "display_data"
    }
   ],
   "source": [
    "dls.show_batch(nrows=1, ncols=5)"
   ]
  },
  {
   "cell_type": "code",
   "execution_count": 11,
   "id": "8525b8dd-43c1-41dd-a1e7-eadb3de93d6d",
   "metadata": {},
   "outputs": [],
   "source": [
    "avg = 'macro'\n",
    "roca = RocAucBinary(average=avg)\n",
    "f1s = F1Score(average=avg)\n",
    "bc = BalancedAccuracy()\n",
    "metrics=[accuracy,bc, Precision(average=avg), Recall(average=avg), f1s, roca]\n",
    "learn = cnn_learner(dls, densenet121, metrics=metrics) "
   ]
  },
  {
   "cell_type": "code",
   "execution_count": null,
   "id": "e0a0853a-62f8-44da-aaca-e02df72ece58",
   "metadata": {},
   "outputs": [],
   "source": [
    "learn.lr_find()"
   ]
  },
  {
   "cell_type": "code",
   "execution_count": 12,
   "id": "cd1f3ab9-a177-498f-9922-bf7ec2dd9724",
   "metadata": {},
   "outputs": [
    {
     "data": {
      "text/html": [
       "<table border=\"1\" class=\"dataframe\">\n",
       "  <thead>\n",
       "    <tr style=\"text-align: left;\">\n",
       "      <th>epoch</th>\n",
       "      <th>train_loss</th>\n",
       "      <th>valid_loss</th>\n",
       "      <th>accuracy</th>\n",
       "      <th>balanced_accuracy_score</th>\n",
       "      <th>precision_score</th>\n",
       "      <th>recall_score</th>\n",
       "      <th>f1_score</th>\n",
       "      <th>roc_auc_score</th>\n",
       "      <th>time</th>\n",
       "    </tr>\n",
       "  </thead>\n",
       "  <tbody>\n",
       "    <tr>\n",
       "      <td>0</td>\n",
       "      <td>0.371036</td>\n",
       "      <td>0.357020</td>\n",
       "      <td>0.829820</td>\n",
       "      <td>0.653118</td>\n",
       "      <td>0.765502</td>\n",
       "      <td>0.653118</td>\n",
       "      <td>0.680524</td>\n",
       "      <td>0.863300</td>\n",
       "      <td>10:40</td>\n",
       "    </tr>\n",
       "    <tr>\n",
       "      <td>1</td>\n",
       "      <td>0.352022</td>\n",
       "      <td>0.344539</td>\n",
       "      <td>0.836695</td>\n",
       "      <td>0.690555</td>\n",
       "      <td>0.765625</td>\n",
       "      <td>0.690555</td>\n",
       "      <td>0.715448</td>\n",
       "      <td>0.873229</td>\n",
       "      <td>09:58</td>\n",
       "    </tr>\n",
       "    <tr>\n",
       "      <td>2</td>\n",
       "      <td>0.336081</td>\n",
       "      <td>0.341798</td>\n",
       "      <td>0.836291</td>\n",
       "      <td>0.695622</td>\n",
       "      <td>0.762423</td>\n",
       "      <td>0.695622</td>\n",
       "      <td>0.718862</td>\n",
       "      <td>0.875846</td>\n",
       "      <td>10:51</td>\n",
       "    </tr>\n",
       "  </tbody>\n",
       "</table>"
      ],
      "text/plain": [
       "<IPython.core.display.HTML object>"
      ]
     },
     "metadata": {},
     "output_type": "display_data"
    }
   ],
   "source": [
    "learn.fit_one_cycle(3)"
   ]
  },
  {
   "cell_type": "code",
   "execution_count": 13,
   "id": "aab9f026-8749-42b2-abfb-60aa7c10aacb",
   "metadata": {},
   "outputs": [],
   "source": [
    "learn.unfreeze()"
   ]
  },
  {
   "cell_type": "code",
   "execution_count": 14,
   "id": "bdad8c98-6172-4396-8419-65ed3f0a51b8",
   "metadata": {},
   "outputs": [
    {
     "data": {
      "text/html": [
       "<table border=\"1\" class=\"dataframe\">\n",
       "  <thead>\n",
       "    <tr style=\"text-align: left;\">\n",
       "      <th>epoch</th>\n",
       "      <th>train_loss</th>\n",
       "      <th>valid_loss</th>\n",
       "      <th>accuracy</th>\n",
       "      <th>balanced_accuracy_score</th>\n",
       "      <th>precision_score</th>\n",
       "      <th>recall_score</th>\n",
       "      <th>f1_score</th>\n",
       "      <th>roc_auc_score</th>\n",
       "      <th>time</th>\n",
       "    </tr>\n",
       "  </thead>\n",
       "  <tbody>\n",
       "    <tr>\n",
       "      <td>0</td>\n",
       "      <td>0.382018</td>\n",
       "      <td>0.418981</td>\n",
       "      <td>0.800142</td>\n",
       "      <td>0.526833</td>\n",
       "      <td>0.820638</td>\n",
       "      <td>0.526833</td>\n",
       "      <td>0.496678</td>\n",
       "      <td>0.843934</td>\n",
       "      <td>14:01</td>\n",
       "    </tr>\n",
       "    <tr>\n",
       "      <td>1</td>\n",
       "      <td>0.359767</td>\n",
       "      <td>0.366043</td>\n",
       "      <td>0.832651</td>\n",
       "      <td>0.681876</td>\n",
       "      <td>0.758162</td>\n",
       "      <td>0.681876</td>\n",
       "      <td>0.706438</td>\n",
       "      <td>0.859577</td>\n",
       "      <td>12:45</td>\n",
       "    </tr>\n",
       "    <tr>\n",
       "      <td>2</td>\n",
       "      <td>0.356624</td>\n",
       "      <td>0.350761</td>\n",
       "      <td>0.834572</td>\n",
       "      <td>0.712188</td>\n",
       "      <td>0.753688</td>\n",
       "      <td>0.712188</td>\n",
       "      <td>0.728834</td>\n",
       "      <td>0.871377</td>\n",
       "      <td>12:32</td>\n",
       "    </tr>\n",
       "    <tr>\n",
       "      <td>3</td>\n",
       "      <td>0.337817</td>\n",
       "      <td>0.342973</td>\n",
       "      <td>0.837049</td>\n",
       "      <td>0.686876</td>\n",
       "      <td>0.768411</td>\n",
       "      <td>0.686876</td>\n",
       "      <td>0.712916</td>\n",
       "      <td>0.874512</td>\n",
       "      <td>12:22</td>\n",
       "    </tr>\n",
       "    <tr>\n",
       "      <td>4</td>\n",
       "      <td>0.347387</td>\n",
       "      <td>0.339542</td>\n",
       "      <td>0.837757</td>\n",
       "      <td>0.701073</td>\n",
       "      <td>0.764146</td>\n",
       "      <td>0.701073</td>\n",
       "      <td>0.723637</td>\n",
       "      <td>0.877173</td>\n",
       "      <td>12:18</td>\n",
       "    </tr>\n",
       "  </tbody>\n",
       "</table>"
      ],
      "text/plain": [
       "<IPython.core.display.HTML object>"
      ]
     },
     "metadata": {},
     "output_type": "display_data"
    }
   ],
   "source": [
    "learn.fit_one_cycle(5)"
   ]
  },
  {
   "cell_type": "code",
   "execution_count": 16,
   "id": "52abd35b-5326-4dfe-be1e-ae89c2dd685c",
   "metadata": {},
   "outputs": [
    {
     "data": {
      "text/html": [
       "<table border=\"1\" class=\"dataframe\">\n",
       "  <thead>\n",
       "    <tr style=\"text-align: left;\">\n",
       "      <th>epoch</th>\n",
       "      <th>train_loss</th>\n",
       "      <th>valid_loss</th>\n",
       "      <th>accuracy</th>\n",
       "      <th>balanced_accuracy_score</th>\n",
       "      <th>precision_score</th>\n",
       "      <th>recall_score</th>\n",
       "      <th>f1_score</th>\n",
       "      <th>roc_auc_score</th>\n",
       "      <th>time</th>\n",
       "    </tr>\n",
       "  </thead>\n",
       "  <tbody>\n",
       "    <tr>\n",
       "      <td>0</td>\n",
       "      <td>0.336184</td>\n",
       "      <td>0.339166</td>\n",
       "      <td>0.837858</td>\n",
       "      <td>0.701315</td>\n",
       "      <td>0.764314</td>\n",
       "      <td>0.701315</td>\n",
       "      <td>0.723870</td>\n",
       "      <td>0.877415</td>\n",
       "      <td>12:11</td>\n",
       "    </tr>\n",
       "  </tbody>\n",
       "</table>"
      ],
      "text/plain": [
       "<IPython.core.display.HTML object>"
      ]
     },
     "metadata": {},
     "output_type": "display_data"
    }
   ],
   "source": [
    "learn.fit_one_cycle(1)"
   ]
  },
  {
   "cell_type": "code",
   "execution_count": 17,
   "id": "e7e1186a-d09b-4ead-a8db-46454c5c4dc0",
   "metadata": {},
   "outputs": [
    {
     "data": {
      "text/plain": [
       "['rural', 'urban']"
      ]
     },
     "execution_count": 17,
     "metadata": {},
     "output_type": "execute_result"
    }
   ],
   "source": [
    "dls.vocab"
   ]
  },
  {
   "cell_type": "code",
   "execution_count": 18,
   "id": "c5830bb5-c0bb-4680-b773-150c9ee2002c",
   "metadata": {},
   "outputs": [
    {
     "data": {
      "text/plain": [
       "Path('urban/32062300110017.jpg')"
      ]
     },
     "execution_count": 18,
     "metadata": {},
     "output_type": "execute_result"
    }
   ],
   "source": [
    "dls.train.items[175000]"
   ]
  },
  {
   "cell_type": "code",
   "execution_count": 19,
   "id": "547ba6e2-d5a2-4f29-9dcb-fb9b2e109a5d",
   "metadata": {},
   "outputs": [],
   "source": [
    "learn.export('C:/Users/jwst2/Python/tesis/models/18042022 D011.pkl')"
   ]
  },
  {
   "cell_type": "markdown",
   "id": "a06daf77-bb94-4097-bc8f-263a1c65aed5",
   "metadata": {},
   "source": [
    "### Up level"
   ]
  },
  {
   "cell_type": "code",
   "execution_count": 20,
   "id": "f975b391-1a56-4d3c-ab42-829ace1febc3",
   "metadata": {},
   "outputs": [],
   "source": [
    "idx_train = []\n",
    "for i in dls.train.items:\n",
    "    idx_train.append(str(i)[-18:-4])\n",
    "true_label = []\n",
    "for i in dls.train.items:\n",
    "    if(\"urban\" in str(i)) :\n",
    "        true_label.append(1)\n",
    "    else :\n",
    "        true_label.append(0)"
   ]
  },
  {
   "cell_type": "code",
   "execution_count": null,
   "id": "1b9a6293-8ded-4ccd-8be5-282e8abf5ef4",
   "metadata": {},
   "outputs": [
    {
     "data": {
      "text/html": [
       "\n",
       "    <div>\n",
       "        <style>\n",
       "            /* Turns off some styling */\n",
       "            progress {\n",
       "                /* gets rid of default border in Firefox and Opera. */\n",
       "                border: none;\n",
       "                /* Needs to be in here for Safari polyfill so background images work as expected. */\n",
       "                background-size: auto;\n",
       "            }\n",
       "            .progress-bar-interrupted, .progress-bar-interrupted::-webkit-progress-bar {\n",
       "                background: #F44336;\n",
       "            }\n",
       "        </style>\n",
       "      <progress value='1763' class='' max='2782' style='width:300px; height:20px; vertical-align: middle;'></progress>\n",
       "      63.37% [1763/2782 02:59<01:43 0.3362]\n",
       "    </div>\n",
       "    "
      ],
      "text/plain": [
       "<IPython.core.display.HTML object>"
      ]
     },
     "metadata": {},
     "output_type": "display_data"
    }
   ],
   "source": [
    "preds,_ = learn.get_preds(ds_idx  = 0)\n",
    "result_train = preds.numpy()\n",
    "new_train = pd.DataFrame(result_train)"
   ]
  },
  {
   "cell_type": "code",
   "execution_count": null,
   "id": "f6f18366-923e-49d5-8470-4f5c63b89975",
   "metadata": {},
   "outputs": [],
   "source": [
    "pd.value_counts(true_label)"
   ]
  },
  {
   "cell_type": "code",
   "execution_count": null,
   "id": "7baa9c67-e0bf-4fa0-b699-81028a698288",
   "metadata": {},
   "outputs": [],
   "source": [
    "df = new_train\n",
    "df[\"idsls\"] = idx_train \n",
    "df[\"stat\"] = round(df[1])\n",
    "df[\"iddesa\"] = df.idsls.str[:10]\n",
    "df.head()"
   ]
  },
  {
   "cell_type": "code",
   "execution_count": null,
   "id": "27375754-0aa1-4dde-af27-3d7f20cb244c",
   "metadata": {},
   "outputs": [],
   "source": [
    "pd.value_counts(df.stat)"
   ]
  },
  {
   "cell_type": "code",
   "execution_count": null,
   "id": "51e93c51-a1f1-4c0d-92e0-984e5b78d065",
   "metadata": {},
   "outputs": [],
   "source": [
    "df[\"true_lab\"] = true_label"
   ]
  },
  {
   "cell_type": "code",
   "execution_count": null,
   "id": "0823d3a6-312e-4355-b198-23eae6063316",
   "metadata": {},
   "outputs": [],
   "source": [
    "pd.value_counts(df.true_lab)"
   ]
  },
  {
   "cell_type": "code",
   "execution_count": null,
   "id": "84ffac8a-28bd-4e7c-97b0-e4b46e397e64",
   "metadata": {},
   "outputs": [],
   "source": [
    "accuracy_score(df.stat.apply(int),df.true_lab.apply(int))"
   ]
  },
  {
   "cell_type": "code",
   "execution_count": null,
   "id": "caadfca2-e80e-4d01-8e5c-16c22d8e3900",
   "metadata": {},
   "outputs": [],
   "source": [
    "df.head()"
   ]
  },
  {
   "cell_type": "code",
   "execution_count": null,
   "id": "d72c35ba-448b-4f71-8a5f-6b03de74920f",
   "metadata": {},
   "outputs": [],
   "source": [
    "desa_pred = df.groupby('iddesa').agg({'stat': ['mean'], 'true_lab': 'mean'})"
   ]
  },
  {
   "cell_type": "code",
   "execution_count": null,
   "id": "99a39f46-949f-42c8-a81e-28731b0fc783",
   "metadata": {},
   "outputs": [],
   "source": [
    "desa_pred.columns = [\"pred\",\"true\"]"
   ]
  },
  {
   "cell_type": "code",
   "execution_count": null,
   "id": "580d8552-7a64-41df-ac54-823feee451f6",
   "metadata": {},
   "outputs": [],
   "source": [
    "pd.value_counts(df.stat)"
   ]
  },
  {
   "cell_type": "code",
   "execution_count": null,
   "id": "8253e8fa-9c54-4d63-87a5-e59669b9ece2",
   "metadata": {},
   "outputs": [],
   "source": [
    "for i in np.arange(0.1, 0.95, 0.05):\n",
    "    value = round(i,2)\n",
    "    desa_pred[\"label\"+str(value)] = 0\n",
    "    desa_pred[\"label\"+str(value)][desa_pred.pred > value] = 1"
   ]
  },
  {
   "cell_type": "code",
   "execution_count": null,
   "id": "4366ffb4-4834-4bbf-a447-5469fa8cf4f9",
   "metadata": {},
   "outputs": [],
   "source": [
    "desa_pred.head()"
   ]
  },
  {
   "cell_type": "code",
   "execution_count": null,
   "id": "855a7f51-9fd3-418e-bd21-605fe7d0a113",
   "metadata": {},
   "outputs": [],
   "source": [
    "for j in range(2,19):\n",
    "    print(\"result\", desa_pred.columns[j])\n",
    "    print(\"accuracy :\",  accuracy_score( desa_pred.true,desa_pred.iloc[:,[j]]))\n",
    "    print(\"precision :\",  precision_score( desa_pred.true,desa_pred.iloc[:,[j]]))"
   ]
  },
  {
   "cell_type": "code",
   "execution_count": null,
   "id": "3662a4be-9f92-4f37-9978-c0bfac190fe5",
   "metadata": {},
   "outputs": [],
   "source": [
    "from sklearn.metrics import confusion_matrix"
   ]
  },
  {
   "cell_type": "code",
   "execution_count": null,
   "id": "13528e0d-92ad-4bd6-89b8-816048965e16",
   "metadata": {},
   "outputs": [],
   "source": [
    "pd.value_counts(desa_pred.true)"
   ]
  },
  {
   "cell_type": "markdown",
   "id": "4e6bafd1-9eae-4547-ba47-30ebe21ea669",
   "metadata": {},
   "source": [
    "### Test result"
   ]
  },
  {
   "cell_type": "code",
   "execution_count": 109,
   "id": "b1c0e74b-6b00-48a1-8a42-c6d3596ab009",
   "metadata": {},
   "outputs": [],
   "source": [
    "path_pred = Path.cwd() / (\"C:/Users/jwst2/Python/tesis/jpg/urbanrural/test sls 10m ES\")\n",
    "test_files = [fn for fn in sorted((path_pred).glob('**/*')) if fn.is_file()]"
   ]
  },
  {
   "cell_type": "code",
   "execution_count": 110,
   "id": "c5177d4a-43de-426b-81c3-89a5ad10476a",
   "metadata": {},
   "outputs": [
    {
     "data": {
      "text/plain": [
       "21701"
      ]
     },
     "execution_count": 110,
     "metadata": {},
     "output_type": "execute_result"
    }
   ],
   "source": [
    "len(test_files)"
   ]
  },
  {
   "cell_type": "code",
   "execution_count": 111,
   "id": "2dbbb132-1ed0-459d-84c1-ed8e102bfce4",
   "metadata": {},
   "outputs": [],
   "source": [
    "test_dl = learn.dls.test_dl(test_files)"
   ]
  },
  {
   "cell_type": "code",
   "execution_count": 112,
   "id": "b8399e45-82ed-43ce-93ee-341a95d9c671",
   "metadata": {},
   "outputs": [
    {
     "data": {
      "text/html": [],
      "text/plain": [
       "<IPython.core.display.HTML object>"
      ]
     },
     "metadata": {},
     "output_type": "display_data"
    }
   ],
   "source": [
    "preds,_ = learn.get_preds(dl  =test_dl)"
   ]
  },
  {
   "cell_type": "code",
   "execution_count": 113,
   "id": "36e7a605-1944-49da-8315-e7ee2fa846a5",
   "metadata": {},
   "outputs": [
    {
     "data": {
      "text/plain": [
       "'32010100020002'"
      ]
     },
     "execution_count": 113,
     "metadata": {},
     "output_type": "execute_result"
    }
   ],
   "source": [
    "str(test_files[1])[-18:-4]"
   ]
  },
  {
   "cell_type": "code",
   "execution_count": 114,
   "id": "ae98e9b7-69ae-4ad5-ac8b-a1ca764e77e1",
   "metadata": {},
   "outputs": [],
   "source": [
    "idx_test = []\n",
    "for i in test_files:\n",
    "    idx_test.append(str(i)[-18:-4])\n",
    "true_label = []\n",
    "for i in test_files:\n",
    "    if(\"urban\" in str(i)) :\n",
    "        true_label.append(1)\n",
    "    else :\n",
    "        true_label.append(0)"
   ]
  },
  {
   "cell_type": "code",
   "execution_count": 115,
   "id": "9db6caf2-7da7-4829-9dcb-ef4ae2cb02a4",
   "metadata": {},
   "outputs": [],
   "source": [
    "test = pd.DataFrame(preds)"
   ]
  },
  {
   "cell_type": "code",
   "execution_count": 116,
   "id": "e4b05cfe-563a-4f65-ab73-d359328afbac",
   "metadata": {},
   "outputs": [],
   "source": [
    "test[\"idsls\"] = idx_test\n",
    "test[\"true_lab\"] = true_label"
   ]
  },
  {
   "cell_type": "code",
   "execution_count": 117,
   "id": "e7bfa65d-944e-471a-a341-fe3f03d74bb1",
   "metadata": {},
   "outputs": [],
   "source": [
    "test[\"iddesa\"] = test.idsls.str[:10]\n",
    "test[\"stat\"] = round(test[1])"
   ]
  },
  {
   "cell_type": "code",
   "execution_count": 118,
   "id": "2d7b48c0-1b97-4a7b-9844-552152f94ea2",
   "metadata": {},
   "outputs": [
    {
     "data": {
      "text/html": [
       "<div>\n",
       "<style scoped>\n",
       "    .dataframe tbody tr th:only-of-type {\n",
       "        vertical-align: middle;\n",
       "    }\n",
       "\n",
       "    .dataframe tbody tr th {\n",
       "        vertical-align: top;\n",
       "    }\n",
       "\n",
       "    .dataframe thead th {\n",
       "        text-align: right;\n",
       "    }\n",
       "</style>\n",
       "<table border=\"1\" class=\"dataframe\">\n",
       "  <thead>\n",
       "    <tr style=\"text-align: right;\">\n",
       "      <th></th>\n",
       "      <th>0</th>\n",
       "      <th>1</th>\n",
       "      <th>idsls</th>\n",
       "      <th>true_lab</th>\n",
       "      <th>iddesa</th>\n",
       "      <th>stat</th>\n",
       "    </tr>\n",
       "  </thead>\n",
       "  <tbody>\n",
       "    <tr>\n",
       "      <th>0</th>\n",
       "      <td>0.568766</td>\n",
       "      <td>0.431234</td>\n",
       "      <td>32010100020001</td>\n",
       "      <td>0</td>\n",
       "      <td>3201010002</td>\n",
       "      <td>0.0</td>\n",
       "    </tr>\n",
       "    <tr>\n",
       "      <th>1</th>\n",
       "      <td>0.158896</td>\n",
       "      <td>0.841104</td>\n",
       "      <td>32010100020002</td>\n",
       "      <td>0</td>\n",
       "      <td>3201010002</td>\n",
       "      <td>1.0</td>\n",
       "    </tr>\n",
       "    <tr>\n",
       "      <th>2</th>\n",
       "      <td>0.439324</td>\n",
       "      <td>0.560676</td>\n",
       "      <td>32010100020003</td>\n",
       "      <td>0</td>\n",
       "      <td>3201010002</td>\n",
       "      <td>1.0</td>\n",
       "    </tr>\n",
       "    <tr>\n",
       "      <th>3</th>\n",
       "      <td>0.562603</td>\n",
       "      <td>0.437397</td>\n",
       "      <td>32010100020004</td>\n",
       "      <td>0</td>\n",
       "      <td>3201010002</td>\n",
       "      <td>0.0</td>\n",
       "    </tr>\n",
       "    <tr>\n",
       "      <th>4</th>\n",
       "      <td>0.675877</td>\n",
       "      <td>0.324123</td>\n",
       "      <td>32010100020005</td>\n",
       "      <td>0</td>\n",
       "      <td>3201010002</td>\n",
       "      <td>0.0</td>\n",
       "    </tr>\n",
       "  </tbody>\n",
       "</table>\n",
       "</div>"
      ],
      "text/plain": [
       "          0         1           idsls  true_lab      iddesa  stat\n",
       "0  0.568766  0.431234  32010100020001         0  3201010002   0.0\n",
       "1  0.158896  0.841104  32010100020002         0  3201010002   1.0\n",
       "2  0.439324  0.560676  32010100020003         0  3201010002   1.0\n",
       "3  0.562603  0.437397  32010100020004         0  3201010002   0.0\n",
       "4  0.675877  0.324123  32010100020005         0  3201010002   0.0"
      ]
     },
     "execution_count": 118,
     "metadata": {},
     "output_type": "execute_result"
    }
   ],
   "source": [
    "test.head()"
   ]
  },
  {
   "cell_type": "code",
   "execution_count": 119,
   "id": "c7a6d0dd-cdfe-4cd3-89a5-0cd6255ea55f",
   "metadata": {},
   "outputs": [],
   "source": [
    "desa_pred_test = test.groupby('iddesa').agg({'stat': ['mean'], 'true_lab': 'mean'})"
   ]
  },
  {
   "cell_type": "code",
   "execution_count": 120,
   "id": "46219c78-2263-49e6-8f5c-0ef512ffa7f5",
   "metadata": {},
   "outputs": [
    {
     "data": {
      "text/html": [
       "<div>\n",
       "<style scoped>\n",
       "    .dataframe tbody tr th:only-of-type {\n",
       "        vertical-align: middle;\n",
       "    }\n",
       "\n",
       "    .dataframe tbody tr th {\n",
       "        vertical-align: top;\n",
       "    }\n",
       "\n",
       "    .dataframe thead tr th {\n",
       "        text-align: left;\n",
       "    }\n",
       "\n",
       "    .dataframe thead tr:last-of-type th {\n",
       "        text-align: right;\n",
       "    }\n",
       "</style>\n",
       "<table border=\"1\" class=\"dataframe\">\n",
       "  <thead>\n",
       "    <tr>\n",
       "      <th></th>\n",
       "      <th>stat</th>\n",
       "      <th>true_lab</th>\n",
       "    </tr>\n",
       "    <tr>\n",
       "      <th></th>\n",
       "      <th>mean</th>\n",
       "      <th>mean</th>\n",
       "    </tr>\n",
       "    <tr>\n",
       "      <th>iddesa</th>\n",
       "      <th></th>\n",
       "      <th></th>\n",
       "    </tr>\n",
       "  </thead>\n",
       "  <tbody>\n",
       "    <tr>\n",
       "      <th>3201010002</th>\n",
       "      <td>0.416667</td>\n",
       "      <td>0.0</td>\n",
       "    </tr>\n",
       "    <tr>\n",
       "      <th>3201020019</th>\n",
       "      <td>0.931818</td>\n",
       "      <td>1.0</td>\n",
       "    </tr>\n",
       "    <tr>\n",
       "      <th>3201021008</th>\n",
       "      <td>0.611111</td>\n",
       "      <td>1.0</td>\n",
       "    </tr>\n",
       "    <tr>\n",
       "      <th>3201030006</th>\n",
       "      <td>0.883721</td>\n",
       "      <td>0.0</td>\n",
       "    </tr>\n",
       "    <tr>\n",
       "      <th>3201030007</th>\n",
       "      <td>0.968750</td>\n",
       "      <td>1.0</td>\n",
       "    </tr>\n",
       "    <tr>\n",
       "      <th>...</th>\n",
       "      <td>...</td>\n",
       "      <td>...</td>\n",
       "    </tr>\n",
       "    <tr>\n",
       "      <th>3279010002</th>\n",
       "      <td>0.725000</td>\n",
       "      <td>1.0</td>\n",
       "    </tr>\n",
       "    <tr>\n",
       "      <th>3279010003</th>\n",
       "      <td>0.304348</td>\n",
       "      <td>1.0</td>\n",
       "    </tr>\n",
       "    <tr>\n",
       "      <th>3279010004</th>\n",
       "      <td>0.900000</td>\n",
       "      <td>1.0</td>\n",
       "    </tr>\n",
       "    <tr>\n",
       "      <th>3279030005</th>\n",
       "      <td>0.920000</td>\n",
       "      <td>1.0</td>\n",
       "    </tr>\n",
       "    <tr>\n",
       "      <th>3279030008</th>\n",
       "      <td>0.883721</td>\n",
       "      <td>1.0</td>\n",
       "    </tr>\n",
       "  </tbody>\n",
       "</table>\n",
       "<p>596 rows × 2 columns</p>\n",
       "</div>"
      ],
      "text/plain": [
       "                stat true_lab\n",
       "                mean     mean\n",
       "iddesa                       \n",
       "3201010002  0.416667      0.0\n",
       "3201020019  0.931818      1.0\n",
       "3201021008  0.611111      1.0\n",
       "3201030006  0.883721      0.0\n",
       "3201030007  0.968750      1.0\n",
       "...              ...      ...\n",
       "3279010002  0.725000      1.0\n",
       "3279010003  0.304348      1.0\n",
       "3279010004  0.900000      1.0\n",
       "3279030005  0.920000      1.0\n",
       "3279030008  0.883721      1.0\n",
       "\n",
       "[596 rows x 2 columns]"
      ]
     },
     "execution_count": 120,
     "metadata": {},
     "output_type": "execute_result"
    }
   ],
   "source": [
    "desa_pred_test"
   ]
  },
  {
   "cell_type": "code",
   "execution_count": 121,
   "id": "3c181fbb-e76b-485b-b209-63e58f29ff4d",
   "metadata": {},
   "outputs": [],
   "source": [
    "desa_pred_test.columns = [\"pred\",\"true\"]"
   ]
  },
  {
   "cell_type": "code",
   "execution_count": 122,
   "id": "6489d636-897a-426d-9842-547b4a8c2ff7",
   "metadata": {},
   "outputs": [
    {
     "name": "stderr",
     "output_type": "stream",
     "text": [
      "C:\\Users\\jwst2\\AppData\\Local\\Temp/ipykernel_6696/3417576388.py:2: SettingWithCopyWarning: \n",
      "A value is trying to be set on a copy of a slice from a DataFrame\n",
      "\n",
      "See the caveats in the documentation: https://pandas.pydata.org/pandas-docs/stable/user_guide/indexing.html#returning-a-view-versus-a-copy\n",
      "  desa_pred_test[\"pred_lab\"][desa_pred_test.pred > 0.8] = 1\n"
     ]
    }
   ],
   "source": [
    "desa_pred_test[\"pred_lab\"] = 0\n",
    "desa_pred_test[\"pred_lab\"][desa_pred_test.pred > 0.8] = 1"
   ]
  },
  {
   "cell_type": "code",
   "execution_count": 123,
   "id": "a1e663c1-2e37-4bd5-ad9b-9c1b9acd77e7",
   "metadata": {},
   "outputs": [
    {
     "data": {
      "text/html": [
       "<div>\n",
       "<style scoped>\n",
       "    .dataframe tbody tr th:only-of-type {\n",
       "        vertical-align: middle;\n",
       "    }\n",
       "\n",
       "    .dataframe tbody tr th {\n",
       "        vertical-align: top;\n",
       "    }\n",
       "\n",
       "    .dataframe thead th {\n",
       "        text-align: right;\n",
       "    }\n",
       "</style>\n",
       "<table border=\"1\" class=\"dataframe\">\n",
       "  <thead>\n",
       "    <tr style=\"text-align: right;\">\n",
       "      <th></th>\n",
       "      <th>pred</th>\n",
       "      <th>true</th>\n",
       "      <th>pred_lab</th>\n",
       "    </tr>\n",
       "    <tr>\n",
       "      <th>iddesa</th>\n",
       "      <th></th>\n",
       "      <th></th>\n",
       "      <th></th>\n",
       "    </tr>\n",
       "  </thead>\n",
       "  <tbody>\n",
       "    <tr>\n",
       "      <th>3201010002</th>\n",
       "      <td>0.416667</td>\n",
       "      <td>0.0</td>\n",
       "      <td>0</td>\n",
       "    </tr>\n",
       "    <tr>\n",
       "      <th>3201020019</th>\n",
       "      <td>0.931818</td>\n",
       "      <td>1.0</td>\n",
       "      <td>1</td>\n",
       "    </tr>\n",
       "    <tr>\n",
       "      <th>3201021008</th>\n",
       "      <td>0.611111</td>\n",
       "      <td>1.0</td>\n",
       "      <td>0</td>\n",
       "    </tr>\n",
       "    <tr>\n",
       "      <th>3201030006</th>\n",
       "      <td>0.883721</td>\n",
       "      <td>0.0</td>\n",
       "      <td>1</td>\n",
       "    </tr>\n",
       "    <tr>\n",
       "      <th>3201030007</th>\n",
       "      <td>0.968750</td>\n",
       "      <td>1.0</td>\n",
       "      <td>1</td>\n",
       "    </tr>\n",
       "    <tr>\n",
       "      <th>...</th>\n",
       "      <td>...</td>\n",
       "      <td>...</td>\n",
       "      <td>...</td>\n",
       "    </tr>\n",
       "    <tr>\n",
       "      <th>3279010002</th>\n",
       "      <td>0.725000</td>\n",
       "      <td>1.0</td>\n",
       "      <td>0</td>\n",
       "    </tr>\n",
       "    <tr>\n",
       "      <th>3279010003</th>\n",
       "      <td>0.304348</td>\n",
       "      <td>1.0</td>\n",
       "      <td>0</td>\n",
       "    </tr>\n",
       "    <tr>\n",
       "      <th>3279010004</th>\n",
       "      <td>0.900000</td>\n",
       "      <td>1.0</td>\n",
       "      <td>1</td>\n",
       "    </tr>\n",
       "    <tr>\n",
       "      <th>3279030005</th>\n",
       "      <td>0.920000</td>\n",
       "      <td>1.0</td>\n",
       "      <td>1</td>\n",
       "    </tr>\n",
       "    <tr>\n",
       "      <th>3279030008</th>\n",
       "      <td>0.883721</td>\n",
       "      <td>1.0</td>\n",
       "      <td>1</td>\n",
       "    </tr>\n",
       "  </tbody>\n",
       "</table>\n",
       "<p>596 rows × 3 columns</p>\n",
       "</div>"
      ],
      "text/plain": [
       "                pred  true  pred_lab\n",
       "iddesa                              \n",
       "3201010002  0.416667   0.0         0\n",
       "3201020019  0.931818   1.0         1\n",
       "3201021008  0.611111   1.0         0\n",
       "3201030006  0.883721   0.0         1\n",
       "3201030007  0.968750   1.0         1\n",
       "...              ...   ...       ...\n",
       "3279010002  0.725000   1.0         0\n",
       "3279010003  0.304348   1.0         0\n",
       "3279010004  0.900000   1.0         1\n",
       "3279030005  0.920000   1.0         1\n",
       "3279030008  0.883721   1.0         1\n",
       "\n",
       "[596 rows x 3 columns]"
      ]
     },
     "execution_count": 123,
     "metadata": {},
     "output_type": "execute_result"
    }
   ],
   "source": [
    "desa_pred_test"
   ]
  },
  {
   "cell_type": "code",
   "execution_count": 124,
   "id": "da7378d4-58be-48fa-af75-8fe5cef6551a",
   "metadata": {},
   "outputs": [
    {
     "name": "stdout",
     "output_type": "stream",
     "text": [
      "accuracy : 0.7768456375838926\n",
      "balanced_accuracy_score : 0.7151640774395265\n",
      "precision : 0.8378995433789954\n",
      "recall : 0.8554778554778555\n",
      "f1 : 0.8465974625144174\n",
      "rocauc : 0.7151640774395265\n"
     ]
    }
   ],
   "source": [
    "print(\"accuracy :\",  accuracy_score( desa_pred_test.true,desa_pred_test.pred_lab))\n",
    "print(\"balanced_accuracy_score :\",  balanced_accuracy_score( desa_pred_test.true,desa_pred_test.pred_lab))\n",
    "print(\"precision :\",  precision_score( desa_pred_test.true,desa_pred_test.pred_lab))\n",
    "print(\"recall :\",  recall_score( desa_pred_test.true,desa_pred_test.pred_lab))\n",
    "print(\"f1 :\",  f1_score( desa_pred_test.true,desa_pred_test.pred_lab))\n",
    "print(\"rocauc :\",  roc_auc_score( desa_pred_test.true,desa_pred_test.pred_lab))"
   ]
  },
  {
   "cell_type": "markdown",
   "id": "1460b95b-2b50-40e2-91c3-421e84c3672d",
   "metadata": {},
   "source": [
    "### Resnet"
   ]
  },
  {
   "cell_type": "code",
   "execution_count": 125,
   "id": "c431ce4b-372b-4616-9af3-6b8be80b5ea5",
   "metadata": {},
   "outputs": [],
   "source": [
    "learn_rs = cnn_learner(dls, resnet50, metrics=metrics) "
   ]
  },
  {
   "cell_type": "code",
   "execution_count": 126,
   "id": "07e6c62e-4191-4644-b67d-93f4f906f577",
   "metadata": {},
   "outputs": [],
   "source": [
    "learn_rs.unfreeze()"
   ]
  },
  {
   "cell_type": "code",
   "execution_count": 127,
   "id": "84155c12-95b7-4883-8e0a-f1d54a4797c9",
   "metadata": {},
   "outputs": [
    {
     "data": {
      "text/html": [
       "<table border=\"1\" class=\"dataframe\">\n",
       "  <thead>\n",
       "    <tr style=\"text-align: left;\">\n",
       "      <th>epoch</th>\n",
       "      <th>train_loss</th>\n",
       "      <th>valid_loss</th>\n",
       "      <th>accuracy</th>\n",
       "      <th>balanced_accuracy_score</th>\n",
       "      <th>precision_score</th>\n",
       "      <th>recall_score</th>\n",
       "      <th>f1_score</th>\n",
       "      <th>roc_auc_score</th>\n",
       "      <th>time</th>\n",
       "    </tr>\n",
       "  </thead>\n",
       "  <tbody>\n",
       "    <tr>\n",
       "      <td>0</td>\n",
       "      <td>0.443123</td>\n",
       "      <td>0.430808</td>\n",
       "      <td>0.799313</td>\n",
       "      <td>0.538285</td>\n",
       "      <td>0.768224</td>\n",
       "      <td>0.538285</td>\n",
       "      <td>0.519114</td>\n",
       "      <td>0.796420</td>\n",
       "      <td>12:29</td>\n",
       "    </tr>\n",
       "    <tr>\n",
       "      <td>1</td>\n",
       "      <td>0.426038</td>\n",
       "      <td>0.399274</td>\n",
       "      <td>0.812048</td>\n",
       "      <td>0.689135</td>\n",
       "      <td>0.716491</td>\n",
       "      <td>0.689135</td>\n",
       "      <td>0.700551</td>\n",
       "      <td>0.826057</td>\n",
       "      <td>11:24</td>\n",
       "    </tr>\n",
       "    <tr>\n",
       "      <td>2</td>\n",
       "      <td>0.427077</td>\n",
       "      <td>0.458428</td>\n",
       "      <td>0.767019</td>\n",
       "      <td>0.727372</td>\n",
       "      <td>0.680921</td>\n",
       "      <td>0.727372</td>\n",
       "      <td>0.694372</td>\n",
       "      <td>0.824009</td>\n",
       "      <td>12:38</td>\n",
       "    </tr>\n",
       "    <tr>\n",
       "      <td>3</td>\n",
       "      <td>0.397693</td>\n",
       "      <td>0.427583</td>\n",
       "      <td>0.794006</td>\n",
       "      <td>0.690560</td>\n",
       "      <td>0.691630</td>\n",
       "      <td>0.690560</td>\n",
       "      <td>0.691091</td>\n",
       "      <td>0.816960</td>\n",
       "      <td>12:43</td>\n",
       "    </tr>\n",
       "    <tr>\n",
       "      <td>4</td>\n",
       "      <td>0.413616</td>\n",
       "      <td>0.404262</td>\n",
       "      <td>0.814575</td>\n",
       "      <td>0.593212</td>\n",
       "      <td>0.768932</td>\n",
       "      <td>0.593212</td>\n",
       "      <td>0.607880</td>\n",
       "      <td>0.834052</td>\n",
       "      <td>12:36</td>\n",
       "    </tr>\n",
       "    <tr>\n",
       "      <td>5</td>\n",
       "      <td>0.400901</td>\n",
       "      <td>0.396360</td>\n",
       "      <td>0.811543</td>\n",
       "      <td>0.597813</td>\n",
       "      <td>0.743576</td>\n",
       "      <td>0.597813</td>\n",
       "      <td>0.613956</td>\n",
       "      <td>0.833104</td>\n",
       "      <td>12:40</td>\n",
       "    </tr>\n",
       "    <tr>\n",
       "      <td>6</td>\n",
       "      <td>0.391027</td>\n",
       "      <td>0.394685</td>\n",
       "      <td>0.821044</td>\n",
       "      <td>0.697629</td>\n",
       "      <td>0.732171</td>\n",
       "      <td>0.697629</td>\n",
       "      <td>0.711637</td>\n",
       "      <td>0.836838</td>\n",
       "      <td>12:34</td>\n",
       "    </tr>\n",
       "    <tr>\n",
       "      <td>7</td>\n",
       "      <td>0.388350</td>\n",
       "      <td>0.377358</td>\n",
       "      <td>0.823622</td>\n",
       "      <td>0.662464</td>\n",
       "      <td>0.745803</td>\n",
       "      <td>0.662464</td>\n",
       "      <td>0.686545</td>\n",
       "      <td>0.844851</td>\n",
       "      <td>12:43</td>\n",
       "    </tr>\n",
       "    <tr>\n",
       "      <td>8</td>\n",
       "      <td>0.400320</td>\n",
       "      <td>0.375961</td>\n",
       "      <td>0.823268</td>\n",
       "      <td>0.640924</td>\n",
       "      <td>0.757014</td>\n",
       "      <td>0.640924</td>\n",
       "      <td>0.666425</td>\n",
       "      <td>0.846370</td>\n",
       "      <td>12:56</td>\n",
       "    </tr>\n",
       "    <tr>\n",
       "      <td>9</td>\n",
       "      <td>0.387719</td>\n",
       "      <td>0.374143</td>\n",
       "      <td>0.824076</td>\n",
       "      <td>0.652661</td>\n",
       "      <td>0.752065</td>\n",
       "      <td>0.652661</td>\n",
       "      <td>0.678052</td>\n",
       "      <td>0.846352</td>\n",
       "      <td>12:44</td>\n",
       "    </tr>\n",
       "  </tbody>\n",
       "</table>"
      ],
      "text/plain": [
       "<IPython.core.display.HTML object>"
      ]
     },
     "metadata": {},
     "output_type": "display_data"
    }
   ],
   "source": [
    "learn_rs.fit_one_cycle(10)"
   ]
  },
  {
   "cell_type": "code",
   "execution_count": 128,
   "id": "d8e90b49-d365-4716-b7db-bf37c1c3cad4",
   "metadata": {},
   "outputs": [],
   "source": [
    "learn_rs.export('C:/Users/jwst2/Python/tesis/models/19042022 R007.pkl')"
   ]
  },
  {
   "cell_type": "code",
   "execution_count": 129,
   "id": "d078c146-cdf1-4e15-9779-0c5a348dae3a",
   "metadata": {},
   "outputs": [],
   "source": [
    "idx_train = []\n",
    "for i in dls.train.items:\n",
    "    idx_train.append(str(i)[-18:-4])\n",
    "true_label = []\n",
    "for i in dls.train.items:\n",
    "    if(\"urban\" in str(i)) :\n",
    "        true_label.append(1)\n",
    "    else :\n",
    "        true_label.append(0)"
   ]
  },
  {
   "cell_type": "code",
   "execution_count": 130,
   "id": "3e28cb4e-d7e3-4a81-bcc5-619fb44db83a",
   "metadata": {},
   "outputs": [
    {
     "data": {
      "text/html": [],
      "text/plain": [
       "<IPython.core.display.HTML object>"
      ]
     },
     "metadata": {},
     "output_type": "display_data"
    }
   ],
   "source": [
    "preds,_ = learn_rs.get_preds(ds_idx  = 0)\n",
    "result_train = preds.numpy()\n",
    "new_train = pd.DataFrame(result_train)"
   ]
  },
  {
   "cell_type": "code",
   "execution_count": 132,
   "id": "20f99e2d-a6eb-413d-8382-d652365497b3",
   "metadata": {},
   "outputs": [
    {
     "data": {
      "text/html": [
       "<div>\n",
       "<style scoped>\n",
       "    .dataframe tbody tr th:only-of-type {\n",
       "        vertical-align: middle;\n",
       "    }\n",
       "\n",
       "    .dataframe tbody tr th {\n",
       "        vertical-align: top;\n",
       "    }\n",
       "\n",
       "    .dataframe thead th {\n",
       "        text-align: right;\n",
       "    }\n",
       "</style>\n",
       "<table border=\"1\" class=\"dataframe\">\n",
       "  <thead>\n",
       "    <tr style=\"text-align: right;\">\n",
       "      <th></th>\n",
       "      <th>0</th>\n",
       "      <th>1</th>\n",
       "      <th>idsls</th>\n",
       "      <th>stat</th>\n",
       "      <th>iddesa</th>\n",
       "    </tr>\n",
       "  </thead>\n",
       "  <tbody>\n",
       "    <tr>\n",
       "      <th>0</th>\n",
       "      <td>0.455262</td>\n",
       "      <td>0.544738</td>\n",
       "      <td>32053100190023</td>\n",
       "      <td>1.0</td>\n",
       "      <td>3205310019</td>\n",
       "    </tr>\n",
       "    <tr>\n",
       "      <th>1</th>\n",
       "      <td>0.414910</td>\n",
       "      <td>0.585090</td>\n",
       "      <td>32061110010013</td>\n",
       "      <td>1.0</td>\n",
       "      <td>3206111001</td>\n",
       "    </tr>\n",
       "    <tr>\n",
       "      <th>2</th>\n",
       "      <td>0.033205</td>\n",
       "      <td>0.966794</td>\n",
       "      <td>32091300140021</td>\n",
       "      <td>1.0</td>\n",
       "      <td>3209130014</td>\n",
       "    </tr>\n",
       "    <tr>\n",
       "      <th>3</th>\n",
       "      <td>0.206451</td>\n",
       "      <td>0.793549</td>\n",
       "      <td>32091610060002</td>\n",
       "      <td>1.0</td>\n",
       "      <td>3209161006</td>\n",
       "    </tr>\n",
       "    <tr>\n",
       "      <th>4</th>\n",
       "      <td>0.244647</td>\n",
       "      <td>0.755352</td>\n",
       "      <td>32062610040007</td>\n",
       "      <td>1.0</td>\n",
       "      <td>3206261004</td>\n",
       "    </tr>\n",
       "  </tbody>\n",
       "</table>\n",
       "</div>"
      ],
      "text/plain": [
       "          0         1           idsls  stat      iddesa\n",
       "0  0.455262  0.544738  32053100190023   1.0  3205310019\n",
       "1  0.414910  0.585090  32061110010013   1.0  3206111001\n",
       "2  0.033205  0.966794  32091300140021   1.0  3209130014\n",
       "3  0.206451  0.793549  32091610060002   1.0  3209161006\n",
       "4  0.244647  0.755352  32062610040007   1.0  3206261004"
      ]
     },
     "execution_count": 132,
     "metadata": {},
     "output_type": "execute_result"
    }
   ],
   "source": [
    "df = new_train\n",
    "df[\"idsls\"] = idx_train \n",
    "df[\"stat\"] = round(df[1])\n",
    "df[\"iddesa\"] = df.idsls.str[:10]\n",
    "df.head()"
   ]
  },
  {
   "cell_type": "code",
   "execution_count": 133,
   "id": "38f2cd45-f1f2-45e2-813f-7922c5cbd351",
   "metadata": {},
   "outputs": [
    {
     "data": {
      "text/plain": [
       "1.0    157976\n",
       "0.0     20113\n",
       "Name: stat, dtype: int64"
      ]
     },
     "execution_count": 133,
     "metadata": {},
     "output_type": "execute_result"
    }
   ],
   "source": [
    "pd.value_counts(df.stat)"
   ]
  },
  {
   "cell_type": "code",
   "execution_count": 134,
   "id": "7c92d325-7b01-4f17-a177-ee6d728fe42a",
   "metadata": {},
   "outputs": [],
   "source": [
    "df[\"true_lab\"] = true_label"
   ]
  },
  {
   "cell_type": "code",
   "execution_count": 135,
   "id": "b0b32911-f8d2-48ef-99a3-5a97520bfd33",
   "metadata": {},
   "outputs": [
    {
     "data": {
      "text/plain": [
       "1    140261\n",
       "0     37828\n",
       "Name: true_lab, dtype: int64"
      ]
     },
     "execution_count": 135,
     "metadata": {},
     "output_type": "execute_result"
    }
   ],
   "source": [
    "pd.value_counts(df.true_lab)"
   ]
  },
  {
   "cell_type": "code",
   "execution_count": 136,
   "id": "5c7ff018-7f0a-4466-8bb6-1d75325f2f9d",
   "metadata": {},
   "outputs": [
    {
     "data": {
      "text/plain": [
       "0.8192532947009641"
      ]
     },
     "execution_count": 136,
     "metadata": {},
     "output_type": "execute_result"
    }
   ],
   "source": [
    "accuracy_score(df.stat.apply(int),df.true_lab.apply(int))"
   ]
  },
  {
   "cell_type": "code",
   "execution_count": 137,
   "id": "3dca71a1-630b-460c-8931-7dfbd34a11a7",
   "metadata": {},
   "outputs": [
    {
     "data": {
      "text/html": [
       "<div>\n",
       "<style scoped>\n",
       "    .dataframe tbody tr th:only-of-type {\n",
       "        vertical-align: middle;\n",
       "    }\n",
       "\n",
       "    .dataframe tbody tr th {\n",
       "        vertical-align: top;\n",
       "    }\n",
       "\n",
       "    .dataframe thead th {\n",
       "        text-align: right;\n",
       "    }\n",
       "</style>\n",
       "<table border=\"1\" class=\"dataframe\">\n",
       "  <thead>\n",
       "    <tr style=\"text-align: right;\">\n",
       "      <th></th>\n",
       "      <th>0</th>\n",
       "      <th>1</th>\n",
       "      <th>idsls</th>\n",
       "      <th>stat</th>\n",
       "      <th>iddesa</th>\n",
       "      <th>true_lab</th>\n",
       "    </tr>\n",
       "  </thead>\n",
       "  <tbody>\n",
       "    <tr>\n",
       "      <th>0</th>\n",
       "      <td>0.455262</td>\n",
       "      <td>0.544738</td>\n",
       "      <td>32053100190023</td>\n",
       "      <td>1.0</td>\n",
       "      <td>3205310019</td>\n",
       "      <td>0</td>\n",
       "    </tr>\n",
       "    <tr>\n",
       "      <th>1</th>\n",
       "      <td>0.414910</td>\n",
       "      <td>0.585090</td>\n",
       "      <td>32061110010013</td>\n",
       "      <td>1.0</td>\n",
       "      <td>3206111001</td>\n",
       "      <td>0</td>\n",
       "    </tr>\n",
       "    <tr>\n",
       "      <th>2</th>\n",
       "      <td>0.033205</td>\n",
       "      <td>0.966794</td>\n",
       "      <td>32091300140021</td>\n",
       "      <td>1.0</td>\n",
       "      <td>3209130014</td>\n",
       "      <td>1</td>\n",
       "    </tr>\n",
       "    <tr>\n",
       "      <th>3</th>\n",
       "      <td>0.206451</td>\n",
       "      <td>0.793549</td>\n",
       "      <td>32091610060002</td>\n",
       "      <td>1.0</td>\n",
       "      <td>3209161006</td>\n",
       "      <td>1</td>\n",
       "    </tr>\n",
       "    <tr>\n",
       "      <th>4</th>\n",
       "      <td>0.244647</td>\n",
       "      <td>0.755352</td>\n",
       "      <td>32062610040007</td>\n",
       "      <td>1.0</td>\n",
       "      <td>3206261004</td>\n",
       "      <td>0</td>\n",
       "    </tr>\n",
       "  </tbody>\n",
       "</table>\n",
       "</div>"
      ],
      "text/plain": [
       "          0         1           idsls  stat      iddesa  true_lab\n",
       "0  0.455262  0.544738  32053100190023   1.0  3205310019         0\n",
       "1  0.414910  0.585090  32061110010013   1.0  3206111001         0\n",
       "2  0.033205  0.966794  32091300140021   1.0  3209130014         1\n",
       "3  0.206451  0.793549  32091610060002   1.0  3209161006         1\n",
       "4  0.244647  0.755352  32062610040007   1.0  3206261004         0"
      ]
     },
     "execution_count": 137,
     "metadata": {},
     "output_type": "execute_result"
    }
   ],
   "source": [
    "df.head()"
   ]
  },
  {
   "cell_type": "code",
   "execution_count": 138,
   "id": "affbca92-8050-4123-a970-3a73af7c58d8",
   "metadata": {},
   "outputs": [],
   "source": [
    "desa_pred = df.groupby('iddesa').agg({'stat': ['mean'], 'true_lab': 'mean'})"
   ]
  },
  {
   "cell_type": "code",
   "execution_count": 139,
   "id": "350113ec-71bb-4833-9265-97f623769ad3",
   "metadata": {},
   "outputs": [],
   "source": [
    "desa_pred.columns = [\"pred\",\"true\"]"
   ]
  },
  {
   "cell_type": "code",
   "execution_count": 140,
   "id": "8f961ce6-462c-4329-aab7-b4e85855c565",
   "metadata": {},
   "outputs": [
    {
     "data": {
      "text/plain": [
       "1.0    157976\n",
       "0.0     20113\n",
       "Name: stat, dtype: int64"
      ]
     },
     "execution_count": 140,
     "metadata": {},
     "output_type": "execute_result"
    }
   ],
   "source": [
    "pd.value_counts(df.stat)"
   ]
  },
  {
   "cell_type": "code",
   "execution_count": 141,
   "id": "a7b68879-13b3-415e-b696-01c93222128f",
   "metadata": {},
   "outputs": [
    {
     "name": "stderr",
     "output_type": "stream",
     "text": [
      "C:\\Users\\jwst2\\AppData\\Local\\Temp/ipykernel_6696/935834860.py:4: SettingWithCopyWarning: \n",
      "A value is trying to be set on a copy of a slice from a DataFrame\n",
      "\n",
      "See the caveats in the documentation: https://pandas.pydata.org/pandas-docs/stable/user_guide/indexing.html#returning-a-view-versus-a-copy\n",
      "  desa_pred[\"label\"+str(value)][desa_pred.pred > value] = 1\n"
     ]
    }
   ],
   "source": [
    "for i in np.arange(0.1, 0.95, 0.025):\n",
    "    value = round(i,2)\n",
    "    desa_pred[\"label\"+str(value)] = 0\n",
    "    desa_pred[\"label\"+str(value)][desa_pred.pred > value] = 1"
   ]
  },
  {
   "cell_type": "code",
   "execution_count": 142,
   "id": "9f38fc2d-b2e4-4d21-ab21-96aa6da2ff5a",
   "metadata": {},
   "outputs": [
    {
     "data": {
      "text/html": [
       "<div>\n",
       "<style scoped>\n",
       "    .dataframe tbody tr th:only-of-type {\n",
       "        vertical-align: middle;\n",
       "    }\n",
       "\n",
       "    .dataframe tbody tr th {\n",
       "        vertical-align: top;\n",
       "    }\n",
       "\n",
       "    .dataframe thead th {\n",
       "        text-align: right;\n",
       "    }\n",
       "</style>\n",
       "<table border=\"1\" class=\"dataframe\">\n",
       "  <thead>\n",
       "    <tr style=\"text-align: right;\">\n",
       "      <th></th>\n",
       "      <th>pred</th>\n",
       "      <th>true</th>\n",
       "      <th>label0.1</th>\n",
       "      <th>label0.12</th>\n",
       "      <th>label0.15</th>\n",
       "      <th>label0.18</th>\n",
       "      <th>label0.2</th>\n",
       "      <th>label0.22</th>\n",
       "      <th>label0.25</th>\n",
       "      <th>label0.27</th>\n",
       "      <th>...</th>\n",
       "      <th>label0.7</th>\n",
       "      <th>label0.72</th>\n",
       "      <th>label0.75</th>\n",
       "      <th>label0.77</th>\n",
       "      <th>label0.8</th>\n",
       "      <th>label0.82</th>\n",
       "      <th>label0.85</th>\n",
       "      <th>label0.87</th>\n",
       "      <th>label0.9</th>\n",
       "      <th>label0.92</th>\n",
       "    </tr>\n",
       "    <tr>\n",
       "      <th>iddesa</th>\n",
       "      <th></th>\n",
       "      <th></th>\n",
       "      <th></th>\n",
       "      <th></th>\n",
       "      <th></th>\n",
       "      <th></th>\n",
       "      <th></th>\n",
       "      <th></th>\n",
       "      <th></th>\n",
       "      <th></th>\n",
       "      <th></th>\n",
       "      <th></th>\n",
       "      <th></th>\n",
       "      <th></th>\n",
       "      <th></th>\n",
       "      <th></th>\n",
       "      <th></th>\n",
       "      <th></th>\n",
       "      <th></th>\n",
       "      <th></th>\n",
       "      <th></th>\n",
       "    </tr>\n",
       "  </thead>\n",
       "  <tbody>\n",
       "    <tr>\n",
       "      <th>3201010001</th>\n",
       "      <td>0.192982</td>\n",
       "      <td>0.0</td>\n",
       "      <td>1</td>\n",
       "      <td>1</td>\n",
       "      <td>1</td>\n",
       "      <td>1</td>\n",
       "      <td>0</td>\n",
       "      <td>0</td>\n",
       "      <td>0</td>\n",
       "      <td>0</td>\n",
       "      <td>...</td>\n",
       "      <td>0</td>\n",
       "      <td>0</td>\n",
       "      <td>0</td>\n",
       "      <td>0</td>\n",
       "      <td>0</td>\n",
       "      <td>0</td>\n",
       "      <td>0</td>\n",
       "      <td>0</td>\n",
       "      <td>0</td>\n",
       "      <td>0</td>\n",
       "    </tr>\n",
       "    <tr>\n",
       "      <th>3201010002</th>\n",
       "      <td>0.681818</td>\n",
       "      <td>0.0</td>\n",
       "      <td>1</td>\n",
       "      <td>1</td>\n",
       "      <td>1</td>\n",
       "      <td>1</td>\n",
       "      <td>1</td>\n",
       "      <td>1</td>\n",
       "      <td>1</td>\n",
       "      <td>1</td>\n",
       "      <td>...</td>\n",
       "      <td>0</td>\n",
       "      <td>0</td>\n",
       "      <td>0</td>\n",
       "      <td>0</td>\n",
       "      <td>0</td>\n",
       "      <td>0</td>\n",
       "      <td>0</td>\n",
       "      <td>0</td>\n",
       "      <td>0</td>\n",
       "      <td>0</td>\n",
       "    </tr>\n",
       "    <tr>\n",
       "      <th>3201010003</th>\n",
       "      <td>0.675000</td>\n",
       "      <td>1.0</td>\n",
       "      <td>1</td>\n",
       "      <td>1</td>\n",
       "      <td>1</td>\n",
       "      <td>1</td>\n",
       "      <td>1</td>\n",
       "      <td>1</td>\n",
       "      <td>1</td>\n",
       "      <td>1</td>\n",
       "      <td>...</td>\n",
       "      <td>0</td>\n",
       "      <td>0</td>\n",
       "      <td>0</td>\n",
       "      <td>0</td>\n",
       "      <td>0</td>\n",
       "      <td>0</td>\n",
       "      <td>0</td>\n",
       "      <td>0</td>\n",
       "      <td>0</td>\n",
       "      <td>0</td>\n",
       "    </tr>\n",
       "    <tr>\n",
       "      <th>3201010004</th>\n",
       "      <td>0.808511</td>\n",
       "      <td>0.0</td>\n",
       "      <td>1</td>\n",
       "      <td>1</td>\n",
       "      <td>1</td>\n",
       "      <td>1</td>\n",
       "      <td>1</td>\n",
       "      <td>1</td>\n",
       "      <td>1</td>\n",
       "      <td>1</td>\n",
       "      <td>...</td>\n",
       "      <td>1</td>\n",
       "      <td>1</td>\n",
       "      <td>1</td>\n",
       "      <td>1</td>\n",
       "      <td>1</td>\n",
       "      <td>0</td>\n",
       "      <td>0</td>\n",
       "      <td>0</td>\n",
       "      <td>0</td>\n",
       "      <td>0</td>\n",
       "    </tr>\n",
       "    <tr>\n",
       "      <th>3201010005</th>\n",
       "      <td>0.793103</td>\n",
       "      <td>1.0</td>\n",
       "      <td>1</td>\n",
       "      <td>1</td>\n",
       "      <td>1</td>\n",
       "      <td>1</td>\n",
       "      <td>1</td>\n",
       "      <td>1</td>\n",
       "      <td>1</td>\n",
       "      <td>1</td>\n",
       "      <td>...</td>\n",
       "      <td>1</td>\n",
       "      <td>1</td>\n",
       "      <td>1</td>\n",
       "      <td>1</td>\n",
       "      <td>0</td>\n",
       "      <td>0</td>\n",
       "      <td>0</td>\n",
       "      <td>0</td>\n",
       "      <td>0</td>\n",
       "      <td>0</td>\n",
       "    </tr>\n",
       "  </tbody>\n",
       "</table>\n",
       "<p>5 rows × 36 columns</p>\n",
       "</div>"
      ],
      "text/plain": [
       "                pred  true  label0.1  label0.12  label0.15  label0.18  \\\n",
       "iddesa                                                                  \n",
       "3201010001  0.192982   0.0         1          1          1          1   \n",
       "3201010002  0.681818   0.0         1          1          1          1   \n",
       "3201010003  0.675000   1.0         1          1          1          1   \n",
       "3201010004  0.808511   0.0         1          1          1          1   \n",
       "3201010005  0.793103   1.0         1          1          1          1   \n",
       "\n",
       "            label0.2  label0.22  label0.25  label0.27  ...  label0.7  \\\n",
       "iddesa                                                 ...             \n",
       "3201010001         0          0          0          0  ...         0   \n",
       "3201010002         1          1          1          1  ...         0   \n",
       "3201010003         1          1          1          1  ...         0   \n",
       "3201010004         1          1          1          1  ...         1   \n",
       "3201010005         1          1          1          1  ...         1   \n",
       "\n",
       "            label0.72  label0.75  label0.77  label0.8  label0.82  label0.85  \\\n",
       "iddesa                                                                        \n",
       "3201010001          0          0          0         0          0          0   \n",
       "3201010002          0          0          0         0          0          0   \n",
       "3201010003          0          0          0         0          0          0   \n",
       "3201010004          1          1          1         1          0          0   \n",
       "3201010005          1          1          1         0          0          0   \n",
       "\n",
       "            label0.87  label0.9  label0.92  \n",
       "iddesa                                      \n",
       "3201010001          0         0          0  \n",
       "3201010002          0         0          0  \n",
       "3201010003          0         0          0  \n",
       "3201010004          0         0          0  \n",
       "3201010005          0         0          0  \n",
       "\n",
       "[5 rows x 36 columns]"
      ]
     },
     "execution_count": 142,
     "metadata": {},
     "output_type": "execute_result"
    }
   ],
   "source": [
    "desa_pred.head()"
   ]
  },
  {
   "cell_type": "code",
   "execution_count": 143,
   "id": "0af817bc-2bed-425f-98ee-224f2ae8990a",
   "metadata": {},
   "outputs": [
    {
     "name": "stdout",
     "output_type": "stream",
     "text": [
      "result label0.1\n",
      "accuracy : 0.7359194330473704\n",
      "precision : 0.7324611300720516\n",
      "result label0.12\n",
      "accuracy : 0.737597911227154\n",
      "precision : 0.7338020140604218\n",
      "result label0.15\n",
      "accuracy : 0.7409548675867214\n",
      "precision : 0.7365909524718458\n",
      "result label0.18\n",
      "accuracy : 0.7443118239462887\n",
      "precision : 0.7395893302629054\n",
      "result label0.2\n",
      "accuracy : 0.7456173069750093\n",
      "precision : 0.7413261372397841\n",
      "result label0.22\n",
      "accuracy : 0.747295785154793\n",
      "precision : 0.7428958051420839\n",
      "result label0.25\n",
      "accuracy : 0.752331219694144\n",
      "precision : 0.7472741433021807\n",
      "result label0.27\n",
      "accuracy : 0.7545691906005222\n",
      "precision : 0.7494136043784206\n",
      "result label0.3\n",
      "accuracy : 0.7579261469600895\n",
      "precision : 0.7524557956777996\n",
      "result label0.32\n",
      "accuracy : 0.7599776202909362\n",
      "precision : 0.7543859649122807\n",
      "result label0.35\n",
      "accuracy : 0.7661320402834764\n",
      "precision : 0.7595313741064337\n",
      "result label0.37\n",
      "accuracy : 0.7685565087653861\n",
      "precision : 0.762332734172159\n",
      "result label0.4\n",
      "accuracy : 0.7722864602760164\n",
      "precision : 0.766673383034455\n",
      "result label0.42\n",
      "accuracy : 0.7747109287579261\n",
      "precision : 0.7690129449838188\n",
      "result label0.45\n",
      "accuracy : 0.7778813875419619\n",
      "precision : 0.772551415190389\n",
      "result label0.47\n",
      "accuracy : 0.7806788511749347\n",
      "precision : 0.7759327593275933\n",
      "result label0.5\n",
      "accuracy : 0.7831033196568444\n",
      "precision : 0.7801947379324632\n",
      "result label0.52\n",
      "accuracy : 0.7847817978366282\n",
      "precision : 0.7822379367720466\n",
      "result label0.55\n",
      "accuracy : 0.7879522566206639\n",
      "precision : 0.7863283707276159\n",
      "result label0.57\n",
      "accuracy : 0.7896307348004475\n",
      "precision : 0.7886641382216604\n",
      "result label0.6\n",
      "accuracy : 0.7948526669153301\n",
      "precision : 0.7954739538855679\n",
      "result label0.62\n",
      "accuracy : 0.7969041402461768\n",
      "precision : 0.7984962406015037\n",
      "result label0.65\n",
      "accuracy : 0.7998881014546811\n",
      "precision : 0.8045325779036827\n",
      "result label0.67\n",
      "accuracy : 0.7993286087280865\n",
      "precision : 0.8064091308165057\n",
      "result label0.7\n",
      "accuracy : 0.798396120850429\n",
      "precision : 0.8097354967770616\n",
      "result label0.72\n",
      "accuracy : 0.8002610966057441\n",
      "precision : 0.814340301191279\n",
      "result label0.75\n",
      "accuracy : 0.8015665796344648\n",
      "precision : 0.8220027560863574\n",
      "result label0.77\n",
      "accuracy : 0.8023125699365908\n",
      "precision : 0.8253012048192772\n",
      "result label0.8\n",
      "accuracy : 0.7972771353972399\n",
      "precision : 0.8298932384341637\n",
      "result label0.82\n",
      "accuracy : 0.7948526669153301\n",
      "precision : 0.8325324363286881\n",
      "result label0.85\n",
      "accuracy : 0.7911227154046997\n",
      "precision : 0.841961174713788\n",
      "result label0.87\n",
      "accuracy : 0.7875792614696009\n",
      "precision : 0.8503209242618742\n",
      "result label0.9\n",
      "accuracy : 0.7748974263334577\n",
      "precision : 0.861647186735526\n",
      "result label0.92\n",
      "accuracy : 0.7651995524058187\n",
      "precision : 0.8709127096957634\n"
     ]
    }
   ],
   "source": [
    "for j in range(2,36):\n",
    "    print(\"result\", desa_pred.columns[j])\n",
    "    print(\"accuracy :\",  accuracy_score( desa_pred.true,desa_pred.iloc[:,[j]]))\n",
    "    print(\"precision :\",  precision_score( desa_pred.true,desa_pred.iloc[:,[j]]))"
   ]
  },
  {
   "cell_type": "markdown",
   "id": "decbfbdb-edf1-4d79-8a94-f2218736d743",
   "metadata": {},
   "source": [
    "### Test result resnet"
   ]
  },
  {
   "cell_type": "code",
   "execution_count": 144,
   "id": "8e08d29c-1d52-4827-a1d6-9ba55896590a",
   "metadata": {},
   "outputs": [],
   "source": [
    "path_pred = Path.cwd() / (\"C:/Users/jwst2/Python/tesis/jpg/urbanrural/test sls 10m ES)\n",
    "test_files = [fn for fn in sorted((path_pred).glob('**/*')) if fn.is_file()]"
   ]
  },
  {
   "cell_type": "code",
   "execution_count": 145,
   "id": "5d281420-8e44-4148-af77-1c018ccafce2",
   "metadata": {},
   "outputs": [],
   "source": [
    "test_dl = learn_rs.dls.test_dl(test_files)"
   ]
  },
  {
   "cell_type": "code",
   "execution_count": 146,
   "id": "ea4b07bd-530b-411f-a222-35f52c469ab8",
   "metadata": {},
   "outputs": [
    {
     "data": {
      "text/html": [],
      "text/plain": [
       "<IPython.core.display.HTML object>"
      ]
     },
     "metadata": {},
     "output_type": "display_data"
    }
   ],
   "source": [
    "preds,_ = learn_rs.get_preds(dl  =test_dl)"
   ]
  },
  {
   "cell_type": "code",
   "execution_count": 147,
   "id": "48789ee4-87ce-4b23-8687-8fa9bfa84ece",
   "metadata": {},
   "outputs": [],
   "source": [
    "idx_test = []\n",
    "for i in test_files:\n",
    "    idx_test.append(str(i)[-18:-4])\n",
    "true_label = []\n",
    "for i in test_files:\n",
    "    if(\"urban\" in str(i)) :\n",
    "        true_label.append(1)\n",
    "    else :\n",
    "        true_label.append(0)"
   ]
  },
  {
   "cell_type": "code",
   "execution_count": 148,
   "id": "add6308d-363b-4c70-a4cd-bdb803434f86",
   "metadata": {},
   "outputs": [],
   "source": [
    "test = pd.DataFrame(preds)"
   ]
  },
  {
   "cell_type": "code",
   "execution_count": 149,
   "id": "489d3638-b296-40d1-bb6f-21f38de589b4",
   "metadata": {},
   "outputs": [],
   "source": [
    "test[\"idsls\"] = idx_test\n",
    "test[\"true_lab\"] = true_label"
   ]
  },
  {
   "cell_type": "code",
   "execution_count": 150,
   "id": "9083ff1b-efa9-4d55-840e-77c133f2df6c",
   "metadata": {},
   "outputs": [],
   "source": [
    "test[\"iddesa\"] = test.idsls.str[:10]\n",
    "test[\"stat\"] = round(test[1])"
   ]
  },
  {
   "cell_type": "code",
   "execution_count": 151,
   "id": "93121c3f-71f8-485f-a447-0d0867b08e3b",
   "metadata": {},
   "outputs": [
    {
     "data": {
      "text/html": [
       "<div>\n",
       "<style scoped>\n",
       "    .dataframe tbody tr th:only-of-type {\n",
       "        vertical-align: middle;\n",
       "    }\n",
       "\n",
       "    .dataframe tbody tr th {\n",
       "        vertical-align: top;\n",
       "    }\n",
       "\n",
       "    .dataframe thead th {\n",
       "        text-align: right;\n",
       "    }\n",
       "</style>\n",
       "<table border=\"1\" class=\"dataframe\">\n",
       "  <thead>\n",
       "    <tr style=\"text-align: right;\">\n",
       "      <th></th>\n",
       "      <th>0</th>\n",
       "      <th>1</th>\n",
       "      <th>idsls</th>\n",
       "      <th>true_lab</th>\n",
       "      <th>iddesa</th>\n",
       "      <th>stat</th>\n",
       "    </tr>\n",
       "  </thead>\n",
       "  <tbody>\n",
       "    <tr>\n",
       "      <th>0</th>\n",
       "      <td>0.738043</td>\n",
       "      <td>0.261957</td>\n",
       "      <td>32010100020001</td>\n",
       "      <td>0</td>\n",
       "      <td>3201010002</td>\n",
       "      <td>0.0</td>\n",
       "    </tr>\n",
       "    <tr>\n",
       "      <th>1</th>\n",
       "      <td>0.225527</td>\n",
       "      <td>0.774473</td>\n",
       "      <td>32010100020002</td>\n",
       "      <td>0</td>\n",
       "      <td>3201010002</td>\n",
       "      <td>1.0</td>\n",
       "    </tr>\n",
       "    <tr>\n",
       "      <th>2</th>\n",
       "      <td>0.659382</td>\n",
       "      <td>0.340618</td>\n",
       "      <td>32010100020003</td>\n",
       "      <td>0</td>\n",
       "      <td>3201010002</td>\n",
       "      <td>0.0</td>\n",
       "    </tr>\n",
       "    <tr>\n",
       "      <th>3</th>\n",
       "      <td>0.777935</td>\n",
       "      <td>0.222065</td>\n",
       "      <td>32010100020004</td>\n",
       "      <td>0</td>\n",
       "      <td>3201010002</td>\n",
       "      <td>0.0</td>\n",
       "    </tr>\n",
       "    <tr>\n",
       "      <th>4</th>\n",
       "      <td>0.722312</td>\n",
       "      <td>0.277688</td>\n",
       "      <td>32010100020005</td>\n",
       "      <td>0</td>\n",
       "      <td>3201010002</td>\n",
       "      <td>0.0</td>\n",
       "    </tr>\n",
       "  </tbody>\n",
       "</table>\n",
       "</div>"
      ],
      "text/plain": [
       "          0         1           idsls  true_lab      iddesa  stat\n",
       "0  0.738043  0.261957  32010100020001         0  3201010002   0.0\n",
       "1  0.225527  0.774473  32010100020002         0  3201010002   1.0\n",
       "2  0.659382  0.340618  32010100020003         0  3201010002   0.0\n",
       "3  0.777935  0.222065  32010100020004         0  3201010002   0.0\n",
       "4  0.722312  0.277688  32010100020005         0  3201010002   0.0"
      ]
     },
     "execution_count": 151,
     "metadata": {},
     "output_type": "execute_result"
    }
   ],
   "source": [
    "test.head()"
   ]
  },
  {
   "cell_type": "code",
   "execution_count": 152,
   "id": "9d920fa3-0512-46b5-a646-e770b47fbadf",
   "metadata": {},
   "outputs": [],
   "source": [
    "desa_pred_test = test.groupby('iddesa').agg({'stat': ['mean'], 'true_lab': 'mean'})"
   ]
  },
  {
   "cell_type": "code",
   "execution_count": 153,
   "id": "09a74a67-13e4-4214-847d-bb8140d04f92",
   "metadata": {},
   "outputs": [],
   "source": [
    "desa_pred_test.columns = [\"pred\",\"true\"]"
   ]
  },
  {
   "cell_type": "code",
   "execution_count": 154,
   "id": "1c262931-209a-423a-9a95-f03963d89841",
   "metadata": {},
   "outputs": [
    {
     "name": "stderr",
     "output_type": "stream",
     "text": [
      "C:\\Users\\jwst2\\AppData\\Local\\Temp/ipykernel_6696/2742235302.py:2: SettingWithCopyWarning: \n",
      "A value is trying to be set on a copy of a slice from a DataFrame\n",
      "\n",
      "See the caveats in the documentation: https://pandas.pydata.org/pandas-docs/stable/user_guide/indexing.html#returning-a-view-versus-a-copy\n",
      "  desa_pred_test[\"pred_lab\"][desa_pred_test.pred > 0.775] = 1\n"
     ]
    }
   ],
   "source": [
    "desa_pred_test[\"pred_lab\"] = 0\n",
    "desa_pred_test[\"pred_lab\"][desa_pred_test.pred > 0.775] = 1"
   ]
  },
  {
   "cell_type": "code",
   "execution_count": 157,
   "id": "3fd55f55-62c5-493a-af20-32c852e32203",
   "metadata": {},
   "outputs": [
    {
     "name": "stdout",
     "output_type": "stream",
     "text": [
      "accuracy : 0.7751677852348994\n",
      "balanced_accuracy_score : 0.7450832600533199\n",
      "precision : 0.8660049627791563\n",
      "recall : 0.8135198135198135\n",
      "f1 : 0.8389423076923077\n",
      "rocauc : 0.74508326005332\n"
     ]
    }
   ],
   "source": [
    "print(\"accuracy :\",  accuracy_score( desa_pred_test.true,desa_pred_test.pred_lab))\n",
    "print(\"balanced_accuracy_score :\",  balanced_accuracy_score( desa_pred_test.true,desa_pred_test.pred_lab))\n",
    "print(\"precision :\",  precision_score( desa_pred_test.true,desa_pred_test.pred_lab))\n",
    "print(\"recall :\",  recall_score( desa_pred_test.true,desa_pred_test.pred_lab))\n",
    "print(\"f1 :\",  f1_score( desa_pred_test.true,desa_pred_test.pred_lab))\n",
    "print(\"rocauc :\",  roc_auc_score( desa_pred_test.true,desa_pred_test.pred_lab))"
   ]
  },
  {
   "cell_type": "code",
   "execution_count": 156,
   "id": "2ec906e7-3916-481b-84c2-2a1b1cfb48aa",
   "metadata": {},
   "outputs": [],
   "source": [
    "accuracy : 0.7751677852348994\n",
    "balanced_accuracy_score : 0.7450832600533199\n",
    "precision : 0.8660049627791563\n",
    "recall : 0.8135198135198135\n",
    "f1 : 0.8389423076923077\n",
    "rocauc : 0.74508326005332"
   ]
  },
  {
   "cell_type": "code",
   "execution_count": null,
   "id": "b5786b09-4165-4afd-895f-d16c48f3d4ec",
   "metadata": {},
   "outputs": [],
   "source": []
  }
 ],
 "metadata": {
  "kernelspec": {
   "display_name": "Python 3 (ipykernel)",
   "language": "python",
   "name": "python3"
  },
  "language_info": {
   "codemirror_mode": {
    "name": "ipython",
    "version": 3
   },
   "file_extension": ".py",
   "mimetype": "text/x-python",
   "name": "python",
   "nbconvert_exporter": "python",
   "pygments_lexer": "ipython3",
   "version": "3.9.7"
  }
 },
 "nbformat": 4,
 "nbformat_minor": 5
}
