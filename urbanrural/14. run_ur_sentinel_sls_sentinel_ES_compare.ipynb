{
 "cells": [
  {
   "cell_type": "code",
   "execution_count": 1,
   "id": "6b5301ad-0967-4fa2-b602-24fae3844253",
   "metadata": {},
   "outputs": [],
   "source": [
    "import fastai\n",
    "from fastai.vision.all import *\n",
    "import pandas as pd"
   ]
  },
  {
   "cell_type": "code",
   "execution_count": 2,
   "id": "4c6126f5-6665-4423-99f7-6845baa5e650",
   "metadata": {},
   "outputs": [],
   "source": [
    "from sklearn.metrics import accuracy_score, precision_score, recall_score, f1_score,roc_auc_score,balanced_accuracy_score\n",
    "import numpy as np"
   ]
  },
  {
   "cell_type": "code",
   "execution_count": 3,
   "id": "6a8c1fce-8553-43f4-b944-bc7741fdd266",
   "metadata": {},
   "outputs": [
    {
     "name": "stderr",
     "output_type": "stream",
     "text": [
      "C:\\Users\\jwst2\\anaconda3\\envs\\datasc\\lib\\site-packages\\IPython\\core\\interactiveshell.py:3444: DtypeWarning: Columns (19,20,21) have mixed types.Specify dtype option on import or set low_memory=False.\n",
      "  exec(code_obj, self.user_global_ns, self.user_ns)\n"
     ]
    }
   ],
   "source": [
    "sls = pd.read_csv(\"C:/Users/jwst2/Python/tesis/dataset/3200_sls.csv\")"
   ]
  },
  {
   "cell_type": "code",
   "execution_count": 4,
   "id": "c0978002-6bf2-40fe-9d24-89fb3e7482f4",
   "metadata": {},
   "outputs": [
    {
     "data": {
      "text/html": [
       "<div>\n",
       "<style scoped>\n",
       "    .dataframe tbody tr th:only-of-type {\n",
       "        vertical-align: middle;\n",
       "    }\n",
       "\n",
       "    .dataframe tbody tr th {\n",
       "        vertical-align: top;\n",
       "    }\n",
       "\n",
       "    .dataframe thead th {\n",
       "        text-align: right;\n",
       "    }\n",
       "</style>\n",
       "<table border=\"1\" class=\"dataframe\">\n",
       "  <thead>\n",
       "    <tr style=\"text-align: right;\">\n",
       "      <th></th>\n",
       "      <th>id</th>\n",
       "      <th>kdprov</th>\n",
       "      <th>kdkab</th>\n",
       "      <th>kdkec</th>\n",
       "      <th>kddesa</th>\n",
       "      <th>iddesa</th>\n",
       "      <th>idslsnon</th>\n",
       "      <th>nmslsnon</th>\n",
       "      <th>ketua_sls</th>\n",
       "      <th>jenis</th>\n",
       "      <th>...</th>\n",
       "      <th>j_bstt</th>\n",
       "      <th>j_bsbtt</th>\n",
       "      <th>j_bstt_k</th>\n",
       "      <th>j_bskeko</th>\n",
       "      <th>j_segmen</th>\n",
       "      <th>dom</th>\n",
       "      <th>ldom</th>\n",
       "      <th>j_m_all</th>\n",
       "      <th>j_m_30</th>\n",
       "      <th>klas_ur</th>\n",
       "    </tr>\n",
       "  </thead>\n",
       "  <tbody>\n",
       "    <tr>\n",
       "      <th>0</th>\n",
       "      <td>263884</td>\n",
       "      <td>32</td>\n",
       "      <td>1</td>\n",
       "      <td>10</td>\n",
       "      <td>1</td>\n",
       "      <td>3201010001</td>\n",
       "      <td>100</td>\n",
       "      <td>RT 001 RW 001 DUSUN 1</td>\n",
       "      <td>MUHAMAD RAFLI HIDAYAT</td>\n",
       "      <td>1</td>\n",
       "      <td>...</td>\n",
       "      <td>39</td>\n",
       "      <td>1</td>\n",
       "      <td>2</td>\n",
       "      <td>4</td>\n",
       "      <td>1</td>\n",
       "      <td>1</td>\n",
       "      <td>1</td>\n",
       "      <td>51</td>\n",
       "      <td>51</td>\n",
       "      <td>2</td>\n",
       "    </tr>\n",
       "    <tr>\n",
       "      <th>1</th>\n",
       "      <td>263885</td>\n",
       "      <td>32</td>\n",
       "      <td>1</td>\n",
       "      <td>10</td>\n",
       "      <td>1</td>\n",
       "      <td>3201010001</td>\n",
       "      <td>200</td>\n",
       "      <td>RT 002 RW 001 DUSUN 1</td>\n",
       "      <td>NURMAN</td>\n",
       "      <td>1</td>\n",
       "      <td>...</td>\n",
       "      <td>60</td>\n",
       "      <td>2</td>\n",
       "      <td>0</td>\n",
       "      <td>7</td>\n",
       "      <td>1</td>\n",
       "      <td>1</td>\n",
       "      <td>1</td>\n",
       "      <td>62</td>\n",
       "      <td>61</td>\n",
       "      <td>2</td>\n",
       "    </tr>\n",
       "    <tr>\n",
       "      <th>2</th>\n",
       "      <td>263886</td>\n",
       "      <td>32</td>\n",
       "      <td>1</td>\n",
       "      <td>10</td>\n",
       "      <td>1</td>\n",
       "      <td>3201010001</td>\n",
       "      <td>300</td>\n",
       "      <td>RT 003 RW 001 DUSUN 1</td>\n",
       "      <td>SAENUDIN</td>\n",
       "      <td>1</td>\n",
       "      <td>...</td>\n",
       "      <td>50</td>\n",
       "      <td>2</td>\n",
       "      <td>0</td>\n",
       "      <td>6</td>\n",
       "      <td>1</td>\n",
       "      <td>1</td>\n",
       "      <td>1</td>\n",
       "      <td>58</td>\n",
       "      <td>57</td>\n",
       "      <td>2</td>\n",
       "    </tr>\n",
       "    <tr>\n",
       "      <th>3</th>\n",
       "      <td>263887</td>\n",
       "      <td>32</td>\n",
       "      <td>1</td>\n",
       "      <td>10</td>\n",
       "      <td>1</td>\n",
       "      <td>3201010001</td>\n",
       "      <td>400</td>\n",
       "      <td>RT 004 RW 001 DUSUN 1</td>\n",
       "      <td>AEP</td>\n",
       "      <td>1</td>\n",
       "      <td>...</td>\n",
       "      <td>27</td>\n",
       "      <td>1</td>\n",
       "      <td>0</td>\n",
       "      <td>1</td>\n",
       "      <td>1</td>\n",
       "      <td>1</td>\n",
       "      <td>1</td>\n",
       "      <td>31</td>\n",
       "      <td>31</td>\n",
       "      <td>2</td>\n",
       "    </tr>\n",
       "    <tr>\n",
       "      <th>4</th>\n",
       "      <td>263888</td>\n",
       "      <td>32</td>\n",
       "      <td>1</td>\n",
       "      <td>10</td>\n",
       "      <td>1</td>\n",
       "      <td>3201010001</td>\n",
       "      <td>500</td>\n",
       "      <td>RT 005 RW 001 DUSUN 1</td>\n",
       "      <td>JEJEN JAELANI</td>\n",
       "      <td>1</td>\n",
       "      <td>...</td>\n",
       "      <td>49</td>\n",
       "      <td>7</td>\n",
       "      <td>3</td>\n",
       "      <td>8</td>\n",
       "      <td>3</td>\n",
       "      <td>1</td>\n",
       "      <td>1</td>\n",
       "      <td>63</td>\n",
       "      <td>57</td>\n",
       "      <td>2</td>\n",
       "    </tr>\n",
       "  </tbody>\n",
       "</table>\n",
       "<p>5 rows × 36 columns</p>\n",
       "</div>"
      ],
      "text/plain": [
       "       id  kdprov  kdkab  kdkec  kddesa      iddesa  idslsnon  \\\n",
       "0  263884      32      1     10       1  3201010001       100   \n",
       "1  263885      32      1     10       1  3201010001       200   \n",
       "2  263886      32      1     10       1  3201010001       300   \n",
       "3  263887      32      1     10       1  3201010001       400   \n",
       "4  263888      32      1     10       1  3201010001       500   \n",
       "\n",
       "                nmslsnon              ketua_sls  jenis  ...  j_bstt  j_bsbtt  \\\n",
       "0  RT 001 RW 001 DUSUN 1  MUHAMAD RAFLI HIDAYAT      1  ...      39        1   \n",
       "1  RT 002 RW 001 DUSUN 1                 NURMAN      1  ...      60        2   \n",
       "2  RT 003 RW 001 DUSUN 1               SAENUDIN      1  ...      50        2   \n",
       "3  RT 004 RW 001 DUSUN 1                    AEP      1  ...      27        1   \n",
       "4  RT 005 RW 001 DUSUN 1          JEJEN JAELANI      1  ...      49        7   \n",
       "\n",
       "   j_bstt_k  j_bskeko  j_segmen  dom  ldom  j_m_all j_m_30 klas_ur  \n",
       "0         2         4         1    1     1       51     51       2  \n",
       "1         0         7         1    1     1       62     61       2  \n",
       "2         0         6         1    1     1       58     57       2  \n",
       "3         0         1         1    1     1       31     31       2  \n",
       "4         3         8         3    1     1       63     57       2  \n",
       "\n",
       "[5 rows x 36 columns]"
      ]
     },
     "execution_count": 4,
     "metadata": {},
     "output_type": "execute_result"
    }
   ],
   "source": [
    "sls.head()"
   ]
  },
  {
   "cell_type": "code",
   "execution_count": 5,
   "id": "240cf8ef-95ee-4410-9819-9b4e21492fca",
   "metadata": {},
   "outputs": [
    {
     "data": {
      "text/plain": [
       "(5957,)"
      ]
     },
     "execution_count": 5,
     "metadata": {},
     "output_type": "execute_result"
    }
   ],
   "source": [
    "sls.iddesa.unique().shape"
   ]
  },
  {
   "cell_type": "code",
   "execution_count": 6,
   "id": "72562be3-1536-414b-8a5c-947667fdf9b8",
   "metadata": {},
   "outputs": [],
   "source": [
    "ur_path = \"C:/Users/jwst2/Python/tesis/jpg/UR/14. Resolution compare sls sentinel\"\n",
    "gen_path =  \"C:/Users/jwst2/Python/tesis/jpg/general sls sentinel 10m ES RES/\"\n",
    "test_path = 'C:/Users/jwst2/Python/tesis/jpg/UR/test sls sentinel ES RES/'\n",
    "model_code_resnet = \"R014\"\n",
    "model_code_dense = \"D014\""
   ]
  },
  {
   "cell_type": "code",
   "execution_count": 7,
   "id": "a0541718-1257-40ba-aa83-5839cd13a996",
   "metadata": {},
   "outputs": [],
   "source": [
    "os.chdir(ur_path)\n",
    "if os.path.isdir('urban') is False:\n",
    "    os.makedirs('urban')\n",
    "    os.makedirs('rural')"
   ]
  },
  {
   "cell_type": "code",
   "execution_count": 8,
   "id": "f3e6e565-6104-4b37-b6ad-9cb89eb373b9",
   "metadata": {},
   "outputs": [
    {
     "name": "stderr",
     "output_type": "stream",
     "text": [
      "1it [14:02, 842.57s/it]\n"
     ]
    }
   ],
   "source": [
    "yourpath = gen_path\n",
    "from tqdm import tqdm\n",
    "\n",
    "for root, dirs, files in tqdm(os.walk(yourpath, topdown=False)):\n",
    "    for name in files:\n",
    "        try :\n",
    "            if(sls.klas_ur[sls.iddesa == int(name.replace(\".jpg\",\"\")[:10])].iloc[0] == 1):\n",
    "                shutil.copy(os.path.join(root, name), ur_path+\"/urban/\"+name)\n",
    "            elif(sls.klas_ur[sls.iddesa == int(name.replace(\".jpg\",\"\")[:10])].iloc[0] == 2):\n",
    "                shutil.copy(os.path.join(root, name),ur_path+ \"/rural/\"+name)\n",
    "        except Exception:\n",
    "            print(name)\n",
    "            pass "
   ]
  },
  {
   "cell_type": "code",
   "execution_count": 9,
   "id": "6648166b-b5f9-4fbb-aa9a-a1f15bdbcbb9",
   "metadata": {},
   "outputs": [],
   "source": [
    "split = pd.read_csv(\"C:/Users/jwst2/Python/tesis/dataset/01 datasplit_ur_desa_uncovered.csv\")"
   ]
  },
  {
   "cell_type": "code",
   "execution_count": 10,
   "id": "6fbebf89-8e0f-4347-9b7c-1922f56185ea",
   "metadata": {},
   "outputs": [
    {
     "data": {
      "text/html": [
       "<div>\n",
       "<style scoped>\n",
       "    .dataframe tbody tr th:only-of-type {\n",
       "        vertical-align: middle;\n",
       "    }\n",
       "\n",
       "    .dataframe tbody tr th {\n",
       "        vertical-align: top;\n",
       "    }\n",
       "\n",
       "    .dataframe thead th {\n",
       "        text-align: right;\n",
       "    }\n",
       "</style>\n",
       "<table border=\"1\" class=\"dataframe\">\n",
       "  <thead>\n",
       "    <tr style=\"text-align: right;\">\n",
       "      <th></th>\n",
       "      <th>iddesa</th>\n",
       "      <th>klas_ur</th>\n",
       "      <th>stat</th>\n",
       "    </tr>\n",
       "  </thead>\n",
       "  <tbody>\n",
       "    <tr>\n",
       "      <th>0</th>\n",
       "      <td>3207110010</td>\n",
       "      <td>1</td>\n",
       "      <td>train</td>\n",
       "    </tr>\n",
       "    <tr>\n",
       "      <th>1</th>\n",
       "      <td>3205200018</td>\n",
       "      <td>1</td>\n",
       "      <td>train</td>\n",
       "    </tr>\n",
       "    <tr>\n",
       "      <th>2</th>\n",
       "      <td>3210070011</td>\n",
       "      <td>1</td>\n",
       "      <td>train</td>\n",
       "    </tr>\n",
       "    <tr>\n",
       "      <th>3</th>\n",
       "      <td>3211010004</td>\n",
       "      <td>1</td>\n",
       "      <td>train</td>\n",
       "    </tr>\n",
       "    <tr>\n",
       "      <th>4</th>\n",
       "      <td>3201290007</td>\n",
       "      <td>1</td>\n",
       "      <td>train</td>\n",
       "    </tr>\n",
       "  </tbody>\n",
       "</table>\n",
       "</div>"
      ],
      "text/plain": [
       "       iddesa  klas_ur   stat\n",
       "0  3207110010        1  train\n",
       "1  3205200018        1  train\n",
       "2  3210070011        1  train\n",
       "3  3211010004        1  train\n",
       "4  3201290007        1  train"
      ]
     },
     "execution_count": 10,
     "metadata": {},
     "output_type": "execute_result"
    }
   ],
   "source": [
    "split.head()"
   ]
  },
  {
   "cell_type": "code",
   "execution_count": 11,
   "id": "5ca94f42-5c7c-463f-8e55-0f55e402c91e",
   "metadata": {},
   "outputs": [],
   "source": [
    "split_test =split[split[\"stat\"] == \"test\"]"
   ]
  },
  {
   "cell_type": "code",
   "execution_count": 12,
   "id": "b6c07aea-b6ac-4c82-96dd-9e40b324ef4d",
   "metadata": {},
   "outputs": [
    {
     "data": {
      "text/html": [
       "<div>\n",
       "<style scoped>\n",
       "    .dataframe tbody tr th:only-of-type {\n",
       "        vertical-align: middle;\n",
       "    }\n",
       "\n",
       "    .dataframe tbody tr th {\n",
       "        vertical-align: top;\n",
       "    }\n",
       "\n",
       "    .dataframe thead th {\n",
       "        text-align: right;\n",
       "    }\n",
       "</style>\n",
       "<table border=\"1\" class=\"dataframe\">\n",
       "  <thead>\n",
       "    <tr style=\"text-align: right;\">\n",
       "      <th></th>\n",
       "      <th>iddesa</th>\n",
       "      <th>klas_ur</th>\n",
       "      <th>stat</th>\n",
       "    </tr>\n",
       "  </thead>\n",
       "  <tbody>\n",
       "    <tr>\n",
       "      <th>4840</th>\n",
       "      <td>3213080006</td>\n",
       "      <td>2</td>\n",
       "      <td>test</td>\n",
       "    </tr>\n",
       "    <tr>\n",
       "      <th>4841</th>\n",
       "      <td>3212081006</td>\n",
       "      <td>2</td>\n",
       "      <td>test</td>\n",
       "    </tr>\n",
       "    <tr>\n",
       "      <th>4842</th>\n",
       "      <td>3276050006</td>\n",
       "      <td>1</td>\n",
       "      <td>test</td>\n",
       "    </tr>\n",
       "    <tr>\n",
       "      <th>4843</th>\n",
       "      <td>3203010002</td>\n",
       "      <td>2</td>\n",
       "      <td>test</td>\n",
       "    </tr>\n",
       "    <tr>\n",
       "      <th>4844</th>\n",
       "      <td>3208161002</td>\n",
       "      <td>1</td>\n",
       "      <td>test</td>\n",
       "    </tr>\n",
       "    <tr>\n",
       "      <th>...</th>\n",
       "      <td>...</td>\n",
       "      <td>...</td>\n",
       "      <td>...</td>\n",
       "    </tr>\n",
       "    <tr>\n",
       "      <th>5373</th>\n",
       "      <td>3276040009</td>\n",
       "      <td>1</td>\n",
       "      <td>test</td>\n",
       "    </tr>\n",
       "    <tr>\n",
       "      <th>5374</th>\n",
       "      <td>3214070007</td>\n",
       "      <td>1</td>\n",
       "      <td>test</td>\n",
       "    </tr>\n",
       "    <tr>\n",
       "      <th>5375</th>\n",
       "      <td>3209120023</td>\n",
       "      <td>1</td>\n",
       "      <td>test</td>\n",
       "    </tr>\n",
       "    <tr>\n",
       "      <th>5376</th>\n",
       "      <td>3202280008</td>\n",
       "      <td>1</td>\n",
       "      <td>test</td>\n",
       "    </tr>\n",
       "    <tr>\n",
       "      <th>5377</th>\n",
       "      <td>3201150002</td>\n",
       "      <td>2</td>\n",
       "      <td>test</td>\n",
       "    </tr>\n",
       "  </tbody>\n",
       "</table>\n",
       "<p>538 rows × 3 columns</p>\n",
       "</div>"
      ],
      "text/plain": [
       "          iddesa  klas_ur  stat\n",
       "4840  3213080006        2  test\n",
       "4841  3212081006        2  test\n",
       "4842  3276050006        1  test\n",
       "4843  3203010002        2  test\n",
       "4844  3208161002        1  test\n",
       "...          ...      ...   ...\n",
       "5373  3276040009        1  test\n",
       "5374  3214070007        1  test\n",
       "5375  3209120023        1  test\n",
       "5376  3202280008        1  test\n",
       "5377  3201150002        2  test\n",
       "\n",
       "[538 rows x 3 columns]"
      ]
     },
     "execution_count": 12,
     "metadata": {},
     "output_type": "execute_result"
    }
   ],
   "source": [
    "split_test"
   ]
  },
  {
   "cell_type": "markdown",
   "id": "0e6d5e33-4b9c-47c6-8044-397ec50d998a",
   "metadata": {},
   "source": [
    "### Create test"
   ]
  },
  {
   "cell_type": "code",
   "execution_count": 13,
   "id": "573f8577-2f97-4e53-9603-80425b934923",
   "metadata": {},
   "outputs": [],
   "source": [
    "os.chdir(test_path)\n",
    "if os.path.isdir('urban') is False:\n",
    "    os.makedirs('urban')\n",
    "    os.makedirs('rural')"
   ]
  },
  {
   "cell_type": "code",
   "execution_count": 14,
   "id": "3b7a980f-6276-4c83-8475-dc8b814f5d0d",
   "metadata": {},
   "outputs": [
    {
     "name": "stderr",
     "output_type": "stream",
     "text": [
      "1it [00:26, 26.09s/it]\n"
     ]
    }
   ],
   "source": [
    "yourpath = ur_path+ \"/rural\"\n",
    "from tqdm import tqdm\n",
    "for root, dirs, files in tqdm(os.walk(yourpath, topdown=False)):\n",
    "    for name in files:\n",
    "        try :\n",
    "            if(split_test.iddesa.astype(str).str.contains(name[:10]).sum() > 0):\n",
    "                shutil.move(os.path.join(root, name),test_path + \"/rural/\"+name)\n",
    "        except Exception:\n",
    "            print(name)\n",
    "            pass "
   ]
  },
  {
   "cell_type": "code",
   "execution_count": 15,
   "id": "13950442-0335-4377-b819-747b94eff3e3",
   "metadata": {},
   "outputs": [
    {
     "name": "stderr",
     "output_type": "stream",
     "text": [
      "1it [01:56, 116.82s/it]\n"
     ]
    }
   ],
   "source": [
    "yourpath =  ur_path+ \"/urban\"\n",
    "from tqdm import tqdm\n",
    "for root, dirs, files in tqdm(os.walk(yourpath, topdown=False)):\n",
    "    for name in files:\n",
    "        try :\n",
    "            if(split_test.iddesa.astype(str).str.contains(name[:10]).sum() > 0):\n",
    "                shutil.move(os.path.join(root, name), test_path +\"/urban/\"+name)\n",
    "        except Exception:\n",
    "            print(name)\n",
    "            pass "
   ]
  },
  {
   "cell_type": "markdown",
   "id": "c4db6ad9-230f-4fb1-8802-d4d94084ab93",
   "metadata": {},
   "source": [
    "### Run Dataset"
   ]
  },
  {
   "cell_type": "code",
   "execution_count": 16,
   "id": "90fde506-4689-4fdd-a6ac-cd33a14d1fa7",
   "metadata": {},
   "outputs": [],
   "source": [
    "path = Path.cwd() / (ur_path)"
   ]
  },
  {
   "cell_type": "code",
   "execution_count": 17,
   "id": "884088a1-f278-49ed-ba7a-84a8788ac906",
   "metadata": {},
   "outputs": [
    {
     "data": {
      "text/plain": [
       "(#2) [Path('rural'),Path('urban')]"
      ]
     },
     "execution_count": 17,
     "metadata": {},
     "output_type": "execute_result"
    }
   ],
   "source": [
    "Path.BASE_PATH = path\n",
    "path.ls()"
   ]
  },
  {
   "cell_type": "code",
   "execution_count": 18,
   "id": "bd185d8d-e0c7-4234-a389-964c9b58dd8b",
   "metadata": {},
   "outputs": [
    {
     "data": {
      "text/plain": [
       "Path('rural/32010100010001.jpg')"
      ]
     },
     "execution_count": 18,
     "metadata": {},
     "output_type": "execute_result"
    }
   ],
   "source": [
    "fname = (path/\"rural\").ls()[0]\n",
    "fname"
   ]
  },
  {
   "cell_type": "code",
   "execution_count": 19,
   "id": "52aafdf5-784f-43e5-82dc-98f1542f98ed",
   "metadata": {},
   "outputs": [
    {
     "data": {
      "image/png": "[encoded data removed]",
      "text/plain": [
       "<PIL.JpegImagePlugin.JpegImageFile image mode=RGB size=64x64 at 0x244290B8520>"
      ]
     },
     "execution_count": 19,
     "metadata": {},
     "output_type": "execute_result"
    }
   ],
   "source": [
    "img = Image.open(fname)\n",
    "img"
   ]
  },
  {
   "cell_type": "code",
   "execution_count": 27,
   "id": "a528169c-6462-4eee-98cb-af609455d447",
   "metadata": {},
   "outputs": [],
   "source": [
    "blocks = DataBlock(blocks = (ImageBlock, CategoryBlock),\n",
    "                 get_items=get_image_files, # finds the images in the path\n",
    "                 splitter=RandomSplitter(valid_pct=0.1, seed=42),  # default random split 80% training, 20% validation\n",
    "                 get_y=parent_label # extracts the label category from the image's folder name \n",
    "                 ,item_tfms = Resize(32)) # data augmentation (mult multiplies the default transformation values)"
   ]
  },
  {
   "cell_type": "code",
   "execution_count": 28,
   "id": "7d33721a-eeba-4cda-af33-84a8baace424",
   "metadata": {},
   "outputs": [
    {
     "name": "stdout",
     "output_type": "stream",
     "text": [
      "Due to IPython and Windows limitation, python multiprocessing isn't available now.\n",
      "So `number_workers` is changed to 0 to avoid getting stuck\n"
     ]
    }
   ],
   "source": [
    "dls = blocks.dataloaders(path)"
   ]
  },
  {
   "cell_type": "code",
   "execution_count": 29,
   "id": "eff7faf3-2588-4b9c-a678-08d148a16221",
   "metadata": {},
   "outputs": [
    {
     "data": {
      "image/png": "[encoded data removed]",
      "text/plain": [
       "<Figure size 1080x216 with 5 Axes>"
      ]
     },
     "metadata": {
      "needs_background": "light"
     },
     "output_type": "display_data"
    }
   ],
   "source": [
    "dls.show_batch(nrows=1, ncols=5)"
   ]
  },
  {
   "cell_type": "code",
   "execution_count": 30,
   "id": "8525b8dd-43c1-41dd-a1e7-eadb3de93d6d",
   "metadata": {},
   "outputs": [],
   "source": [
    "avg = 'macro'\n",
    "roca = RocAucBinary(average=avg)\n",
    "f1s = F1Score(average=avg)\n",
    "bc = BalancedAccuracy()\n",
    "metrics=[accuracy,bc, Precision(average=avg), Recall(average=avg), f1s, roca]\n",
    "learn = cnn_learner(dls, densenet121, metrics=metrics) "
   ]
  },
  {
   "cell_type": "code",
   "execution_count": 31,
   "id": "cd1f3ab9-a177-498f-9922-bf7ec2dd9724",
   "metadata": {},
   "outputs": [
    {
     "data": {
      "text/html": [
       "<table border=\"1\" class=\"dataframe\">\n",
       "  <thead>\n",
       "    <tr style=\"text-align: left;\">\n",
       "      <th>epoch</th>\n",
       "      <th>train_loss</th>\n",
       "      <th>valid_loss</th>\n",
       "      <th>accuracy</th>\n",
       "      <th>balanced_accuracy_score</th>\n",
       "      <th>precision_score</th>\n",
       "      <th>recall_score</th>\n",
       "      <th>f1_score</th>\n",
       "      <th>roc_auc_score</th>\n",
       "      <th>time</th>\n",
       "    </tr>\n",
       "  </thead>\n",
       "  <tbody>\n",
       "    <tr>\n",
       "      <td>0</td>\n",
       "      <td>0.359564</td>\n",
       "      <td>0.350966</td>\n",
       "      <td>0.836364</td>\n",
       "      <td>0.682424</td>\n",
       "      <td>0.749647</td>\n",
       "      <td>0.682424</td>\n",
       "      <td>0.705507</td>\n",
       "      <td>0.862055</td>\n",
       "      <td>17:10</td>\n",
       "    </tr>\n",
       "    <tr>\n",
       "      <td>1</td>\n",
       "      <td>0.350219</td>\n",
       "      <td>0.338628</td>\n",
       "      <td>0.840268</td>\n",
       "      <td>0.666731</td>\n",
       "      <td>0.768292</td>\n",
       "      <td>0.666731</td>\n",
       "      <td>0.695364</td>\n",
       "      <td>0.871207</td>\n",
       "      <td>09:18</td>\n",
       "    </tr>\n",
       "    <tr>\n",
       "      <td>2</td>\n",
       "      <td>0.328720</td>\n",
       "      <td>0.337613</td>\n",
       "      <td>0.841495</td>\n",
       "      <td>0.669078</td>\n",
       "      <td>0.771120</td>\n",
       "      <td>0.669078</td>\n",
       "      <td>0.698059</td>\n",
       "      <td>0.872382</td>\n",
       "      <td>09:16</td>\n",
       "    </tr>\n",
       "  </tbody>\n",
       "</table>"
      ],
      "text/plain": [
       "<IPython.core.display.HTML object>"
      ]
     },
     "metadata": {},
     "output_type": "display_data"
    }
   ],
   "source": [
    "learn.fit_one_cycle(3)"
   ]
  },
  {
   "cell_type": "code",
   "execution_count": 32,
   "id": "aab9f026-8749-42b2-abfb-60aa7c10aacb",
   "metadata": {},
   "outputs": [],
   "source": [
    "learn.unfreeze()"
   ]
  },
  {
   "cell_type": "code",
   "execution_count": 33,
   "id": "bdad8c98-6172-4396-8419-65ed3f0a51b8",
   "metadata": {},
   "outputs": [
    {
     "data": {
      "text/html": [
       "<table border=\"1\" class=\"dataframe\">\n",
       "  <thead>\n",
       "    <tr style=\"text-align: left;\">\n",
       "      <th>epoch</th>\n",
       "      <th>train_loss</th>\n",
       "      <th>valid_loss</th>\n",
       "      <th>accuracy</th>\n",
       "      <th>balanced_accuracy_score</th>\n",
       "      <th>precision_score</th>\n",
       "      <th>recall_score</th>\n",
       "      <th>f1_score</th>\n",
       "      <th>roc_auc_score</th>\n",
       "      <th>time</th>\n",
       "    </tr>\n",
       "  </thead>\n",
       "  <tbody>\n",
       "    <tr>\n",
       "      <td>0</td>\n",
       "      <td>0.355841</td>\n",
       "      <td>0.403191</td>\n",
       "      <td>0.823090</td>\n",
       "      <td>0.586654</td>\n",
       "      <td>0.764666</td>\n",
       "      <td>0.586654</td>\n",
       "      <td>0.601223</td>\n",
       "      <td>0.831955</td>\n",
       "      <td>11:01</td>\n",
       "    </tr>\n",
       "    <tr>\n",
       "      <td>1</td>\n",
       "      <td>0.352843</td>\n",
       "      <td>0.405254</td>\n",
       "      <td>0.803235</td>\n",
       "      <td>0.508701</td>\n",
       "      <td>0.745089</td>\n",
       "      <td>0.508701</td>\n",
       "      <td>0.464288</td>\n",
       "      <td>0.860011</td>\n",
       "      <td>10:23</td>\n",
       "    </tr>\n",
       "    <tr>\n",
       "      <td>2</td>\n",
       "      <td>0.353911</td>\n",
       "      <td>0.404033</td>\n",
       "      <td>0.837033</td>\n",
       "      <td>0.680523</td>\n",
       "      <td>0.752008</td>\n",
       "      <td>0.680523</td>\n",
       "      <td>0.704492</td>\n",
       "      <td>0.866708</td>\n",
       "      <td>10:27</td>\n",
       "    </tr>\n",
       "    <tr>\n",
       "      <td>3</td>\n",
       "      <td>0.351192</td>\n",
       "      <td>0.349453</td>\n",
       "      <td>0.835527</td>\n",
       "      <td>0.635419</td>\n",
       "      <td>0.774007</td>\n",
       "      <td>0.635419</td>\n",
       "      <td>0.663552</td>\n",
       "      <td>0.866044</td>\n",
       "      <td>10:20</td>\n",
       "    </tr>\n",
       "    <tr>\n",
       "      <td>4</td>\n",
       "      <td>0.343973</td>\n",
       "      <td>0.337634</td>\n",
       "      <td>0.838483</td>\n",
       "      <td>0.699557</td>\n",
       "      <td>0.750566</td>\n",
       "      <td>0.699557</td>\n",
       "      <td>0.719063</td>\n",
       "      <td>0.872615</td>\n",
       "      <td>10:15</td>\n",
       "    </tr>\n",
       "    <tr>\n",
       "      <td>5</td>\n",
       "      <td>0.344806</td>\n",
       "      <td>0.338043</td>\n",
       "      <td>0.838706</td>\n",
       "      <td>0.651211</td>\n",
       "      <td>0.773542</td>\n",
       "      <td>0.651211</td>\n",
       "      <td>0.680649</td>\n",
       "      <td>0.875716</td>\n",
       "      <td>10:40</td>\n",
       "    </tr>\n",
       "    <tr>\n",
       "      <td>6</td>\n",
       "      <td>0.345386</td>\n",
       "      <td>0.334925</td>\n",
       "      <td>0.840268</td>\n",
       "      <td>0.716377</td>\n",
       "      <td>0.751488</td>\n",
       "      <td>0.716377</td>\n",
       "      <td>0.731112</td>\n",
       "      <td>0.877026</td>\n",
       "      <td>10:31</td>\n",
       "    </tr>\n",
       "    <tr>\n",
       "      <td>7</td>\n",
       "      <td>0.320751</td>\n",
       "      <td>0.329240</td>\n",
       "      <td>0.842722</td>\n",
       "      <td>0.694298</td>\n",
       "      <td>0.762595</td>\n",
       "      <td>0.694298</td>\n",
       "      <td>0.718305</td>\n",
       "      <td>0.879127</td>\n",
       "      <td>10:52</td>\n",
       "    </tr>\n",
       "    <tr>\n",
       "      <td>8</td>\n",
       "      <td>0.322767</td>\n",
       "      <td>0.328979</td>\n",
       "      <td>0.842889</td>\n",
       "      <td>0.694929</td>\n",
       "      <td>0.762816</td>\n",
       "      <td>0.694929</td>\n",
       "      <td>0.718865</td>\n",
       "      <td>0.879326</td>\n",
       "      <td>10:35</td>\n",
       "    </tr>\n",
       "    <tr>\n",
       "      <td>9</td>\n",
       "      <td>0.312239</td>\n",
       "      <td>0.329960</td>\n",
       "      <td>0.842108</td>\n",
       "      <td>0.690858</td>\n",
       "      <td>0.762199</td>\n",
       "      <td>0.690858</td>\n",
       "      <td>0.715426</td>\n",
       "      <td>0.878785</td>\n",
       "      <td>10:53</td>\n",
       "    </tr>\n",
       "  </tbody>\n",
       "</table>"
      ],
      "text/plain": [
       "<IPython.core.display.HTML object>"
      ]
     },
     "metadata": {},
     "output_type": "display_data"
    }
   ],
   "source": [
    "learn.fit_one_cycle(10)"
   ]
  },
  {
   "cell_type": "code",
   "execution_count": 34,
   "id": "e7e1186a-d09b-4ead-a8db-46454c5c4dc0",
   "metadata": {},
   "outputs": [
    {
     "data": {
      "text/plain": [
       "['rural', 'urban']"
      ]
     },
     "execution_count": 34,
     "metadata": {},
     "output_type": "execute_result"
    }
   ],
   "source": [
    "dls.vocab"
   ]
  },
  {
   "cell_type": "code",
   "execution_count": 35,
   "id": "c5830bb5-c0bb-4680-b773-150c9ee2002c",
   "metadata": {},
   "outputs": [
    {
     "ename": "IndexError",
     "evalue": "list index out of range",
     "output_type": "error",
     "traceback": [
      "\u001b[1;31m---------------------------------------------------------------------------\u001b[0m",
      "\u001b[1;31mIndexError\u001b[0m                                Traceback (most recent call last)",
      "\u001b[1;32m~\\AppData\\Local\\Temp/ipykernel_25312/3992342511.py\u001b[0m in \u001b[0;36m<module>\u001b[1;34m\u001b[0m\n\u001b[1;32m----> 1\u001b[1;33m \u001b[0mdls\u001b[0m\u001b[1;33m.\u001b[0m\u001b[0mtrain\u001b[0m\u001b[1;33m.\u001b[0m\u001b[0mitems\u001b[0m\u001b[1;33m[\u001b[0m\u001b[1;36m175000\u001b[0m\u001b[1;33m]\u001b[0m\u001b[1;33m\u001b[0m\u001b[1;33m\u001b[0m\u001b[0m\n\u001b[0m",
      "\u001b[1;31mIndexError\u001b[0m: list index out of range"
     ]
    }
   ],
   "source": [
    "dls.train.items[175000]"
   ]
  },
  {
   "cell_type": "code",
   "execution_count": 36,
   "id": "547ba6e2-d5a2-4f29-9dcb-fb9b2e109a5d",
   "metadata": {},
   "outputs": [],
   "source": [
    "learn.export(\"C:/Users/jwst2/Python/tesis/models/19042022\"+ model_code_dense+\".pkl\")"
   ]
  },
  {
   "cell_type": "markdown",
   "id": "a06daf77-bb94-4097-bc8f-263a1c65aed5",
   "metadata": {},
   "source": [
    "### Up level"
   ]
  },
  {
   "cell_type": "code",
   "execution_count": 37,
   "id": "f975b391-1a56-4d3c-ab42-829ace1febc3",
   "metadata": {},
   "outputs": [],
   "source": [
    "idx_train = []\n",
    "for i in dls.train.items:\n",
    "    idx_train.append(str(i)[-18:-4])\n",
    "true_label = []\n",
    "for i in dls.train.items:\n",
    "    if(\"urban\" in str(i)) :\n",
    "        true_label.append(1)\n",
    "    else :\n",
    "        true_label.append(0)"
   ]
  },
  {
   "cell_type": "code",
   "execution_count": 38,
   "id": "1b9a6293-8ded-4ccd-8be5-282e8abf5ef4",
   "metadata": {},
   "outputs": [
    {
     "data": {
      "text/html": [],
      "text/plain": [
       "<IPython.core.display.HTML object>"
      ]
     },
     "metadata": {},
     "output_type": "display_data"
    }
   ],
   "source": [
    "preds,_ = learn.get_preds(ds_idx  = 0)\n",
    "result_train = preds.numpy()\n",
    "new_train = pd.DataFrame(result_train)"
   ]
  },
  {
   "cell_type": "code",
   "execution_count": 39,
   "id": "f6f18366-923e-49d5-8470-4f5c63b89975",
   "metadata": {},
   "outputs": [
    {
     "data": {
      "text/plain": [
       "1    129790\n",
       "0     31584\n",
       "dtype: int64"
      ]
     },
     "execution_count": 39,
     "metadata": {},
     "output_type": "execute_result"
    }
   ],
   "source": [
    "pd.value_counts(true_label)"
   ]
  },
  {
   "cell_type": "code",
   "execution_count": 40,
   "id": "7baa9c67-e0bf-4fa0-b699-81028a698288",
   "metadata": {},
   "outputs": [
    {
     "data": {
      "text/html": [
       "<div>\n",
       "<style scoped>\n",
       "    .dataframe tbody tr th:only-of-type {\n",
       "        vertical-align: middle;\n",
       "    }\n",
       "\n",
       "    .dataframe tbody tr th {\n",
       "        vertical-align: top;\n",
       "    }\n",
       "\n",
       "    .dataframe thead th {\n",
       "        text-align: right;\n",
       "    }\n",
       "</style>\n",
       "<table border=\"1\" class=\"dataframe\">\n",
       "  <thead>\n",
       "    <tr style=\"text-align: right;\">\n",
       "      <th></th>\n",
       "      <th>0</th>\n",
       "      <th>1</th>\n",
       "      <th>idsls</th>\n",
       "      <th>stat</th>\n",
       "      <th>iddesa</th>\n",
       "    </tr>\n",
       "  </thead>\n",
       "  <tbody>\n",
       "    <tr>\n",
       "      <th>0</th>\n",
       "      <td>2.667928e-01</td>\n",
       "      <td>0.733207</td>\n",
       "      <td>32071200060007</td>\n",
       "      <td>1.0</td>\n",
       "      <td>3207120006</td>\n",
       "    </tr>\n",
       "    <tr>\n",
       "      <th>1</th>\n",
       "      <td>4.172266e-03</td>\n",
       "      <td>0.995828</td>\n",
       "      <td>32731010030083</td>\n",
       "      <td>1.0</td>\n",
       "      <td>3273101003</td>\n",
       "    </tr>\n",
       "    <tr>\n",
       "      <th>2</th>\n",
       "      <td>3.959764e-07</td>\n",
       "      <td>1.000000</td>\n",
       "      <td>32770300020058</td>\n",
       "      <td>1.0</td>\n",
       "      <td>3277030002</td>\n",
       "    </tr>\n",
       "    <tr>\n",
       "      <th>3</th>\n",
       "      <td>1.585651e-03</td>\n",
       "      <td>0.998414</td>\n",
       "      <td>32171300060016</td>\n",
       "      <td>1.0</td>\n",
       "      <td>3217130006</td>\n",
       "    </tr>\n",
       "    <tr>\n",
       "      <th>4</th>\n",
       "      <td>2.529079e-02</td>\n",
       "      <td>0.974709</td>\n",
       "      <td>32100700070016</td>\n",
       "      <td>1.0</td>\n",
       "      <td>3210070007</td>\n",
       "    </tr>\n",
       "  </tbody>\n",
       "</table>\n",
       "</div>"
      ],
      "text/plain": [
       "              0         1           idsls  stat      iddesa\n",
       "0  2.667928e-01  0.733207  32071200060007   1.0  3207120006\n",
       "1  4.172266e-03  0.995828  32731010030083   1.0  3273101003\n",
       "2  3.959764e-07  1.000000  32770300020058   1.0  3277030002\n",
       "3  1.585651e-03  0.998414  32171300060016   1.0  3217130006\n",
       "4  2.529079e-02  0.974709  32100700070016   1.0  3210070007"
      ]
     },
     "execution_count": 40,
     "metadata": {},
     "output_type": "execute_result"
    }
   ],
   "source": [
    "df = new_train\n",
    "df[\"idsls\"] = idx_train \n",
    "df[\"stat\"] = round(df[1])\n",
    "df[\"iddesa\"] = df.idsls.str[:10]\n",
    "df.head()"
   ]
  },
  {
   "cell_type": "code",
   "execution_count": 41,
   "id": "27375754-0aa1-4dde-af27-3d7f20cb244c",
   "metadata": {},
   "outputs": [
    {
     "data": {
      "text/plain": [
       "1.0    140037\n",
       "0.0     21337\n",
       "Name: stat, dtype: int64"
      ]
     },
     "execution_count": 41,
     "metadata": {},
     "output_type": "execute_result"
    }
   ],
   "source": [
    "pd.value_counts(df.stat)"
   ]
  },
  {
   "cell_type": "code",
   "execution_count": 42,
   "id": "51e93c51-a1f1-4c0d-92e0-984e5b78d065",
   "metadata": {},
   "outputs": [],
   "source": [
    "df[\"true_lab\"] = true_label"
   ]
  },
  {
   "cell_type": "code",
   "execution_count": 43,
   "id": "0823d3a6-312e-4355-b198-23eae6063316",
   "metadata": {},
   "outputs": [
    {
     "data": {
      "text/plain": [
       "1    129790\n",
       "0     31584\n",
       "Name: true_lab, dtype: int64"
      ]
     },
     "execution_count": 43,
     "metadata": {},
     "output_type": "execute_result"
    }
   ],
   "source": [
    "pd.value_counts(df.true_lab)"
   ]
  },
  {
   "cell_type": "code",
   "execution_count": 44,
   "id": "84ffac8a-28bd-4e7c-97b0-e4b46e397e64",
   "metadata": {},
   "outputs": [
    {
     "data": {
      "text/plain": [
       "0.8548898831286329"
      ]
     },
     "execution_count": 44,
     "metadata": {},
     "output_type": "execute_result"
    }
   ],
   "source": [
    "accuracy_score(df.stat.apply(int),df.true_lab.apply(int))"
   ]
  },
  {
   "cell_type": "code",
   "execution_count": 45,
   "id": "caadfca2-e80e-4d01-8e5c-16c22d8e3900",
   "metadata": {},
   "outputs": [
    {
     "data": {
      "text/html": [
       "<div>\n",
       "<style scoped>\n",
       "    .dataframe tbody tr th:only-of-type {\n",
       "        vertical-align: middle;\n",
       "    }\n",
       "\n",
       "    .dataframe tbody tr th {\n",
       "        vertical-align: top;\n",
       "    }\n",
       "\n",
       "    .dataframe thead th {\n",
       "        text-align: right;\n",
       "    }\n",
       "</style>\n",
       "<table border=\"1\" class=\"dataframe\">\n",
       "  <thead>\n",
       "    <tr style=\"text-align: right;\">\n",
       "      <th></th>\n",
       "      <th>0</th>\n",
       "      <th>1</th>\n",
       "      <th>idsls</th>\n",
       "      <th>stat</th>\n",
       "      <th>iddesa</th>\n",
       "      <th>true_lab</th>\n",
       "    </tr>\n",
       "  </thead>\n",
       "  <tbody>\n",
       "    <tr>\n",
       "      <th>0</th>\n",
       "      <td>2.667928e-01</td>\n",
       "      <td>0.733207</td>\n",
       "      <td>32071200060007</td>\n",
       "      <td>1.0</td>\n",
       "      <td>3207120006</td>\n",
       "      <td>1</td>\n",
       "    </tr>\n",
       "    <tr>\n",
       "      <th>1</th>\n",
       "      <td>4.172266e-03</td>\n",
       "      <td>0.995828</td>\n",
       "      <td>32731010030083</td>\n",
       "      <td>1.0</td>\n",
       "      <td>3273101003</td>\n",
       "      <td>1</td>\n",
       "    </tr>\n",
       "    <tr>\n",
       "      <th>2</th>\n",
       "      <td>3.959764e-07</td>\n",
       "      <td>1.000000</td>\n",
       "      <td>32770300020058</td>\n",
       "      <td>1.0</td>\n",
       "      <td>3277030002</td>\n",
       "      <td>1</td>\n",
       "    </tr>\n",
       "    <tr>\n",
       "      <th>3</th>\n",
       "      <td>1.585651e-03</td>\n",
       "      <td>0.998414</td>\n",
       "      <td>32171300060016</td>\n",
       "      <td>1.0</td>\n",
       "      <td>3217130006</td>\n",
       "      <td>1</td>\n",
       "    </tr>\n",
       "    <tr>\n",
       "      <th>4</th>\n",
       "      <td>2.529079e-02</td>\n",
       "      <td>0.974709</td>\n",
       "      <td>32100700070016</td>\n",
       "      <td>1.0</td>\n",
       "      <td>3210070007</td>\n",
       "      <td>1</td>\n",
       "    </tr>\n",
       "  </tbody>\n",
       "</table>\n",
       "</div>"
      ],
      "text/plain": [
       "              0         1           idsls  stat      iddesa  true_lab\n",
       "0  2.667928e-01  0.733207  32071200060007   1.0  3207120006         1\n",
       "1  4.172266e-03  0.995828  32731010030083   1.0  3273101003         1\n",
       "2  3.959764e-07  1.000000  32770300020058   1.0  3277030002         1\n",
       "3  1.585651e-03  0.998414  32171300060016   1.0  3217130006         1\n",
       "4  2.529079e-02  0.974709  32100700070016   1.0  3210070007         1"
      ]
     },
     "execution_count": 45,
     "metadata": {},
     "output_type": "execute_result"
    }
   ],
   "source": [
    "df.head()"
   ]
  },
  {
   "cell_type": "code",
   "execution_count": 46,
   "id": "d72c35ba-448b-4f71-8a5f-6b03de74920f",
   "metadata": {},
   "outputs": [],
   "source": [
    "desa_pred = df.groupby('iddesa').agg({'stat': ['mean'], 'true_lab': 'mean'})"
   ]
  },
  {
   "cell_type": "code",
   "execution_count": 47,
   "id": "99a39f46-949f-42c8-a81e-28731b0fc783",
   "metadata": {},
   "outputs": [],
   "source": [
    "desa_pred.columns = [\"pred\",\"true\"]"
   ]
  },
  {
   "cell_type": "code",
   "execution_count": 48,
   "id": "580d8552-7a64-41df-ac54-823feee451f6",
   "metadata": {},
   "outputs": [
    {
     "data": {
      "text/plain": [
       "1.0    140037\n",
       "0.0     21337\n",
       "Name: stat, dtype: int64"
      ]
     },
     "execution_count": 48,
     "metadata": {},
     "output_type": "execute_result"
    }
   ],
   "source": [
    "pd.value_counts(df.stat)"
   ]
  },
  {
   "cell_type": "code",
   "execution_count": 49,
   "id": "8253e8fa-9c54-4d63-87a5-e59669b9ece2",
   "metadata": {},
   "outputs": [
    {
     "name": "stderr",
     "output_type": "stream",
     "text": [
      "C:\\Users\\jwst2\\AppData\\Local\\Temp/ipykernel_25312/935834860.py:4: SettingWithCopyWarning: \n",
      "A value is trying to be set on a copy of a slice from a DataFrame\n",
      "\n",
      "See the caveats in the documentation: https://pandas.pydata.org/pandas-docs/stable/user_guide/indexing.html#returning-a-view-versus-a-copy\n",
      "  desa_pred[\"label\"+str(value)][desa_pred.pred > value] = 1\n"
     ]
    }
   ],
   "source": [
    "for i in np.arange(0.1, 0.95, 0.025):\n",
    "    value = round(i,2)\n",
    "    desa_pred[\"label\"+str(value)] = 0\n",
    "    desa_pred[\"label\"+str(value)][desa_pred.pred > value] = 1"
   ]
  },
  {
   "cell_type": "code",
   "execution_count": 50,
   "id": "4366ffb4-4834-4bbf-a447-5469fa8cf4f9",
   "metadata": {},
   "outputs": [
    {
     "data": {
      "text/html": [
       "<div>\n",
       "<style scoped>\n",
       "    .dataframe tbody tr th:only-of-type {\n",
       "        vertical-align: middle;\n",
       "    }\n",
       "\n",
       "    .dataframe tbody tr th {\n",
       "        vertical-align: top;\n",
       "    }\n",
       "\n",
       "    .dataframe thead th {\n",
       "        text-align: right;\n",
       "    }\n",
       "</style>\n",
       "<table border=\"1\" class=\"dataframe\">\n",
       "  <thead>\n",
       "    <tr style=\"text-align: right;\">\n",
       "      <th></th>\n",
       "      <th>pred</th>\n",
       "      <th>true</th>\n",
       "      <th>label0.1</th>\n",
       "      <th>label0.12</th>\n",
       "      <th>label0.15</th>\n",
       "      <th>label0.18</th>\n",
       "      <th>label0.2</th>\n",
       "      <th>label0.22</th>\n",
       "      <th>label0.25</th>\n",
       "      <th>label0.27</th>\n",
       "      <th>...</th>\n",
       "      <th>label0.7</th>\n",
       "      <th>label0.72</th>\n",
       "      <th>label0.75</th>\n",
       "      <th>label0.77</th>\n",
       "      <th>label0.8</th>\n",
       "      <th>label0.82</th>\n",
       "      <th>label0.85</th>\n",
       "      <th>label0.87</th>\n",
       "      <th>label0.9</th>\n",
       "      <th>label0.92</th>\n",
       "    </tr>\n",
       "    <tr>\n",
       "      <th>iddesa</th>\n",
       "      <th></th>\n",
       "      <th></th>\n",
       "      <th></th>\n",
       "      <th></th>\n",
       "      <th></th>\n",
       "      <th></th>\n",
       "      <th></th>\n",
       "      <th></th>\n",
       "      <th></th>\n",
       "      <th></th>\n",
       "      <th></th>\n",
       "      <th></th>\n",
       "      <th></th>\n",
       "      <th></th>\n",
       "      <th></th>\n",
       "      <th></th>\n",
       "      <th></th>\n",
       "      <th></th>\n",
       "      <th></th>\n",
       "      <th></th>\n",
       "      <th></th>\n",
       "    </tr>\n",
       "  </thead>\n",
       "  <tbody>\n",
       "    <tr>\n",
       "      <th>3201010001</th>\n",
       "      <td>0.075472</td>\n",
       "      <td>0.0</td>\n",
       "      <td>0</td>\n",
       "      <td>0</td>\n",
       "      <td>0</td>\n",
       "      <td>0</td>\n",
       "      <td>0</td>\n",
       "      <td>0</td>\n",
       "      <td>0</td>\n",
       "      <td>0</td>\n",
       "      <td>...</td>\n",
       "      <td>0</td>\n",
       "      <td>0</td>\n",
       "      <td>0</td>\n",
       "      <td>0</td>\n",
       "      <td>0</td>\n",
       "      <td>0</td>\n",
       "      <td>0</td>\n",
       "      <td>0</td>\n",
       "      <td>0</td>\n",
       "      <td>0</td>\n",
       "    </tr>\n",
       "    <tr>\n",
       "      <th>3201010003</th>\n",
       "      <td>0.900000</td>\n",
       "      <td>1.0</td>\n",
       "      <td>1</td>\n",
       "      <td>1</td>\n",
       "      <td>1</td>\n",
       "      <td>1</td>\n",
       "      <td>1</td>\n",
       "      <td>1</td>\n",
       "      <td>1</td>\n",
       "      <td>1</td>\n",
       "      <td>...</td>\n",
       "      <td>1</td>\n",
       "      <td>1</td>\n",
       "      <td>1</td>\n",
       "      <td>1</td>\n",
       "      <td>1</td>\n",
       "      <td>1</td>\n",
       "      <td>1</td>\n",
       "      <td>1</td>\n",
       "      <td>0</td>\n",
       "      <td>0</td>\n",
       "    </tr>\n",
       "    <tr>\n",
       "      <th>3201010004</th>\n",
       "      <td>0.804348</td>\n",
       "      <td>0.0</td>\n",
       "      <td>1</td>\n",
       "      <td>1</td>\n",
       "      <td>1</td>\n",
       "      <td>1</td>\n",
       "      <td>1</td>\n",
       "      <td>1</td>\n",
       "      <td>1</td>\n",
       "      <td>1</td>\n",
       "      <td>...</td>\n",
       "      <td>1</td>\n",
       "      <td>1</td>\n",
       "      <td>1</td>\n",
       "      <td>1</td>\n",
       "      <td>1</td>\n",
       "      <td>0</td>\n",
       "      <td>0</td>\n",
       "      <td>0</td>\n",
       "      <td>0</td>\n",
       "      <td>0</td>\n",
       "    </tr>\n",
       "    <tr>\n",
       "      <th>3201010005</th>\n",
       "      <td>0.900000</td>\n",
       "      <td>1.0</td>\n",
       "      <td>1</td>\n",
       "      <td>1</td>\n",
       "      <td>1</td>\n",
       "      <td>1</td>\n",
       "      <td>1</td>\n",
       "      <td>1</td>\n",
       "      <td>1</td>\n",
       "      <td>1</td>\n",
       "      <td>...</td>\n",
       "      <td>1</td>\n",
       "      <td>1</td>\n",
       "      <td>1</td>\n",
       "      <td>1</td>\n",
       "      <td>1</td>\n",
       "      <td>1</td>\n",
       "      <td>1</td>\n",
       "      <td>1</td>\n",
       "      <td>0</td>\n",
       "      <td>0</td>\n",
       "    </tr>\n",
       "    <tr>\n",
       "      <th>3201010006</th>\n",
       "      <td>0.827586</td>\n",
       "      <td>0.0</td>\n",
       "      <td>1</td>\n",
       "      <td>1</td>\n",
       "      <td>1</td>\n",
       "      <td>1</td>\n",
       "      <td>1</td>\n",
       "      <td>1</td>\n",
       "      <td>1</td>\n",
       "      <td>1</td>\n",
       "      <td>...</td>\n",
       "      <td>1</td>\n",
       "      <td>1</td>\n",
       "      <td>1</td>\n",
       "      <td>1</td>\n",
       "      <td>1</td>\n",
       "      <td>1</td>\n",
       "      <td>0</td>\n",
       "      <td>0</td>\n",
       "      <td>0</td>\n",
       "      <td>0</td>\n",
       "    </tr>\n",
       "  </tbody>\n",
       "</table>\n",
       "<p>5 rows × 36 columns</p>\n",
       "</div>"
      ],
      "text/plain": [
       "                pred  true  label0.1  label0.12  label0.15  label0.18  \\\n",
       "iddesa                                                                  \n",
       "3201010001  0.075472   0.0         0          0          0          0   \n",
       "3201010003  0.900000   1.0         1          1          1          1   \n",
       "3201010004  0.804348   0.0         1          1          1          1   \n",
       "3201010005  0.900000   1.0         1          1          1          1   \n",
       "3201010006  0.827586   0.0         1          1          1          1   \n",
       "\n",
       "            label0.2  label0.22  label0.25  label0.27  ...  label0.7  \\\n",
       "iddesa                                                 ...             \n",
       "3201010001         0          0          0          0  ...         0   \n",
       "3201010003         1          1          1          1  ...         1   \n",
       "3201010004         1          1          1          1  ...         1   \n",
       "3201010005         1          1          1          1  ...         1   \n",
       "3201010006         1          1          1          1  ...         1   \n",
       "\n",
       "            label0.72  label0.75  label0.77  label0.8  label0.82  label0.85  \\\n",
       "iddesa                                                                        \n",
       "3201010001          0          0          0         0          0          0   \n",
       "3201010003          1          1          1         1          1          1   \n",
       "3201010004          1          1          1         1          0          0   \n",
       "3201010005          1          1          1         1          1          1   \n",
       "3201010006          1          1          1         1          1          0   \n",
       "\n",
       "            label0.87  label0.9  label0.92  \n",
       "iddesa                                      \n",
       "3201010001          0         0          0  \n",
       "3201010003          1         0          0  \n",
       "3201010004          0         0          0  \n",
       "3201010005          1         0          0  \n",
       "3201010006          0         0          0  \n",
       "\n",
       "[5 rows x 36 columns]"
      ]
     },
     "execution_count": 50,
     "metadata": {},
     "output_type": "execute_result"
    }
   ],
   "source": [
    "desa_pred.head()"
   ]
  },
  {
   "cell_type": "code",
   "execution_count": 51,
   "id": "855a7f51-9fd3-418e-bd21-605fe7d0a113",
   "metadata": {},
   "outputs": [
    {
     "name": "stdout",
     "output_type": "stream",
     "text": [
      "result label0.1\n",
      "accuracy : 0.7704545454545455\n",
      "precision : 0.7650460484043693\n",
      "result label0.12\n",
      "accuracy : 0.7725206611570248\n",
      "precision : 0.7669172932330827\n",
      "result label0.15\n",
      "accuracy : 0.778305785123967\n",
      "precision : 0.7721464154212693\n",
      "result label0.18\n",
      "accuracy : 0.7845041322314049\n",
      "precision : 0.77755948482864\n",
      "result label0.2\n",
      "accuracy : 0.7884297520661157\n",
      "precision : 0.7810443176831944\n",
      "result label0.22\n",
      "accuracy : 0.7898760330578513\n",
      "precision : 0.7823697515937569\n",
      "result label0.25\n",
      "accuracy : 0.797107438016529\n",
      "precision : 0.7888198757763976\n",
      "result label0.27\n",
      "accuracy : 0.7991735537190082\n",
      "precision : 0.790702846975089\n",
      "result label0.3\n",
      "accuracy : 0.8033057851239669\n",
      "precision : 0.795822102425876\n",
      "result label0.32\n",
      "accuracy : 0.8072314049586777\n",
      "precision : 0.799774011299435\n",
      "result label0.35\n",
      "accuracy : 0.8134297520661157\n",
      "precision : 0.8064884624171808\n",
      "result label0.37\n",
      "accuracy : 0.8175619834710743\n",
      "precision : 0.8107610945044837\n",
      "result label0.4\n",
      "accuracy : 0.8214876033057851\n",
      "precision : 0.8156307977736549\n",
      "result label0.42\n",
      "accuracy : 0.8239669421487603\n",
      "precision : 0.8189454036397573\n",
      "result label0.45\n",
      "accuracy : 0.8285123966942148\n",
      "precision : 0.8243879472693032\n",
      "result label0.47\n",
      "accuracy : 0.8291322314049587\n",
      "precision : 0.8266635093535402\n",
      "result label0.5\n",
      "accuracy : 0.8340909090909091\n",
      "precision : 0.834093637454982\n",
      "result label0.52\n",
      "accuracy : 0.834297520661157\n",
      "precision : 0.8352601156069365\n",
      "result label0.55\n",
      "accuracy : 0.8378099173553719\n",
      "precision : 0.8401748846247268\n",
      "result label0.57\n",
      "accuracy : 0.8390495867768595\n",
      "precision : 0.8424005855086607\n",
      "result label0.6\n",
      "accuracy : 0.8404958677685951\n",
      "precision : 0.8474074074074074\n",
      "result label0.62\n",
      "accuracy : 0.843801652892562\n",
      "precision : 0.8523406374501992\n",
      "result label0.65\n",
      "accuracy : 0.8462809917355372\n",
      "precision : 0.8579345088161209\n",
      "result label0.67\n",
      "accuracy : 0.8493801652892562\n",
      "precision : 0.8639490445859873\n",
      "result label0.7\n",
      "accuracy : 0.8508264462809917\n",
      "precision : 0.8709844559585492\n",
      "result label0.72\n",
      "accuracy : 0.8518595041322314\n",
      "precision : 0.8754252813399633\n",
      "result label0.75\n",
      "accuracy : 0.8508264462809917\n",
      "precision : 0.8853606027987083\n",
      "result label0.77\n",
      "accuracy : 0.8491735537190083\n",
      "precision : 0.8886771910724006\n",
      "result label0.8\n",
      "accuracy : 0.8433884297520661\n",
      "precision : 0.8949720670391061\n",
      "result label0.82\n",
      "accuracy : 0.8396694214876033\n",
      "precision : 0.8984685195689166\n",
      "result label0.85\n",
      "accuracy : 0.8340909090909091\n",
      "precision : 0.9089039083161916\n",
      "result label0.87\n",
      "accuracy : 0.8285123966942148\n",
      "precision : 0.915811707905854\n",
      "result label0.9\n",
      "accuracy : 0.8082644628099174\n",
      "precision : 0.9259615384615385\n",
      "result label0.92\n",
      "accuracy : 0.7966942148760331\n",
      "precision : 0.9328010645375915\n"
     ]
    }
   ],
   "source": [
    "for j in range(2,36):\n",
    "    print(\"result\", desa_pred.columns[j])\n",
    "    print(\"accuracy :\",  accuracy_score( desa_pred.true,desa_pred.iloc[:,[j]]))\n",
    "    print(\"precision :\",  precision_score( desa_pred.true,desa_pred.iloc[:,[j]]))"
   ]
  },
  {
   "cell_type": "code",
   "execution_count": 52,
   "id": "13528e0d-92ad-4bd6-89b8-816048965e16",
   "metadata": {},
   "outputs": [
    {
     "data": {
      "text/plain": [
       "1.0    3586\n",
       "0.0    1254\n",
       "Name: true, dtype: int64"
      ]
     },
     "execution_count": 52,
     "metadata": {},
     "output_type": "execute_result"
    }
   ],
   "source": [
    "pd.value_counts(desa_pred.true)"
   ]
  },
  {
   "cell_type": "markdown",
   "id": "4e6bafd1-9eae-4547-ba47-30ebe21ea669",
   "metadata": {},
   "source": [
    "### Test result"
   ]
  },
  {
   "cell_type": "code",
   "execution_count": 53,
   "id": "b1c0e74b-6b00-48a1-8a42-c6d3596ab009",
   "metadata": {},
   "outputs": [],
   "source": [
    "path_pred = Path.cwd() / (test_path)\n",
    "test_files = [fn for fn in sorted((path_pred).glob('**/*')) if fn.is_file()]"
   ]
  },
  {
   "cell_type": "code",
   "execution_count": 54,
   "id": "c5177d4a-43de-426b-81c3-89a5ad10476a",
   "metadata": {},
   "outputs": [
    {
     "data": {
      "text/plain": [
       "20896"
      ]
     },
     "execution_count": 54,
     "metadata": {},
     "output_type": "execute_result"
    }
   ],
   "source": [
    "len(test_files)"
   ]
  },
  {
   "cell_type": "code",
   "execution_count": 55,
   "id": "2dbbb132-1ed0-459d-84c1-ed8e102bfce4",
   "metadata": {},
   "outputs": [],
   "source": [
    "test_dl = learn.dls.test_dl(test_files)"
   ]
  },
  {
   "cell_type": "code",
   "execution_count": 56,
   "id": "b8399e45-82ed-43ce-93ee-341a95d9c671",
   "metadata": {},
   "outputs": [
    {
     "data": {
      "text/html": [],
      "text/plain": [
       "<IPython.core.display.HTML object>"
      ]
     },
     "metadata": {},
     "output_type": "display_data"
    }
   ],
   "source": [
    "preds,_ = learn.get_preds(dl  =test_dl)"
   ]
  },
  {
   "cell_type": "code",
   "execution_count": 57,
   "id": "36e7a605-1944-49da-8315-e7ee2fa846a5",
   "metadata": {},
   "outputs": [
    {
     "data": {
      "text/plain": [
       "'32010100020002'"
      ]
     },
     "execution_count": 57,
     "metadata": {},
     "output_type": "execute_result"
    }
   ],
   "source": [
    "str(test_files[1])[-18:-4]"
   ]
  },
  {
   "cell_type": "code",
   "execution_count": 58,
   "id": "ae98e9b7-69ae-4ad5-ac8b-a1ca764e77e1",
   "metadata": {},
   "outputs": [],
   "source": [
    "idx_test = []\n",
    "for i in test_files:\n",
    "    idx_test.append(str(i)[-18:-4])\n",
    "true_label = []\n",
    "for i in test_files:\n",
    "    if(\"urban\" in str(i)) :\n",
    "        true_label.append(1)\n",
    "    else :\n",
    "        true_label.append(0)"
   ]
  },
  {
   "cell_type": "code",
   "execution_count": 59,
   "id": "9db6caf2-7da7-4829-9dcb-ef4ae2cb02a4",
   "metadata": {},
   "outputs": [],
   "source": [
    "test = pd.DataFrame(preds)"
   ]
  },
  {
   "cell_type": "code",
   "execution_count": 60,
   "id": "e4b05cfe-563a-4f65-ab73-d359328afbac",
   "metadata": {},
   "outputs": [],
   "source": [
    "test[\"idsls\"] = idx_test\n",
    "test[\"true_lab\"] = true_label"
   ]
  },
  {
   "cell_type": "code",
   "execution_count": 61,
   "id": "e7bfa65d-944e-471a-a341-fe3f03d74bb1",
   "metadata": {},
   "outputs": [],
   "source": [
    "test[\"iddesa\"] = test.idsls.str[:10]\n",
    "test[\"stat\"] = round(test[1])"
   ]
  },
  {
   "cell_type": "code",
   "execution_count": 62,
   "id": "2d7b48c0-1b97-4a7b-9844-552152f94ea2",
   "metadata": {},
   "outputs": [
    {
     "data": {
      "text/html": [
       "<div>\n",
       "<style scoped>\n",
       "    .dataframe tbody tr th:only-of-type {\n",
       "        vertical-align: middle;\n",
       "    }\n",
       "\n",
       "    .dataframe tbody tr th {\n",
       "        vertical-align: top;\n",
       "    }\n",
       "\n",
       "    .dataframe thead th {\n",
       "        text-align: right;\n",
       "    }\n",
       "</style>\n",
       "<table border=\"1\" class=\"dataframe\">\n",
       "  <thead>\n",
       "    <tr style=\"text-align: right;\">\n",
       "      <th></th>\n",
       "      <th>0</th>\n",
       "      <th>1</th>\n",
       "      <th>idsls</th>\n",
       "      <th>true_lab</th>\n",
       "      <th>iddesa</th>\n",
       "      <th>stat</th>\n",
       "    </tr>\n",
       "  </thead>\n",
       "  <tbody>\n",
       "    <tr>\n",
       "      <th>0</th>\n",
       "      <td>0.447116</td>\n",
       "      <td>0.552884</td>\n",
       "      <td>32010100020001</td>\n",
       "      <td>0</td>\n",
       "      <td>3201010002</td>\n",
       "      <td>1.0</td>\n",
       "    </tr>\n",
       "    <tr>\n",
       "      <th>1</th>\n",
       "      <td>0.251953</td>\n",
       "      <td>0.748047</td>\n",
       "      <td>32010100020002</td>\n",
       "      <td>0</td>\n",
       "      <td>3201010002</td>\n",
       "      <td>1.0</td>\n",
       "    </tr>\n",
       "    <tr>\n",
       "      <th>2</th>\n",
       "      <td>0.135553</td>\n",
       "      <td>0.864447</td>\n",
       "      <td>32010100020003</td>\n",
       "      <td>0</td>\n",
       "      <td>3201010002</td>\n",
       "      <td>1.0</td>\n",
       "    </tr>\n",
       "    <tr>\n",
       "      <th>3</th>\n",
       "      <td>0.173367</td>\n",
       "      <td>0.826633</td>\n",
       "      <td>32010100020004</td>\n",
       "      <td>0</td>\n",
       "      <td>3201010002</td>\n",
       "      <td>1.0</td>\n",
       "    </tr>\n",
       "    <tr>\n",
       "      <th>4</th>\n",
       "      <td>0.362141</td>\n",
       "      <td>0.637859</td>\n",
       "      <td>32010100020005</td>\n",
       "      <td>0</td>\n",
       "      <td>3201010002</td>\n",
       "      <td>1.0</td>\n",
       "    </tr>\n",
       "  </tbody>\n",
       "</table>\n",
       "</div>"
      ],
      "text/plain": [
       "          0         1           idsls  true_lab      iddesa  stat\n",
       "0  0.447116  0.552884  32010100020001         0  3201010002   1.0\n",
       "1  0.251953  0.748047  32010100020002         0  3201010002   1.0\n",
       "2  0.135553  0.864447  32010100020003         0  3201010002   1.0\n",
       "3  0.173367  0.826633  32010100020004         0  3201010002   1.0\n",
       "4  0.362141  0.637859  32010100020005         0  3201010002   1.0"
      ]
     },
     "execution_count": 62,
     "metadata": {},
     "output_type": "execute_result"
    }
   ],
   "source": [
    "test.head()"
   ]
  },
  {
   "cell_type": "code",
   "execution_count": 63,
   "id": "c7a6d0dd-cdfe-4cd3-89a5-0cd6255ea55f",
   "metadata": {},
   "outputs": [],
   "source": [
    "desa_pred_test = test.groupby('iddesa').agg({'stat': ['mean'], 'true_lab': 'mean'})"
   ]
  },
  {
   "cell_type": "code",
   "execution_count": 64,
   "id": "46219c78-2263-49e6-8f5c-0ef512ffa7f5",
   "metadata": {},
   "outputs": [
    {
     "data": {
      "text/html": [
       "<div>\n",
       "<style scoped>\n",
       "    .dataframe tbody tr th:only-of-type {\n",
       "        vertical-align: middle;\n",
       "    }\n",
       "\n",
       "    .dataframe tbody tr th {\n",
       "        vertical-align: top;\n",
       "    }\n",
       "\n",
       "    .dataframe thead tr th {\n",
       "        text-align: left;\n",
       "    }\n",
       "\n",
       "    .dataframe thead tr:last-of-type th {\n",
       "        text-align: right;\n",
       "    }\n",
       "</style>\n",
       "<table border=\"1\" class=\"dataframe\">\n",
       "  <thead>\n",
       "    <tr>\n",
       "      <th></th>\n",
       "      <th>stat</th>\n",
       "      <th>true_lab</th>\n",
       "    </tr>\n",
       "    <tr>\n",
       "      <th></th>\n",
       "      <th>mean</th>\n",
       "      <th>mean</th>\n",
       "    </tr>\n",
       "    <tr>\n",
       "      <th>iddesa</th>\n",
       "      <th></th>\n",
       "      <th></th>\n",
       "    </tr>\n",
       "  </thead>\n",
       "  <tbody>\n",
       "    <tr>\n",
       "      <th>3201010002</th>\n",
       "      <td>0.666667</td>\n",
       "      <td>0.0</td>\n",
       "    </tr>\n",
       "    <tr>\n",
       "      <th>3201020016</th>\n",
       "      <td>0.974359</td>\n",
       "      <td>1.0</td>\n",
       "    </tr>\n",
       "    <tr>\n",
       "      <th>3201021008</th>\n",
       "      <td>0.777778</td>\n",
       "      <td>1.0</td>\n",
       "    </tr>\n",
       "    <tr>\n",
       "      <th>3201030012</th>\n",
       "      <td>1.000000</td>\n",
       "      <td>1.0</td>\n",
       "    </tr>\n",
       "    <tr>\n",
       "      <th>3201040007</th>\n",
       "      <td>1.000000</td>\n",
       "      <td>1.0</td>\n",
       "    </tr>\n",
       "    <tr>\n",
       "      <th>...</th>\n",
       "      <td>...</td>\n",
       "      <td>...</td>\n",
       "    </tr>\n",
       "    <tr>\n",
       "      <th>3278031006</th>\n",
       "      <td>0.961538</td>\n",
       "      <td>1.0</td>\n",
       "    </tr>\n",
       "    <tr>\n",
       "      <th>3279010001</th>\n",
       "      <td>0.931035</td>\n",
       "      <td>1.0</td>\n",
       "    </tr>\n",
       "    <tr>\n",
       "      <th>3279010007</th>\n",
       "      <td>0.521739</td>\n",
       "      <td>1.0</td>\n",
       "    </tr>\n",
       "    <tr>\n",
       "      <th>3279020004</th>\n",
       "      <td>0.903226</td>\n",
       "      <td>1.0</td>\n",
       "    </tr>\n",
       "    <tr>\n",
       "      <th>3279030006</th>\n",
       "      <td>1.000000</td>\n",
       "      <td>1.0</td>\n",
       "    </tr>\n",
       "  </tbody>\n",
       "</table>\n",
       "<p>538 rows × 2 columns</p>\n",
       "</div>"
      ],
      "text/plain": [
       "                stat true_lab\n",
       "                mean     mean\n",
       "iddesa                       \n",
       "3201010002  0.666667      0.0\n",
       "3201020016  0.974359      1.0\n",
       "3201021008  0.777778      1.0\n",
       "3201030012  1.000000      1.0\n",
       "3201040007  1.000000      1.0\n",
       "...              ...      ...\n",
       "3278031006  0.961538      1.0\n",
       "3279010001  0.931035      1.0\n",
       "3279010007  0.521739      1.0\n",
       "3279020004  0.903226      1.0\n",
       "3279030006  1.000000      1.0\n",
       "\n",
       "[538 rows x 2 columns]"
      ]
     },
     "execution_count": 64,
     "metadata": {},
     "output_type": "execute_result"
    }
   ],
   "source": [
    "desa_pred_test"
   ]
  },
  {
   "cell_type": "code",
   "execution_count": 65,
   "id": "3c181fbb-e76b-485b-b209-63e58f29ff4d",
   "metadata": {},
   "outputs": [],
   "source": [
    "desa_pred_test.columns = [\"pred\",\"true\"]"
   ]
  },
  {
   "cell_type": "code",
   "execution_count": 78,
   "id": "6489d636-897a-426d-9842-547b4a8c2ff7",
   "metadata": {},
   "outputs": [
    {
     "name": "stderr",
     "output_type": "stream",
     "text": [
      "C:\\Users\\jwst2\\AppData\\Local\\Temp/ipykernel_25312/3417576388.py:2: SettingWithCopyWarning: \n",
      "A value is trying to be set on a copy of a slice from a DataFrame\n",
      "\n",
      "See the caveats in the documentation: https://pandas.pydata.org/pandas-docs/stable/user_guide/indexing.html#returning-a-view-versus-a-copy\n",
      "  desa_pred_test[\"pred_lab\"][desa_pred_test.pred > 0.8] = 1\n"
     ]
    }
   ],
   "source": [
    "desa_pred_test[\"pred_lab\"] = 0\n",
    "desa_pred_test[\"pred_lab\"][desa_pred_test.pred > 0.8] = 1"
   ]
  },
  {
   "cell_type": "code",
   "execution_count": 79,
   "id": "da7378d4-58be-48fa-af75-8fe5cef6551a",
   "metadata": {},
   "outputs": [
    {
     "name": "stdout",
     "output_type": "stream",
     "text": [
      "accuracy : 0.8271375464684015\n",
      "balanced_accuracy_score : 0.7766690595836324\n",
      "precision : 0.8841309823677582\n",
      "recall : 0.8819095477386935\n",
      "f1 : 0.8830188679245283\n",
      "rocauc : 0.7766690595836325\n"
     ]
    }
   ],
   "source": [
    "print(\"accuracy :\",  accuracy_score( desa_pred_test.true,desa_pred_test.pred_lab))\n",
    "print(\"balanced_accuracy_score :\",  balanced_accuracy_score( desa_pred_test.true,desa_pred_test.pred_lab))\n",
    "print(\"precision :\",  precision_score( desa_pred_test.true,desa_pred_test.pred_lab))\n",
    "print(\"recall :\",  recall_score( desa_pred_test.true,desa_pred_test.pred_lab))\n",
    "print(\"f1 :\",  f1_score( desa_pred_test.true,desa_pred_test.pred_lab))\n",
    "print(\"rocauc :\",  roc_auc_score( desa_pred_test.true,desa_pred_test.pred_lab))"
   ]
  },
  {
   "cell_type": "code",
   "execution_count": null,
   "id": "c858c45b-7f0b-472b-b25a-fdc42bf216a4",
   "metadata": {},
   "outputs": [],
   "source": []
  }
 ],
 "metadata": {
  "kernelspec": {
   "display_name": "Python 3 (ipykernel)",
   "language": "python",
   "name": "python3"
  },
  "language_info": {
   "codemirror_mode": {
    "name": "ipython",
    "version": 3
   },
   "file_extension": ".py",
   "mimetype": "text/x-python",
   "name": "python",
   "nbconvert_exporter": "python",
   "pygments_lexer": "ipython3",
   "version": "3.9.7"
  }
 },
 "nbformat": 4,
 "nbformat_minor": 5
}
