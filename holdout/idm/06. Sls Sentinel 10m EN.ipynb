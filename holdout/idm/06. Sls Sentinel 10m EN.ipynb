{
 "cells": [
  {
   "cell_type": "markdown",
   "id": "e6ade1c2-1160-437d-99d6-31754bbab1dc",
   "metadata": {},
   "source": [
    "# SLS Sentinel 10m EN"
   ]
  },
  {
   "cell_type": "markdown",
   "id": "c87e44b6-5516-4593-9dd3-269be3ff7f56",
   "metadata": {},
   "source": [
    "Kode modelling klasifikasi densenet dan resnet IDM pada data sentinel 2 10m dengan neighbor Envelope, input tingkat SLS."
   ]
  },
  {
   "cell_type": "code",
   "execution_count": 1,
   "id": "6b5301ad-0967-4fa2-b602-24fae3844253",
   "metadata": {},
   "outputs": [],
   "source": [
    "import fastai\n",
    "from fastai.vision.all import *\n",
    "import pandas as pd"
   ]
  },
  {
   "cell_type": "code",
   "execution_count": 2,
   "id": "4c6126f5-6665-4423-99f7-6845baa5e650",
   "metadata": {},
   "outputs": [],
   "source": [
    "from sklearn.metrics import accuracy_score, precision_score, recall_score, f1_score,roc_auc_score,balanced_accuracy_score\n",
    "import numpy as np"
   ]
  },
  {
   "cell_type": "markdown",
   "id": "d5c8d8c6-b800-4e94-b980-e7a235b3acfa",
   "metadata": {},
   "source": [
    "### SLS Dataset Review"
   ]
  },
  {
   "cell_type": "code",
   "execution_count": 3,
   "id": "6a8c1fce-8553-43f4-b944-bc7741fdd266",
   "metadata": {},
   "outputs": [
    {
     "name": "stderr",
     "output_type": "stream",
     "text": [
      "C:\\Users\\jwst2\\AppData\\Local\\Temp\\ipykernel_31020\\701159028.py:1: DtypeWarning: Columns (19,20,21,22) have mixed types. Specify dtype option on import or set low_memory=False.\n",
      "  sls = pd.read_csv(\"C:/Users/jwst2/Python/tesis/dataset/3200_sls.csv\")\n"
     ]
    }
   ],
   "source": [
    "sls = pd.read_csv(\"C:/Users/jwst2/Python/tesis/dataset/3200_sls.csv\")"
   ]
  },
  {
   "cell_type": "code",
   "execution_count": 4,
   "id": "240cf8ef-95ee-4410-9819-9b4e21492fca",
   "metadata": {},
   "outputs": [
    {
     "data": {
      "text/plain": [
       "(5957,)"
      ]
     },
     "execution_count": 4,
     "metadata": {},
     "output_type": "execute_result"
    }
   ],
   "source": [
    "sls.iddesa.unique().shape"
   ]
  },
  {
   "cell_type": "code",
   "execution_count": 5,
   "id": "1e9737af-4bd2-4b87-92a3-452ab9d445d0",
   "metadata": {},
   "outputs": [],
   "source": [
    "idm = pd.read_csv(\"C:/Users/jwst2/Python/tesis/dataset/newdata_edit.csv\")"
   ]
  },
  {
   "cell_type": "code",
   "execution_count": 6,
   "id": "8981f132-7601-486b-86e9-3f56797118cf",
   "metadata": {},
   "outputs": [],
   "source": [
    "sls_new = sls.set_index(\"iddesa\").join(idm.set_index(\"bps_kelurahan_kode\"), how =\"left\", rsuffix = \"idm\")"
   ]
  },
  {
   "cell_type": "code",
   "execution_count": 7,
   "id": "96394529-d3ea-4b0b-b4fd-a67bbd64157b",
   "metadata": {},
   "outputs": [],
   "source": [
    "sls_new[\"iddesa\"] = sls_new.index\n",
    "sls_new[\"bps_kelurahan_kode\"] = sls_new.index"
   ]
  },
  {
   "cell_type": "code",
   "execution_count": 8,
   "id": "ef111816-d420-4e73-8ea5-f07a676c5e29",
   "metadata": {},
   "outputs": [
    {
     "data": {
      "text/plain": [
       "(222861, 97)"
      ]
     },
     "execution_count": 8,
     "metadata": {},
     "output_type": "execute_result"
    }
   ],
   "source": [
    "sls_new.shape"
   ]
  },
  {
   "cell_type": "code",
   "execution_count": 9,
   "id": "32aed87a-d49a-4af8-9104-688dd9beb92e",
   "metadata": {},
   "outputs": [],
   "source": [
    "sls_new = sls_new.drop_duplicates([\"idsls\"])"
   ]
  },
  {
   "cell_type": "code",
   "execution_count": 10,
   "id": "43c1f05f-3c7a-4a49-b36d-fb871202a14a",
   "metadata": {},
   "outputs": [
    {
     "data": {
      "text/plain": [
       "(219919, 97)"
      ]
     },
     "execution_count": 10,
     "metadata": {},
     "output_type": "execute_result"
    }
   ],
   "source": [
    "sls_new.shape"
   ]
  },
  {
   "cell_type": "markdown",
   "id": "dd0d5064-bbc1-4c80-a62d-fe767fc96f03",
   "metadata": {},
   "source": [
    "#### Preprocessing"
   ]
  },
  {
   "cell_type": "code",
   "execution_count": 11,
   "id": "03918663-016f-4b79-85bf-1d17d297ebda",
   "metadata": {},
   "outputs": [],
   "source": [
    "yourpath = \"C:/Users/jwst2/Python/tesis/jpg/general sls sentinel 10m bound/\"\n",
    "destpath = 'C:/Users/jwst2/Python/tesis/jpg/IDM/06. SLS Sentinel 10m EN'"
   ]
  },
  {
   "cell_type": "code",
   "execution_count": 12,
   "id": "a0541718-1257-40ba-aa83-5839cd13a996",
   "metadata": {},
   "outputs": [],
   "source": [
    "os.chdir(destpath)\n",
    "if os.path.isdir('MAJU') is False:\n",
    "    os.makedirs('MAJU MANDIRI')\n",
    "    os.makedirs('TERTINGGAL BERKEMBANG')"
   ]
  },
  {
   "cell_type": "code",
   "execution_count": 13,
   "id": "05c534e0-b655-4829-a767-88be9d926e92",
   "metadata": {},
   "outputs": [
    {
     "name": "stderr",
     "output_type": "stream",
     "text": [
      "1it [15:57, 957.59s/it]\n"
     ]
    }
   ],
   "source": [
    "from tqdm import tqdm\n",
    "for root, dirs, files in tqdm(os.walk(yourpath, topdown=False)):\n",
    "    for name in files:\n",
    "        if(not sls_new.status[sls_new.bps_kelurahan_kode == int(name.replace(\".jpg\",\"\")[:10])].empty):\n",
    "            if(sls_new.status[sls_new.bps_kelurahan_kode == int(name.replace(\".jpg\",\"\")[:10])].iloc[0] == \"MAJU\"):\n",
    "                shutil.copy(os.path.join(root, name), destpath+\"/MAJU MANDIRI/\"+name)\n",
    "            elif(sls_new.status[sls_new.bps_kelurahan_kode == int(name.replace(\".jpg\",\"\")[:10])].iloc[0] == \"BERKEMBANG\"):\n",
    "                shutil.copy(os.path.join(root, name), destpath+\"/TERTINGGAL BERKEMBANG/\"+name)\n",
    "            elif(sls_new.status[sls_new.bps_kelurahan_kode == int(name.replace(\".jpg\",\"\")[:10])].iloc[0] == \"TERTINGGAL\"):\n",
    "                shutil.copy(os.path.join(root, name), destpath+\"/TERTINGGAL BERKEMBANG/\"+name)\n",
    "            elif(sls_new.status[sls_new.bps_kelurahan_kode == int(name.replace(\".jpg\",\"\")[:10])].iloc[0] == \"MANDIRI\"):\n",
    "                shutil.copy(os.path.join(root, name), destpath+\"/MAJU MANDIRI/\"+name)\n",
    "       "
   ]
  },
  {
   "cell_type": "code",
   "execution_count": 14,
   "id": "ba6f5638-d088-4d4a-9e68-8d8ce136f5ff",
   "metadata": {},
   "outputs": [],
   "source": [
    "test_path = 'C:/Users/jwst2/Python/tesis/jpg/IDM/test sls 10m en/'"
   ]
  },
  {
   "cell_type": "code",
   "execution_count": 15,
   "id": "67ea39bc-7108-4f3d-a267-d5b42105d082",
   "metadata": {},
   "outputs": [],
   "source": [
    "split = pd.read_csv(\"C:/Users/jwst2/Python/tesis/dataset/test_idm.csv\")"
   ]
  },
  {
   "cell_type": "code",
   "execution_count": 16,
   "id": "f07f38ae-a55e-4076-bee1-374a9f66e378",
   "metadata": {},
   "outputs": [],
   "source": [
    "split_test = split"
   ]
  },
  {
   "cell_type": "code",
   "execution_count": 17,
   "id": "7e5a3763-b072-4b1a-bb88-1b2f37e657a8",
   "metadata": {},
   "outputs": [],
   "source": [
    "os.chdir(test_path)\n",
    "if os.path.isdir('MAJU') is False:\n",
    "    os.makedirs('MAJU MANDIRI')\n",
    "    os.makedirs('TERTINGGAL BERKEMBANG')"
   ]
  },
  {
   "cell_type": "code",
   "execution_count": 18,
   "id": "c51ca8d6-22a7-4238-b9d6-dd11f6b5a166",
   "metadata": {},
   "outputs": [],
   "source": [
    "catlist = [\"MAJU MANDIRI\",\"TERTINGGAL BERKEMBANG\"]"
   ]
  },
  {
   "cell_type": "code",
   "execution_count": 19,
   "id": "58152181-e555-4f1c-8706-1254c9db5081",
   "metadata": {},
   "outputs": [
    {
     "data": {
      "text/plain": [
       "'C:/Users/jwst2/Python/tesis/jpg/IDM/06. SLS Sentinel 10m ENMAJU MANDIRI'"
      ]
     },
     "execution_count": 19,
     "metadata": {},
     "output_type": "execute_result"
    }
   ],
   "source": [
    "destpath + catlist[0]"
   ]
  },
  {
   "cell_type": "code",
   "execution_count": 20,
   "id": "d85105af-9944-4dff-b6da-8a03ff089b43",
   "metadata": {},
   "outputs": [
    {
     "name": "stdout",
     "output_type": "stream",
     "text": [
      "MAJU MANDIRI\n"
     ]
    },
    {
     "name": "stderr",
     "output_type": "stream",
     "text": [
      "1it [00:44, 44.77s/it]\n"
     ]
    },
    {
     "name": "stdout",
     "output_type": "stream",
     "text": [
      "TERTINGGAL BERKEMBANG\n"
     ]
    },
    {
     "name": "stderr",
     "output_type": "stream",
     "text": [
      "1it [00:55, 55.71s/it]\n"
     ]
    }
   ],
   "source": [
    "for i in range(0,2):\n",
    "    print(catlist[i])\n",
    "    yourpath = destpath +\"/\"+ catlist[i]\n",
    "    for root, dirs, files in tqdm(os.walk(yourpath, topdown=False)):\n",
    "        for name in files:\n",
    "            try :\n",
    "                if(split_test.iddesa.astype(str).str.contains(name[:10]).sum() > 0):\n",
    "                    shutil.move(os.path.join(root, name), test_path+catlist[i]+\"/\"+name)\n",
    "            except Exception:\n",
    "                print(name)\n",
    "                pass "
   ]
  },
  {
   "cell_type": "markdown",
   "id": "c4db6ad9-230f-4fb1-8802-d4d94084ab93",
   "metadata": {},
   "source": [
    "### Run Dataset"
   ]
  },
  {
   "cell_type": "code",
   "execution_count": 21,
   "id": "90fde506-4689-4fdd-a6ac-cd33a14d1fa7",
   "metadata": {},
   "outputs": [],
   "source": [
    "path = Path.cwd() / (destpath)"
   ]
  },
  {
   "cell_type": "code",
   "execution_count": 22,
   "id": "884088a1-f278-49ed-ba7a-84a8788ac906",
   "metadata": {},
   "outputs": [
    {
     "data": {
      "text/plain": [
       "(#2) [Path('MAJU MANDIRI'),Path('TERTINGGAL BERKEMBANG')]"
      ]
     },
     "execution_count": 22,
     "metadata": {},
     "output_type": "execute_result"
    }
   ],
   "source": [
    "Path.BASE_PATH = path\n",
    "path.ls()"
   ]
  },
  {
   "cell_type": "code",
   "execution_count": 23,
   "id": "bd185d8d-e0c7-4234-a389-964c9b58dd8b",
   "metadata": {},
   "outputs": [
    {
     "data": {
      "text/plain": [
       "Path('MAJU MANDIRI/32010200010001.jpg')"
      ]
     },
     "execution_count": 23,
     "metadata": {},
     "output_type": "execute_result"
    }
   ],
   "source": [
    "fname = (path/\"MAJU MANDIRI\").ls()[0]\n",
    "fname"
   ]
  },
  {
   "cell_type": "code",
   "execution_count": 24,
   "id": "52aafdf5-784f-43e5-82dc-98f1542f98ed",
   "metadata": {},
   "outputs": [
    {
     "data": {
      "image/png": "[encoded data removed]",
      "text/plain": [
       "<PIL.JpegImagePlugin.JpegImageFile image mode=RGB size=64x64 at 0x23984CB8DC0>"
      ]
     },
     "execution_count": 24,
     "metadata": {},
     "output_type": "execute_result"
    }
   ],
   "source": [
    "img = Image.open(fname)\n",
    "img"
   ]
  },
  {
   "cell_type": "code",
   "execution_count": 25,
   "id": "a528169c-6462-4eee-98cb-af609455d447",
   "metadata": {},
   "outputs": [],
   "source": [
    "blocks = DataBlock(blocks = (ImageBlock, CategoryBlock),\n",
    "                 get_items=get_image_files, # finds the images in the path\n",
    "                 splitter=RandomSplitter(valid_pct=0.1, seed=42),  # default random split 80% training, 20% validation\n",
    "                 get_y=parent_label,\n",
    "                 item_tfms = Resize(64)) # data augmentation (mult multiplies the default transformation values)"
   ]
  },
  {
   "cell_type": "code",
   "execution_count": 26,
   "id": "7d33721a-eeba-4cda-af33-84a8baace424",
   "metadata": {},
   "outputs": [
    {
     "name": "stdout",
     "output_type": "stream",
     "text": [
      "Due to IPython and Windows limitation, python multiprocessing isn't available now.\n",
      "So `number_workers` is changed to 0 to avoid getting stuck\n"
     ]
    }
   ],
   "source": [
    "dls = blocks.dataloaders(path)"
   ]
  },
  {
   "cell_type": "code",
   "execution_count": 27,
   "id": "eff7faf3-2588-4b9c-a678-08d148a16221",
   "metadata": {},
   "outputs": [
    {
     "data": {
      "image/png": "[encoded data removed]",
      "text/plain": [
       "<Figure size 1080x216 with 5 Axes>"
      ]
     },
     "metadata": {
      "needs_background": "light"
     },
     "output_type": "display_data"
    }
   ],
   "source": [
    "dls.show_batch(nrows=1, ncols=5)"
   ]
  },
  {
   "cell_type": "code",
   "execution_count": 28,
   "id": "8525b8dd-43c1-41dd-a1e7-eadb3de93d6d",
   "metadata": {},
   "outputs": [
    {
     "name": "stderr",
     "output_type": "stream",
     "text": [
      "C:\\Users\\jwst2\\anaconda3\\envs\\datasc\\lib\\site-packages\\fastai\\vision\\learner.py:265: UserWarning: `cnn_learner` has been renamed to `vision_learner` -- please update your code\n",
      "  warn(\"`cnn_learner` has been renamed to `vision_learner` -- please update your code\")\n"
     ]
    }
   ],
   "source": [
    "avg = 'macro'\n",
    "roca = RocAucBinary(average=avg)\n",
    "f1s = F1Score(average=avg)\n",
    "bc = BalancedAccuracy()\n",
    "metrics=[accuracy,bc, Precision(average=avg), Recall(average=avg), f1s, roca]\n",
    "learn = cnn_learner(dls, densenet121, metrics=metrics) "
   ]
  },
  {
   "cell_type": "code",
   "execution_count": 29,
   "id": "e0a0853a-62f8-44da-aaca-e02df72ece58",
   "metadata": {},
   "outputs": [
    {
     "data": {
      "text/html": [
       "\n",
       "<style>\n",
       "    /* Turns off some styling */\n",
       "    progress {\n",
       "        /* gets rid of default border in Firefox and Opera. */\n",
       "        border: none;\n",
       "        /* Needs to be in here for Safari polyfill so background images work as expected. */\n",
       "        background-size: auto;\n",
       "    }\n",
       "    .progress-bar-interrupted, .progress-bar-interrupted::-webkit-progress-bar {\n",
       "        background: #F44336;\n",
       "    }\n",
       "</style>\n"
      ],
      "text/plain": [
       "<IPython.core.display.HTML object>"
      ]
     },
     "metadata": {},
     "output_type": "display_data"
    },
    {
     "data": {
      "text/html": [],
      "text/plain": [
       "<IPython.core.display.HTML object>"
      ]
     },
     "metadata": {},
     "output_type": "display_data"
    },
    {
     "data": {
      "text/plain": [
       "SuggestedLRs(valley=0.00015848931798245758)"
      ]
     },
     "execution_count": 29,
     "metadata": {},
     "output_type": "execute_result"
    },
    {
     "data": {
      "image/png": "[encoded data removed]",
      "text/plain": [
       "<Figure size 432x288 with 1 Axes>"
      ]
     },
     "metadata": {
      "needs_background": "light"
     },
     "output_type": "display_data"
    }
   ],
   "source": [
    "learn.lr_find()"
   ]
  },
  {
   "cell_type": "code",
   "execution_count": 30,
   "id": "aab9f026-8749-42b2-abfb-60aa7c10aacb",
   "metadata": {},
   "outputs": [],
   "source": [
    "learn.unfreeze()"
   ]
  },
  {
   "cell_type": "code",
   "execution_count": 31,
   "id": "cd1f3ab9-a177-498f-9922-bf7ec2dd9724",
   "metadata": {},
   "outputs": [
    {
     "data": {
      "text/html": [
       "\n",
       "<style>\n",
       "    /* Turns off some styling */\n",
       "    progress {\n",
       "        /* gets rid of default border in Firefox and Opera. */\n",
       "        border: none;\n",
       "        /* Needs to be in here for Safari polyfill so background images work as expected. */\n",
       "        background-size: auto;\n",
       "    }\n",
       "    .progress-bar-interrupted, .progress-bar-interrupted::-webkit-progress-bar {\n",
       "        background: #F44336;\n",
       "    }\n",
       "</style>\n"
      ],
      "text/plain": [
       "<IPython.core.display.HTML object>"
      ]
     },
     "metadata": {},
     "output_type": "display_data"
    },
    {
     "data": {
      "text/html": [
       "<table border=\"1\" class=\"dataframe\">\n",
       "  <thead>\n",
       "    <tr style=\"text-align: left;\">\n",
       "      <th>epoch</th>\n",
       "      <th>train_loss</th>\n",
       "      <th>valid_loss</th>\n",
       "      <th>accuracy</th>\n",
       "      <th>balanced_accuracy_score</th>\n",
       "      <th>precision_score</th>\n",
       "      <th>recall_score</th>\n",
       "      <th>f1_score</th>\n",
       "      <th>roc_auc_score</th>\n",
       "      <th>time</th>\n",
       "    </tr>\n",
       "  </thead>\n",
       "  <tbody>\n",
       "    <tr>\n",
       "      <td>0</td>\n",
       "      <td>0.710550</td>\n",
       "      <td>2.436460</td>\n",
       "      <td>0.612757</td>\n",
       "      <td>0.576634</td>\n",
       "      <td>0.613327</td>\n",
       "      <td>0.576634</td>\n",
       "      <td>0.557262</td>\n",
       "      <td>0.653369</td>\n",
       "      <td>17:18</td>\n",
       "    </tr>\n",
       "    <tr>\n",
       "      <td>1</td>\n",
       "      <td>0.669315</td>\n",
       "      <td>0.792949</td>\n",
       "      <td>0.638871</td>\n",
       "      <td>0.612582</td>\n",
       "      <td>0.636679</td>\n",
       "      <td>0.612582</td>\n",
       "      <td>0.607528</td>\n",
       "      <td>0.663677</td>\n",
       "      <td>10:40</td>\n",
       "    </tr>\n",
       "    <tr>\n",
       "      <td>2</td>\n",
       "      <td>0.661432</td>\n",
       "      <td>0.690186</td>\n",
       "      <td>0.648193</td>\n",
       "      <td>0.620619</td>\n",
       "      <td>0.650074</td>\n",
       "      <td>0.620619</td>\n",
       "      <td>0.615012</td>\n",
       "      <td>0.677648</td>\n",
       "      <td>10:43</td>\n",
       "    </tr>\n",
       "    <tr>\n",
       "      <td>3</td>\n",
       "      <td>0.647075</td>\n",
       "      <td>0.639059</td>\n",
       "      <td>0.647363</td>\n",
       "      <td>0.626546</td>\n",
       "      <td>0.642361</td>\n",
       "      <td>0.626546</td>\n",
       "      <td>0.625417</td>\n",
       "      <td>0.678320</td>\n",
       "      <td>10:40</td>\n",
       "    </tr>\n",
       "    <tr>\n",
       "      <td>4</td>\n",
       "      <td>0.621047</td>\n",
       "      <td>0.677179</td>\n",
       "      <td>0.655280</td>\n",
       "      <td>0.639515</td>\n",
       "      <td>0.648859</td>\n",
       "      <td>0.639515</td>\n",
       "      <td>0.640214</td>\n",
       "      <td>0.687686</td>\n",
       "      <td>10:42</td>\n",
       "    </tr>\n",
       "    <tr>\n",
       "      <td>5</td>\n",
       "      <td>0.620456</td>\n",
       "      <td>1.425127</td>\n",
       "      <td>0.655791</td>\n",
       "      <td>0.633456</td>\n",
       "      <td>0.653396</td>\n",
       "      <td>0.633456</td>\n",
       "      <td>0.631914</td>\n",
       "      <td>0.691905</td>\n",
       "      <td>10:45</td>\n",
       "    </tr>\n",
       "    <tr>\n",
       "      <td>6</td>\n",
       "      <td>0.613729</td>\n",
       "      <td>0.717184</td>\n",
       "      <td>0.655472</td>\n",
       "      <td>0.634164</td>\n",
       "      <td>0.652129</td>\n",
       "      <td>0.634164</td>\n",
       "      <td>0.633118</td>\n",
       "      <td>0.693364</td>\n",
       "      <td>10:44</td>\n",
       "    </tr>\n",
       "  </tbody>\n",
       "</table>"
      ],
      "text/plain": [
       "<IPython.core.display.HTML object>"
      ]
     },
     "metadata": {},
     "output_type": "display_data"
    }
   ],
   "source": [
    "learn.fit_one_cycle(7,lr_max = 1e-3)"
   ]
  },
  {
   "cell_type": "code",
   "execution_count": 32,
   "id": "e7e1186a-d09b-4ead-a8db-46454c5c4dc0",
   "metadata": {},
   "outputs": [
    {
     "data": {
      "text/plain": [
       "['MAJU MANDIRI', 'TERTINGGAL BERKEMBANG']"
      ]
     },
     "execution_count": 32,
     "metadata": {},
     "output_type": "execute_result"
    }
   ],
   "source": [
    "dls.vocab"
   ]
  },
  {
   "cell_type": "code",
   "execution_count": 33,
   "id": "c5830bb5-c0bb-4680-b773-150c9ee2002c",
   "metadata": {},
   "outputs": [
    {
     "data": {
      "text/plain": [
       "Path('TERTINGGAL BERKEMBANG/32110700150013.jpg')"
      ]
     },
     "execution_count": 33,
     "metadata": {},
     "output_type": "execute_result"
    }
   ],
   "source": [
    "dls.train.items[1500]"
   ]
  },
  {
   "cell_type": "code",
   "execution_count": 34,
   "id": "5fe939ea-1480-48b4-b39c-6321fb45a3ff",
   "metadata": {},
   "outputs": [
    {
     "data": {
      "image/png": "[encoded data removed]",
      "text/plain": [
       "<Figure size 432x288 with 1 Axes>"
      ]
     },
     "metadata": {
      "needs_background": "light"
     },
     "output_type": "display_data"
    }
   ],
   "source": [
    "plt.plot(L(learn.recorder.values).itemgot(2));"
   ]
  },
  {
   "cell_type": "code",
   "execution_count": 35,
   "id": "22eb2b6b-07d9-4e3d-a37b-0ff0efe2c796",
   "metadata": {},
   "outputs": [
    {
     "data": {
      "text/html": [
       "\n",
       "<style>\n",
       "    /* Turns off some styling */\n",
       "    progress {\n",
       "        /* gets rid of default border in Firefox and Opera. */\n",
       "        border: none;\n",
       "        /* Needs to be in here for Safari polyfill so background images work as expected. */\n",
       "        background-size: auto;\n",
       "    }\n",
       "    .progress-bar-interrupted, .progress-bar-interrupted::-webkit-progress-bar {\n",
       "        background: #F44336;\n",
       "    }\n",
       "</style>\n"
      ],
      "text/plain": [
       "<IPython.core.display.HTML object>"
      ]
     },
     "metadata": {},
     "output_type": "display_data"
    },
    {
     "data": {
      "text/html": [],
      "text/plain": [
       "<IPython.core.display.HTML object>"
      ]
     },
     "metadata": {},
     "output_type": "display_data"
    },
    {
     "data": {
      "text/html": [
       "\n",
       "<style>\n",
       "    /* Turns off some styling */\n",
       "    progress {\n",
       "        /* gets rid of default border in Firefox and Opera. */\n",
       "        border: none;\n",
       "        /* Needs to be in here for Safari polyfill so background images work as expected. */\n",
       "        background-size: auto;\n",
       "    }\n",
       "    .progress-bar-interrupted, .progress-bar-interrupted::-webkit-progress-bar {\n",
       "        background: #F44336;\n",
       "    }\n",
       "</style>\n"
      ],
      "text/plain": [
       "<IPython.core.display.HTML object>"
      ]
     },
     "metadata": {},
     "output_type": "display_data"
    },
    {
     "data": {
      "text/html": [],
      "text/plain": [
       "<IPython.core.display.HTML object>"
      ]
     },
     "metadata": {},
     "output_type": "display_data"
    },
    {
     "data": {
      "image/png": "[encoded data removed]",
      "text/plain": [
       "<Figure size 720x720 with 1 Axes>"
      ]
     },
     "metadata": {
      "needs_background": "light"
     },
     "output_type": "display_data"
    }
   ],
   "source": [
    "interp = ClassificationInterpretation.from_learner(learn)\n",
    "interp.plot_confusion_matrix(figsize=(12,12), dpi=60)"
   ]
  },
  {
   "cell_type": "code",
   "execution_count": null,
   "id": "ad9d789a-c2ca-4d1f-88c9-ee7a1c7f144f",
   "metadata": {},
   "outputs": [],
   "source": [
    "interp.plot_top_losses(3, figsize=(20,11))"
   ]
  },
  {
   "cell_type": "code",
   "execution_count": 36,
   "id": "547ba6e2-d5a2-4f29-9dcb-fb9b2e109a5d",
   "metadata": {},
   "outputs": [],
   "source": [
    "learn.export('C:/Users/jwst2/Python/tesis/models/SLS Densenet Sentinel EN.pkl')"
   ]
  },
  {
   "cell_type": "markdown",
   "id": "a06daf77-bb94-4097-bc8f-263a1c65aed5",
   "metadata": {},
   "source": [
    "### Up level"
   ]
  },
  {
   "cell_type": "code",
   "execution_count": 37,
   "id": "f975b391-1a56-4d3c-ab42-829ace1febc3",
   "metadata": {},
   "outputs": [],
   "source": [
    "idx_train = []\n",
    "for i in dls.train.items:\n",
    "    idx_train.append(str(i)[-18:-4])\n",
    "true_label = []\n",
    "for i in dls.train.items:\n",
    "    if('TERTINGGAL BERKEMBANG' in str(i)) :\n",
    "        true_label.append(1)\n",
    "    else :\n",
    "        true_label.append(0)"
   ]
  },
  {
   "cell_type": "code",
   "execution_count": 38,
   "id": "1b9a6293-8ded-4ccd-8be5-282e8abf5ef4",
   "metadata": {},
   "outputs": [
    {
     "data": {
      "text/html": [
       "\n",
       "<style>\n",
       "    /* Turns off some styling */\n",
       "    progress {\n",
       "        /* gets rid of default border in Firefox and Opera. */\n",
       "        border: none;\n",
       "        /* Needs to be in here for Safari polyfill so background images work as expected. */\n",
       "        background-size: auto;\n",
       "    }\n",
       "    .progress-bar-interrupted, .progress-bar-interrupted::-webkit-progress-bar {\n",
       "        background: #F44336;\n",
       "    }\n",
       "</style>\n"
      ],
      "text/plain": [
       "<IPython.core.display.HTML object>"
      ]
     },
     "metadata": {},
     "output_type": "display_data"
    },
    {
     "data": {
      "text/html": [],
      "text/plain": [
       "<IPython.core.display.HTML object>"
      ]
     },
     "metadata": {},
     "output_type": "display_data"
    }
   ],
   "source": [
    "preds,_ = learn.get_preds(ds_idx  = 0)\n",
    "result_train = preds.numpy()\n",
    "new_train = pd.DataFrame(result_train)"
   ]
  },
  {
   "cell_type": "code",
   "execution_count": 39,
   "id": "f6f18366-923e-49d5-8470-4f5c63b89975",
   "metadata": {},
   "outputs": [
    {
     "data": {
      "text/plain": [
       "1    80145\n",
       "0    60817\n",
       "dtype: int64"
      ]
     },
     "execution_count": 39,
     "metadata": {},
     "output_type": "execute_result"
    }
   ],
   "source": [
    "pd.value_counts(true_label)"
   ]
  },
  {
   "cell_type": "code",
   "execution_count": 40,
   "id": "7baa9c67-e0bf-4fa0-b699-81028a698288",
   "metadata": {},
   "outputs": [
    {
     "data": {
      "text/html": [
       "<div>\n",
       "<style scoped>\n",
       "    .dataframe tbody tr th:only-of-type {\n",
       "        vertical-align: middle;\n",
       "    }\n",
       "\n",
       "    .dataframe tbody tr th {\n",
       "        vertical-align: top;\n",
       "    }\n",
       "\n",
       "    .dataframe thead th {\n",
       "        text-align: right;\n",
       "    }\n",
       "</style>\n",
       "<table border=\"1\" class=\"dataframe\">\n",
       "  <thead>\n",
       "    <tr style=\"text-align: right;\">\n",
       "      <th></th>\n",
       "      <th>0</th>\n",
       "      <th>1</th>\n",
       "      <th>idsls</th>\n",
       "      <th>stat</th>\n",
       "      <th>iddesa</th>\n",
       "    </tr>\n",
       "  </thead>\n",
       "  <tbody>\n",
       "    <tr>\n",
       "      <th>0</th>\n",
       "      <td>0.426797</td>\n",
       "      <td>0.573203</td>\n",
       "      <td>32130600040003</td>\n",
       "      <td>1.0</td>\n",
       "      <td>3213060004</td>\n",
       "    </tr>\n",
       "    <tr>\n",
       "      <th>1</th>\n",
       "      <td>0.260615</td>\n",
       "      <td>0.739385</td>\n",
       "      <td>32101600020001</td>\n",
       "      <td>1.0</td>\n",
       "      <td>3210160002</td>\n",
       "    </tr>\n",
       "    <tr>\n",
       "      <th>2</th>\n",
       "      <td>0.828572</td>\n",
       "      <td>0.171428</td>\n",
       "      <td>32130310070017</td>\n",
       "      <td>0.0</td>\n",
       "      <td>3213031007</td>\n",
       "    </tr>\n",
       "    <tr>\n",
       "      <th>3</th>\n",
       "      <td>0.428413</td>\n",
       "      <td>0.571587</td>\n",
       "      <td>32021400100032</td>\n",
       "      <td>1.0</td>\n",
       "      <td>3202140010</td>\n",
       "    </tr>\n",
       "    <tr>\n",
       "      <th>4</th>\n",
       "      <td>0.120739</td>\n",
       "      <td>0.879261</td>\n",
       "      <td>32061400050035</td>\n",
       "      <td>1.0</td>\n",
       "      <td>3206140005</td>\n",
       "    </tr>\n",
       "  </tbody>\n",
       "</table>\n",
       "</div>"
      ],
      "text/plain": [
       "          0         1           idsls  stat      iddesa\n",
       "0  0.426797  0.573203  32130600040003   1.0  3213060004\n",
       "1  0.260615  0.739385  32101600020001   1.0  3210160002\n",
       "2  0.828572  0.171428  32130310070017   0.0  3213031007\n",
       "3  0.428413  0.571587  32021400100032   1.0  3202140010\n",
       "4  0.120739  0.879261  32061400050035   1.0  3206140005"
      ]
     },
     "execution_count": 40,
     "metadata": {},
     "output_type": "execute_result"
    }
   ],
   "source": [
    "df = new_train\n",
    "df[\"idsls\"] = idx_train \n",
    "df[\"stat\"] = round(df[1])\n",
    "df[\"iddesa\"] = df.idsls.str[:10]\n",
    "df.head()"
   ]
  },
  {
   "cell_type": "code",
   "execution_count": 41,
   "id": "27375754-0aa1-4dde-af27-3d7f20cb244c",
   "metadata": {},
   "outputs": [
    {
     "data": {
      "text/plain": [
       "1.0    97718\n",
       "0.0    43244\n",
       "Name: stat, dtype: int64"
      ]
     },
     "execution_count": 41,
     "metadata": {},
     "output_type": "execute_result"
    }
   ],
   "source": [
    "pd.value_counts(df.stat)"
   ]
  },
  {
   "cell_type": "code",
   "execution_count": 42,
   "id": "51e93c51-a1f1-4c0d-92e0-984e5b78d065",
   "metadata": {},
   "outputs": [],
   "source": [
    "df[\"true_lab\"] = true_label"
   ]
  },
  {
   "cell_type": "code",
   "execution_count": 43,
   "id": "0823d3a6-312e-4355-b198-23eae6063316",
   "metadata": {},
   "outputs": [
    {
     "data": {
      "text/plain": [
       "1    80145\n",
       "0    60817\n",
       "Name: true_lab, dtype: int64"
      ]
     },
     "execution_count": 43,
     "metadata": {},
     "output_type": "execute_result"
    }
   ],
   "source": [
    "pd.value_counts(df.true_lab)"
   ]
  },
  {
   "cell_type": "code",
   "execution_count": 44,
   "id": "84ffac8a-28bd-4e7c-97b0-e4b46e397e64",
   "metadata": {},
   "outputs": [
    {
     "data": {
      "text/plain": [
       "0.660965366552688"
      ]
     },
     "execution_count": 44,
     "metadata": {},
     "output_type": "execute_result"
    }
   ],
   "source": [
    "accuracy_score(df.stat.apply(int),df.true_lab.apply(int))"
   ]
  },
  {
   "cell_type": "code",
   "execution_count": 45,
   "id": "caadfca2-e80e-4d01-8e5c-16c22d8e3900",
   "metadata": {},
   "outputs": [
    {
     "data": {
      "text/html": [
       "<div>\n",
       "<style scoped>\n",
       "    .dataframe tbody tr th:only-of-type {\n",
       "        vertical-align: middle;\n",
       "    }\n",
       "\n",
       "    .dataframe tbody tr th {\n",
       "        vertical-align: top;\n",
       "    }\n",
       "\n",
       "    .dataframe thead th {\n",
       "        text-align: right;\n",
       "    }\n",
       "</style>\n",
       "<table border=\"1\" class=\"dataframe\">\n",
       "  <thead>\n",
       "    <tr style=\"text-align: right;\">\n",
       "      <th></th>\n",
       "      <th>0</th>\n",
       "      <th>1</th>\n",
       "      <th>idsls</th>\n",
       "      <th>stat</th>\n",
       "      <th>iddesa</th>\n",
       "      <th>true_lab</th>\n",
       "    </tr>\n",
       "  </thead>\n",
       "  <tbody>\n",
       "    <tr>\n",
       "      <th>0</th>\n",
       "      <td>0.426797</td>\n",
       "      <td>0.573203</td>\n",
       "      <td>32130600040003</td>\n",
       "      <td>1.0</td>\n",
       "      <td>3213060004</td>\n",
       "      <td>1</td>\n",
       "    </tr>\n",
       "    <tr>\n",
       "      <th>1</th>\n",
       "      <td>0.260615</td>\n",
       "      <td>0.739385</td>\n",
       "      <td>32101600020001</td>\n",
       "      <td>1.0</td>\n",
       "      <td>3210160002</td>\n",
       "      <td>0</td>\n",
       "    </tr>\n",
       "    <tr>\n",
       "      <th>2</th>\n",
       "      <td>0.828572</td>\n",
       "      <td>0.171428</td>\n",
       "      <td>32130310070017</td>\n",
       "      <td>0.0</td>\n",
       "      <td>3213031007</td>\n",
       "      <td>1</td>\n",
       "    </tr>\n",
       "    <tr>\n",
       "      <th>3</th>\n",
       "      <td>0.428413</td>\n",
       "      <td>0.571587</td>\n",
       "      <td>32021400100032</td>\n",
       "      <td>1.0</td>\n",
       "      <td>3202140010</td>\n",
       "      <td>0</td>\n",
       "    </tr>\n",
       "    <tr>\n",
       "      <th>4</th>\n",
       "      <td>0.120739</td>\n",
       "      <td>0.879261</td>\n",
       "      <td>32061400050035</td>\n",
       "      <td>1.0</td>\n",
       "      <td>3206140005</td>\n",
       "      <td>1</td>\n",
       "    </tr>\n",
       "  </tbody>\n",
       "</table>\n",
       "</div>"
      ],
      "text/plain": [
       "          0         1           idsls  stat      iddesa  true_lab\n",
       "0  0.426797  0.573203  32130600040003   1.0  3213060004         1\n",
       "1  0.260615  0.739385  32101600020001   1.0  3210160002         0\n",
       "2  0.828572  0.171428  32130310070017   0.0  3213031007         1\n",
       "3  0.428413  0.571587  32021400100032   1.0  3202140010         0\n",
       "4  0.120739  0.879261  32061400050035   1.0  3206140005         1"
      ]
     },
     "execution_count": 45,
     "metadata": {},
     "output_type": "execute_result"
    }
   ],
   "source": [
    "df.head()"
   ]
  },
  {
   "cell_type": "code",
   "execution_count": 46,
   "id": "d72c35ba-448b-4f71-8a5f-6b03de74920f",
   "metadata": {},
   "outputs": [],
   "source": [
    "desa_pred = df.groupby('iddesa').agg({'stat': ['mean'], 'true_lab': 'mean'})"
   ]
  },
  {
   "cell_type": "code",
   "execution_count": 47,
   "id": "99a39f46-949f-42c8-a81e-28731b0fc783",
   "metadata": {},
   "outputs": [],
   "source": [
    "desa_pred.columns = [\"pred\",\"true\"]"
   ]
  },
  {
   "cell_type": "code",
   "execution_count": 48,
   "id": "580d8552-7a64-41df-ac54-823feee451f6",
   "metadata": {},
   "outputs": [
    {
     "data": {
      "text/plain": [
       "1.0    97718\n",
       "0.0    43244\n",
       "Name: stat, dtype: int64"
      ]
     },
     "execution_count": 48,
     "metadata": {},
     "output_type": "execute_result"
    }
   ],
   "source": [
    "pd.value_counts(df.stat)"
   ]
  },
  {
   "cell_type": "code",
   "execution_count": 49,
   "id": "8253e8fa-9c54-4d63-87a5-e59669b9ece2",
   "metadata": {},
   "outputs": [],
   "source": [
    "for i in np.arange(0.0, 0.95, 0.05):\n",
    "    value = round(i,3)\n",
    "    desa_pred[\"label\"+str(value)] = 0\n",
    "    desa_pred.loc[desa_pred.pred >value,\"label\"+str(value)] = 1"
   ]
  },
  {
   "cell_type": "code",
   "execution_count": 50,
   "id": "4366ffb4-4834-4bbf-a447-5469fa8cf4f9",
   "metadata": {},
   "outputs": [
    {
     "data": {
      "text/html": [
       "<div>\n",
       "<style scoped>\n",
       "    .dataframe tbody tr th:only-of-type {\n",
       "        vertical-align: middle;\n",
       "    }\n",
       "\n",
       "    .dataframe tbody tr th {\n",
       "        vertical-align: top;\n",
       "    }\n",
       "\n",
       "    .dataframe thead th {\n",
       "        text-align: right;\n",
       "    }\n",
       "</style>\n",
       "<table border=\"1\" class=\"dataframe\">\n",
       "  <thead>\n",
       "    <tr style=\"text-align: right;\">\n",
       "      <th></th>\n",
       "      <th>pred</th>\n",
       "      <th>true</th>\n",
       "      <th>label0.0</th>\n",
       "      <th>label0.05</th>\n",
       "      <th>label0.1</th>\n",
       "      <th>label0.15</th>\n",
       "      <th>label0.2</th>\n",
       "      <th>label0.25</th>\n",
       "      <th>label0.3</th>\n",
       "      <th>label0.35</th>\n",
       "      <th>...</th>\n",
       "      <th>label0.45</th>\n",
       "      <th>label0.5</th>\n",
       "      <th>label0.55</th>\n",
       "      <th>label0.6</th>\n",
       "      <th>label0.65</th>\n",
       "      <th>label0.7</th>\n",
       "      <th>label0.75</th>\n",
       "      <th>label0.8</th>\n",
       "      <th>label0.85</th>\n",
       "      <th>label0.9</th>\n",
       "    </tr>\n",
       "    <tr>\n",
       "      <th>iddesa</th>\n",
       "      <th></th>\n",
       "      <th></th>\n",
       "      <th></th>\n",
       "      <th></th>\n",
       "      <th></th>\n",
       "      <th></th>\n",
       "      <th></th>\n",
       "      <th></th>\n",
       "      <th></th>\n",
       "      <th></th>\n",
       "      <th></th>\n",
       "      <th></th>\n",
       "      <th></th>\n",
       "      <th></th>\n",
       "      <th></th>\n",
       "      <th></th>\n",
       "      <th></th>\n",
       "      <th></th>\n",
       "      <th></th>\n",
       "      <th></th>\n",
       "      <th></th>\n",
       "    </tr>\n",
       "  </thead>\n",
       "  <tbody>\n",
       "    <tr>\n",
       "      <th>3201010001</th>\n",
       "      <td>0.963636</td>\n",
       "      <td>1.0</td>\n",
       "      <td>1</td>\n",
       "      <td>1</td>\n",
       "      <td>1</td>\n",
       "      <td>1</td>\n",
       "      <td>1</td>\n",
       "      <td>1</td>\n",
       "      <td>1</td>\n",
       "      <td>1</td>\n",
       "      <td>...</td>\n",
       "      <td>1</td>\n",
       "      <td>1</td>\n",
       "      <td>1</td>\n",
       "      <td>1</td>\n",
       "      <td>1</td>\n",
       "      <td>1</td>\n",
       "      <td>1</td>\n",
       "      <td>1</td>\n",
       "      <td>1</td>\n",
       "      <td>1</td>\n",
       "    </tr>\n",
       "    <tr>\n",
       "      <th>3201010002</th>\n",
       "      <td>1.000000</td>\n",
       "      <td>1.0</td>\n",
       "      <td>1</td>\n",
       "      <td>1</td>\n",
       "      <td>1</td>\n",
       "      <td>1</td>\n",
       "      <td>1</td>\n",
       "      <td>1</td>\n",
       "      <td>1</td>\n",
       "      <td>1</td>\n",
       "      <td>...</td>\n",
       "      <td>1</td>\n",
       "      <td>1</td>\n",
       "      <td>1</td>\n",
       "      <td>1</td>\n",
       "      <td>1</td>\n",
       "      <td>1</td>\n",
       "      <td>1</td>\n",
       "      <td>1</td>\n",
       "      <td>1</td>\n",
       "      <td>1</td>\n",
       "    </tr>\n",
       "    <tr>\n",
       "      <th>3201010003</th>\n",
       "      <td>1.000000</td>\n",
       "      <td>1.0</td>\n",
       "      <td>1</td>\n",
       "      <td>1</td>\n",
       "      <td>1</td>\n",
       "      <td>1</td>\n",
       "      <td>1</td>\n",
       "      <td>1</td>\n",
       "      <td>1</td>\n",
       "      <td>1</td>\n",
       "      <td>...</td>\n",
       "      <td>1</td>\n",
       "      <td>1</td>\n",
       "      <td>1</td>\n",
       "      <td>1</td>\n",
       "      <td>1</td>\n",
       "      <td>1</td>\n",
       "      <td>1</td>\n",
       "      <td>1</td>\n",
       "      <td>1</td>\n",
       "      <td>1</td>\n",
       "    </tr>\n",
       "    <tr>\n",
       "      <th>3201010004</th>\n",
       "      <td>0.977273</td>\n",
       "      <td>1.0</td>\n",
       "      <td>1</td>\n",
       "      <td>1</td>\n",
       "      <td>1</td>\n",
       "      <td>1</td>\n",
       "      <td>1</td>\n",
       "      <td>1</td>\n",
       "      <td>1</td>\n",
       "      <td>1</td>\n",
       "      <td>...</td>\n",
       "      <td>1</td>\n",
       "      <td>1</td>\n",
       "      <td>1</td>\n",
       "      <td>1</td>\n",
       "      <td>1</td>\n",
       "      <td>1</td>\n",
       "      <td>1</td>\n",
       "      <td>1</td>\n",
       "      <td>1</td>\n",
       "      <td>1</td>\n",
       "    </tr>\n",
       "    <tr>\n",
       "      <th>3201010005</th>\n",
       "      <td>1.000000</td>\n",
       "      <td>1.0</td>\n",
       "      <td>1</td>\n",
       "      <td>1</td>\n",
       "      <td>1</td>\n",
       "      <td>1</td>\n",
       "      <td>1</td>\n",
       "      <td>1</td>\n",
       "      <td>1</td>\n",
       "      <td>1</td>\n",
       "      <td>...</td>\n",
       "      <td>1</td>\n",
       "      <td>1</td>\n",
       "      <td>1</td>\n",
       "      <td>1</td>\n",
       "      <td>1</td>\n",
       "      <td>1</td>\n",
       "      <td>1</td>\n",
       "      <td>1</td>\n",
       "      <td>1</td>\n",
       "      <td>1</td>\n",
       "    </tr>\n",
       "  </tbody>\n",
       "</table>\n",
       "<p>5 rows × 21 columns</p>\n",
       "</div>"
      ],
      "text/plain": [
       "                pred  true  label0.0  label0.05  label0.1  label0.15  \\\n",
       "iddesa                                                                 \n",
       "3201010001  0.963636   1.0         1          1         1          1   \n",
       "3201010002  1.000000   1.0         1          1         1          1   \n",
       "3201010003  1.000000   1.0         1          1         1          1   \n",
       "3201010004  0.977273   1.0         1          1         1          1   \n",
       "3201010005  1.000000   1.0         1          1         1          1   \n",
       "\n",
       "            label0.2  label0.25  label0.3  label0.35  ...  label0.45  \\\n",
       "iddesa                                                ...              \n",
       "3201010001         1          1         1          1  ...          1   \n",
       "3201010002         1          1         1          1  ...          1   \n",
       "3201010003         1          1         1          1  ...          1   \n",
       "3201010004         1          1         1          1  ...          1   \n",
       "3201010005         1          1         1          1  ...          1   \n",
       "\n",
       "            label0.5  label0.55  label0.6  label0.65  label0.7  label0.75  \\\n",
       "iddesa                                                                      \n",
       "3201010001         1          1         1          1         1          1   \n",
       "3201010002         1          1         1          1         1          1   \n",
       "3201010003         1          1         1          1         1          1   \n",
       "3201010004         1          1         1          1         1          1   \n",
       "3201010005         1          1         1          1         1          1   \n",
       "\n",
       "            label0.8  label0.85  label0.9  \n",
       "iddesa                                     \n",
       "3201010001         1          1         1  \n",
       "3201010002         1          1         1  \n",
       "3201010003         1          1         1  \n",
       "3201010004         1          1         1  \n",
       "3201010005         1          1         1  \n",
       "\n",
       "[5 rows x 21 columns]"
      ]
     },
     "execution_count": 50,
     "metadata": {},
     "output_type": "execute_result"
    }
   ],
   "source": [
    "desa_pred.head()"
   ]
  },
  {
   "cell_type": "code",
   "execution_count": 51,
   "id": "855a7f51-9fd3-418e-bd21-605fe7d0a113",
   "metadata": {},
   "outputs": [
    {
     "name": "stdout",
     "output_type": "stream",
     "text": [
      "result label0.0\n",
      "accuracy : 0.6442166910688141\n",
      "precision : 0.6432637571157496\n",
      "result label0.05\n",
      "accuracy : 0.6544655929721815\n",
      "precision : 0.6504273504273504\n",
      "result label0.1\n",
      "accuracy : 0.6655511399288851\n",
      "precision : 0.6589771490750816\n",
      "result label0.15\n",
      "accuracy : 0.6739175904622464\n",
      "precision : 0.665783079301966\n",
      "result label0.2\n",
      "accuracy : 0.6799832670989333\n",
      "precision : 0.6719101123595506\n",
      "result label0.25\n",
      "accuracy : 0.6829115247856097\n",
      "precision : 0.6763362265874828\n",
      "result label0.3\n",
      "accuracy : 0.6893955239489646\n",
      "precision : 0.6830969541966985\n",
      "result label0.35\n",
      "accuracy : 0.6946245555323154\n",
      "precision : 0.6894836570345808\n",
      "result label0.4\n",
      "accuracy : 0.6933695879523112\n",
      "precision : 0.6934466019417476\n",
      "result label0.45\n",
      "accuracy : 0.6950428780589835\n",
      "precision : 0.6986607142857143\n",
      "result label0.5\n",
      "accuracy : 0.698180297008994\n",
      "precision : 0.7067246228586039\n",
      "result label0.55\n",
      "accuracy : 0.7023635222756746\n",
      "precision : 0.7149986866298923\n",
      "result label0.6\n",
      "accuracy : 0.7015268772223384\n",
      "precision : 0.7238826432684398\n",
      "result label0.65\n",
      "accuracy : 0.699226103325664\n",
      "precision : 0.7301362088535754\n",
      "result label0.7\n",
      "accuracy : 0.6960886843756536\n",
      "precision : 0.7393506106642835\n",
      "result label0.75\n",
      "accuracy : 0.6898138464756327\n",
      "precision : 0.7499207606973058\n",
      "result label0.8\n",
      "accuracy : 0.6772641706755909\n",
      "precision : 0.7577302072714917\n"
     ]
    }
   ],
   "source": [
    "for j in range(2,19):\n",
    "    print(\"result\", desa_pred.columns[j])\n",
    "    print(\"accuracy :\",  accuracy_score( desa_pred.true,desa_pred.iloc[:,[j]]))\n",
    "    print(\"precision :\",  precision_score( desa_pred.true,desa_pred.iloc[:,[j]]))"
   ]
  },
  {
   "cell_type": "code",
   "execution_count": 52,
   "id": "13528e0d-92ad-4bd6-89b8-816048965e16",
   "metadata": {},
   "outputs": [
    {
     "data": {
      "text/plain": [
       "1.0    3060\n",
       "0.0    1721\n",
       "Name: true, dtype: int64"
      ]
     },
     "execution_count": 52,
     "metadata": {},
     "output_type": "execute_result"
    }
   ],
   "source": [
    "pd.value_counts(desa_pred.true)"
   ]
  },
  {
   "cell_type": "markdown",
   "id": "4e6bafd1-9eae-4547-ba47-30ebe21ea669",
   "metadata": {},
   "source": [
    "### Test result"
   ]
  },
  {
   "cell_type": "code",
   "execution_count": 53,
   "id": "b1c0e74b-6b00-48a1-8a42-c6d3596ab009",
   "metadata": {},
   "outputs": [],
   "source": [
    "path_pred = Path.cwd() / (test_path)\n",
    "test_files = [fn for fn in sorted((path_pred).glob('**/*')) if fn.is_file()]"
   ]
  },
  {
   "cell_type": "code",
   "execution_count": 54,
   "id": "c5177d4a-43de-426b-81c3-89a5ad10476a",
   "metadata": {},
   "outputs": [
    {
     "data": {
      "text/plain": [
       "17856"
      ]
     },
     "execution_count": 54,
     "metadata": {},
     "output_type": "execute_result"
    }
   ],
   "source": [
    "len(test_files)"
   ]
  },
  {
   "cell_type": "code",
   "execution_count": 55,
   "id": "2dbbb132-1ed0-459d-84c1-ed8e102bfce4",
   "metadata": {},
   "outputs": [],
   "source": [
    "test_dl = learn.dls.test_dl(test_files)"
   ]
  },
  {
   "cell_type": "code",
   "execution_count": 56,
   "id": "b8399e45-82ed-43ce-93ee-341a95d9c671",
   "metadata": {},
   "outputs": [
    {
     "data": {
      "text/html": [
       "\n",
       "<style>\n",
       "    /* Turns off some styling */\n",
       "    progress {\n",
       "        /* gets rid of default border in Firefox and Opera. */\n",
       "        border: none;\n",
       "        /* Needs to be in here for Safari polyfill so background images work as expected. */\n",
       "        background-size: auto;\n",
       "    }\n",
       "    .progress-bar-interrupted, .progress-bar-interrupted::-webkit-progress-bar {\n",
       "        background: #F44336;\n",
       "    }\n",
       "</style>\n"
      ],
      "text/plain": [
       "<IPython.core.display.HTML object>"
      ]
     },
     "metadata": {},
     "output_type": "display_data"
    },
    {
     "data": {
      "text/html": [],
      "text/plain": [
       "<IPython.core.display.HTML object>"
      ]
     },
     "metadata": {},
     "output_type": "display_data"
    }
   ],
   "source": [
    "preds,_ = learn.get_preds(dl  =test_dl)"
   ]
  },
  {
   "cell_type": "code",
   "execution_count": 57,
   "id": "36e7a605-1944-49da-8315-e7ee2fa846a5",
   "metadata": {},
   "outputs": [
    {
     "data": {
      "text/plain": [
       "'32010200170002'"
      ]
     },
     "execution_count": 57,
     "metadata": {},
     "output_type": "execute_result"
    }
   ],
   "source": [
    "str(test_files[1])[-18:-4]"
   ]
  },
  {
   "cell_type": "code",
   "execution_count": 58,
   "id": "ae98e9b7-69ae-4ad5-ac8b-a1ca764e77e1",
   "metadata": {},
   "outputs": [],
   "source": [
    "idx_test = []\n",
    "for i in test_files:\n",
    "    idx_test.append(str(i)[-18:-4])\n",
    "true_label = []\n",
    "for i in test_files:\n",
    "    if(\"TERTINGGAL BERKEMBANG\" in str(i)) :\n",
    "        true_label.append(1)\n",
    "    else :\n",
    "        true_label.append(0)"
   ]
  },
  {
   "cell_type": "code",
   "execution_count": 59,
   "id": "9db6caf2-7da7-4829-9dcb-ef4ae2cb02a4",
   "metadata": {},
   "outputs": [],
   "source": [
    "test = pd.DataFrame(preds)"
   ]
  },
  {
   "cell_type": "code",
   "execution_count": 60,
   "id": "e4b05cfe-563a-4f65-ab73-d359328afbac",
   "metadata": {},
   "outputs": [],
   "source": [
    "test[\"idsls\"] = idx_test\n",
    "test[\"true_lab\"] = true_label"
   ]
  },
  {
   "cell_type": "code",
   "execution_count": 61,
   "id": "e7bfa65d-944e-471a-a341-fe3f03d74bb1",
   "metadata": {},
   "outputs": [],
   "source": [
    "test[\"iddesa\"] = test.idsls.str[:10]\n",
    "test[\"stat\"] = round(test[1])"
   ]
  },
  {
   "cell_type": "code",
   "execution_count": 62,
   "id": "2d7b48c0-1b97-4a7b-9844-552152f94ea2",
   "metadata": {},
   "outputs": [
    {
     "data": {
      "text/html": [
       "<div>\n",
       "<style scoped>\n",
       "    .dataframe tbody tr th:only-of-type {\n",
       "        vertical-align: middle;\n",
       "    }\n",
       "\n",
       "    .dataframe tbody tr th {\n",
       "        vertical-align: top;\n",
       "    }\n",
       "\n",
       "    .dataframe thead th {\n",
       "        text-align: right;\n",
       "    }\n",
       "</style>\n",
       "<table border=\"1\" class=\"dataframe\">\n",
       "  <thead>\n",
       "    <tr style=\"text-align: right;\">\n",
       "      <th></th>\n",
       "      <th>0</th>\n",
       "      <th>1</th>\n",
       "      <th>idsls</th>\n",
       "      <th>true_lab</th>\n",
       "      <th>iddesa</th>\n",
       "      <th>stat</th>\n",
       "    </tr>\n",
       "  </thead>\n",
       "  <tbody>\n",
       "    <tr>\n",
       "      <th>0</th>\n",
       "      <td>0.211738</td>\n",
       "      <td>0.788262</td>\n",
       "      <td>32010200170001</td>\n",
       "      <td>0</td>\n",
       "      <td>3201020017</td>\n",
       "      <td>1.0</td>\n",
       "    </tr>\n",
       "    <tr>\n",
       "      <th>1</th>\n",
       "      <td>0.240572</td>\n",
       "      <td>0.759428</td>\n",
       "      <td>32010200170002</td>\n",
       "      <td>0</td>\n",
       "      <td>3201020017</td>\n",
       "      <td>1.0</td>\n",
       "    </tr>\n",
       "    <tr>\n",
       "      <th>2</th>\n",
       "      <td>0.228077</td>\n",
       "      <td>0.771923</td>\n",
       "      <td>32010200170003</td>\n",
       "      <td>0</td>\n",
       "      <td>3201020017</td>\n",
       "      <td>1.0</td>\n",
       "    </tr>\n",
       "    <tr>\n",
       "      <th>3</th>\n",
       "      <td>0.573697</td>\n",
       "      <td>0.426303</td>\n",
       "      <td>32010200170004</td>\n",
       "      <td>0</td>\n",
       "      <td>3201020017</td>\n",
       "      <td>0.0</td>\n",
       "    </tr>\n",
       "    <tr>\n",
       "      <th>4</th>\n",
       "      <td>0.594585</td>\n",
       "      <td>0.405415</td>\n",
       "      <td>32010200170005</td>\n",
       "      <td>0</td>\n",
       "      <td>3201020017</td>\n",
       "      <td>0.0</td>\n",
       "    </tr>\n",
       "  </tbody>\n",
       "</table>\n",
       "</div>"
      ],
      "text/plain": [
       "          0         1           idsls  true_lab      iddesa  stat\n",
       "0  0.211738  0.788262  32010200170001         0  3201020017   1.0\n",
       "1  0.240572  0.759428  32010200170002         0  3201020017   1.0\n",
       "2  0.228077  0.771923  32010200170003         0  3201020017   1.0\n",
       "3  0.573697  0.426303  32010200170004         0  3201020017   0.0\n",
       "4  0.594585  0.405415  32010200170005         0  3201020017   0.0"
      ]
     },
     "execution_count": 62,
     "metadata": {},
     "output_type": "execute_result"
    }
   ],
   "source": [
    "test.head()"
   ]
  },
  {
   "cell_type": "code",
   "execution_count": 63,
   "id": "c7a6d0dd-cdfe-4cd3-89a5-0cd6255ea55f",
   "metadata": {},
   "outputs": [],
   "source": [
    "desa_pred_test = test.groupby('iddesa').agg({'stat': ['mean'], 'true_lab': 'mean'})"
   ]
  },
  {
   "cell_type": "code",
   "execution_count": 64,
   "id": "46219c78-2263-49e6-8f5c-0ef512ffa7f5",
   "metadata": {},
   "outputs": [
    {
     "data": {
      "text/html": [
       "<div>\n",
       "<style scoped>\n",
       "    .dataframe tbody tr th:only-of-type {\n",
       "        vertical-align: middle;\n",
       "    }\n",
       "\n",
       "    .dataframe tbody tr th {\n",
       "        vertical-align: top;\n",
       "    }\n",
       "\n",
       "    .dataframe thead tr th {\n",
       "        text-align: left;\n",
       "    }\n",
       "\n",
       "    .dataframe thead tr:last-of-type th {\n",
       "        text-align: right;\n",
       "    }\n",
       "</style>\n",
       "<table border=\"1\" class=\"dataframe\">\n",
       "  <thead>\n",
       "    <tr>\n",
       "      <th></th>\n",
       "      <th>stat</th>\n",
       "      <th>true_lab</th>\n",
       "    </tr>\n",
       "    <tr>\n",
       "      <th></th>\n",
       "      <th>mean</th>\n",
       "      <th>mean</th>\n",
       "    </tr>\n",
       "    <tr>\n",
       "      <th>iddesa</th>\n",
       "      <th></th>\n",
       "      <th></th>\n",
       "    </tr>\n",
       "  </thead>\n",
       "  <tbody>\n",
       "    <tr>\n",
       "      <th>3201010011</th>\n",
       "      <td>0.777778</td>\n",
       "      <td>1.0</td>\n",
       "    </tr>\n",
       "    <tr>\n",
       "      <th>3201020002</th>\n",
       "      <td>0.857143</td>\n",
       "      <td>1.0</td>\n",
       "    </tr>\n",
       "    <tr>\n",
       "      <th>3201020017</th>\n",
       "      <td>0.325581</td>\n",
       "      <td>0.0</td>\n",
       "    </tr>\n",
       "    <tr>\n",
       "      <th>3201030009</th>\n",
       "      <td>0.979592</td>\n",
       "      <td>1.0</td>\n",
       "    </tr>\n",
       "    <tr>\n",
       "      <th>3201040009</th>\n",
       "      <td>0.750000</td>\n",
       "      <td>1.0</td>\n",
       "    </tr>\n",
       "    <tr>\n",
       "      <th>...</th>\n",
       "      <td>...</td>\n",
       "      <td>...</td>\n",
       "    </tr>\n",
       "    <tr>\n",
       "      <th>3218090012</th>\n",
       "      <td>1.000000</td>\n",
       "      <td>1.0</td>\n",
       "    </tr>\n",
       "    <tr>\n",
       "      <th>3218100001</th>\n",
       "      <td>1.000000</td>\n",
       "      <td>1.0</td>\n",
       "    </tr>\n",
       "    <tr>\n",
       "      <th>3218100004</th>\n",
       "      <td>1.000000</td>\n",
       "      <td>1.0</td>\n",
       "    </tr>\n",
       "    <tr>\n",
       "      <th>3279030002</th>\n",
       "      <td>1.000000</td>\n",
       "      <td>0.0</td>\n",
       "    </tr>\n",
       "    <tr>\n",
       "      <th>3279030008</th>\n",
       "      <td>0.953488</td>\n",
       "      <td>0.0</td>\n",
       "    </tr>\n",
       "  </tbody>\n",
       "</table>\n",
       "<p>531 rows × 2 columns</p>\n",
       "</div>"
      ],
      "text/plain": [
       "                stat true_lab\n",
       "                mean     mean\n",
       "iddesa                       \n",
       "3201010011  0.777778      1.0\n",
       "3201020002  0.857143      1.0\n",
       "3201020017  0.325581      0.0\n",
       "3201030009  0.979592      1.0\n",
       "3201040009  0.750000      1.0\n",
       "...              ...      ...\n",
       "3218090012  1.000000      1.0\n",
       "3218100001  1.000000      1.0\n",
       "3218100004  1.000000      1.0\n",
       "3279030002  1.000000      0.0\n",
       "3279030008  0.953488      0.0\n",
       "\n",
       "[531 rows x 2 columns]"
      ]
     },
     "execution_count": 64,
     "metadata": {},
     "output_type": "execute_result"
    }
   ],
   "source": [
    "desa_pred_test"
   ]
  },
  {
   "cell_type": "code",
   "execution_count": 65,
   "id": "3c181fbb-e76b-485b-b209-63e58f29ff4d",
   "metadata": {},
   "outputs": [],
   "source": [
    "desa_pred_test.columns = [\"pred\",\"true\"]"
   ]
  },
  {
   "cell_type": "code",
   "execution_count": 66,
   "id": "6489d636-897a-426d-9842-547b4a8c2ff7",
   "metadata": {},
   "outputs": [],
   "source": [
    "desa_pred_test[\"pred_lab\"] = 0\n",
    "desa_pred_test.loc[desa_pred_test.pred > 0.6,\"pred_lab\"] = 1"
   ]
  },
  {
   "cell_type": "code",
   "execution_count": 67,
   "id": "a1e663c1-2e37-4bd5-ad9b-9c1b9acd77e7",
   "metadata": {},
   "outputs": [
    {
     "data": {
      "text/html": [
       "<div>\n",
       "<style scoped>\n",
       "    .dataframe tbody tr th:only-of-type {\n",
       "        vertical-align: middle;\n",
       "    }\n",
       "\n",
       "    .dataframe tbody tr th {\n",
       "        vertical-align: top;\n",
       "    }\n",
       "\n",
       "    .dataframe thead th {\n",
       "        text-align: right;\n",
       "    }\n",
       "</style>\n",
       "<table border=\"1\" class=\"dataframe\">\n",
       "  <thead>\n",
       "    <tr style=\"text-align: right;\">\n",
       "      <th></th>\n",
       "      <th>pred</th>\n",
       "      <th>true</th>\n",
       "      <th>pred_lab</th>\n",
       "    </tr>\n",
       "    <tr>\n",
       "      <th>iddesa</th>\n",
       "      <th></th>\n",
       "      <th></th>\n",
       "      <th></th>\n",
       "    </tr>\n",
       "  </thead>\n",
       "  <tbody>\n",
       "    <tr>\n",
       "      <th>3201010011</th>\n",
       "      <td>0.777778</td>\n",
       "      <td>1.0</td>\n",
       "      <td>1</td>\n",
       "    </tr>\n",
       "    <tr>\n",
       "      <th>3201020002</th>\n",
       "      <td>0.857143</td>\n",
       "      <td>1.0</td>\n",
       "      <td>1</td>\n",
       "    </tr>\n",
       "    <tr>\n",
       "      <th>3201020017</th>\n",
       "      <td>0.325581</td>\n",
       "      <td>0.0</td>\n",
       "      <td>0</td>\n",
       "    </tr>\n",
       "    <tr>\n",
       "      <th>3201030009</th>\n",
       "      <td>0.979592</td>\n",
       "      <td>1.0</td>\n",
       "      <td>1</td>\n",
       "    </tr>\n",
       "    <tr>\n",
       "      <th>3201040009</th>\n",
       "      <td>0.750000</td>\n",
       "      <td>1.0</td>\n",
       "      <td>1</td>\n",
       "    </tr>\n",
       "    <tr>\n",
       "      <th>...</th>\n",
       "      <td>...</td>\n",
       "      <td>...</td>\n",
       "      <td>...</td>\n",
       "    </tr>\n",
       "    <tr>\n",
       "      <th>3218090012</th>\n",
       "      <td>1.000000</td>\n",
       "      <td>1.0</td>\n",
       "      <td>1</td>\n",
       "    </tr>\n",
       "    <tr>\n",
       "      <th>3218100001</th>\n",
       "      <td>1.000000</td>\n",
       "      <td>1.0</td>\n",
       "      <td>1</td>\n",
       "    </tr>\n",
       "    <tr>\n",
       "      <th>3218100004</th>\n",
       "      <td>1.000000</td>\n",
       "      <td>1.0</td>\n",
       "      <td>1</td>\n",
       "    </tr>\n",
       "    <tr>\n",
       "      <th>3279030002</th>\n",
       "      <td>1.000000</td>\n",
       "      <td>0.0</td>\n",
       "      <td>1</td>\n",
       "    </tr>\n",
       "    <tr>\n",
       "      <th>3279030008</th>\n",
       "      <td>0.953488</td>\n",
       "      <td>0.0</td>\n",
       "      <td>1</td>\n",
       "    </tr>\n",
       "  </tbody>\n",
       "</table>\n",
       "<p>531 rows × 3 columns</p>\n",
       "</div>"
      ],
      "text/plain": [
       "                pred  true  pred_lab\n",
       "iddesa                              \n",
       "3201010011  0.777778   1.0         1\n",
       "3201020002  0.857143   1.0         1\n",
       "3201020017  0.325581   0.0         0\n",
       "3201030009  0.979592   1.0         1\n",
       "3201040009  0.750000   1.0         1\n",
       "...              ...   ...       ...\n",
       "3218090012  1.000000   1.0         1\n",
       "3218100001  1.000000   1.0         1\n",
       "3218100004  1.000000   1.0         1\n",
       "3279030002  1.000000   0.0         1\n",
       "3279030008  0.953488   0.0         1\n",
       "\n",
       "[531 rows x 3 columns]"
      ]
     },
     "execution_count": 67,
     "metadata": {},
     "output_type": "execute_result"
    }
   ],
   "source": [
    "desa_pred_test"
   ]
  },
  {
   "cell_type": "code",
   "execution_count": 68,
   "id": "da7378d4-58be-48fa-af75-8fe5cef6551a",
   "metadata": {},
   "outputs": [
    {
     "name": "stdout",
     "output_type": "stream",
     "text": [
      "accuracy : 0.7156308851224106\n",
      "balanced_accuracy_score : 0.6455128205128206\n",
      "precision : 0.7463054187192119\n",
      "recall : 0.8632478632478633\n",
      "f1 : 0.8005284015852049\n",
      "rocauc : 0.6455128205128206\n"
     ]
    }
   ],
   "source": [
    "print(\"accuracy :\",  accuracy_score( desa_pred_test.true,desa_pred_test.pred_lab))\n",
    "print(\"balanced_accuracy_score :\",  balanced_accuracy_score( desa_pred_test.true,desa_pred_test.pred_lab))\n",
    "print(\"precision :\",  precision_score( desa_pred_test.true,desa_pred_test.pred_lab))\n",
    "print(\"recall :\",  recall_score( desa_pred_test.true,desa_pred_test.pred_lab))\n",
    "print(\"f1 :\",  f1_score( desa_pred_test.true,desa_pred_test.pred_lab))\n",
    "print(\"rocauc :\",  roc_auc_score( desa_pred_test.true,desa_pred_test.pred_lab))"
   ]
  },
  {
   "cell_type": "markdown",
   "id": "1460b95b-2b50-40e2-91c3-421e84c3672d",
   "metadata": {},
   "source": [
    "### Resnet"
   ]
  },
  {
   "cell_type": "code",
   "execution_count": 69,
   "id": "c431ce4b-372b-4616-9af3-6b8be80b5ea5",
   "metadata": {},
   "outputs": [
    {
     "name": "stderr",
     "output_type": "stream",
     "text": [
      "C:\\Users\\jwst2\\anaconda3\\envs\\datasc\\lib\\site-packages\\fastai\\vision\\learner.py:265: UserWarning: `cnn_learner` has been renamed to `vision_learner` -- please update your code\n",
      "  warn(\"`cnn_learner` has been renamed to `vision_learner` -- please update your code\")\n"
     ]
    }
   ],
   "source": [
    "learn_rs = cnn_learner(dls, resnet50, metrics=metrics) "
   ]
  },
  {
   "cell_type": "code",
   "execution_count": 70,
   "id": "2958c67b-5348-451c-bd36-0460324c03b2",
   "metadata": {},
   "outputs": [
    {
     "data": {
      "text/html": [
       "\n",
       "<style>\n",
       "    /* Turns off some styling */\n",
       "    progress {\n",
       "        /* gets rid of default border in Firefox and Opera. */\n",
       "        border: none;\n",
       "        /* Needs to be in here for Safari polyfill so background images work as expected. */\n",
       "        background-size: auto;\n",
       "    }\n",
       "    .progress-bar-interrupted, .progress-bar-interrupted::-webkit-progress-bar {\n",
       "        background: #F44336;\n",
       "    }\n",
       "</style>\n"
      ],
      "text/plain": [
       "<IPython.core.display.HTML object>"
      ]
     },
     "metadata": {},
     "output_type": "display_data"
    },
    {
     "data": {
      "text/html": [],
      "text/plain": [
       "<IPython.core.display.HTML object>"
      ]
     },
     "metadata": {},
     "output_type": "display_data"
    },
    {
     "data": {
      "text/plain": [
       "SuggestedLRs(valley=0.0003311311302240938)"
      ]
     },
     "execution_count": 70,
     "metadata": {},
     "output_type": "execute_result"
    },
    {
     "data": {
      "image/png": "[encoded data removed]",
      "text/plain": [
       "<Figure size 432x288 with 1 Axes>"
      ]
     },
     "metadata": {
      "needs_background": "light"
     },
     "output_type": "display_data"
    }
   ],
   "source": [
    "learn_rs.lr_find()"
   ]
  },
  {
   "cell_type": "code",
   "execution_count": 71,
   "id": "07e6c62e-4191-4644-b67d-93f4f906f577",
   "metadata": {},
   "outputs": [],
   "source": [
    "learn_rs.unfreeze()"
   ]
  },
  {
   "cell_type": "code",
   "execution_count": 72,
   "id": "84155c12-95b7-4883-8e0a-f1d54a4797c9",
   "metadata": {},
   "outputs": [
    {
     "data": {
      "text/html": [
       "\n",
       "<style>\n",
       "    /* Turns off some styling */\n",
       "    progress {\n",
       "        /* gets rid of default border in Firefox and Opera. */\n",
       "        border: none;\n",
       "        /* Needs to be in here for Safari polyfill so background images work as expected. */\n",
       "        background-size: auto;\n",
       "    }\n",
       "    .progress-bar-interrupted, .progress-bar-interrupted::-webkit-progress-bar {\n",
       "        background: #F44336;\n",
       "    }\n",
       "</style>\n"
      ],
      "text/plain": [
       "<IPython.core.display.HTML object>"
      ]
     },
     "metadata": {},
     "output_type": "display_data"
    },
    {
     "data": {
      "text/html": [
       "<table border=\"1\" class=\"dataframe\">\n",
       "  <thead>\n",
       "    <tr style=\"text-align: left;\">\n",
       "      <th>epoch</th>\n",
       "      <th>train_loss</th>\n",
       "      <th>valid_loss</th>\n",
       "      <th>accuracy</th>\n",
       "      <th>balanced_accuracy_score</th>\n",
       "      <th>precision_score</th>\n",
       "      <th>recall_score</th>\n",
       "      <th>f1_score</th>\n",
       "      <th>roc_auc_score</th>\n",
       "      <th>time</th>\n",
       "    </tr>\n",
       "  </thead>\n",
       "  <tbody>\n",
       "    <tr>\n",
       "      <td>0</td>\n",
       "      <td>0.712050</td>\n",
       "      <td>0.675465</td>\n",
       "      <td>0.625144</td>\n",
       "      <td>0.589668</td>\n",
       "      <td>0.631094</td>\n",
       "      <td>0.589668</td>\n",
       "      <td>0.572567</td>\n",
       "      <td>0.661336</td>\n",
       "      <td>08:12</td>\n",
       "    </tr>\n",
       "    <tr>\n",
       "      <td>1</td>\n",
       "      <td>0.685875</td>\n",
       "      <td>0.674326</td>\n",
       "      <td>0.608032</td>\n",
       "      <td>0.591398</td>\n",
       "      <td>0.597580</td>\n",
       "      <td>0.591398</td>\n",
       "      <td>0.590811</td>\n",
       "      <td>0.631413</td>\n",
       "      <td>08:15</td>\n",
       "    </tr>\n",
       "    <tr>\n",
       "      <td>2</td>\n",
       "      <td>0.655467</td>\n",
       "      <td>0.655291</td>\n",
       "      <td>0.643085</td>\n",
       "      <td>0.619821</td>\n",
       "      <td>0.639085</td>\n",
       "      <td>0.619821</td>\n",
       "      <td>0.617183</td>\n",
       "      <td>0.669167</td>\n",
       "      <td>08:20</td>\n",
       "    </tr>\n",
       "    <tr>\n",
       "      <td>3</td>\n",
       "      <td>0.652633</td>\n",
       "      <td>0.637873</td>\n",
       "      <td>0.647874</td>\n",
       "      <td>0.625052</td>\n",
       "      <td>0.644429</td>\n",
       "      <td>0.625052</td>\n",
       "      <td>0.622894</td>\n",
       "      <td>0.677099</td>\n",
       "      <td>08:22</td>\n",
       "    </tr>\n",
       "    <tr>\n",
       "      <td>4</td>\n",
       "      <td>0.636680</td>\n",
       "      <td>0.660888</td>\n",
       "      <td>0.648448</td>\n",
       "      <td>0.622607</td>\n",
       "      <td>0.648161</td>\n",
       "      <td>0.622607</td>\n",
       "      <td>0.618444</td>\n",
       "      <td>0.672119</td>\n",
       "      <td>08:18</td>\n",
       "    </tr>\n",
       "    <tr>\n",
       "      <td>5</td>\n",
       "      <td>0.631936</td>\n",
       "      <td>0.629525</td>\n",
       "      <td>0.655919</td>\n",
       "      <td>0.635214</td>\n",
       "      <td>0.652175</td>\n",
       "      <td>0.635214</td>\n",
       "      <td>0.634457</td>\n",
       "      <td>0.687122</td>\n",
       "      <td>08:17</td>\n",
       "    </tr>\n",
       "    <tr>\n",
       "      <td>6</td>\n",
       "      <td>0.624994</td>\n",
       "      <td>0.626461</td>\n",
       "      <td>0.657451</td>\n",
       "      <td>0.634238</td>\n",
       "      <td>0.656245</td>\n",
       "      <td>0.634238</td>\n",
       "      <td>0.632289</td>\n",
       "      <td>0.690798</td>\n",
       "      <td>08:17</td>\n",
       "    </tr>\n",
       "  </tbody>\n",
       "</table>"
      ],
      "text/plain": [
       "<IPython.core.display.HTML object>"
      ]
     },
     "metadata": {},
     "output_type": "display_data"
    }
   ],
   "source": [
    "learn_rs.fit_one_cycle(7,lr_max= 1e-3)"
   ]
  },
  {
   "cell_type": "code",
   "execution_count": 73,
   "id": "d8e90b49-d365-4716-b7db-bf37c1c3cad4",
   "metadata": {},
   "outputs": [],
   "source": [
    "learn_rs.export('C:/Users/jwst2/Python/tesis/models/SLS resnet sentinel EN.pkl')"
   ]
  },
  {
   "cell_type": "code",
   "execution_count": 74,
   "id": "d078c146-cdf1-4e15-9779-0c5a348dae3a",
   "metadata": {},
   "outputs": [],
   "source": [
    "idx_train = []\n",
    "for i in dls.train.items:\n",
    "    idx_train.append(str(i)[-18:-4])\n",
    "true_label = []\n",
    "for i in dls.train.items:\n",
    "    if(\"TERTINGGAL BERKEMBANG\" in str(i)) :\n",
    "        true_label.append(1)\n",
    "    else :\n",
    "        true_label.append(0)"
   ]
  },
  {
   "cell_type": "code",
   "execution_count": 75,
   "id": "3e28cb4e-d7e3-4a81-bcc5-619fb44db83a",
   "metadata": {},
   "outputs": [
    {
     "data": {
      "text/html": [
       "\n",
       "<style>\n",
       "    /* Turns off some styling */\n",
       "    progress {\n",
       "        /* gets rid of default border in Firefox and Opera. */\n",
       "        border: none;\n",
       "        /* Needs to be in here for Safari polyfill so background images work as expected. */\n",
       "        background-size: auto;\n",
       "    }\n",
       "    .progress-bar-interrupted, .progress-bar-interrupted::-webkit-progress-bar {\n",
       "        background: #F44336;\n",
       "    }\n",
       "</style>\n"
      ],
      "text/plain": [
       "<IPython.core.display.HTML object>"
      ]
     },
     "metadata": {},
     "output_type": "display_data"
    },
    {
     "data": {
      "text/html": [],
      "text/plain": [
       "<IPython.core.display.HTML object>"
      ]
     },
     "metadata": {},
     "output_type": "display_data"
    }
   ],
   "source": [
    "preds,_ = learn_rs.get_preds(ds_idx  = 0)\n",
    "result_train = preds.numpy()\n",
    "new_train = pd.DataFrame(result_train)"
   ]
  },
  {
   "cell_type": "code",
   "execution_count": 76,
   "id": "20f99e2d-a6eb-413d-8382-d652365497b3",
   "metadata": {},
   "outputs": [
    {
     "data": {
      "text/html": [
       "<div>\n",
       "<style scoped>\n",
       "    .dataframe tbody tr th:only-of-type {\n",
       "        vertical-align: middle;\n",
       "    }\n",
       "\n",
       "    .dataframe tbody tr th {\n",
       "        vertical-align: top;\n",
       "    }\n",
       "\n",
       "    .dataframe thead th {\n",
       "        text-align: right;\n",
       "    }\n",
       "</style>\n",
       "<table border=\"1\" class=\"dataframe\">\n",
       "  <thead>\n",
       "    <tr style=\"text-align: right;\">\n",
       "      <th></th>\n",
       "      <th>0</th>\n",
       "      <th>1</th>\n",
       "      <th>idsls</th>\n",
       "      <th>stat</th>\n",
       "      <th>iddesa</th>\n",
       "    </tr>\n",
       "  </thead>\n",
       "  <tbody>\n",
       "    <tr>\n",
       "      <th>0</th>\n",
       "      <td>0.377133</td>\n",
       "      <td>0.622867</td>\n",
       "      <td>32130600040003</td>\n",
       "      <td>1.0</td>\n",
       "      <td>3213060004</td>\n",
       "    </tr>\n",
       "    <tr>\n",
       "      <th>1</th>\n",
       "      <td>0.316252</td>\n",
       "      <td>0.683748</td>\n",
       "      <td>32101600020001</td>\n",
       "      <td>1.0</td>\n",
       "      <td>3210160002</td>\n",
       "    </tr>\n",
       "    <tr>\n",
       "      <th>2</th>\n",
       "      <td>0.809765</td>\n",
       "      <td>0.190235</td>\n",
       "      <td>32130310070017</td>\n",
       "      <td>0.0</td>\n",
       "      <td>3213031007</td>\n",
       "    </tr>\n",
       "    <tr>\n",
       "      <th>3</th>\n",
       "      <td>0.478805</td>\n",
       "      <td>0.521195</td>\n",
       "      <td>32021400100032</td>\n",
       "      <td>1.0</td>\n",
       "      <td>3202140010</td>\n",
       "    </tr>\n",
       "    <tr>\n",
       "      <th>4</th>\n",
       "      <td>0.222268</td>\n",
       "      <td>0.777732</td>\n",
       "      <td>32061400050035</td>\n",
       "      <td>1.0</td>\n",
       "      <td>3206140005</td>\n",
       "    </tr>\n",
       "  </tbody>\n",
       "</table>\n",
       "</div>"
      ],
      "text/plain": [
       "          0         1           idsls  stat      iddesa\n",
       "0  0.377133  0.622867  32130600040003   1.0  3213060004\n",
       "1  0.316252  0.683748  32101600020001   1.0  3210160002\n",
       "2  0.809765  0.190235  32130310070017   0.0  3213031007\n",
       "3  0.478805  0.521195  32021400100032   1.0  3202140010\n",
       "4  0.222268  0.777732  32061400050035   1.0  3206140005"
      ]
     },
     "execution_count": 76,
     "metadata": {},
     "output_type": "execute_result"
    }
   ],
   "source": [
    "df = new_train\n",
    "df[\"idsls\"] = idx_train \n",
    "df[\"stat\"] = round(df[1])\n",
    "df[\"iddesa\"] = df.idsls.str[:10]\n",
    "df.head()"
   ]
  },
  {
   "cell_type": "code",
   "execution_count": 77,
   "id": "38f2cd45-f1f2-45e2-813f-7922c5cbd351",
   "metadata": {},
   "outputs": [
    {
     "data": {
      "text/plain": [
       "1.0    99808\n",
       "0.0    41154\n",
       "Name: stat, dtype: int64"
      ]
     },
     "execution_count": 77,
     "metadata": {},
     "output_type": "execute_result"
    }
   ],
   "source": [
    "pd.value_counts(df.stat)"
   ]
  },
  {
   "cell_type": "code",
   "execution_count": 78,
   "id": "7c92d325-7b01-4f17-a177-ee6d728fe42a",
   "metadata": {},
   "outputs": [],
   "source": [
    "df[\"true_lab\"] = true_label"
   ]
  },
  {
   "cell_type": "code",
   "execution_count": 79,
   "id": "b0b32911-f8d2-48ef-99a3-5a97520bfd33",
   "metadata": {},
   "outputs": [
    {
     "data": {
      "text/plain": [
       "1    80145\n",
       "0    60817\n",
       "Name: true_lab, dtype: int64"
      ]
     },
     "execution_count": 79,
     "metadata": {},
     "output_type": "execute_result"
    }
   ],
   "source": [
    "pd.value_counts(df.true_lab)"
   ]
  },
  {
   "cell_type": "code",
   "execution_count": 80,
   "id": "5c7ff018-7f0a-4466-8bb6-1d75325f2f9d",
   "metadata": {},
   "outputs": [
    {
     "data": {
      "text/plain": [
       "0.6610079312155049"
      ]
     },
     "execution_count": 80,
     "metadata": {},
     "output_type": "execute_result"
    }
   ],
   "source": [
    "accuracy_score(df.stat.apply(int),df.true_lab.apply(int))"
   ]
  },
  {
   "cell_type": "code",
   "execution_count": 81,
   "id": "3dca71a1-630b-460c-8931-7dfbd34a11a7",
   "metadata": {},
   "outputs": [
    {
     "data": {
      "text/html": [
       "<div>\n",
       "<style scoped>\n",
       "    .dataframe tbody tr th:only-of-type {\n",
       "        vertical-align: middle;\n",
       "    }\n",
       "\n",
       "    .dataframe tbody tr th {\n",
       "        vertical-align: top;\n",
       "    }\n",
       "\n",
       "    .dataframe thead th {\n",
       "        text-align: right;\n",
       "    }\n",
       "</style>\n",
       "<table border=\"1\" class=\"dataframe\">\n",
       "  <thead>\n",
       "    <tr style=\"text-align: right;\">\n",
       "      <th></th>\n",
       "      <th>0</th>\n",
       "      <th>1</th>\n",
       "      <th>idsls</th>\n",
       "      <th>stat</th>\n",
       "      <th>iddesa</th>\n",
       "      <th>true_lab</th>\n",
       "    </tr>\n",
       "  </thead>\n",
       "  <tbody>\n",
       "    <tr>\n",
       "      <th>0</th>\n",
       "      <td>0.377133</td>\n",
       "      <td>0.622867</td>\n",
       "      <td>32130600040003</td>\n",
       "      <td>1.0</td>\n",
       "      <td>3213060004</td>\n",
       "      <td>1</td>\n",
       "    </tr>\n",
       "    <tr>\n",
       "      <th>1</th>\n",
       "      <td>0.316252</td>\n",
       "      <td>0.683748</td>\n",
       "      <td>32101600020001</td>\n",
       "      <td>1.0</td>\n",
       "      <td>3210160002</td>\n",
       "      <td>0</td>\n",
       "    </tr>\n",
       "    <tr>\n",
       "      <th>2</th>\n",
       "      <td>0.809765</td>\n",
       "      <td>0.190235</td>\n",
       "      <td>32130310070017</td>\n",
       "      <td>0.0</td>\n",
       "      <td>3213031007</td>\n",
       "      <td>1</td>\n",
       "    </tr>\n",
       "    <tr>\n",
       "      <th>3</th>\n",
       "      <td>0.478805</td>\n",
       "      <td>0.521195</td>\n",
       "      <td>32021400100032</td>\n",
       "      <td>1.0</td>\n",
       "      <td>3202140010</td>\n",
       "      <td>0</td>\n",
       "    </tr>\n",
       "    <tr>\n",
       "      <th>4</th>\n",
       "      <td>0.222268</td>\n",
       "      <td>0.777732</td>\n",
       "      <td>32061400050035</td>\n",
       "      <td>1.0</td>\n",
       "      <td>3206140005</td>\n",
       "      <td>1</td>\n",
       "    </tr>\n",
       "  </tbody>\n",
       "</table>\n",
       "</div>"
      ],
      "text/plain": [
       "          0         1           idsls  stat      iddesa  true_lab\n",
       "0  0.377133  0.622867  32130600040003   1.0  3213060004         1\n",
       "1  0.316252  0.683748  32101600020001   1.0  3210160002         0\n",
       "2  0.809765  0.190235  32130310070017   0.0  3213031007         1\n",
       "3  0.478805  0.521195  32021400100032   1.0  3202140010         0\n",
       "4  0.222268  0.777732  32061400050035   1.0  3206140005         1"
      ]
     },
     "execution_count": 81,
     "metadata": {},
     "output_type": "execute_result"
    }
   ],
   "source": [
    "df.head()"
   ]
  },
  {
   "cell_type": "code",
   "execution_count": 82,
   "id": "affbca92-8050-4123-a970-3a73af7c58d8",
   "metadata": {},
   "outputs": [],
   "source": [
    "desa_pred = df.groupby('iddesa').agg({'stat': ['mean'], 'true_lab': 'mean'})"
   ]
  },
  {
   "cell_type": "code",
   "execution_count": 83,
   "id": "350113ec-71bb-4833-9265-97f623769ad3",
   "metadata": {},
   "outputs": [],
   "source": [
    "desa_pred.columns = [\"pred\",\"true\"]"
   ]
  },
  {
   "cell_type": "code",
   "execution_count": 84,
   "id": "8f961ce6-462c-4329-aab7-b4e85855c565",
   "metadata": {},
   "outputs": [
    {
     "data": {
      "text/plain": [
       "1.0    99808\n",
       "0.0    41154\n",
       "Name: stat, dtype: int64"
      ]
     },
     "execution_count": 84,
     "metadata": {},
     "output_type": "execute_result"
    }
   ],
   "source": [
    "pd.value_counts(df.stat)"
   ]
  },
  {
   "cell_type": "code",
   "execution_count": 85,
   "id": "a7b68879-13b3-415e-b696-01c93222128f",
   "metadata": {},
   "outputs": [],
   "source": [
    "for i in np.arange(0.1, 0.95, 0.05):\n",
    "    value = round(i,2)\n",
    "    desa_pred[\"label\"+str(value)] = 0\n",
    "    desa_pred.loc[desa_pred.pred > value,\"label\"+str(value)] = 1"
   ]
  },
  {
   "cell_type": "code",
   "execution_count": 86,
   "id": "9f38fc2d-b2e4-4d21-ab21-96aa6da2ff5a",
   "metadata": {},
   "outputs": [
    {
     "data": {
      "text/html": [
       "<div>\n",
       "<style scoped>\n",
       "    .dataframe tbody tr th:only-of-type {\n",
       "        vertical-align: middle;\n",
       "    }\n",
       "\n",
       "    .dataframe tbody tr th {\n",
       "        vertical-align: top;\n",
       "    }\n",
       "\n",
       "    .dataframe thead th {\n",
       "        text-align: right;\n",
       "    }\n",
       "</style>\n",
       "<table border=\"1\" class=\"dataframe\">\n",
       "  <thead>\n",
       "    <tr style=\"text-align: right;\">\n",
       "      <th></th>\n",
       "      <th>pred</th>\n",
       "      <th>true</th>\n",
       "      <th>label0.1</th>\n",
       "      <th>label0.15</th>\n",
       "      <th>label0.2</th>\n",
       "      <th>label0.25</th>\n",
       "      <th>label0.3</th>\n",
       "      <th>label0.35</th>\n",
       "      <th>label0.4</th>\n",
       "      <th>label0.45</th>\n",
       "      <th>label0.5</th>\n",
       "      <th>label0.55</th>\n",
       "      <th>label0.6</th>\n",
       "      <th>label0.65</th>\n",
       "      <th>label0.7</th>\n",
       "      <th>label0.75</th>\n",
       "      <th>label0.8</th>\n",
       "      <th>label0.85</th>\n",
       "      <th>label0.9</th>\n",
       "    </tr>\n",
       "    <tr>\n",
       "      <th>iddesa</th>\n",
       "      <th></th>\n",
       "      <th></th>\n",
       "      <th></th>\n",
       "      <th></th>\n",
       "      <th></th>\n",
       "      <th></th>\n",
       "      <th></th>\n",
       "      <th></th>\n",
       "      <th></th>\n",
       "      <th></th>\n",
       "      <th></th>\n",
       "      <th></th>\n",
       "      <th></th>\n",
       "      <th></th>\n",
       "      <th></th>\n",
       "      <th></th>\n",
       "      <th></th>\n",
       "      <th></th>\n",
       "      <th></th>\n",
       "    </tr>\n",
       "  </thead>\n",
       "  <tbody>\n",
       "    <tr>\n",
       "      <th>3201010001</th>\n",
       "      <td>1.000000</td>\n",
       "      <td>1.0</td>\n",
       "      <td>1</td>\n",
       "      <td>1</td>\n",
       "      <td>1</td>\n",
       "      <td>1</td>\n",
       "      <td>1</td>\n",
       "      <td>1</td>\n",
       "      <td>1</td>\n",
       "      <td>1</td>\n",
       "      <td>1</td>\n",
       "      <td>1</td>\n",
       "      <td>1</td>\n",
       "      <td>1</td>\n",
       "      <td>1</td>\n",
       "      <td>1</td>\n",
       "      <td>1</td>\n",
       "      <td>1</td>\n",
       "      <td>1</td>\n",
       "    </tr>\n",
       "    <tr>\n",
       "      <th>3201010002</th>\n",
       "      <td>1.000000</td>\n",
       "      <td>1.0</td>\n",
       "      <td>1</td>\n",
       "      <td>1</td>\n",
       "      <td>1</td>\n",
       "      <td>1</td>\n",
       "      <td>1</td>\n",
       "      <td>1</td>\n",
       "      <td>1</td>\n",
       "      <td>1</td>\n",
       "      <td>1</td>\n",
       "      <td>1</td>\n",
       "      <td>1</td>\n",
       "      <td>1</td>\n",
       "      <td>1</td>\n",
       "      <td>1</td>\n",
       "      <td>1</td>\n",
       "      <td>1</td>\n",
       "      <td>1</td>\n",
       "    </tr>\n",
       "    <tr>\n",
       "      <th>3201010003</th>\n",
       "      <td>1.000000</td>\n",
       "      <td>1.0</td>\n",
       "      <td>1</td>\n",
       "      <td>1</td>\n",
       "      <td>1</td>\n",
       "      <td>1</td>\n",
       "      <td>1</td>\n",
       "      <td>1</td>\n",
       "      <td>1</td>\n",
       "      <td>1</td>\n",
       "      <td>1</td>\n",
       "      <td>1</td>\n",
       "      <td>1</td>\n",
       "      <td>1</td>\n",
       "      <td>1</td>\n",
       "      <td>1</td>\n",
       "      <td>1</td>\n",
       "      <td>1</td>\n",
       "      <td>1</td>\n",
       "    </tr>\n",
       "    <tr>\n",
       "      <th>3201010004</th>\n",
       "      <td>0.977273</td>\n",
       "      <td>1.0</td>\n",
       "      <td>1</td>\n",
       "      <td>1</td>\n",
       "      <td>1</td>\n",
       "      <td>1</td>\n",
       "      <td>1</td>\n",
       "      <td>1</td>\n",
       "      <td>1</td>\n",
       "      <td>1</td>\n",
       "      <td>1</td>\n",
       "      <td>1</td>\n",
       "      <td>1</td>\n",
       "      <td>1</td>\n",
       "      <td>1</td>\n",
       "      <td>1</td>\n",
       "      <td>1</td>\n",
       "      <td>1</td>\n",
       "      <td>1</td>\n",
       "    </tr>\n",
       "    <tr>\n",
       "      <th>3201010005</th>\n",
       "      <td>0.968750</td>\n",
       "      <td>1.0</td>\n",
       "      <td>1</td>\n",
       "      <td>1</td>\n",
       "      <td>1</td>\n",
       "      <td>1</td>\n",
       "      <td>1</td>\n",
       "      <td>1</td>\n",
       "      <td>1</td>\n",
       "      <td>1</td>\n",
       "      <td>1</td>\n",
       "      <td>1</td>\n",
       "      <td>1</td>\n",
       "      <td>1</td>\n",
       "      <td>1</td>\n",
       "      <td>1</td>\n",
       "      <td>1</td>\n",
       "      <td>1</td>\n",
       "      <td>1</td>\n",
       "    </tr>\n",
       "    <tr>\n",
       "      <th>...</th>\n",
       "      <td>...</td>\n",
       "      <td>...</td>\n",
       "      <td>...</td>\n",
       "      <td>...</td>\n",
       "      <td>...</td>\n",
       "      <td>...</td>\n",
       "      <td>...</td>\n",
       "      <td>...</td>\n",
       "      <td>...</td>\n",
       "      <td>...</td>\n",
       "      <td>...</td>\n",
       "      <td>...</td>\n",
       "      <td>...</td>\n",
       "      <td>...</td>\n",
       "      <td>...</td>\n",
       "      <td>...</td>\n",
       "      <td>...</td>\n",
       "      <td>...</td>\n",
       "      <td>...</td>\n",
       "    </tr>\n",
       "    <tr>\n",
       "      <th>3279030007</th>\n",
       "      <td>1.000000</td>\n",
       "      <td>0.0</td>\n",
       "      <td>1</td>\n",
       "      <td>1</td>\n",
       "      <td>1</td>\n",
       "      <td>1</td>\n",
       "      <td>1</td>\n",
       "      <td>1</td>\n",
       "      <td>1</td>\n",
       "      <td>1</td>\n",
       "      <td>1</td>\n",
       "      <td>1</td>\n",
       "      <td>1</td>\n",
       "      <td>1</td>\n",
       "      <td>1</td>\n",
       "      <td>1</td>\n",
       "      <td>1</td>\n",
       "      <td>1</td>\n",
       "      <td>1</td>\n",
       "    </tr>\n",
       "    <tr>\n",
       "      <th>3279040001</th>\n",
       "      <td>0.980769</td>\n",
       "      <td>0.0</td>\n",
       "      <td>1</td>\n",
       "      <td>1</td>\n",
       "      <td>1</td>\n",
       "      <td>1</td>\n",
       "      <td>1</td>\n",
       "      <td>1</td>\n",
       "      <td>1</td>\n",
       "      <td>1</td>\n",
       "      <td>1</td>\n",
       "      <td>1</td>\n",
       "      <td>1</td>\n",
       "      <td>1</td>\n",
       "      <td>1</td>\n",
       "      <td>1</td>\n",
       "      <td>1</td>\n",
       "      <td>1</td>\n",
       "      <td>1</td>\n",
       "    </tr>\n",
       "    <tr>\n",
       "      <th>3279040003</th>\n",
       "      <td>1.000000</td>\n",
       "      <td>0.0</td>\n",
       "      <td>1</td>\n",
       "      <td>1</td>\n",
       "      <td>1</td>\n",
       "      <td>1</td>\n",
       "      <td>1</td>\n",
       "      <td>1</td>\n",
       "      <td>1</td>\n",
       "      <td>1</td>\n",
       "      <td>1</td>\n",
       "      <td>1</td>\n",
       "      <td>1</td>\n",
       "      <td>1</td>\n",
       "      <td>1</td>\n",
       "      <td>1</td>\n",
       "      <td>1</td>\n",
       "      <td>1</td>\n",
       "      <td>1</td>\n",
       "    </tr>\n",
       "    <tr>\n",
       "      <th>3279040004</th>\n",
       "      <td>0.744186</td>\n",
       "      <td>0.0</td>\n",
       "      <td>1</td>\n",
       "      <td>1</td>\n",
       "      <td>1</td>\n",
       "      <td>1</td>\n",
       "      <td>1</td>\n",
       "      <td>1</td>\n",
       "      <td>1</td>\n",
       "      <td>1</td>\n",
       "      <td>1</td>\n",
       "      <td>1</td>\n",
       "      <td>1</td>\n",
       "      <td>1</td>\n",
       "      <td>1</td>\n",
       "      <td>0</td>\n",
       "      <td>0</td>\n",
       "      <td>0</td>\n",
       "      <td>0</td>\n",
       "    </tr>\n",
       "    <tr>\n",
       "      <th>3279040006</th>\n",
       "      <td>1.000000</td>\n",
       "      <td>0.0</td>\n",
       "      <td>1</td>\n",
       "      <td>1</td>\n",
       "      <td>1</td>\n",
       "      <td>1</td>\n",
       "      <td>1</td>\n",
       "      <td>1</td>\n",
       "      <td>1</td>\n",
       "      <td>1</td>\n",
       "      <td>1</td>\n",
       "      <td>1</td>\n",
       "      <td>1</td>\n",
       "      <td>1</td>\n",
       "      <td>1</td>\n",
       "      <td>1</td>\n",
       "      <td>1</td>\n",
       "      <td>1</td>\n",
       "      <td>1</td>\n",
       "    </tr>\n",
       "  </tbody>\n",
       "</table>\n",
       "<p>4781 rows × 19 columns</p>\n",
       "</div>"
      ],
      "text/plain": [
       "                pred  true  label0.1  label0.15  label0.2  label0.25  \\\n",
       "iddesa                                                                 \n",
       "3201010001  1.000000   1.0         1          1         1          1   \n",
       "3201010002  1.000000   1.0         1          1         1          1   \n",
       "3201010003  1.000000   1.0         1          1         1          1   \n",
       "3201010004  0.977273   1.0         1          1         1          1   \n",
       "3201010005  0.968750   1.0         1          1         1          1   \n",
       "...              ...   ...       ...        ...       ...        ...   \n",
       "3279030007  1.000000   0.0         1          1         1          1   \n",
       "3279040001  0.980769   0.0         1          1         1          1   \n",
       "3279040003  1.000000   0.0         1          1         1          1   \n",
       "3279040004  0.744186   0.0         1          1         1          1   \n",
       "3279040006  1.000000   0.0         1          1         1          1   \n",
       "\n",
       "            label0.3  label0.35  label0.4  label0.45  label0.5  label0.55  \\\n",
       "iddesa                                                                      \n",
       "3201010001         1          1         1          1         1          1   \n",
       "3201010002         1          1         1          1         1          1   \n",
       "3201010003         1          1         1          1         1          1   \n",
       "3201010004         1          1         1          1         1          1   \n",
       "3201010005         1          1         1          1         1          1   \n",
       "...              ...        ...       ...        ...       ...        ...   \n",
       "3279030007         1          1         1          1         1          1   \n",
       "3279040001         1          1         1          1         1          1   \n",
       "3279040003         1          1         1          1         1          1   \n",
       "3279040004         1          1         1          1         1          1   \n",
       "3279040006         1          1         1          1         1          1   \n",
       "\n",
       "            label0.6  label0.65  label0.7  label0.75  label0.8  label0.85  \\\n",
       "iddesa                                                                      \n",
       "3201010001         1          1         1          1         1          1   \n",
       "3201010002         1          1         1          1         1          1   \n",
       "3201010003         1          1         1          1         1          1   \n",
       "3201010004         1          1         1          1         1          1   \n",
       "3201010005         1          1         1          1         1          1   \n",
       "...              ...        ...       ...        ...       ...        ...   \n",
       "3279030007         1          1         1          1         1          1   \n",
       "3279040001         1          1         1          1         1          1   \n",
       "3279040003         1          1         1          1         1          1   \n",
       "3279040004         1          1         1          0         0          0   \n",
       "3279040006         1          1         1          1         1          1   \n",
       "\n",
       "            label0.9  \n",
       "iddesa                \n",
       "3201010001         1  \n",
       "3201010002         1  \n",
       "3201010003         1  \n",
       "3201010004         1  \n",
       "3201010005         1  \n",
       "...              ...  \n",
       "3279030007         1  \n",
       "3279040001         1  \n",
       "3279040003         1  \n",
       "3279040004         0  \n",
       "3279040006         1  \n",
       "\n",
       "[4781 rows x 19 columns]"
      ]
     },
     "execution_count": 86,
     "metadata": {},
     "output_type": "execute_result"
    }
   ],
   "source": [
    "desa_pred"
   ]
  },
  {
   "cell_type": "code",
   "execution_count": 87,
   "id": "0af817bc-2bed-425f-98ee-224f2ae8990a",
   "metadata": {},
   "outputs": [
    {
     "name": "stdout",
     "output_type": "stream",
     "text": [
      "result label0.1\n",
      "accuracy : 0.6617862371888726\n",
      "precision : 0.6558651976668827\n",
      "result label0.15\n",
      "accuracy : 0.6697343651955657\n",
      "precision : 0.6626400175708325\n",
      "result label0.2\n",
      "accuracy : 0.6764275256222547\n",
      "precision : 0.6687486058443007\n",
      "result label0.25\n",
      "accuracy : 0.6808199121522694\n",
      "precision : 0.6734509271822705\n",
      "result label0.3\n",
      "accuracy : 0.6868855887889563\n",
      "precision : 0.6797791580400276\n",
      "result label0.35\n",
      "accuracy : 0.691696297845639\n",
      "precision : 0.6859756097560976\n",
      "result label0.4\n",
      "accuracy : 0.6921146203723071\n",
      "precision : 0.6904076738609113\n",
      "result label0.45\n",
      "accuracy : 0.6935787492156452\n",
      "precision : 0.6957055214723926\n",
      "result label0.5\n",
      "accuracy : 0.6960886843756536\n",
      "precision : 0.7028528149457208\n",
      "result label0.55\n",
      "accuracy : 0.698389458272328\n",
      "precision : 0.7095854922279793\n",
      "result label0.6\n",
      "accuracy : 0.7006902321690023\n",
      "precision : 0.7188927707605482\n",
      "result label0.65\n",
      "accuracy : 0.7004810709056682\n",
      "precision : 0.7261111111111112\n",
      "result label0.7\n",
      "accuracy : 0.6973436519556578\n",
      "precision : 0.734925720943781\n",
      "result label0.75\n",
      "accuracy : 0.6893955239489646\n",
      "precision : 0.7444892890406706\n",
      "result label0.8\n",
      "accuracy : 0.678309976992261\n",
      "precision : 0.7541750167000668\n",
      "result label0.85\n",
      "accuracy : 0.6661786237188873\n",
      "precision : 0.7663755458515283\n",
      "result label0.9\n",
      "accuracy : 0.6458899811754863\n",
      "precision : 0.7811600164541341\n"
     ]
    }
   ],
   "source": [
    "for j in range(2,19):\n",
    "    print(\"result\", desa_pred.columns[j])\n",
    "    print(\"accuracy :\",  accuracy_score( desa_pred.true,desa_pred.iloc[:,[j]]))\n",
    "    print(\"precision :\",  precision_score( desa_pred.true,desa_pred.iloc[:,[j]]))"
   ]
  },
  {
   "cell_type": "markdown",
   "id": "decbfbdb-edf1-4d79-8a94-f2218736d743",
   "metadata": {},
   "source": [
    "### Test result resnet"
   ]
  },
  {
   "cell_type": "code",
   "execution_count": 88,
   "id": "8e08d29c-1d52-4827-a1d6-9ba55896590a",
   "metadata": {},
   "outputs": [],
   "source": [
    "path_pred = Path.cwd() / (test_path)\n",
    "test_files = [fn for fn in sorted((path_pred).glob('**/*')) if fn.is_file()]"
   ]
  },
  {
   "cell_type": "code",
   "execution_count": 89,
   "id": "5d281420-8e44-4148-af77-1c018ccafce2",
   "metadata": {},
   "outputs": [],
   "source": [
    "test_dl = learn_rs.dls.test_dl(test_files)"
   ]
  },
  {
   "cell_type": "code",
   "execution_count": 90,
   "id": "ea4b07bd-530b-411f-a222-35f52c469ab8",
   "metadata": {},
   "outputs": [
    {
     "data": {
      "text/html": [
       "\n",
       "<style>\n",
       "    /* Turns off some styling */\n",
       "    progress {\n",
       "        /* gets rid of default border in Firefox and Opera. */\n",
       "        border: none;\n",
       "        /* Needs to be in here for Safari polyfill so background images work as expected. */\n",
       "        background-size: auto;\n",
       "    }\n",
       "    .progress-bar-interrupted, .progress-bar-interrupted::-webkit-progress-bar {\n",
       "        background: #F44336;\n",
       "    }\n",
       "</style>\n"
      ],
      "text/plain": [
       "<IPython.core.display.HTML object>"
      ]
     },
     "metadata": {},
     "output_type": "display_data"
    },
    {
     "data": {
      "text/html": [],
      "text/plain": [
       "<IPython.core.display.HTML object>"
      ]
     },
     "metadata": {},
     "output_type": "display_data"
    }
   ],
   "source": [
    "preds,_ = learn_rs.get_preds(dl  =test_dl)"
   ]
  },
  {
   "cell_type": "code",
   "execution_count": 91,
   "id": "48789ee4-87ce-4b23-8687-8fa9bfa84ece",
   "metadata": {},
   "outputs": [],
   "source": [
    "idx_test = []\n",
    "for i in test_files:\n",
    "    idx_test.append(str(i)[-18:-4])\n",
    "true_label = []\n",
    "for i in test_files:\n",
    "    if(\"TERTINGGAL BERKEMBANG\" in str(i)) :\n",
    "        true_label.append(1)\n",
    "    else :\n",
    "        true_label.append(0)"
   ]
  },
  {
   "cell_type": "code",
   "execution_count": 92,
   "id": "add6308d-363b-4c70-a4cd-bdb803434f86",
   "metadata": {},
   "outputs": [],
   "source": [
    "test = pd.DataFrame(preds)"
   ]
  },
  {
   "cell_type": "code",
   "execution_count": 93,
   "id": "489d3638-b296-40d1-bb6f-21f38de589b4",
   "metadata": {},
   "outputs": [],
   "source": [
    "test[\"idsls\"] = idx_test\n",
    "test[\"true_lab\"] = true_label"
   ]
  },
  {
   "cell_type": "code",
   "execution_count": 94,
   "id": "9083ff1b-efa9-4d55-840e-77c133f2df6c",
   "metadata": {},
   "outputs": [],
   "source": [
    "test[\"iddesa\"] = test.idsls.str[:10]\n",
    "test[\"stat\"] = round(test[1])"
   ]
  },
  {
   "cell_type": "code",
   "execution_count": 95,
   "id": "93121c3f-71f8-485f-a447-0d0867b08e3b",
   "metadata": {},
   "outputs": [
    {
     "data": {
      "text/html": [
       "<div>\n",
       "<style scoped>\n",
       "    .dataframe tbody tr th:only-of-type {\n",
       "        vertical-align: middle;\n",
       "    }\n",
       "\n",
       "    .dataframe tbody tr th {\n",
       "        vertical-align: top;\n",
       "    }\n",
       "\n",
       "    .dataframe thead th {\n",
       "        text-align: right;\n",
       "    }\n",
       "</style>\n",
       "<table border=\"1\" class=\"dataframe\">\n",
       "  <thead>\n",
       "    <tr style=\"text-align: right;\">\n",
       "      <th></th>\n",
       "      <th>0</th>\n",
       "      <th>1</th>\n",
       "      <th>idsls</th>\n",
       "      <th>true_lab</th>\n",
       "      <th>iddesa</th>\n",
       "      <th>stat</th>\n",
       "    </tr>\n",
       "  </thead>\n",
       "  <tbody>\n",
       "    <tr>\n",
       "      <th>0</th>\n",
       "      <td>0.247271</td>\n",
       "      <td>0.752729</td>\n",
       "      <td>32010200170001</td>\n",
       "      <td>0</td>\n",
       "      <td>3201020017</td>\n",
       "      <td>1.0</td>\n",
       "    </tr>\n",
       "    <tr>\n",
       "      <th>1</th>\n",
       "      <td>0.242939</td>\n",
       "      <td>0.757061</td>\n",
       "      <td>32010200170002</td>\n",
       "      <td>0</td>\n",
       "      <td>3201020017</td>\n",
       "      <td>1.0</td>\n",
       "    </tr>\n",
       "    <tr>\n",
       "      <th>2</th>\n",
       "      <td>0.233322</td>\n",
       "      <td>0.766677</td>\n",
       "      <td>32010200170003</td>\n",
       "      <td>0</td>\n",
       "      <td>3201020017</td>\n",
       "      <td>1.0</td>\n",
       "    </tr>\n",
       "    <tr>\n",
       "      <th>3</th>\n",
       "      <td>0.609272</td>\n",
       "      <td>0.390728</td>\n",
       "      <td>32010200170004</td>\n",
       "      <td>0</td>\n",
       "      <td>3201020017</td>\n",
       "      <td>0.0</td>\n",
       "    </tr>\n",
       "    <tr>\n",
       "      <th>4</th>\n",
       "      <td>0.519933</td>\n",
       "      <td>0.480067</td>\n",
       "      <td>32010200170005</td>\n",
       "      <td>0</td>\n",
       "      <td>3201020017</td>\n",
       "      <td>0.0</td>\n",
       "    </tr>\n",
       "  </tbody>\n",
       "</table>\n",
       "</div>"
      ],
      "text/plain": [
       "          0         1           idsls  true_lab      iddesa  stat\n",
       "0  0.247271  0.752729  32010200170001         0  3201020017   1.0\n",
       "1  0.242939  0.757061  32010200170002         0  3201020017   1.0\n",
       "2  0.233322  0.766677  32010200170003         0  3201020017   1.0\n",
       "3  0.609272  0.390728  32010200170004         0  3201020017   0.0\n",
       "4  0.519933  0.480067  32010200170005         0  3201020017   0.0"
      ]
     },
     "execution_count": 95,
     "metadata": {},
     "output_type": "execute_result"
    }
   ],
   "source": [
    "test.head()"
   ]
  },
  {
   "cell_type": "code",
   "execution_count": 96,
   "id": "9d920fa3-0512-46b5-a646-e770b47fbadf",
   "metadata": {},
   "outputs": [],
   "source": [
    "desa_pred_test = test.groupby('iddesa').agg({'stat': ['mean'], 'true_lab': 'mean'})"
   ]
  },
  {
   "cell_type": "code",
   "execution_count": 97,
   "id": "09a74a67-13e4-4214-847d-bb8140d04f92",
   "metadata": {},
   "outputs": [],
   "source": [
    "desa_pred_test.columns = [\"pred\",\"true\"]"
   ]
  },
  {
   "cell_type": "code",
   "execution_count": 98,
   "id": "1c262931-209a-423a-9a95-f03963d89841",
   "metadata": {},
   "outputs": [],
   "source": [
    "desa_pred_test[\"pred_lab\"] = 0\n",
    "desa_pred_test.loc[desa_pred_test.pred > 0.65,\"pred_lab\"] = 1"
   ]
  },
  {
   "cell_type": "code",
   "execution_count": 100,
   "id": "3fd55f55-62c5-493a-af20-32c852e32203",
   "metadata": {},
   "outputs": [
    {
     "name": "stdout",
     "output_type": "stream",
     "text": [
      "accuracy : 0.711864406779661\n",
      "balanced_accuracy_score : 0.6480769230769231\n",
      "precision : 0.75\n",
      "recall : 0.8461538461538461\n",
      "f1 : 0.7951807228915662\n",
      "rocauc : 0.648076923076923\n"
     ]
    }
   ],
   "source": [
    "print(\"accuracy :\",  accuracy_score( desa_pred_test.true,desa_pred_test.pred_lab))\n",
    "print(\"balanced_accuracy_score :\",  balanced_accuracy_score( desa_pred_test.true,desa_pred_test.pred_lab))\n",
    "print(\"precision :\",  precision_score( desa_pred_test.true,desa_pred_test.pred_lab))\n",
    "print(\"recall :\",  recall_score( desa_pred_test.true,desa_pred_test.pred_lab))\n",
    "print(\"f1 :\",  f1_score( desa_pred_test.true,desa_pred_test.pred_lab))\n",
    "print(\"rocauc :\",  roc_auc_score( desa_pred_test.true,desa_pred_test.pred_lab))"
   ]
  },
  {
   "cell_type": "code",
   "execution_count": 292,
   "id": "2ec906e7-3916-481b-84c2-2a1b1cfb48aa",
   "metadata": {},
   "outputs": [],
   "source": [
    "accuracy : 0.7099811676082862\n",
    "balanced_accuracy_score : 0.6628917378917379\n",
    "precision : 0.7654986522911051\n",
    "recall : 0.8091168091168092\n",
    "f1 : 0.7867036011080333\n",
    "rocauc : 0.6628917378917378"
   ]
  },
  {
   "cell_type": "code",
   "execution_count": null,
   "id": "26789d1b-cec1-49ba-a159-b015fc5df2c6",
   "metadata": {},
   "outputs": [],
   "source": []
  }
 ],
 "metadata": {
  "kernelspec": {
   "display_name": "Python 3 (ipykernel)",
   "language": "python",
   "name": "python3"
  },
  "language_info": {
   "codemirror_mode": {
    "name": "ipython",
    "version": 3
   },
   "file_extension": ".py",
   "mimetype": "text/x-python",
   "name": "python",
   "nbconvert_exporter": "python",
   "pygments_lexer": "ipython3",
   "version": "3.9.7"
  }
 },
 "nbformat": 4,
 "nbformat_minor": 5
}
