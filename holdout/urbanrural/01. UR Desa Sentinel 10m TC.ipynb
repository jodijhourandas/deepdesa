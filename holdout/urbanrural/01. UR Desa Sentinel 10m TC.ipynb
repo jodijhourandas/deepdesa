{
 "cells": [
  {
   "cell_type": "markdown",
   "id": "9c773356-aa78-41f2-b4b4-bb5e625beaa2",
   "metadata": {},
   "source": [
    "# UR Desa Sentinel 10m TC"
   ]
  },
  {
   "cell_type": "markdown",
   "id": "a6b63f46-6220-43e3-bdbb-d3009e2925c0",
   "metadata": {},
   "source": [
    "Kode modelling klasifikasi densenet dan resnet urban rural pada data sentinel 2 10m dengan neighbor True crop, input tingkat desa."
   ]
  },
  {
   "cell_type": "markdown",
   "id": "860da221-4646-4c27-abf4-f452a7855c90",
   "metadata": {},
   "source": [
    "### Import Fast Ai"
   ]
  },
  {
   "cell_type": "code",
   "execution_count": 3,
   "id": "6b5301ad-0967-4fa2-b602-24fae3844253",
   "metadata": {},
   "outputs": [],
   "source": [
    "import fastai\n",
    "from fastai.vision.all import *\n",
    "import pandas as pd"
   ]
  },
  {
   "cell_type": "code",
   "execution_count": 4,
   "id": "4c6126f5-6665-4423-99f7-6845baa5e650",
   "metadata": {},
   "outputs": [],
   "source": [
    "from sklearn.metrics import accuracy_score, precision_score, recall_score, f1_score\n",
    "import numpy as np"
   ]
  },
  {
   "cell_type": "markdown",
   "id": "dff35fa6-7587-4ad3-8d86-008b5092ceef",
   "metadata": {},
   "source": [
    "Buka data variabel"
   ]
  },
  {
   "cell_type": "code",
   "execution_count": 6,
   "id": "6a8c1fce-8553-43f4-b944-bc7741fdd266",
   "metadata": {},
   "outputs": [
    {
     "name": "stderr",
     "output_type": "stream",
     "text": [
      "C:\\Users\\jwst2\\anaconda3\\envs\\datasc\\lib\\site-packages\\IPython\\core\\interactiveshell.py:3444: DtypeWarning: Columns (19,20,21) have mixed types.Specify dtype option on import or set low_memory=False.\n",
      "  exec(code_obj, self.user_global_ns, self.user_ns)\n"
     ]
    }
   ],
   "source": [
    "sls = pd.read_csv(\"C:/Users/jwst2/Python/tesis/dataset/3200_sls.csv\")"
   ]
  },
  {
   "cell_type": "code",
   "execution_count": 7,
   "id": "c0978002-6bf2-40fe-9d24-89fb3e7482f4",
   "metadata": {},
   "outputs": [
    {
     "data": {
      "text/html": [
       "<div>\n",
       "<style scoped>\n",
       "    .dataframe tbody tr th:only-of-type {\n",
       "        vertical-align: middle;\n",
       "    }\n",
       "\n",
       "    .dataframe tbody tr th {\n",
       "        vertical-align: top;\n",
       "    }\n",
       "\n",
       "    .dataframe thead th {\n",
       "        text-align: right;\n",
       "    }\n",
       "</style>\n",
       "<table border=\"1\" class=\"dataframe\">\n",
       "  <thead>\n",
       "    <tr style=\"text-align: right;\">\n",
       "      <th></th>\n",
       "      <th>id</th>\n",
       "      <th>kdprov</th>\n",
       "      <th>kdkab</th>\n",
       "      <th>kdkec</th>\n",
       "      <th>kddesa</th>\n",
       "      <th>iddesa</th>\n",
       "      <th>idslsnon</th>\n",
       "      <th>nmslsnon</th>\n",
       "      <th>ketua_sls</th>\n",
       "      <th>jenis</th>\n",
       "      <th>...</th>\n",
       "      <th>j_bstt</th>\n",
       "      <th>j_bsbtt</th>\n",
       "      <th>j_bstt_k</th>\n",
       "      <th>j_bskeko</th>\n",
       "      <th>j_segmen</th>\n",
       "      <th>dom</th>\n",
       "      <th>ldom</th>\n",
       "      <th>j_m_all</th>\n",
       "      <th>j_m_30</th>\n",
       "      <th>klas_ur</th>\n",
       "    </tr>\n",
       "  </thead>\n",
       "  <tbody>\n",
       "    <tr>\n",
       "      <th>0</th>\n",
       "      <td>263884</td>\n",
       "      <td>32</td>\n",
       "      <td>1</td>\n",
       "      <td>10</td>\n",
       "      <td>1</td>\n",
       "      <td>3201010001</td>\n",
       "      <td>100</td>\n",
       "      <td>RT 001 RW 001 DUSUN 1</td>\n",
       "      <td>MUHAMAD RAFLI HIDAYAT</td>\n",
       "      <td>1</td>\n",
       "      <td>...</td>\n",
       "      <td>39</td>\n",
       "      <td>1</td>\n",
       "      <td>2</td>\n",
       "      <td>4</td>\n",
       "      <td>1</td>\n",
       "      <td>1</td>\n",
       "      <td>1</td>\n",
       "      <td>51</td>\n",
       "      <td>51</td>\n",
       "      <td>2</td>\n",
       "    </tr>\n",
       "    <tr>\n",
       "      <th>1</th>\n",
       "      <td>263885</td>\n",
       "      <td>32</td>\n",
       "      <td>1</td>\n",
       "      <td>10</td>\n",
       "      <td>1</td>\n",
       "      <td>3201010001</td>\n",
       "      <td>200</td>\n",
       "      <td>RT 002 RW 001 DUSUN 1</td>\n",
       "      <td>NURMAN</td>\n",
       "      <td>1</td>\n",
       "      <td>...</td>\n",
       "      <td>60</td>\n",
       "      <td>2</td>\n",
       "      <td>0</td>\n",
       "      <td>7</td>\n",
       "      <td>1</td>\n",
       "      <td>1</td>\n",
       "      <td>1</td>\n",
       "      <td>62</td>\n",
       "      <td>61</td>\n",
       "      <td>2</td>\n",
       "    </tr>\n",
       "    <tr>\n",
       "      <th>2</th>\n",
       "      <td>263886</td>\n",
       "      <td>32</td>\n",
       "      <td>1</td>\n",
       "      <td>10</td>\n",
       "      <td>1</td>\n",
       "      <td>3201010001</td>\n",
       "      <td>300</td>\n",
       "      <td>RT 003 RW 001 DUSUN 1</td>\n",
       "      <td>SAENUDIN</td>\n",
       "      <td>1</td>\n",
       "      <td>...</td>\n",
       "      <td>50</td>\n",
       "      <td>2</td>\n",
       "      <td>0</td>\n",
       "      <td>6</td>\n",
       "      <td>1</td>\n",
       "      <td>1</td>\n",
       "      <td>1</td>\n",
       "      <td>58</td>\n",
       "      <td>57</td>\n",
       "      <td>2</td>\n",
       "    </tr>\n",
       "    <tr>\n",
       "      <th>3</th>\n",
       "      <td>263887</td>\n",
       "      <td>32</td>\n",
       "      <td>1</td>\n",
       "      <td>10</td>\n",
       "      <td>1</td>\n",
       "      <td>3201010001</td>\n",
       "      <td>400</td>\n",
       "      <td>RT 004 RW 001 DUSUN 1</td>\n",
       "      <td>AEP</td>\n",
       "      <td>1</td>\n",
       "      <td>...</td>\n",
       "      <td>27</td>\n",
       "      <td>1</td>\n",
       "      <td>0</td>\n",
       "      <td>1</td>\n",
       "      <td>1</td>\n",
       "      <td>1</td>\n",
       "      <td>1</td>\n",
       "      <td>31</td>\n",
       "      <td>31</td>\n",
       "      <td>2</td>\n",
       "    </tr>\n",
       "    <tr>\n",
       "      <th>4</th>\n",
       "      <td>263888</td>\n",
       "      <td>32</td>\n",
       "      <td>1</td>\n",
       "      <td>10</td>\n",
       "      <td>1</td>\n",
       "      <td>3201010001</td>\n",
       "      <td>500</td>\n",
       "      <td>RT 005 RW 001 DUSUN 1</td>\n",
       "      <td>JEJEN JAELANI</td>\n",
       "      <td>1</td>\n",
       "      <td>...</td>\n",
       "      <td>49</td>\n",
       "      <td>7</td>\n",
       "      <td>3</td>\n",
       "      <td>8</td>\n",
       "      <td>3</td>\n",
       "      <td>1</td>\n",
       "      <td>1</td>\n",
       "      <td>63</td>\n",
       "      <td>57</td>\n",
       "      <td>2</td>\n",
       "    </tr>\n",
       "  </tbody>\n",
       "</table>\n",
       "<p>5 rows × 36 columns</p>\n",
       "</div>"
      ],
      "text/plain": [
       "       id  kdprov  kdkab  kdkec  kddesa      iddesa  idslsnon  \\\n",
       "0  263884      32      1     10       1  3201010001       100   \n",
       "1  263885      32      1     10       1  3201010001       200   \n",
       "2  263886      32      1     10       1  3201010001       300   \n",
       "3  263887      32      1     10       1  3201010001       400   \n",
       "4  263888      32      1     10       1  3201010001       500   \n",
       "\n",
       "                nmslsnon              ketua_sls  jenis  ...  j_bstt  j_bsbtt  \\\n",
       "0  RT 001 RW 001 DUSUN 1  MUHAMAD RAFLI HIDAYAT      1  ...      39        1   \n",
       "1  RT 002 RW 001 DUSUN 1                 NURMAN      1  ...      60        2   \n",
       "2  RT 003 RW 001 DUSUN 1               SAENUDIN      1  ...      50        2   \n",
       "3  RT 004 RW 001 DUSUN 1                    AEP      1  ...      27        1   \n",
       "4  RT 005 RW 001 DUSUN 1          JEJEN JAELANI      1  ...      49        7   \n",
       "\n",
       "   j_bstt_k  j_bskeko  j_segmen  dom  ldom  j_m_all j_m_30 klas_ur  \n",
       "0         2         4         1    1     1       51     51       2  \n",
       "1         0         7         1    1     1       62     61       2  \n",
       "2         0         6         1    1     1       58     57       2  \n",
       "3         0         1         1    1     1       31     31       2  \n",
       "4         3         8         3    1     1       63     57       2  \n",
       "\n",
       "[5 rows x 36 columns]"
      ]
     },
     "execution_count": 7,
     "metadata": {},
     "output_type": "execute_result"
    }
   ],
   "source": [
    "sls.head()"
   ]
  },
  {
   "cell_type": "code",
   "execution_count": 6,
   "id": "240cf8ef-95ee-4410-9819-9b4e21492fca",
   "metadata": {},
   "outputs": [
    {
     "data": {
      "text/plain": [
       "(5957,)"
      ]
     },
     "execution_count": 6,
     "metadata": {},
     "output_type": "execute_result"
    }
   ],
   "source": [
    "sls.iddesa.unique().shape"
   ]
  },
  {
   "cell_type": "markdown",
   "id": "e0fd1617-9bce-48e0-8e6f-1747641550fe",
   "metadata": {},
   "source": [
    "Proses pembentukan dan distribusi citra ke folder urban rural untuk citra bersesuaian sesuai dengan format fast ai"
   ]
  },
  {
   "cell_type": "code",
   "execution_count": 9,
   "id": "f3e6e565-6104-4b37-b6ad-9cb89eb373b9",
   "metadata": {},
   "outputs": [
    {
     "name": "stderr",
     "output_type": "stream",
     "text": [
      "0it [00:00, ?it/s]"
     ]
    },
    {
     "name": "stdout",
     "output_type": "stream",
     "text": [
      "3207000000.jpg\n",
      "3208000000.jpg\n",
      "3208010000.jpg\n",
      "3211080000.jpg\n",
      "3211111000.jpg\n",
      "3217000000.jpg\n"
     ]
    },
    {
     "name": "stderr",
     "output_type": "stream",
     "text": [
      "1it [00:22, 22.61s/it]\n"
     ]
    }
   ],
   "source": [
    "yourpath = \"C:/Users/jwst2/Python/tesis/jpg/jabartruecrop/\"\n",
    "from tqdm import tqdm\n",
    "for root, dirs, files in tqdm(os.walk(yourpath, topdown=False)):\n",
    "    for name in files:\n",
    "        try :\n",
    "            if(sls.klas_ur[sls.iddesa == int(name.replace(\".jpg\",\"\")[:10])].iloc[0] == 1):\n",
    "                shutil.copy(os.path.join(root, name), \"C:/Users/jwst2/Python/tesis/jpg/jabar10m_ur_truecrop/urban/\"+name)\n",
    "            elif(sls.klas_ur[sls.iddesa == int(name.replace(\".jpg\",\"\")[:10])].iloc[0] == 2):\n",
    "                shutil.copy(os.path.join(root, name), \"C:/Users/jwst2/Python/tesis/jpg/jabar10m_ur_truecrop/rural/\"+name)\n",
    "        except Exception:\n",
    "            print(name)\n",
    "            pass "
   ]
  },
  {
   "cell_type": "markdown",
   "id": "c4db6ad9-230f-4fb1-8802-d4d94084ab93",
   "metadata": {},
   "source": [
    "### Run Dataset"
   ]
  },
  {
   "cell_type": "markdown",
   "id": "6df609e7-8603-4e04-82f4-57266046bce7",
   "metadata": {},
   "source": [
    "Preprocessing penyiapan data citra untuk diload perbatch ke fast ai."
   ]
  },
  {
   "cell_type": "code",
   "execution_count": 5,
   "id": "90fde506-4689-4fdd-a6ac-cd33a14d1fa7",
   "metadata": {},
   "outputs": [],
   "source": [
    "path = Path.cwd() / (\"C:/Users/jwst2/Python/tesis/jpg/UR/01 Sentinel 10M Desa Truecrop\")"
   ]
  },
  {
   "cell_type": "code",
   "execution_count": 6,
   "id": "884088a1-f278-49ed-ba7a-84a8788ac906",
   "metadata": {},
   "outputs": [
    {
     "data": {
      "text/plain": [
       "(#2) [Path('rural'),Path('urban')]"
      ]
     },
     "execution_count": 6,
     "metadata": {},
     "output_type": "execute_result"
    }
   ],
   "source": [
    "Path.BASE_PATH = path\n",
    "path.ls()"
   ]
  },
  {
   "cell_type": "code",
   "execution_count": 7,
   "id": "bd185d8d-e0c7-4234-a389-964c9b58dd8b",
   "metadata": {},
   "outputs": [
    {
     "data": {
      "text/plain": [
       "Path('rural/3201010001.jpg')"
      ]
     },
     "execution_count": 7,
     "metadata": {},
     "output_type": "execute_result"
    }
   ],
   "source": [
    "fname = (path/\"rural\").ls()[0]\n",
    "fname"
   ]
  },
  {
   "cell_type": "code",
   "execution_count": 8,
   "id": "52aafdf5-784f-43e5-82dc-98f1542f98ed",
   "metadata": {},
   "outputs": [
    {
     "data": {
      "image/png": "[encoded data removed]",
      "text/plain": [
       "<PIL.JpegImagePlugin.JpegImageFile image mode=RGB size=224x224 at 0x28D043B59A0>"
      ]
     },
     "execution_count": 8,
     "metadata": {},
     "output_type": "execute_result"
    }
   ],
   "source": [
    "img = Image.open(fname)\n",
    "img"
   ]
  },
  {
   "cell_type": "markdown",
   "id": "d4c708d0-a5c9-4ae1-a63f-fec7881ab5ae",
   "metadata": {},
   "source": [
    "Pembentukan data block"
   ]
  },
  {
   "cell_type": "code",
   "execution_count": 9,
   "id": "a528169c-6462-4eee-98cb-af609455d447",
   "metadata": {},
   "outputs": [],
   "source": [
    "blocks = DataBlock(blocks = (ImageBlock, CategoryBlock),\n",
    "                 get_items=get_image_files, # finds the images in the path\n",
    "                 splitter=RandomSplitter(valid_pct=0.1, seed=42),  # default random split 80% training, 20% validation\n",
    "                 get_y=parent_label, # extracts the label category from the image's folder name \n",
    "                 batch_tfms=aug_transforms(mult=2)) # data augmentation (mult multiplies the default transformation values)"
   ]
  },
  {
   "cell_type": "markdown",
   "id": "d947c62d-ff34-491d-be5d-f4d583d9723a",
   "metadata": {},
   "source": [
    "Load dan print conto batch"
   ]
  },
  {
   "cell_type": "code",
   "execution_count": 10,
   "id": "7d33721a-eeba-4cda-af33-84a8baace424",
   "metadata": {},
   "outputs": [
    {
     "name": "stdout",
     "output_type": "stream",
     "text": [
      "Due to IPython and Windows limitation, python multiprocessing isn't available now.\n",
      "So `number_workers` is changed to 0 to avoid getting stuck\n"
     ]
    }
   ],
   "source": [
    "dls = blocks.dataloaders(path,bs=4)"
   ]
  },
  {
   "cell_type": "code",
   "execution_count": 11,
   "id": "eff7faf3-2588-4b9c-a678-08d148a16221",
   "metadata": {},
   "outputs": [
    {
     "data": {
      "image/png": "[encoded data removed]",
      "text/plain": [
       "<Figure size 864x216 with 4 Axes>"
      ]
     },
     "metadata": {
      "needs_background": "light"
     },
     "output_type": "display_data"
    }
   ],
   "source": [
    "dls.show_batch(nrows=1)"
   ]
  },
  {
   "cell_type": "markdown",
   "id": "062d0cff-be76-4fe1-84e5-fa49752a219f",
   "metadata": {},
   "source": [
    "Pemodelan densenet dengan metrik bersesuaian"
   ]
  },
  {
   "cell_type": "code",
   "execution_count": null,
   "id": "8525b8dd-43c1-41dd-a1e7-eadb3de93d6d",
   "metadata": {},
   "outputs": [],
   "source": [
    "avg = 'macro'\n",
    "roca = RocAucBinary(average=avg)\n",
    "f1s = F1Score(average=avg)\n",
    "bc = BalancedAccuracy()\n",
    "metrics=[accuracy,bc, Precision(average=avg), Recall(average=avg), f1s, roca]\n",
    "learn = cnn_learner(dls, densenet121, metrics=metrics) \n",
    "learn.summary()"
   ]
  },
  {
   "cell_type": "markdown",
   "id": "b7176151-99a5-42a3-9815-507f416a02f2",
   "metadata": {},
   "source": [
    "Mencari batas maksimum untuk learning rate"
   ]
  },
  {
   "cell_type": "code",
   "execution_count": 15,
   "id": "e0a0853a-62f8-44da-aaca-e02df72ece58",
   "metadata": {},
   "outputs": [
    {
     "data": {
      "text/html": [
       "\n",
       "<style>\n",
       "    /* Turns off some styling */\n",
       "    progress {\n",
       "        /* gets rid of default border in Firefox and Opera. */\n",
       "        border: none;\n",
       "        /* Needs to be in here for Safari polyfill so background images work as expected. */\n",
       "        background-size: auto;\n",
       "    }\n",
       "    .progress-bar-interrupted, .progress-bar-interrupted::-webkit-progress-bar {\n",
       "        background: #F44336;\n",
       "    }\n",
       "</style>\n"
      ],
      "text/plain": [
       "<IPython.core.display.HTML object>"
      ]
     },
     "metadata": {},
     "output_type": "display_data"
    },
    {
     "data": {
      "text/html": [],
      "text/plain": [
       "<IPython.core.display.HTML object>"
      ]
     },
     "metadata": {},
     "output_type": "display_data"
    },
    {
     "data": {
      "text/plain": [
       "SuggestedLRs(valley=0.0008317637839354575)"
      ]
     },
     "execution_count": 15,
     "metadata": {},
     "output_type": "execute_result"
    },
    {
     "data": {
      "image/png": "[encoded data removed]",
      "text/plain": [
       "<Figure size 432x288 with 1 Axes>"
      ]
     },
     "metadata": {
      "needs_background": "light"
     },
     "output_type": "display_data"
    }
   ],
   "source": [
    "learn.lr_find()"
   ]
  },
  {
   "cell_type": "markdown",
   "id": "682fbb88-49af-4118-98e9-389ff994c53b",
   "metadata": {},
   "source": [
    "Smith fit one cycle terhadap densenet"
   ]
  },
  {
   "cell_type": "code",
   "execution_count": 44,
   "id": "cd1f3ab9-a177-498f-9922-bf7ec2dd9724",
   "metadata": {},
   "outputs": [
    {
     "data": {
      "text/html": [
       "<table border=\"1\" class=\"dataframe\">\n",
       "  <thead>\n",
       "    <tr style=\"text-align: left;\">\n",
       "      <th>epoch</th>\n",
       "      <th>train_loss</th>\n",
       "      <th>valid_loss</th>\n",
       "      <th>accuracy</th>\n",
       "      <th>balanced_accuracy_score</th>\n",
       "      <th>precision_score</th>\n",
       "      <th>recall_score</th>\n",
       "      <th>f1_score</th>\n",
       "      <th>roc_auc_score</th>\n",
       "      <th>time</th>\n",
       "    </tr>\n",
       "  </thead>\n",
       "  <tbody>\n",
       "    <tr>\n",
       "      <td>0</td>\n",
       "      <td>0.825821</td>\n",
       "      <td>0.562259</td>\n",
       "      <td>0.761345</td>\n",
       "      <td>0.739852</td>\n",
       "      <td>0.714715</td>\n",
       "      <td>0.739852</td>\n",
       "      <td>0.723151</td>\n",
       "      <td>0.820536</td>\n",
       "      <td>04:04</td>\n",
       "    </tr>\n",
       "    <tr>\n",
       "      <td>1</td>\n",
       "      <td>0.574132</td>\n",
       "      <td>0.671220</td>\n",
       "      <td>0.732773</td>\n",
       "      <td>0.734387</td>\n",
       "      <td>0.697616</td>\n",
       "      <td>0.734387</td>\n",
       "      <td>0.703136</td>\n",
       "      <td>0.792475</td>\n",
       "      <td>04:17</td>\n",
       "    </tr>\n",
       "    <tr>\n",
       "      <td>2</td>\n",
       "      <td>0.576982</td>\n",
       "      <td>0.460525</td>\n",
       "      <td>0.783193</td>\n",
       "      <td>0.713554</td>\n",
       "      <td>0.732621</td>\n",
       "      <td>0.713554</td>\n",
       "      <td>0.721524</td>\n",
       "      <td>0.826252</td>\n",
       "      <td>04:23</td>\n",
       "    </tr>\n",
       "    <tr>\n",
       "      <td>3</td>\n",
       "      <td>0.553036</td>\n",
       "      <td>0.397740</td>\n",
       "      <td>0.810084</td>\n",
       "      <td>0.784641</td>\n",
       "      <td>0.766101</td>\n",
       "      <td>0.784641</td>\n",
       "      <td>0.773910</td>\n",
       "      <td>0.883963</td>\n",
       "      <td>04:12</td>\n",
       "    </tr>\n",
       "    <tr>\n",
       "      <td>4</td>\n",
       "      <td>0.519959</td>\n",
       "      <td>0.402457</td>\n",
       "      <td>0.796639</td>\n",
       "      <td>0.748195</td>\n",
       "      <td>0.749098</td>\n",
       "      <td>0.748195</td>\n",
       "      <td>0.748643</td>\n",
       "      <td>0.865493</td>\n",
       "      <td>04:12</td>\n",
       "    </tr>\n",
       "    <tr>\n",
       "      <td>5</td>\n",
       "      <td>0.521457</td>\n",
       "      <td>0.432794</td>\n",
       "      <td>0.784874</td>\n",
       "      <td>0.665984</td>\n",
       "      <td>0.757304</td>\n",
       "      <td>0.665984</td>\n",
       "      <td>0.685029</td>\n",
       "      <td>0.852640</td>\n",
       "      <td>04:17</td>\n",
       "    </tr>\n",
       "    <tr>\n",
       "      <td>6</td>\n",
       "      <td>0.507101</td>\n",
       "      <td>0.398673</td>\n",
       "      <td>0.813445</td>\n",
       "      <td>0.725605</td>\n",
       "      <td>0.785714</td>\n",
       "      <td>0.725605</td>\n",
       "      <td>0.745158</td>\n",
       "      <td>0.875446</td>\n",
       "      <td>04:21</td>\n",
       "    </tr>\n",
       "    <tr>\n",
       "      <td>7</td>\n",
       "      <td>0.480051</td>\n",
       "      <td>0.377846</td>\n",
       "      <td>0.826891</td>\n",
       "      <td>0.751220</td>\n",
       "      <td>0.799789</td>\n",
       "      <td>0.751220</td>\n",
       "      <td>0.768929</td>\n",
       "      <td>0.888703</td>\n",
       "      <td>04:11</td>\n",
       "    </tr>\n",
       "    <tr>\n",
       "      <td>8</td>\n",
       "      <td>0.476184</td>\n",
       "      <td>0.375113</td>\n",
       "      <td>0.830252</td>\n",
       "      <td>0.742730</td>\n",
       "      <td>0.815444</td>\n",
       "      <td>0.742730</td>\n",
       "      <td>0.765877</td>\n",
       "      <td>0.890348</td>\n",
       "      <td>04:11</td>\n",
       "    </tr>\n",
       "    <tr>\n",
       "      <td>9</td>\n",
       "      <td>0.433740</td>\n",
       "      <td>0.367318</td>\n",
       "      <td>0.821849</td>\n",
       "      <td>0.715213</td>\n",
       "      <td>0.822280</td>\n",
       "      <td>0.715213</td>\n",
       "      <td>0.742007</td>\n",
       "      <td>0.902295</td>\n",
       "      <td>04:11</td>\n",
       "    </tr>\n",
       "    <tr>\n",
       "      <td>10</td>\n",
       "      <td>0.454630</td>\n",
       "      <td>0.365999</td>\n",
       "      <td>0.813445</td>\n",
       "      <td>0.792399</td>\n",
       "      <td>0.770352</td>\n",
       "      <td>0.792399</td>\n",
       "      <td>0.779312</td>\n",
       "      <td>0.901862</td>\n",
       "      <td>04:12</td>\n",
       "    </tr>\n",
       "    <tr>\n",
       "      <td>11</td>\n",
       "      <td>0.502008</td>\n",
       "      <td>0.372493</td>\n",
       "      <td>0.823529</td>\n",
       "      <td>0.719994</td>\n",
       "      <td>0.821389</td>\n",
       "      <td>0.719994</td>\n",
       "      <td>0.746491</td>\n",
       "      <td>0.901807</td>\n",
       "      <td>04:15</td>\n",
       "    </tr>\n",
       "    <tr>\n",
       "      <td>12</td>\n",
       "      <td>0.418766</td>\n",
       "      <td>0.362929</td>\n",
       "      <td>0.840336</td>\n",
       "      <td>0.793082</td>\n",
       "      <td>0.805740</td>\n",
       "      <td>0.793082</td>\n",
       "      <td>0.798933</td>\n",
       "      <td>0.906811</td>\n",
       "      <td>04:16</td>\n",
       "    </tr>\n",
       "    <tr>\n",
       "      <td>13</td>\n",
       "      <td>0.505111</td>\n",
       "      <td>0.366389</td>\n",
       "      <td>0.835294</td>\n",
       "      <td>0.737217</td>\n",
       "      <td>0.838404</td>\n",
       "      <td>0.737217</td>\n",
       "      <td>0.765258</td>\n",
       "      <td>0.905124</td>\n",
       "      <td>04:17</td>\n",
       "    </tr>\n",
       "    <tr>\n",
       "      <td>14</td>\n",
       "      <td>0.440952</td>\n",
       "      <td>0.362388</td>\n",
       "      <td>0.857143</td>\n",
       "      <td>0.792155</td>\n",
       "      <td>0.841080</td>\n",
       "      <td>0.792155</td>\n",
       "      <td>0.810997</td>\n",
       "      <td>0.906867</td>\n",
       "      <td>04:16</td>\n",
       "    </tr>\n",
       "  </tbody>\n",
       "</table>"
      ],
      "text/plain": [
       "<IPython.core.display.HTML object>"
      ]
     },
     "metadata": {},
     "output_type": "display_data"
    }
   ],
   "source": [
    "learn.fit_one_cycle(15,1e-3)"
   ]
  },
  {
   "cell_type": "code",
   "execution_count": 45,
   "id": "e7e1186a-d09b-4ead-a8db-46454c5c4dc0",
   "metadata": {},
   "outputs": [
    {
     "data": {
      "text/html": [
       "<table border=\"1\" class=\"dataframe\">\n",
       "  <thead>\n",
       "    <tr style=\"text-align: left;\">\n",
       "      <th>epoch</th>\n",
       "      <th>train_loss</th>\n",
       "      <th>valid_loss</th>\n",
       "      <th>accuracy</th>\n",
       "      <th>balanced_accuracy_score</th>\n",
       "      <th>precision_score</th>\n",
       "      <th>recall_score</th>\n",
       "      <th>f1_score</th>\n",
       "      <th>roc_auc_score</th>\n",
       "      <th>time</th>\n",
       "    </tr>\n",
       "  </thead>\n",
       "  <tbody>\n",
       "    <tr>\n",
       "      <td>0</td>\n",
       "      <td>0.437038</td>\n",
       "      <td>0.370291</td>\n",
       "      <td>0.836975</td>\n",
       "      <td>0.743804</td>\n",
       "      <td>0.834945</td>\n",
       "      <td>0.743804</td>\n",
       "      <td>0.770631</td>\n",
       "      <td>0.897360</td>\n",
       "      <td>04:06</td>\n",
       "    </tr>\n",
       "    <tr>\n",
       "      <td>1</td>\n",
       "      <td>0.509208</td>\n",
       "      <td>0.400477</td>\n",
       "      <td>0.793277</td>\n",
       "      <td>0.659202</td>\n",
       "      <td>0.799703</td>\n",
       "      <td>0.659202</td>\n",
       "      <td>0.680008</td>\n",
       "      <td>0.886640</td>\n",
       "      <td>04:14</td>\n",
       "    </tr>\n",
       "    <tr>\n",
       "      <td>2</td>\n",
       "      <td>0.414965</td>\n",
       "      <td>0.393670</td>\n",
       "      <td>0.808403</td>\n",
       "      <td>0.689598</td>\n",
       "      <td>0.810710</td>\n",
       "      <td>0.689598</td>\n",
       "      <td>0.714693</td>\n",
       "      <td>0.886068</td>\n",
       "      <td>04:16</td>\n",
       "    </tr>\n",
       "    <tr>\n",
       "      <td>3</td>\n",
       "      <td>0.466141</td>\n",
       "      <td>0.362038</td>\n",
       "      <td>0.835294</td>\n",
       "      <td>0.757075</td>\n",
       "      <td>0.815757</td>\n",
       "      <td>0.757075</td>\n",
       "      <td>0.777626</td>\n",
       "      <td>0.907620</td>\n",
       "      <td>04:14</td>\n",
       "    </tr>\n",
       "    <tr>\n",
       "      <td>4</td>\n",
       "      <td>0.428699</td>\n",
       "      <td>0.359787</td>\n",
       "      <td>0.840336</td>\n",
       "      <td>0.755172</td>\n",
       "      <td>0.831612</td>\n",
       "      <td>0.755172</td>\n",
       "      <td>0.779785</td>\n",
       "      <td>0.914631</td>\n",
       "      <td>04:14</td>\n",
       "    </tr>\n",
       "  </tbody>\n",
       "</table>"
      ],
      "text/plain": [
       "<IPython.core.display.HTML object>"
      ]
     },
     "metadata": {},
     "output_type": "display_data"
    }
   ],
   "source": [
    "learn.fit_one_cycle(5)"
   ]
  },
  {
   "cell_type": "code",
   "execution_count": 216,
   "id": "c5830bb5-c0bb-4680-b773-150c9ee2002c",
   "metadata": {},
   "outputs": [
    {
     "data": {
      "text/plain": [
       "Path('urban/32160100130020.jpg')"
      ]
     },
     "execution_count": 216,
     "metadata": {},
     "output_type": "execute_result"
    }
   ],
   "source": [
    "dls.train.items[175000]"
   ]
  },
  {
   "cell_type": "markdown",
   "id": "97fd48f3-7c1a-4316-999c-2b9b8ca60fdd",
   "metadata": {},
   "source": [
    "Export model"
   ]
  },
  {
   "cell_type": "code",
   "execution_count": 46,
   "id": "547ba6e2-d5a2-4f29-9dcb-fb9b2e109a5d",
   "metadata": {},
   "outputs": [],
   "source": [
    "learn.export('C:/Users/jwst2/Python/tesis/models/18042022 D006.pkl')"
   ]
  },
  {
   "cell_type": "markdown",
   "id": "1460b95b-2b50-40e2-91c3-421e84c3672d",
   "metadata": {},
   "source": [
    "### Resnet"
   ]
  },
  {
   "cell_type": "markdown",
   "id": "514c27b6-2033-4501-8c5c-c480daf450a5",
   "metadata": {},
   "source": [
    "Pembentukan model semisal untuk resnet"
   ]
  },
  {
   "cell_type": "code",
   "execution_count": 16,
   "id": "c431ce4b-372b-4616-9af3-6b8be80b5ea5",
   "metadata": {},
   "outputs": [],
   "source": [
    "learn_rs = cnn_learner(dls, resnet50, metrics=metrics) "
   ]
  },
  {
   "cell_type": "code",
   "execution_count": 18,
   "id": "2b98154c-5948-483b-ab10-98304286b77d",
   "metadata": {},
   "outputs": [
    {
     "data": {
      "text/html": [
       "\n",
       "<style>\n",
       "    /* Turns off some styling */\n",
       "    progress {\n",
       "        /* gets rid of default border in Firefox and Opera. */\n",
       "        border: none;\n",
       "        /* Needs to be in here for Safari polyfill so background images work as expected. */\n",
       "        background-size: auto;\n",
       "    }\n",
       "    .progress-bar-interrupted, .progress-bar-interrupted::-webkit-progress-bar {\n",
       "        background: #F44336;\n",
       "    }\n",
       "</style>\n"
      ],
      "text/plain": [
       "<IPython.core.display.HTML object>"
      ]
     },
     "metadata": {},
     "output_type": "display_data"
    },
    {
     "data": {
      "text/html": [],
      "text/plain": [
       "<IPython.core.display.HTML object>"
      ]
     },
     "metadata": {},
     "output_type": "display_data"
    },
    {
     "data": {
      "text/plain": [
       "SuggestedLRs(valley=0.0005754399462603033)"
      ]
     },
     "execution_count": 18,
     "metadata": {},
     "output_type": "execute_result"
    },
    {
     "data": {
      "image/png": "[encoded data removed]",
      "text/plain": [
       "<Figure size 432x288 with 1 Axes>"
      ]
     },
     "metadata": {
      "needs_background": "light"
     },
     "output_type": "display_data"
    }
   ],
   "source": [
    "learn_rs.lr_find()"
   ]
  },
  {
   "cell_type": "code",
   "execution_count": 50,
   "id": "84155c12-95b7-4883-8e0a-f1d54a4797c9",
   "metadata": {},
   "outputs": [
    {
     "data": {
      "text/html": [
       "<table border=\"1\" class=\"dataframe\">\n",
       "  <thead>\n",
       "    <tr style=\"text-align: left;\">\n",
       "      <th>epoch</th>\n",
       "      <th>train_loss</th>\n",
       "      <th>valid_loss</th>\n",
       "      <th>accuracy</th>\n",
       "      <th>balanced_accuracy_score</th>\n",
       "      <th>precision_score</th>\n",
       "      <th>recall_score</th>\n",
       "      <th>f1_score</th>\n",
       "      <th>roc_auc_score</th>\n",
       "      <th>time</th>\n",
       "    </tr>\n",
       "  </thead>\n",
       "  <tbody>\n",
       "    <tr>\n",
       "      <td>0</td>\n",
       "      <td>0.839068</td>\n",
       "      <td>0.536386</td>\n",
       "      <td>0.766387</td>\n",
       "      <td>0.712676</td>\n",
       "      <td>0.711913</td>\n",
       "      <td>0.712676</td>\n",
       "      <td>0.712291</td>\n",
       "      <td>0.812019</td>\n",
       "      <td>02:14</td>\n",
       "    </tr>\n",
       "    <tr>\n",
       "      <td>1</td>\n",
       "      <td>0.675989</td>\n",
       "      <td>0.509505</td>\n",
       "      <td>0.788235</td>\n",
       "      <td>0.709846</td>\n",
       "      <td>0.741149</td>\n",
       "      <td>0.709846</td>\n",
       "      <td>0.721657</td>\n",
       "      <td>0.807893</td>\n",
       "      <td>02:17</td>\n",
       "    </tr>\n",
       "    <tr>\n",
       "      <td>2</td>\n",
       "      <td>0.545235</td>\n",
       "      <td>0.463389</td>\n",
       "      <td>0.756303</td>\n",
       "      <td>0.689403</td>\n",
       "      <td>0.697583</td>\n",
       "      <td>0.689403</td>\n",
       "      <td>0.693108</td>\n",
       "      <td>0.812646</td>\n",
       "      <td>02:17</td>\n",
       "    </tr>\n",
       "    <tr>\n",
       "      <td>3</td>\n",
       "      <td>0.580465</td>\n",
       "      <td>0.444898</td>\n",
       "      <td>0.774790</td>\n",
       "      <td>0.716725</td>\n",
       "      <td>0.721638</td>\n",
       "      <td>0.716725</td>\n",
       "      <td>0.719063</td>\n",
       "      <td>0.832093</td>\n",
       "      <td>02:18</td>\n",
       "    </tr>\n",
       "    <tr>\n",
       "      <td>4</td>\n",
       "      <td>0.547034</td>\n",
       "      <td>0.405424</td>\n",
       "      <td>0.808403</td>\n",
       "      <td>0.760002</td>\n",
       "      <td>0.763872</td>\n",
       "      <td>0.760002</td>\n",
       "      <td>0.761880</td>\n",
       "      <td>0.864949</td>\n",
       "      <td>02:17</td>\n",
       "    </tr>\n",
       "    <tr>\n",
       "      <td>5</td>\n",
       "      <td>0.566570</td>\n",
       "      <td>0.435662</td>\n",
       "      <td>0.796639</td>\n",
       "      <td>0.728337</td>\n",
       "      <td>0.751034</td>\n",
       "      <td>0.728337</td>\n",
       "      <td>0.737724</td>\n",
       "      <td>0.843440</td>\n",
       "      <td>02:19</td>\n",
       "    </tr>\n",
       "    <tr>\n",
       "      <td>6</td>\n",
       "      <td>0.526024</td>\n",
       "      <td>0.433312</td>\n",
       "      <td>0.727731</td>\n",
       "      <td>0.517857</td>\n",
       "      <td>0.862479</td>\n",
       "      <td>0.517857</td>\n",
       "      <td>0.454758</td>\n",
       "      <td>0.861227</td>\n",
       "      <td>02:23</td>\n",
       "    </tr>\n",
       "    <tr>\n",
       "      <td>7</td>\n",
       "      <td>0.517135</td>\n",
       "      <td>0.443291</td>\n",
       "      <td>0.811765</td>\n",
       "      <td>0.733460</td>\n",
       "      <td>0.777047</td>\n",
       "      <td>0.733460</td>\n",
       "      <td>0.749300</td>\n",
       "      <td>0.878248</td>\n",
       "      <td>02:23</td>\n",
       "    </tr>\n",
       "    <tr>\n",
       "      <td>8</td>\n",
       "      <td>0.481375</td>\n",
       "      <td>0.356629</td>\n",
       "      <td>0.838655</td>\n",
       "      <td>0.793716</td>\n",
       "      <td>0.802730</td>\n",
       "      <td>0.793716</td>\n",
       "      <td>0.797974</td>\n",
       "      <td>0.907452</td>\n",
       "      <td>02:18</td>\n",
       "    </tr>\n",
       "    <tr>\n",
       "      <td>9</td>\n",
       "      <td>0.486261</td>\n",
       "      <td>0.364540</td>\n",
       "      <td>0.836975</td>\n",
       "      <td>0.788934</td>\n",
       "      <td>0.801413</td>\n",
       "      <td>0.788934</td>\n",
       "      <td>0.794700</td>\n",
       "      <td>0.901848</td>\n",
       "      <td>02:18</td>\n",
       "    </tr>\n",
       "    <tr>\n",
       "      <td>10</td>\n",
       "      <td>0.463038</td>\n",
       "      <td>0.335307</td>\n",
       "      <td>0.852101</td>\n",
       "      <td>0.817525</td>\n",
       "      <td>0.817525</td>\n",
       "      <td>0.817525</td>\n",
       "      <td>0.817525</td>\n",
       "      <td>0.915691</td>\n",
       "      <td>02:18</td>\n",
       "    </tr>\n",
       "    <tr>\n",
       "      <td>11</td>\n",
       "      <td>0.449361</td>\n",
       "      <td>0.343311</td>\n",
       "      <td>0.835294</td>\n",
       "      <td>0.739022</td>\n",
       "      <td>0.835785</td>\n",
       "      <td>0.739022</td>\n",
       "      <td>0.766476</td>\n",
       "      <td>0.915314</td>\n",
       "      <td>02:18</td>\n",
       "    </tr>\n",
       "    <tr>\n",
       "      <td>12</td>\n",
       "      <td>0.500876</td>\n",
       "      <td>0.346629</td>\n",
       "      <td>0.838655</td>\n",
       "      <td>0.752196</td>\n",
       "      <td>0.829932</td>\n",
       "      <td>0.752196</td>\n",
       "      <td>0.776924</td>\n",
       "      <td>0.916248</td>\n",
       "      <td>02:18</td>\n",
       "    </tr>\n",
       "    <tr>\n",
       "      <td>13</td>\n",
       "      <td>0.459000</td>\n",
       "      <td>0.342361</td>\n",
       "      <td>0.852101</td>\n",
       "      <td>0.776005</td>\n",
       "      <td>0.843110</td>\n",
       "      <td>0.776005</td>\n",
       "      <td>0.799387</td>\n",
       "      <td>0.917810</td>\n",
       "      <td>02:18</td>\n",
       "    </tr>\n",
       "    <tr>\n",
       "      <td>14</td>\n",
       "      <td>0.447581</td>\n",
       "      <td>0.352790</td>\n",
       "      <td>0.852101</td>\n",
       "      <td>0.776005</td>\n",
       "      <td>0.843110</td>\n",
       "      <td>0.776005</td>\n",
       "      <td>0.799387</td>\n",
       "      <td>0.919120</td>\n",
       "      <td>02:18</td>\n",
       "    </tr>\n",
       "  </tbody>\n",
       "</table>"
      ],
      "text/plain": [
       "<IPython.core.display.HTML object>"
      ]
     },
     "metadata": {},
     "output_type": "display_data"
    }
   ],
   "source": [
    "learn_rs.fit_one_cycle(15,10-3)"
   ]
  },
  {
   "cell_type": "markdown",
   "id": "03bf7ee9-ec76-4206-9ed6-0654ebe1e7b7",
   "metadata": {},
   "source": [
    "Ekpor model resnet"
   ]
  },
  {
   "cell_type": "code",
   "execution_count": 51,
   "id": "d8e90b49-d365-4716-b7db-bf37c1c3cad4",
   "metadata": {},
   "outputs": [],
   "source": [
    "learn_rs.export('C:/Users/jwst2/Python/tesis/models/18042022 R006.pkl')"
   ]
  },
  {
   "cell_type": "code",
   "execution_count": null,
   "id": "7e42c016-3f74-4b38-a9be-6c67229722a0",
   "metadata": {},
   "outputs": [],
   "source": []
  }
 ],
 "metadata": {
  "kernelspec": {
   "display_name": "Python 3 (ipykernel)",
   "language": "python",
   "name": "python3"
  },
  "language_info": {
   "codemirror_mode": {
    "name": "ipython",
    "version": 3
   },
   "file_extension": ".py",
   "mimetype": "text/x-python",
   "name": "python",
   "nbconvert_exporter": "python",
   "pygments_lexer": "ipython3",
   "version": "3.9.7"
  }
 },
 "nbformat": 4,
 "nbformat_minor": 5
}
