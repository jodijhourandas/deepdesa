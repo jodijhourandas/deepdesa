{
 "cells": [
  {
   "cell_type": "code",
   "execution_count": null,
   "id": "b0f43f55-b4fc-4340-80a6-f34766893e01",
   "metadata": {},
   "outputs": [],
   "source": [
    "# Import the required Module\n",
    "from tabula import read_pdf\n",
    "# Read a PDF File\n",
    "df = read_pdf(\"C:/Users/jwst2/Downloads/E-Book Peringkat IDM TH 2020-108-870.pdf\", pages='all')"
   ]
  },
  {
   "cell_type": "code",
   "execution_count": 5,
   "id": "680e17e3-86c4-446a-975f-76861fb4ffbd",
   "metadata": {},
   "outputs": [],
   "source": [
    "import pandas as pd\n",
    "import tabula\n"
   ]
  },
  {
   "cell_type": "markdown",
   "id": "b6fe89a9-4c17-46bb-8889-e51235712106",
   "metadata": {},
   "source": [
    "Kode berikut untuk mengkonversi file IDM yang dipublikasikan dalam bentuk pdf ke csv"
   ]
  },
  {
   "cell_type": "code",
   "execution_count": null,
   "id": "dfe4ab94-3a66-45a8-961f-59c36098fcb4",
   "metadata": {},
   "outputs": [],
   "source": [
    "dfp = pd.DataFrame(df)"
   ]
  },
  {
   "cell_type": "code",
   "execution_count": null,
   "id": "8e06e250-a65f-4742-96a6-4d702af85810",
   "metadata": {},
   "outputs": [],
   "source": [
    "\n",
    "tabula.convert_into(\"C:/Users/jwst2/Downloads/E-Book Peringkat IDM TH 2020-108-870.pdf\", \"output.csv\", output_format=\"csv\", pages='all')\n"
   ]
  },
  {
   "cell_type": "code",
   "execution_count": null,
   "id": "7ff0ddba-9942-4248-a60b-1c513054491f",
   "metadata": {},
   "outputs": [],
   "source": []
  }
 ],
 "metadata": {
  "kernelspec": {
   "display_name": "Python 3 (ipykernel)",
   "language": "python",
   "name": "python3"
  },
  "language_info": {
   "codemirror_mode": {
    "name": "ipython",
    "version": 3
   },
   "file_extension": ".py",
   "mimetype": "text/x-python",
   "name": "python",
   "nbconvert_exporter": "python",
   "pygments_lexer": "ipython3",
   "version": "3.9.7"
  }
 },
 "nbformat": 4,
 "nbformat_minor": 5
}
