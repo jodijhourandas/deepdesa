{
 "cells": [
  {
   "cell_type": "code",
   "execution_count": 1,
   "id": "b0f43f55-b4fc-4340-80a6-f34766893e01",
   "metadata": {},
   "outputs": [
    {
     "name": "stderr",
     "output_type": "stream",
     "text": [
      "Got stderr: Dec 29, 2021 7:21:32 PM org.apache.pdfbox.pdmodel.font.PDSimpleFont toUnicode\n",
      "WARNING: No Unicode mapping for .notdef (10) in font ABCDEE+Calibri\n",
      "\n"
     ]
    }
   ],
   "source": [
    "# Import the required Module\n",
    "from tabula import read_pdf\n",
    "# Read a PDF File\n",
    "df = read_pdf(\"C:/Users/jwst2/Downloads/E-Book Peringkat IDM TH 2020-108-870.pdf\", pages='all')"
   ]
  },
  {
   "cell_type": "code",
   "execution_count": 5,
   "id": "680e17e3-86c4-446a-975f-76861fb4ffbd",
   "metadata": {},
   "outputs": [],
   "source": [
    "import pandas as pd"
   ]
  },
  {
   "cell_type": "code",
   "execution_count": 6,
   "id": "dfe4ab94-3a66-45a8-961f-59c36098fcb4",
   "metadata": {},
   "outputs": [
    {
     "name": "stderr",
     "output_type": "stream",
     "text": [
      "C:\\Users\\jwst2\\anaconda3\\envs\\datasc\\lib\\site-packages\\pandas\\core\\internals\\construction.py:540: VisibleDeprecationWarning: Creating an ndarray from ragged nested sequences (which is a list-or-tuple of lists-or-tuples-or ndarrays with different lengths or shapes) is deprecated. If you meant to do this, you must specify 'dtype=object' when creating the ndarray.\n",
      "  values = np.array([convert(v) for v in values])\n"
     ]
    }
   ],
   "source": [
    "dfp = pd.DataFrame(df)"
   ]
  },
  {
   "cell_type": "code",
   "execution_count": 2,
   "id": "8e06e250-a65f-4742-96a6-4d702af85810",
   "metadata": {},
   "outputs": [
    {
     "name": "stderr",
     "output_type": "stream",
     "text": [
      "Got stderr: Dec 29, 2021 7:30:44 PM org.apache.pdfbox.pdmodel.font.PDSimpleFont toUnicode\n",
      "WARNING: No Unicode mapping for .notdef (10) in font ABCDEE+Calibri\n",
      "\n"
     ]
    }
   ],
   "source": [
    "import tabula\n",
    "\n",
    "tabula.convert_into(\"C:/Users/jwst2/Downloads/E-Book Peringkat IDM TH 2020-108-870.pdf\", \"output.csv\", output_format=\"csv\", pages='all')\n"
   ]
  },
  {
   "cell_type": "code",
   "execution_count": null,
   "id": "7ff0ddba-9942-4248-a60b-1c513054491f",
   "metadata": {},
   "outputs": [],
   "source": []
  }
 ],
 "metadata": {
  "kernelspec": {
   "display_name": "Python 3 (ipykernel)",
   "language": "python",
   "name": "python3"
  },
  "language_info": {
   "codemirror_mode": {
    "name": "ipython",
    "version": 3
   },
   "file_extension": ".py",
   "mimetype": "text/x-python",
   "name": "python",
   "nbconvert_exporter": "python",
   "pygments_lexer": "ipython3",
   "version": "3.9.7"
  }
 },
 "nbformat": 4,
 "nbformat_minor": 5
}
