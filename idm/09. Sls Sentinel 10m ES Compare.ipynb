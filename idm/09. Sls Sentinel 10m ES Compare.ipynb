{
 "cells": [
  {
   "cell_type": "code",
   "execution_count": 28,
   "id": "6b5301ad-0967-4fa2-b602-24fae3844253",
   "metadata": {},
   "outputs": [],
   "source": [
    "import fastai\n",
    "from fastai.vision.all import *\n",
    "import pandas as pd"
   ]
  },
  {
   "cell_type": "code",
   "execution_count": 29,
   "id": "4c6126f5-6665-4423-99f7-6845baa5e650",
   "metadata": {},
   "outputs": [],
   "source": [
    "from sklearn.metrics import accuracy_score, precision_score, recall_score, f1_score,roc_auc_score,balanced_accuracy_score\n",
    "import numpy as np"
   ]
  },
  {
   "cell_type": "code",
   "execution_count": 30,
   "id": "340371a6-2b5b-4588-b652-3aefb6fa81b1",
   "metadata": {},
   "outputs": [],
   "source": [
    "from tqdm import tqdm"
   ]
  },
  {
   "cell_type": "markdown",
   "id": "d5c8d8c6-b800-4e94-b980-e7a235b3acfa",
   "metadata": {},
   "source": [
    "### SLS Dataset Review"
   ]
  },
  {
   "cell_type": "code",
   "execution_count": 31,
   "id": "6a8c1fce-8553-43f4-b944-bc7741fdd266",
   "metadata": {},
   "outputs": [
    {
     "name": "stderr",
     "output_type": "stream",
     "text": [
      "C:\\Users\\jwst2\\AppData\\Local\\Temp\\ipykernel_628\\701159028.py:1: DtypeWarning: Columns (19,20,21,22) have mixed types. Specify dtype option on import or set low_memory=False.\n",
      "  sls = pd.read_csv(\"C:/Users/jwst2/Python/tesis/dataset/3200_sls.csv\")\n"
     ]
    }
   ],
   "source": [
    "sls = pd.read_csv(\"C:/Users/jwst2/Python/tesis/dataset/3200_sls.csv\")"
   ]
  },
  {
   "cell_type": "code",
   "execution_count": 32,
   "id": "240cf8ef-95ee-4410-9819-9b4e21492fca",
   "metadata": {},
   "outputs": [
    {
     "data": {
      "text/plain": [
       "(5957,)"
      ]
     },
     "execution_count": 32,
     "metadata": {},
     "output_type": "execute_result"
    }
   ],
   "source": [
    "sls.iddesa.unique().shape"
   ]
  },
  {
   "cell_type": "code",
   "execution_count": 33,
   "id": "1e9737af-4bd2-4b87-92a3-452ab9d445d0",
   "metadata": {},
   "outputs": [],
   "source": [
    "idm = pd.read_csv(\"C:/Users/jwst2/Python/tesis/dataset/newdata_edit.csv\")"
   ]
  },
  {
   "cell_type": "code",
   "execution_count": 34,
   "id": "8981f132-7601-486b-86e9-3f56797118cf",
   "metadata": {},
   "outputs": [],
   "source": [
    "sls_new = sls.set_index(\"iddesa\").join(idm.set_index(\"bps_kelurahan_kode\"), how =\"left\", rsuffix = \"idm\")"
   ]
  },
  {
   "cell_type": "code",
   "execution_count": 35,
   "id": "96394529-d3ea-4b0b-b4fd-a67bbd64157b",
   "metadata": {},
   "outputs": [],
   "source": [
    "sls_new[\"iddesa\"] = sls_new.index\n",
    "sls_new[\"bps_kelurahan_kode\"] = sls_new.index"
   ]
  },
  {
   "cell_type": "code",
   "execution_count": 36,
   "id": "ef111816-d420-4e73-8ea5-f07a676c5e29",
   "metadata": {},
   "outputs": [
    {
     "data": {
      "text/plain": [
       "(222861, 97)"
      ]
     },
     "execution_count": 36,
     "metadata": {},
     "output_type": "execute_result"
    }
   ],
   "source": [
    "sls_new.shape"
   ]
  },
  {
   "cell_type": "code",
   "execution_count": 37,
   "id": "32aed87a-d49a-4af8-9104-688dd9beb92e",
   "metadata": {},
   "outputs": [],
   "source": [
    "sls_new = sls_new.drop_duplicates([\"idsls\"])"
   ]
  },
  {
   "cell_type": "code",
   "execution_count": 38,
   "id": "43c1f05f-3c7a-4a49-b36d-fb871202a14a",
   "metadata": {},
   "outputs": [
    {
     "data": {
      "text/plain": [
       "(219919, 97)"
      ]
     },
     "execution_count": 38,
     "metadata": {},
     "output_type": "execute_result"
    }
   ],
   "source": [
    "sls_new.shape"
   ]
  },
  {
   "cell_type": "markdown",
   "id": "dd0d5064-bbc1-4c80-a62d-fe767fc96f03",
   "metadata": {},
   "source": [
    "#### Preprocessing"
   ]
  },
  {
   "cell_type": "code",
   "execution_count": 39,
   "id": "03918663-016f-4b79-85bf-1d17d297ebda",
   "metadata": {},
   "outputs": [],
   "source": [
    "yourpath = \"C:/Users/jwst2/Python/tesis/jpg/general sls sentinel 10m ES RES/\"\n",
    "destpath = 'C:/Users/jwst2/Python/tesis/jpg/IDM/09. Desa Sentinel 10m ES RES'"
   ]
  },
  {
   "cell_type": "code",
   "execution_count": 40,
   "id": "a0541718-1257-40ba-aa83-5839cd13a996",
   "metadata": {},
   "outputs": [],
   "source": [
    "os.chdir(destpath)\n",
    "if os.path.isdir('MAJU') is False:\n",
    "    os.makedirs('MAJU MANDIRI')\n",
    "    os.makedirs('TERTINGGAL BERKEMBANG')"
   ]
  },
  {
   "cell_type": "code",
   "execution_count": 41,
   "id": "05c534e0-b655-4829-a767-88be9d926e92",
   "metadata": {},
   "outputs": [
    {
     "name": "stderr",
     "output_type": "stream",
     "text": [
      "1it [07:45, 465.63s/it]\n"
     ]
    }
   ],
   "source": [
    "\n",
    "for root, dirs, files in tqdm(os.walk(yourpath, topdown=False)):\n",
    "    for name in files:\n",
    "        if(not sls_new.status[sls_new.bps_kelurahan_kode == int(name.replace(\".jpg\",\"\")[:10])].empty):\n",
    "            if(sls_new.status[sls_new.bps_kelurahan_kode == int(name.replace(\".jpg\",\"\")[:10])].iloc[0] == \"MAJU\"):\n",
    "                shutil.copy(os.path.join(root, name), destpath+\"/MAJU MANDIRI/\"+name)\n",
    "            elif(sls_new.status[sls_new.bps_kelurahan_kode == int(name.replace(\".jpg\",\"\")[:10])].iloc[0] == \"BERKEMBANG\"):\n",
    "                shutil.copy(os.path.join(root, name), destpath+\"/TERTINGGAL BERKEMBANG/\"+name)\n",
    "            elif(sls_new.status[sls_new.bps_kelurahan_kode == int(name.replace(\".jpg\",\"\")[:10])].iloc[0] == \"TERTINGGAL\"):\n",
    "                shutil.copy(os.path.join(root, name), destpath+\"/TERTINGGAL BERKEMBANG/\"+name)\n",
    "            elif(sls_new.status[sls_new.bps_kelurahan_kode == int(name.replace(\".jpg\",\"\")[:10])].iloc[0] == \"MANDIRI\"):\n",
    "                shutil.copy(os.path.join(root, name), destpath+\"/MAJU MANDIRI/\"+name)\n",
    "       "
   ]
  },
  {
   "cell_type": "code",
   "execution_count": 42,
   "id": "ba6f5638-d088-4d4a-9e68-8d8ce136f5ff",
   "metadata": {},
   "outputs": [],
   "source": [
    "test_path = 'C:/Users/jwst2/Python/tesis/jpg/IDM/test sls 10m es res/'"
   ]
  },
  {
   "cell_type": "code",
   "execution_count": 44,
   "id": "67ea39bc-7108-4f3d-a267-d5b42105d082",
   "metadata": {},
   "outputs": [],
   "source": [
    "split = pd.read_csv(\"C:/Users/jwst2/Python/tesis/dataset/test_idm_res.csv\")"
   ]
  },
  {
   "cell_type": "code",
   "execution_count": 45,
   "id": "f07f38ae-a55e-4076-bee1-374a9f66e378",
   "metadata": {},
   "outputs": [],
   "source": [
    "split_test = split"
   ]
  },
  {
   "cell_type": "code",
   "execution_count": 46,
   "id": "7e5a3763-b072-4b1a-bb88-1b2f37e657a8",
   "metadata": {},
   "outputs": [],
   "source": [
    "os.chdir(test_path)\n",
    "if os.path.isdir('MAJU') is False:\n",
    "    os.makedirs('MAJU MANDIRI')\n",
    "    os.makedirs('TERTINGGAL BERKEMBANG')"
   ]
  },
  {
   "cell_type": "code",
   "execution_count": 47,
   "id": "c51ca8d6-22a7-4238-b9d6-dd11f6b5a166",
   "metadata": {},
   "outputs": [],
   "source": [
    "catlist = [\"MAJU MANDIRI\",\"TERTINGGAL BERKEMBANG\"]"
   ]
  },
  {
   "cell_type": "code",
   "execution_count": 48,
   "id": "58152181-e555-4f1c-8706-1254c9db5081",
   "metadata": {},
   "outputs": [
    {
     "data": {
      "text/plain": [
       "'C:/Users/jwst2/Python/tesis/jpg/IDM/09. Desa Sentinel 10m ES RESMAJU MANDIRI'"
      ]
     },
     "execution_count": 48,
     "metadata": {},
     "output_type": "execute_result"
    }
   ],
   "source": [
    "destpath + catlist[0]"
   ]
  },
  {
   "cell_type": "code",
   "execution_count": 49,
   "id": "d85105af-9944-4dff-b6da-8a03ff089b43",
   "metadata": {},
   "outputs": [
    {
     "name": "stdout",
     "output_type": "stream",
     "text": [
      "MAJU MANDIRI\n"
     ]
    },
    {
     "name": "stderr",
     "output_type": "stream",
     "text": [
      "1it [00:35, 35.88s/it]\n"
     ]
    },
    {
     "name": "stdout",
     "output_type": "stream",
     "text": [
      "TERTINGGAL BERKEMBANG\n"
     ]
    },
    {
     "name": "stderr",
     "output_type": "stream",
     "text": [
      "1it [00:44, 44.46s/it]\n"
     ]
    }
   ],
   "source": [
    "for i in range(0,2):\n",
    "    print(catlist[i])\n",
    "    yourpath = destpath +\"/\"+ catlist[i]\n",
    "    for root, dirs, files in tqdm(os.walk(yourpath, topdown=False)):\n",
    "        for name in files:\n",
    "            try :\n",
    "                if(split_test.iddesa.astype(str).str.contains(name[:10]).sum() > 0):\n",
    "                    shutil.move(os.path.join(root, name), test_path+catlist[i]+\"/\"+name)\n",
    "            except Exception:\n",
    "                print(name)\n",
    "                pass "
   ]
  },
  {
   "cell_type": "markdown",
   "id": "c4db6ad9-230f-4fb1-8802-d4d94084ab93",
   "metadata": {},
   "source": [
    "### Run Dataset"
   ]
  },
  {
   "cell_type": "code",
   "execution_count": 50,
   "id": "90fde506-4689-4fdd-a6ac-cd33a14d1fa7",
   "metadata": {},
   "outputs": [],
   "source": [
    "path = Path.cwd() / (destpath)"
   ]
  },
  {
   "cell_type": "code",
   "execution_count": 51,
   "id": "884088a1-f278-49ed-ba7a-84a8788ac906",
   "metadata": {},
   "outputs": [
    {
     "data": {
      "text/plain": [
       "(#2) [Path('MAJU MANDIRI'),Path('TERTINGGAL BERKEMBANG')]"
      ]
     },
     "execution_count": 51,
     "metadata": {},
     "output_type": "execute_result"
    }
   ],
   "source": [
    "Path.BASE_PATH = path\n",
    "path.ls()"
   ]
  },
  {
   "cell_type": "code",
   "execution_count": 52,
   "id": "bd185d8d-e0c7-4234-a389-964c9b58dd8b",
   "metadata": {},
   "outputs": [
    {
     "data": {
      "text/plain": [
       "Path('MAJU MANDIRI/32010200010001.jpg')"
      ]
     },
     "execution_count": 52,
     "metadata": {},
     "output_type": "execute_result"
    }
   ],
   "source": [
    "fname = (path/\"MAJU MANDIRI\").ls()[0]\n",
    "fname"
   ]
  },
  {
   "cell_type": "code",
   "execution_count": 53,
   "id": "52aafdf5-784f-43e5-82dc-98f1542f98ed",
   "metadata": {},
   "outputs": [
    {
     "data": {
      "image/png": "[encoded data removed]",
      "text/plain": [
       "<PIL.JpegImagePlugin.JpegImageFile image mode=RGB size=64x64 at 0x21E95F74C70>"
      ]
     },
     "execution_count": 53,
     "metadata": {},
     "output_type": "execute_result"
    }
   ],
   "source": [
    "img = Image.open(fname)\n",
    "img"
   ]
  },
  {
   "cell_type": "code",
   "execution_count": 54,
   "id": "a528169c-6462-4eee-98cb-af609455d447",
   "metadata": {},
   "outputs": [],
   "source": [
    "blocks = DataBlock(blocks = (ImageBlock, CategoryBlock),\n",
    "                 get_items=get_image_files, # finds the images in the path\n",
    "                 splitter=RandomSplitter(valid_pct=0.1, seed=42),  # default random split 80% training, 20% validation\n",
    "                 get_y=parent_label,\n",
    "                 item_tfms = Resize(64)) # data augmentation (mult multiplies the default transformation values)"
   ]
  },
  {
   "cell_type": "code",
   "execution_count": 55,
   "id": "7d33721a-eeba-4cda-af33-84a8baace424",
   "metadata": {},
   "outputs": [
    {
     "name": "stdout",
     "output_type": "stream",
     "text": [
      "Due to IPython and Windows limitation, python multiprocessing isn't available now.\n",
      "So `number_workers` is changed to 0 to avoid getting stuck\n"
     ]
    }
   ],
   "source": [
    "dls = blocks.dataloaders(path)"
   ]
  },
  {
   "cell_type": "code",
   "execution_count": 56,
   "id": "eff7faf3-2588-4b9c-a678-08d148a16221",
   "metadata": {},
   "outputs": [
    {
     "data": {
      "image/png": "[encoded data removed]",
      "text/plain": [
       "<Figure size 1080x216 with 5 Axes>"
      ]
     },
     "metadata": {
      "needs_background": "light"
     },
     "output_type": "display_data"
    }
   ],
   "source": [
    "dls.show_batch(nrows=1, ncols=5)"
   ]
  },
  {
   "cell_type": "code",
   "execution_count": 57,
   "id": "8525b8dd-43c1-41dd-a1e7-eadb3de93d6d",
   "metadata": {},
   "outputs": [
    {
     "name": "stderr",
     "output_type": "stream",
     "text": [
      "C:\\Users\\jwst2\\anaconda3\\envs\\datasc\\lib\\site-packages\\fastai\\vision\\learner.py:265: UserWarning: `cnn_learner` has been renamed to `vision_learner` -- please update your code\n",
      "  warn(\"`cnn_learner` has been renamed to `vision_learner` -- please update your code\")\n"
     ]
    }
   ],
   "source": [
    "avg = 'macro'\n",
    "roca = RocAucBinary(average=avg)\n",
    "f1s = F1Score(average=avg)\n",
    "bc = BalancedAccuracy()\n",
    "metrics=[accuracy,bc, Precision(average=avg), Recall(average=avg), f1s, roca]\n",
    "learn = cnn_learner(dls, densenet121, metrics=metrics) "
   ]
  },
  {
   "cell_type": "code",
   "execution_count": 58,
   "id": "e0a0853a-62f8-44da-aaca-e02df72ece58",
   "metadata": {},
   "outputs": [
    {
     "data": {
      "text/html": [
       "\n",
       "<style>\n",
       "    /* Turns off some styling */\n",
       "    progress {\n",
       "        /* gets rid of default border in Firefox and Opera. */\n",
       "        border: none;\n",
       "        /* Needs to be in here for Safari polyfill so background images work as expected. */\n",
       "        background-size: auto;\n",
       "    }\n",
       "    .progress-bar-interrupted, .progress-bar-interrupted::-webkit-progress-bar {\n",
       "        background: #F44336;\n",
       "    }\n",
       "</style>\n"
      ],
      "text/plain": [
       "<IPython.core.display.HTML object>"
      ]
     },
     "metadata": {},
     "output_type": "display_data"
    },
    {
     "data": {
      "text/html": [],
      "text/plain": [
       "<IPython.core.display.HTML object>"
      ]
     },
     "metadata": {},
     "output_type": "display_data"
    },
    {
     "data": {
      "text/plain": [
       "SuggestedLRs(valley=0.00363078061491251)"
      ]
     },
     "execution_count": 58,
     "metadata": {},
     "output_type": "execute_result"
    },
    {
     "data": {
      "image/png": "[encoded data removed]",
      "text/plain": [
       "<Figure size 432x288 with 1 Axes>"
      ]
     },
     "metadata": {
      "needs_background": "light"
     },
     "output_type": "display_data"
    }
   ],
   "source": [
    "learn.lr_find()"
   ]
  },
  {
   "cell_type": "code",
   "execution_count": 59,
   "id": "aab9f026-8749-42b2-abfb-60aa7c10aacb",
   "metadata": {},
   "outputs": [],
   "source": [
    "learn.unfreeze()"
   ]
  },
  {
   "cell_type": "code",
   "execution_count": 60,
   "id": "cd1f3ab9-a177-498f-9922-bf7ec2dd9724",
   "metadata": {},
   "outputs": [
    {
     "data": {
      "text/html": [
       "\n",
       "<style>\n",
       "    /* Turns off some styling */\n",
       "    progress {\n",
       "        /* gets rid of default border in Firefox and Opera. */\n",
       "        border: none;\n",
       "        /* Needs to be in here for Safari polyfill so background images work as expected. */\n",
       "        background-size: auto;\n",
       "    }\n",
       "    .progress-bar-interrupted, .progress-bar-interrupted::-webkit-progress-bar {\n",
       "        background: #F44336;\n",
       "    }\n",
       "</style>\n"
      ],
      "text/plain": [
       "<IPython.core.display.HTML object>"
      ]
     },
     "metadata": {},
     "output_type": "display_data"
    },
    {
     "data": {
      "text/html": [
       "<table border=\"1\" class=\"dataframe\">\n",
       "  <thead>\n",
       "    <tr style=\"text-align: left;\">\n",
       "      <th>epoch</th>\n",
       "      <th>train_loss</th>\n",
       "      <th>valid_loss</th>\n",
       "      <th>accuracy</th>\n",
       "      <th>balanced_accuracy_score</th>\n",
       "      <th>precision_score</th>\n",
       "      <th>recall_score</th>\n",
       "      <th>f1_score</th>\n",
       "      <th>roc_auc_score</th>\n",
       "      <th>time</th>\n",
       "    </tr>\n",
       "  </thead>\n",
       "  <tbody>\n",
       "    <tr>\n",
       "      <td>0</td>\n",
       "      <td>0.797834</td>\n",
       "      <td>0.674187</td>\n",
       "      <td>0.603327</td>\n",
       "      <td>0.563043</td>\n",
       "      <td>0.610173</td>\n",
       "      <td>0.563043</td>\n",
       "      <td>0.530928</td>\n",
       "      <td>0.625852</td>\n",
       "      <td>15:39</td>\n",
       "    </tr>\n",
       "    <tr>\n",
       "      <td>1</td>\n",
       "      <td>0.721264</td>\n",
       "      <td>1.275333</td>\n",
       "      <td>0.556245</td>\n",
       "      <td>0.571980</td>\n",
       "      <td>0.574962</td>\n",
       "      <td>0.571980</td>\n",
       "      <td>0.554920</td>\n",
       "      <td>0.592656</td>\n",
       "      <td>10:26</td>\n",
       "    </tr>\n",
       "    <tr>\n",
       "      <td>2</td>\n",
       "      <td>0.663712</td>\n",
       "      <td>7.662222</td>\n",
       "      <td>0.613970</td>\n",
       "      <td>0.573684</td>\n",
       "      <td>0.629586</td>\n",
       "      <td>0.573684</td>\n",
       "      <td>0.542944</td>\n",
       "      <td>0.650621</td>\n",
       "      <td>10:26</td>\n",
       "    </tr>\n",
       "    <tr>\n",
       "      <td>3</td>\n",
       "      <td>0.635071</td>\n",
       "      <td>0.633608</td>\n",
       "      <td>0.653651</td>\n",
       "      <td>0.629545</td>\n",
       "      <td>0.654583</td>\n",
       "      <td>0.629545</td>\n",
       "      <td>0.626059</td>\n",
       "      <td>0.678577</td>\n",
       "      <td>10:22</td>\n",
       "    </tr>\n",
       "    <tr>\n",
       "      <td>4</td>\n",
       "      <td>0.624545</td>\n",
       "      <td>1.513632</td>\n",
       "      <td>0.656752</td>\n",
       "      <td>0.636380</td>\n",
       "      <td>0.654281</td>\n",
       "      <td>0.636380</td>\n",
       "      <td>0.635287</td>\n",
       "      <td>0.692593</td>\n",
       "      <td>10:30</td>\n",
       "    </tr>\n",
       "    <tr>\n",
       "      <td>5</td>\n",
       "      <td>0.624996</td>\n",
       "      <td>0.619463</td>\n",
       "      <td>0.662673</td>\n",
       "      <td>0.644003</td>\n",
       "      <td>0.659669</td>\n",
       "      <td>0.644003</td>\n",
       "      <td>0.643846</td>\n",
       "      <td>0.702426</td>\n",
       "      <td>10:24</td>\n",
       "    </tr>\n",
       "    <tr>\n",
       "      <td>6</td>\n",
       "      <td>0.618253</td>\n",
       "      <td>0.649021</td>\n",
       "      <td>0.662955</td>\n",
       "      <td>0.644719</td>\n",
       "      <td>0.659655</td>\n",
       "      <td>0.644719</td>\n",
       "      <td>0.644723</td>\n",
       "      <td>0.703729</td>\n",
       "      <td>10:24</td>\n",
       "    </tr>\n",
       "  </tbody>\n",
       "</table>"
      ],
      "text/plain": [
       "<IPython.core.display.HTML object>"
      ]
     },
     "metadata": {},
     "output_type": "display_data"
    }
   ],
   "source": [
    "learn.fit_one_cycle(7,lr_max = 7e-3)"
   ]
  },
  {
   "cell_type": "code",
   "execution_count": 61,
   "id": "e7e1186a-d09b-4ead-a8db-46454c5c4dc0",
   "metadata": {},
   "outputs": [
    {
     "data": {
      "text/plain": [
       "['MAJU MANDIRI', 'TERTINGGAL BERKEMBANG']"
      ]
     },
     "execution_count": 61,
     "metadata": {},
     "output_type": "execute_result"
    }
   ],
   "source": [
    "dls.vocab"
   ]
  },
  {
   "cell_type": "code",
   "execution_count": 62,
   "id": "c5830bb5-c0bb-4680-b773-150c9ee2002c",
   "metadata": {},
   "outputs": [
    {
     "data": {
      "text/plain": [
       "Path('MAJU MANDIRI/32040400110075.jpg')"
      ]
     },
     "execution_count": 62,
     "metadata": {},
     "output_type": "execute_result"
    }
   ],
   "source": [
    "dls.train.items[1500]"
   ]
  },
  {
   "cell_type": "code",
   "execution_count": 63,
   "id": "5fe939ea-1480-48b4-b39c-6321fb45a3ff",
   "metadata": {},
   "outputs": [
    {
     "data": {
      "image/png": "[encoded data removed]",
      "text/plain": [
       "<Figure size 432x288 with 1 Axes>"
      ]
     },
     "metadata": {
      "needs_background": "light"
     },
     "output_type": "display_data"
    }
   ],
   "source": [
    "plt.plot(L(learn.recorder.values).itemgot(2));"
   ]
  },
  {
   "cell_type": "code",
   "execution_count": 64,
   "id": "22eb2b6b-07d9-4e3d-a37b-0ff0efe2c796",
   "metadata": {},
   "outputs": [
    {
     "data": {
      "text/html": [
       "\n",
       "<style>\n",
       "    /* Turns off some styling */\n",
       "    progress {\n",
       "        /* gets rid of default border in Firefox and Opera. */\n",
       "        border: none;\n",
       "        /* Needs to be in here for Safari polyfill so background images work as expected. */\n",
       "        background-size: auto;\n",
       "    }\n",
       "    .progress-bar-interrupted, .progress-bar-interrupted::-webkit-progress-bar {\n",
       "        background: #F44336;\n",
       "    }\n",
       "</style>\n"
      ],
      "text/plain": [
       "<IPython.core.display.HTML object>"
      ]
     },
     "metadata": {},
     "output_type": "display_data"
    },
    {
     "data": {
      "text/html": [],
      "text/plain": [
       "<IPython.core.display.HTML object>"
      ]
     },
     "metadata": {},
     "output_type": "display_data"
    },
    {
     "data": {
      "text/html": [
       "\n",
       "<style>\n",
       "    /* Turns off some styling */\n",
       "    progress {\n",
       "        /* gets rid of default border in Firefox and Opera. */\n",
       "        border: none;\n",
       "        /* Needs to be in here for Safari polyfill so background images work as expected. */\n",
       "        background-size: auto;\n",
       "    }\n",
       "    .progress-bar-interrupted, .progress-bar-interrupted::-webkit-progress-bar {\n",
       "        background: #F44336;\n",
       "    }\n",
       "</style>\n"
      ],
      "text/plain": [
       "<IPython.core.display.HTML object>"
      ]
     },
     "metadata": {},
     "output_type": "display_data"
    },
    {
     "data": {
      "text/html": [],
      "text/plain": [
       "<IPython.core.display.HTML object>"
      ]
     },
     "metadata": {},
     "output_type": "display_data"
    },
    {
     "data": {
      "image/png": "[encoded data removed]",
      "text/plain": [
       "<Figure size 720x720 with 1 Axes>"
      ]
     },
     "metadata": {
      "needs_background": "light"
     },
     "output_type": "display_data"
    }
   ],
   "source": [
    "interp = ClassificationInterpretation.from_learner(learn)\n",
    "interp.plot_confusion_matrix(figsize=(12,12), dpi=60)"
   ]
  },
  {
   "cell_type": "code",
   "execution_count": null,
   "id": "ad9d789a-c2ca-4d1f-88c9-ee7a1c7f144f",
   "metadata": {},
   "outputs": [],
   "source": [
    "interp.plot_top_losses(3, figsize=(20,11))"
   ]
  },
  {
   "cell_type": "code",
   "execution_count": 66,
   "id": "547ba6e2-d5a2-4f29-9dcb-fb9b2e109a5d",
   "metadata": {},
   "outputs": [],
   "source": [
    "learn.export('C:/Users/jwst2/Python/tesis/models/SLS Densenet Sentinel ES RES.pkl')"
   ]
  },
  {
   "cell_type": "markdown",
   "id": "a06daf77-bb94-4097-bc8f-263a1c65aed5",
   "metadata": {},
   "source": [
    "### Up level"
   ]
  },
  {
   "cell_type": "code",
   "execution_count": 67,
   "id": "f975b391-1a56-4d3c-ab42-829ace1febc3",
   "metadata": {},
   "outputs": [],
   "source": [
    "idx_train = []\n",
    "for i in dls.train.items:\n",
    "    idx_train.append(str(i)[-18:-4])\n",
    "true_label = []\n",
    "for i in dls.train.items:\n",
    "    if('TERTINGGAL BERKEMBANG' in str(i)) :\n",
    "        true_label.append(1)\n",
    "    else :\n",
    "        true_label.append(0)"
   ]
  },
  {
   "cell_type": "code",
   "execution_count": 68,
   "id": "1b9a6293-8ded-4ccd-8be5-282e8abf5ef4",
   "metadata": {},
   "outputs": [
    {
     "data": {
      "text/html": [
       "\n",
       "<style>\n",
       "    /* Turns off some styling */\n",
       "    progress {\n",
       "        /* gets rid of default border in Firefox and Opera. */\n",
       "        border: none;\n",
       "        /* Needs to be in here for Safari polyfill so background images work as expected. */\n",
       "        background-size: auto;\n",
       "    }\n",
       "    .progress-bar-interrupted, .progress-bar-interrupted::-webkit-progress-bar {\n",
       "        background: #F44336;\n",
       "    }\n",
       "</style>\n"
      ],
      "text/plain": [
       "<IPython.core.display.HTML object>"
      ]
     },
     "metadata": {},
     "output_type": "display_data"
    },
    {
     "data": {
      "text/html": [],
      "text/plain": [
       "<IPython.core.display.HTML object>"
      ]
     },
     "metadata": {},
     "output_type": "display_data"
    }
   ],
   "source": [
    "preds,_ = learn.get_preds(ds_idx  = 0)\n",
    "result_train = preds.numpy()\n",
    "new_train = pd.DataFrame(result_train)"
   ]
  },
  {
   "cell_type": "code",
   "execution_count": 69,
   "id": "f6f18366-923e-49d5-8470-4f5c63b89975",
   "metadata": {},
   "outputs": [
    {
     "data": {
      "text/plain": [
       "1    71463\n",
       "0    56233\n",
       "dtype: int64"
      ]
     },
     "execution_count": 69,
     "metadata": {},
     "output_type": "execute_result"
    }
   ],
   "source": [
    "pd.value_counts(true_label)"
   ]
  },
  {
   "cell_type": "code",
   "execution_count": 70,
   "id": "7baa9c67-e0bf-4fa0-b699-81028a698288",
   "metadata": {},
   "outputs": [
    {
     "data": {
      "text/html": [
       "<div>\n",
       "<style scoped>\n",
       "    .dataframe tbody tr th:only-of-type {\n",
       "        vertical-align: middle;\n",
       "    }\n",
       "\n",
       "    .dataframe tbody tr th {\n",
       "        vertical-align: top;\n",
       "    }\n",
       "\n",
       "    .dataframe thead th {\n",
       "        text-align: right;\n",
       "    }\n",
       "</style>\n",
       "<table border=\"1\" class=\"dataframe\">\n",
       "  <thead>\n",
       "    <tr style=\"text-align: right;\">\n",
       "      <th></th>\n",
       "      <th>0</th>\n",
       "      <th>1</th>\n",
       "      <th>idsls</th>\n",
       "      <th>stat</th>\n",
       "      <th>iddesa</th>\n",
       "    </tr>\n",
       "  </thead>\n",
       "  <tbody>\n",
       "    <tr>\n",
       "      <th>0</th>\n",
       "      <td>0.352340</td>\n",
       "      <td>0.647660</td>\n",
       "      <td>32071700030033</td>\n",
       "      <td>1.0</td>\n",
       "      <td>3207170003</td>\n",
       "    </tr>\n",
       "    <tr>\n",
       "      <th>1</th>\n",
       "      <td>0.642235</td>\n",
       "      <td>0.357765</td>\n",
       "      <td>32150700060030</td>\n",
       "      <td>0.0</td>\n",
       "      <td>3215070006</td>\n",
       "    </tr>\n",
       "    <tr>\n",
       "      <th>2</th>\n",
       "      <td>0.822234</td>\n",
       "      <td>0.177766</td>\n",
       "      <td>32042500030039</td>\n",
       "      <td>0.0</td>\n",
       "      <td>3204250003</td>\n",
       "    </tr>\n",
       "    <tr>\n",
       "      <th>3</th>\n",
       "      <td>0.310630</td>\n",
       "      <td>0.689370</td>\n",
       "      <td>32151400040005</td>\n",
       "      <td>1.0</td>\n",
       "      <td>3215140004</td>\n",
       "    </tr>\n",
       "    <tr>\n",
       "      <th>4</th>\n",
       "      <td>0.813970</td>\n",
       "      <td>0.186030</td>\n",
       "      <td>32091410050001</td>\n",
       "      <td>0.0</td>\n",
       "      <td>3209141005</td>\n",
       "    </tr>\n",
       "  </tbody>\n",
       "</table>\n",
       "</div>"
      ],
      "text/plain": [
       "          0         1           idsls  stat      iddesa\n",
       "0  0.352340  0.647660  32071700030033   1.0  3207170003\n",
       "1  0.642235  0.357765  32150700060030   0.0  3215070006\n",
       "2  0.822234  0.177766  32042500030039   0.0  3204250003\n",
       "3  0.310630  0.689370  32151400040005   1.0  3215140004\n",
       "4  0.813970  0.186030  32091410050001   0.0  3209141005"
      ]
     },
     "execution_count": 70,
     "metadata": {},
     "output_type": "execute_result"
    }
   ],
   "source": [
    "df = new_train\n",
    "df[\"idsls\"] = idx_train \n",
    "df[\"stat\"] = round(df[1])\n",
    "df[\"iddesa\"] = df.idsls.str[:10]\n",
    "df.head()"
   ]
  },
  {
   "cell_type": "code",
   "execution_count": 71,
   "id": "27375754-0aa1-4dde-af27-3d7f20cb244c",
   "metadata": {},
   "outputs": [
    {
     "data": {
      "text/plain": [
       "1.0    85651\n",
       "0.0    42045\n",
       "Name: stat, dtype: int64"
      ]
     },
     "execution_count": 71,
     "metadata": {},
     "output_type": "execute_result"
    }
   ],
   "source": [
    "pd.value_counts(df.stat)"
   ]
  },
  {
   "cell_type": "code",
   "execution_count": 72,
   "id": "51e93c51-a1f1-4c0d-92e0-984e5b78d065",
   "metadata": {},
   "outputs": [],
   "source": [
    "df[\"true_lab\"] = true_label"
   ]
  },
  {
   "cell_type": "code",
   "execution_count": 73,
   "id": "0823d3a6-312e-4355-b198-23eae6063316",
   "metadata": {},
   "outputs": [
    {
     "data": {
      "text/plain": [
       "1    71463\n",
       "0    56233\n",
       "Name: true_lab, dtype: int64"
      ]
     },
     "execution_count": 73,
     "metadata": {},
     "output_type": "execute_result"
    }
   ],
   "source": [
    "pd.value_counts(df.true_lab)"
   ]
  },
  {
   "cell_type": "code",
   "execution_count": 74,
   "id": "84ffac8a-28bd-4e7c-97b0-e4b46e397e64",
   "metadata": {},
   "outputs": [
    {
     "data": {
      "text/plain": [
       "0.6630434782608695"
      ]
     },
     "execution_count": 74,
     "metadata": {},
     "output_type": "execute_result"
    }
   ],
   "source": [
    "accuracy_score(df.stat.apply(int),df.true_lab.apply(int))"
   ]
  },
  {
   "cell_type": "code",
   "execution_count": 75,
   "id": "caadfca2-e80e-4d01-8e5c-16c22d8e3900",
   "metadata": {},
   "outputs": [
    {
     "data": {
      "text/html": [
       "<div>\n",
       "<style scoped>\n",
       "    .dataframe tbody tr th:only-of-type {\n",
       "        vertical-align: middle;\n",
       "    }\n",
       "\n",
       "    .dataframe tbody tr th {\n",
       "        vertical-align: top;\n",
       "    }\n",
       "\n",
       "    .dataframe thead th {\n",
       "        text-align: right;\n",
       "    }\n",
       "</style>\n",
       "<table border=\"1\" class=\"dataframe\">\n",
       "  <thead>\n",
       "    <tr style=\"text-align: right;\">\n",
       "      <th></th>\n",
       "      <th>0</th>\n",
       "      <th>1</th>\n",
       "      <th>idsls</th>\n",
       "      <th>stat</th>\n",
       "      <th>iddesa</th>\n",
       "      <th>true_lab</th>\n",
       "    </tr>\n",
       "  </thead>\n",
       "  <tbody>\n",
       "    <tr>\n",
       "      <th>0</th>\n",
       "      <td>0.352340</td>\n",
       "      <td>0.647660</td>\n",
       "      <td>32071700030033</td>\n",
       "      <td>1.0</td>\n",
       "      <td>3207170003</td>\n",
       "      <td>0</td>\n",
       "    </tr>\n",
       "    <tr>\n",
       "      <th>1</th>\n",
       "      <td>0.642235</td>\n",
       "      <td>0.357765</td>\n",
       "      <td>32150700060030</td>\n",
       "      <td>0.0</td>\n",
       "      <td>3215070006</td>\n",
       "      <td>0</td>\n",
       "    </tr>\n",
       "    <tr>\n",
       "      <th>2</th>\n",
       "      <td>0.822234</td>\n",
       "      <td>0.177766</td>\n",
       "      <td>32042500030039</td>\n",
       "      <td>0.0</td>\n",
       "      <td>3204250003</td>\n",
       "      <td>0</td>\n",
       "    </tr>\n",
       "    <tr>\n",
       "      <th>3</th>\n",
       "      <td>0.310630</td>\n",
       "      <td>0.689370</td>\n",
       "      <td>32151400040005</td>\n",
       "      <td>1.0</td>\n",
       "      <td>3215140004</td>\n",
       "      <td>1</td>\n",
       "    </tr>\n",
       "    <tr>\n",
       "      <th>4</th>\n",
       "      <td>0.813970</td>\n",
       "      <td>0.186030</td>\n",
       "      <td>32091410050001</td>\n",
       "      <td>0.0</td>\n",
       "      <td>3209141005</td>\n",
       "      <td>1</td>\n",
       "    </tr>\n",
       "  </tbody>\n",
       "</table>\n",
       "</div>"
      ],
      "text/plain": [
       "          0         1           idsls  stat      iddesa  true_lab\n",
       "0  0.352340  0.647660  32071700030033   1.0  3207170003         0\n",
       "1  0.642235  0.357765  32150700060030   0.0  3215070006         0\n",
       "2  0.822234  0.177766  32042500030039   0.0  3204250003         0\n",
       "3  0.310630  0.689370  32151400040005   1.0  3215140004         1\n",
       "4  0.813970  0.186030  32091410050001   0.0  3209141005         1"
      ]
     },
     "execution_count": 75,
     "metadata": {},
     "output_type": "execute_result"
    }
   ],
   "source": [
    "df.head()"
   ]
  },
  {
   "cell_type": "code",
   "execution_count": 85,
   "id": "d72c35ba-448b-4f71-8a5f-6b03de74920f",
   "metadata": {},
   "outputs": [],
   "source": [
    "desa_pred = df.groupby('iddesa').agg({'stat': ['mean'], 'true_lab': 'mean'})"
   ]
  },
  {
   "cell_type": "code",
   "execution_count": 86,
   "id": "99a39f46-949f-42c8-a81e-28731b0fc783",
   "metadata": {},
   "outputs": [],
   "source": [
    "desa_pred.columns = [\"pred\",\"true\"]"
   ]
  },
  {
   "cell_type": "code",
   "execution_count": 87,
   "id": "580d8552-7a64-41df-ac54-823feee451f6",
   "metadata": {},
   "outputs": [
    {
     "data": {
      "text/plain": [
       "1.0    85651\n",
       "0.0    42045\n",
       "Name: stat, dtype: int64"
      ]
     },
     "execution_count": 87,
     "metadata": {},
     "output_type": "execute_result"
    }
   ],
   "source": [
    "pd.value_counts(df.stat)"
   ]
  },
  {
   "cell_type": "code",
   "execution_count": 88,
   "id": "8253e8fa-9c54-4d63-87a5-e59669b9ece2",
   "metadata": {},
   "outputs": [],
   "source": [
    "for i in np.arange(0.0, 0.95, 0.025):\n",
    "    value = round(i,3)\n",
    "    desa_pred[\"label\"+str(value)] = 0\n",
    "    desa_pred.loc[desa_pred.pred >value,\"label\"+str(value)] = 1"
   ]
  },
  {
   "cell_type": "code",
   "execution_count": 89,
   "id": "4366ffb4-4834-4bbf-a447-5469fa8cf4f9",
   "metadata": {},
   "outputs": [
    {
     "data": {
      "text/html": [
       "<div>\n",
       "<style scoped>\n",
       "    .dataframe tbody tr th:only-of-type {\n",
       "        vertical-align: middle;\n",
       "    }\n",
       "\n",
       "    .dataframe tbody tr th {\n",
       "        vertical-align: top;\n",
       "    }\n",
       "\n",
       "    .dataframe thead th {\n",
       "        text-align: right;\n",
       "    }\n",
       "</style>\n",
       "<table border=\"1\" class=\"dataframe\">\n",
       "  <thead>\n",
       "    <tr style=\"text-align: right;\">\n",
       "      <th></th>\n",
       "      <th>pred</th>\n",
       "      <th>true</th>\n",
       "      <th>label0.0</th>\n",
       "      <th>label0.025</th>\n",
       "      <th>label0.05</th>\n",
       "      <th>label0.075</th>\n",
       "      <th>label0.1</th>\n",
       "      <th>label0.125</th>\n",
       "      <th>label0.15</th>\n",
       "      <th>label0.175</th>\n",
       "      <th>...</th>\n",
       "      <th>label0.7</th>\n",
       "      <th>label0.725</th>\n",
       "      <th>label0.75</th>\n",
       "      <th>label0.775</th>\n",
       "      <th>label0.8</th>\n",
       "      <th>label0.825</th>\n",
       "      <th>label0.85</th>\n",
       "      <th>label0.875</th>\n",
       "      <th>label0.9</th>\n",
       "      <th>label0.925</th>\n",
       "    </tr>\n",
       "    <tr>\n",
       "      <th>iddesa</th>\n",
       "      <th></th>\n",
       "      <th></th>\n",
       "      <th></th>\n",
       "      <th></th>\n",
       "      <th></th>\n",
       "      <th></th>\n",
       "      <th></th>\n",
       "      <th></th>\n",
       "      <th></th>\n",
       "      <th></th>\n",
       "      <th></th>\n",
       "      <th></th>\n",
       "      <th></th>\n",
       "      <th></th>\n",
       "      <th></th>\n",
       "      <th></th>\n",
       "      <th></th>\n",
       "      <th></th>\n",
       "      <th></th>\n",
       "      <th></th>\n",
       "      <th></th>\n",
       "    </tr>\n",
       "  </thead>\n",
       "  <tbody>\n",
       "    <tr>\n",
       "      <th>3201010001</th>\n",
       "      <td>0.964286</td>\n",
       "      <td>1.0</td>\n",
       "      <td>1</td>\n",
       "      <td>1</td>\n",
       "      <td>1</td>\n",
       "      <td>1</td>\n",
       "      <td>1</td>\n",
       "      <td>1</td>\n",
       "      <td>1</td>\n",
       "      <td>1</td>\n",
       "      <td>...</td>\n",
       "      <td>1</td>\n",
       "      <td>1</td>\n",
       "      <td>1</td>\n",
       "      <td>1</td>\n",
       "      <td>1</td>\n",
       "      <td>1</td>\n",
       "      <td>1</td>\n",
       "      <td>1</td>\n",
       "      <td>1</td>\n",
       "      <td>1</td>\n",
       "    </tr>\n",
       "    <tr>\n",
       "      <th>3201010002</th>\n",
       "      <td>1.000000</td>\n",
       "      <td>1.0</td>\n",
       "      <td>1</td>\n",
       "      <td>1</td>\n",
       "      <td>1</td>\n",
       "      <td>1</td>\n",
       "      <td>1</td>\n",
       "      <td>1</td>\n",
       "      <td>1</td>\n",
       "      <td>1</td>\n",
       "      <td>...</td>\n",
       "      <td>1</td>\n",
       "      <td>1</td>\n",
       "      <td>1</td>\n",
       "      <td>1</td>\n",
       "      <td>1</td>\n",
       "      <td>1</td>\n",
       "      <td>1</td>\n",
       "      <td>1</td>\n",
       "      <td>1</td>\n",
       "      <td>1</td>\n",
       "    </tr>\n",
       "    <tr>\n",
       "      <th>3201010003</th>\n",
       "      <td>1.000000</td>\n",
       "      <td>1.0</td>\n",
       "      <td>1</td>\n",
       "      <td>1</td>\n",
       "      <td>1</td>\n",
       "      <td>1</td>\n",
       "      <td>1</td>\n",
       "      <td>1</td>\n",
       "      <td>1</td>\n",
       "      <td>1</td>\n",
       "      <td>...</td>\n",
       "      <td>1</td>\n",
       "      <td>1</td>\n",
       "      <td>1</td>\n",
       "      <td>1</td>\n",
       "      <td>1</td>\n",
       "      <td>1</td>\n",
       "      <td>1</td>\n",
       "      <td>1</td>\n",
       "      <td>1</td>\n",
       "      <td>1</td>\n",
       "    </tr>\n",
       "    <tr>\n",
       "      <th>3201010004</th>\n",
       "      <td>0.977273</td>\n",
       "      <td>1.0</td>\n",
       "      <td>1</td>\n",
       "      <td>1</td>\n",
       "      <td>1</td>\n",
       "      <td>1</td>\n",
       "      <td>1</td>\n",
       "      <td>1</td>\n",
       "      <td>1</td>\n",
       "      <td>1</td>\n",
       "      <td>...</td>\n",
       "      <td>1</td>\n",
       "      <td>1</td>\n",
       "      <td>1</td>\n",
       "      <td>1</td>\n",
       "      <td>1</td>\n",
       "      <td>1</td>\n",
       "      <td>1</td>\n",
       "      <td>1</td>\n",
       "      <td>1</td>\n",
       "      <td>1</td>\n",
       "    </tr>\n",
       "    <tr>\n",
       "      <th>3201010005</th>\n",
       "      <td>0.962963</td>\n",
       "      <td>1.0</td>\n",
       "      <td>1</td>\n",
       "      <td>1</td>\n",
       "      <td>1</td>\n",
       "      <td>1</td>\n",
       "      <td>1</td>\n",
       "      <td>1</td>\n",
       "      <td>1</td>\n",
       "      <td>1</td>\n",
       "      <td>...</td>\n",
       "      <td>1</td>\n",
       "      <td>1</td>\n",
       "      <td>1</td>\n",
       "      <td>1</td>\n",
       "      <td>1</td>\n",
       "      <td>1</td>\n",
       "      <td>1</td>\n",
       "      <td>1</td>\n",
       "      <td>1</td>\n",
       "      <td>1</td>\n",
       "    </tr>\n",
       "  </tbody>\n",
       "</table>\n",
       "<p>5 rows × 40 columns</p>\n",
       "</div>"
      ],
      "text/plain": [
       "                pred  true  label0.0  label0.025  label0.05  label0.075  \\\n",
       "iddesa                                                                    \n",
       "3201010001  0.964286   1.0         1           1          1           1   \n",
       "3201010002  1.000000   1.0         1           1          1           1   \n",
       "3201010003  1.000000   1.0         1           1          1           1   \n",
       "3201010004  0.977273   1.0         1           1          1           1   \n",
       "3201010005  0.962963   1.0         1           1          1           1   \n",
       "\n",
       "            label0.1  label0.125  label0.15  label0.175  ...  label0.7  \\\n",
       "iddesa                                                   ...             \n",
       "3201010001         1           1          1           1  ...         1   \n",
       "3201010002         1           1          1           1  ...         1   \n",
       "3201010003         1           1          1           1  ...         1   \n",
       "3201010004         1           1          1           1  ...         1   \n",
       "3201010005         1           1          1           1  ...         1   \n",
       "\n",
       "            label0.725  label0.75  label0.775  label0.8  label0.825  \\\n",
       "iddesa                                                                \n",
       "3201010001           1          1           1         1           1   \n",
       "3201010002           1          1           1         1           1   \n",
       "3201010003           1          1           1         1           1   \n",
       "3201010004           1          1           1         1           1   \n",
       "3201010005           1          1           1         1           1   \n",
       "\n",
       "            label0.85  label0.875  label0.9  label0.925  \n",
       "iddesa                                                   \n",
       "3201010001          1           1         1           1  \n",
       "3201010002          1           1         1           1  \n",
       "3201010003          1           1         1           1  \n",
       "3201010004          1           1         1           1  \n",
       "3201010005          1           1         1           1  \n",
       "\n",
       "[5 rows x 40 columns]"
      ]
     },
     "execution_count": 89,
     "metadata": {},
     "output_type": "execute_result"
    }
   ],
   "source": [
    "desa_pred.head()"
   ]
  },
  {
   "cell_type": "code",
   "execution_count": 90,
   "id": "855a7f51-9fd3-418e-bd21-605fe7d0a113",
   "metadata": {},
   "outputs": [
    {
     "name": "stdout",
     "output_type": "stream",
     "text": [
      "result label0.0\n",
      "accuracy : 0.6397501156871819\n",
      "precision : 0.6388694230320019\n",
      "result label0.025\n",
      "accuracy : 0.6439148542341508\n",
      "precision : 0.6418998354102986\n",
      "result label0.05\n",
      "accuracy : 0.6510874595094863\n",
      "precision : 0.6473108043788672\n",
      "result label0.075\n",
      "accuracy : 0.6568718186024989\n",
      "precision : 0.6517664023071377\n",
      "result label0.1\n",
      "accuracy : 0.6640444238778344\n",
      "precision : 0.6572678658240155\n",
      "result label0.125\n",
      "accuracy : 0.6679777880610829\n",
      "precision : 0.6607799852832965\n",
      "result label0.15\n",
      "accuracy : 0.6719111522443313\n",
      "precision : 0.6645193260654113\n",
      "result label0.175\n",
      "accuracy : 0.6763072651550208\n",
      "precision : 0.668501376032024\n",
      "result label0.2\n",
      "accuracy : 0.6788523831559463\n",
      "precision : 0.6713780918727915\n",
      "result label0.225\n",
      "accuracy : 0.6834798704303563\n",
      "precision : 0.6756756756756757\n",
      "result label0.25\n",
      "accuracy : 0.6846367422489588\n",
      "precision : 0.677992277992278\n",
      "result label0.275\n",
      "accuracy : 0.6855622397038408\n",
      "precision : 0.6800830952999221\n",
      "result label0.3\n",
      "accuracy : 0.6862563627950024\n",
      "precision : 0.6824146981627297\n",
      "result label0.325\n",
      "accuracy : 0.6890328551596483\n",
      "precision : 0.6861391396707381\n",
      "result label0.35\n",
      "accuracy : 0.6881073577047663\n",
      "precision : 0.6873994638069705\n",
      "result label0.375\n",
      "accuracy : 0.6901897269782508\n",
      "precision : 0.6910127613358675\n",
      "result label0.4\n",
      "accuracy : 0.6931975937066173\n",
      "precision : 0.6951621770203409\n",
      "result label0.425\n",
      "accuracy : 0.6973623322535863\n",
      "precision : 0.7002785515320334\n",
      "result label0.45\n",
      "accuracy : 0.6982878297084683\n",
      "precision : 0.7040181097906055\n",
      "result label0.475\n",
      "accuracy : 0.7024525682554373\n",
      "precision : 0.709049255441008\n",
      "result label0.5\n",
      "accuracy : 0.7047663118926423\n",
      "precision : 0.7147866744593805\n",
      "result label0.525\n",
      "accuracy : 0.7036094400740398\n",
      "precision : 0.7162680838500147\n",
      "result label0.55\n",
      "accuracy : 0.7038408144377603\n",
      "precision : 0.7202524038461539\n",
      "result label0.575\n",
      "accuracy : 0.7047663118926423\n",
      "precision : 0.7246332518337408\n",
      "result label0.6\n",
      "accuracy : 0.7061545580749653\n",
      "precision : 0.7289081885856079\n",
      "result label0.625\n",
      "accuracy : 0.7006015733456733\n",
      "precision : 0.7298923369221026\n",
      "result label0.65\n",
      "accuracy : 0.6992133271633503\n",
      "precision : 0.7330754352030948\n",
      "result label0.675\n",
      "accuracy : 0.6999074502545118\n",
      "precision : 0.7399801258694932\n",
      "result label0.7\n",
      "accuracy : 0.6989819527996298\n",
      "precision : 0.7453310696095077\n",
      "result label0.725\n",
      "accuracy : 0.6931975937066173\n",
      "precision : 0.7479050279329609\n",
      "result label0.75\n",
      "accuracy : 0.6908838500694123\n",
      "precision : 0.7554347826086957\n",
      "result label0.775\n",
      "accuracy : 0.6853308653401203\n",
      "precision : 0.7587752053771472\n",
      "result label0.8\n",
      "accuracy : 0.6804720037019898\n",
      "precision : 0.7660818713450293\n",
      "result label0.825\n",
      "accuracy : 0.6744562702452568\n",
      "precision : 0.7720438845997561\n",
      "result label0.85\n",
      "accuracy : 0.6686719111522443\n",
      "precision : 0.7790994052676296\n",
      "result label0.875\n",
      "accuracy : 0.6515502082369273\n",
      "precision : 0.7810516772438804\n",
      "result label0.9\n",
      "accuracy : 0.6344285053216103\n",
      "precision : 0.787192118226601\n",
      "result label0.925\n",
      "accuracy : 0.6210087922258214\n",
      "precision : 0.7984913793103449\n"
     ]
    }
   ],
   "source": [
    "for j in range(2,40):\n",
    "    print(\"result\", desa_pred.columns[j])\n",
    "    print(\"accuracy :\",  accuracy_score( desa_pred.true,desa_pred.iloc[:,[j]]))\n",
    "    print(\"precision :\",  precision_score( desa_pred.true,desa_pred.iloc[:,[j]]))"
   ]
  },
  {
   "cell_type": "code",
   "execution_count": 91,
   "id": "13528e0d-92ad-4bd6-89b8-816048965e16",
   "metadata": {},
   "outputs": [
    {
     "data": {
      "text/plain": [
       "1.0    2746\n",
       "0.0    1576\n",
       "Name: true, dtype: int64"
      ]
     },
     "execution_count": 91,
     "metadata": {},
     "output_type": "execute_result"
    }
   ],
   "source": [
    "pd.value_counts(desa_pred.true)"
   ]
  },
  {
   "cell_type": "markdown",
   "id": "4e6bafd1-9eae-4547-ba47-30ebe21ea669",
   "metadata": {},
   "source": [
    "### Test result"
   ]
  },
  {
   "cell_type": "code",
   "execution_count": 92,
   "id": "b1c0e74b-6b00-48a1-8a42-c6d3596ab009",
   "metadata": {},
   "outputs": [],
   "source": [
    "path_pred = Path.cwd() / (test_path)\n",
    "test_files = [fn for fn in sorted((path_pred).glob('**/*')) if fn.is_file()]"
   ]
  },
  {
   "cell_type": "code",
   "execution_count": 93,
   "id": "c5177d4a-43de-426b-81c3-89a5ad10476a",
   "metadata": {},
   "outputs": [
    {
     "data": {
      "text/plain": [
       "16516"
      ]
     },
     "execution_count": 93,
     "metadata": {},
     "output_type": "execute_result"
    }
   ],
   "source": [
    "len(test_files)"
   ]
  },
  {
   "cell_type": "code",
   "execution_count": 94,
   "id": "2dbbb132-1ed0-459d-84c1-ed8e102bfce4",
   "metadata": {},
   "outputs": [],
   "source": [
    "test_dl = learn.dls.test_dl(test_files)"
   ]
  },
  {
   "cell_type": "code",
   "execution_count": 95,
   "id": "b8399e45-82ed-43ce-93ee-341a95d9c671",
   "metadata": {},
   "outputs": [
    {
     "data": {
      "text/html": [
       "\n",
       "<style>\n",
       "    /* Turns off some styling */\n",
       "    progress {\n",
       "        /* gets rid of default border in Firefox and Opera. */\n",
       "        border: none;\n",
       "        /* Needs to be in here for Safari polyfill so background images work as expected. */\n",
       "        background-size: auto;\n",
       "    }\n",
       "    .progress-bar-interrupted, .progress-bar-interrupted::-webkit-progress-bar {\n",
       "        background: #F44336;\n",
       "    }\n",
       "</style>\n"
      ],
      "text/plain": [
       "<IPython.core.display.HTML object>"
      ]
     },
     "metadata": {},
     "output_type": "display_data"
    },
    {
     "data": {
      "text/html": [],
      "text/plain": [
       "<IPython.core.display.HTML object>"
      ]
     },
     "metadata": {},
     "output_type": "display_data"
    }
   ],
   "source": [
    "preds,_ = learn.get_preds(dl  =test_dl)"
   ]
  },
  {
   "cell_type": "code",
   "execution_count": 96,
   "id": "36e7a605-1944-49da-8315-e7ee2fa846a5",
   "metadata": {},
   "outputs": [
    {
     "data": {
      "text/plain": [
       "'32010200180002'"
      ]
     },
     "execution_count": 96,
     "metadata": {},
     "output_type": "execute_result"
    }
   ],
   "source": [
    "str(test_files[1])[-18:-4]"
   ]
  },
  {
   "cell_type": "code",
   "execution_count": 97,
   "id": "ae98e9b7-69ae-4ad5-ac8b-a1ca764e77e1",
   "metadata": {},
   "outputs": [],
   "source": [
    "idx_test = []\n",
    "for i in test_files:\n",
    "    idx_test.append(str(i)[-18:-4])\n",
    "true_label = []\n",
    "for i in test_files:\n",
    "    if(\"TERTINGGAL BERKEMBANG\" in str(i)) :\n",
    "        true_label.append(1)\n",
    "    else :\n",
    "        true_label.append(0)"
   ]
  },
  {
   "cell_type": "code",
   "execution_count": 98,
   "id": "9db6caf2-7da7-4829-9dcb-ef4ae2cb02a4",
   "metadata": {},
   "outputs": [],
   "source": [
    "test = pd.DataFrame(preds)"
   ]
  },
  {
   "cell_type": "code",
   "execution_count": 99,
   "id": "e4b05cfe-563a-4f65-ab73-d359328afbac",
   "metadata": {},
   "outputs": [],
   "source": [
    "test[\"idsls\"] = idx_test\n",
    "test[\"true_lab\"] = true_label"
   ]
  },
  {
   "cell_type": "code",
   "execution_count": 100,
   "id": "e7bfa65d-944e-471a-a341-fe3f03d74bb1",
   "metadata": {},
   "outputs": [],
   "source": [
    "test[\"iddesa\"] = test.idsls.str[:10]\n",
    "test[\"stat\"] = round(test[1])"
   ]
  },
  {
   "cell_type": "code",
   "execution_count": 101,
   "id": "2d7b48c0-1b97-4a7b-9844-552152f94ea2",
   "metadata": {},
   "outputs": [
    {
     "data": {
      "text/html": [
       "<div>\n",
       "<style scoped>\n",
       "    .dataframe tbody tr th:only-of-type {\n",
       "        vertical-align: middle;\n",
       "    }\n",
       "\n",
       "    .dataframe tbody tr th {\n",
       "        vertical-align: top;\n",
       "    }\n",
       "\n",
       "    .dataframe thead th {\n",
       "        text-align: right;\n",
       "    }\n",
       "</style>\n",
       "<table border=\"1\" class=\"dataframe\">\n",
       "  <thead>\n",
       "    <tr style=\"text-align: right;\">\n",
       "      <th></th>\n",
       "      <th>0</th>\n",
       "      <th>1</th>\n",
       "      <th>idsls</th>\n",
       "      <th>true_lab</th>\n",
       "      <th>iddesa</th>\n",
       "      <th>stat</th>\n",
       "    </tr>\n",
       "  </thead>\n",
       "  <tbody>\n",
       "    <tr>\n",
       "      <th>0</th>\n",
       "      <td>0.790847</td>\n",
       "      <td>0.209153</td>\n",
       "      <td>32010200180001</td>\n",
       "      <td>0</td>\n",
       "      <td>3201020018</td>\n",
       "      <td>0.0</td>\n",
       "    </tr>\n",
       "    <tr>\n",
       "      <th>1</th>\n",
       "      <td>0.777656</td>\n",
       "      <td>0.222344</td>\n",
       "      <td>32010200180002</td>\n",
       "      <td>0</td>\n",
       "      <td>3201020018</td>\n",
       "      <td>0.0</td>\n",
       "    </tr>\n",
       "    <tr>\n",
       "      <th>2</th>\n",
       "      <td>0.771218</td>\n",
       "      <td>0.228782</td>\n",
       "      <td>32010200180003</td>\n",
       "      <td>0</td>\n",
       "      <td>3201020018</td>\n",
       "      <td>0.0</td>\n",
       "    </tr>\n",
       "    <tr>\n",
       "      <th>3</th>\n",
       "      <td>0.635942</td>\n",
       "      <td>0.364058</td>\n",
       "      <td>32010200180004</td>\n",
       "      <td>0</td>\n",
       "      <td>3201020018</td>\n",
       "      <td>0.0</td>\n",
       "    </tr>\n",
       "    <tr>\n",
       "      <th>4</th>\n",
       "      <td>0.634194</td>\n",
       "      <td>0.365806</td>\n",
       "      <td>32010200180005</td>\n",
       "      <td>0</td>\n",
       "      <td>3201020018</td>\n",
       "      <td>0.0</td>\n",
       "    </tr>\n",
       "  </tbody>\n",
       "</table>\n",
       "</div>"
      ],
      "text/plain": [
       "          0         1           idsls  true_lab      iddesa  stat\n",
       "0  0.790847  0.209153  32010200180001         0  3201020018   0.0\n",
       "1  0.777656  0.222344  32010200180002         0  3201020018   0.0\n",
       "2  0.771218  0.228782  32010200180003         0  3201020018   0.0\n",
       "3  0.635942  0.364058  32010200180004         0  3201020018   0.0\n",
       "4  0.634194  0.365806  32010200180005         0  3201020018   0.0"
      ]
     },
     "execution_count": 101,
     "metadata": {},
     "output_type": "execute_result"
    }
   ],
   "source": [
    "test.head()"
   ]
  },
  {
   "cell_type": "code",
   "execution_count": 102,
   "id": "c7a6d0dd-cdfe-4cd3-89a5-0cd6255ea55f",
   "metadata": {},
   "outputs": [],
   "source": [
    "desa_pred_test = test.groupby('iddesa').agg({'stat': ['mean'], 'true_lab': 'mean'})"
   ]
  },
  {
   "cell_type": "code",
   "execution_count": 103,
   "id": "46219c78-2263-49e6-8f5c-0ef512ffa7f5",
   "metadata": {},
   "outputs": [
    {
     "data": {
      "text/html": [
       "<div>\n",
       "<style scoped>\n",
       "    .dataframe tbody tr th:only-of-type {\n",
       "        vertical-align: middle;\n",
       "    }\n",
       "\n",
       "    .dataframe tbody tr th {\n",
       "        vertical-align: top;\n",
       "    }\n",
       "\n",
       "    .dataframe thead tr th {\n",
       "        text-align: left;\n",
       "    }\n",
       "\n",
       "    .dataframe thead tr:last-of-type th {\n",
       "        text-align: right;\n",
       "    }\n",
       "</style>\n",
       "<table border=\"1\" class=\"dataframe\">\n",
       "  <thead>\n",
       "    <tr>\n",
       "      <th></th>\n",
       "      <th>stat</th>\n",
       "      <th>true_lab</th>\n",
       "    </tr>\n",
       "    <tr>\n",
       "      <th></th>\n",
       "      <th>mean</th>\n",
       "      <th>mean</th>\n",
       "    </tr>\n",
       "    <tr>\n",
       "      <th>iddesa</th>\n",
       "      <th></th>\n",
       "      <th></th>\n",
       "    </tr>\n",
       "  </thead>\n",
       "  <tbody>\n",
       "    <tr>\n",
       "      <th>3201010008</th>\n",
       "      <td>1.000000</td>\n",
       "      <td>1.0</td>\n",
       "    </tr>\n",
       "    <tr>\n",
       "      <th>3201020018</th>\n",
       "      <td>0.295455</td>\n",
       "      <td>0.0</td>\n",
       "    </tr>\n",
       "    <tr>\n",
       "      <th>3201030001</th>\n",
       "      <td>1.000000</td>\n",
       "      <td>1.0</td>\n",
       "    </tr>\n",
       "    <tr>\n",
       "      <th>3201030002</th>\n",
       "      <td>0.891304</td>\n",
       "      <td>0.0</td>\n",
       "    </tr>\n",
       "    <tr>\n",
       "      <th>3201040001</th>\n",
       "      <td>0.930233</td>\n",
       "      <td>0.0</td>\n",
       "    </tr>\n",
       "    <tr>\n",
       "      <th>...</th>\n",
       "      <td>...</td>\n",
       "      <td>...</td>\n",
       "    </tr>\n",
       "    <tr>\n",
       "      <th>3217150012</th>\n",
       "      <td>0.941176</td>\n",
       "      <td>0.0</td>\n",
       "    </tr>\n",
       "    <tr>\n",
       "      <th>3218040012</th>\n",
       "      <td>1.000000</td>\n",
       "      <td>1.0</td>\n",
       "    </tr>\n",
       "    <tr>\n",
       "      <th>3218100005</th>\n",
       "      <td>1.000000</td>\n",
       "      <td>1.0</td>\n",
       "    </tr>\n",
       "    <tr>\n",
       "      <th>3279010002</th>\n",
       "      <td>0.975000</td>\n",
       "      <td>0.0</td>\n",
       "    </tr>\n",
       "    <tr>\n",
       "      <th>3279030002</th>\n",
       "      <td>1.000000</td>\n",
       "      <td>0.0</td>\n",
       "    </tr>\n",
       "  </tbody>\n",
       "</table>\n",
       "<p>480 rows × 2 columns</p>\n",
       "</div>"
      ],
      "text/plain": [
       "                stat true_lab\n",
       "                mean     mean\n",
       "iddesa                       \n",
       "3201010008  1.000000      1.0\n",
       "3201020018  0.295455      0.0\n",
       "3201030001  1.000000      1.0\n",
       "3201030002  0.891304      0.0\n",
       "3201040001  0.930233      0.0\n",
       "...              ...      ...\n",
       "3217150012  0.941176      0.0\n",
       "3218040012  1.000000      1.0\n",
       "3218100005  1.000000      1.0\n",
       "3279010002  0.975000      0.0\n",
       "3279030002  1.000000      0.0\n",
       "\n",
       "[480 rows x 2 columns]"
      ]
     },
     "execution_count": 103,
     "metadata": {},
     "output_type": "execute_result"
    }
   ],
   "source": [
    "desa_pred_test"
   ]
  },
  {
   "cell_type": "code",
   "execution_count": 104,
   "id": "3c181fbb-e76b-485b-b209-63e58f29ff4d",
   "metadata": {},
   "outputs": [],
   "source": [
    "desa_pred_test.columns = [\"pred\",\"true\"]"
   ]
  },
  {
   "cell_type": "code",
   "execution_count": 142,
   "id": "6489d636-897a-426d-9842-547b4a8c2ff7",
   "metadata": {},
   "outputs": [],
   "source": [
    "desa_pred_test[\"pred_lab\"] = 0\n",
    "desa_pred_test.loc[desa_pred_test.pred > 0.475,\"pred_lab\"] = 1"
   ]
  },
  {
   "cell_type": "code",
   "execution_count": 143,
   "id": "a1e663c1-2e37-4bd5-ad9b-9c1b9acd77e7",
   "metadata": {},
   "outputs": [
    {
     "data": {
      "text/html": [
       "<div>\n",
       "<style scoped>\n",
       "    .dataframe tbody tr th:only-of-type {\n",
       "        vertical-align: middle;\n",
       "    }\n",
       "\n",
       "    .dataframe tbody tr th {\n",
       "        vertical-align: top;\n",
       "    }\n",
       "\n",
       "    .dataframe thead th {\n",
       "        text-align: right;\n",
       "    }\n",
       "</style>\n",
       "<table border=\"1\" class=\"dataframe\">\n",
       "  <thead>\n",
       "    <tr style=\"text-align: right;\">\n",
       "      <th></th>\n",
       "      <th>pred</th>\n",
       "      <th>true</th>\n",
       "      <th>pred_lab</th>\n",
       "    </tr>\n",
       "    <tr>\n",
       "      <th>iddesa</th>\n",
       "      <th></th>\n",
       "      <th></th>\n",
       "      <th></th>\n",
       "    </tr>\n",
       "  </thead>\n",
       "  <tbody>\n",
       "    <tr>\n",
       "      <th>3201010008</th>\n",
       "      <td>1.000000</td>\n",
       "      <td>1.0</td>\n",
       "      <td>1</td>\n",
       "    </tr>\n",
       "    <tr>\n",
       "      <th>3201020018</th>\n",
       "      <td>0.295455</td>\n",
       "      <td>0.0</td>\n",
       "      <td>0</td>\n",
       "    </tr>\n",
       "    <tr>\n",
       "      <th>3201030001</th>\n",
       "      <td>1.000000</td>\n",
       "      <td>1.0</td>\n",
       "      <td>1</td>\n",
       "    </tr>\n",
       "    <tr>\n",
       "      <th>3201030002</th>\n",
       "      <td>0.891304</td>\n",
       "      <td>0.0</td>\n",
       "      <td>1</td>\n",
       "    </tr>\n",
       "    <tr>\n",
       "      <th>3201040001</th>\n",
       "      <td>0.930233</td>\n",
       "      <td>0.0</td>\n",
       "      <td>1</td>\n",
       "    </tr>\n",
       "    <tr>\n",
       "      <th>...</th>\n",
       "      <td>...</td>\n",
       "      <td>...</td>\n",
       "      <td>...</td>\n",
       "    </tr>\n",
       "    <tr>\n",
       "      <th>3217150012</th>\n",
       "      <td>0.941176</td>\n",
       "      <td>0.0</td>\n",
       "      <td>1</td>\n",
       "    </tr>\n",
       "    <tr>\n",
       "      <th>3218040012</th>\n",
       "      <td>1.000000</td>\n",
       "      <td>1.0</td>\n",
       "      <td>1</td>\n",
       "    </tr>\n",
       "    <tr>\n",
       "      <th>3218100005</th>\n",
       "      <td>1.000000</td>\n",
       "      <td>1.0</td>\n",
       "      <td>1</td>\n",
       "    </tr>\n",
       "    <tr>\n",
       "      <th>3279010002</th>\n",
       "      <td>0.975000</td>\n",
       "      <td>0.0</td>\n",
       "      <td>1</td>\n",
       "    </tr>\n",
       "    <tr>\n",
       "      <th>3279030002</th>\n",
       "      <td>1.000000</td>\n",
       "      <td>0.0</td>\n",
       "      <td>1</td>\n",
       "    </tr>\n",
       "  </tbody>\n",
       "</table>\n",
       "<p>480 rows × 3 columns</p>\n",
       "</div>"
      ],
      "text/plain": [
       "                pred  true  pred_lab\n",
       "iddesa                              \n",
       "3201010008  1.000000   1.0         1\n",
       "3201020018  0.295455   0.0         0\n",
       "3201030001  1.000000   1.0         1\n",
       "3201030002  0.891304   0.0         1\n",
       "3201040001  0.930233   0.0         1\n",
       "...              ...   ...       ...\n",
       "3217150012  0.941176   0.0         1\n",
       "3218040012  1.000000   1.0         1\n",
       "3218100005  1.000000   1.0         1\n",
       "3279010002  0.975000   0.0         1\n",
       "3279030002  1.000000   0.0         1\n",
       "\n",
       "[480 rows x 3 columns]"
      ]
     },
     "execution_count": 143,
     "metadata": {},
     "output_type": "execute_result"
    }
   ],
   "source": [
    "desa_pred_test"
   ]
  },
  {
   "cell_type": "code",
   "execution_count": 144,
   "id": "da7378d4-58be-48fa-af75-8fe5cef6551a",
   "metadata": {},
   "outputs": [
    {
     "name": "stdout",
     "output_type": "stream",
     "text": [
      "accuracy : 0.73125\n",
      "balanced_accuracy_score : 0.6640184809556007\n",
      "precision : 0.7335092348284961\n",
      "recall : 0.9084967320261438\n",
      "f1 : 0.8116788321167884\n",
      "rocauc : 0.6640184809556007\n"
     ]
    }
   ],
   "source": [
    "print(\"accuracy :\",  accuracy_score( desa_pred_test.true,desa_pred_test.pred_lab))\n",
    "print(\"balanced_accuracy_score :\",  balanced_accuracy_score( desa_pred_test.true,desa_pred_test.pred_lab))\n",
    "print(\"precision :\",  precision_score( desa_pred_test.true,desa_pred_test.pred_lab))\n",
    "print(\"recall :\",  recall_score( desa_pred_test.true,desa_pred_test.pred_lab))\n",
    "print(\"f1 :\",  f1_score( desa_pred_test.true,desa_pred_test.pred_lab))\n",
    "print(\"rocauc :\",  roc_auc_score( desa_pred_test.true,desa_pred_test.pred_lab))"
   ]
  },
  {
   "cell_type": "code",
   "execution_count": null,
   "id": "dc584e28-bf82-4796-b718-961d55eac417",
   "metadata": {},
   "outputs": [],
   "source": []
  },
  {
   "cell_type": "code",
   "execution_count": null,
   "id": "f8bdead8-a618-43c2-8f21-bd6463ee574f",
   "metadata": {},
   "outputs": [],
   "source": []
  },
  {
   "cell_type": "code",
   "execution_count": null,
   "id": "772d3687-ab3b-4bbc-a66a-372dc7f92a38",
   "metadata": {},
   "outputs": [],
   "source": []
  }
 ],
 "metadata": {
  "kernelspec": {
   "display_name": "Python 3 (ipykernel)",
   "language": "python",
   "name": "python3"
  },
  "language_info": {
   "codemirror_mode": {
    "name": "ipython",
    "version": 3
   },
   "file_extension": ".py",
   "mimetype": "text/x-python",
   "name": "python",
   "nbconvert_exporter": "python",
   "pygments_lexer": "ipython3",
   "version": "3.9.7"
  }
 },
 "nbformat": 4,
 "nbformat_minor": 5
}
