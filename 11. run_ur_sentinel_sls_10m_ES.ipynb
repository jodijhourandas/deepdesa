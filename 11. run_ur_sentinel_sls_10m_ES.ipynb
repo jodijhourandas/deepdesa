{
 "cells": [
  {
   "cell_type": "code",
   "execution_count": 1,
   "id": "6b5301ad-0967-4fa2-b602-24fae3844253",
   "metadata": {},
   "outputs": [],
   "source": [
    "import fastai\n",
    "from fastai.vision.all import *\n",
    "import pandas as pd"
   ]
  },
  {
   "cell_type": "code",
   "execution_count": 2,
   "id": "4c6126f5-6665-4423-99f7-6845baa5e650",
   "metadata": {},
   "outputs": [],
   "source": [
    "from sklearn.metrics import accuracy_score, precision_score, recall_score, f1_score,roc_auc_score,balanced_accuracy_score\n",
    "import numpy as np"
   ]
  },
  {
   "cell_type": "code",
   "execution_count": 3,
   "id": "6a8c1fce-8553-43f4-b944-bc7741fdd266",
   "metadata": {},
   "outputs": [
    {
     "name": "stderr",
     "output_type": "stream",
     "text": [
      "C:\\Users\\jwst2\\anaconda3\\envs\\datasc\\lib\\site-packages\\IPython\\core\\interactiveshell.py:3444: DtypeWarning: Columns (19,20,21) have mixed types.Specify dtype option on import or set low_memory=False.\n",
      "  exec(code_obj, self.user_global_ns, self.user_ns)\n"
     ]
    }
   ],
   "source": [
    "sls = pd.read_csv(\"C:/Users/jwst2/Python/tesis/dataset/3200_sls.csv\")"
   ]
  },
  {
   "cell_type": "code",
   "execution_count": 4,
   "id": "c0978002-6bf2-40fe-9d24-89fb3e7482f4",
   "metadata": {},
   "outputs": [
    {
     "data": {
      "text/html": [
       "<div>\n",
       "<style scoped>\n",
       "    .dataframe tbody tr th:only-of-type {\n",
       "        vertical-align: middle;\n",
       "    }\n",
       "\n",
       "    .dataframe tbody tr th {\n",
       "        vertical-align: top;\n",
       "    }\n",
       "\n",
       "    .dataframe thead th {\n",
       "        text-align: right;\n",
       "    }\n",
       "</style>\n",
       "<table border=\"1\" class=\"dataframe\">\n",
       "  <thead>\n",
       "    <tr style=\"text-align: right;\">\n",
       "      <th></th>\n",
       "      <th>id</th>\n",
       "      <th>kdprov</th>\n",
       "      <th>kdkab</th>\n",
       "      <th>kdkec</th>\n",
       "      <th>kddesa</th>\n",
       "      <th>iddesa</th>\n",
       "      <th>idslsnon</th>\n",
       "      <th>nmslsnon</th>\n",
       "      <th>ketua_sls</th>\n",
       "      <th>jenis</th>\n",
       "      <th>...</th>\n",
       "      <th>j_bstt</th>\n",
       "      <th>j_bsbtt</th>\n",
       "      <th>j_bstt_k</th>\n",
       "      <th>j_bskeko</th>\n",
       "      <th>j_segmen</th>\n",
       "      <th>dom</th>\n",
       "      <th>ldom</th>\n",
       "      <th>j_m_all</th>\n",
       "      <th>j_m_30</th>\n",
       "      <th>klas_ur</th>\n",
       "    </tr>\n",
       "  </thead>\n",
       "  <tbody>\n",
       "    <tr>\n",
       "      <th>0</th>\n",
       "      <td>263884</td>\n",
       "      <td>32</td>\n",
       "      <td>1</td>\n",
       "      <td>10</td>\n",
       "      <td>1</td>\n",
       "      <td>3201010001</td>\n",
       "      <td>100</td>\n",
       "      <td>RT 001 RW 001 DUSUN 1</td>\n",
       "      <td>MUHAMAD RAFLI HIDAYAT</td>\n",
       "      <td>1</td>\n",
       "      <td>...</td>\n",
       "      <td>39</td>\n",
       "      <td>1</td>\n",
       "      <td>2</td>\n",
       "      <td>4</td>\n",
       "      <td>1</td>\n",
       "      <td>1</td>\n",
       "      <td>1</td>\n",
       "      <td>51</td>\n",
       "      <td>51</td>\n",
       "      <td>2</td>\n",
       "    </tr>\n",
       "    <tr>\n",
       "      <th>1</th>\n",
       "      <td>263885</td>\n",
       "      <td>32</td>\n",
       "      <td>1</td>\n",
       "      <td>10</td>\n",
       "      <td>1</td>\n",
       "      <td>3201010001</td>\n",
       "      <td>200</td>\n",
       "      <td>RT 002 RW 001 DUSUN 1</td>\n",
       "      <td>NURMAN</td>\n",
       "      <td>1</td>\n",
       "      <td>...</td>\n",
       "      <td>60</td>\n",
       "      <td>2</td>\n",
       "      <td>0</td>\n",
       "      <td>7</td>\n",
       "      <td>1</td>\n",
       "      <td>1</td>\n",
       "      <td>1</td>\n",
       "      <td>62</td>\n",
       "      <td>61</td>\n",
       "      <td>2</td>\n",
       "    </tr>\n",
       "    <tr>\n",
       "      <th>2</th>\n",
       "      <td>263886</td>\n",
       "      <td>32</td>\n",
       "      <td>1</td>\n",
       "      <td>10</td>\n",
       "      <td>1</td>\n",
       "      <td>3201010001</td>\n",
       "      <td>300</td>\n",
       "      <td>RT 003 RW 001 DUSUN 1</td>\n",
       "      <td>SAENUDIN</td>\n",
       "      <td>1</td>\n",
       "      <td>...</td>\n",
       "      <td>50</td>\n",
       "      <td>2</td>\n",
       "      <td>0</td>\n",
       "      <td>6</td>\n",
       "      <td>1</td>\n",
       "      <td>1</td>\n",
       "      <td>1</td>\n",
       "      <td>58</td>\n",
       "      <td>57</td>\n",
       "      <td>2</td>\n",
       "    </tr>\n",
       "    <tr>\n",
       "      <th>3</th>\n",
       "      <td>263887</td>\n",
       "      <td>32</td>\n",
       "      <td>1</td>\n",
       "      <td>10</td>\n",
       "      <td>1</td>\n",
       "      <td>3201010001</td>\n",
       "      <td>400</td>\n",
       "      <td>RT 004 RW 001 DUSUN 1</td>\n",
       "      <td>AEP</td>\n",
       "      <td>1</td>\n",
       "      <td>...</td>\n",
       "      <td>27</td>\n",
       "      <td>1</td>\n",
       "      <td>0</td>\n",
       "      <td>1</td>\n",
       "      <td>1</td>\n",
       "      <td>1</td>\n",
       "      <td>1</td>\n",
       "      <td>31</td>\n",
       "      <td>31</td>\n",
       "      <td>2</td>\n",
       "    </tr>\n",
       "    <tr>\n",
       "      <th>4</th>\n",
       "      <td>263888</td>\n",
       "      <td>32</td>\n",
       "      <td>1</td>\n",
       "      <td>10</td>\n",
       "      <td>1</td>\n",
       "      <td>3201010001</td>\n",
       "      <td>500</td>\n",
       "      <td>RT 005 RW 001 DUSUN 1</td>\n",
       "      <td>JEJEN JAELANI</td>\n",
       "      <td>1</td>\n",
       "      <td>...</td>\n",
       "      <td>49</td>\n",
       "      <td>7</td>\n",
       "      <td>3</td>\n",
       "      <td>8</td>\n",
       "      <td>3</td>\n",
       "      <td>1</td>\n",
       "      <td>1</td>\n",
       "      <td>63</td>\n",
       "      <td>57</td>\n",
       "      <td>2</td>\n",
       "    </tr>\n",
       "  </tbody>\n",
       "</table>\n",
       "<p>5 rows × 36 columns</p>\n",
       "</div>"
      ],
      "text/plain": [
       "       id  kdprov  kdkab  kdkec  kddesa      iddesa  idslsnon  \\\n",
       "0  263884      32      1     10       1  3201010001       100   \n",
       "1  263885      32      1     10       1  3201010001       200   \n",
       "2  263886      32      1     10       1  3201010001       300   \n",
       "3  263887      32      1     10       1  3201010001       400   \n",
       "4  263888      32      1     10       1  3201010001       500   \n",
       "\n",
       "                nmslsnon              ketua_sls  jenis  ...  j_bstt  j_bsbtt  \\\n",
       "0  RT 001 RW 001 DUSUN 1  MUHAMAD RAFLI HIDAYAT      1  ...      39        1   \n",
       "1  RT 002 RW 001 DUSUN 1                 NURMAN      1  ...      60        2   \n",
       "2  RT 003 RW 001 DUSUN 1               SAENUDIN      1  ...      50        2   \n",
       "3  RT 004 RW 001 DUSUN 1                    AEP      1  ...      27        1   \n",
       "4  RT 005 RW 001 DUSUN 1          JEJEN JAELANI      1  ...      49        7   \n",
       "\n",
       "   j_bstt_k  j_bskeko  j_segmen  dom  ldom  j_m_all j_m_30 klas_ur  \n",
       "0         2         4         1    1     1       51     51       2  \n",
       "1         0         7         1    1     1       62     61       2  \n",
       "2         0         6         1    1     1       58     57       2  \n",
       "3         0         1         1    1     1       31     31       2  \n",
       "4         3         8         3    1     1       63     57       2  \n",
       "\n",
       "[5 rows x 36 columns]"
      ]
     },
     "execution_count": 4,
     "metadata": {},
     "output_type": "execute_result"
    }
   ],
   "source": [
    "sls.head()"
   ]
  },
  {
   "cell_type": "code",
   "execution_count": 5,
   "id": "240cf8ef-95ee-4410-9819-9b4e21492fca",
   "metadata": {},
   "outputs": [
    {
     "data": {
      "text/plain": [
       "(5957,)"
      ]
     },
     "execution_count": 5,
     "metadata": {},
     "output_type": "execute_result"
    }
   ],
   "source": [
    "sls.iddesa.unique().shape"
   ]
  },
  {
   "cell_type": "code",
   "execution_count": 8,
   "id": "a0541718-1257-40ba-aa83-5839cd13a996",
   "metadata": {},
   "outputs": [],
   "source": [
    "os.chdir('C:/Users/jwst2/Python/tesis/jpg/UR/11. Sentinel 10M SLS ES')\n",
    "if os.path.isdir('urban') is False:\n",
    "    os.makedirs('urban')\n",
    "    os.makedirs('rural')"
   ]
  },
  {
   "cell_type": "code",
   "execution_count": 9,
   "id": "f3e6e565-6104-4b37-b6ad-9cb89eb373b9",
   "metadata": {},
   "outputs": [
    {
     "name": "stderr",
     "output_type": "stream",
     "text": [
      "0it [00:00, ?it/s]"
     ]
    },
    {
     "name": "stdout",
     "output_type": "stream",
     "text": [
      "32070000002000.jpg\n",
      "32080000002001.jpg\n",
      "32080100006001.jpg\n",
      "32170000006001.jpg\n"
     ]
    },
    {
     "name": "stderr",
     "output_type": "stream",
     "text": [
      "1it [07:24, 444.66s/it]\n"
     ]
    }
   ],
   "source": [
    "yourpath = \"C:/Users/jwst2/Python/tesis/jpg/general sls sentinel 10m ES/\"\n",
    "from tqdm import tqdm\n",
    "for root, dirs, files in tqdm(os.walk(yourpath, topdown=False)):\n",
    "    for name in files:\n",
    "        try :\n",
    "            if(sls.klas_ur[sls.iddesa == int(name.replace(\".jpg\",\"\")[:10])].iloc[0] == 1):\n",
    "                shutil.copy(os.path.join(root, name), \"C:/Users/jwst2/Python/tesis/jpg/UR/11. Sentinel 10M SLS ES/urban/\"+name)\n",
    "            elif(sls.klas_ur[sls.iddesa == int(name.replace(\".jpg\",\"\")[:10])].iloc[0] == 2):\n",
    "                shutil.copy(os.path.join(root, name), \"C:/Users/jwst2/Python/tesis/jpg/UR/11. Sentinel 10M SLS ES/rural/\"+name)\n",
    "        except Exception:\n",
    "            print(name)\n",
    "            pass "
   ]
  },
  {
   "cell_type": "code",
   "execution_count": 10,
   "id": "6648166b-b5f9-4fbb-aa9a-a1f15bdbcbb9",
   "metadata": {},
   "outputs": [],
   "source": [
    "split = pd.read_csv(\"C:/Users/jwst2/Python/tesis/dataset/datasplit_ur_desa.csv\")"
   ]
  },
  {
   "cell_type": "code",
   "execution_count": 11,
   "id": "5ca94f42-5c7c-463f-8e55-0f55e402c91e",
   "metadata": {},
   "outputs": [],
   "source": [
    "split_test =split"
   ]
  },
  {
   "cell_type": "code",
   "execution_count": 12,
   "id": "b6c07aea-b6ac-4c82-96dd-9e40b324ef4d",
   "metadata": {},
   "outputs": [
    {
     "data": {
      "text/html": [
       "<div>\n",
       "<style scoped>\n",
       "    .dataframe tbody tr th:only-of-type {\n",
       "        vertical-align: middle;\n",
       "    }\n",
       "\n",
       "    .dataframe tbody tr th {\n",
       "        vertical-align: top;\n",
       "    }\n",
       "\n",
       "    .dataframe thead th {\n",
       "        text-align: right;\n",
       "    }\n",
       "</style>\n",
       "<table border=\"1\" class=\"dataframe\">\n",
       "  <thead>\n",
       "    <tr style=\"text-align: right;\">\n",
       "      <th></th>\n",
       "      <th>Unnamed: 0</th>\n",
       "      <th>iddesa</th>\n",
       "    </tr>\n",
       "  </thead>\n",
       "  <tbody>\n",
       "    <tr>\n",
       "      <th>0</th>\n",
       "      <td>0</td>\n",
       "      <td>3207250012</td>\n",
       "    </tr>\n",
       "    <tr>\n",
       "      <th>1</th>\n",
       "      <td>1</td>\n",
       "      <td>3273111002</td>\n",
       "    </tr>\n",
       "    <tr>\n",
       "      <th>2</th>\n",
       "      <td>2</td>\n",
       "      <td>3205260016</td>\n",
       "    </tr>\n",
       "    <tr>\n",
       "      <th>3</th>\n",
       "      <td>3</td>\n",
       "      <td>3212030010</td>\n",
       "    </tr>\n",
       "    <tr>\n",
       "      <th>4</th>\n",
       "      <td>4</td>\n",
       "      <td>3208181004</td>\n",
       "    </tr>\n",
       "    <tr>\n",
       "      <th>...</th>\n",
       "      <td>...</td>\n",
       "      <td>...</td>\n",
       "    </tr>\n",
       "    <tr>\n",
       "      <th>590</th>\n",
       "      <td>590</td>\n",
       "      <td>3210070009</td>\n",
       "    </tr>\n",
       "    <tr>\n",
       "      <th>591</th>\n",
       "      <td>591</td>\n",
       "      <td>3209040007</td>\n",
       "    </tr>\n",
       "    <tr>\n",
       "      <th>592</th>\n",
       "      <td>592</td>\n",
       "      <td>3203051007</td>\n",
       "    </tr>\n",
       "    <tr>\n",
       "      <th>593</th>\n",
       "      <td>593</td>\n",
       "      <td>3208030017</td>\n",
       "    </tr>\n",
       "    <tr>\n",
       "      <th>594</th>\n",
       "      <td>594</td>\n",
       "      <td>3209181004</td>\n",
       "    </tr>\n",
       "  </tbody>\n",
       "</table>\n",
       "<p>595 rows × 2 columns</p>\n",
       "</div>"
      ],
      "text/plain": [
       "     Unnamed: 0      iddesa\n",
       "0             0  3207250012\n",
       "1             1  3273111002\n",
       "2             2  3205260016\n",
       "3             3  3212030010\n",
       "4             4  3208181004\n",
       "..          ...         ...\n",
       "590         590  3210070009\n",
       "591         591  3209040007\n",
       "592         592  3203051007\n",
       "593         593  3208030017\n",
       "594         594  3209181004\n",
       "\n",
       "[595 rows x 2 columns]"
      ]
     },
     "execution_count": 12,
     "metadata": {},
     "output_type": "execute_result"
    }
   ],
   "source": [
    "split_test"
   ]
  },
  {
   "cell_type": "markdown",
   "id": "0e6d5e33-4b9c-47c6-8044-397ec50d998a",
   "metadata": {},
   "source": [
    "os.chdir('C:/Users/jwst2/Python/tesis/jpg/UR/11. Sentinel 10M SLS ES')\n",
    "if os.path.isdir('urban') is False:\n",
    "    os.makedirs('urban')\n",
    "    os.makedirs('rural')### Create test"
   ]
  },
  {
   "cell_type": "code",
   "execution_count": 13,
   "id": "18e3a137-dd9a-411b-9309-4893c0bb24e3",
   "metadata": {},
   "outputs": [],
   "source": [
    "os.chdir('C:/Users/jwst2/Python/tesis/jpg/UR/test sls 10m ES')\n",
    "if os.path.isdir('urban') is False:\n",
    "    os.makedirs('urban')\n",
    "    os.makedirs('rural')"
   ]
  },
  {
   "cell_type": "code",
   "execution_count": 14,
   "id": "3b7a980f-6276-4c83-8475-dc8b814f5d0d",
   "metadata": {},
   "outputs": [
    {
     "name": "stderr",
     "output_type": "stream",
     "text": [
      "1it [00:36, 36.95s/it]\n"
     ]
    }
   ],
   "source": [
    "yourpath = \"C:/Users/jwst2/Python/tesis/jpg/UR/11. Sentinel 10M SLS ES/rural\"\n",
    "from tqdm import tqdm\n",
    "for root, dirs, files in tqdm(os.walk(yourpath, topdown=False)):\n",
    "    for name in files:\n",
    "        try :\n",
    "            if(split_test.iddesa.astype(str).str.contains(name[:10]).sum() > 0):\n",
    "                shutil.move(os.path.join(root, name), \"C:/Users/jwst2/Python/tesis/jpg/UR/test sls 10m ES/rural/\"+name)\n",
    "        except Exception:\n",
    "            print(name)\n",
    "            pass "
   ]
  },
  {
   "cell_type": "code",
   "execution_count": 15,
   "id": "13950442-0335-4377-b819-747b94eff3e3",
   "metadata": {},
   "outputs": [
    {
     "name": "stderr",
     "output_type": "stream",
     "text": [
      "1it [02:04, 124.75s/it]\n"
     ]
    }
   ],
   "source": [
    "yourpath = \"C:/Users/jwst2/Python/tesis/jpg/UR/11. Sentinel 10M SLS ES/urban\"\n",
    "from tqdm import tqdm\n",
    "for root, dirs, files in tqdm(os.walk(yourpath, topdown=False)):\n",
    "    for name in files:\n",
    "        try :\n",
    "            if(split_test.iddesa.astype(str).str.contains(name[:10]).sum() > 0):\n",
    "                shutil.move(os.path.join(root, name), \"C:/Users/jwst2/Python/tesis/jpg/UR/test sls 10m ES/urban/\"+name)\n",
    "        except Exception:\n",
    "            print(name)\n",
    "            pass "
   ]
  },
  {
   "cell_type": "markdown",
   "id": "c4db6ad9-230f-4fb1-8802-d4d94084ab93",
   "metadata": {},
   "source": [
    "### Run Dataset"
   ]
  },
  {
   "cell_type": "code",
   "execution_count": 62,
   "id": "90fde506-4689-4fdd-a6ac-cd33a14d1fa7",
   "metadata": {},
   "outputs": [],
   "source": [
    "path = Path.cwd() / (\"C:/Users/jwst2/Python/tesis/jpg/UR/11. Sentinel 10M SLS ES/\")"
   ]
  },
  {
   "cell_type": "code",
   "execution_count": 63,
   "id": "884088a1-f278-49ed-ba7a-84a8788ac906",
   "metadata": {},
   "outputs": [
    {
     "data": {
      "text/plain": [
       "(#2) [Path('rural'),Path('urban')]"
      ]
     },
     "execution_count": 63,
     "metadata": {},
     "output_type": "execute_result"
    }
   ],
   "source": [
    "Path.BASE_PATH = path\n",
    "path.ls()"
   ]
  },
  {
   "cell_type": "code",
   "execution_count": 64,
   "id": "bd185d8d-e0c7-4234-a389-964c9b58dd8b",
   "metadata": {},
   "outputs": [
    {
     "data": {
      "text/plain": [
       "Path('rural/32010100010001.jpg')"
      ]
     },
     "execution_count": 64,
     "metadata": {},
     "output_type": "execute_result"
    }
   ],
   "source": [
    "fname = (path/\"rural\").ls()[0]\n",
    "fname"
   ]
  },
  {
   "cell_type": "code",
   "execution_count": 65,
   "id": "52aafdf5-784f-43e5-82dc-98f1542f98ed",
   "metadata": {},
   "outputs": [
    {
     "data": {
      "image/png": "[encoded data removed]",
      "text/plain": [
       "<PIL.JpegImagePlugin.JpegImageFile image mode=RGB size=64x64 at 0x2150F4304C0>"
      ]
     },
     "execution_count": 65,
     "metadata": {},
     "output_type": "execute_result"
    }
   ],
   "source": [
    "img = Image.open(fname)\n",
    "img"
   ]
  },
  {
   "cell_type": "code",
   "execution_count": 66,
   "id": "a528169c-6462-4eee-98cb-af609455d447",
   "metadata": {},
   "outputs": [],
   "source": [
    "blocks = DataBlock(blocks = (ImageBlock, CategoryBlock),\n",
    "                 get_items=get_image_files, # finds the images in the path\n",
    "                 splitter=RandomSplitter(valid_pct=0.1, seed=42),  # default random split 80% training, 20% validation\n",
    "                 get_y=parent_label) # data augmentation (mult multiplies the default transformation values)"
   ]
  },
  {
   "cell_type": "code",
   "execution_count": 67,
   "id": "7d33721a-eeba-4cda-af33-84a8baace424",
   "metadata": {},
   "outputs": [
    {
     "name": "stdout",
     "output_type": "stream",
     "text": [
      "Due to IPython and Windows limitation, python multiprocessing isn't available now.\n",
      "So `number_workers` is changed to 0 to avoid getting stuck\n"
     ]
    }
   ],
   "source": [
    "dls = blocks.dataloaders(path)"
   ]
  },
  {
   "cell_type": "code",
   "execution_count": 68,
   "id": "eff7faf3-2588-4b9c-a678-08d148a16221",
   "metadata": {},
   "outputs": [
    {
     "data": {
      "image/png": "[encoded data removed]",
      "text/plain": [
       "<Figure size 1080x216 with 5 Axes>"
      ]
     },
     "metadata": {
      "needs_background": "light"
     },
     "output_type": "display_data"
    }
   ],
   "source": [
    "dls.show_batch(nrows=1, ncols=5)"
   ]
  },
  {
   "cell_type": "code",
   "execution_count": 69,
   "id": "8525b8dd-43c1-41dd-a1e7-eadb3de93d6d",
   "metadata": {},
   "outputs": [],
   "source": [
    "avg = 'macro'\n",
    "roca = RocAucBinary(average=avg)\n",
    "f1s = F1Score(average=avg)\n",
    "bc = BalancedAccuracy()\n",
    "metrics=[accuracy,bc, Precision(average=avg), Recall(average=avg), f1s, roca]\n",
    "learn = cnn_learner(dls, densenet121, metrics=metrics) "
   ]
  },
  {
   "cell_type": "code",
   "execution_count": 70,
   "id": "e0a0853a-62f8-44da-aaca-e02df72ece58",
   "metadata": {},
   "outputs": [
    {
     "data": {
      "text/html": [],
      "text/plain": [
       "<IPython.core.display.HTML object>"
      ]
     },
     "metadata": {},
     "output_type": "display_data"
    },
    {
     "name": "stderr",
     "output_type": "stream",
     "text": [
      "C:\\Users\\jwst2\\anaconda3\\envs\\datasc\\lib\\site-packages\\fastai\\callback\\schedule.py:270: UserWarning: color is redundantly defined by the 'color' keyword argument and the fmt string \"ro\" (-> color='r'). The keyword argument will take precedence.\n",
      "  ax.plot(val, idx, 'ro', label=nm, c=color)\n"
     ]
    },
    {
     "data": {
      "text/plain": [
       "SuggestedLRs(valley=0.002511886414140463)"
      ]
     },
     "execution_count": 70,
     "metadata": {},
     "output_type": "execute_result"
    },
    {
     "data": {
      "image/png": "[encoded data removed]",
      "text/plain": [
       "<Figure size 432x288 with 1 Axes>"
      ]
     },
     "metadata": {
      "needs_background": "light"
     },
     "output_type": "display_data"
    }
   ],
   "source": [
    "learn.lr_find()"
   ]
  },
  {
   "cell_type": "code",
   "execution_count": 71,
   "id": "cd1f3ab9-a177-498f-9922-bf7ec2dd9724",
   "metadata": {},
   "outputs": [
    {
     "data": {
      "text/html": [
       "<table border=\"1\" class=\"dataframe\">\n",
       "  <thead>\n",
       "    <tr style=\"text-align: left;\">\n",
       "      <th>epoch</th>\n",
       "      <th>train_loss</th>\n",
       "      <th>valid_loss</th>\n",
       "      <th>accuracy</th>\n",
       "      <th>balanced_accuracy_score</th>\n",
       "      <th>precision_score</th>\n",
       "      <th>recall_score</th>\n",
       "      <th>f1_score</th>\n",
       "      <th>roc_auc_score</th>\n",
       "      <th>time</th>\n",
       "    </tr>\n",
       "  </thead>\n",
       "  <tbody>\n",
       "    <tr>\n",
       "      <td>0</td>\n",
       "      <td>0.365374</td>\n",
       "      <td>0.356263</td>\n",
       "      <td>0.829263</td>\n",
       "      <td>0.703862</td>\n",
       "      <td>0.744151</td>\n",
       "      <td>0.703862</td>\n",
       "      <td>0.719929</td>\n",
       "      <td>0.862659</td>\n",
       "      <td>09:32</td>\n",
       "    </tr>\n",
       "    <tr>\n",
       "      <td>1</td>\n",
       "      <td>0.358326</td>\n",
       "      <td>0.342179</td>\n",
       "      <td>0.836443</td>\n",
       "      <td>0.695540</td>\n",
       "      <td>0.762850</td>\n",
       "      <td>0.695540</td>\n",
       "      <td>0.718901</td>\n",
       "      <td>0.874592</td>\n",
       "      <td>09:33</td>\n",
       "    </tr>\n",
       "    <tr>\n",
       "      <td>2</td>\n",
       "      <td>0.344276</td>\n",
       "      <td>0.339526</td>\n",
       "      <td>0.838111</td>\n",
       "      <td>0.698015</td>\n",
       "      <td>0.766255</td>\n",
       "      <td>0.698015</td>\n",
       "      <td>0.721737</td>\n",
       "      <td>0.876865</td>\n",
       "      <td>09:32</td>\n",
       "    </tr>\n",
       "  </tbody>\n",
       "</table>"
      ],
      "text/plain": [
       "<IPython.core.display.HTML object>"
      ]
     },
     "metadata": {},
     "output_type": "display_data"
    }
   ],
   "source": [
    "learn.fit_one_cycle(3)"
   ]
  },
  {
   "cell_type": "code",
   "execution_count": 72,
   "id": "aab9f026-8749-42b2-abfb-60aa7c10aacb",
   "metadata": {},
   "outputs": [],
   "source": [
    "learn.unfreeze()"
   ]
  },
  {
   "cell_type": "code",
   "execution_count": 73,
   "id": "bdad8c98-6172-4396-8419-65ed3f0a51b8",
   "metadata": {},
   "outputs": [
    {
     "data": {
      "text/html": [
       "<table border=\"1\" class=\"dataframe\">\n",
       "  <thead>\n",
       "    <tr style=\"text-align: left;\">\n",
       "      <th>epoch</th>\n",
       "      <th>train_loss</th>\n",
       "      <th>valid_loss</th>\n",
       "      <th>accuracy</th>\n",
       "      <th>balanced_accuracy_score</th>\n",
       "      <th>precision_score</th>\n",
       "      <th>recall_score</th>\n",
       "      <th>f1_score</th>\n",
       "      <th>roc_auc_score</th>\n",
       "      <th>time</th>\n",
       "    </tr>\n",
       "  </thead>\n",
       "  <tbody>\n",
       "    <tr>\n",
       "      <td>0</td>\n",
       "      <td>0.391145</td>\n",
       "      <td>0.369466</td>\n",
       "      <td>0.829011</td>\n",
       "      <td>0.703259</td>\n",
       "      <td>0.743726</td>\n",
       "      <td>0.703259</td>\n",
       "      <td>0.719369</td>\n",
       "      <td>0.857025</td>\n",
       "      <td>11:56</td>\n",
       "    </tr>\n",
       "    <tr>\n",
       "      <td>1</td>\n",
       "      <td>0.353580</td>\n",
       "      <td>0.364929</td>\n",
       "      <td>0.825623</td>\n",
       "      <td>0.701116</td>\n",
       "      <td>0.737283</td>\n",
       "      <td>0.701116</td>\n",
       "      <td>0.715780</td>\n",
       "      <td>0.857937</td>\n",
       "      <td>11:44</td>\n",
       "    </tr>\n",
       "    <tr>\n",
       "      <td>2</td>\n",
       "      <td>0.355734</td>\n",
       "      <td>0.345369</td>\n",
       "      <td>0.834825</td>\n",
       "      <td>0.707380</td>\n",
       "      <td>0.755286</td>\n",
       "      <td>0.707380</td>\n",
       "      <td>0.725914</td>\n",
       "      <td>0.873524</td>\n",
       "      <td>11:39</td>\n",
       "    </tr>\n",
       "    <tr>\n",
       "      <td>3</td>\n",
       "      <td>0.336623</td>\n",
       "      <td>0.338259</td>\n",
       "      <td>0.838465</td>\n",
       "      <td>0.692739</td>\n",
       "      <td>0.769584</td>\n",
       "      <td>0.692739</td>\n",
       "      <td>0.718175</td>\n",
       "      <td>0.878546</td>\n",
       "      <td>11:41</td>\n",
       "    </tr>\n",
       "    <tr>\n",
       "      <td>4</td>\n",
       "      <td>0.336684</td>\n",
       "      <td>0.337618</td>\n",
       "      <td>0.839527</td>\n",
       "      <td>0.703435</td>\n",
       "      <td>0.767777</td>\n",
       "      <td>0.703435</td>\n",
       "      <td>0.726439</td>\n",
       "      <td>0.879126</td>\n",
       "      <td>11:37</td>\n",
       "    </tr>\n",
       "  </tbody>\n",
       "</table>"
      ],
      "text/plain": [
       "<IPython.core.display.HTML object>"
      ]
     },
     "metadata": {},
     "output_type": "display_data"
    }
   ],
   "source": [
    "learn.fit_one_cycle(5)"
   ]
  },
  {
   "cell_type": "code",
   "execution_count": 74,
   "id": "52abd35b-5326-4dfe-be1e-ae89c2dd685c",
   "metadata": {},
   "outputs": [
    {
     "data": {
      "text/html": [
       "<table border=\"1\" class=\"dataframe\">\n",
       "  <thead>\n",
       "    <tr style=\"text-align: left;\">\n",
       "      <th>epoch</th>\n",
       "      <th>train_loss</th>\n",
       "      <th>valid_loss</th>\n",
       "      <th>accuracy</th>\n",
       "      <th>balanced_accuracy_score</th>\n",
       "      <th>precision_score</th>\n",
       "      <th>recall_score</th>\n",
       "      <th>f1_score</th>\n",
       "      <th>roc_auc_score</th>\n",
       "      <th>time</th>\n",
       "    </tr>\n",
       "  </thead>\n",
       "  <tbody>\n",
       "    <tr>\n",
       "      <td>0</td>\n",
       "      <td>0.365468</td>\n",
       "      <td>0.358094</td>\n",
       "      <td>0.832196</td>\n",
       "      <td>0.717781</td>\n",
       "      <td>0.748054</td>\n",
       "      <td>0.717781</td>\n",
       "      <td>0.730661</td>\n",
       "      <td>0.869031</td>\n",
       "      <td>11:36</td>\n",
       "    </tr>\n",
       "    <tr>\n",
       "      <td>1</td>\n",
       "      <td>0.357519</td>\n",
       "      <td>0.339857</td>\n",
       "      <td>0.836544</td>\n",
       "      <td>0.694540</td>\n",
       "      <td>0.763512</td>\n",
       "      <td>0.694540</td>\n",
       "      <td>0.718251</td>\n",
       "      <td>0.878556</td>\n",
       "      <td>11:45</td>\n",
       "    </tr>\n",
       "    <tr>\n",
       "      <td>2</td>\n",
       "      <td>0.341179</td>\n",
       "      <td>0.336904</td>\n",
       "      <td>0.838465</td>\n",
       "      <td>0.694957</td>\n",
       "      <td>0.768540</td>\n",
       "      <td>0.694957</td>\n",
       "      <td>0.719786</td>\n",
       "      <td>0.880605</td>\n",
       "      <td>11:38</td>\n",
       "    </tr>\n",
       "  </tbody>\n",
       "</table>"
      ],
      "text/plain": [
       "<IPython.core.display.HTML object>"
      ]
     },
     "metadata": {},
     "output_type": "display_data"
    }
   ],
   "source": [
    "learn.fit_one_cycle(3)"
   ]
  },
  {
   "cell_type": "code",
   "execution_count": 75,
   "id": "e7e1186a-d09b-4ead-a8db-46454c5c4dc0",
   "metadata": {},
   "outputs": [
    {
     "data": {
      "text/plain": [
       "['rural', 'urban']"
      ]
     },
     "execution_count": 75,
     "metadata": {},
     "output_type": "execute_result"
    }
   ],
   "source": [
    "dls.vocab"
   ]
  },
  {
   "cell_type": "code",
   "execution_count": 76,
   "id": "c5830bb5-c0bb-4680-b773-150c9ee2002c",
   "metadata": {},
   "outputs": [
    {
     "data": {
      "text/plain": [
       "Path('urban/32062300110017.jpg')"
      ]
     },
     "execution_count": 76,
     "metadata": {},
     "output_type": "execute_result"
    }
   ],
   "source": [
    "dls.train.items[175000]"
   ]
  },
  {
   "cell_type": "code",
   "execution_count": 77,
   "id": "547ba6e2-d5a2-4f29-9dcb-fb9b2e109a5d",
   "metadata": {},
   "outputs": [],
   "source": [
    "learn.export('C:/Users/jwst2/Python/tesis/models/18042022 D011.pkl')"
   ]
  },
  {
   "cell_type": "code",
   "execution_count": 78,
   "id": "2767c451-95ec-47f5-9bd8-57ccbccc9d55",
   "metadata": {},
   "outputs": [
    {
     "data": {
      "text/plain": [
       "'C:\\\\Users\\\\jwst2\\\\Python\\\\tesis\\\\jpg\\\\urbanrural\\\\11. Sentinel 10M SLS ES\\\\urban\\\\32041600100013.jpg'"
      ]
     },
     "execution_count": 78,
     "metadata": {},
     "output_type": "execute_result"
    }
   ],
   "source": [
    " str(i)"
   ]
  },
  {
   "cell_type": "markdown",
   "id": "a06daf77-bb94-4097-bc8f-263a1c65aed5",
   "metadata": {},
   "source": [
    "### Up level"
   ]
  },
  {
   "cell_type": "code",
   "execution_count": 79,
   "id": "f975b391-1a56-4d3c-ab42-829ace1febc3",
   "metadata": {},
   "outputs": [],
   "source": [
    "idx_train = []\n",
    "for i in dls.train.items:\n",
    "    idx_train.append(str(i)[-18:-4])\n",
    "true_label = []\n",
    "for i in dls.train.items:\n",
    "    if(\"urban\" in str(i)) :\n",
    "        true_label.append(1)\n",
    "    else :\n",
    "        true_label.append(0)"
   ]
  },
  {
   "cell_type": "code",
   "execution_count": 80,
   "id": "1b9a6293-8ded-4ccd-8be5-282e8abf5ef4",
   "metadata": {},
   "outputs": [
    {
     "data": {
      "text/html": [],
      "text/plain": [
       "<IPython.core.display.HTML object>"
      ]
     },
     "metadata": {},
     "output_type": "display_data"
    }
   ],
   "source": [
    "preds,_ = learn.get_preds(ds_idx  = 0)\n",
    "result_train = preds.numpy()\n",
    "new_train = pd.DataFrame(result_train)"
   ]
  },
  {
   "cell_type": "code",
   "execution_count": 81,
   "id": "f6f18366-923e-49d5-8470-4f5c63b89975",
   "metadata": {},
   "outputs": [
    {
     "data": {
      "text/plain": [
       "1    140140\n",
       "0     37877\n",
       "dtype: int64"
      ]
     },
     "execution_count": 81,
     "metadata": {},
     "output_type": "execute_result"
    }
   ],
   "source": [
    "pd.value_counts(true_label)"
   ]
  },
  {
   "cell_type": "code",
   "execution_count": 82,
   "id": "7baa9c67-e0bf-4fa0-b699-81028a698288",
   "metadata": {},
   "outputs": [
    {
     "data": {
      "text/html": [
       "<div>\n",
       "<style scoped>\n",
       "    .dataframe tbody tr th:only-of-type {\n",
       "        vertical-align: middle;\n",
       "    }\n",
       "\n",
       "    .dataframe tbody tr th {\n",
       "        vertical-align: top;\n",
       "    }\n",
       "\n",
       "    .dataframe thead th {\n",
       "        text-align: right;\n",
       "    }\n",
       "</style>\n",
       "<table border=\"1\" class=\"dataframe\">\n",
       "  <thead>\n",
       "    <tr style=\"text-align: right;\">\n",
       "      <th></th>\n",
       "      <th>0</th>\n",
       "      <th>1</th>\n",
       "      <th>idsls</th>\n",
       "      <th>stat</th>\n",
       "      <th>iddesa</th>\n",
       "    </tr>\n",
       "  </thead>\n",
       "  <tbody>\n",
       "    <tr>\n",
       "      <th>0</th>\n",
       "      <td>0.163295</td>\n",
       "      <td>0.836705</td>\n",
       "      <td>32092200040011</td>\n",
       "      <td>1.0</td>\n",
       "      <td>3209220004</td>\n",
       "    </tr>\n",
       "    <tr>\n",
       "      <th>1</th>\n",
       "      <td>0.854493</td>\n",
       "      <td>0.145507</td>\n",
       "      <td>32180100020006</td>\n",
       "      <td>0.0</td>\n",
       "      <td>3218010002</td>\n",
       "    </tr>\n",
       "    <tr>\n",
       "      <th>2</th>\n",
       "      <td>0.002551</td>\n",
       "      <td>0.997449</td>\n",
       "      <td>32730900010054</td>\n",
       "      <td>1.0</td>\n",
       "      <td>3273090001</td>\n",
       "    </tr>\n",
       "    <tr>\n",
       "      <th>3</th>\n",
       "      <td>0.002204</td>\n",
       "      <td>0.997796</td>\n",
       "      <td>32013000110018</td>\n",
       "      <td>1.0</td>\n",
       "      <td>3201300011</td>\n",
       "    </tr>\n",
       "    <tr>\n",
       "      <th>4</th>\n",
       "      <td>0.451553</td>\n",
       "      <td>0.548447</td>\n",
       "      <td>32053100190020</td>\n",
       "      <td>1.0</td>\n",
       "      <td>3205310019</td>\n",
       "    </tr>\n",
       "  </tbody>\n",
       "</table>\n",
       "</div>"
      ],
      "text/plain": [
       "          0         1           idsls  stat      iddesa\n",
       "0  0.163295  0.836705  32092200040011   1.0  3209220004\n",
       "1  0.854493  0.145507  32180100020006   0.0  3218010002\n",
       "2  0.002551  0.997449  32730900010054   1.0  3273090001\n",
       "3  0.002204  0.997796  32013000110018   1.0  3201300011\n",
       "4  0.451553  0.548447  32053100190020   1.0  3205310019"
      ]
     },
     "execution_count": 82,
     "metadata": {},
     "output_type": "execute_result"
    }
   ],
   "source": [
    "df = new_train\n",
    "df[\"idsls\"] = idx_train \n",
    "df[\"stat\"] = round(df[1])\n",
    "df[\"iddesa\"] = df.idsls.str[:10]\n",
    "df.head()"
   ]
  },
  {
   "cell_type": "code",
   "execution_count": 83,
   "id": "27375754-0aa1-4dde-af27-3d7f20cb244c",
   "metadata": {},
   "outputs": [
    {
     "data": {
      "text/plain": [
       "1.0    152465\n",
       "0.0     25552\n",
       "Name: stat, dtype: int64"
      ]
     },
     "execution_count": 83,
     "metadata": {},
     "output_type": "execute_result"
    }
   ],
   "source": [
    "pd.value_counts(df.stat)"
   ]
  },
  {
   "cell_type": "code",
   "execution_count": 84,
   "id": "51e93c51-a1f1-4c0d-92e0-984e5b78d065",
   "metadata": {},
   "outputs": [],
   "source": [
    "df[\"true_lab\"] = true_label"
   ]
  },
  {
   "cell_type": "code",
   "execution_count": 85,
   "id": "0823d3a6-312e-4355-b198-23eae6063316",
   "metadata": {},
   "outputs": [
    {
     "data": {
      "text/plain": [
       "1    140140\n",
       "0     37877\n",
       "Name: true_lab, dtype: int64"
      ]
     },
     "execution_count": 85,
     "metadata": {},
     "output_type": "execute_result"
    }
   ],
   "source": [
    "pd.value_counts(df.true_lab)"
   ]
  },
  {
   "cell_type": "code",
   "execution_count": 86,
   "id": "84ffac8a-28bd-4e7c-97b0-e4b46e397e64",
   "metadata": {},
   "outputs": [
    {
     "data": {
      "text/plain": [
       "0.8421892291185673"
      ]
     },
     "execution_count": 86,
     "metadata": {},
     "output_type": "execute_result"
    }
   ],
   "source": [
    "accuracy_score(df.stat.apply(int),df.true_lab.apply(int))"
   ]
  },
  {
   "cell_type": "code",
   "execution_count": 87,
   "id": "caadfca2-e80e-4d01-8e5c-16c22d8e3900",
   "metadata": {},
   "outputs": [
    {
     "data": {
      "text/html": [
       "<div>\n",
       "<style scoped>\n",
       "    .dataframe tbody tr th:only-of-type {\n",
       "        vertical-align: middle;\n",
       "    }\n",
       "\n",
       "    .dataframe tbody tr th {\n",
       "        vertical-align: top;\n",
       "    }\n",
       "\n",
       "    .dataframe thead th {\n",
       "        text-align: right;\n",
       "    }\n",
       "</style>\n",
       "<table border=\"1\" class=\"dataframe\">\n",
       "  <thead>\n",
       "    <tr style=\"text-align: right;\">\n",
       "      <th></th>\n",
       "      <th>0</th>\n",
       "      <th>1</th>\n",
       "      <th>idsls</th>\n",
       "      <th>stat</th>\n",
       "      <th>iddesa</th>\n",
       "      <th>true_lab</th>\n",
       "    </tr>\n",
       "  </thead>\n",
       "  <tbody>\n",
       "    <tr>\n",
       "      <th>0</th>\n",
       "      <td>0.163295</td>\n",
       "      <td>0.836705</td>\n",
       "      <td>32092200040011</td>\n",
       "      <td>1.0</td>\n",
       "      <td>3209220004</td>\n",
       "      <td>1</td>\n",
       "    </tr>\n",
       "    <tr>\n",
       "      <th>1</th>\n",
       "      <td>0.854493</td>\n",
       "      <td>0.145507</td>\n",
       "      <td>32180100020006</td>\n",
       "      <td>0.0</td>\n",
       "      <td>3218010002</td>\n",
       "      <td>0</td>\n",
       "    </tr>\n",
       "    <tr>\n",
       "      <th>2</th>\n",
       "      <td>0.002551</td>\n",
       "      <td>0.997449</td>\n",
       "      <td>32730900010054</td>\n",
       "      <td>1.0</td>\n",
       "      <td>3273090001</td>\n",
       "      <td>1</td>\n",
       "    </tr>\n",
       "    <tr>\n",
       "      <th>3</th>\n",
       "      <td>0.002204</td>\n",
       "      <td>0.997796</td>\n",
       "      <td>32013000110018</td>\n",
       "      <td>1.0</td>\n",
       "      <td>3201300011</td>\n",
       "      <td>1</td>\n",
       "    </tr>\n",
       "    <tr>\n",
       "      <th>4</th>\n",
       "      <td>0.451553</td>\n",
       "      <td>0.548447</td>\n",
       "      <td>32053100190020</td>\n",
       "      <td>1.0</td>\n",
       "      <td>3205310019</td>\n",
       "      <td>0</td>\n",
       "    </tr>\n",
       "  </tbody>\n",
       "</table>\n",
       "</div>"
      ],
      "text/plain": [
       "          0         1           idsls  stat      iddesa  true_lab\n",
       "0  0.163295  0.836705  32092200040011   1.0  3209220004         1\n",
       "1  0.854493  0.145507  32180100020006   0.0  3218010002         0\n",
       "2  0.002551  0.997449  32730900010054   1.0  3273090001         1\n",
       "3  0.002204  0.997796  32013000110018   1.0  3201300011         1\n",
       "4  0.451553  0.548447  32053100190020   1.0  3205310019         0"
      ]
     },
     "execution_count": 87,
     "metadata": {},
     "output_type": "execute_result"
    }
   ],
   "source": [
    "df.head()"
   ]
  },
  {
   "cell_type": "code",
   "execution_count": 88,
   "id": "d72c35ba-448b-4f71-8a5f-6b03de74920f",
   "metadata": {},
   "outputs": [],
   "source": [
    "desa_pred = df.groupby('iddesa').agg({'stat': ['mean'], 'true_lab': 'mean'})"
   ]
  },
  {
   "cell_type": "code",
   "execution_count": 89,
   "id": "99a39f46-949f-42c8-a81e-28731b0fc783",
   "metadata": {},
   "outputs": [],
   "source": [
    "desa_pred.columns = [\"pred\",\"true\"]"
   ]
  },
  {
   "cell_type": "code",
   "execution_count": 90,
   "id": "580d8552-7a64-41df-ac54-823feee451f6",
   "metadata": {},
   "outputs": [
    {
     "data": {
      "text/plain": [
       "1.0    152465\n",
       "0.0     25552\n",
       "Name: stat, dtype: int64"
      ]
     },
     "execution_count": 90,
     "metadata": {},
     "output_type": "execute_result"
    }
   ],
   "source": [
    "pd.value_counts(df.stat)"
   ]
  },
  {
   "cell_type": "code",
   "execution_count": 91,
   "id": "8253e8fa-9c54-4d63-87a5-e59669b9ece2",
   "metadata": {},
   "outputs": [
    {
     "name": "stderr",
     "output_type": "stream",
     "text": [
      "C:\\Users\\jwst2\\AppData\\Local\\Temp/ipykernel_4072/4109382162.py:4: SettingWithCopyWarning: \n",
      "A value is trying to be set on a copy of a slice from a DataFrame\n",
      "\n",
      "See the caveats in the documentation: https://pandas.pydata.org/pandas-docs/stable/user_guide/indexing.html#returning-a-view-versus-a-copy\n",
      "  desa_pred[\"label\"+str(value)][desa_pred.pred > value] = 1\n"
     ]
    }
   ],
   "source": [
    "for i in np.arange(0.1, 0.95, 0.05):\n",
    "    value = round(i,2)\n",
    "    desa_pred[\"label\"+str(value)] = 0\n",
    "    desa_pred[\"label\"+str(value)][desa_pred.pred > value] = 1"
   ]
  },
  {
   "cell_type": "code",
   "execution_count": 92,
   "id": "4366ffb4-4834-4bbf-a447-5469fa8cf4f9",
   "metadata": {},
   "outputs": [
    {
     "data": {
      "text/html": [
       "<div>\n",
       "<style scoped>\n",
       "    .dataframe tbody tr th:only-of-type {\n",
       "        vertical-align: middle;\n",
       "    }\n",
       "\n",
       "    .dataframe tbody tr th {\n",
       "        vertical-align: top;\n",
       "    }\n",
       "\n",
       "    .dataframe thead th {\n",
       "        text-align: right;\n",
       "    }\n",
       "</style>\n",
       "<table border=\"1\" class=\"dataframe\">\n",
       "  <thead>\n",
       "    <tr style=\"text-align: right;\">\n",
       "      <th></th>\n",
       "      <th>pred</th>\n",
       "      <th>true</th>\n",
       "      <th>label0.1</th>\n",
       "      <th>label0.15</th>\n",
       "      <th>label0.2</th>\n",
       "      <th>label0.25</th>\n",
       "      <th>label0.3</th>\n",
       "      <th>label0.35</th>\n",
       "      <th>label0.4</th>\n",
       "      <th>label0.45</th>\n",
       "      <th>label0.5</th>\n",
       "      <th>label0.55</th>\n",
       "      <th>label0.6</th>\n",
       "      <th>label0.65</th>\n",
       "      <th>label0.7</th>\n",
       "      <th>label0.75</th>\n",
       "      <th>label0.8</th>\n",
       "      <th>label0.85</th>\n",
       "      <th>label0.9</th>\n",
       "    </tr>\n",
       "    <tr>\n",
       "      <th>iddesa</th>\n",
       "      <th></th>\n",
       "      <th></th>\n",
       "      <th></th>\n",
       "      <th></th>\n",
       "      <th></th>\n",
       "      <th></th>\n",
       "      <th></th>\n",
       "      <th></th>\n",
       "      <th></th>\n",
       "      <th></th>\n",
       "      <th></th>\n",
       "      <th></th>\n",
       "      <th></th>\n",
       "      <th></th>\n",
       "      <th></th>\n",
       "      <th></th>\n",
       "      <th></th>\n",
       "      <th></th>\n",
       "      <th></th>\n",
       "    </tr>\n",
       "  </thead>\n",
       "  <tbody>\n",
       "    <tr>\n",
       "      <th>3201010001</th>\n",
       "      <td>0.111111</td>\n",
       "      <td>0.0</td>\n",
       "      <td>1</td>\n",
       "      <td>0</td>\n",
       "      <td>0</td>\n",
       "      <td>0</td>\n",
       "      <td>0</td>\n",
       "      <td>0</td>\n",
       "      <td>0</td>\n",
       "      <td>0</td>\n",
       "      <td>0</td>\n",
       "      <td>0</td>\n",
       "      <td>0</td>\n",
       "      <td>0</td>\n",
       "      <td>0</td>\n",
       "      <td>0</td>\n",
       "      <td>0</td>\n",
       "      <td>0</td>\n",
       "      <td>0</td>\n",
       "    </tr>\n",
       "    <tr>\n",
       "      <th>3201010002</th>\n",
       "      <td>0.659574</td>\n",
       "      <td>0.0</td>\n",
       "      <td>1</td>\n",
       "      <td>1</td>\n",
       "      <td>1</td>\n",
       "      <td>1</td>\n",
       "      <td>1</td>\n",
       "      <td>1</td>\n",
       "      <td>1</td>\n",
       "      <td>1</td>\n",
       "      <td>1</td>\n",
       "      <td>1</td>\n",
       "      <td>1</td>\n",
       "      <td>1</td>\n",
       "      <td>0</td>\n",
       "      <td>0</td>\n",
       "      <td>0</td>\n",
       "      <td>0</td>\n",
       "      <td>0</td>\n",
       "    </tr>\n",
       "    <tr>\n",
       "      <th>3201010003</th>\n",
       "      <td>0.756098</td>\n",
       "      <td>1.0</td>\n",
       "      <td>1</td>\n",
       "      <td>1</td>\n",
       "      <td>1</td>\n",
       "      <td>1</td>\n",
       "      <td>1</td>\n",
       "      <td>1</td>\n",
       "      <td>1</td>\n",
       "      <td>1</td>\n",
       "      <td>1</td>\n",
       "      <td>1</td>\n",
       "      <td>1</td>\n",
       "      <td>1</td>\n",
       "      <td>1</td>\n",
       "      <td>1</td>\n",
       "      <td>0</td>\n",
       "      <td>0</td>\n",
       "      <td>0</td>\n",
       "    </tr>\n",
       "    <tr>\n",
       "      <th>3201010004</th>\n",
       "      <td>0.784314</td>\n",
       "      <td>0.0</td>\n",
       "      <td>1</td>\n",
       "      <td>1</td>\n",
       "      <td>1</td>\n",
       "      <td>1</td>\n",
       "      <td>1</td>\n",
       "      <td>1</td>\n",
       "      <td>1</td>\n",
       "      <td>1</td>\n",
       "      <td>1</td>\n",
       "      <td>1</td>\n",
       "      <td>1</td>\n",
       "      <td>1</td>\n",
       "      <td>1</td>\n",
       "      <td>1</td>\n",
       "      <td>0</td>\n",
       "      <td>0</td>\n",
       "      <td>0</td>\n",
       "    </tr>\n",
       "    <tr>\n",
       "      <th>3201010005</th>\n",
       "      <td>0.718750</td>\n",
       "      <td>1.0</td>\n",
       "      <td>1</td>\n",
       "      <td>1</td>\n",
       "      <td>1</td>\n",
       "      <td>1</td>\n",
       "      <td>1</td>\n",
       "      <td>1</td>\n",
       "      <td>1</td>\n",
       "      <td>1</td>\n",
       "      <td>1</td>\n",
       "      <td>1</td>\n",
       "      <td>1</td>\n",
       "      <td>1</td>\n",
       "      <td>1</td>\n",
       "      <td>0</td>\n",
       "      <td>0</td>\n",
       "      <td>0</td>\n",
       "      <td>0</td>\n",
       "    </tr>\n",
       "  </tbody>\n",
       "</table>\n",
       "</div>"
      ],
      "text/plain": [
       "                pred  true  label0.1  label0.15  label0.2  label0.25  \\\n",
       "iddesa                                                                 \n",
       "3201010001  0.111111   0.0         1          0         0          0   \n",
       "3201010002  0.659574   0.0         1          1         1          1   \n",
       "3201010003  0.756098   1.0         1          1         1          1   \n",
       "3201010004  0.784314   0.0         1          1         1          1   \n",
       "3201010005  0.718750   1.0         1          1         1          1   \n",
       "\n",
       "            label0.3  label0.35  label0.4  label0.45  label0.5  label0.55  \\\n",
       "iddesa                                                                      \n",
       "3201010001         0          0         0          0         0          0   \n",
       "3201010002         1          1         1          1         1          1   \n",
       "3201010003         1          1         1          1         1          1   \n",
       "3201010004         1          1         1          1         1          1   \n",
       "3201010005         1          1         1          1         1          1   \n",
       "\n",
       "            label0.6  label0.65  label0.7  label0.75  label0.8  label0.85  \\\n",
       "iddesa                                                                      \n",
       "3201010001         0          0         0          0         0          0   \n",
       "3201010002         1          1         0          0         0          0   \n",
       "3201010003         1          1         1          1         0          0   \n",
       "3201010004         1          1         1          1         0          0   \n",
       "3201010005         1          1         1          0         0          0   \n",
       "\n",
       "            label0.9  \n",
       "iddesa                \n",
       "3201010001         0  \n",
       "3201010002         0  \n",
       "3201010003         0  \n",
       "3201010004         0  \n",
       "3201010005         0  "
      ]
     },
     "execution_count": 92,
     "metadata": {},
     "output_type": "execute_result"
    }
   ],
   "source": [
    "desa_pred.head()"
   ]
  },
  {
   "cell_type": "code",
   "execution_count": 93,
   "id": "855a7f51-9fd3-418e-bd21-605fe7d0a113",
   "metadata": {},
   "outputs": [
    {
     "name": "stdout",
     "output_type": "stream",
     "text": [
      "result label0.1\n",
      "accuracy : 0.7541961954494592\n",
      "precision : 0.7472847168347556\n",
      "result label0.15\n",
      "accuracy : 0.7614696008951883\n",
      "precision : 0.7546724375368876\n",
      "result label0.2\n",
      "accuracy : 0.7724729578515479\n",
      "precision : 0.7642714570858283\n",
      "result label0.25\n",
      "accuracy : 0.7827303245057814\n",
      "precision : 0.7737492404294106\n",
      "result label0.3\n",
      "accuracy : 0.7885117493472585\n",
      "precision : 0.7805829228243021\n",
      "result label0.35\n",
      "accuracy : 0.7976501305483029\n",
      "precision : 0.7901981230448384\n",
      "result label0.4\n",
      "accuracy : 0.8064155165982843\n",
      "precision : 0.800679983000425\n",
      "result label0.45\n",
      "accuracy : 0.8110779559865722\n",
      "precision : 0.8078499029544964\n",
      "result label0.5\n",
      "accuracy : 0.8181648638567699\n",
      "precision : 0.8186825291914519\n",
      "result label0.55\n",
      "accuracy : 0.8224543080939948\n",
      "precision : 0.8258828788556102\n",
      "result label0.6\n",
      "accuracy : 0.8274897426333457\n",
      "precision : 0.8354228402097105\n",
      "result label0.65\n",
      "accuracy : 0.8321521820216338\n",
      "precision : 0.8446353924756154\n",
      "result label0.7\n",
      "accuracy : 0.8353226408056695\n",
      "precision : 0.8559503935129978\n",
      "result label0.75\n",
      "accuracy : 0.8319656844461022\n",
      "precision : 0.8669304971555776\n",
      "result label0.8\n",
      "accuracy : 0.83047370384185\n",
      "precision : 0.8802364430737599\n",
      "result label0.85\n",
      "accuracy : 0.8258112644535621\n",
      "precision : 0.8958445763626551\n",
      "result label0.9\n",
      "accuracy : 0.8054830287206266\n",
      "precision : 0.9150749338818689\n"
     ]
    }
   ],
   "source": [
    "for j in range(2,19):\n",
    "    print(\"result\", desa_pred.columns[j])\n",
    "    print(\"accuracy :\",  accuracy_score( desa_pred.true,desa_pred.iloc[:,[j]]))\n",
    "    print(\"precision :\",  precision_score( desa_pred.true,desa_pred.iloc[:,[j]]))"
   ]
  },
  {
   "cell_type": "code",
   "execution_count": 94,
   "id": "3662a4be-9f92-4f37-9978-c0bfac190fe5",
   "metadata": {},
   "outputs": [],
   "source": [
    "from sklearn.metrics import confusion_matrix"
   ]
  },
  {
   "cell_type": "code",
   "execution_count": 95,
   "id": "13528e0d-92ad-4bd6-89b8-816048965e16",
   "metadata": {},
   "outputs": [
    {
     "data": {
      "text/plain": [
       "1.0    3868\n",
       "0.0    1494\n",
       "Name: true, dtype: int64"
      ]
     },
     "execution_count": 95,
     "metadata": {},
     "output_type": "execute_result"
    }
   ],
   "source": [
    "pd.value_counts(desa_pred.true)"
   ]
  },
  {
   "cell_type": "markdown",
   "id": "4e6bafd1-9eae-4547-ba47-30ebe21ea669",
   "metadata": {},
   "source": [
    "### Test result"
   ]
  },
  {
   "cell_type": "code",
   "execution_count": 100,
   "id": "b1c0e74b-6b00-48a1-8a42-c6d3596ab009",
   "metadata": {},
   "outputs": [],
   "source": [
    "path_pred = Path.cwd() / (\"C:/Users/jwst2/Python/tesis/jpg/UR/test sls 10m ES\")\n",
    "test_files = [fn for fn in sorted((path_pred).glob('**/*')) if fn.is_file()]"
   ]
  },
  {
   "cell_type": "code",
   "execution_count": 101,
   "id": "c5177d4a-43de-426b-81c3-89a5ad10476a",
   "metadata": {},
   "outputs": [
    {
     "data": {
      "text/plain": [
       "22041"
      ]
     },
     "execution_count": 101,
     "metadata": {},
     "output_type": "execute_result"
    }
   ],
   "source": [
    "len(test_files)"
   ]
  },
  {
   "cell_type": "code",
   "execution_count": 102,
   "id": "2dbbb132-1ed0-459d-84c1-ed8e102bfce4",
   "metadata": {},
   "outputs": [],
   "source": [
    "test_dl = learn.dls.test_dl(test_files)"
   ]
  },
  {
   "cell_type": "code",
   "execution_count": 103,
   "id": "b8399e45-82ed-43ce-93ee-341a95d9c671",
   "metadata": {},
   "outputs": [
    {
     "data": {
      "text/html": [],
      "text/plain": [
       "<IPython.core.display.HTML object>"
      ]
     },
     "metadata": {},
     "output_type": "display_data"
    }
   ],
   "source": [
    "preds,_ = learn.get_preds(dl  =test_dl)"
   ]
  },
  {
   "cell_type": "code",
   "execution_count": 104,
   "id": "36e7a605-1944-49da-8315-e7ee2fa846a5",
   "metadata": {},
   "outputs": [
    {
     "data": {
      "text/plain": [
       "'32011500010002'"
      ]
     },
     "execution_count": 104,
     "metadata": {},
     "output_type": "execute_result"
    }
   ],
   "source": [
    "str(test_files[1])[-18:-4]"
   ]
  },
  {
   "cell_type": "code",
   "execution_count": 105,
   "id": "ae98e9b7-69ae-4ad5-ac8b-a1ca764e77e1",
   "metadata": {},
   "outputs": [],
   "source": [
    "idx_test = []\n",
    "for i in test_files:\n",
    "    idx_test.append(str(i)[-18:-4])\n",
    "true_label = []\n",
    "for i in test_files:\n",
    "    if(\"urban\" in str(i)) :\n",
    "        true_label.append(1)\n",
    "    else :\n",
    "        true_label.append(0)"
   ]
  },
  {
   "cell_type": "code",
   "execution_count": 106,
   "id": "9db6caf2-7da7-4829-9dcb-ef4ae2cb02a4",
   "metadata": {},
   "outputs": [],
   "source": [
    "test = pd.DataFrame(preds)"
   ]
  },
  {
   "cell_type": "code",
   "execution_count": 107,
   "id": "e4b05cfe-563a-4f65-ab73-d359328afbac",
   "metadata": {},
   "outputs": [],
   "source": [
    "test[\"idsls\"] = idx_test\n",
    "test[\"true_lab\"] = true_label"
   ]
  },
  {
   "cell_type": "code",
   "execution_count": 108,
   "id": "e7bfa65d-944e-471a-a341-fe3f03d74bb1",
   "metadata": {},
   "outputs": [],
   "source": [
    "test[\"iddesa\"] = test.idsls.str[:10]\n",
    "test[\"stat\"] = round(test[1])"
   ]
  },
  {
   "cell_type": "code",
   "execution_count": 109,
   "id": "2d7b48c0-1b97-4a7b-9844-552152f94ea2",
   "metadata": {},
   "outputs": [
    {
     "data": {
      "text/html": [
       "<div>\n",
       "<style scoped>\n",
       "    .dataframe tbody tr th:only-of-type {\n",
       "        vertical-align: middle;\n",
       "    }\n",
       "\n",
       "    .dataframe tbody tr th {\n",
       "        vertical-align: top;\n",
       "    }\n",
       "\n",
       "    .dataframe thead th {\n",
       "        text-align: right;\n",
       "    }\n",
       "</style>\n",
       "<table border=\"1\" class=\"dataframe\">\n",
       "  <thead>\n",
       "    <tr style=\"text-align: right;\">\n",
       "      <th></th>\n",
       "      <th>0</th>\n",
       "      <th>1</th>\n",
       "      <th>idsls</th>\n",
       "      <th>true_lab</th>\n",
       "      <th>iddesa</th>\n",
       "      <th>stat</th>\n",
       "    </tr>\n",
       "  </thead>\n",
       "  <tbody>\n",
       "    <tr>\n",
       "      <th>0</th>\n",
       "      <td>0.764419</td>\n",
       "      <td>0.235581</td>\n",
       "      <td>32011500010001</td>\n",
       "      <td>0</td>\n",
       "      <td>3201150001</td>\n",
       "      <td>0.0</td>\n",
       "    </tr>\n",
       "    <tr>\n",
       "      <th>1</th>\n",
       "      <td>0.812985</td>\n",
       "      <td>0.187015</td>\n",
       "      <td>32011500010002</td>\n",
       "      <td>0</td>\n",
       "      <td>3201150001</td>\n",
       "      <td>0.0</td>\n",
       "    </tr>\n",
       "    <tr>\n",
       "      <th>2</th>\n",
       "      <td>0.800111</td>\n",
       "      <td>0.199889</td>\n",
       "      <td>32011500010003</td>\n",
       "      <td>0</td>\n",
       "      <td>3201150001</td>\n",
       "      <td>0.0</td>\n",
       "    </tr>\n",
       "    <tr>\n",
       "      <th>3</th>\n",
       "      <td>0.788269</td>\n",
       "      <td>0.211731</td>\n",
       "      <td>32011500010004</td>\n",
       "      <td>0</td>\n",
       "      <td>3201150001</td>\n",
       "      <td>0.0</td>\n",
       "    </tr>\n",
       "    <tr>\n",
       "      <th>4</th>\n",
       "      <td>0.682551</td>\n",
       "      <td>0.317449</td>\n",
       "      <td>32011500010005</td>\n",
       "      <td>0</td>\n",
       "      <td>3201150001</td>\n",
       "      <td>0.0</td>\n",
       "    </tr>\n",
       "  </tbody>\n",
       "</table>\n",
       "</div>"
      ],
      "text/plain": [
       "          0         1           idsls  true_lab      iddesa  stat\n",
       "0  0.764419  0.235581  32011500010001         0  3201150001   0.0\n",
       "1  0.812985  0.187015  32011500010002         0  3201150001   0.0\n",
       "2  0.800111  0.199889  32011500010003         0  3201150001   0.0\n",
       "3  0.788269  0.211731  32011500010004         0  3201150001   0.0\n",
       "4  0.682551  0.317449  32011500010005         0  3201150001   0.0"
      ]
     },
     "execution_count": 109,
     "metadata": {},
     "output_type": "execute_result"
    }
   ],
   "source": [
    "test.head()"
   ]
  },
  {
   "cell_type": "code",
   "execution_count": 110,
   "id": "c7a6d0dd-cdfe-4cd3-89a5-0cd6255ea55f",
   "metadata": {},
   "outputs": [],
   "source": [
    "desa_pred_test = test.groupby('iddesa').agg({'stat': ['mean'], 'true_lab': 'mean'})"
   ]
  },
  {
   "cell_type": "code",
   "execution_count": 111,
   "id": "46219c78-2263-49e6-8f5c-0ef512ffa7f5",
   "metadata": {},
   "outputs": [
    {
     "data": {
      "text/html": [
       "<div>\n",
       "<style scoped>\n",
       "    .dataframe tbody tr th:only-of-type {\n",
       "        vertical-align: middle;\n",
       "    }\n",
       "\n",
       "    .dataframe tbody tr th {\n",
       "        vertical-align: top;\n",
       "    }\n",
       "\n",
       "    .dataframe thead tr th {\n",
       "        text-align: left;\n",
       "    }\n",
       "\n",
       "    .dataframe thead tr:last-of-type th {\n",
       "        text-align: right;\n",
       "    }\n",
       "</style>\n",
       "<table border=\"1\" class=\"dataframe\">\n",
       "  <thead>\n",
       "    <tr>\n",
       "      <th></th>\n",
       "      <th>stat</th>\n",
       "      <th>true_lab</th>\n",
       "    </tr>\n",
       "    <tr>\n",
       "      <th></th>\n",
       "      <th>mean</th>\n",
       "      <th>mean</th>\n",
       "    </tr>\n",
       "    <tr>\n",
       "      <th>iddesa</th>\n",
       "      <th></th>\n",
       "      <th></th>\n",
       "    </tr>\n",
       "  </thead>\n",
       "  <tbody>\n",
       "    <tr>\n",
       "      <th>3201010010</th>\n",
       "      <td>0.971429</td>\n",
       "      <td>1.0</td>\n",
       "    </tr>\n",
       "    <tr>\n",
       "      <th>3201040001</th>\n",
       "      <td>1.000000</td>\n",
       "      <td>1.0</td>\n",
       "    </tr>\n",
       "    <tr>\n",
       "      <th>3201040005</th>\n",
       "      <td>1.000000</td>\n",
       "      <td>1.0</td>\n",
       "    </tr>\n",
       "    <tr>\n",
       "      <th>3201050012</th>\n",
       "      <td>1.000000</td>\n",
       "      <td>1.0</td>\n",
       "    </tr>\n",
       "    <tr>\n",
       "      <th>3201050013</th>\n",
       "      <td>1.000000</td>\n",
       "      <td>1.0</td>\n",
       "    </tr>\n",
       "    <tr>\n",
       "      <th>...</th>\n",
       "      <td>...</td>\n",
       "      <td>...</td>\n",
       "    </tr>\n",
       "    <tr>\n",
       "      <th>3278050003</th>\n",
       "      <td>1.000000</td>\n",
       "      <td>1.0</td>\n",
       "    </tr>\n",
       "    <tr>\n",
       "      <th>3278071005</th>\n",
       "      <td>1.000000</td>\n",
       "      <td>1.0</td>\n",
       "    </tr>\n",
       "    <tr>\n",
       "      <th>3278080002</th>\n",
       "      <td>1.000000</td>\n",
       "      <td>1.0</td>\n",
       "    </tr>\n",
       "    <tr>\n",
       "      <th>3279010006</th>\n",
       "      <td>1.000000</td>\n",
       "      <td>1.0</td>\n",
       "    </tr>\n",
       "    <tr>\n",
       "      <th>3279030005</th>\n",
       "      <td>0.973333</td>\n",
       "      <td>1.0</td>\n",
       "    </tr>\n",
       "  </tbody>\n",
       "</table>\n",
       "<p>595 rows × 2 columns</p>\n",
       "</div>"
      ],
      "text/plain": [
       "                stat true_lab\n",
       "                mean     mean\n",
       "iddesa                       \n",
       "3201010010  0.971429      1.0\n",
       "3201040001  1.000000      1.0\n",
       "3201040005  1.000000      1.0\n",
       "3201050012  1.000000      1.0\n",
       "3201050013  1.000000      1.0\n",
       "...              ...      ...\n",
       "3278050003  1.000000      1.0\n",
       "3278071005  1.000000      1.0\n",
       "3278080002  1.000000      1.0\n",
       "3279010006  1.000000      1.0\n",
       "3279030005  0.973333      1.0\n",
       "\n",
       "[595 rows x 2 columns]"
      ]
     },
     "execution_count": 111,
     "metadata": {},
     "output_type": "execute_result"
    }
   ],
   "source": [
    "desa_pred_test"
   ]
  },
  {
   "cell_type": "code",
   "execution_count": 112,
   "id": "3c181fbb-e76b-485b-b209-63e58f29ff4d",
   "metadata": {},
   "outputs": [],
   "source": [
    "desa_pred_test.columns = [\"pred\",\"true\"]"
   ]
  },
  {
   "cell_type": "code",
   "execution_count": 169,
   "id": "6489d636-897a-426d-9842-547b4a8c2ff7",
   "metadata": {},
   "outputs": [
    {
     "name": "stderr",
     "output_type": "stream",
     "text": [
      "C:\\Users\\jwst2\\AppData\\Local\\Temp/ipykernel_4072/3903990358.py:2: SettingWithCopyWarning: \n",
      "A value is trying to be set on a copy of a slice from a DataFrame\n",
      "\n",
      "See the caveats in the documentation: https://pandas.pydata.org/pandas-docs/stable/user_guide/indexing.html#returning-a-view-versus-a-copy\n",
      "  desa_pred_test[\"pred_lab\"][desa_pred_test.pred > 0.81] = 1\n"
     ]
    }
   ],
   "source": [
    "desa_pred_test[\"pred_lab\"] = 0\n",
    "desa_pred_test[\"pred_lab\"][desa_pred_test.pred > 0.81] = 1"
   ]
  },
  {
   "cell_type": "code",
   "execution_count": 170,
   "id": "a1e663c1-2e37-4bd5-ad9b-9c1b9acd77e7",
   "metadata": {},
   "outputs": [
    {
     "data": {
      "text/html": [
       "<div>\n",
       "<style scoped>\n",
       "    .dataframe tbody tr th:only-of-type {\n",
       "        vertical-align: middle;\n",
       "    }\n",
       "\n",
       "    .dataframe tbody tr th {\n",
       "        vertical-align: top;\n",
       "    }\n",
       "\n",
       "    .dataframe thead th {\n",
       "        text-align: right;\n",
       "    }\n",
       "</style>\n",
       "<table border=\"1\" class=\"dataframe\">\n",
       "  <thead>\n",
       "    <tr style=\"text-align: right;\">\n",
       "      <th></th>\n",
       "      <th>pred</th>\n",
       "      <th>true</th>\n",
       "      <th>pred_lab</th>\n",
       "    </tr>\n",
       "    <tr>\n",
       "      <th>iddesa</th>\n",
       "      <th></th>\n",
       "      <th></th>\n",
       "      <th></th>\n",
       "    </tr>\n",
       "  </thead>\n",
       "  <tbody>\n",
       "    <tr>\n",
       "      <th>3201010010</th>\n",
       "      <td>0.971429</td>\n",
       "      <td>1.0</td>\n",
       "      <td>1</td>\n",
       "    </tr>\n",
       "    <tr>\n",
       "      <th>3201040001</th>\n",
       "      <td>1.000000</td>\n",
       "      <td>1.0</td>\n",
       "      <td>1</td>\n",
       "    </tr>\n",
       "    <tr>\n",
       "      <th>3201040005</th>\n",
       "      <td>1.000000</td>\n",
       "      <td>1.0</td>\n",
       "      <td>1</td>\n",
       "    </tr>\n",
       "    <tr>\n",
       "      <th>3201050012</th>\n",
       "      <td>1.000000</td>\n",
       "      <td>1.0</td>\n",
       "      <td>1</td>\n",
       "    </tr>\n",
       "    <tr>\n",
       "      <th>3201050013</th>\n",
       "      <td>1.000000</td>\n",
       "      <td>1.0</td>\n",
       "      <td>1</td>\n",
       "    </tr>\n",
       "    <tr>\n",
       "      <th>...</th>\n",
       "      <td>...</td>\n",
       "      <td>...</td>\n",
       "      <td>...</td>\n",
       "    </tr>\n",
       "    <tr>\n",
       "      <th>3278050003</th>\n",
       "      <td>1.000000</td>\n",
       "      <td>1.0</td>\n",
       "      <td>1</td>\n",
       "    </tr>\n",
       "    <tr>\n",
       "      <th>3278071005</th>\n",
       "      <td>1.000000</td>\n",
       "      <td>1.0</td>\n",
       "      <td>1</td>\n",
       "    </tr>\n",
       "    <tr>\n",
       "      <th>3278080002</th>\n",
       "      <td>1.000000</td>\n",
       "      <td>1.0</td>\n",
       "      <td>1</td>\n",
       "    </tr>\n",
       "    <tr>\n",
       "      <th>3279010006</th>\n",
       "      <td>1.000000</td>\n",
       "      <td>1.0</td>\n",
       "      <td>1</td>\n",
       "    </tr>\n",
       "    <tr>\n",
       "      <th>3279030005</th>\n",
       "      <td>0.973333</td>\n",
       "      <td>1.0</td>\n",
       "      <td>1</td>\n",
       "    </tr>\n",
       "  </tbody>\n",
       "</table>\n",
       "<p>595 rows × 3 columns</p>\n",
       "</div>"
      ],
      "text/plain": [
       "                pred  true  pred_lab\n",
       "iddesa                              \n",
       "3201010010  0.971429   1.0         1\n",
       "3201040001  1.000000   1.0         1\n",
       "3201040005  1.000000   1.0         1\n",
       "3201050012  1.000000   1.0         1\n",
       "3201050013  1.000000   1.0         1\n",
       "...              ...   ...       ...\n",
       "3278050003  1.000000   1.0         1\n",
       "3278071005  1.000000   1.0         1\n",
       "3278080002  1.000000   1.0         1\n",
       "3279010006  1.000000   1.0         1\n",
       "3279030005  0.973333   1.0         1\n",
       "\n",
       "[595 rows x 3 columns]"
      ]
     },
     "execution_count": 170,
     "metadata": {},
     "output_type": "execute_result"
    }
   ],
   "source": [
    "desa_pred_test"
   ]
  },
  {
   "cell_type": "code",
   "execution_count": 171,
   "id": "da7378d4-58be-48fa-af75-8fe5cef6551a",
   "metadata": {},
   "outputs": [
    {
     "name": "stdout",
     "output_type": "stream",
     "text": [
      "accuracy : 0.8504201680672269\n",
      "balanced_accuracy_score : 0.8055230288836845\n",
      "precision : 0.8858447488584474\n",
      "recall : 0.9086651053864169\n",
      "f1 : 0.8971098265895954\n",
      "rocauc : 0.8055230288836847\n"
     ]
    }
   ],
   "source": [
    "print(\"accuracy :\",  accuracy_score( desa_pred_test.true,desa_pred_test.pred_lab))\n",
    "print(\"balanced_accuracy_score :\",  balanced_accuracy_score( desa_pred_test.true,desa_pred_test.pred_lab))\n",
    "print(\"precision :\",  precision_score( desa_pred_test.true,desa_pred_test.pred_lab))\n",
    "print(\"recall :\",  recall_score( desa_pred_test.true,desa_pred_test.pred_lab))\n",
    "print(\"f1 :\",  f1_score( desa_pred_test.true,desa_pred_test.pred_lab))\n",
    "print(\"rocauc :\",  roc_auc_score( desa_pred_test.true,desa_pred_test.pred_lab))"
   ]
  },
  {
   "cell_type": "code",
   "execution_count": 156,
   "id": "a12028b4-ed43-4a99-a7a3-4f83dd31b6f3",
   "metadata": {},
   "outputs": [],
   "source": [
    "accuracy : 0.8487394957983193\n",
    "balanced_accuracy_score : 0.8007416081186574\n",
    "precision : 0.8820861678004536\n",
    "recall : 0.9110070257611241\n",
    "f1 : 0.8963133640552996\n",
    "rocauc : 0.8007416081186572"
   ]
  },
  {
   "cell_type": "markdown",
   "id": "1460b95b-2b50-40e2-91c3-421e84c3672d",
   "metadata": {},
   "source": [
    "### Resnet"
   ]
  },
  {
   "cell_type": "code",
   "execution_count": 172,
   "id": "c431ce4b-372b-4616-9af3-6b8be80b5ea5",
   "metadata": {},
   "outputs": [],
   "source": [
    "learn_rs = cnn_learner(dls, resnet50, metrics=metrics) "
   ]
  },
  {
   "cell_type": "code",
   "execution_count": 173,
   "id": "d954b279-32c7-4464-9ab4-0ea2a0c83756",
   "metadata": {},
   "outputs": [
    {
     "data": {
      "text/html": [
       "<table border=\"1\" class=\"dataframe\">\n",
       "  <thead>\n",
       "    <tr style=\"text-align: left;\">\n",
       "      <th>epoch</th>\n",
       "      <th>train_loss</th>\n",
       "      <th>valid_loss</th>\n",
       "      <th>accuracy</th>\n",
       "      <th>balanced_accuracy_score</th>\n",
       "      <th>precision_score</th>\n",
       "      <th>recall_score</th>\n",
       "      <th>f1_score</th>\n",
       "      <th>roc_auc_score</th>\n",
       "      <th>time</th>\n",
       "    </tr>\n",
       "  </thead>\n",
       "  <tbody>\n",
       "    <tr>\n",
       "      <td>0</td>\n",
       "      <td>0.379731</td>\n",
       "      <td>0.358749</td>\n",
       "      <td>0.830982</td>\n",
       "      <td>0.683394</td>\n",
       "      <td>0.753073</td>\n",
       "      <td>0.683394</td>\n",
       "      <td>0.706605</td>\n",
       "      <td>0.861907</td>\n",
       "      <td>07:21</td>\n",
       "    </tr>\n",
       "    <tr>\n",
       "      <td>1</td>\n",
       "      <td>0.361218</td>\n",
       "      <td>0.348492</td>\n",
       "      <td>0.834471</td>\n",
       "      <td>0.660407</td>\n",
       "      <td>0.777448</td>\n",
       "      <td>0.660407</td>\n",
       "      <td>0.689497</td>\n",
       "      <td>0.871567</td>\n",
       "      <td>07:22</td>\n",
       "    </tr>\n",
       "    <tr>\n",
       "      <td>2</td>\n",
       "      <td>0.339828</td>\n",
       "      <td>0.344957</td>\n",
       "      <td>0.835684</td>\n",
       "      <td>0.717415</td>\n",
       "      <td>0.754995</td>\n",
       "      <td>0.717415</td>\n",
       "      <td>0.732862</td>\n",
       "      <td>0.873867</td>\n",
       "      <td>07:20</td>\n",
       "    </tr>\n",
       "  </tbody>\n",
       "</table>"
      ],
      "text/plain": [
       "<IPython.core.display.HTML object>"
      ]
     },
     "metadata": {},
     "output_type": "display_data"
    }
   ],
   "source": [
    "learn_rs.fit_one_cycle(3)"
   ]
  },
  {
   "cell_type": "code",
   "execution_count": 174,
   "id": "07e6c62e-4191-4644-b67d-93f4f906f577",
   "metadata": {},
   "outputs": [],
   "source": [
    "learn_rs.unfreeze()"
   ]
  },
  {
   "cell_type": "code",
   "execution_count": 175,
   "id": "84155c12-95b7-4883-8e0a-f1d54a4797c9",
   "metadata": {},
   "outputs": [
    {
     "data": {
      "text/html": [
       "<table border=\"1\" class=\"dataframe\">\n",
       "  <thead>\n",
       "    <tr style=\"text-align: left;\">\n",
       "      <th>epoch</th>\n",
       "      <th>train_loss</th>\n",
       "      <th>valid_loss</th>\n",
       "      <th>accuracy</th>\n",
       "      <th>balanced_accuracy_score</th>\n",
       "      <th>precision_score</th>\n",
       "      <th>recall_score</th>\n",
       "      <th>f1_score</th>\n",
       "      <th>roc_auc_score</th>\n",
       "      <th>time</th>\n",
       "    </tr>\n",
       "  </thead>\n",
       "  <tbody>\n",
       "    <tr>\n",
       "      <td>0</td>\n",
       "      <td>0.383621</td>\n",
       "      <td>0.375590</td>\n",
       "      <td>0.820163</td>\n",
       "      <td>0.602036</td>\n",
       "      <td>0.776735</td>\n",
       "      <td>0.602036</td>\n",
       "      <td>0.620649</td>\n",
       "      <td>0.860725</td>\n",
       "      <td>09:13</td>\n",
       "    </tr>\n",
       "    <tr>\n",
       "      <td>1</td>\n",
       "      <td>0.356597</td>\n",
       "      <td>0.360762</td>\n",
       "      <td>0.826584</td>\n",
       "      <td>0.729756</td>\n",
       "      <td>0.737908</td>\n",
       "      <td>0.729756</td>\n",
       "      <td>0.733657</td>\n",
       "      <td>0.865452</td>\n",
       "      <td>09:11</td>\n",
       "    </tr>\n",
       "    <tr>\n",
       "      <td>2</td>\n",
       "      <td>0.363970</td>\n",
       "      <td>0.346920</td>\n",
       "      <td>0.832600</td>\n",
       "      <td>0.693465</td>\n",
       "      <td>0.753864</td>\n",
       "      <td>0.693465</td>\n",
       "      <td>0.714979</td>\n",
       "      <td>0.870789</td>\n",
       "      <td>09:07</td>\n",
       "    </tr>\n",
       "    <tr>\n",
       "      <td>3</td>\n",
       "      <td>0.357632</td>\n",
       "      <td>0.341392</td>\n",
       "      <td>0.836645</td>\n",
       "      <td>0.699660</td>\n",
       "      <td>0.761846</td>\n",
       "      <td>0.699660</td>\n",
       "      <td>0.721927</td>\n",
       "      <td>0.875899</td>\n",
       "      <td>09:08</td>\n",
       "    </tr>\n",
       "    <tr>\n",
       "      <td>4</td>\n",
       "      <td>0.351612</td>\n",
       "      <td>0.339818</td>\n",
       "      <td>0.837707</td>\n",
       "      <td>0.701041</td>\n",
       "      <td>0.764029</td>\n",
       "      <td>0.701041</td>\n",
       "      <td>0.723582</td>\n",
       "      <td>0.876686</td>\n",
       "      <td>09:09</td>\n",
       "    </tr>\n",
       "  </tbody>\n",
       "</table>"
      ],
      "text/plain": [
       "<IPython.core.display.HTML object>"
      ]
     },
     "metadata": {},
     "output_type": "display_data"
    }
   ],
   "source": [
    "learn_rs.fit_one_cycle(5)"
   ]
  },
  {
   "cell_type": "code",
   "execution_count": 176,
   "id": "d8e90b49-d365-4716-b7db-bf37c1c3cad4",
   "metadata": {},
   "outputs": [],
   "source": [
    "learn_rs.export('C:/Users/jwst2/Python/tesis/models/19042022 R011.pkl')"
   ]
  },
  {
   "cell_type": "code",
   "execution_count": 177,
   "id": "d078c146-cdf1-4e15-9779-0c5a348dae3a",
   "metadata": {},
   "outputs": [],
   "source": [
    "idx_train = []\n",
    "for i in dls.train.items:\n",
    "    idx_train.append(str(i)[-18:-4])\n",
    "true_label = []\n",
    "for i in dls.train.items:\n",
    "    if(\"urban\" in str(i)) :\n",
    "        true_label.append(1)\n",
    "    else :\n",
    "        true_label.append(0)"
   ]
  },
  {
   "cell_type": "code",
   "execution_count": 178,
   "id": "3e28cb4e-d7e3-4a81-bcc5-619fb44db83a",
   "metadata": {},
   "outputs": [
    {
     "data": {
      "text/html": [],
      "text/plain": [
       "<IPython.core.display.HTML object>"
      ]
     },
     "metadata": {},
     "output_type": "display_data"
    }
   ],
   "source": [
    "preds,_ = learn_rs.get_preds(ds_idx  = 0)\n",
    "result_train = preds.numpy()\n",
    "new_train = pd.DataFrame(result_train)"
   ]
  },
  {
   "cell_type": "code",
   "execution_count": 179,
   "id": "20f99e2d-a6eb-413d-8382-d652365497b3",
   "metadata": {},
   "outputs": [
    {
     "data": {
      "text/html": [
       "<div>\n",
       "<style scoped>\n",
       "    .dataframe tbody tr th:only-of-type {\n",
       "        vertical-align: middle;\n",
       "    }\n",
       "\n",
       "    .dataframe tbody tr th {\n",
       "        vertical-align: top;\n",
       "    }\n",
       "\n",
       "    .dataframe thead th {\n",
       "        text-align: right;\n",
       "    }\n",
       "</style>\n",
       "<table border=\"1\" class=\"dataframe\">\n",
       "  <thead>\n",
       "    <tr style=\"text-align: right;\">\n",
       "      <th></th>\n",
       "      <th>0</th>\n",
       "      <th>1</th>\n",
       "      <th>idsls</th>\n",
       "      <th>stat</th>\n",
       "      <th>iddesa</th>\n",
       "    </tr>\n",
       "  </thead>\n",
       "  <tbody>\n",
       "    <tr>\n",
       "      <th>0</th>\n",
       "      <td>0.127562</td>\n",
       "      <td>0.872438</td>\n",
       "      <td>32092200040011</td>\n",
       "      <td>1.0</td>\n",
       "      <td>3209220004</td>\n",
       "    </tr>\n",
       "    <tr>\n",
       "      <th>1</th>\n",
       "      <td>0.801758</td>\n",
       "      <td>0.198242</td>\n",
       "      <td>32180100020006</td>\n",
       "      <td>0.0</td>\n",
       "      <td>3218010002</td>\n",
       "    </tr>\n",
       "    <tr>\n",
       "      <th>2</th>\n",
       "      <td>0.007534</td>\n",
       "      <td>0.992466</td>\n",
       "      <td>32730900010054</td>\n",
       "      <td>1.0</td>\n",
       "      <td>3273090001</td>\n",
       "    </tr>\n",
       "    <tr>\n",
       "      <th>3</th>\n",
       "      <td>0.005440</td>\n",
       "      <td>0.994560</td>\n",
       "      <td>32013000110018</td>\n",
       "      <td>1.0</td>\n",
       "      <td>3201300011</td>\n",
       "    </tr>\n",
       "    <tr>\n",
       "      <th>4</th>\n",
       "      <td>0.353380</td>\n",
       "      <td>0.646620</td>\n",
       "      <td>32053100190020</td>\n",
       "      <td>1.0</td>\n",
       "      <td>3205310019</td>\n",
       "    </tr>\n",
       "  </tbody>\n",
       "</table>\n",
       "</div>"
      ],
      "text/plain": [
       "          0         1           idsls  stat      iddesa\n",
       "0  0.127562  0.872438  32092200040011   1.0  3209220004\n",
       "1  0.801758  0.198242  32180100020006   0.0  3218010002\n",
       "2  0.007534  0.992466  32730900010054   1.0  3273090001\n",
       "3  0.005440  0.994560  32013000110018   1.0  3201300011\n",
       "4  0.353380  0.646620  32053100190020   1.0  3205310019"
      ]
     },
     "execution_count": 179,
     "metadata": {},
     "output_type": "execute_result"
    }
   ],
   "source": [
    "df = new_train\n",
    "df[\"idsls\"] = idx_train \n",
    "df[\"stat\"] = round(df[1])\n",
    "df[\"iddesa\"] = df.idsls.str[:10]\n",
    "df.head()"
   ]
  },
  {
   "cell_type": "code",
   "execution_count": 180,
   "id": "38f2cd45-f1f2-45e2-813f-7922c5cbd351",
   "metadata": {},
   "outputs": [
    {
     "data": {
      "text/plain": [
       "1.0    151153\n",
       "0.0     26864\n",
       "Name: stat, dtype: int64"
      ]
     },
     "execution_count": 180,
     "metadata": {},
     "output_type": "execute_result"
    }
   ],
   "source": [
    "pd.value_counts(df.stat)"
   ]
  },
  {
   "cell_type": "code",
   "execution_count": 181,
   "id": "7c92d325-7b01-4f17-a177-ee6d728fe42a",
   "metadata": {},
   "outputs": [],
   "source": [
    "df[\"true_lab\"] = true_label"
   ]
  },
  {
   "cell_type": "code",
   "execution_count": 182,
   "id": "b0b32911-f8d2-48ef-99a3-5a97520bfd33",
   "metadata": {},
   "outputs": [
    {
     "data": {
      "text/plain": [
       "1    140140\n",
       "0     37877\n",
       "Name: true_lab, dtype: int64"
      ]
     },
     "execution_count": 182,
     "metadata": {},
     "output_type": "execute_result"
    }
   ],
   "source": [
    "pd.value_counts(df.true_lab)"
   ]
  },
  {
   "cell_type": "code",
   "execution_count": 183,
   "id": "5c7ff018-7f0a-4466-8bb6-1d75325f2f9d",
   "metadata": {},
   "outputs": [
    {
     "data": {
      "text/plain": [
       "0.8391670458439362"
      ]
     },
     "execution_count": 183,
     "metadata": {},
     "output_type": "execute_result"
    }
   ],
   "source": [
    "accuracy_score(df.stat.apply(int),df.true_lab.apply(int))"
   ]
  },
  {
   "cell_type": "code",
   "execution_count": 184,
   "id": "3dca71a1-630b-460c-8931-7dfbd34a11a7",
   "metadata": {},
   "outputs": [
    {
     "data": {
      "text/html": [
       "<div>\n",
       "<style scoped>\n",
       "    .dataframe tbody tr th:only-of-type {\n",
       "        vertical-align: middle;\n",
       "    }\n",
       "\n",
       "    .dataframe tbody tr th {\n",
       "        vertical-align: top;\n",
       "    }\n",
       "\n",
       "    .dataframe thead th {\n",
       "        text-align: right;\n",
       "    }\n",
       "</style>\n",
       "<table border=\"1\" class=\"dataframe\">\n",
       "  <thead>\n",
       "    <tr style=\"text-align: right;\">\n",
       "      <th></th>\n",
       "      <th>0</th>\n",
       "      <th>1</th>\n",
       "      <th>idsls</th>\n",
       "      <th>stat</th>\n",
       "      <th>iddesa</th>\n",
       "      <th>true_lab</th>\n",
       "    </tr>\n",
       "  </thead>\n",
       "  <tbody>\n",
       "    <tr>\n",
       "      <th>0</th>\n",
       "      <td>0.127562</td>\n",
       "      <td>0.872438</td>\n",
       "      <td>32092200040011</td>\n",
       "      <td>1.0</td>\n",
       "      <td>3209220004</td>\n",
       "      <td>1</td>\n",
       "    </tr>\n",
       "    <tr>\n",
       "      <th>1</th>\n",
       "      <td>0.801758</td>\n",
       "      <td>0.198242</td>\n",
       "      <td>32180100020006</td>\n",
       "      <td>0.0</td>\n",
       "      <td>3218010002</td>\n",
       "      <td>0</td>\n",
       "    </tr>\n",
       "    <tr>\n",
       "      <th>2</th>\n",
       "      <td>0.007534</td>\n",
       "      <td>0.992466</td>\n",
       "      <td>32730900010054</td>\n",
       "      <td>1.0</td>\n",
       "      <td>3273090001</td>\n",
       "      <td>1</td>\n",
       "    </tr>\n",
       "    <tr>\n",
       "      <th>3</th>\n",
       "      <td>0.005440</td>\n",
       "      <td>0.994560</td>\n",
       "      <td>32013000110018</td>\n",
       "      <td>1.0</td>\n",
       "      <td>3201300011</td>\n",
       "      <td>1</td>\n",
       "    </tr>\n",
       "    <tr>\n",
       "      <th>4</th>\n",
       "      <td>0.353380</td>\n",
       "      <td>0.646620</td>\n",
       "      <td>32053100190020</td>\n",
       "      <td>1.0</td>\n",
       "      <td>3205310019</td>\n",
       "      <td>0</td>\n",
       "    </tr>\n",
       "  </tbody>\n",
       "</table>\n",
       "</div>"
      ],
      "text/plain": [
       "          0         1           idsls  stat      iddesa  true_lab\n",
       "0  0.127562  0.872438  32092200040011   1.0  3209220004         1\n",
       "1  0.801758  0.198242  32180100020006   0.0  3218010002         0\n",
       "2  0.007534  0.992466  32730900010054   1.0  3273090001         1\n",
       "3  0.005440  0.994560  32013000110018   1.0  3201300011         1\n",
       "4  0.353380  0.646620  32053100190020   1.0  3205310019         0"
      ]
     },
     "execution_count": 184,
     "metadata": {},
     "output_type": "execute_result"
    }
   ],
   "source": [
    "df.head()"
   ]
  },
  {
   "cell_type": "code",
   "execution_count": 185,
   "id": "affbca92-8050-4123-a970-3a73af7c58d8",
   "metadata": {},
   "outputs": [],
   "source": [
    "desa_pred = df.groupby('iddesa').agg({'stat': ['mean'], 'true_lab': 'mean'})"
   ]
  },
  {
   "cell_type": "code",
   "execution_count": 186,
   "id": "350113ec-71bb-4833-9265-97f623769ad3",
   "metadata": {},
   "outputs": [],
   "source": [
    "desa_pred.columns = [\"pred\",\"true\"]"
   ]
  },
  {
   "cell_type": "code",
   "execution_count": 187,
   "id": "8f961ce6-462c-4329-aab7-b4e85855c565",
   "metadata": {},
   "outputs": [
    {
     "data": {
      "text/plain": [
       "1.0    151153\n",
       "0.0     26864\n",
       "Name: stat, dtype: int64"
      ]
     },
     "execution_count": 187,
     "metadata": {},
     "output_type": "execute_result"
    }
   ],
   "source": [
    "pd.value_counts(df.stat)"
   ]
  },
  {
   "cell_type": "code",
   "execution_count": 188,
   "id": "a7b68879-13b3-415e-b696-01c93222128f",
   "metadata": {},
   "outputs": [
    {
     "name": "stderr",
     "output_type": "stream",
     "text": [
      "C:\\Users\\jwst2\\AppData\\Local\\Temp/ipykernel_4072/935834860.py:4: SettingWithCopyWarning: \n",
      "A value is trying to be set on a copy of a slice from a DataFrame\n",
      "\n",
      "See the caveats in the documentation: https://pandas.pydata.org/pandas-docs/stable/user_guide/indexing.html#returning-a-view-versus-a-copy\n",
      "  desa_pred[\"label\"+str(value)][desa_pred.pred > value] = 1\n"
     ]
    }
   ],
   "source": [
    "for i in np.arange(0.1, 0.95, 0.025):\n",
    "    value = round(i,2)\n",
    "    desa_pred[\"label\"+str(value)] = 0\n",
    "    desa_pred[\"label\"+str(value)][desa_pred.pred > value] = 1"
   ]
  },
  {
   "cell_type": "code",
   "execution_count": 189,
   "id": "9f38fc2d-b2e4-4d21-ab21-96aa6da2ff5a",
   "metadata": {},
   "outputs": [
    {
     "data": {
      "text/html": [
       "<div>\n",
       "<style scoped>\n",
       "    .dataframe tbody tr th:only-of-type {\n",
       "        vertical-align: middle;\n",
       "    }\n",
       "\n",
       "    .dataframe tbody tr th {\n",
       "        vertical-align: top;\n",
       "    }\n",
       "\n",
       "    .dataframe thead th {\n",
       "        text-align: right;\n",
       "    }\n",
       "</style>\n",
       "<table border=\"1\" class=\"dataframe\">\n",
       "  <thead>\n",
       "    <tr style=\"text-align: right;\">\n",
       "      <th></th>\n",
       "      <th>pred</th>\n",
       "      <th>true</th>\n",
       "      <th>label0.1</th>\n",
       "      <th>label0.12</th>\n",
       "      <th>label0.15</th>\n",
       "      <th>label0.18</th>\n",
       "      <th>label0.2</th>\n",
       "      <th>label0.22</th>\n",
       "      <th>label0.25</th>\n",
       "      <th>label0.27</th>\n",
       "      <th>...</th>\n",
       "      <th>label0.7</th>\n",
       "      <th>label0.72</th>\n",
       "      <th>label0.75</th>\n",
       "      <th>label0.77</th>\n",
       "      <th>label0.8</th>\n",
       "      <th>label0.82</th>\n",
       "      <th>label0.85</th>\n",
       "      <th>label0.87</th>\n",
       "      <th>label0.9</th>\n",
       "      <th>label0.92</th>\n",
       "    </tr>\n",
       "    <tr>\n",
       "      <th>iddesa</th>\n",
       "      <th></th>\n",
       "      <th></th>\n",
       "      <th></th>\n",
       "      <th></th>\n",
       "      <th></th>\n",
       "      <th></th>\n",
       "      <th></th>\n",
       "      <th></th>\n",
       "      <th></th>\n",
       "      <th></th>\n",
       "      <th></th>\n",
       "      <th></th>\n",
       "      <th></th>\n",
       "      <th></th>\n",
       "      <th></th>\n",
       "      <th></th>\n",
       "      <th></th>\n",
       "      <th></th>\n",
       "      <th></th>\n",
       "      <th></th>\n",
       "      <th></th>\n",
       "    </tr>\n",
       "  </thead>\n",
       "  <tbody>\n",
       "    <tr>\n",
       "      <th>3201010001</th>\n",
       "      <td>0.074074</td>\n",
       "      <td>0.0</td>\n",
       "      <td>0</td>\n",
       "      <td>0</td>\n",
       "      <td>0</td>\n",
       "      <td>0</td>\n",
       "      <td>0</td>\n",
       "      <td>0</td>\n",
       "      <td>0</td>\n",
       "      <td>0</td>\n",
       "      <td>...</td>\n",
       "      <td>0</td>\n",
       "      <td>0</td>\n",
       "      <td>0</td>\n",
       "      <td>0</td>\n",
       "      <td>0</td>\n",
       "      <td>0</td>\n",
       "      <td>0</td>\n",
       "      <td>0</td>\n",
       "      <td>0</td>\n",
       "      <td>0</td>\n",
       "    </tr>\n",
       "    <tr>\n",
       "      <th>3201010002</th>\n",
       "      <td>0.595745</td>\n",
       "      <td>0.0</td>\n",
       "      <td>1</td>\n",
       "      <td>1</td>\n",
       "      <td>1</td>\n",
       "      <td>1</td>\n",
       "      <td>1</td>\n",
       "      <td>1</td>\n",
       "      <td>1</td>\n",
       "      <td>1</td>\n",
       "      <td>...</td>\n",
       "      <td>0</td>\n",
       "      <td>0</td>\n",
       "      <td>0</td>\n",
       "      <td>0</td>\n",
       "      <td>0</td>\n",
       "      <td>0</td>\n",
       "      <td>0</td>\n",
       "      <td>0</td>\n",
       "      <td>0</td>\n",
       "      <td>0</td>\n",
       "    </tr>\n",
       "    <tr>\n",
       "      <th>3201010003</th>\n",
       "      <td>0.609756</td>\n",
       "      <td>1.0</td>\n",
       "      <td>1</td>\n",
       "      <td>1</td>\n",
       "      <td>1</td>\n",
       "      <td>1</td>\n",
       "      <td>1</td>\n",
       "      <td>1</td>\n",
       "      <td>1</td>\n",
       "      <td>1</td>\n",
       "      <td>...</td>\n",
       "      <td>0</td>\n",
       "      <td>0</td>\n",
       "      <td>0</td>\n",
       "      <td>0</td>\n",
       "      <td>0</td>\n",
       "      <td>0</td>\n",
       "      <td>0</td>\n",
       "      <td>0</td>\n",
       "      <td>0</td>\n",
       "      <td>0</td>\n",
       "    </tr>\n",
       "    <tr>\n",
       "      <th>3201010004</th>\n",
       "      <td>0.823529</td>\n",
       "      <td>0.0</td>\n",
       "      <td>1</td>\n",
       "      <td>1</td>\n",
       "      <td>1</td>\n",
       "      <td>1</td>\n",
       "      <td>1</td>\n",
       "      <td>1</td>\n",
       "      <td>1</td>\n",
       "      <td>1</td>\n",
       "      <td>...</td>\n",
       "      <td>1</td>\n",
       "      <td>1</td>\n",
       "      <td>1</td>\n",
       "      <td>1</td>\n",
       "      <td>1</td>\n",
       "      <td>1</td>\n",
       "      <td>0</td>\n",
       "      <td>0</td>\n",
       "      <td>0</td>\n",
       "      <td>0</td>\n",
       "    </tr>\n",
       "    <tr>\n",
       "      <th>3201010005</th>\n",
       "      <td>0.687500</td>\n",
       "      <td>1.0</td>\n",
       "      <td>1</td>\n",
       "      <td>1</td>\n",
       "      <td>1</td>\n",
       "      <td>1</td>\n",
       "      <td>1</td>\n",
       "      <td>1</td>\n",
       "      <td>1</td>\n",
       "      <td>1</td>\n",
       "      <td>...</td>\n",
       "      <td>0</td>\n",
       "      <td>0</td>\n",
       "      <td>0</td>\n",
       "      <td>0</td>\n",
       "      <td>0</td>\n",
       "      <td>0</td>\n",
       "      <td>0</td>\n",
       "      <td>0</td>\n",
       "      <td>0</td>\n",
       "      <td>0</td>\n",
       "    </tr>\n",
       "  </tbody>\n",
       "</table>\n",
       "<p>5 rows × 36 columns</p>\n",
       "</div>"
      ],
      "text/plain": [
       "                pred  true  label0.1  label0.12  label0.15  label0.18  \\\n",
       "iddesa                                                                  \n",
       "3201010001  0.074074   0.0         0          0          0          0   \n",
       "3201010002  0.595745   0.0         1          1          1          1   \n",
       "3201010003  0.609756   1.0         1          1          1          1   \n",
       "3201010004  0.823529   0.0         1          1          1          1   \n",
       "3201010005  0.687500   1.0         1          1          1          1   \n",
       "\n",
       "            label0.2  label0.22  label0.25  label0.27  ...  label0.7  \\\n",
       "iddesa                                                 ...             \n",
       "3201010001         0          0          0          0  ...         0   \n",
       "3201010002         1          1          1          1  ...         0   \n",
       "3201010003         1          1          1          1  ...         0   \n",
       "3201010004         1          1          1          1  ...         1   \n",
       "3201010005         1          1          1          1  ...         0   \n",
       "\n",
       "            label0.72  label0.75  label0.77  label0.8  label0.82  label0.85  \\\n",
       "iddesa                                                                        \n",
       "3201010001          0          0          0         0          0          0   \n",
       "3201010002          0          0          0         0          0          0   \n",
       "3201010003          0          0          0         0          0          0   \n",
       "3201010004          1          1          1         1          1          0   \n",
       "3201010005          0          0          0         0          0          0   \n",
       "\n",
       "            label0.87  label0.9  label0.92  \n",
       "iddesa                                      \n",
       "3201010001          0         0          0  \n",
       "3201010002          0         0          0  \n",
       "3201010003          0         0          0  \n",
       "3201010004          0         0          0  \n",
       "3201010005          0         0          0  \n",
       "\n",
       "[5 rows x 36 columns]"
      ]
     },
     "execution_count": 189,
     "metadata": {},
     "output_type": "execute_result"
    }
   ],
   "source": [
    "desa_pred.head()"
   ]
  },
  {
   "cell_type": "code",
   "execution_count": 190,
   "id": "0af817bc-2bed-425f-98ee-224f2ae8990a",
   "metadata": {},
   "outputs": [
    {
     "name": "stdout",
     "output_type": "stream",
     "text": [
      "result label0.1\n",
      "accuracy : 0.7579261469600895\n",
      "precision : 0.7508785630613042\n",
      "result label0.12\n",
      "accuracy : 0.7599776202909362\n",
      "precision : 0.7528904565941603\n",
      "result label0.15\n",
      "accuracy : 0.7653860499813503\n",
      "precision : 0.7580071174377224\n",
      "result label0.18\n",
      "accuracy : 0.7702349869451697\n",
      "precision : 0.7626544440015942\n",
      "result label0.2\n",
      "accuracy : 0.7743379336068631\n",
      "precision : 0.766653290529695\n",
      "result label0.22\n",
      "accuracy : 0.777508392390899\n",
      "precision : 0.7699293642785066\n",
      "result label0.25\n",
      "accuracy : 0.7842223051100335\n",
      "precision : 0.7765762089369517\n",
      "result label0.27\n",
      "accuracy : 0.7864602760164118\n",
      "precision : 0.7790530846484935\n",
      "result label0.3\n",
      "accuracy : 0.7914957105557627\n",
      "precision : 0.7849150435142975\n",
      "result label0.32\n",
      "accuracy : 0.7942931741887356\n",
      "precision : 0.7879608414913559\n",
      "result label0.35\n",
      "accuracy : 0.8004475941812756\n",
      "precision : 0.7945263157894736\n",
      "result label0.37\n",
      "accuracy : 0.8026855650876539\n",
      "precision : 0.7983014861995754\n",
      "result label0.4\n",
      "accuracy : 0.8052965311450951\n",
      "precision : 0.8024850042844901\n",
      "result label0.42\n",
      "accuracy : 0.8066020141738157\n",
      "precision : 0.8043431520103204\n",
      "result label0.45\n",
      "accuracy : 0.8105184632599777\n",
      "precision : 0.8093275488069415\n",
      "result label0.47\n",
      "accuracy : 0.8138754196195449\n",
      "precision : 0.8137297770004372\n",
      "result label0.5\n",
      "accuracy : 0.8187243565833644\n",
      "precision : 0.8217777777777778\n",
      "result label0.52\n",
      "accuracy : 0.8187243565833644\n",
      "precision : 0.8226381461675579\n",
      "result label0.55\n",
      "accuracy : 0.8226408056695262\n",
      "precision : 0.8293068412734251\n",
      "result label0.57\n",
      "accuracy : 0.8239462886982469\n",
      "precision : 0.8319709355131698\n",
      "result label0.6\n",
      "accuracy : 0.8278627377844088\n",
      "precision : 0.8398338333717978\n",
      "result label0.62\n",
      "accuracy : 0.8265572547556882\n",
      "precision : 0.8414690841469085\n",
      "result label0.65\n",
      "accuracy : 0.8267437523312197\n",
      "precision : 0.8463351402309687\n",
      "result label0.67\n",
      "accuracy : 0.8263707571801566\n",
      "precision : 0.8490610886617542\n",
      "result label0.7\n",
      "accuracy : 0.8232002983961209\n",
      "precision : 0.851976856316297\n",
      "result label0.72\n",
      "accuracy : 0.8222678105184632\n",
      "precision : 0.8564441183663487\n",
      "result label0.75\n",
      "accuracy : 0.8237597911227154\n",
      "precision : 0.8651011741194105\n",
      "result label0.77\n",
      "accuracy : 0.8239462886982469\n",
      "precision : 0.8682619647355164\n",
      "result label0.8\n",
      "accuracy : 0.819656844461022\n",
      "precision : 0.8782268578878748\n",
      "result label0.82\n",
      "accuracy : 0.8161133905259231\n",
      "precision : 0.8822281167108753\n",
      "result label0.85\n",
      "accuracy : 0.8135024244684819\n",
      "precision : 0.8948237885462555\n",
      "result label0.87\n",
      "accuracy : 0.8084669899291309\n",
      "precision : 0.9018387553041018\n",
      "result label0.9\n",
      "accuracy : 0.7935471838866095\n",
      "precision : 0.9139430284857571\n",
      "result label0.92\n",
      "accuracy : 0.7791868705706826\n",
      "precision : 0.9196372732958099\n"
     ]
    }
   ],
   "source": [
    "for j in range(2,36):\n",
    "    print(\"result\", desa_pred.columns[j])\n",
    "    print(\"accuracy :\",  accuracy_score( desa_pred.true,desa_pred.iloc[:,[j]]))\n",
    "    print(\"precision :\",  precision_score( desa_pred.true,desa_pred.iloc[:,[j]]))"
   ]
  },
  {
   "cell_type": "markdown",
   "id": "decbfbdb-edf1-4d79-8a94-f2218736d743",
   "metadata": {},
   "source": [
    "### Test result resnet"
   ]
  },
  {
   "cell_type": "code",
   "execution_count": 193,
   "id": "8e08d29c-1d52-4827-a1d6-9ba55896590a",
   "metadata": {},
   "outputs": [],
   "source": [
    "path_pred = Path.cwd() / (\"C:/Users/jwst2/Python/tesis/jpg/UR/test sls 10m ES\")\n",
    "test_files = [fn for fn in sorted((path_pred).glob('**/*')) if fn.is_file()]"
   ]
  },
  {
   "cell_type": "code",
   "execution_count": 194,
   "id": "5d281420-8e44-4148-af77-1c018ccafce2",
   "metadata": {},
   "outputs": [],
   "source": [
    "test_dl = learn_rs.dls.test_dl(test_files)"
   ]
  },
  {
   "cell_type": "code",
   "execution_count": 195,
   "id": "ea4b07bd-530b-411f-a222-35f52c469ab8",
   "metadata": {},
   "outputs": [
    {
     "data": {
      "text/html": [],
      "text/plain": [
       "<IPython.core.display.HTML object>"
      ]
     },
     "metadata": {},
     "output_type": "display_data"
    }
   ],
   "source": [
    "preds,_ = learn_rs.get_preds(dl  =test_dl)"
   ]
  },
  {
   "cell_type": "code",
   "execution_count": 196,
   "id": "48789ee4-87ce-4b23-8687-8fa9bfa84ece",
   "metadata": {},
   "outputs": [],
   "source": [
    "idx_test = []\n",
    "for i in test_files:\n",
    "    idx_test.append(str(i)[-18:-4])\n",
    "true_label = []\n",
    "for i in test_files:\n",
    "    if(\"urban\" in str(i)) :\n",
    "        true_label.append(1)\n",
    "    else :\n",
    "        true_label.append(0)"
   ]
  },
  {
   "cell_type": "code",
   "execution_count": 197,
   "id": "add6308d-363b-4c70-a4cd-bdb803434f86",
   "metadata": {},
   "outputs": [],
   "source": [
    "test = pd.DataFrame(preds)"
   ]
  },
  {
   "cell_type": "code",
   "execution_count": 198,
   "id": "489d3638-b296-40d1-bb6f-21f38de589b4",
   "metadata": {},
   "outputs": [],
   "source": [
    "test[\"idsls\"] = idx_test\n",
    "test[\"true_lab\"] = true_label"
   ]
  },
  {
   "cell_type": "code",
   "execution_count": 199,
   "id": "9083ff1b-efa9-4d55-840e-77c133f2df6c",
   "metadata": {},
   "outputs": [],
   "source": [
    "test[\"iddesa\"] = test.idsls.str[:10]\n",
    "test[\"stat\"] = round(test[1])"
   ]
  },
  {
   "cell_type": "code",
   "execution_count": 200,
   "id": "93121c3f-71f8-485f-a447-0d0867b08e3b",
   "metadata": {},
   "outputs": [
    {
     "data": {
      "text/html": [
       "<div>\n",
       "<style scoped>\n",
       "    .dataframe tbody tr th:only-of-type {\n",
       "        vertical-align: middle;\n",
       "    }\n",
       "\n",
       "    .dataframe tbody tr th {\n",
       "        vertical-align: top;\n",
       "    }\n",
       "\n",
       "    .dataframe thead th {\n",
       "        text-align: right;\n",
       "    }\n",
       "</style>\n",
       "<table border=\"1\" class=\"dataframe\">\n",
       "  <thead>\n",
       "    <tr style=\"text-align: right;\">\n",
       "      <th></th>\n",
       "      <th>0</th>\n",
       "      <th>1</th>\n",
       "      <th>idsls</th>\n",
       "      <th>true_lab</th>\n",
       "      <th>iddesa</th>\n",
       "      <th>stat</th>\n",
       "    </tr>\n",
       "  </thead>\n",
       "  <tbody>\n",
       "    <tr>\n",
       "      <th>0</th>\n",
       "      <td>0.717912</td>\n",
       "      <td>0.282088</td>\n",
       "      <td>32011500010001</td>\n",
       "      <td>0</td>\n",
       "      <td>3201150001</td>\n",
       "      <td>0.0</td>\n",
       "    </tr>\n",
       "    <tr>\n",
       "      <th>1</th>\n",
       "      <td>0.680780</td>\n",
       "      <td>0.319220</td>\n",
       "      <td>32011500010002</td>\n",
       "      <td>0</td>\n",
       "      <td>3201150001</td>\n",
       "      <td>0.0</td>\n",
       "    </tr>\n",
       "    <tr>\n",
       "      <th>2</th>\n",
       "      <td>0.776745</td>\n",
       "      <td>0.223255</td>\n",
       "      <td>32011500010003</td>\n",
       "      <td>0</td>\n",
       "      <td>3201150001</td>\n",
       "      <td>0.0</td>\n",
       "    </tr>\n",
       "    <tr>\n",
       "      <th>3</th>\n",
       "      <td>0.741685</td>\n",
       "      <td>0.258315</td>\n",
       "      <td>32011500010004</td>\n",
       "      <td>0</td>\n",
       "      <td>3201150001</td>\n",
       "      <td>0.0</td>\n",
       "    </tr>\n",
       "    <tr>\n",
       "      <th>4</th>\n",
       "      <td>0.657950</td>\n",
       "      <td>0.342050</td>\n",
       "      <td>32011500010005</td>\n",
       "      <td>0</td>\n",
       "      <td>3201150001</td>\n",
       "      <td>0.0</td>\n",
       "    </tr>\n",
       "  </tbody>\n",
       "</table>\n",
       "</div>"
      ],
      "text/plain": [
       "          0         1           idsls  true_lab      iddesa  stat\n",
       "0  0.717912  0.282088  32011500010001         0  3201150001   0.0\n",
       "1  0.680780  0.319220  32011500010002         0  3201150001   0.0\n",
       "2  0.776745  0.223255  32011500010003         0  3201150001   0.0\n",
       "3  0.741685  0.258315  32011500010004         0  3201150001   0.0\n",
       "4  0.657950  0.342050  32011500010005         0  3201150001   0.0"
      ]
     },
     "execution_count": 200,
     "metadata": {},
     "output_type": "execute_result"
    }
   ],
   "source": [
    "test.head()"
   ]
  },
  {
   "cell_type": "code",
   "execution_count": 201,
   "id": "9d920fa3-0512-46b5-a646-e770b47fbadf",
   "metadata": {},
   "outputs": [],
   "source": [
    "desa_pred_test = test.groupby('iddesa').agg({'stat': ['mean'], 'true_lab': 'mean'})"
   ]
  },
  {
   "cell_type": "code",
   "execution_count": 202,
   "id": "09a74a67-13e4-4214-847d-bb8140d04f92",
   "metadata": {},
   "outputs": [],
   "source": [
    "desa_pred_test.columns = [\"pred\",\"true\"]"
   ]
  },
  {
   "cell_type": "code",
   "execution_count": 217,
   "id": "1c262931-209a-423a-9a95-f03963d89841",
   "metadata": {},
   "outputs": [
    {
     "name": "stderr",
     "output_type": "stream",
     "text": [
      "C:\\Users\\jwst2\\AppData\\Local\\Temp/ipykernel_4072/3903990358.py:2: SettingWithCopyWarning: \n",
      "A value is trying to be set on a copy of a slice from a DataFrame\n",
      "\n",
      "See the caveats in the documentation: https://pandas.pydata.org/pandas-docs/stable/user_guide/indexing.html#returning-a-view-versus-a-copy\n",
      "  desa_pred_test[\"pred_lab\"][desa_pred_test.pred > 0.81] = 1\n"
     ]
    }
   ],
   "source": [
    "desa_pred_test[\"pred_lab\"] = 0\n",
    "desa_pred_test[\"pred_lab\"][desa_pred_test.pred > 0.81] = 1"
   ]
  },
  {
   "cell_type": "code",
   "execution_count": 218,
   "id": "3fd55f55-62c5-493a-af20-32c852e32203",
   "metadata": {},
   "outputs": [
    {
     "name": "stdout",
     "output_type": "stream",
     "text": [
      "accuracy : 0.8403361344537815\n",
      "balanced_accuracy_score : 0.7948868071818891\n",
      "precision : 0.8807339449541285\n",
      "recall : 0.8992974238875878\n",
      "f1 : 0.8899188876013904\n",
      "rocauc : 0.7948868071818892\n"
     ]
    }
   ],
   "source": [
    "print(\"accuracy :\",  accuracy_score( desa_pred_test.true,desa_pred_test.pred_lab))\n",
    "print(\"balanced_accuracy_score :\",  balanced_accuracy_score( desa_pred_test.true,desa_pred_test.pred_lab))\n",
    "print(\"precision :\",  precision_score( desa_pred_test.true,desa_pred_test.pred_lab))\n",
    "print(\"recall :\",  recall_score( desa_pred_test.true,desa_pred_test.pred_lab))\n",
    "print(\"f1 :\",  f1_score( desa_pred_test.true,desa_pred_test.pred_lab))\n",
    "print(\"rocauc :\",  roc_auc_score( desa_pred_test.true,desa_pred_test.pred_lab))"
   ]
  },
  {
   "cell_type": "code",
   "execution_count": 156,
   "id": "2ec906e7-3916-481b-84c2-2a1b1cfb48aa",
   "metadata": {},
   "outputs": [],
   "source": [
    "accuracy : 0.8403361344537815\n",
    "balanced_accuracy_score : 0.7948868071818891\n",
    "precision : 0.8807339449541285\n",
    "recall : 0.8992974238875878\n",
    "f1 : 0.8899188876013904\n",
    "rocauc : 0.7948868071818892"
   ]
  },
  {
   "cell_type": "code",
   "execution_count": null,
   "id": "b5786b09-4165-4afd-895f-d16c48f3d4ec",
   "metadata": {},
   "outputs": [],
   "source": []
  }
 ],
 "metadata": {
  "kernelspec": {
   "display_name": "Python 3 (ipykernel)",
   "language": "python",
   "name": "python3"
  },
  "language_info": {
   "codemirror_mode": {
    "name": "ipython",
    "version": 3
   },
   "file_extension": ".py",
   "mimetype": "text/x-python",
   "name": "python",
   "nbconvert_exporter": "python",
   "pygments_lexer": "ipython3",
   "version": "3.9.7"
  }
 },
 "nbformat": 4,
 "nbformat_minor": 5
}
